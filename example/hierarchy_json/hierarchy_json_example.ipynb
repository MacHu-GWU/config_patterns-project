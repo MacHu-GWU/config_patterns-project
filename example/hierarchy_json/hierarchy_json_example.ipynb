{
 "cells": [
  {
   "cell_type": "markdown",
   "source": [
    "# Hierarchy Json Pattern for Config Management\n",
    "\n",
    "## What is Hierarchy JSON\n",
    "\n",
    "In object-oriented programming, the inheritance hierarchy is a pattern where child objects inherit attributes and methods from parent objects. Similarly, in configuration management, the global configuration often acts as the default value, allowing for the possibility of overriding specific values in environment-specific configurations. For example,if you want to manage the configuration of two servers, a development server and a production server, you may wish to set a global default memory allocation of 2GB. If the memory allocation is not specified on the development server, it will use the default value of 2GB; otherwise, it will use the defined value.\"\n",
    "\n",
    "``config_pattern`` provides a feature to declare your hierarchy JSON data for configuration efficiently and derive the final representation of the data."
   ],
   "metadata": {
    "collapsed": false
   }
  },
  {
   "cell_type": "code",
   "execution_count": 1,
   "outputs": [],
   "source": [
    "import json\n",
    "from rich import print as rprint\n",
    "\n",
    "def jprint(data: dict):\n",
    "    rprint(json.dumps(data, indent=4))"
   ],
   "metadata": {
    "collapsed": false,
    "ExecuteTime": {
     "start_time": "2023-05-31T00:11:58.414384Z",
     "end_time": "2023-05-31T00:11:58.421882Z"
    }
   }
  },
  {
   "cell_type": "markdown",
   "source": [
    "## Basic Example\n",
    "\n",
    "In the following example, there’s a meta field ``_shared`` in the root level of the config file. It is a powerful inheritance hierarchy mechanism to specify config values. The ``_shared`` field is a key value pairs of JSON path notation and it’s value. It set a global default memory allocation of 2GB.\n",
    "\n",
    "You can also use ``config_pattern.patterns.hierarchy.SHARED`` constant variable to replace ``\"_shared\"``.\n",
    "\n",
    "```python\n",
    "from config_patterns.patterns.hierarchy import SHARED\n",
    "\n",
    "config_raw = {\n",
    "    SHARED: {\n",
    "        \"*.memory\": 2\n",
    "    },\n",
    "    \"dev\": {\n",
    "    },\n",
    "    \"prod\": {\n",
    "        \"memory\": 8\n",
    "    }\n",
    "}\n",
    "```"
   ],
   "metadata": {
    "collapsed": false
   }
  },
  {
   "cell_type": "code",
   "execution_count": 2,
   "outputs": [
    {
     "name": "stdout",
     "output_type": "stream",
     "text": [
      "final config data:\n"
     ]
    },
    {
     "data": {
      "text/plain": "\u001B[1m{\u001B[0m\n    \u001B[32m\"dev\"\u001B[0m: \u001B[1m{\u001B[0m\n        \u001B[32m\"memory\"\u001B[0m: \u001B[1;36m2\u001B[0m\n    \u001B[1m}\u001B[0m,\n    \u001B[32m\"prod\"\u001B[0m: \u001B[1m{\u001B[0m\n        \u001B[32m\"memory\"\u001B[0m: \u001B[1;36m8\u001B[0m\n    \u001B[1m}\u001B[0m\n\u001B[1m}\u001B[0m\n",
      "text/html": "<pre style=\"white-space:pre;overflow-x:auto;line-height:normal;font-family:Menlo,'DejaVu Sans Mono',consolas,'Courier New',monospace\"><span style=\"font-weight: bold\">{</span>\n    <span style=\"color: #008000; text-decoration-color: #008000\">\"dev\"</span>: <span style=\"font-weight: bold\">{</span>\n        <span style=\"color: #008000; text-decoration-color: #008000\">\"memory\"</span>: <span style=\"color: #008080; text-decoration-color: #008080; font-weight: bold\">2</span>\n    <span style=\"font-weight: bold\">}</span>,\n    <span style=\"color: #008000; text-decoration-color: #008000\">\"prod\"</span>: <span style=\"font-weight: bold\">{</span>\n        <span style=\"color: #008000; text-decoration-color: #008000\">\"memory\"</span>: <span style=\"color: #008080; text-decoration-color: #008080; font-weight: bold\">8</span>\n    <span style=\"font-weight: bold\">}</span>\n<span style=\"font-weight: bold\">}</span>\n</pre>\n"
     },
     "metadata": {},
     "output_type": "display_data"
    }
   ],
   "source": [
    "from config_patterns.patterns.hierarchy import SHARED, apply_shared_value\n",
    "\n",
    "config_data = {\n",
    "    \"_shared\": {\n",
    "        \"*.memory\": 2\n",
    "    },\n",
    "    \"dev\": {\n",
    "    },\n",
    "    \"prod\": {\n",
    "        \"memory\": 8\n",
    "    }\n",
    "}\n",
    "apply_shared_value(config_data)\n",
    "print(\"final config data:\")\n",
    "jprint(config_data)"
   ],
   "metadata": {
    "collapsed": false,
    "ExecuteTime": {
     "start_time": "2023-05-31T00:11:58.419705Z",
     "end_time": "2023-05-31T00:11:58.457569Z"
    }
   }
  },
  {
   "cell_type": "markdown",
   "source": [
    "## JSON Path Notation Example\n",
    "\n",
    "``config_patterns`` library use a simplified version of [JSON Path notation](https://docs.oracle.com/cd/E60058_01/PDF/8.0.8.x/8.0.8.0.0/PMF_HTML/JsonPath_Expressions.htm). The JSON path travels from the same level of where the ``SHARED`` meta field is defined. The ``*`` notation matches all fields at the same level (Except the ``SHARED`` field). A ``.`` dot notation visits the child field of the current node."
   ],
   "metadata": {
    "collapsed": false
   }
  },
  {
   "cell_type": "code",
   "execution_count": 3,
   "outputs": [
    {
     "name": "stdout",
     "output_type": "stream",
     "text": [
      "final config data:\n"
     ]
    },
    {
     "data": {
      "text/plain": "\u001B[1m{\u001B[0m\n    \u001B[32m\"dev\"\u001B[0m: \u001B[1m{\u001B[0m\n        \u001B[32m\"contact\"\u001B[0m: \u001B[1m{\u001B[0m\n            \u001B[32m\"email\"\u001B[0m: \u001B[32m\"alice@email.com\"\u001B[0m\n        \u001B[1m}\u001B[0m,\n        \u001B[32m\"name\"\u001B[0m: \u001B[32m\"alice\"\u001B[0m\n    \u001B[1m}\u001B[0m,\n    \u001B[32m\"prod\"\u001B[0m: \u001B[1m{\u001B[0m\n        \u001B[32m\"name\"\u001B[0m: \u001B[32m\"bob\"\u001B[0m,\n        \u001B[32m\"contact\"\u001B[0m: \u001B[1m{\u001B[0m\n            \u001B[32m\"email\"\u001B[0m: \u001B[32m\"bob@email.com\"\u001B[0m\n        \u001B[1m}\u001B[0m\n    \u001B[1m}\u001B[0m\n\u001B[1m}\u001B[0m\n",
      "text/html": "<pre style=\"white-space:pre;overflow-x:auto;line-height:normal;font-family:Menlo,'DejaVu Sans Mono',consolas,'Courier New',monospace\"><span style=\"font-weight: bold\">{</span>\n    <span style=\"color: #008000; text-decoration-color: #008000\">\"dev\"</span>: <span style=\"font-weight: bold\">{</span>\n        <span style=\"color: #008000; text-decoration-color: #008000\">\"contact\"</span>: <span style=\"font-weight: bold\">{</span>\n            <span style=\"color: #008000; text-decoration-color: #008000\">\"email\"</span>: <span style=\"color: #008000; text-decoration-color: #008000\">\"alice@email.com\"</span>\n        <span style=\"font-weight: bold\">}</span>,\n        <span style=\"color: #008000; text-decoration-color: #008000\">\"name\"</span>: <span style=\"color: #008000; text-decoration-color: #008000\">\"alice\"</span>\n    <span style=\"font-weight: bold\">}</span>,\n    <span style=\"color: #008000; text-decoration-color: #008000\">\"prod\"</span>: <span style=\"font-weight: bold\">{</span>\n        <span style=\"color: #008000; text-decoration-color: #008000\">\"name\"</span>: <span style=\"color: #008000; text-decoration-color: #008000\">\"bob\"</span>,\n        <span style=\"color: #008000; text-decoration-color: #008000\">\"contact\"</span>: <span style=\"font-weight: bold\">{</span>\n            <span style=\"color: #008000; text-decoration-color: #008000\">\"email\"</span>: <span style=\"color: #008000; text-decoration-color: #008000\">\"bob@email.com\"</span>\n        <span style=\"font-weight: bold\">}</span>\n    <span style=\"font-weight: bold\">}</span>\n<span style=\"font-weight: bold\">}</span>\n</pre>\n"
     },
     "metadata": {},
     "output_type": "display_data"
    }
   ],
   "source": [
    "config_data = {\n",
    "    SHARED: {\n",
    "        \"*.name\": \"alice\",\n",
    "        \"*.contact.email\": \"alice@email.com\",\n",
    "    },\n",
    "    \"dev\": {\n",
    "        \"contact\": {},\n",
    "    },\n",
    "    \"prod\": {\n",
    "        \"name\": \"bob\",\n",
    "        \"contact\": {\n",
    "            \"email\": \"bob@email.com\"\n",
    "        },\n",
    "    },\n",
    "}\n",
    "apply_shared_value(config_data)\n",
    "print(\"final config data:\")\n",
    "jprint(config_data)"
   ],
   "metadata": {
    "collapsed": false,
    "ExecuteTime": {
     "start_time": "2023-05-31T00:11:58.459827Z",
     "end_time": "2023-05-31T00:11:58.463596Z"
    }
   }
  },
  {
   "cell_type": "markdown",
   "source": [
    "## Match a Field in A List of Objects\n",
    "\n",
    "Dot notation can also access the field in a list of object. In the following example, the ``.port`` in the ``*.databases.port`` JSON path represents the ``port`` field in the database object in ``*.databases`` field."
   ],
   "metadata": {
    "collapsed": false
   }
  },
  {
   "cell_type": "code",
   "execution_count": 4,
   "outputs": [
    {
     "name": "stdout",
     "output_type": "stream",
     "text": [
      "final config data:\n"
     ]
    },
    {
     "data": {
      "text/plain": "\u001B[1m{\u001B[0m\n    \u001B[32m\"dev\"\u001B[0m: \u001B[1m{\u001B[0m\n        \u001B[32m\"databases\"\u001B[0m: \u001B[1m[\u001B[0m\n            \u001B[1m{\u001B[0m\n                \u001B[32m\"host\"\u001B[0m: \u001B[32m\"db1.com\"\u001B[0m,\n                \u001B[32m\"port\"\u001B[0m: \u001B[1;36m5432\u001B[0m\n            \u001B[1m}\u001B[0m,\n            \u001B[1m{\u001B[0m\n                \u001B[32m\"host\"\u001B[0m: \u001B[32m\"db2.com\"\u001B[0m,\n                \u001B[32m\"port\"\u001B[0m: \u001B[1;36m5432\u001B[0m\n            \u001B[1m}\u001B[0m\n        \u001B[1m]\u001B[0m\n    \u001B[1m}\u001B[0m,\n    \u001B[32m\"prod\"\u001B[0m: \u001B[1m{\u001B[0m\n        \u001B[32m\"databases\"\u001B[0m: \u001B[1m[\u001B[0m\n            \u001B[1m{\u001B[0m\n                \u001B[32m\"host\"\u001B[0m: \u001B[32m\"db3.com\"\u001B[0m,\n                \u001B[32m\"port\"\u001B[0m: \u001B[1;36m5432\u001B[0m\n            \u001B[1m}\u001B[0m,\n            \u001B[1m{\u001B[0m\n                \u001B[32m\"host\"\u001B[0m: \u001B[32m\"db4.com\"\u001B[0m,\n                \u001B[32m\"port\"\u001B[0m: \u001B[1;36m5432\u001B[0m\n            \u001B[1m}\u001B[0m\n        \u001B[1m]\u001B[0m\n    \u001B[1m}\u001B[0m\n\u001B[1m}\u001B[0m\n",
      "text/html": "<pre style=\"white-space:pre;overflow-x:auto;line-height:normal;font-family:Menlo,'DejaVu Sans Mono',consolas,'Courier New',monospace\"><span style=\"font-weight: bold\">{</span>\n    <span style=\"color: #008000; text-decoration-color: #008000\">\"dev\"</span>: <span style=\"font-weight: bold\">{</span>\n        <span style=\"color: #008000; text-decoration-color: #008000\">\"databases\"</span>: <span style=\"font-weight: bold\">[</span>\n            <span style=\"font-weight: bold\">{</span>\n                <span style=\"color: #008000; text-decoration-color: #008000\">\"host\"</span>: <span style=\"color: #008000; text-decoration-color: #008000\">\"db1.com\"</span>,\n                <span style=\"color: #008000; text-decoration-color: #008000\">\"port\"</span>: <span style=\"color: #008080; text-decoration-color: #008080; font-weight: bold\">5432</span>\n            <span style=\"font-weight: bold\">}</span>,\n            <span style=\"font-weight: bold\">{</span>\n                <span style=\"color: #008000; text-decoration-color: #008000\">\"host\"</span>: <span style=\"color: #008000; text-decoration-color: #008000\">\"db2.com\"</span>,\n                <span style=\"color: #008000; text-decoration-color: #008000\">\"port\"</span>: <span style=\"color: #008080; text-decoration-color: #008080; font-weight: bold\">5432</span>\n            <span style=\"font-weight: bold\">}</span>\n        <span style=\"font-weight: bold\">]</span>\n    <span style=\"font-weight: bold\">}</span>,\n    <span style=\"color: #008000; text-decoration-color: #008000\">\"prod\"</span>: <span style=\"font-weight: bold\">{</span>\n        <span style=\"color: #008000; text-decoration-color: #008000\">\"databases\"</span>: <span style=\"font-weight: bold\">[</span>\n            <span style=\"font-weight: bold\">{</span>\n                <span style=\"color: #008000; text-decoration-color: #008000\">\"host\"</span>: <span style=\"color: #008000; text-decoration-color: #008000\">\"db3.com\"</span>,\n                <span style=\"color: #008000; text-decoration-color: #008000\">\"port\"</span>: <span style=\"color: #008080; text-decoration-color: #008080; font-weight: bold\">5432</span>\n            <span style=\"font-weight: bold\">}</span>,\n            <span style=\"font-weight: bold\">{</span>\n                <span style=\"color: #008000; text-decoration-color: #008000\">\"host\"</span>: <span style=\"color: #008000; text-decoration-color: #008000\">\"db4.com\"</span>,\n                <span style=\"color: #008000; text-decoration-color: #008000\">\"port\"</span>: <span style=\"color: #008080; text-decoration-color: #008080; font-weight: bold\">5432</span>\n            <span style=\"font-weight: bold\">}</span>\n        <span style=\"font-weight: bold\">]</span>\n    <span style=\"font-weight: bold\">}</span>\n<span style=\"font-weight: bold\">}</span>\n</pre>\n"
     },
     "metadata": {},
     "output_type": "display_data"
    }
   ],
   "source": [
    "config_data = {\n",
    "    SHARED: {\n",
    "        \"*.databases.port\": 5432\n",
    "    },\n",
    "    \"dev\": {\n",
    "        \"databases\": [\n",
    "            {\"host\": \"db1.com\"},\n",
    "            {\"host\": \"db2.com\"},\n",
    "        ],\n",
    "    },\n",
    "    \"prod\": {\n",
    "        \"databases\": [\n",
    "            {\"host\": \"db3.com\"},\n",
    "            {\"host\": \"db4.com\"},\n",
    "        ],\n",
    "    },\n",
    "}\n",
    "apply_shared_value(config_data)\n",
    "print(\"final config data:\")\n",
    "jprint(config_data)"
   ],
   "metadata": {
    "collapsed": false,
    "ExecuteTime": {
     "start_time": "2023-05-31T00:11:58.465027Z",
     "end_time": "2023-05-31T00:11:58.467856Z"
    }
   }
  },
  {
   "cell_type": "markdown",
   "source": [
    "## Enumerate The Fields You want to Match\n",
    "\n",
    "Sometimes you don't want to match all fields using ``*`` notation. You could enumerate the fields you want to access.\n",
    "\n",
    "I knew that the best way to implement this is using \"Filter expression\". However, this feature is not implemented in ``1.X.Y``."
   ],
   "metadata": {
    "collapsed": false
   }
  },
  {
   "cell_type": "code",
   "execution_count": 5,
   "outputs": [
    {
     "name": "stdout",
     "output_type": "stream",
     "text": [
      "final config data:\n"
     ]
    },
    {
     "data": {
      "text/plain": "\u001B[1m{\u001B[0m\n    \u001B[32m\"dev\"\u001B[0m: \u001B[1m{\u001B[0m\n        \u001B[32m\"databases\"\u001B[0m: \u001B[1m[\u001B[0m\n            \u001B[1m{\u001B[0m\n                \u001B[32m\"host\"\u001B[0m: \u001B[32m\"db1.com\"\u001B[0m,\n                \u001B[32m\"port\"\u001B[0m: \u001B[1;36m5432\u001B[0m\n            \u001B[1m}\u001B[0m,\n            \u001B[1m{\u001B[0m\n                \u001B[32m\"host\"\u001B[0m: \u001B[32m\"db2.com\"\u001B[0m,\n                \u001B[32m\"port\"\u001B[0m: \u001B[1;36m0\u001B[0m\n            \u001B[1m}\u001B[0m\n        \u001B[1m]\u001B[0m\n    \u001B[1m}\u001B[0m,\n    \u001B[32m\"prod\"\u001B[0m: \u001B[1m{\u001B[0m\n        \u001B[32m\"databases\"\u001B[0m: \u001B[1m[\u001B[0m\n            \u001B[1m{\u001B[0m\n                \u001B[32m\"host\"\u001B[0m: \u001B[32m\"db3.com\"\u001B[0m,\n                \u001B[32m\"port\"\u001B[0m: \u001B[1;36m3306\u001B[0m\n            \u001B[1m}\u001B[0m,\n            \u001B[1m{\u001B[0m\n                \u001B[32m\"host\"\u001B[0m: \u001B[32m\"db4.com\"\u001B[0m,\n                \u001B[32m\"port\"\u001B[0m: \u001B[1;36m1\u001B[0m\n            \u001B[1m}\u001B[0m\n        \u001B[1m]\u001B[0m\n    \u001B[1m}\u001B[0m\n\u001B[1m}\u001B[0m\n",
      "text/html": "<pre style=\"white-space:pre;overflow-x:auto;line-height:normal;font-family:Menlo,'DejaVu Sans Mono',consolas,'Courier New',monospace\"><span style=\"font-weight: bold\">{</span>\n    <span style=\"color: #008000; text-decoration-color: #008000\">\"dev\"</span>: <span style=\"font-weight: bold\">{</span>\n        <span style=\"color: #008000; text-decoration-color: #008000\">\"databases\"</span>: <span style=\"font-weight: bold\">[</span>\n            <span style=\"font-weight: bold\">{</span>\n                <span style=\"color: #008000; text-decoration-color: #008000\">\"host\"</span>: <span style=\"color: #008000; text-decoration-color: #008000\">\"db1.com\"</span>,\n                <span style=\"color: #008000; text-decoration-color: #008000\">\"port\"</span>: <span style=\"color: #008080; text-decoration-color: #008080; font-weight: bold\">5432</span>\n            <span style=\"font-weight: bold\">}</span>,\n            <span style=\"font-weight: bold\">{</span>\n                <span style=\"color: #008000; text-decoration-color: #008000\">\"host\"</span>: <span style=\"color: #008000; text-decoration-color: #008000\">\"db2.com\"</span>,\n                <span style=\"color: #008000; text-decoration-color: #008000\">\"port\"</span>: <span style=\"color: #008080; text-decoration-color: #008080; font-weight: bold\">0</span>\n            <span style=\"font-weight: bold\">}</span>\n        <span style=\"font-weight: bold\">]</span>\n    <span style=\"font-weight: bold\">}</span>,\n    <span style=\"color: #008000; text-decoration-color: #008000\">\"prod\"</span>: <span style=\"font-weight: bold\">{</span>\n        <span style=\"color: #008000; text-decoration-color: #008000\">\"databases\"</span>: <span style=\"font-weight: bold\">[</span>\n            <span style=\"font-weight: bold\">{</span>\n                <span style=\"color: #008000; text-decoration-color: #008000\">\"host\"</span>: <span style=\"color: #008000; text-decoration-color: #008000\">\"db3.com\"</span>,\n                <span style=\"color: #008000; text-decoration-color: #008000\">\"port\"</span>: <span style=\"color: #008080; text-decoration-color: #008080; font-weight: bold\">3306</span>\n            <span style=\"font-weight: bold\">}</span>,\n            <span style=\"font-weight: bold\">{</span>\n                <span style=\"color: #008000; text-decoration-color: #008000\">\"host\"</span>: <span style=\"color: #008000; text-decoration-color: #008000\">\"db4.com\"</span>,\n                <span style=\"color: #008000; text-decoration-color: #008000\">\"port\"</span>: <span style=\"color: #008080; text-decoration-color: #008080; font-weight: bold\">1</span>\n            <span style=\"font-weight: bold\">}</span>\n        <span style=\"font-weight: bold\">]</span>\n    <span style=\"font-weight: bold\">}</span>\n<span style=\"font-weight: bold\">}</span>\n</pre>\n"
     },
     "metadata": {},
     "output_type": "display_data"
    }
   ],
   "source": [
    "config_data = {\n",
    "    SHARED: {\n",
    "        \"dev.databases.port\": 5432,\n",
    "        \"prod.databases.port\": 3306,\n",
    "    },\n",
    "    \"dev\": {\n",
    "        \"databases\": [\n",
    "            {\"host\": \"db1.com\"},\n",
    "            {\"host\": \"db2.com\", \"port\": 0},\n",
    "        ],\n",
    "    },\n",
    "    \"prod\": {\n",
    "        \"databases\": [\n",
    "            {\"host\": \"db3.com\"},\n",
    "            {\"host\": \"db4.com\", \"port\": 1},\n",
    "        ],\n",
    "    },\n",
    "}\n",
    "apply_shared_value(config_data)\n",
    "print(\"final config data:\")\n",
    "jprint(config_data)"
   ],
   "metadata": {
    "collapsed": false,
    "ExecuteTime": {
     "start_time": "2023-05-31T00:11:58.468910Z",
     "end_time": "2023-05-31T00:11:58.475140Z"
    }
   }
  },
  {
   "cell_type": "markdown",
   "source": [
    "## Evaluation Order within ``SHARED`` at the Same Level\n",
    "\n",
    "You could have multiple JSON Path notations that match the same field. The value defined by the first JSON Path will overwrite others. Since [The insertion-order preservation nature of dict objects has been declared to be an official part of the Python language spec from Python3.7](https://docs.python.org/3/whatsnew/3.7.html), The declaration order in JSON or Python Dict will be the same as the evaluation order.\n",
    "\n",
    "In the following example, we set a global default 4GB memory for ``dev.*.memory``, and a global default memory 2GB for any server."
   ],
   "metadata": {
    "collapsed": false
   }
  },
  {
   "cell_type": "code",
   "execution_count": 6,
   "outputs": [
    {
     "name": "stdout",
     "output_type": "stream",
     "text": [
      "final config data:\n"
     ]
    },
    {
     "data": {
      "text/plain": "\u001B[1m{\u001B[0m\n    \u001B[32m\"dev\"\u001B[0m: \u001B[1m{\u001B[0m\n        \u001B[32m\"app1\"\u001B[0m: \u001B[1m{\u001B[0m\n            \u001B[32m\"memory\"\u001B[0m: \u001B[1;36m4\u001B[0m\n        \u001B[1m}\u001B[0m,\n        \u001B[32m\"app2\"\u001B[0m: \u001B[1m{\u001B[0m\n            \u001B[32m\"memory\"\u001B[0m: \u001B[1;36m8\u001B[0m\n        \u001B[1m}\u001B[0m\n    \u001B[1m}\u001B[0m,\n    \u001B[32m\"prod\"\u001B[0m: \u001B[1m{\u001B[0m\n        \u001B[32m\"app1\"\u001B[0m: \u001B[1m{\u001B[0m\n            \u001B[32m\"memory\"\u001B[0m: \u001B[1;36m2\u001B[0m\n        \u001B[1m}\u001B[0m,\n        \u001B[32m\"app2\"\u001B[0m: \u001B[1m{\u001B[0m\n            \u001B[32m\"memory\"\u001B[0m: \u001B[1;36m16\u001B[0m\n        \u001B[1m}\u001B[0m\n    \u001B[1m}\u001B[0m\n\u001B[1m}\u001B[0m\n",
      "text/html": "<pre style=\"white-space:pre;overflow-x:auto;line-height:normal;font-family:Menlo,'DejaVu Sans Mono',consolas,'Courier New',monospace\"><span style=\"font-weight: bold\">{</span>\n    <span style=\"color: #008000; text-decoration-color: #008000\">\"dev\"</span>: <span style=\"font-weight: bold\">{</span>\n        <span style=\"color: #008000; text-decoration-color: #008000\">\"app1\"</span>: <span style=\"font-weight: bold\">{</span>\n            <span style=\"color: #008000; text-decoration-color: #008000\">\"memory\"</span>: <span style=\"color: #008080; text-decoration-color: #008080; font-weight: bold\">4</span>\n        <span style=\"font-weight: bold\">}</span>,\n        <span style=\"color: #008000; text-decoration-color: #008000\">\"app2\"</span>: <span style=\"font-weight: bold\">{</span>\n            <span style=\"color: #008000; text-decoration-color: #008000\">\"memory\"</span>: <span style=\"color: #008080; text-decoration-color: #008080; font-weight: bold\">8</span>\n        <span style=\"font-weight: bold\">}</span>\n    <span style=\"font-weight: bold\">}</span>,\n    <span style=\"color: #008000; text-decoration-color: #008000\">\"prod\"</span>: <span style=\"font-weight: bold\">{</span>\n        <span style=\"color: #008000; text-decoration-color: #008000\">\"app1\"</span>: <span style=\"font-weight: bold\">{</span>\n            <span style=\"color: #008000; text-decoration-color: #008000\">\"memory\"</span>: <span style=\"color: #008080; text-decoration-color: #008080; font-weight: bold\">2</span>\n        <span style=\"font-weight: bold\">}</span>,\n        <span style=\"color: #008000; text-decoration-color: #008000\">\"app2\"</span>: <span style=\"font-weight: bold\">{</span>\n            <span style=\"color: #008000; text-decoration-color: #008000\">\"memory\"</span>: <span style=\"color: #008080; text-decoration-color: #008080; font-weight: bold\">16</span>\n        <span style=\"font-weight: bold\">}</span>\n    <span style=\"font-weight: bold\">}</span>\n<span style=\"font-weight: bold\">}</span>\n</pre>\n"
     },
     "metadata": {},
     "output_type": "display_data"
    }
   ],
   "source": [
    "config_data = {\n",
    "    SHARED: {\n",
    "        \"dev.*.memory\": 4,\n",
    "        \"*.*.memory\": 2,\n",
    "    },\n",
    "    \"dev\": {\n",
    "        \"app1\": {},\n",
    "        \"app2\": {\"memory\": 8},\n",
    "    },\n",
    "    \"prod\": {\n",
    "        \"app1\": {},\n",
    "        \"app2\": {\"memory\": 16},\n",
    "    },\n",
    "}\n",
    "apply_shared_value(config_data)\n",
    "print(\"final config data:\")\n",
    "jprint(config_data)"
   ],
   "metadata": {
    "collapsed": false,
    "ExecuteTime": {
     "start_time": "2023-05-31T00:11:58.475872Z",
     "end_time": "2023-05-31T00:11:58.479906Z"
    }
   }
  },
  {
   "cell_type": "markdown",
   "source": [
    "## Evaluation Order in Different Level\n",
    "\n",
    "\"You can have the ``SHARED`` meta field at any level of your hierarchy. The closer it is to the root, the more it is considered \"global\". The deeper it is, the more it is considered \"specific\". In other word, the ``SHARED`` meta field at deeper level will overwrite others.\n",
    "\n",
    "This pattern can also be implemented by declaring them in a specific order within the same ``SHARED`` meta field. However, the order of definition is crucial (see the previous section). Personally, I recommend creating a separate ``SHARED`` meta field at a deeper level due to the principle of 'Zen of Python - Explicit is Better than Implicit'."
   ],
   "metadata": {
    "collapsed": false
   }
  },
  {
   "cell_type": "code",
   "execution_count": 7,
   "outputs": [
    {
     "name": "stdout",
     "output_type": "stream",
     "text": [
      "final config data:\n"
     ]
    },
    {
     "data": {
      "text/plain": "\u001B[1m{\u001B[0m\n    \u001B[32m\"dev\"\u001B[0m: \u001B[1m{\u001B[0m\n        \u001B[32m\"app1\"\u001B[0m: \u001B[1m{\u001B[0m\n            \u001B[32m\"memory\"\u001B[0m: \u001B[1;36m4\u001B[0m\n        \u001B[1m}\u001B[0m,\n        \u001B[32m\"app2\"\u001B[0m: \u001B[1m{\u001B[0m\n            \u001B[32m\"memory\"\u001B[0m: \u001B[1;36m8\u001B[0m\n        \u001B[1m}\u001B[0m\n    \u001B[1m}\u001B[0m,\n    \u001B[32m\"prod\"\u001B[0m: \u001B[1m{\u001B[0m\n        \u001B[32m\"app1\"\u001B[0m: \u001B[1m{\u001B[0m\n            \u001B[32m\"memory\"\u001B[0m: \u001B[1;36m2\u001B[0m\n        \u001B[1m}\u001B[0m,\n        \u001B[32m\"app2\"\u001B[0m: \u001B[1m{\u001B[0m\n            \u001B[32m\"memory\"\u001B[0m: \u001B[1;36m16\u001B[0m\n        \u001B[1m}\u001B[0m\n    \u001B[1m}\u001B[0m\n\u001B[1m}\u001B[0m\n",
      "text/html": "<pre style=\"white-space:pre;overflow-x:auto;line-height:normal;font-family:Menlo,'DejaVu Sans Mono',consolas,'Courier New',monospace\"><span style=\"font-weight: bold\">{</span>\n    <span style=\"color: #008000; text-decoration-color: #008000\">\"dev\"</span>: <span style=\"font-weight: bold\">{</span>\n        <span style=\"color: #008000; text-decoration-color: #008000\">\"app1\"</span>: <span style=\"font-weight: bold\">{</span>\n            <span style=\"color: #008000; text-decoration-color: #008000\">\"memory\"</span>: <span style=\"color: #008080; text-decoration-color: #008080; font-weight: bold\">4</span>\n        <span style=\"font-weight: bold\">}</span>,\n        <span style=\"color: #008000; text-decoration-color: #008000\">\"app2\"</span>: <span style=\"font-weight: bold\">{</span>\n            <span style=\"color: #008000; text-decoration-color: #008000\">\"memory\"</span>: <span style=\"color: #008080; text-decoration-color: #008080; font-weight: bold\">8</span>\n        <span style=\"font-weight: bold\">}</span>\n    <span style=\"font-weight: bold\">}</span>,\n    <span style=\"color: #008000; text-decoration-color: #008000\">\"prod\"</span>: <span style=\"font-weight: bold\">{</span>\n        <span style=\"color: #008000; text-decoration-color: #008000\">\"app1\"</span>: <span style=\"font-weight: bold\">{</span>\n            <span style=\"color: #008000; text-decoration-color: #008000\">\"memory\"</span>: <span style=\"color: #008080; text-decoration-color: #008080; font-weight: bold\">2</span>\n        <span style=\"font-weight: bold\">}</span>,\n        <span style=\"color: #008000; text-decoration-color: #008000\">\"app2\"</span>: <span style=\"font-weight: bold\">{</span>\n            <span style=\"color: #008000; text-decoration-color: #008000\">\"memory\"</span>: <span style=\"color: #008080; text-decoration-color: #008080; font-weight: bold\">16</span>\n        <span style=\"font-weight: bold\">}</span>\n    <span style=\"font-weight: bold\">}</span>\n<span style=\"font-weight: bold\">}</span>\n</pre>\n"
     },
     "metadata": {},
     "output_type": "display_data"
    }
   ],
   "source": [
    "config_data = {\n",
    "    SHARED: {\n",
    "        \"*.*.memory\": 2,\n",
    "    },\n",
    "    \"dev\": {\n",
    "        SHARED: {\n",
    "            \"*.memory\": 4\n",
    "        },\n",
    "        \"app1\": {},\n",
    "        \"app2\": {\"memory\": 8},\n",
    "    },\n",
    "    \"prod\": {\n",
    "        \"app1\": {},\n",
    "        \"app2\": {\"memory\": 16},\n",
    "    },\n",
    "}\n",
    "apply_shared_value(config_data)\n",
    "print(\"final config data:\")\n",
    "jprint(config_data)"
   ],
   "metadata": {
    "collapsed": false,
    "ExecuteTime": {
     "start_time": "2023-05-31T00:11:58.480775Z",
     "end_time": "2023-05-31T00:11:58.527338Z"
    }
   }
  },
  {
   "cell_type": "markdown",
   "source": [
    "## Summary\n",
    "\n",
    "Hierarchy Json Pattern is very powerful for config management. Enjoy!\n"
   ],
   "metadata": {
    "collapsed": false
   }
  },
  {
   "cell_type": "code",
   "execution_count": 7,
   "outputs": [],
   "source": [],
   "metadata": {
    "collapsed": false,
    "ExecuteTime": {
     "start_time": "2023-05-31T00:11:58.483639Z",
     "end_time": "2023-05-31T00:11:58.527505Z"
    }
   }
  }
 ],
 "metadata": {
  "kernelspec": {
   "display_name": "Python 3",
   "language": "python",
   "name": "python3"
  },
  "language_info": {
   "codemirror_mode": {
    "name": "ipython",
    "version": 2
   },
   "file_extension": ".py",
   "mimetype": "text/x-python",
   "name": "python",
   "nbconvert_exporter": "python",
   "pygments_lexer": "ipython2",
   "version": "2.7.6"
  }
 },
 "nbformat": 4,
 "nbformat_minor": 0
}
