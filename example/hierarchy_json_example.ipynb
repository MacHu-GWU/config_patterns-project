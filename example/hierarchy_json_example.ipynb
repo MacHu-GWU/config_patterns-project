{
 "cells": [
  {
   "cell_type": "markdown",
   "metadata": {},
   "source": [
    "# Hierarchy Json Pattern for Config Management\n",
    "\n",
    "[![](https://img.shields.io/badge/STAR_Me_on_GitHub!--None.svg?style=social)](https://github.com/MacHu-GWU/config_patterns-project)\n",
    "[![](https://img.shields.io/pypi/v/config_patterns.svg)](https://pypi.python.org/pypi/config_patterns)\n",
    "[![](https://img.shields.io/badge/Link-Submit_Issue-blue.svg)](https://github.com/MacHu-GWU/config_patterns-project/issues)\n",
    "\n",
    "## What is Hierarchy JSON\n",
    "\n",
    "In object-oriented programming, the inheritance hierarchy is a pattern where child objects inherit attributes and methods from parent objects. Similarly, in configuration management, the global configuration often acts as the default value, allowing for the possibility of overriding specific values in environment-specific configurations. For example,if you want to manage the configuration of two servers, a development server and a production server, you may wish to set a global default memory allocation of 2GB. If the memory allocation is not specified on the development server, it will use the default value of 2GB; otherwise, it will use the defined value.\"\n",
    "\n",
    "``config_pattern`` provides a feature to declare your hierarchy JSON data for configuration efficiently and derive the final representation of the data."
   ]
  },
  {
   "cell_type": "code",
   "execution_count": 1,
   "metadata": {
    "ExecuteTime": {
     "end_time": "2023-05-31T00:11:58.421882Z",
     "start_time": "2023-05-31T00:11:58.414384Z"
    },
    "collapsed": false,
    "jupyter": {
     "outputs_hidden": false
    },
    "tags": []
   },
   "outputs": [],
   "source": [
    "import json\n",
    "from rich import print as rprint\n",
    "\n",
    "def jprint(data: dict):\n",
    "    rprint(json.dumps(data, indent=4))"
   ]
  },
  {
   "cell_type": "markdown",
   "metadata": {},
   "source": [
    "## Basic Example\n",
    "\n",
    "In the following example, there’s a meta field ``_shared`` in the root level of the config file. It is a powerful inheritance hierarchy mechanism to specify config values. The ``_shared`` field is a key value pairs of JSON path notation and it’s value. It set a global default memory allocation of 2GB.\n",
    "\n",
    "You can also use ``config_pattern.patterns.hierarchy.SHARED`` constant variable to replace ``\"_shared\"``.\n",
    "\n",
    "```python\n",
    "from config_patterns.patterns.hierarchy import SHARED\n",
    "\n",
    "config_raw = {\n",
    "    SHARED: {\n",
    "        \"*.memory\": 2\n",
    "    },\n",
    "    \"dev\": {\n",
    "    },\n",
    "    \"prod\": {\n",
    "        \"memory\": 8\n",
    "    }\n",
    "}\n",
    "```"
   ]
  },
  {
   "cell_type": "code",
   "execution_count": 2,
   "metadata": {
    "ExecuteTime": {
     "end_time": "2023-05-31T00:11:58.457569Z",
     "start_time": "2023-05-31T00:11:58.419705Z"
    },
    "collapsed": false,
    "jupyter": {
     "outputs_hidden": false
    },
    "tags": []
   },
   "outputs": [
    {
     "name": "stdout",
     "output_type": "stream",
     "text": [
      "final config data:\n"
     ]
    },
    {
     "data": {
      "text/html": [
       "<pre style=\"white-space:pre;overflow-x:auto;line-height:normal;font-family:Menlo,'DejaVu Sans Mono',consolas,'Courier New',monospace\"><span style=\"font-weight: bold\">{</span>\n",
       "    <span style=\"color: #008000; text-decoration-color: #008000\">\"dev\"</span>: <span style=\"font-weight: bold\">{</span>\n",
       "        <span style=\"color: #008000; text-decoration-color: #008000\">\"memory\"</span>: <span style=\"color: #008080; text-decoration-color: #008080; font-weight: bold\">2</span>\n",
       "    <span style=\"font-weight: bold\">}</span>,\n",
       "    <span style=\"color: #008000; text-decoration-color: #008000\">\"prod\"</span>: <span style=\"font-weight: bold\">{</span>\n",
       "        <span style=\"color: #008000; text-decoration-color: #008000\">\"memory\"</span>: <span style=\"color: #008080; text-decoration-color: #008080; font-weight: bold\">8</span>\n",
       "    <span style=\"font-weight: bold\">}</span>\n",
       "<span style=\"font-weight: bold\">}</span>\n",
       "</pre>\n"
      ],
      "text/plain": [
       "\u001b[1m{\u001b[0m\n",
       "    \u001b[32m\"dev\"\u001b[0m: \u001b[1m{\u001b[0m\n",
       "        \u001b[32m\"memory\"\u001b[0m: \u001b[1;36m2\u001b[0m\n",
       "    \u001b[1m}\u001b[0m,\n",
       "    \u001b[32m\"prod\"\u001b[0m: \u001b[1m{\u001b[0m\n",
       "        \u001b[32m\"memory\"\u001b[0m: \u001b[1;36m8\u001b[0m\n",
       "    \u001b[1m}\u001b[0m\n",
       "\u001b[1m}\u001b[0m\n"
      ]
     },
     "metadata": {},
     "output_type": "display_data"
    }
   ],
   "source": [
    "from config_patterns.patterns.hierarchy.api import SHARED, apply_shared_value\n",
    "\n",
    "config_data = {\n",
    "    \"_shared\": {\n",
    "        \"*.memory\": 2\n",
    "    },\n",
    "    \"dev\": {\n",
    "    },\n",
    "    \"prod\": {\n",
    "        \"memory\": 8\n",
    "    }\n",
    "}\n",
    "apply_shared_value(config_data)\n",
    "print(\"final config data:\")\n",
    "jprint(config_data)"
   ]
  },
  {
   "cell_type": "markdown",
   "metadata": {},
   "source": [
    "## JSON Path Notation Example\n",
    "\n",
    "``config_patterns`` library use a simplified version of [JSON Path notation](https://docs.oracle.com/cd/E60058_01/PDF/8.0.8.x/8.0.8.0.0/PMF_HTML/JsonPath_Expressions.htm). The JSON path travels from the same level of where the ``SHARED`` meta field is defined. The ``*`` notation matches all fields at the same level (Except the ``SHARED`` field). A ``.`` dot notation visits the child field of the current node."
   ]
  },
  {
   "cell_type": "code",
   "execution_count": 3,
   "metadata": {
    "ExecuteTime": {
     "end_time": "2023-05-31T00:11:58.463596Z",
     "start_time": "2023-05-31T00:11:58.459827Z"
    },
    "collapsed": false,
    "jupyter": {
     "outputs_hidden": false
    },
    "tags": []
   },
   "outputs": [
    {
     "name": "stdout",
     "output_type": "stream",
     "text": [
      "final config data:\n"
     ]
    },
    {
     "data": {
      "text/html": [
       "<pre style=\"white-space:pre;overflow-x:auto;line-height:normal;font-family:Menlo,'DejaVu Sans Mono',consolas,'Courier New',monospace\"><span style=\"font-weight: bold\">{</span>\n",
       "    <span style=\"color: #008000; text-decoration-color: #008000\">\"dev\"</span>: <span style=\"font-weight: bold\">{</span>\n",
       "        <span style=\"color: #008000; text-decoration-color: #008000\">\"contact\"</span>: <span style=\"font-weight: bold\">{</span>\n",
       "            <span style=\"color: #008000; text-decoration-color: #008000\">\"email\"</span>: <span style=\"color: #008000; text-decoration-color: #008000\">\"alice@email.com\"</span>\n",
       "        <span style=\"font-weight: bold\">}</span>,\n",
       "        <span style=\"color: #008000; text-decoration-color: #008000\">\"name\"</span>: <span style=\"color: #008000; text-decoration-color: #008000\">\"alice\"</span>\n",
       "    <span style=\"font-weight: bold\">}</span>,\n",
       "    <span style=\"color: #008000; text-decoration-color: #008000\">\"prod\"</span>: <span style=\"font-weight: bold\">{</span>\n",
       "        <span style=\"color: #008000; text-decoration-color: #008000\">\"name\"</span>: <span style=\"color: #008000; text-decoration-color: #008000\">\"bob\"</span>,\n",
       "        <span style=\"color: #008000; text-decoration-color: #008000\">\"contact\"</span>: <span style=\"font-weight: bold\">{</span>\n",
       "            <span style=\"color: #008000; text-decoration-color: #008000\">\"email\"</span>: <span style=\"color: #008000; text-decoration-color: #008000\">\"bob@email.com\"</span>\n",
       "        <span style=\"font-weight: bold\">}</span>\n",
       "    <span style=\"font-weight: bold\">}</span>\n",
       "<span style=\"font-weight: bold\">}</span>\n",
       "</pre>\n"
      ],
      "text/plain": [
       "\u001b[1m{\u001b[0m\n",
       "    \u001b[32m\"dev\"\u001b[0m: \u001b[1m{\u001b[0m\n",
       "        \u001b[32m\"contact\"\u001b[0m: \u001b[1m{\u001b[0m\n",
       "            \u001b[32m\"email\"\u001b[0m: \u001b[32m\"alice@email.com\"\u001b[0m\n",
       "        \u001b[1m}\u001b[0m,\n",
       "        \u001b[32m\"name\"\u001b[0m: \u001b[32m\"alice\"\u001b[0m\n",
       "    \u001b[1m}\u001b[0m,\n",
       "    \u001b[32m\"prod\"\u001b[0m: \u001b[1m{\u001b[0m\n",
       "        \u001b[32m\"name\"\u001b[0m: \u001b[32m\"bob\"\u001b[0m,\n",
       "        \u001b[32m\"contact\"\u001b[0m: \u001b[1m{\u001b[0m\n",
       "            \u001b[32m\"email\"\u001b[0m: \u001b[32m\"bob@email.com\"\u001b[0m\n",
       "        \u001b[1m}\u001b[0m\n",
       "    \u001b[1m}\u001b[0m\n",
       "\u001b[1m}\u001b[0m\n"
      ]
     },
     "metadata": {},
     "output_type": "display_data"
    }
   ],
   "source": [
    "config_data = {\n",
    "    SHARED: {\n",
    "        \"*.name\": \"alice\",\n",
    "        \"*.contact.email\": \"alice@email.com\",\n",
    "    },\n",
    "    \"dev\": {\n",
    "        \"contact\": {},\n",
    "    },\n",
    "    \"prod\": {\n",
    "        \"name\": \"bob\",\n",
    "        \"contact\": {\n",
    "            \"email\": \"bob@email.com\"\n",
    "        },\n",
    "    },\n",
    "}\n",
    "apply_shared_value(config_data)\n",
    "print(\"final config data:\")\n",
    "jprint(config_data)"
   ]
  },
  {
   "cell_type": "markdown",
   "metadata": {},
   "source": [
    "## Match a Field in A List of Objects\n",
    "\n",
    "Dot notation can also access the field in a list of object. In the following example, the ``.port`` in the ``*.databases.port`` JSON path represents the ``port`` field in the database object in ``*.databases`` field."
   ]
  },
  {
   "cell_type": "code",
   "execution_count": 4,
   "metadata": {
    "ExecuteTime": {
     "end_time": "2023-05-31T00:11:58.467856Z",
     "start_time": "2023-05-31T00:11:58.465027Z"
    },
    "collapsed": false,
    "jupyter": {
     "outputs_hidden": false
    },
    "tags": []
   },
   "outputs": [
    {
     "name": "stdout",
     "output_type": "stream",
     "text": [
      "final config data:\n"
     ]
    },
    {
     "data": {
      "text/html": [
       "<pre style=\"white-space:pre;overflow-x:auto;line-height:normal;font-family:Menlo,'DejaVu Sans Mono',consolas,'Courier New',monospace\"><span style=\"font-weight: bold\">{</span>\n",
       "    <span style=\"color: #008000; text-decoration-color: #008000\">\"dev\"</span>: <span style=\"font-weight: bold\">{</span>\n",
       "        <span style=\"color: #008000; text-decoration-color: #008000\">\"databases\"</span>: <span style=\"font-weight: bold\">[</span>\n",
       "            <span style=\"font-weight: bold\">{</span>\n",
       "                <span style=\"color: #008000; text-decoration-color: #008000\">\"host\"</span>: <span style=\"color: #008000; text-decoration-color: #008000\">\"db1.com\"</span>,\n",
       "                <span style=\"color: #008000; text-decoration-color: #008000\">\"port\"</span>: <span style=\"color: #008080; text-decoration-color: #008080; font-weight: bold\">5432</span>\n",
       "            <span style=\"font-weight: bold\">}</span>,\n",
       "            <span style=\"font-weight: bold\">{</span>\n",
       "                <span style=\"color: #008000; text-decoration-color: #008000\">\"host\"</span>: <span style=\"color: #008000; text-decoration-color: #008000\">\"db2.com\"</span>,\n",
       "                <span style=\"color: #008000; text-decoration-color: #008000\">\"port\"</span>: <span style=\"color: #008080; text-decoration-color: #008080; font-weight: bold\">5432</span>\n",
       "            <span style=\"font-weight: bold\">}</span>\n",
       "        <span style=\"font-weight: bold\">]</span>\n",
       "    <span style=\"font-weight: bold\">}</span>,\n",
       "    <span style=\"color: #008000; text-decoration-color: #008000\">\"prod\"</span>: <span style=\"font-weight: bold\">{</span>\n",
       "        <span style=\"color: #008000; text-decoration-color: #008000\">\"databases\"</span>: <span style=\"font-weight: bold\">[</span>\n",
       "            <span style=\"font-weight: bold\">{</span>\n",
       "                <span style=\"color: #008000; text-decoration-color: #008000\">\"host\"</span>: <span style=\"color: #008000; text-decoration-color: #008000\">\"db3.com\"</span>,\n",
       "                <span style=\"color: #008000; text-decoration-color: #008000\">\"port\"</span>: <span style=\"color: #008080; text-decoration-color: #008080; font-weight: bold\">5432</span>\n",
       "            <span style=\"font-weight: bold\">}</span>,\n",
       "            <span style=\"font-weight: bold\">{</span>\n",
       "                <span style=\"color: #008000; text-decoration-color: #008000\">\"host\"</span>: <span style=\"color: #008000; text-decoration-color: #008000\">\"db4.com\"</span>,\n",
       "                <span style=\"color: #008000; text-decoration-color: #008000\">\"port\"</span>: <span style=\"color: #008080; text-decoration-color: #008080; font-weight: bold\">5432</span>\n",
       "            <span style=\"font-weight: bold\">}</span>\n",
       "        <span style=\"font-weight: bold\">]</span>\n",
       "    <span style=\"font-weight: bold\">}</span>\n",
       "<span style=\"font-weight: bold\">}</span>\n",
       "</pre>\n"
      ],
      "text/plain": [
       "\u001b[1m{\u001b[0m\n",
       "    \u001b[32m\"dev\"\u001b[0m: \u001b[1m{\u001b[0m\n",
       "        \u001b[32m\"databases\"\u001b[0m: \u001b[1m[\u001b[0m\n",
       "            \u001b[1m{\u001b[0m\n",
       "                \u001b[32m\"host\"\u001b[0m: \u001b[32m\"db1.com\"\u001b[0m,\n",
       "                \u001b[32m\"port\"\u001b[0m: \u001b[1;36m5432\u001b[0m\n",
       "            \u001b[1m}\u001b[0m,\n",
       "            \u001b[1m{\u001b[0m\n",
       "                \u001b[32m\"host\"\u001b[0m: \u001b[32m\"db2.com\"\u001b[0m,\n",
       "                \u001b[32m\"port\"\u001b[0m: \u001b[1;36m5432\u001b[0m\n",
       "            \u001b[1m}\u001b[0m\n",
       "        \u001b[1m]\u001b[0m\n",
       "    \u001b[1m}\u001b[0m,\n",
       "    \u001b[32m\"prod\"\u001b[0m: \u001b[1m{\u001b[0m\n",
       "        \u001b[32m\"databases\"\u001b[0m: \u001b[1m[\u001b[0m\n",
       "            \u001b[1m{\u001b[0m\n",
       "                \u001b[32m\"host\"\u001b[0m: \u001b[32m\"db3.com\"\u001b[0m,\n",
       "                \u001b[32m\"port\"\u001b[0m: \u001b[1;36m5432\u001b[0m\n",
       "            \u001b[1m}\u001b[0m,\n",
       "            \u001b[1m{\u001b[0m\n",
       "                \u001b[32m\"host\"\u001b[0m: \u001b[32m\"db4.com\"\u001b[0m,\n",
       "                \u001b[32m\"port\"\u001b[0m: \u001b[1;36m5432\u001b[0m\n",
       "            \u001b[1m}\u001b[0m\n",
       "        \u001b[1m]\u001b[0m\n",
       "    \u001b[1m}\u001b[0m\n",
       "\u001b[1m}\u001b[0m\n"
      ]
     },
     "metadata": {},
     "output_type": "display_data"
    }
   ],
   "source": [
    "config_data = {\n",
    "    SHARED: {\n",
    "        \"*.databases.port\": 5432\n",
    "    },\n",
    "    \"dev\": {\n",
    "        \"databases\": [\n",
    "            {\"host\": \"db1.com\"},\n",
    "            {\"host\": \"db2.com\"},\n",
    "        ],\n",
    "    },\n",
    "    \"prod\": {\n",
    "        \"databases\": [\n",
    "            {\"host\": \"db3.com\"},\n",
    "            {\"host\": \"db4.com\"},\n",
    "        ],\n",
    "    },\n",
    "}\n",
    "apply_shared_value(config_data)\n",
    "print(\"final config data:\")\n",
    "jprint(config_data)"
   ]
  },
  {
   "cell_type": "markdown",
   "metadata": {},
   "source": [
    "## Enumerate The Fields You want to Match\n",
    "\n",
    "Sometimes you don't want to match all fields using ``*`` notation. You could enumerate the fields you want to access.\n",
    "\n",
    "I knew that the best way to implement this is using \"Filter expression\". However, this feature is not implemented in ``1.X.Y``."
   ]
  },
  {
   "cell_type": "code",
   "execution_count": 5,
   "metadata": {
    "ExecuteTime": {
     "end_time": "2023-05-31T00:11:58.475140Z",
     "start_time": "2023-05-31T00:11:58.468910Z"
    },
    "collapsed": false,
    "jupyter": {
     "outputs_hidden": false
    },
    "tags": []
   },
   "outputs": [
    {
     "name": "stdout",
     "output_type": "stream",
     "text": [
      "final config data:\n"
     ]
    },
    {
     "data": {
      "text/html": [
       "<pre style=\"white-space:pre;overflow-x:auto;line-height:normal;font-family:Menlo,'DejaVu Sans Mono',consolas,'Courier New',monospace\"><span style=\"font-weight: bold\">{</span>\n",
       "    <span style=\"color: #008000; text-decoration-color: #008000\">\"dev\"</span>: <span style=\"font-weight: bold\">{</span>\n",
       "        <span style=\"color: #008000; text-decoration-color: #008000\">\"databases\"</span>: <span style=\"font-weight: bold\">[</span>\n",
       "            <span style=\"font-weight: bold\">{</span>\n",
       "                <span style=\"color: #008000; text-decoration-color: #008000\">\"host\"</span>: <span style=\"color: #008000; text-decoration-color: #008000\">\"db1.com\"</span>,\n",
       "                <span style=\"color: #008000; text-decoration-color: #008000\">\"port\"</span>: <span style=\"color: #008080; text-decoration-color: #008080; font-weight: bold\">5432</span>\n",
       "            <span style=\"font-weight: bold\">}</span>,\n",
       "            <span style=\"font-weight: bold\">{</span>\n",
       "                <span style=\"color: #008000; text-decoration-color: #008000\">\"host\"</span>: <span style=\"color: #008000; text-decoration-color: #008000\">\"db2.com\"</span>,\n",
       "                <span style=\"color: #008000; text-decoration-color: #008000\">\"port\"</span>: <span style=\"color: #008080; text-decoration-color: #008080; font-weight: bold\">0</span>\n",
       "            <span style=\"font-weight: bold\">}</span>\n",
       "        <span style=\"font-weight: bold\">]</span>\n",
       "    <span style=\"font-weight: bold\">}</span>,\n",
       "    <span style=\"color: #008000; text-decoration-color: #008000\">\"prod\"</span>: <span style=\"font-weight: bold\">{</span>\n",
       "        <span style=\"color: #008000; text-decoration-color: #008000\">\"databases\"</span>: <span style=\"font-weight: bold\">[</span>\n",
       "            <span style=\"font-weight: bold\">{</span>\n",
       "                <span style=\"color: #008000; text-decoration-color: #008000\">\"host\"</span>: <span style=\"color: #008000; text-decoration-color: #008000\">\"db3.com\"</span>,\n",
       "                <span style=\"color: #008000; text-decoration-color: #008000\">\"port\"</span>: <span style=\"color: #008080; text-decoration-color: #008080; font-weight: bold\">3306</span>\n",
       "            <span style=\"font-weight: bold\">}</span>,\n",
       "            <span style=\"font-weight: bold\">{</span>\n",
       "                <span style=\"color: #008000; text-decoration-color: #008000\">\"host\"</span>: <span style=\"color: #008000; text-decoration-color: #008000\">\"db4.com\"</span>,\n",
       "                <span style=\"color: #008000; text-decoration-color: #008000\">\"port\"</span>: <span style=\"color: #008080; text-decoration-color: #008080; font-weight: bold\">1</span>\n",
       "            <span style=\"font-weight: bold\">}</span>\n",
       "        <span style=\"font-weight: bold\">]</span>\n",
       "    <span style=\"font-weight: bold\">}</span>\n",
       "<span style=\"font-weight: bold\">}</span>\n",
       "</pre>\n"
      ],
      "text/plain": [
       "\u001b[1m{\u001b[0m\n",
       "    \u001b[32m\"dev\"\u001b[0m: \u001b[1m{\u001b[0m\n",
       "        \u001b[32m\"databases\"\u001b[0m: \u001b[1m[\u001b[0m\n",
       "            \u001b[1m{\u001b[0m\n",
       "                \u001b[32m\"host\"\u001b[0m: \u001b[32m\"db1.com\"\u001b[0m,\n",
       "                \u001b[32m\"port\"\u001b[0m: \u001b[1;36m5432\u001b[0m\n",
       "            \u001b[1m}\u001b[0m,\n",
       "            \u001b[1m{\u001b[0m\n",
       "                \u001b[32m\"host\"\u001b[0m: \u001b[32m\"db2.com\"\u001b[0m,\n",
       "                \u001b[32m\"port\"\u001b[0m: \u001b[1;36m0\u001b[0m\n",
       "            \u001b[1m}\u001b[0m\n",
       "        \u001b[1m]\u001b[0m\n",
       "    \u001b[1m}\u001b[0m,\n",
       "    \u001b[32m\"prod\"\u001b[0m: \u001b[1m{\u001b[0m\n",
       "        \u001b[32m\"databases\"\u001b[0m: \u001b[1m[\u001b[0m\n",
       "            \u001b[1m{\u001b[0m\n",
       "                \u001b[32m\"host\"\u001b[0m: \u001b[32m\"db3.com\"\u001b[0m,\n",
       "                \u001b[32m\"port\"\u001b[0m: \u001b[1;36m3306\u001b[0m\n",
       "            \u001b[1m}\u001b[0m,\n",
       "            \u001b[1m{\u001b[0m\n",
       "                \u001b[32m\"host\"\u001b[0m: \u001b[32m\"db4.com\"\u001b[0m,\n",
       "                \u001b[32m\"port\"\u001b[0m: \u001b[1;36m1\u001b[0m\n",
       "            \u001b[1m}\u001b[0m\n",
       "        \u001b[1m]\u001b[0m\n",
       "    \u001b[1m}\u001b[0m\n",
       "\u001b[1m}\u001b[0m\n"
      ]
     },
     "metadata": {},
     "output_type": "display_data"
    }
   ],
   "source": [
    "config_data = {\n",
    "    SHARED: {\n",
    "        \"dev.databases.port\": 5432,\n",
    "        \"prod.databases.port\": 3306,\n",
    "    },\n",
    "    \"dev\": {\n",
    "        \"databases\": [\n",
    "            {\"host\": \"db1.com\"},\n",
    "            {\"host\": \"db2.com\", \"port\": 0},\n",
    "        ],\n",
    "    },\n",
    "    \"prod\": {\n",
    "        \"databases\": [\n",
    "            {\"host\": \"db3.com\"},\n",
    "            {\"host\": \"db4.com\", \"port\": 1},\n",
    "        ],\n",
    "    },\n",
    "}\n",
    "apply_shared_value(config_data)\n",
    "print(\"final config data:\")\n",
    "jprint(config_data)"
   ]
  },
  {
   "cell_type": "markdown",
   "metadata": {},
   "source": [
    "## Evaluation Order within ``SHARED`` at the Same Level\n",
    "\n",
    "You could have multiple JSON Path notations that match the same field. The value defined by the first JSON Path will overwrite others. Since [The insertion-order preservation nature of dict objects has been declared to be an official part of the Python language spec from Python3.7](https://docs.python.org/3/whatsnew/3.7.html), The declaration order in JSON or Python Dict will be the same as the evaluation order.\n",
    "\n",
    "In the following example, we set a global default 4GB memory for ``dev.*.memory``, and a global default memory 2GB for any server."
   ]
  },
  {
   "cell_type": "code",
   "execution_count": 6,
   "metadata": {
    "ExecuteTime": {
     "end_time": "2023-05-31T00:11:58.479906Z",
     "start_time": "2023-05-31T00:11:58.475872Z"
    },
    "collapsed": false,
    "jupyter": {
     "outputs_hidden": false
    },
    "tags": []
   },
   "outputs": [
    {
     "name": "stdout",
     "output_type": "stream",
     "text": [
      "final config data:\n"
     ]
    },
    {
     "data": {
      "text/html": [
       "<pre style=\"white-space:pre;overflow-x:auto;line-height:normal;font-family:Menlo,'DejaVu Sans Mono',consolas,'Courier New',monospace\"><span style=\"font-weight: bold\">{</span>\n",
       "    <span style=\"color: #008000; text-decoration-color: #008000\">\"dev\"</span>: <span style=\"font-weight: bold\">{</span>\n",
       "        <span style=\"color: #008000; text-decoration-color: #008000\">\"app1\"</span>: <span style=\"font-weight: bold\">{</span>\n",
       "            <span style=\"color: #008000; text-decoration-color: #008000\">\"memory\"</span>: <span style=\"color: #008080; text-decoration-color: #008080; font-weight: bold\">4</span>\n",
       "        <span style=\"font-weight: bold\">}</span>,\n",
       "        <span style=\"color: #008000; text-decoration-color: #008000\">\"app2\"</span>: <span style=\"font-weight: bold\">{</span>\n",
       "            <span style=\"color: #008000; text-decoration-color: #008000\">\"memory\"</span>: <span style=\"color: #008080; text-decoration-color: #008080; font-weight: bold\">8</span>\n",
       "        <span style=\"font-weight: bold\">}</span>\n",
       "    <span style=\"font-weight: bold\">}</span>,\n",
       "    <span style=\"color: #008000; text-decoration-color: #008000\">\"prod\"</span>: <span style=\"font-weight: bold\">{</span>\n",
       "        <span style=\"color: #008000; text-decoration-color: #008000\">\"app1\"</span>: <span style=\"font-weight: bold\">{</span>\n",
       "            <span style=\"color: #008000; text-decoration-color: #008000\">\"memory\"</span>: <span style=\"color: #008080; text-decoration-color: #008080; font-weight: bold\">2</span>\n",
       "        <span style=\"font-weight: bold\">}</span>,\n",
       "        <span style=\"color: #008000; text-decoration-color: #008000\">\"app2\"</span>: <span style=\"font-weight: bold\">{</span>\n",
       "            <span style=\"color: #008000; text-decoration-color: #008000\">\"memory\"</span>: <span style=\"color: #008080; text-decoration-color: #008080; font-weight: bold\">16</span>\n",
       "        <span style=\"font-weight: bold\">}</span>\n",
       "    <span style=\"font-weight: bold\">}</span>\n",
       "<span style=\"font-weight: bold\">}</span>\n",
       "</pre>\n"
      ],
      "text/plain": [
       "\u001b[1m{\u001b[0m\n",
       "    \u001b[32m\"dev\"\u001b[0m: \u001b[1m{\u001b[0m\n",
       "        \u001b[32m\"app1\"\u001b[0m: \u001b[1m{\u001b[0m\n",
       "            \u001b[32m\"memory\"\u001b[0m: \u001b[1;36m4\u001b[0m\n",
       "        \u001b[1m}\u001b[0m,\n",
       "        \u001b[32m\"app2\"\u001b[0m: \u001b[1m{\u001b[0m\n",
       "            \u001b[32m\"memory\"\u001b[0m: \u001b[1;36m8\u001b[0m\n",
       "        \u001b[1m}\u001b[0m\n",
       "    \u001b[1m}\u001b[0m,\n",
       "    \u001b[32m\"prod\"\u001b[0m: \u001b[1m{\u001b[0m\n",
       "        \u001b[32m\"app1\"\u001b[0m: \u001b[1m{\u001b[0m\n",
       "            \u001b[32m\"memory\"\u001b[0m: \u001b[1;36m2\u001b[0m\n",
       "        \u001b[1m}\u001b[0m,\n",
       "        \u001b[32m\"app2\"\u001b[0m: \u001b[1m{\u001b[0m\n",
       "            \u001b[32m\"memory\"\u001b[0m: \u001b[1;36m16\u001b[0m\n",
       "        \u001b[1m}\u001b[0m\n",
       "    \u001b[1m}\u001b[0m\n",
       "\u001b[1m}\u001b[0m\n"
      ]
     },
     "metadata": {},
     "output_type": "display_data"
    }
   ],
   "source": [
    "config_data = {\n",
    "    SHARED: {\n",
    "        \"dev.*.memory\": 4,\n",
    "        \"*.*.memory\": 2,\n",
    "    },\n",
    "    \"dev\": {\n",
    "        \"app1\": {},\n",
    "        \"app2\": {\"memory\": 8},\n",
    "    },\n",
    "    \"prod\": {\n",
    "        \"app1\": {},\n",
    "        \"app2\": {\"memory\": 16},\n",
    "    },\n",
    "}\n",
    "apply_shared_value(config_data)\n",
    "print(\"final config data:\")\n",
    "jprint(config_data)"
   ]
  },
  {
   "cell_type": "markdown",
   "metadata": {},
   "source": [
    "## Evaluation Order in Different Level\n",
    "\n",
    "\"You can have the ``SHARED`` meta field at any level of your hierarchy. The closer it is to the root, the more it is considered \"global\". The deeper it is, the more it is considered \"specific\". In other word, the ``SHARED`` meta field at deeper level will overwrite others.\n",
    "\n",
    "This pattern can also be implemented by declaring them in a specific order within the same ``SHARED`` meta field. However, the order of definition is crucial (see the previous section). Personally, I recommend creating a separate ``SHARED`` meta field at a deeper level due to the principle of 'Zen of Python - Explicit is Better than Implicit'."
   ]
  },
  {
   "cell_type": "code",
   "execution_count": 7,
   "metadata": {
    "ExecuteTime": {
     "end_time": "2023-05-31T00:11:58.527338Z",
     "start_time": "2023-05-31T00:11:58.480775Z"
    },
    "collapsed": false,
    "jupyter": {
     "outputs_hidden": false
    },
    "tags": []
   },
   "outputs": [
    {
     "name": "stdout",
     "output_type": "stream",
     "text": [
      "final config data:\n"
     ]
    },
    {
     "data": {
      "text/html": [
       "<pre style=\"white-space:pre;overflow-x:auto;line-height:normal;font-family:Menlo,'DejaVu Sans Mono',consolas,'Courier New',monospace\"><span style=\"font-weight: bold\">{</span>\n",
       "    <span style=\"color: #008000; text-decoration-color: #008000\">\"dev\"</span>: <span style=\"font-weight: bold\">{</span>\n",
       "        <span style=\"color: #008000; text-decoration-color: #008000\">\"app1\"</span>: <span style=\"font-weight: bold\">{</span>\n",
       "            <span style=\"color: #008000; text-decoration-color: #008000\">\"memory\"</span>: <span style=\"color: #008080; text-decoration-color: #008080; font-weight: bold\">4</span>\n",
       "        <span style=\"font-weight: bold\">}</span>,\n",
       "        <span style=\"color: #008000; text-decoration-color: #008000\">\"app2\"</span>: <span style=\"font-weight: bold\">{</span>\n",
       "            <span style=\"color: #008000; text-decoration-color: #008000\">\"memory\"</span>: <span style=\"color: #008080; text-decoration-color: #008080; font-weight: bold\">8</span>\n",
       "        <span style=\"font-weight: bold\">}</span>\n",
       "    <span style=\"font-weight: bold\">}</span>,\n",
       "    <span style=\"color: #008000; text-decoration-color: #008000\">\"prod\"</span>: <span style=\"font-weight: bold\">{</span>\n",
       "        <span style=\"color: #008000; text-decoration-color: #008000\">\"app1\"</span>: <span style=\"font-weight: bold\">{</span>\n",
       "            <span style=\"color: #008000; text-decoration-color: #008000\">\"memory\"</span>: <span style=\"color: #008080; text-decoration-color: #008080; font-weight: bold\">2</span>\n",
       "        <span style=\"font-weight: bold\">}</span>,\n",
       "        <span style=\"color: #008000; text-decoration-color: #008000\">\"app2\"</span>: <span style=\"font-weight: bold\">{</span>\n",
       "            <span style=\"color: #008000; text-decoration-color: #008000\">\"memory\"</span>: <span style=\"color: #008080; text-decoration-color: #008080; font-weight: bold\">16</span>\n",
       "        <span style=\"font-weight: bold\">}</span>\n",
       "    <span style=\"font-weight: bold\">}</span>\n",
       "<span style=\"font-weight: bold\">}</span>\n",
       "</pre>\n"
      ],
      "text/plain": [
       "\u001b[1m{\u001b[0m\n",
       "    \u001b[32m\"dev\"\u001b[0m: \u001b[1m{\u001b[0m\n",
       "        \u001b[32m\"app1\"\u001b[0m: \u001b[1m{\u001b[0m\n",
       "            \u001b[32m\"memory\"\u001b[0m: \u001b[1;36m4\u001b[0m\n",
       "        \u001b[1m}\u001b[0m,\n",
       "        \u001b[32m\"app2\"\u001b[0m: \u001b[1m{\u001b[0m\n",
       "            \u001b[32m\"memory\"\u001b[0m: \u001b[1;36m8\u001b[0m\n",
       "        \u001b[1m}\u001b[0m\n",
       "    \u001b[1m}\u001b[0m,\n",
       "    \u001b[32m\"prod\"\u001b[0m: \u001b[1m{\u001b[0m\n",
       "        \u001b[32m\"app1\"\u001b[0m: \u001b[1m{\u001b[0m\n",
       "            \u001b[32m\"memory\"\u001b[0m: \u001b[1;36m2\u001b[0m\n",
       "        \u001b[1m}\u001b[0m,\n",
       "        \u001b[32m\"app2\"\u001b[0m: \u001b[1m{\u001b[0m\n",
       "            \u001b[32m\"memory\"\u001b[0m: \u001b[1;36m16\u001b[0m\n",
       "        \u001b[1m}\u001b[0m\n",
       "    \u001b[1m}\u001b[0m\n",
       "\u001b[1m}\u001b[0m\n"
      ]
     },
     "metadata": {},
     "output_type": "display_data"
    }
   ],
   "source": [
    "config_data = {\n",
    "    SHARED: {\n",
    "        \"*.*.memory\": 2,\n",
    "    },\n",
    "    \"dev\": {\n",
    "        SHARED: {\n",
    "            \"*.memory\": 4\n",
    "        },\n",
    "        \"app1\": {},\n",
    "        \"app2\": {\"memory\": 8},\n",
    "    },\n",
    "    \"prod\": {\n",
    "        \"app1\": {},\n",
    "        \"app2\": {\"memory\": 16},\n",
    "    },\n",
    "}\n",
    "apply_shared_value(config_data)\n",
    "print(\"final config data:\")\n",
    "jprint(config_data)"
   ]
  },
  {
   "cell_type": "markdown",
   "metadata": {},
   "source": [
    "## Summary\n",
    "\n",
    "Hierarchy Json Pattern is very powerful for config management. To see an example using this pattern in real production-ready projects, please refer to:\n",
    "\n",
    "- [Multi Environment Config Management](https://github.com/MacHu-GWU/config_patterns-project/blob/main/example/multi_env_json/multi_environment_config.ipynb)\n"
   ]
  },
  {
   "cell_type": "code",
   "execution_count": null,
   "metadata": {},
   "outputs": [],
   "source": []
  }
 ],
 "metadata": {
  "kernelspec": {
   "display_name": "Python 3 (ipykernel)",
   "language": "python",
   "name": "python3"
  },
  "language_info": {
   "codemirror_mode": {
    "name": "ipython",
    "version": 3
   },
   "file_extension": ".py",
   "mimetype": "text/x-python",
   "name": "python",
   "nbconvert_exporter": "python",
   "pygments_lexer": "ipython3",
   "version": "3.8.11"
  }
 },
 "nbformat": 4,
 "nbformat_minor": 4
}
