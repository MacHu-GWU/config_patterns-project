{
 "cells": [
  {
   "cell_type": "markdown",
   "source": [
    "# Multi Environment Json Pattern\n",
    "\n",
    "This pattern allows you to manage configuration for multiple environments.\n",
    "\n",
    "In modern software development, managing configurations across multiple environments has become a crucial aspect of maintaining robust applications. This document introduce a best practice to manage schema definition, data initialization, config deployment and config usage.\n",
    "\n",
    "## Solution Overview\n",
    "\n",
    "1. Utilize dataclasses to define the configuration schema, providing an object-oriented interface to access configuration values. This not only enables basic validation but also helps avoid typographical errors and offers auto-complete functionality within Integrated Development Environments (IDEs).\n",
    "2. Separating the schema declaration from the data initialization enables a flexible strategy to load the config data from different sources in different environments. For example, you can load the config data from a local file in the development environment and retrieve the config data from AWS Parameter Store in the production environment.\n",
    "3. Manage the source-of-truth of the config data in Git for non-sensitive data, enabling version control of the config data.\n",
    "4. Leverage the inheritance hierarchy pattern to set global default values and be able to override them in specific environments.\n",
    "5. Provide two options to deploy the config data to [AWS Parameter Store](https://docs.aws.amazon.com/systems-manager/latest/userguide/systems-manager-parameter-store.html) or [AWS S3](https://aws.amazon.com/s3/), with encryption-at-transit and encryption-at-rest enabled by default.\n",
    "6. Isolate the deployment of configurations based on the environment, ensuring that each environment can only access its specific config data and cannot access the configuration of other environments. Additionally, maintain a versioned copy of the all-in-one configuration deployment as a backup for disaster recovery or compliance requirements.\n",
    "7. Separate static config values from dynamic values, enabling developers to customize the logic for generating dynamic values.\n",
    "\n",
    "\n",
    "\n",
    "4. Your application runtime can read the config from one of the config storage options above.\n",
    "5. When you deploy your application, you should store the ``parameter_name`` or ``s3path_config`` information to the environment variable or a static file. So your application can use this information to read the config data from the config storage."
   ],
   "metadata": {
    "collapsed": false
   },
   "execution_count": 0
  },
  {
   "cell_type": "markdown",
   "source": [
    "## Config Json File Format\n",
    "\n",
    "In object-oriented programming, the inheritance hierarchy is a pattern where child objects inherit attributes and methods from parent objects. Similarly, in configuration management, the global configuration often acts as the default value, allowing for the possibility of overriding specific values in environment-specific configurations. Please take a look at the following example of non-sensitive config and secret config JSON file. We will explain it later."
   ],
   "metadata": {
    "collapsed": false
   }
  },
  {
   "cell_type": "code",
   "execution_count": 1,
   "outputs": [],
   "source": [
    "import os\n",
    "import json\n",
    "from pathlib import Path\n",
    "from rich import print as rprint\n",
    "\n",
    "def jprint(data: dict):\n",
    "    rprint(json.dumps(data, indent=4))\n",
    "\n",
    "dir_here = Path(os.getcwd()).absolute()\n",
    "path_config = dir_here.joinpath(\"config.json\")\n",
    "path_secret_config = dir_here.joinpath(\"secret_config.json\")"
   ],
   "metadata": {
    "collapsed": false,
    "ExecuteTime": {
     "start_time": "2023-05-17T10:28:53.459886Z",
     "end_time": "2023-05-17T10:28:53.464529Z"
    }
   }
  },
  {
   "cell_type": "code",
   "execution_count": 2,
   "outputs": [
    {
     "data": {
      "text/plain": "\u001B[1m{\u001B[0m\n    \u001B[32m\"_shared\"\u001B[0m: \u001B[1m{\u001B[0m\n        \u001B[32m\"*.project_name\"\u001B[0m: \u001B[32m\"my_project\"\u001B[0m\n    \u001B[1m}\u001B[0m,\n    \u001B[32m\"dev\"\u001B[0m: \u001B[1m{\u001B[0m\n        \u001B[32m\"username\"\u001B[0m: \u001B[32m\"dev.user\"\u001B[0m\n    \u001B[1m}\u001B[0m,\n    \u001B[32m\"int\"\u001B[0m: \u001B[1m{\u001B[0m\n        \u001B[32m\"username\"\u001B[0m: \u001B[32m\"int.user\"\u001B[0m\n    \u001B[1m}\u001B[0m,\n    \u001B[32m\"prod\"\u001B[0m: \u001B[1m{\u001B[0m\n        \u001B[32m\"username\"\u001B[0m: \u001B[32m\"prod.user\"\u001B[0m\n    \u001B[1m}\u001B[0m\n\u001B[1m}\u001B[0m\n",
      "text/html": "<pre style=\"white-space:pre;overflow-x:auto;line-height:normal;font-family:Menlo,'DejaVu Sans Mono',consolas,'Courier New',monospace\"><span style=\"font-weight: bold\">{</span>\n    <span style=\"color: #008000; text-decoration-color: #008000\">\"_shared\"</span>: <span style=\"font-weight: bold\">{</span>\n        <span style=\"color: #008000; text-decoration-color: #008000\">\"*.project_name\"</span>: <span style=\"color: #008000; text-decoration-color: #008000\">\"my_project\"</span>\n    <span style=\"font-weight: bold\">}</span>,\n    <span style=\"color: #008000; text-decoration-color: #008000\">\"dev\"</span>: <span style=\"font-weight: bold\">{</span>\n        <span style=\"color: #008000; text-decoration-color: #008000\">\"username\"</span>: <span style=\"color: #008000; text-decoration-color: #008000\">\"dev.user\"</span>\n    <span style=\"font-weight: bold\">}</span>,\n    <span style=\"color: #008000; text-decoration-color: #008000\">\"int\"</span>: <span style=\"font-weight: bold\">{</span>\n        <span style=\"color: #008000; text-decoration-color: #008000\">\"username\"</span>: <span style=\"color: #008000; text-decoration-color: #008000\">\"int.user\"</span>\n    <span style=\"font-weight: bold\">}</span>,\n    <span style=\"color: #008000; text-decoration-color: #008000\">\"prod\"</span>: <span style=\"font-weight: bold\">{</span>\n        <span style=\"color: #008000; text-decoration-color: #008000\">\"username\"</span>: <span style=\"color: #008000; text-decoration-color: #008000\">\"prod.user\"</span>\n    <span style=\"font-weight: bold\">}</span>\n<span style=\"font-weight: bold\">}</span>\n</pre>\n"
     },
     "metadata": {},
     "output_type": "display_data"
    }
   ],
   "source": [
    "rprint(path_config.read_text())"
   ],
   "metadata": {
    "collapsed": false,
    "ExecuteTime": {
     "start_time": "2023-05-17T10:28:53.465647Z",
     "end_time": "2023-05-17T10:28:53.500743Z"
    }
   }
  },
  {
   "cell_type": "code",
   "execution_count": 3,
   "outputs": [
    {
     "data": {
      "text/plain": "\u001B[1m{\u001B[0m\n    \u001B[32m\"_shared\"\u001B[0m: \u001B[1m{\u001B[0m\n    \u001B[1m}\u001B[0m,\n    \u001B[32m\"dev\"\u001B[0m: \u001B[1m{\u001B[0m\n        \u001B[32m\"password\"\u001B[0m: \u001B[32m\"dev.password\"\u001B[0m\n    \u001B[1m}\u001B[0m,\n    \u001B[32m\"int\"\u001B[0m: \u001B[1m{\u001B[0m\n        \u001B[32m\"password\"\u001B[0m: \u001B[32m\"int.password\"\u001B[0m\n    \u001B[1m}\u001B[0m,\n    \u001B[32m\"prod\"\u001B[0m: \u001B[1m{\u001B[0m\n        \u001B[32m\"password\"\u001B[0m: \u001B[32m\"prod.password\"\u001B[0m\n    \u001B[1m}\u001B[0m\n\u001B[1m}\u001B[0m\n",
      "text/html": "<pre style=\"white-space:pre;overflow-x:auto;line-height:normal;font-family:Menlo,'DejaVu Sans Mono',consolas,'Courier New',monospace\"><span style=\"font-weight: bold\">{</span>\n    <span style=\"color: #008000; text-decoration-color: #008000\">\"_shared\"</span>: <span style=\"font-weight: bold\">{</span>\n    <span style=\"font-weight: bold\">}</span>,\n    <span style=\"color: #008000; text-decoration-color: #008000\">\"dev\"</span>: <span style=\"font-weight: bold\">{</span>\n        <span style=\"color: #008000; text-decoration-color: #008000\">\"password\"</span>: <span style=\"color: #008000; text-decoration-color: #008000\">\"dev.password\"</span>\n    <span style=\"font-weight: bold\">}</span>,\n    <span style=\"color: #008000; text-decoration-color: #008000\">\"int\"</span>: <span style=\"font-weight: bold\">{</span>\n        <span style=\"color: #008000; text-decoration-color: #008000\">\"password\"</span>: <span style=\"color: #008000; text-decoration-color: #008000\">\"int.password\"</span>\n    <span style=\"font-weight: bold\">}</span>,\n    <span style=\"color: #008000; text-decoration-color: #008000\">\"prod\"</span>: <span style=\"font-weight: bold\">{</span>\n        <span style=\"color: #008000; text-decoration-color: #008000\">\"password\"</span>: <span style=\"color: #008000; text-decoration-color: #008000\">\"prod.password\"</span>\n    <span style=\"font-weight: bold\">}</span>\n<span style=\"font-weight: bold\">}</span>\n</pre>\n"
     },
     "metadata": {},
     "output_type": "display_data"
    }
   ],
   "source": [
    "rprint(path_secret_config.read_text())"
   ],
   "metadata": {
    "collapsed": false,
    "ExecuteTime": {
     "start_time": "2023-05-17T10:28:53.500884Z",
     "end_time": "2023-05-17T10:28:53.504618Z"
    }
   }
  },
  {
   "cell_type": "markdown",
   "source": [
    "There's a meta field ``_shared`` in the root level of the config file. It is a powerful inheritance hierarchy mechanism to specify config values. The ``_shared`` field is a key value pairs of JSON path notation and it's value. For example:"
   ],
   "metadata": {
    "collapsed": false
   }
  },
  {
   "cell_type": "code",
   "execution_count": 7,
   "outputs": [
    {
     "name": "stdout",
     "output_type": "stream",
     "text": [
      "before:\n"
     ]
    },
    {
     "data": {
      "text/plain": "\u001B[1m{\u001B[0m\n    \u001B[32m\"_shared\"\u001B[0m: \u001B[1m{\u001B[0m\n        \u001B[32m\"*.name\"\u001B[0m: \u001B[32m\"alice\"\u001B[0m,\n        \u001B[32m\"*.contact.email\"\u001B[0m: \u001B[32m\"alice@email.com\"\u001B[0m\n    \u001B[1m}\u001B[0m,\n    \u001B[32m\"dev\"\u001B[0m: \u001B[1m{\u001B[0m\n        \u001B[32m\"contact\"\u001B[0m: \u001B[1m{\u001B[0m\u001B[1m}\u001B[0m\n    \u001B[1m}\u001B[0m,\n    \u001B[32m\"prod\"\u001B[0m: \u001B[1m{\u001B[0m\n        \u001B[32m\"name\"\u001B[0m: \u001B[32m\"bob\"\u001B[0m,\n        \u001B[32m\"contact\"\u001B[0m: \u001B[1m{\u001B[0m\n            \u001B[32m\"email\"\u001B[0m: \u001B[32m\"bob@email.com\"\u001B[0m\n        \u001B[1m}\u001B[0m\n    \u001B[1m}\u001B[0m\n\u001B[1m}\u001B[0m\n",
      "text/html": "<pre style=\"white-space:pre;overflow-x:auto;line-height:normal;font-family:Menlo,'DejaVu Sans Mono',consolas,'Courier New',monospace\"><span style=\"font-weight: bold\">{</span>\n    <span style=\"color: #008000; text-decoration-color: #008000\">\"_shared\"</span>: <span style=\"font-weight: bold\">{</span>\n        <span style=\"color: #008000; text-decoration-color: #008000\">\"*.name\"</span>: <span style=\"color: #008000; text-decoration-color: #008000\">\"alice\"</span>,\n        <span style=\"color: #008000; text-decoration-color: #008000\">\"*.contact.email\"</span>: <span style=\"color: #008000; text-decoration-color: #008000\">\"alice@email.com\"</span>\n    <span style=\"font-weight: bold\">}</span>,\n    <span style=\"color: #008000; text-decoration-color: #008000\">\"dev\"</span>: <span style=\"font-weight: bold\">{</span>\n        <span style=\"color: #008000; text-decoration-color: #008000\">\"contact\"</span>: <span style=\"font-weight: bold\">{}</span>\n    <span style=\"font-weight: bold\">}</span>,\n    <span style=\"color: #008000; text-decoration-color: #008000\">\"prod\"</span>: <span style=\"font-weight: bold\">{</span>\n        <span style=\"color: #008000; text-decoration-color: #008000\">\"name\"</span>: <span style=\"color: #008000; text-decoration-color: #008000\">\"bob\"</span>,\n        <span style=\"color: #008000; text-decoration-color: #008000\">\"contact\"</span>: <span style=\"font-weight: bold\">{</span>\n            <span style=\"color: #008000; text-decoration-color: #008000\">\"email\"</span>: <span style=\"color: #008000; text-decoration-color: #008000\">\"bob@email.com\"</span>\n        <span style=\"font-weight: bold\">}</span>\n    <span style=\"font-weight: bold\">}</span>\n<span style=\"font-weight: bold\">}</span>\n</pre>\n"
     },
     "metadata": {},
     "output_type": "display_data"
    },
    {
     "name": "stdout",
     "output_type": "stream",
     "text": [
      "after:\n"
     ]
    },
    {
     "data": {
      "text/plain": "\u001B[1m{\u001B[0m\n    \u001B[32m\"dev\"\u001B[0m: \u001B[1m{\u001B[0m\n        \u001B[32m\"contact\"\u001B[0m: \u001B[1m{\u001B[0m\n            \u001B[32m\"email\"\u001B[0m: \u001B[32m\"alice@email.com\"\u001B[0m\n        \u001B[1m}\u001B[0m,\n        \u001B[32m\"name\"\u001B[0m: \u001B[32m\"alice\"\u001B[0m\n    \u001B[1m}\u001B[0m,\n    \u001B[32m\"prod\"\u001B[0m: \u001B[1m{\u001B[0m\n        \u001B[32m\"name\"\u001B[0m: \u001B[32m\"bob\"\u001B[0m,\n        \u001B[32m\"contact\"\u001B[0m: \u001B[1m{\u001B[0m\n            \u001B[32m\"email\"\u001B[0m: \u001B[32m\"bob@email.com\"\u001B[0m\n        \u001B[1m}\u001B[0m\n    \u001B[1m}\u001B[0m\n\u001B[1m}\u001B[0m\n",
      "text/html": "<pre style=\"white-space:pre;overflow-x:auto;line-height:normal;font-family:Menlo,'DejaVu Sans Mono',consolas,'Courier New',monospace\"><span style=\"font-weight: bold\">{</span>\n    <span style=\"color: #008000; text-decoration-color: #008000\">\"dev\"</span>: <span style=\"font-weight: bold\">{</span>\n        <span style=\"color: #008000; text-decoration-color: #008000\">\"contact\"</span>: <span style=\"font-weight: bold\">{</span>\n            <span style=\"color: #008000; text-decoration-color: #008000\">\"email\"</span>: <span style=\"color: #008000; text-decoration-color: #008000\">\"alice@email.com\"</span>\n        <span style=\"font-weight: bold\">}</span>,\n        <span style=\"color: #008000; text-decoration-color: #008000\">\"name\"</span>: <span style=\"color: #008000; text-decoration-color: #008000\">\"alice\"</span>\n    <span style=\"font-weight: bold\">}</span>,\n    <span style=\"color: #008000; text-decoration-color: #008000\">\"prod\"</span>: <span style=\"font-weight: bold\">{</span>\n        <span style=\"color: #008000; text-decoration-color: #008000\">\"name\"</span>: <span style=\"color: #008000; text-decoration-color: #008000\">\"bob\"</span>,\n        <span style=\"color: #008000; text-decoration-color: #008000\">\"contact\"</span>: <span style=\"font-weight: bold\">{</span>\n            <span style=\"color: #008000; text-decoration-color: #008000\">\"email\"</span>: <span style=\"color: #008000; text-decoration-color: #008000\">\"bob@email.com\"</span>\n        <span style=\"font-weight: bold\">}</span>\n    <span style=\"font-weight: bold\">}</span>\n<span style=\"font-weight: bold\">}</span>\n</pre>\n"
     },
     "metadata": {},
     "output_type": "display_data"
    }
   ],
   "source": [
    "from config_patterns.patterns.hierarchy import SHARED, apply_shared_value\n",
    "\n",
    "data = {\n",
    "    SHARED: {\n",
    "        \"*.name\": \"alice\",\n",
    "        \"*.contact.email\": \"alice@email.com\",\n",
    "    },\n",
    "    \"dev\": {\n",
    "        \"contact\": {},\n",
    "    },\n",
    "    \"prod\": {\n",
    "        \"name\": \"bob\",\n",
    "        \"contact\": {\n",
    "            \"email\": \"bob@email.com\"\n",
    "        },\n",
    "    },\n",
    "}\n",
    "print(\"before:\")\n",
    "jprint(data)\n",
    "print(\"after:\")\n",
    "apply_shared_value(data)\n",
    "jprint(data)"
   ],
   "metadata": {
    "collapsed": false,
    "ExecuteTime": {
     "start_time": "2023-05-17T10:29:24.033156Z",
     "end_time": "2023-05-17T10:29:24.040055Z"
    }
   }
  },
  {
   "cell_type": "markdown",
   "source": [
    "This mechanism is very powerful, it works with list of dict too."
   ],
   "metadata": {
    "collapsed": false
   }
  },
  {
   "cell_type": "code",
   "execution_count": 8,
   "outputs": [
    {
     "name": "stdout",
     "output_type": "stream",
     "text": [
      "before:\n"
     ]
    },
    {
     "data": {
      "text/plain": "\u001B[1m{\u001B[0m\n    \u001B[32m\"_shared\"\u001B[0m: \u001B[1m{\u001B[0m\n        \u001B[32m\"*.databases.port\"\u001B[0m: \u001B[1;36m5432\u001B[0m\n    \u001B[1m}\u001B[0m,\n    \u001B[32m\"dev\"\u001B[0m: \u001B[1m{\u001B[0m\n        \u001B[32m\"databases\"\u001B[0m: \u001B[1m[\u001B[0m\n            \u001B[1m{\u001B[0m\n                \u001B[32m\"host\"\u001B[0m: \u001B[32m\"db1.com\"\u001B[0m\n            \u001B[1m}\u001B[0m,\n            \u001B[1m{\u001B[0m\n                \u001B[32m\"host\"\u001B[0m: \u001B[32m\"db2.com\"\u001B[0m\n            \u001B[1m}\u001B[0m\n        \u001B[1m]\u001B[0m\n    \u001B[1m}\u001B[0m,\n    \u001B[32m\"prod\"\u001B[0m: \u001B[1m{\u001B[0m\n        \u001B[32m\"databases\"\u001B[0m: \u001B[1m[\u001B[0m\n            \u001B[1m{\u001B[0m\n                \u001B[32m\"host\"\u001B[0m: \u001B[32m\"db3.com\"\u001B[0m\n            \u001B[1m}\u001B[0m,\n            \u001B[1m{\u001B[0m\n                \u001B[32m\"host\"\u001B[0m: \u001B[32m\"db4.com\"\u001B[0m\n            \u001B[1m}\u001B[0m\n        \u001B[1m]\u001B[0m\n    \u001B[1m}\u001B[0m\n\u001B[1m}\u001B[0m\n",
      "text/html": "<pre style=\"white-space:pre;overflow-x:auto;line-height:normal;font-family:Menlo,'DejaVu Sans Mono',consolas,'Courier New',monospace\"><span style=\"font-weight: bold\">{</span>\n    <span style=\"color: #008000; text-decoration-color: #008000\">\"_shared\"</span>: <span style=\"font-weight: bold\">{</span>\n        <span style=\"color: #008000; text-decoration-color: #008000\">\"*.databases.port\"</span>: <span style=\"color: #008080; text-decoration-color: #008080; font-weight: bold\">5432</span>\n    <span style=\"font-weight: bold\">}</span>,\n    <span style=\"color: #008000; text-decoration-color: #008000\">\"dev\"</span>: <span style=\"font-weight: bold\">{</span>\n        <span style=\"color: #008000; text-decoration-color: #008000\">\"databases\"</span>: <span style=\"font-weight: bold\">[</span>\n            <span style=\"font-weight: bold\">{</span>\n                <span style=\"color: #008000; text-decoration-color: #008000\">\"host\"</span>: <span style=\"color: #008000; text-decoration-color: #008000\">\"db1.com\"</span>\n            <span style=\"font-weight: bold\">}</span>,\n            <span style=\"font-weight: bold\">{</span>\n                <span style=\"color: #008000; text-decoration-color: #008000\">\"host\"</span>: <span style=\"color: #008000; text-decoration-color: #008000\">\"db2.com\"</span>\n            <span style=\"font-weight: bold\">}</span>\n        <span style=\"font-weight: bold\">]</span>\n    <span style=\"font-weight: bold\">}</span>,\n    <span style=\"color: #008000; text-decoration-color: #008000\">\"prod\"</span>: <span style=\"font-weight: bold\">{</span>\n        <span style=\"color: #008000; text-decoration-color: #008000\">\"databases\"</span>: <span style=\"font-weight: bold\">[</span>\n            <span style=\"font-weight: bold\">{</span>\n                <span style=\"color: #008000; text-decoration-color: #008000\">\"host\"</span>: <span style=\"color: #008000; text-decoration-color: #008000\">\"db3.com\"</span>\n            <span style=\"font-weight: bold\">}</span>,\n            <span style=\"font-weight: bold\">{</span>\n                <span style=\"color: #008000; text-decoration-color: #008000\">\"host\"</span>: <span style=\"color: #008000; text-decoration-color: #008000\">\"db4.com\"</span>\n            <span style=\"font-weight: bold\">}</span>\n        <span style=\"font-weight: bold\">]</span>\n    <span style=\"font-weight: bold\">}</span>\n<span style=\"font-weight: bold\">}</span>\n</pre>\n"
     },
     "metadata": {},
     "output_type": "display_data"
    },
    {
     "name": "stdout",
     "output_type": "stream",
     "text": [
      "after:\n"
     ]
    },
    {
     "data": {
      "text/plain": "\u001B[1m{\u001B[0m\n    \u001B[32m\"dev\"\u001B[0m: \u001B[1m{\u001B[0m\n        \u001B[32m\"databases\"\u001B[0m: \u001B[1m[\u001B[0m\n            \u001B[1m{\u001B[0m\n                \u001B[32m\"host\"\u001B[0m: \u001B[32m\"db1.com\"\u001B[0m,\n                \u001B[32m\"port\"\u001B[0m: \u001B[1;36m5432\u001B[0m\n            \u001B[1m}\u001B[0m,\n            \u001B[1m{\u001B[0m\n                \u001B[32m\"host\"\u001B[0m: \u001B[32m\"db2.com\"\u001B[0m,\n                \u001B[32m\"port\"\u001B[0m: \u001B[1;36m5432\u001B[0m\n            \u001B[1m}\u001B[0m\n        \u001B[1m]\u001B[0m\n    \u001B[1m}\u001B[0m,\n    \u001B[32m\"prod\"\u001B[0m: \u001B[1m{\u001B[0m\n        \u001B[32m\"databases\"\u001B[0m: \u001B[1m[\u001B[0m\n            \u001B[1m{\u001B[0m\n                \u001B[32m\"host\"\u001B[0m: \u001B[32m\"db3.com\"\u001B[0m,\n                \u001B[32m\"port\"\u001B[0m: \u001B[1;36m5432\u001B[0m\n            \u001B[1m}\u001B[0m,\n            \u001B[1m{\u001B[0m\n                \u001B[32m\"host\"\u001B[0m: \u001B[32m\"db4.com\"\u001B[0m,\n                \u001B[32m\"port\"\u001B[0m: \u001B[1;36m5432\u001B[0m\n            \u001B[1m}\u001B[0m\n        \u001B[1m]\u001B[0m\n    \u001B[1m}\u001B[0m\n\u001B[1m}\u001B[0m\n",
      "text/html": "<pre style=\"white-space:pre;overflow-x:auto;line-height:normal;font-family:Menlo,'DejaVu Sans Mono',consolas,'Courier New',monospace\"><span style=\"font-weight: bold\">{</span>\n    <span style=\"color: #008000; text-decoration-color: #008000\">\"dev\"</span>: <span style=\"font-weight: bold\">{</span>\n        <span style=\"color: #008000; text-decoration-color: #008000\">\"databases\"</span>: <span style=\"font-weight: bold\">[</span>\n            <span style=\"font-weight: bold\">{</span>\n                <span style=\"color: #008000; text-decoration-color: #008000\">\"host\"</span>: <span style=\"color: #008000; text-decoration-color: #008000\">\"db1.com\"</span>,\n                <span style=\"color: #008000; text-decoration-color: #008000\">\"port\"</span>: <span style=\"color: #008080; text-decoration-color: #008080; font-weight: bold\">5432</span>\n            <span style=\"font-weight: bold\">}</span>,\n            <span style=\"font-weight: bold\">{</span>\n                <span style=\"color: #008000; text-decoration-color: #008000\">\"host\"</span>: <span style=\"color: #008000; text-decoration-color: #008000\">\"db2.com\"</span>,\n                <span style=\"color: #008000; text-decoration-color: #008000\">\"port\"</span>: <span style=\"color: #008080; text-decoration-color: #008080; font-weight: bold\">5432</span>\n            <span style=\"font-weight: bold\">}</span>\n        <span style=\"font-weight: bold\">]</span>\n    <span style=\"font-weight: bold\">}</span>,\n    <span style=\"color: #008000; text-decoration-color: #008000\">\"prod\"</span>: <span style=\"font-weight: bold\">{</span>\n        <span style=\"color: #008000; text-decoration-color: #008000\">\"databases\"</span>: <span style=\"font-weight: bold\">[</span>\n            <span style=\"font-weight: bold\">{</span>\n                <span style=\"color: #008000; text-decoration-color: #008000\">\"host\"</span>: <span style=\"color: #008000; text-decoration-color: #008000\">\"db3.com\"</span>,\n                <span style=\"color: #008000; text-decoration-color: #008000\">\"port\"</span>: <span style=\"color: #008080; text-decoration-color: #008080; font-weight: bold\">5432</span>\n            <span style=\"font-weight: bold\">}</span>,\n            <span style=\"font-weight: bold\">{</span>\n                <span style=\"color: #008000; text-decoration-color: #008000\">\"host\"</span>: <span style=\"color: #008000; text-decoration-color: #008000\">\"db4.com\"</span>,\n                <span style=\"color: #008000; text-decoration-color: #008000\">\"port\"</span>: <span style=\"color: #008080; text-decoration-color: #008080; font-weight: bold\">5432</span>\n            <span style=\"font-weight: bold\">}</span>\n        <span style=\"font-weight: bold\">]</span>\n    <span style=\"font-weight: bold\">}</span>\n<span style=\"font-weight: bold\">}</span>\n</pre>\n"
     },
     "metadata": {},
     "output_type": "display_data"
    }
   ],
   "source": [
    "data = {\n",
    "    SHARED: {\n",
    "        \"*.databases.port\": 5432\n",
    "    },\n",
    "    \"dev\": {\n",
    "        \"databases\": [\n",
    "            {\"host\": \"db1.com\"},\n",
    "            {\"host\": \"db2.com\"},\n",
    "        ],\n",
    "    },\n",
    "    \"prod\": {\n",
    "        \"databases\": [\n",
    "            {\"host\": \"db3.com\"},\n",
    "            {\"host\": \"db4.com\"},\n",
    "        ],\n",
    "    },\n",
    "}\n",
    "print(\"before:\")\n",
    "jprint(data)\n",
    "print(\"after:\")\n",
    "apply_shared_value(data)\n",
    "jprint(data)"
   ],
   "metadata": {
    "collapsed": false,
    "ExecuteTime": {
     "start_time": "2023-05-17T10:29:30.142503Z",
     "end_time": "2023-05-17T10:29:30.146543Z"
    }
   }
  },
  {
   "cell_type": "markdown",
   "source": [
    "You can also specify default different value for different environment."
   ],
   "metadata": {
    "collapsed": false
   }
  },
  {
   "cell_type": "code",
   "execution_count": 6,
   "outputs": [
    {
     "name": "stdout",
     "output_type": "stream",
     "text": [
      "before:\n"
     ]
    },
    {
     "data": {
      "text/plain": "\u001B[1m{\u001B[0m\n    \u001B[32m\"_shared\"\u001B[0m: \u001B[1m{\u001B[0m\n        \u001B[32m\"dev.databases.port\"\u001B[0m: \u001B[1;36m5432\u001B[0m,\n        \u001B[32m\"prod.databases.port\"\u001B[0m: \u001B[1;36m3306\u001B[0m\n    \u001B[1m}\u001B[0m,\n    \u001B[32m\"dev\"\u001B[0m: \u001B[1m{\u001B[0m\n        \u001B[32m\"databases\"\u001B[0m: \u001B[1m[\u001B[0m\n            \u001B[1m{\u001B[0m\n                \u001B[32m\"host\"\u001B[0m: \u001B[32m\"db1.com\"\u001B[0m\n            \u001B[1m}\u001B[0m,\n            \u001B[1m{\u001B[0m\n                \u001B[32m\"host\"\u001B[0m: \u001B[32m\"db2.com\"\u001B[0m,\n                \u001B[32m\"port\"\u001B[0m: \u001B[1;36m0\u001B[0m\n            \u001B[1m}\u001B[0m\n        \u001B[1m]\u001B[0m\n    \u001B[1m}\u001B[0m,\n    \u001B[32m\"prod\"\u001B[0m: \u001B[1m{\u001B[0m\n        \u001B[32m\"databases\"\u001B[0m: \u001B[1m[\u001B[0m\n            \u001B[1m{\u001B[0m\n                \u001B[32m\"host\"\u001B[0m: \u001B[32m\"db3.com\"\u001B[0m\n            \u001B[1m}\u001B[0m,\n            \u001B[1m{\u001B[0m\n                \u001B[32m\"host\"\u001B[0m: \u001B[32m\"db4.com\"\u001B[0m,\n                \u001B[32m\"port\"\u001B[0m: \u001B[1;36m1\u001B[0m\n            \u001B[1m}\u001B[0m\n        \u001B[1m]\u001B[0m\n    \u001B[1m}\u001B[0m\n\u001B[1m}\u001B[0m\n",
      "text/html": "<pre style=\"white-space:pre;overflow-x:auto;line-height:normal;font-family:Menlo,'DejaVu Sans Mono',consolas,'Courier New',monospace\"><span style=\"font-weight: bold\">{</span>\n    <span style=\"color: #008000; text-decoration-color: #008000\">\"_shared\"</span>: <span style=\"font-weight: bold\">{</span>\n        <span style=\"color: #008000; text-decoration-color: #008000\">\"dev.databases.port\"</span>: <span style=\"color: #008080; text-decoration-color: #008080; font-weight: bold\">5432</span>,\n        <span style=\"color: #008000; text-decoration-color: #008000\">\"prod.databases.port\"</span>: <span style=\"color: #008080; text-decoration-color: #008080; font-weight: bold\">3306</span>\n    <span style=\"font-weight: bold\">}</span>,\n    <span style=\"color: #008000; text-decoration-color: #008000\">\"dev\"</span>: <span style=\"font-weight: bold\">{</span>\n        <span style=\"color: #008000; text-decoration-color: #008000\">\"databases\"</span>: <span style=\"font-weight: bold\">[</span>\n            <span style=\"font-weight: bold\">{</span>\n                <span style=\"color: #008000; text-decoration-color: #008000\">\"host\"</span>: <span style=\"color: #008000; text-decoration-color: #008000\">\"db1.com\"</span>\n            <span style=\"font-weight: bold\">}</span>,\n            <span style=\"font-weight: bold\">{</span>\n                <span style=\"color: #008000; text-decoration-color: #008000\">\"host\"</span>: <span style=\"color: #008000; text-decoration-color: #008000\">\"db2.com\"</span>,\n                <span style=\"color: #008000; text-decoration-color: #008000\">\"port\"</span>: <span style=\"color: #008080; text-decoration-color: #008080; font-weight: bold\">0</span>\n            <span style=\"font-weight: bold\">}</span>\n        <span style=\"font-weight: bold\">]</span>\n    <span style=\"font-weight: bold\">}</span>,\n    <span style=\"color: #008000; text-decoration-color: #008000\">\"prod\"</span>: <span style=\"font-weight: bold\">{</span>\n        <span style=\"color: #008000; text-decoration-color: #008000\">\"databases\"</span>: <span style=\"font-weight: bold\">[</span>\n            <span style=\"font-weight: bold\">{</span>\n                <span style=\"color: #008000; text-decoration-color: #008000\">\"host\"</span>: <span style=\"color: #008000; text-decoration-color: #008000\">\"db3.com\"</span>\n            <span style=\"font-weight: bold\">}</span>,\n            <span style=\"font-weight: bold\">{</span>\n                <span style=\"color: #008000; text-decoration-color: #008000\">\"host\"</span>: <span style=\"color: #008000; text-decoration-color: #008000\">\"db4.com\"</span>,\n                <span style=\"color: #008000; text-decoration-color: #008000\">\"port\"</span>: <span style=\"color: #008080; text-decoration-color: #008080; font-weight: bold\">1</span>\n            <span style=\"font-weight: bold\">}</span>\n        <span style=\"font-weight: bold\">]</span>\n    <span style=\"font-weight: bold\">}</span>\n<span style=\"font-weight: bold\">}</span>\n</pre>\n"
     },
     "metadata": {},
     "output_type": "display_data"
    },
    {
     "name": "stdout",
     "output_type": "stream",
     "text": [
      "after:\n"
     ]
    },
    {
     "data": {
      "text/plain": "\u001B[1m{\u001B[0m\n    \u001B[32m\"dev\"\u001B[0m: \u001B[1m{\u001B[0m\n        \u001B[32m\"databases\"\u001B[0m: \u001B[1m[\u001B[0m\n            \u001B[1m{\u001B[0m\n                \u001B[32m\"host\"\u001B[0m: \u001B[32m\"db1.com\"\u001B[0m,\n                \u001B[32m\"port\"\u001B[0m: \u001B[1;36m5432\u001B[0m\n            \u001B[1m}\u001B[0m,\n            \u001B[1m{\u001B[0m\n                \u001B[32m\"host\"\u001B[0m: \u001B[32m\"db2.com\"\u001B[0m,\n                \u001B[32m\"port\"\u001B[0m: \u001B[1;36m0\u001B[0m\n            \u001B[1m}\u001B[0m\n        \u001B[1m]\u001B[0m\n    \u001B[1m}\u001B[0m,\n    \u001B[32m\"prod\"\u001B[0m: \u001B[1m{\u001B[0m\n        \u001B[32m\"databases\"\u001B[0m: \u001B[1m[\u001B[0m\n            \u001B[1m{\u001B[0m\n                \u001B[32m\"host\"\u001B[0m: \u001B[32m\"db3.com\"\u001B[0m,\n                \u001B[32m\"port\"\u001B[0m: \u001B[1;36m3306\u001B[0m\n            \u001B[1m}\u001B[0m,\n            \u001B[1m{\u001B[0m\n                \u001B[32m\"host\"\u001B[0m: \u001B[32m\"db4.com\"\u001B[0m,\n                \u001B[32m\"port\"\u001B[0m: \u001B[1;36m1\u001B[0m\n            \u001B[1m}\u001B[0m\n        \u001B[1m]\u001B[0m\n    \u001B[1m}\u001B[0m\n\u001B[1m}\u001B[0m\n",
      "text/html": "<pre style=\"white-space:pre;overflow-x:auto;line-height:normal;font-family:Menlo,'DejaVu Sans Mono',consolas,'Courier New',monospace\"><span style=\"font-weight: bold\">{</span>\n    <span style=\"color: #008000; text-decoration-color: #008000\">\"dev\"</span>: <span style=\"font-weight: bold\">{</span>\n        <span style=\"color: #008000; text-decoration-color: #008000\">\"databases\"</span>: <span style=\"font-weight: bold\">[</span>\n            <span style=\"font-weight: bold\">{</span>\n                <span style=\"color: #008000; text-decoration-color: #008000\">\"host\"</span>: <span style=\"color: #008000; text-decoration-color: #008000\">\"db1.com\"</span>,\n                <span style=\"color: #008000; text-decoration-color: #008000\">\"port\"</span>: <span style=\"color: #008080; text-decoration-color: #008080; font-weight: bold\">5432</span>\n            <span style=\"font-weight: bold\">}</span>,\n            <span style=\"font-weight: bold\">{</span>\n                <span style=\"color: #008000; text-decoration-color: #008000\">\"host\"</span>: <span style=\"color: #008000; text-decoration-color: #008000\">\"db2.com\"</span>,\n                <span style=\"color: #008000; text-decoration-color: #008000\">\"port\"</span>: <span style=\"color: #008080; text-decoration-color: #008080; font-weight: bold\">0</span>\n            <span style=\"font-weight: bold\">}</span>\n        <span style=\"font-weight: bold\">]</span>\n    <span style=\"font-weight: bold\">}</span>,\n    <span style=\"color: #008000; text-decoration-color: #008000\">\"prod\"</span>: <span style=\"font-weight: bold\">{</span>\n        <span style=\"color: #008000; text-decoration-color: #008000\">\"databases\"</span>: <span style=\"font-weight: bold\">[</span>\n            <span style=\"font-weight: bold\">{</span>\n                <span style=\"color: #008000; text-decoration-color: #008000\">\"host\"</span>: <span style=\"color: #008000; text-decoration-color: #008000\">\"db3.com\"</span>,\n                <span style=\"color: #008000; text-decoration-color: #008000\">\"port\"</span>: <span style=\"color: #008080; text-decoration-color: #008080; font-weight: bold\">3306</span>\n            <span style=\"font-weight: bold\">}</span>,\n            <span style=\"font-weight: bold\">{</span>\n                <span style=\"color: #008000; text-decoration-color: #008000\">\"host\"</span>: <span style=\"color: #008000; text-decoration-color: #008000\">\"db4.com\"</span>,\n                <span style=\"color: #008000; text-decoration-color: #008000\">\"port\"</span>: <span style=\"color: #008080; text-decoration-color: #008080; font-weight: bold\">1</span>\n            <span style=\"font-weight: bold\">}</span>\n        <span style=\"font-weight: bold\">]</span>\n    <span style=\"font-weight: bold\">}</span>\n<span style=\"font-weight: bold\">}</span>\n</pre>\n"
     },
     "metadata": {},
     "output_type": "display_data"
    }
   ],
   "source": [
    "data = {\n",
    "    SHARED: {\n",
    "        \"dev.databases.port\": 5432,\n",
    "        \"prod.databases.port\": 3306,\n",
    "    },\n",
    "    \"dev\": {\n",
    "        \"databases\": [\n",
    "            {\"host\": \"db1.com\"},\n",
    "            {\"host\": \"db2.com\", \"port\": 0},\n",
    "        ],\n",
    "    },\n",
    "    \"prod\": {\n",
    "        \"databases\": [\n",
    "            {\"host\": \"db3.com\"},\n",
    "            {\"host\": \"db4.com\", \"port\": 1},\n",
    "        ],\n",
    "    },\n",
    "}\n",
    "print(\"before:\")\n",
    "jprint(data)\n",
    "print(\"after:\")\n",
    "apply_shared_value(data)\n",
    "jprint(data)"
   ],
   "metadata": {
    "collapsed": false,
    "ExecuteTime": {
     "start_time": "2023-05-17T10:28:53.522860Z",
     "end_time": "2023-05-17T10:28:53.544106Z"
    }
   }
  },
  {
   "cell_type": "code",
   "execution_count": null,
   "outputs": [],
   "source": [],
   "metadata": {
    "collapsed": false
   }
  },
  {
   "cell_type": "code",
   "execution_count": null,
   "outputs": [],
   "source": [],
   "metadata": {
    "collapsed": false
   }
  },
  {
   "cell_type": "markdown",
   "source": [
    "a## Sample Usage\n",
    "\n",
    "### Declare Your Config Schema\n",
    "\n",
    "In software engineer best practice, declaration and the usage of a Data Model should be separated. Below is the ``config_define.py`` file that defines three things:\n",
    "\n",
    "1. enumerate all environments you want to use in your project.\n",
    "2. declare the per environment config data model.\n",
    "3. subclass from the BaseConfig, this is your main config object."
   ],
   "metadata": {
    "collapsed": false
   }
  },
  {
   "cell_type": "code",
   "execution_count": 1,
   "outputs": [],
   "source": [
    "# content of config_define.py\n",
    "# -*- coding: utf-8 -*-\n",
    "\n",
    "import typing as T\n",
    "import dataclasses\n",
    "\n",
    "from config_patterns.patterns.multi_env_json import (\n",
    "    BaseEnvEnum,\n",
    "    BaseEnv,\n",
    "    BaseConfig,\n",
    ")\n",
    "\n",
    "\n",
    "class EnvEnum(BaseEnvEnum):\n",
    "    dev = \"dev\" # development\n",
    "    int = \"int\" # integration test\n",
    "    prod = \"prod\" # production\n",
    "\n",
    "\n",
    "@dataclasses.dataclass\n",
    "class Env(BaseEnv):\n",
    "    username: T.Optional[str] = dataclasses.field(default=None)\n",
    "    password: T.Optional[str] = dataclasses.field(default=None)\n",
    "\n",
    "\n",
    "@dataclasses.dataclass\n",
    "class Config(BaseConfig):\n",
    "    @property\n",
    "    def dev(self) -> Env:\n",
    "        return self.get_env(EnvEnum.dev)\n",
    "\n",
    "    @property\n",
    "    def int(self) -> Env:\n",
    "        return self.get_env(EnvEnum.int)\n",
    "\n",
    "    @property\n",
    "    def prod(self) -> Env:\n",
    "        return self.get_env(EnvEnum.prod)\n",
    "\n",
    "    @classmethod\n",
    "    def get_current_env(cls) -> str:\n",
    "        return EnvEnum.dev.value\n",
    "\n",
    "    @property\n",
    "    def env(self) -> Env:\n",
    "        return self.get_env(self.get_current_env())\n",
    "\n",
    "    @classmethod\n",
    "    def from_dict(cls, data: dict):\n",
    "        return cls(**data)"
   ],
   "metadata": {
    "collapsed": false,
    "ExecuteTime": {
     "start_time": "2023-05-17T03:47:53.458330Z",
     "end_time": "2023-05-17T03:47:53.532374Z"
    }
   }
  },
  {
   "cell_type": "markdown",
   "source": [
    "\n",
    "### Read From Local File and Deploy to Config Storage\n",
    "\n",
    "As the project admin, you need to decide what value to put in the config. So you created two config files ``config.json`` and ``secret_config.json``. You could check in the ``config.json`` to the Git so everyone can see it. But keep the ``secret_config.json`` private, and only give access to people really need it."
   ],
   "metadata": {
    "collapsed": false
   }
  },
  {
   "cell_type": "code",
   "execution_count": 2,
   "outputs": [
    {
     "data": {
      "text/plain": "{'_shared': {'project_name': 'my_project'},\n 'dev': {'username': 'dev.user'},\n 'int': {'username': 'int.user'},\n 'prod': {'username': 'prod.user'}}"
     },
     "execution_count": 2,
     "metadata": {},
     "output_type": "execute_result"
    }
   ],
   "source": [
    "# content of config.json\n",
    "{\n",
    "    # this config file support comments, you can put documentation in the config file\n",
    "    \"_shared\": {\n",
    "        \"project_name\": \"my_project\"\n",
    "    },\n",
    "    \"dev\": {\n",
    "        \"username\": \"dev.user\"\n",
    "    },\n",
    "    \"int\": {\n",
    "        \"username\": \"int.user\"\n",
    "    },\n",
    "    \"prod\": {\n",
    "        \"username\": \"prod.user\"\n",
    "    }\n",
    "}"
   ],
   "metadata": {
    "collapsed": false,
    "ExecuteTime": {
     "start_time": "2023-05-17T03:47:53.534933Z",
     "end_time": "2023-05-17T03:47:53.537264Z"
    }
   }
  },
  {
   "cell_type": "code",
   "execution_count": 3,
   "outputs": [
    {
     "data": {
      "text/plain": "{'_shared': {},\n 'dev': {'password': 'dev.password'},\n 'int': {'password': 'int.password'},\n 'prod': {'password': 'prod.password'}}"
     },
     "execution_count": 3,
     "metadata": {},
     "output_type": "execute_result"
    }
   ],
   "source": [
    "# content of secret-config.json\n",
    "{\n",
    "    # this config file support comments, you can put documentation in the config file\n",
    "    \"_shared\": {\n",
    "    },\n",
    "    \"dev\": {\n",
    "        \"password\": \"dev.password\"\n",
    "    },\n",
    "    \"int\": {\n",
    "        \"password\": \"int.password\"\n",
    "    },\n",
    "    \"prod\": {\n",
    "        \"password\": \"prod.password\"\n",
    "    }\n",
    "}"
   ],
   "metadata": {
    "collapsed": false,
    "ExecuteTime": {
     "start_time": "2023-05-17T03:47:53.538268Z",
     "end_time": "2023-05-17T03:47:53.540626Z"
    }
   }
  },
  {
   "cell_type": "markdown",
   "source": [
    "Then you can create the config object and deploy it to config storage."
   ],
   "metadata": {
    "collapsed": false
   }
  },
  {
   "cell_type": "code",
   "execution_count": 4,
   "outputs": [
    {
     "data": {
      "text/plain": "\u001B[1;35mConfig\u001B[0m\u001B[1m(\u001B[0m\n    \u001B[33mdata\u001B[0m=\u001B[1m{\u001B[0m\n        \u001B[32m'_shared'\u001B[0m: \u001B[1m{\u001B[0m\u001B[32m'*.project_name'\u001B[0m: \u001B[32m'my_project'\u001B[0m\u001B[1m}\u001B[0m,\n        \u001B[32m'dev'\u001B[0m: \u001B[1m{\u001B[0m\u001B[32m'username'\u001B[0m: \u001B[32m'dev.user'\u001B[0m\u001B[1m}\u001B[0m,\n        \u001B[32m'int'\u001B[0m: \u001B[1m{\u001B[0m\u001B[32m'username'\u001B[0m: \u001B[32m'int.user'\u001B[0m\u001B[1m}\u001B[0m,\n        \u001B[32m'prod'\u001B[0m: \u001B[1m{\u001B[0m\u001B[32m'username'\u001B[0m: \u001B[32m'prod.user'\u001B[0m\u001B[1m}\u001B[0m\n    \u001B[1m}\u001B[0m,\n    \u001B[33msecret_data\u001B[0m=\u001B[1m{\u001B[0m\n        \u001B[32m'_shared'\u001B[0m: \u001B[1m{\u001B[0m\u001B[1m}\u001B[0m,\n        \u001B[32m'dev'\u001B[0m: \u001B[1m{\u001B[0m\u001B[32m'password'\u001B[0m: \u001B[32m'dev.password'\u001B[0m\u001B[1m}\u001B[0m,\n        \u001B[32m'int'\u001B[0m: \u001B[1m{\u001B[0m\u001B[32m'password'\u001B[0m: \u001B[32m'int.password'\u001B[0m\u001B[1m}\u001B[0m,\n        \u001B[32m'prod'\u001B[0m: \u001B[1m{\u001B[0m\u001B[32m'password'\u001B[0m: \u001B[32m'prod.password'\u001B[0m\u001B[1m}\u001B[0m\n    \u001B[1m}\u001B[0m,\n    \u001B[33mEnv\u001B[0m=\u001B[1m<\u001B[0m\u001B[1;95mclass\u001B[0m\u001B[39m \u001B[0m\u001B[32m'config_define.Env'\u001B[0m\u001B[39m>,\u001B[0m\n\u001B[39m    \u001B[0m\u001B[33mEnvEnum\u001B[0m\u001B[39m=<enum \u001B[0m\u001B[32m'EnvEnum'\u001B[0m\u001B[1m>\u001B[0m,\n    \u001B[33m_merged_data\u001B[0m=\u001B[1m{\u001B[0m\n        \u001B[32m'dev'\u001B[0m: \u001B[1m{\u001B[0m\u001B[32m'username'\u001B[0m: \u001B[32m'dev.user'\u001B[0m, \u001B[32m'project_name'\u001B[0m: \u001B[32m'my_project'\u001B[0m\u001B[1m}\u001B[0m,\n        \u001B[32m'int'\u001B[0m: \u001B[1m{\u001B[0m\u001B[32m'username'\u001B[0m: \u001B[32m'int.user'\u001B[0m, \u001B[32m'project_name'\u001B[0m: \u001B[32m'my_project'\u001B[0m\u001B[1m}\u001B[0m,\n        \u001B[32m'prod'\u001B[0m: \u001B[1m{\u001B[0m\u001B[32m'username'\u001B[0m: \u001B[32m'prod.user'\u001B[0m, \u001B[32m'project_name'\u001B[0m: \u001B[32m'my_project'\u001B[0m\u001B[1m}\u001B[0m\n    \u001B[1m}\u001B[0m,\n    \u001B[33m_merged_secret_data\u001B[0m=\u001B[1m{\u001B[0m\n        \u001B[32m'dev'\u001B[0m: \u001B[1m{\u001B[0m\u001B[32m'password'\u001B[0m: \u001B[32m'dev.password'\u001B[0m\u001B[1m}\u001B[0m,\n        \u001B[32m'int'\u001B[0m: \u001B[1m{\u001B[0m\u001B[32m'password'\u001B[0m: \u001B[32m'int.password'\u001B[0m\u001B[1m}\u001B[0m,\n        \u001B[32m'prod'\u001B[0m: \u001B[1m{\u001B[0m\u001B[32m'password'\u001B[0m: \u001B[32m'prod.password'\u001B[0m\u001B[1m}\u001B[0m\n    \u001B[1m}\u001B[0m,\n    \u001B[33m_merged\u001B[0m=\u001B[1m{\u001B[0m\n        \u001B[32m'dev'\u001B[0m: \u001B[1m{\u001B[0m\u001B[32m'username'\u001B[0m: \u001B[32m'dev.user'\u001B[0m, \u001B[32m'project_name'\u001B[0m: \u001B[32m'my_project'\u001B[0m, \u001B[32m'password'\u001B[0m: \u001B[32m'dev.password'\u001B[0m\u001B[1m}\u001B[0m,\n        \u001B[32m'int'\u001B[0m: \u001B[1m{\u001B[0m\u001B[32m'username'\u001B[0m: \u001B[32m'int.user'\u001B[0m, \u001B[32m'project_name'\u001B[0m: \u001B[32m'my_project'\u001B[0m, \u001B[32m'password'\u001B[0m: \u001B[32m'int.password'\u001B[0m\u001B[1m}\u001B[0m,\n        \u001B[32m'prod'\u001B[0m: \u001B[1m{\u001B[0m\u001B[32m'username'\u001B[0m: \u001B[32m'prod.user'\u001B[0m, \u001B[32m'project_name'\u001B[0m: \u001B[32m'my_project'\u001B[0m, \u001B[32m'password'\u001B[0m: \u001B[32m'prod.password'\u001B[0m\u001B[1m}\u001B[0m\n    \u001B[1m}\u001B[0m\n\u001B[1m)\u001B[0m\n",
      "text/html": "<pre style=\"white-space:pre;overflow-x:auto;line-height:normal;font-family:Menlo,'DejaVu Sans Mono',consolas,'Courier New',monospace\"><span style=\"color: #800080; text-decoration-color: #800080; font-weight: bold\">Config</span><span style=\"font-weight: bold\">(</span>\n    <span style=\"color: #808000; text-decoration-color: #808000\">data</span>=<span style=\"font-weight: bold\">{</span>\n        <span style=\"color: #008000; text-decoration-color: #008000\">'_shared'</span>: <span style=\"font-weight: bold\">{</span><span style=\"color: #008000; text-decoration-color: #008000\">'*.project_name'</span>: <span style=\"color: #008000; text-decoration-color: #008000\">'my_project'</span><span style=\"font-weight: bold\">}</span>,\n        <span style=\"color: #008000; text-decoration-color: #008000\">'dev'</span>: <span style=\"font-weight: bold\">{</span><span style=\"color: #008000; text-decoration-color: #008000\">'username'</span>: <span style=\"color: #008000; text-decoration-color: #008000\">'dev.user'</span><span style=\"font-weight: bold\">}</span>,\n        <span style=\"color: #008000; text-decoration-color: #008000\">'int'</span>: <span style=\"font-weight: bold\">{</span><span style=\"color: #008000; text-decoration-color: #008000\">'username'</span>: <span style=\"color: #008000; text-decoration-color: #008000\">'int.user'</span><span style=\"font-weight: bold\">}</span>,\n        <span style=\"color: #008000; text-decoration-color: #008000\">'prod'</span>: <span style=\"font-weight: bold\">{</span><span style=\"color: #008000; text-decoration-color: #008000\">'username'</span>: <span style=\"color: #008000; text-decoration-color: #008000\">'prod.user'</span><span style=\"font-weight: bold\">}</span>\n    <span style=\"font-weight: bold\">}</span>,\n    <span style=\"color: #808000; text-decoration-color: #808000\">secret_data</span>=<span style=\"font-weight: bold\">{</span>\n        <span style=\"color: #008000; text-decoration-color: #008000\">'_shared'</span>: <span style=\"font-weight: bold\">{}</span>,\n        <span style=\"color: #008000; text-decoration-color: #008000\">'dev'</span>: <span style=\"font-weight: bold\">{</span><span style=\"color: #008000; text-decoration-color: #008000\">'password'</span>: <span style=\"color: #008000; text-decoration-color: #008000\">'dev.password'</span><span style=\"font-weight: bold\">}</span>,\n        <span style=\"color: #008000; text-decoration-color: #008000\">'int'</span>: <span style=\"font-weight: bold\">{</span><span style=\"color: #008000; text-decoration-color: #008000\">'password'</span>: <span style=\"color: #008000; text-decoration-color: #008000\">'int.password'</span><span style=\"font-weight: bold\">}</span>,\n        <span style=\"color: #008000; text-decoration-color: #008000\">'prod'</span>: <span style=\"font-weight: bold\">{</span><span style=\"color: #008000; text-decoration-color: #008000\">'password'</span>: <span style=\"color: #008000; text-decoration-color: #008000\">'prod.password'</span><span style=\"font-weight: bold\">}</span>\n    <span style=\"font-weight: bold\">}</span>,\n    <span style=\"color: #808000; text-decoration-color: #808000\">Env</span>=<span style=\"font-weight: bold\">&lt;</span><span style=\"color: #ff00ff; text-decoration-color: #ff00ff; font-weight: bold\">class</span><span style=\"color: #000000; text-decoration-color: #000000\"> </span><span style=\"color: #008000; text-decoration-color: #008000\">'config_define.Env'</span><span style=\"color: #000000; text-decoration-color: #000000\">&gt;,</span>\n<span style=\"color: #000000; text-decoration-color: #000000\">    </span><span style=\"color: #808000; text-decoration-color: #808000\">EnvEnum</span><span style=\"color: #000000; text-decoration-color: #000000\">=&lt;enum </span><span style=\"color: #008000; text-decoration-color: #008000\">'EnvEnum'</span><span style=\"font-weight: bold\">&gt;</span>,\n    <span style=\"color: #808000; text-decoration-color: #808000\">_merged_data</span>=<span style=\"font-weight: bold\">{</span>\n        <span style=\"color: #008000; text-decoration-color: #008000\">'dev'</span>: <span style=\"font-weight: bold\">{</span><span style=\"color: #008000; text-decoration-color: #008000\">'username'</span>: <span style=\"color: #008000; text-decoration-color: #008000\">'dev.user'</span>, <span style=\"color: #008000; text-decoration-color: #008000\">'project_name'</span>: <span style=\"color: #008000; text-decoration-color: #008000\">'my_project'</span><span style=\"font-weight: bold\">}</span>,\n        <span style=\"color: #008000; text-decoration-color: #008000\">'int'</span>: <span style=\"font-weight: bold\">{</span><span style=\"color: #008000; text-decoration-color: #008000\">'username'</span>: <span style=\"color: #008000; text-decoration-color: #008000\">'int.user'</span>, <span style=\"color: #008000; text-decoration-color: #008000\">'project_name'</span>: <span style=\"color: #008000; text-decoration-color: #008000\">'my_project'</span><span style=\"font-weight: bold\">}</span>,\n        <span style=\"color: #008000; text-decoration-color: #008000\">'prod'</span>: <span style=\"font-weight: bold\">{</span><span style=\"color: #008000; text-decoration-color: #008000\">'username'</span>: <span style=\"color: #008000; text-decoration-color: #008000\">'prod.user'</span>, <span style=\"color: #008000; text-decoration-color: #008000\">'project_name'</span>: <span style=\"color: #008000; text-decoration-color: #008000\">'my_project'</span><span style=\"font-weight: bold\">}</span>\n    <span style=\"font-weight: bold\">}</span>,\n    <span style=\"color: #808000; text-decoration-color: #808000\">_merged_secret_data</span>=<span style=\"font-weight: bold\">{</span>\n        <span style=\"color: #008000; text-decoration-color: #008000\">'dev'</span>: <span style=\"font-weight: bold\">{</span><span style=\"color: #008000; text-decoration-color: #008000\">'password'</span>: <span style=\"color: #008000; text-decoration-color: #008000\">'dev.password'</span><span style=\"font-weight: bold\">}</span>,\n        <span style=\"color: #008000; text-decoration-color: #008000\">'int'</span>: <span style=\"font-weight: bold\">{</span><span style=\"color: #008000; text-decoration-color: #008000\">'password'</span>: <span style=\"color: #008000; text-decoration-color: #008000\">'int.password'</span><span style=\"font-weight: bold\">}</span>,\n        <span style=\"color: #008000; text-decoration-color: #008000\">'prod'</span>: <span style=\"font-weight: bold\">{</span><span style=\"color: #008000; text-decoration-color: #008000\">'password'</span>: <span style=\"color: #008000; text-decoration-color: #008000\">'prod.password'</span><span style=\"font-weight: bold\">}</span>\n    <span style=\"font-weight: bold\">}</span>,\n    <span style=\"color: #808000; text-decoration-color: #808000\">_merged</span>=<span style=\"font-weight: bold\">{</span>\n        <span style=\"color: #008000; text-decoration-color: #008000\">'dev'</span>: <span style=\"font-weight: bold\">{</span><span style=\"color: #008000; text-decoration-color: #008000\">'username'</span>: <span style=\"color: #008000; text-decoration-color: #008000\">'dev.user'</span>, <span style=\"color: #008000; text-decoration-color: #008000\">'project_name'</span>: <span style=\"color: #008000; text-decoration-color: #008000\">'my_project'</span>, <span style=\"color: #008000; text-decoration-color: #008000\">'password'</span>: <span style=\"color: #008000; text-decoration-color: #008000\">'dev.password'</span><span style=\"font-weight: bold\">}</span>,\n        <span style=\"color: #008000; text-decoration-color: #008000\">'int'</span>: <span style=\"font-weight: bold\">{</span><span style=\"color: #008000; text-decoration-color: #008000\">'username'</span>: <span style=\"color: #008000; text-decoration-color: #008000\">'int.user'</span>, <span style=\"color: #008000; text-decoration-color: #008000\">'project_name'</span>: <span style=\"color: #008000; text-decoration-color: #008000\">'my_project'</span>, <span style=\"color: #008000; text-decoration-color: #008000\">'password'</span>: <span style=\"color: #008000; text-decoration-color: #008000\">'int.password'</span><span style=\"font-weight: bold\">}</span>,\n        <span style=\"color: #008000; text-decoration-color: #008000\">'prod'</span>: <span style=\"font-weight: bold\">{</span><span style=\"color: #008000; text-decoration-color: #008000\">'username'</span>: <span style=\"color: #008000; text-decoration-color: #008000\">'prod.user'</span>, <span style=\"color: #008000; text-decoration-color: #008000\">'project_name'</span>: <span style=\"color: #008000; text-decoration-color: #008000\">'my_project'</span>, <span style=\"color: #008000; text-decoration-color: #008000\">'password'</span>: <span style=\"color: #008000; text-decoration-color: #008000\">'prod.password'</span><span style=\"font-weight: bold\">}</span>\n    <span style=\"font-weight: bold\">}</span>\n<span style=\"font-weight: bold\">)</span>\n</pre>\n"
     },
     "metadata": {},
     "output_type": "display_data"
    }
   ],
   "source": [
    "# content of config_deploy.py\n",
    "# -*- coding: utf-8 -*-\n",
    "\n",
    "# import from the config_define.py\n",
    "from config_define import EnvEnum, Env, Config\n",
    "\n",
    "import os\n",
    "from pathlib import Path\n",
    "from boto_session_manager import BotoSesManager\n",
    "from rich import print as rprint\n",
    "\n",
    "# Read config from local file\n",
    "dir_here = Path(os.getcwd())\n",
    "path_config = str(dir_here.joinpath(\"config.json\"))\n",
    "path_secret_config = str(dir_here.joinpath(\"secret_config.json\"))\n",
    "\n",
    "\n",
    "config = Config.read(\n",
    "    env_class=Env,\n",
    "    env_enum_class=EnvEnum,\n",
    "    path_config=path_config,\n",
    "    path_secret_config=path_secret_config,\n",
    ")\n",
    "rprint(config)"
   ],
   "metadata": {
    "collapsed": false,
    "ExecuteTime": {
     "start_time": "2023-05-17T03:47:53.542756Z",
     "end_time": "2023-05-17T03:47:53.594810Z"
    }
   }
  },
  {
   "cell_type": "code",
   "execution_count": 12,
   "outputs": [
    {
     "name": "stdout",
     "output_type": "stream",
     "text": [
      "+----- ⏱ 🟢 Start 'deploy config to SSM parameter' -----------------------------+\n",
      "| \n",
      "| 🚀️ deploy SSM Parameter '/app/my_project' ...\n",
      "| preview at: https://us-east-1.console.aws.amazon.com/systems-manager/parameters/app/my_project/description?region=us-east-1&tab=Table\n",
      "| parameter data is the same as existing one, do nothing.\n",
      "| \n",
      "+----- ⏰ 🟢 End 'deploy config to SSM parameter', elapsed = 0.27 sec -----------+\n",
      "+----- ⏱ 🟢 Start 'deploy config to SSM parameter' -----------------------------+\n",
      "| \n",
      "| 🚀️ deploy SSM Parameter '/app/my_project-dev' ...\n",
      "| preview at: https://us-east-1.console.aws.amazon.com/systems-manager/parameters/app/my_project-dev/description?region=us-east-1&tab=Table\n",
      "| parameter data is the same as existing one, do nothing.\n",
      "| \n",
      "+----- ⏰ 🟢 End 'deploy config to SSM parameter', elapsed = 0.13 sec -----------+\n",
      "+----- ⏱ 🟢 Start 'deploy config to SSM parameter' -----------------------------+\n",
      "| \n",
      "| 🚀️ deploy SSM Parameter '/app/my_project-int' ...\n",
      "| preview at: https://us-east-1.console.aws.amazon.com/systems-manager/parameters/app/my_project-int/description?region=us-east-1&tab=Table\n",
      "| parameter data is the same as existing one, do nothing.\n",
      "| \n",
      "+----- ⏰ 🟢 End 'deploy config to SSM parameter', elapsed = 0.18 sec -----------+\n",
      "+----- ⏱ 🟢 Start 'deploy config to SSM parameter' -----------------------------+\n",
      "| \n",
      "| 🚀️ deploy SSM Parameter '/app/my_project-prod' ...\n",
      "| preview at: https://us-east-1.console.aws.amazon.com/systems-manager/parameters/app/my_project-prod/description?region=us-east-1&tab=Table\n",
      "| parameter data is the same as existing one, do nothing.\n",
      "| \n",
      "+----- ⏰ 🟢 End 'deploy config to SSM parameter', elapsed = 0.13 sec -----------+\n"
     ]
    },
    {
     "data": {
      "text/plain": "\u001B[1m[\u001B[0m\n    \u001B[1;35mConfigDeployment\u001B[0m\u001B[1m(\u001B[0m\n        \u001B[33mparameter_name\u001B[0m=\u001B[32m'/app/my_project'\u001B[0m,\n        \u001B[33mparameter_data\u001B[0m=\u001B[1m{\u001B[0m\n            \u001B[32m'data'\u001B[0m: \u001B[1m{\u001B[0m\n                \u001B[32m'_shared'\u001B[0m: \u001B[1m{\u001B[0m\u001B[32m'*.project_name'\u001B[0m: \u001B[32m'my_project'\u001B[0m\u001B[1m}\u001B[0m,\n                \u001B[32m'dev'\u001B[0m: \u001B[1m{\u001B[0m\u001B[32m'username'\u001B[0m: \u001B[32m'dev.user'\u001B[0m\u001B[1m}\u001B[0m,\n                \u001B[32m'int'\u001B[0m: \u001B[1m{\u001B[0m\u001B[32m'username'\u001B[0m: \u001B[32m'int.user'\u001B[0m\u001B[1m}\u001B[0m,\n                \u001B[32m'prod'\u001B[0m: \u001B[1m{\u001B[0m\u001B[32m'username'\u001B[0m: \u001B[32m'prod.user'\u001B[0m\u001B[1m}\u001B[0m\n            \u001B[1m}\u001B[0m,\n            \u001B[32m'secret_data'\u001B[0m: \u001B[1m{\u001B[0m\n                \u001B[32m'_shared'\u001B[0m: \u001B[1m{\u001B[0m\u001B[1m}\u001B[0m,\n                \u001B[32m'dev'\u001B[0m: \u001B[1m{\u001B[0m\u001B[32m'password'\u001B[0m: \u001B[32m'dev.password'\u001B[0m\u001B[1m}\u001B[0m,\n                \u001B[32m'int'\u001B[0m: \u001B[1m{\u001B[0m\u001B[32m'password'\u001B[0m: \u001B[32m'int.password'\u001B[0m\u001B[1m}\u001B[0m,\n                \u001B[32m'prod'\u001B[0m: \u001B[1m{\u001B[0m\u001B[32m'password'\u001B[0m: \u001B[32m'prod.password'\u001B[0m\u001B[1m}\u001B[0m\n            \u001B[1m}\u001B[0m\n        \u001B[1m}\u001B[0m,\n        \u001B[33mproject_name\u001B[0m=\u001B[32m'my_project'\u001B[0m,\n        \u001B[33menv_name\u001B[0m=\u001B[32m'all'\u001B[0m,\n        \u001B[33mdeployment\u001B[0m=\u001B[3;35mNone\u001B[0m,\n        \u001B[33mdeletion\u001B[0m=\u001B[3;35mNone\u001B[0m\n    \u001B[1m)\u001B[0m,\n    \u001B[1;35mConfigDeployment\u001B[0m\u001B[1m(\u001B[0m\n        \u001B[33mparameter_name\u001B[0m=\u001B[32m'/app/my_project-dev'\u001B[0m,\n        \u001B[33mparameter_data\u001B[0m=\u001B[1m{\u001B[0m\n            \u001B[32m'data'\u001B[0m: \u001B[1m{\u001B[0m\u001B[32m'_shared'\u001B[0m: \u001B[1m{\u001B[0m\u001B[32m'*.project_name'\u001B[0m: \u001B[32m'my_project'\u001B[0m\u001B[1m}\u001B[0m, \u001B[32m'dev'\u001B[0m: \u001B[1m{\u001B[0m\u001B[32m'username'\u001B[0m: \u001B[32m'dev.user'\u001B[0m\u001B[1m}\u001B[0m\u001B[1m}\u001B[0m,\n            \u001B[32m'secret_data'\u001B[0m: \u001B[1m{\u001B[0m\u001B[32m'_shared'\u001B[0m: \u001B[1m{\u001B[0m\u001B[1m}\u001B[0m, \u001B[32m'dev'\u001B[0m: \u001B[1m{\u001B[0m\u001B[32m'password'\u001B[0m: \u001B[32m'dev.password'\u001B[0m\u001B[1m}\u001B[0m\u001B[1m}\u001B[0m\n        \u001B[1m}\u001B[0m,\n        \u001B[33mproject_name\u001B[0m=\u001B[32m'my_project'\u001B[0m,\n        \u001B[33menv_name\u001B[0m=\u001B[32m'dev'\u001B[0m,\n        \u001B[33mdeployment\u001B[0m=\u001B[3;35mNone\u001B[0m,\n        \u001B[33mdeletion\u001B[0m=\u001B[3;35mNone\u001B[0m\n    \u001B[1m)\u001B[0m,\n    \u001B[1;35mConfigDeployment\u001B[0m\u001B[1m(\u001B[0m\n        \u001B[33mparameter_name\u001B[0m=\u001B[32m'/app/my_project-int'\u001B[0m,\n        \u001B[33mparameter_data\u001B[0m=\u001B[1m{\u001B[0m\n            \u001B[32m'data'\u001B[0m: \u001B[1m{\u001B[0m\u001B[32m'_shared'\u001B[0m: \u001B[1m{\u001B[0m\u001B[32m'*.project_name'\u001B[0m: \u001B[32m'my_project'\u001B[0m\u001B[1m}\u001B[0m, \u001B[32m'int'\u001B[0m: \u001B[1m{\u001B[0m\u001B[32m'username'\u001B[0m: \u001B[32m'int.user'\u001B[0m\u001B[1m}\u001B[0m\u001B[1m}\u001B[0m,\n            \u001B[32m'secret_data'\u001B[0m: \u001B[1m{\u001B[0m\u001B[32m'_shared'\u001B[0m: \u001B[1m{\u001B[0m\u001B[1m}\u001B[0m, \u001B[32m'int'\u001B[0m: \u001B[1m{\u001B[0m\u001B[32m'password'\u001B[0m: \u001B[32m'int.password'\u001B[0m\u001B[1m}\u001B[0m\u001B[1m}\u001B[0m\n        \u001B[1m}\u001B[0m,\n        \u001B[33mproject_name\u001B[0m=\u001B[32m'my_project'\u001B[0m,\n        \u001B[33menv_name\u001B[0m=\u001B[32m'int'\u001B[0m,\n        \u001B[33mdeployment\u001B[0m=\u001B[3;35mNone\u001B[0m,\n        \u001B[33mdeletion\u001B[0m=\u001B[3;35mNone\u001B[0m\n    \u001B[1m)\u001B[0m,\n    \u001B[1;35mConfigDeployment\u001B[0m\u001B[1m(\u001B[0m\n        \u001B[33mparameter_name\u001B[0m=\u001B[32m'/app/my_project-prod'\u001B[0m,\n        \u001B[33mparameter_data\u001B[0m=\u001B[1m{\u001B[0m\n            \u001B[32m'data'\u001B[0m: \u001B[1m{\u001B[0m\u001B[32m'_shared'\u001B[0m: \u001B[1m{\u001B[0m\u001B[32m'*.project_name'\u001B[0m: \u001B[32m'my_project'\u001B[0m\u001B[1m}\u001B[0m, \u001B[32m'prod'\u001B[0m: \u001B[1m{\u001B[0m\u001B[32m'username'\u001B[0m: \u001B[32m'prod.user'\u001B[0m\u001B[1m}\u001B[0m\u001B[1m}\u001B[0m,\n            \u001B[32m'secret_data'\u001B[0m: \u001B[1m{\u001B[0m\u001B[32m'_shared'\u001B[0m: \u001B[1m{\u001B[0m\u001B[1m}\u001B[0m, \u001B[32m'prod'\u001B[0m: \u001B[1m{\u001B[0m\u001B[32m'password'\u001B[0m: \u001B[32m'prod.password'\u001B[0m\u001B[1m}\u001B[0m\u001B[1m}\u001B[0m\n        \u001B[1m}\u001B[0m,\n        \u001B[33mproject_name\u001B[0m=\u001B[32m'my_project'\u001B[0m,\n        \u001B[33menv_name\u001B[0m=\u001B[32m'prod'\u001B[0m,\n        \u001B[33mdeployment\u001B[0m=\u001B[3;35mNone\u001B[0m,\n        \u001B[33mdeletion\u001B[0m=\u001B[3;35mNone\u001B[0m\n    \u001B[1m)\u001B[0m\n\u001B[1m]\u001B[0m\n",
      "text/html": "<pre style=\"white-space:pre;overflow-x:auto;line-height:normal;font-family:Menlo,'DejaVu Sans Mono',consolas,'Courier New',monospace\"><span style=\"font-weight: bold\">[</span>\n    <span style=\"color: #800080; text-decoration-color: #800080; font-weight: bold\">ConfigDeployment</span><span style=\"font-weight: bold\">(</span>\n        <span style=\"color: #808000; text-decoration-color: #808000\">parameter_name</span>=<span style=\"color: #008000; text-decoration-color: #008000\">'/app/my_project'</span>,\n        <span style=\"color: #808000; text-decoration-color: #808000\">parameter_data</span>=<span style=\"font-weight: bold\">{</span>\n            <span style=\"color: #008000; text-decoration-color: #008000\">'data'</span>: <span style=\"font-weight: bold\">{</span>\n                <span style=\"color: #008000; text-decoration-color: #008000\">'_shared'</span>: <span style=\"font-weight: bold\">{</span><span style=\"color: #008000; text-decoration-color: #008000\">'*.project_name'</span>: <span style=\"color: #008000; text-decoration-color: #008000\">'my_project'</span><span style=\"font-weight: bold\">}</span>,\n                <span style=\"color: #008000; text-decoration-color: #008000\">'dev'</span>: <span style=\"font-weight: bold\">{</span><span style=\"color: #008000; text-decoration-color: #008000\">'username'</span>: <span style=\"color: #008000; text-decoration-color: #008000\">'dev.user'</span><span style=\"font-weight: bold\">}</span>,\n                <span style=\"color: #008000; text-decoration-color: #008000\">'int'</span>: <span style=\"font-weight: bold\">{</span><span style=\"color: #008000; text-decoration-color: #008000\">'username'</span>: <span style=\"color: #008000; text-decoration-color: #008000\">'int.user'</span><span style=\"font-weight: bold\">}</span>,\n                <span style=\"color: #008000; text-decoration-color: #008000\">'prod'</span>: <span style=\"font-weight: bold\">{</span><span style=\"color: #008000; text-decoration-color: #008000\">'username'</span>: <span style=\"color: #008000; text-decoration-color: #008000\">'prod.user'</span><span style=\"font-weight: bold\">}</span>\n            <span style=\"font-weight: bold\">}</span>,\n            <span style=\"color: #008000; text-decoration-color: #008000\">'secret_data'</span>: <span style=\"font-weight: bold\">{</span>\n                <span style=\"color: #008000; text-decoration-color: #008000\">'_shared'</span>: <span style=\"font-weight: bold\">{}</span>,\n                <span style=\"color: #008000; text-decoration-color: #008000\">'dev'</span>: <span style=\"font-weight: bold\">{</span><span style=\"color: #008000; text-decoration-color: #008000\">'password'</span>: <span style=\"color: #008000; text-decoration-color: #008000\">'dev.password'</span><span style=\"font-weight: bold\">}</span>,\n                <span style=\"color: #008000; text-decoration-color: #008000\">'int'</span>: <span style=\"font-weight: bold\">{</span><span style=\"color: #008000; text-decoration-color: #008000\">'password'</span>: <span style=\"color: #008000; text-decoration-color: #008000\">'int.password'</span><span style=\"font-weight: bold\">}</span>,\n                <span style=\"color: #008000; text-decoration-color: #008000\">'prod'</span>: <span style=\"font-weight: bold\">{</span><span style=\"color: #008000; text-decoration-color: #008000\">'password'</span>: <span style=\"color: #008000; text-decoration-color: #008000\">'prod.password'</span><span style=\"font-weight: bold\">}</span>\n            <span style=\"font-weight: bold\">}</span>\n        <span style=\"font-weight: bold\">}</span>,\n        <span style=\"color: #808000; text-decoration-color: #808000\">project_name</span>=<span style=\"color: #008000; text-decoration-color: #008000\">'my_project'</span>,\n        <span style=\"color: #808000; text-decoration-color: #808000\">env_name</span>=<span style=\"color: #008000; text-decoration-color: #008000\">'all'</span>,\n        <span style=\"color: #808000; text-decoration-color: #808000\">deployment</span>=<span style=\"color: #800080; text-decoration-color: #800080; font-style: italic\">None</span>,\n        <span style=\"color: #808000; text-decoration-color: #808000\">deletion</span>=<span style=\"color: #800080; text-decoration-color: #800080; font-style: italic\">None</span>\n    <span style=\"font-weight: bold\">)</span>,\n    <span style=\"color: #800080; text-decoration-color: #800080; font-weight: bold\">ConfigDeployment</span><span style=\"font-weight: bold\">(</span>\n        <span style=\"color: #808000; text-decoration-color: #808000\">parameter_name</span>=<span style=\"color: #008000; text-decoration-color: #008000\">'/app/my_project-dev'</span>,\n        <span style=\"color: #808000; text-decoration-color: #808000\">parameter_data</span>=<span style=\"font-weight: bold\">{</span>\n            <span style=\"color: #008000; text-decoration-color: #008000\">'data'</span>: <span style=\"font-weight: bold\">{</span><span style=\"color: #008000; text-decoration-color: #008000\">'_shared'</span>: <span style=\"font-weight: bold\">{</span><span style=\"color: #008000; text-decoration-color: #008000\">'*.project_name'</span>: <span style=\"color: #008000; text-decoration-color: #008000\">'my_project'</span><span style=\"font-weight: bold\">}</span>, <span style=\"color: #008000; text-decoration-color: #008000\">'dev'</span>: <span style=\"font-weight: bold\">{</span><span style=\"color: #008000; text-decoration-color: #008000\">'username'</span>: <span style=\"color: #008000; text-decoration-color: #008000\">'dev.user'</span><span style=\"font-weight: bold\">}}</span>,\n            <span style=\"color: #008000; text-decoration-color: #008000\">'secret_data'</span>: <span style=\"font-weight: bold\">{</span><span style=\"color: #008000; text-decoration-color: #008000\">'_shared'</span>: <span style=\"font-weight: bold\">{}</span>, <span style=\"color: #008000; text-decoration-color: #008000\">'dev'</span>: <span style=\"font-weight: bold\">{</span><span style=\"color: #008000; text-decoration-color: #008000\">'password'</span>: <span style=\"color: #008000; text-decoration-color: #008000\">'dev.password'</span><span style=\"font-weight: bold\">}}</span>\n        <span style=\"font-weight: bold\">}</span>,\n        <span style=\"color: #808000; text-decoration-color: #808000\">project_name</span>=<span style=\"color: #008000; text-decoration-color: #008000\">'my_project'</span>,\n        <span style=\"color: #808000; text-decoration-color: #808000\">env_name</span>=<span style=\"color: #008000; text-decoration-color: #008000\">'dev'</span>,\n        <span style=\"color: #808000; text-decoration-color: #808000\">deployment</span>=<span style=\"color: #800080; text-decoration-color: #800080; font-style: italic\">None</span>,\n        <span style=\"color: #808000; text-decoration-color: #808000\">deletion</span>=<span style=\"color: #800080; text-decoration-color: #800080; font-style: italic\">None</span>\n    <span style=\"font-weight: bold\">)</span>,\n    <span style=\"color: #800080; text-decoration-color: #800080; font-weight: bold\">ConfigDeployment</span><span style=\"font-weight: bold\">(</span>\n        <span style=\"color: #808000; text-decoration-color: #808000\">parameter_name</span>=<span style=\"color: #008000; text-decoration-color: #008000\">'/app/my_project-int'</span>,\n        <span style=\"color: #808000; text-decoration-color: #808000\">parameter_data</span>=<span style=\"font-weight: bold\">{</span>\n            <span style=\"color: #008000; text-decoration-color: #008000\">'data'</span>: <span style=\"font-weight: bold\">{</span><span style=\"color: #008000; text-decoration-color: #008000\">'_shared'</span>: <span style=\"font-weight: bold\">{</span><span style=\"color: #008000; text-decoration-color: #008000\">'*.project_name'</span>: <span style=\"color: #008000; text-decoration-color: #008000\">'my_project'</span><span style=\"font-weight: bold\">}</span>, <span style=\"color: #008000; text-decoration-color: #008000\">'int'</span>: <span style=\"font-weight: bold\">{</span><span style=\"color: #008000; text-decoration-color: #008000\">'username'</span>: <span style=\"color: #008000; text-decoration-color: #008000\">'int.user'</span><span style=\"font-weight: bold\">}}</span>,\n            <span style=\"color: #008000; text-decoration-color: #008000\">'secret_data'</span>: <span style=\"font-weight: bold\">{</span><span style=\"color: #008000; text-decoration-color: #008000\">'_shared'</span>: <span style=\"font-weight: bold\">{}</span>, <span style=\"color: #008000; text-decoration-color: #008000\">'int'</span>: <span style=\"font-weight: bold\">{</span><span style=\"color: #008000; text-decoration-color: #008000\">'password'</span>: <span style=\"color: #008000; text-decoration-color: #008000\">'int.password'</span><span style=\"font-weight: bold\">}}</span>\n        <span style=\"font-weight: bold\">}</span>,\n        <span style=\"color: #808000; text-decoration-color: #808000\">project_name</span>=<span style=\"color: #008000; text-decoration-color: #008000\">'my_project'</span>,\n        <span style=\"color: #808000; text-decoration-color: #808000\">env_name</span>=<span style=\"color: #008000; text-decoration-color: #008000\">'int'</span>,\n        <span style=\"color: #808000; text-decoration-color: #808000\">deployment</span>=<span style=\"color: #800080; text-decoration-color: #800080; font-style: italic\">None</span>,\n        <span style=\"color: #808000; text-decoration-color: #808000\">deletion</span>=<span style=\"color: #800080; text-decoration-color: #800080; font-style: italic\">None</span>\n    <span style=\"font-weight: bold\">)</span>,\n    <span style=\"color: #800080; text-decoration-color: #800080; font-weight: bold\">ConfigDeployment</span><span style=\"font-weight: bold\">(</span>\n        <span style=\"color: #808000; text-decoration-color: #808000\">parameter_name</span>=<span style=\"color: #008000; text-decoration-color: #008000\">'/app/my_project-prod'</span>,\n        <span style=\"color: #808000; text-decoration-color: #808000\">parameter_data</span>=<span style=\"font-weight: bold\">{</span>\n            <span style=\"color: #008000; text-decoration-color: #008000\">'data'</span>: <span style=\"font-weight: bold\">{</span><span style=\"color: #008000; text-decoration-color: #008000\">'_shared'</span>: <span style=\"font-weight: bold\">{</span><span style=\"color: #008000; text-decoration-color: #008000\">'*.project_name'</span>: <span style=\"color: #008000; text-decoration-color: #008000\">'my_project'</span><span style=\"font-weight: bold\">}</span>, <span style=\"color: #008000; text-decoration-color: #008000\">'prod'</span>: <span style=\"font-weight: bold\">{</span><span style=\"color: #008000; text-decoration-color: #008000\">'username'</span>: <span style=\"color: #008000; text-decoration-color: #008000\">'prod.user'</span><span style=\"font-weight: bold\">}}</span>,\n            <span style=\"color: #008000; text-decoration-color: #008000\">'secret_data'</span>: <span style=\"font-weight: bold\">{</span><span style=\"color: #008000; text-decoration-color: #008000\">'_shared'</span>: <span style=\"font-weight: bold\">{}</span>, <span style=\"color: #008000; text-decoration-color: #008000\">'prod'</span>: <span style=\"font-weight: bold\">{</span><span style=\"color: #008000; text-decoration-color: #008000\">'password'</span>: <span style=\"color: #008000; text-decoration-color: #008000\">'prod.password'</span><span style=\"font-weight: bold\">}}</span>\n        <span style=\"font-weight: bold\">}</span>,\n        <span style=\"color: #808000; text-decoration-color: #808000\">project_name</span>=<span style=\"color: #008000; text-decoration-color: #008000\">'my_project'</span>,\n        <span style=\"color: #808000; text-decoration-color: #808000\">env_name</span>=<span style=\"color: #008000; text-decoration-color: #008000\">'prod'</span>,\n        <span style=\"color: #808000; text-decoration-color: #808000\">deployment</span>=<span style=\"color: #800080; text-decoration-color: #800080; font-style: italic\">None</span>,\n        <span style=\"color: #808000; text-decoration-color: #808000\">deletion</span>=<span style=\"color: #800080; text-decoration-color: #800080; font-style: italic\">None</span>\n    <span style=\"font-weight: bold\">)</span>\n<span style=\"font-weight: bold\">]</span>\n</pre>\n"
     },
     "metadata": {},
     "output_type": "display_data"
    }
   ],
   "source": [
    "# Deploy config to AWS Parameter Store\n",
    "bsm = BotoSesManager(profile_name=\"bmt_app_dev_us_east_1\")\n",
    "s3dir_config = \"s3://878625312159-us-east-1-artifacts/projects/config_pattern/patterns/multi_env_json/\"\n",
    "\n",
    "\n",
    "deployment_list = config.deploy(\n",
    "    bsm=bsm,\n",
    "    parameter_with_encryption=True,\n",
    ")\n",
    "rprint(deployment_list)"
   ],
   "metadata": {
    "collapsed": false,
    "ExecuteTime": {
     "start_time": "2023-05-17T03:48:56.754279Z",
     "end_time": "2023-05-17T03:48:57.476228Z"
    }
   }
  },
  {
   "cell_type": "code",
   "execution_count": 13,
   "outputs": [
    {
     "name": "stdout",
     "output_type": "stream",
     "text": [
      "+----- ⏱ 🟢 Start 'deploy config file to S3' -----------------------------------+\n",
      "| \n",
      "| 🚀️ deploy config file s3://878625312159-us-east-1-artifacts/projects/config_pattern/patterns/multi_env_json/app/my_project.json ...\n",
      "| preview at: https://us-east-1.console.aws.amazon.com/s3/object/878625312159-us-east-1-artifacts?prefix=projects/config_pattern/patterns/multi_env_json/app/my_project.json\n",
      "| config data is the same as existing one, do nothing.\n",
      "| \n",
      "+----- ⏰ 🟢 End 'deploy config file to S3', elapsed = 0.14 sec -----------------+\n",
      "+----- ⏱ 🟢 Start 'deploy config file to S3' -----------------------------------+\n",
      "| \n",
      "| 🚀️ deploy config file s3://878625312159-us-east-1-artifacts/projects/config_pattern/patterns/multi_env_json/app/my_project-dev.json ...\n",
      "| preview at: https://us-east-1.console.aws.amazon.com/s3/object/878625312159-us-east-1-artifacts?prefix=projects/config_pattern/patterns/multi_env_json/app/my_project-dev.json\n",
      "| done!\n",
      "| \n",
      "+----- ⏰ 🟢 End 'deploy config file to S3', elapsed = 0.08 sec -----------------+\n",
      "+----- ⏱ 🟢 Start 'deploy config file to S3' -----------------------------------+\n",
      "| \n",
      "| 🚀️ deploy config file s3://878625312159-us-east-1-artifacts/projects/config_pattern/patterns/multi_env_json/app/my_project-int.json ...\n",
      "| preview at: https://us-east-1.console.aws.amazon.com/s3/object/878625312159-us-east-1-artifacts?prefix=projects/config_pattern/patterns/multi_env_json/app/my_project-int.json\n",
      "| done!\n",
      "| \n",
      "+----- ⏰ 🟢 End 'deploy config file to S3', elapsed = 0.08 sec -----------------+\n",
      "+----- ⏱ 🟢 Start 'deploy config file to S3' -----------------------------------+\n",
      "| \n",
      "| 🚀️ deploy config file s3://878625312159-us-east-1-artifacts/projects/config_pattern/patterns/multi_env_json/app/my_project-prod.json ...\n",
      "| preview at: https://us-east-1.console.aws.amazon.com/s3/object/878625312159-us-east-1-artifacts?prefix=projects/config_pattern/patterns/multi_env_json/app/my_project-prod.json\n",
      "| done!\n",
      "| \n",
      "+----- ⏰ 🟢 End 'deploy config file to S3', elapsed = 0.10 sec -----------------+\n"
     ]
    },
    {
     "data": {
      "text/plain": "\u001B[1m[\u001B[0m\n    \u001B[1;35mConfigDeployment\u001B[0m\u001B[1m(\u001B[0m\n        \u001B[33mparameter_name\u001B[0m=\u001B[32m'/app/my_project'\u001B[0m,\n        \u001B[33mparameter_data\u001B[0m=\u001B[1m{\u001B[0m\n            \u001B[32m'data'\u001B[0m: \u001B[1m{\u001B[0m\n                \u001B[32m'_shared'\u001B[0m: \u001B[1m{\u001B[0m\u001B[32m'*.project_name'\u001B[0m: \u001B[32m'my_project'\u001B[0m\u001B[1m}\u001B[0m,\n                \u001B[32m'dev'\u001B[0m: \u001B[1m{\u001B[0m\u001B[32m'username'\u001B[0m: \u001B[32m'dev.user'\u001B[0m\u001B[1m}\u001B[0m,\n                \u001B[32m'int'\u001B[0m: \u001B[1m{\u001B[0m\u001B[32m'username'\u001B[0m: \u001B[32m'int.user'\u001B[0m\u001B[1m}\u001B[0m,\n                \u001B[32m'prod'\u001B[0m: \u001B[1m{\u001B[0m\u001B[32m'username'\u001B[0m: \u001B[32m'prod.user'\u001B[0m\u001B[1m}\u001B[0m\n            \u001B[1m}\u001B[0m,\n            \u001B[32m'secret_data'\u001B[0m: \u001B[1m{\u001B[0m\n                \u001B[32m'_shared'\u001B[0m: \u001B[1m{\u001B[0m\u001B[1m}\u001B[0m,\n                \u001B[32m'dev'\u001B[0m: \u001B[1m{\u001B[0m\u001B[32m'password'\u001B[0m: \u001B[32m'dev.password'\u001B[0m\u001B[1m}\u001B[0m,\n                \u001B[32m'int'\u001B[0m: \u001B[1m{\u001B[0m\u001B[32m'password'\u001B[0m: \u001B[32m'int.password'\u001B[0m\u001B[1m}\u001B[0m,\n                \u001B[32m'prod'\u001B[0m: \u001B[1m{\u001B[0m\u001B[32m'password'\u001B[0m: \u001B[32m'prod.password'\u001B[0m\u001B[1m}\u001B[0m\n            \u001B[1m}\u001B[0m\n        \u001B[1m}\u001B[0m,\n        \u001B[33mproject_name\u001B[0m=\u001B[32m'my_project'\u001B[0m,\n        \u001B[33menv_name\u001B[0m=\u001B[32m'all'\u001B[0m,\n        \u001B[33mdeployment\u001B[0m=\u001B[3;35mNone\u001B[0m,\n        \u001B[33mdeletion\u001B[0m=\u001B[3;35mNone\u001B[0m\n    \u001B[1m)\u001B[0m,\n    \u001B[1;35mConfigDeployment\u001B[0m\u001B[1m(\u001B[0m\n        \u001B[33mparameter_name\u001B[0m=\u001B[32m'/app/my_project-dev'\u001B[0m,\n        \u001B[33mparameter_data\u001B[0m=\u001B[1m{\u001B[0m\n            \u001B[32m'data'\u001B[0m: \u001B[1m{\u001B[0m\u001B[32m'_shared'\u001B[0m: \u001B[1m{\u001B[0m\u001B[32m'*.project_name'\u001B[0m: \u001B[32m'my_project'\u001B[0m\u001B[1m}\u001B[0m, \u001B[32m'dev'\u001B[0m: \u001B[1m{\u001B[0m\u001B[32m'username'\u001B[0m: \u001B[32m'dev.user'\u001B[0m\u001B[1m}\u001B[0m\u001B[1m}\u001B[0m,\n            \u001B[32m'secret_data'\u001B[0m: \u001B[1m{\u001B[0m\u001B[32m'_shared'\u001B[0m: \u001B[1m{\u001B[0m\u001B[1m}\u001B[0m, \u001B[32m'dev'\u001B[0m: \u001B[1m{\u001B[0m\u001B[32m'password'\u001B[0m: \u001B[32m'dev.password'\u001B[0m\u001B[1m}\u001B[0m\u001B[1m}\u001B[0m\n        \u001B[1m}\u001B[0m,\n        \u001B[33mproject_name\u001B[0m=\u001B[32m'my_project'\u001B[0m,\n        \u001B[33menv_name\u001B[0m=\u001B[32m'dev'\u001B[0m,\n        \u001B[33mdeployment\u001B[0m=\u001B[1;35mS3Object\u001B[0m\u001B[1m(\u001B[0m\n            \u001B[33mexpiration\u001B[0m=\u001B[3;35mNone\u001B[0m,\n            \u001B[33metag\u001B[0m=\u001B[32m'\"ac411b52f2670c32151cb4100dd224a7\"'\u001B[0m,\n            \u001B[33mchecksum_crc32\u001B[0m=\u001B[3;35mNone\u001B[0m,\n            \u001B[33mchecksum_crc32c\u001B[0m=\u001B[3;35mNone\u001B[0m,\n            \u001B[33mchecksum_sha1\u001B[0m=\u001B[3;35mNone\u001B[0m,\n            \u001B[33mchecksum_sha256\u001B[0m=\u001B[3;35mNone\u001B[0m,\n            \u001B[33mserver_side_encryption\u001B[0m=\u001B[32m'AES256'\u001B[0m,\n            \u001B[33mversion_id\u001B[0m=\u001B[3;35mNone\u001B[0m,\n            \u001B[33msse_customer_algorithm\u001B[0m=\u001B[3;35mNone\u001B[0m,\n            \u001B[33msse_customer_key_md5\u001B[0m=\u001B[3;35mNone\u001B[0m,\n            \u001B[33msee_kms_key_id\u001B[0m=\u001B[3;35mNone\u001B[0m,\n            \u001B[33msse_kms_encryption_context\u001B[0m=\u001B[3;35mNone\u001B[0m,\n            \u001B[33mbucket_key_enabled\u001B[0m=\u001B[3;35mNone\u001B[0m,\n            \u001B[33mrequest_charged\u001B[0m=\u001B[3;35mNone\u001B[0m\n        \u001B[1m)\u001B[0m,\n        \u001B[33mdeletion\u001B[0m=\u001B[3;35mNone\u001B[0m\n    \u001B[1m)\u001B[0m,\n    \u001B[1;35mConfigDeployment\u001B[0m\u001B[1m(\u001B[0m\n        \u001B[33mparameter_name\u001B[0m=\u001B[32m'/app/my_project-int'\u001B[0m,\n        \u001B[33mparameter_data\u001B[0m=\u001B[1m{\u001B[0m\n            \u001B[32m'data'\u001B[0m: \u001B[1m{\u001B[0m\u001B[32m'_shared'\u001B[0m: \u001B[1m{\u001B[0m\u001B[32m'*.project_name'\u001B[0m: \u001B[32m'my_project'\u001B[0m\u001B[1m}\u001B[0m, \u001B[32m'int'\u001B[0m: \u001B[1m{\u001B[0m\u001B[32m'username'\u001B[0m: \u001B[32m'int.user'\u001B[0m\u001B[1m}\u001B[0m\u001B[1m}\u001B[0m,\n            \u001B[32m'secret_data'\u001B[0m: \u001B[1m{\u001B[0m\u001B[32m'_shared'\u001B[0m: \u001B[1m{\u001B[0m\u001B[1m}\u001B[0m, \u001B[32m'int'\u001B[0m: \u001B[1m{\u001B[0m\u001B[32m'password'\u001B[0m: \u001B[32m'int.password'\u001B[0m\u001B[1m}\u001B[0m\u001B[1m}\u001B[0m\n        \u001B[1m}\u001B[0m,\n        \u001B[33mproject_name\u001B[0m=\u001B[32m'my_project'\u001B[0m,\n        \u001B[33menv_name\u001B[0m=\u001B[32m'int'\u001B[0m,\n        \u001B[33mdeployment\u001B[0m=\u001B[1;35mS3Object\u001B[0m\u001B[1m(\u001B[0m\n            \u001B[33mexpiration\u001B[0m=\u001B[3;35mNone\u001B[0m,\n            \u001B[33metag\u001B[0m=\u001B[32m'\"7163f20371e6da6c6b4e28b807339cf5\"'\u001B[0m,\n            \u001B[33mchecksum_crc32\u001B[0m=\u001B[3;35mNone\u001B[0m,\n            \u001B[33mchecksum_crc32c\u001B[0m=\u001B[3;35mNone\u001B[0m,\n            \u001B[33mchecksum_sha1\u001B[0m=\u001B[3;35mNone\u001B[0m,\n            \u001B[33mchecksum_sha256\u001B[0m=\u001B[3;35mNone\u001B[0m,\n            \u001B[33mserver_side_encryption\u001B[0m=\u001B[32m'AES256'\u001B[0m,\n            \u001B[33mversion_id\u001B[0m=\u001B[3;35mNone\u001B[0m,\n            \u001B[33msse_customer_algorithm\u001B[0m=\u001B[3;35mNone\u001B[0m,\n            \u001B[33msse_customer_key_md5\u001B[0m=\u001B[3;35mNone\u001B[0m,\n            \u001B[33msee_kms_key_id\u001B[0m=\u001B[3;35mNone\u001B[0m,\n            \u001B[33msse_kms_encryption_context\u001B[0m=\u001B[3;35mNone\u001B[0m,\n            \u001B[33mbucket_key_enabled\u001B[0m=\u001B[3;35mNone\u001B[0m,\n            \u001B[33mrequest_charged\u001B[0m=\u001B[3;35mNone\u001B[0m\n        \u001B[1m)\u001B[0m,\n        \u001B[33mdeletion\u001B[0m=\u001B[3;35mNone\u001B[0m\n    \u001B[1m)\u001B[0m,\n    \u001B[1;35mConfigDeployment\u001B[0m\u001B[1m(\u001B[0m\n        \u001B[33mparameter_name\u001B[0m=\u001B[32m'/app/my_project-prod'\u001B[0m,\n        \u001B[33mparameter_data\u001B[0m=\u001B[1m{\u001B[0m\n            \u001B[32m'data'\u001B[0m: \u001B[1m{\u001B[0m\u001B[32m'_shared'\u001B[0m: \u001B[1m{\u001B[0m\u001B[32m'*.project_name'\u001B[0m: \u001B[32m'my_project'\u001B[0m\u001B[1m}\u001B[0m, \u001B[32m'prod'\u001B[0m: \u001B[1m{\u001B[0m\u001B[32m'username'\u001B[0m: \u001B[32m'prod.user'\u001B[0m\u001B[1m}\u001B[0m\u001B[1m}\u001B[0m,\n            \u001B[32m'secret_data'\u001B[0m: \u001B[1m{\u001B[0m\u001B[32m'_shared'\u001B[0m: \u001B[1m{\u001B[0m\u001B[1m}\u001B[0m, \u001B[32m'prod'\u001B[0m: \u001B[1m{\u001B[0m\u001B[32m'password'\u001B[0m: \u001B[32m'prod.password'\u001B[0m\u001B[1m}\u001B[0m\u001B[1m}\u001B[0m\n        \u001B[1m}\u001B[0m,\n        \u001B[33mproject_name\u001B[0m=\u001B[32m'my_project'\u001B[0m,\n        \u001B[33menv_name\u001B[0m=\u001B[32m'prod'\u001B[0m,\n        \u001B[33mdeployment\u001B[0m=\u001B[1;35mS3Object\u001B[0m\u001B[1m(\u001B[0m\n            \u001B[33mexpiration\u001B[0m=\u001B[3;35mNone\u001B[0m,\n            \u001B[33metag\u001B[0m=\u001B[32m'\"9f709ac7c27b0912a37d368db37cd96c\"'\u001B[0m,\n            \u001B[33mchecksum_crc32\u001B[0m=\u001B[3;35mNone\u001B[0m,\n            \u001B[33mchecksum_crc32c\u001B[0m=\u001B[3;35mNone\u001B[0m,\n            \u001B[33mchecksum_sha1\u001B[0m=\u001B[3;35mNone\u001B[0m,\n            \u001B[33mchecksum_sha256\u001B[0m=\u001B[3;35mNone\u001B[0m,\n            \u001B[33mserver_side_encryption\u001B[0m=\u001B[32m'AES256'\u001B[0m,\n            \u001B[33mversion_id\u001B[0m=\u001B[3;35mNone\u001B[0m,\n            \u001B[33msse_customer_algorithm\u001B[0m=\u001B[3;35mNone\u001B[0m,\n            \u001B[33msse_customer_key_md5\u001B[0m=\u001B[3;35mNone\u001B[0m,\n            \u001B[33msee_kms_key_id\u001B[0m=\u001B[3;35mNone\u001B[0m,\n            \u001B[33msse_kms_encryption_context\u001B[0m=\u001B[3;35mNone\u001B[0m,\n            \u001B[33mbucket_key_enabled\u001B[0m=\u001B[3;35mNone\u001B[0m,\n            \u001B[33mrequest_charged\u001B[0m=\u001B[3;35mNone\u001B[0m\n        \u001B[1m)\u001B[0m,\n        \u001B[33mdeletion\u001B[0m=\u001B[3;35mNone\u001B[0m\n    \u001B[1m)\u001B[0m\n\u001B[1m]\u001B[0m\n",
      "text/html": "<pre style=\"white-space:pre;overflow-x:auto;line-height:normal;font-family:Menlo,'DejaVu Sans Mono',consolas,'Courier New',monospace\"><span style=\"font-weight: bold\">[</span>\n    <span style=\"color: #800080; text-decoration-color: #800080; font-weight: bold\">ConfigDeployment</span><span style=\"font-weight: bold\">(</span>\n        <span style=\"color: #808000; text-decoration-color: #808000\">parameter_name</span>=<span style=\"color: #008000; text-decoration-color: #008000\">'/app/my_project'</span>,\n        <span style=\"color: #808000; text-decoration-color: #808000\">parameter_data</span>=<span style=\"font-weight: bold\">{</span>\n            <span style=\"color: #008000; text-decoration-color: #008000\">'data'</span>: <span style=\"font-weight: bold\">{</span>\n                <span style=\"color: #008000; text-decoration-color: #008000\">'_shared'</span>: <span style=\"font-weight: bold\">{</span><span style=\"color: #008000; text-decoration-color: #008000\">'*.project_name'</span>: <span style=\"color: #008000; text-decoration-color: #008000\">'my_project'</span><span style=\"font-weight: bold\">}</span>,\n                <span style=\"color: #008000; text-decoration-color: #008000\">'dev'</span>: <span style=\"font-weight: bold\">{</span><span style=\"color: #008000; text-decoration-color: #008000\">'username'</span>: <span style=\"color: #008000; text-decoration-color: #008000\">'dev.user'</span><span style=\"font-weight: bold\">}</span>,\n                <span style=\"color: #008000; text-decoration-color: #008000\">'int'</span>: <span style=\"font-weight: bold\">{</span><span style=\"color: #008000; text-decoration-color: #008000\">'username'</span>: <span style=\"color: #008000; text-decoration-color: #008000\">'int.user'</span><span style=\"font-weight: bold\">}</span>,\n                <span style=\"color: #008000; text-decoration-color: #008000\">'prod'</span>: <span style=\"font-weight: bold\">{</span><span style=\"color: #008000; text-decoration-color: #008000\">'username'</span>: <span style=\"color: #008000; text-decoration-color: #008000\">'prod.user'</span><span style=\"font-weight: bold\">}</span>\n            <span style=\"font-weight: bold\">}</span>,\n            <span style=\"color: #008000; text-decoration-color: #008000\">'secret_data'</span>: <span style=\"font-weight: bold\">{</span>\n                <span style=\"color: #008000; text-decoration-color: #008000\">'_shared'</span>: <span style=\"font-weight: bold\">{}</span>,\n                <span style=\"color: #008000; text-decoration-color: #008000\">'dev'</span>: <span style=\"font-weight: bold\">{</span><span style=\"color: #008000; text-decoration-color: #008000\">'password'</span>: <span style=\"color: #008000; text-decoration-color: #008000\">'dev.password'</span><span style=\"font-weight: bold\">}</span>,\n                <span style=\"color: #008000; text-decoration-color: #008000\">'int'</span>: <span style=\"font-weight: bold\">{</span><span style=\"color: #008000; text-decoration-color: #008000\">'password'</span>: <span style=\"color: #008000; text-decoration-color: #008000\">'int.password'</span><span style=\"font-weight: bold\">}</span>,\n                <span style=\"color: #008000; text-decoration-color: #008000\">'prod'</span>: <span style=\"font-weight: bold\">{</span><span style=\"color: #008000; text-decoration-color: #008000\">'password'</span>: <span style=\"color: #008000; text-decoration-color: #008000\">'prod.password'</span><span style=\"font-weight: bold\">}</span>\n            <span style=\"font-weight: bold\">}</span>\n        <span style=\"font-weight: bold\">}</span>,\n        <span style=\"color: #808000; text-decoration-color: #808000\">project_name</span>=<span style=\"color: #008000; text-decoration-color: #008000\">'my_project'</span>,\n        <span style=\"color: #808000; text-decoration-color: #808000\">env_name</span>=<span style=\"color: #008000; text-decoration-color: #008000\">'all'</span>,\n        <span style=\"color: #808000; text-decoration-color: #808000\">deployment</span>=<span style=\"color: #800080; text-decoration-color: #800080; font-style: italic\">None</span>,\n        <span style=\"color: #808000; text-decoration-color: #808000\">deletion</span>=<span style=\"color: #800080; text-decoration-color: #800080; font-style: italic\">None</span>\n    <span style=\"font-weight: bold\">)</span>,\n    <span style=\"color: #800080; text-decoration-color: #800080; font-weight: bold\">ConfigDeployment</span><span style=\"font-weight: bold\">(</span>\n        <span style=\"color: #808000; text-decoration-color: #808000\">parameter_name</span>=<span style=\"color: #008000; text-decoration-color: #008000\">'/app/my_project-dev'</span>,\n        <span style=\"color: #808000; text-decoration-color: #808000\">parameter_data</span>=<span style=\"font-weight: bold\">{</span>\n            <span style=\"color: #008000; text-decoration-color: #008000\">'data'</span>: <span style=\"font-weight: bold\">{</span><span style=\"color: #008000; text-decoration-color: #008000\">'_shared'</span>: <span style=\"font-weight: bold\">{</span><span style=\"color: #008000; text-decoration-color: #008000\">'*.project_name'</span>: <span style=\"color: #008000; text-decoration-color: #008000\">'my_project'</span><span style=\"font-weight: bold\">}</span>, <span style=\"color: #008000; text-decoration-color: #008000\">'dev'</span>: <span style=\"font-weight: bold\">{</span><span style=\"color: #008000; text-decoration-color: #008000\">'username'</span>: <span style=\"color: #008000; text-decoration-color: #008000\">'dev.user'</span><span style=\"font-weight: bold\">}}</span>,\n            <span style=\"color: #008000; text-decoration-color: #008000\">'secret_data'</span>: <span style=\"font-weight: bold\">{</span><span style=\"color: #008000; text-decoration-color: #008000\">'_shared'</span>: <span style=\"font-weight: bold\">{}</span>, <span style=\"color: #008000; text-decoration-color: #008000\">'dev'</span>: <span style=\"font-weight: bold\">{</span><span style=\"color: #008000; text-decoration-color: #008000\">'password'</span>: <span style=\"color: #008000; text-decoration-color: #008000\">'dev.password'</span><span style=\"font-weight: bold\">}}</span>\n        <span style=\"font-weight: bold\">}</span>,\n        <span style=\"color: #808000; text-decoration-color: #808000\">project_name</span>=<span style=\"color: #008000; text-decoration-color: #008000\">'my_project'</span>,\n        <span style=\"color: #808000; text-decoration-color: #808000\">env_name</span>=<span style=\"color: #008000; text-decoration-color: #008000\">'dev'</span>,\n        <span style=\"color: #808000; text-decoration-color: #808000\">deployment</span>=<span style=\"color: #800080; text-decoration-color: #800080; font-weight: bold\">S3Object</span><span style=\"font-weight: bold\">(</span>\n            <span style=\"color: #808000; text-decoration-color: #808000\">expiration</span>=<span style=\"color: #800080; text-decoration-color: #800080; font-style: italic\">None</span>,\n            <span style=\"color: #808000; text-decoration-color: #808000\">etag</span>=<span style=\"color: #008000; text-decoration-color: #008000\">'\"ac411b52f2670c32151cb4100dd224a7\"'</span>,\n            <span style=\"color: #808000; text-decoration-color: #808000\">checksum_crc32</span>=<span style=\"color: #800080; text-decoration-color: #800080; font-style: italic\">None</span>,\n            <span style=\"color: #808000; text-decoration-color: #808000\">checksum_crc32c</span>=<span style=\"color: #800080; text-decoration-color: #800080; font-style: italic\">None</span>,\n            <span style=\"color: #808000; text-decoration-color: #808000\">checksum_sha1</span>=<span style=\"color: #800080; text-decoration-color: #800080; font-style: italic\">None</span>,\n            <span style=\"color: #808000; text-decoration-color: #808000\">checksum_sha256</span>=<span style=\"color: #800080; text-decoration-color: #800080; font-style: italic\">None</span>,\n            <span style=\"color: #808000; text-decoration-color: #808000\">server_side_encryption</span>=<span style=\"color: #008000; text-decoration-color: #008000\">'AES256'</span>,\n            <span style=\"color: #808000; text-decoration-color: #808000\">version_id</span>=<span style=\"color: #800080; text-decoration-color: #800080; font-style: italic\">None</span>,\n            <span style=\"color: #808000; text-decoration-color: #808000\">sse_customer_algorithm</span>=<span style=\"color: #800080; text-decoration-color: #800080; font-style: italic\">None</span>,\n            <span style=\"color: #808000; text-decoration-color: #808000\">sse_customer_key_md5</span>=<span style=\"color: #800080; text-decoration-color: #800080; font-style: italic\">None</span>,\n            <span style=\"color: #808000; text-decoration-color: #808000\">see_kms_key_id</span>=<span style=\"color: #800080; text-decoration-color: #800080; font-style: italic\">None</span>,\n            <span style=\"color: #808000; text-decoration-color: #808000\">sse_kms_encryption_context</span>=<span style=\"color: #800080; text-decoration-color: #800080; font-style: italic\">None</span>,\n            <span style=\"color: #808000; text-decoration-color: #808000\">bucket_key_enabled</span>=<span style=\"color: #800080; text-decoration-color: #800080; font-style: italic\">None</span>,\n            <span style=\"color: #808000; text-decoration-color: #808000\">request_charged</span>=<span style=\"color: #800080; text-decoration-color: #800080; font-style: italic\">None</span>\n        <span style=\"font-weight: bold\">)</span>,\n        <span style=\"color: #808000; text-decoration-color: #808000\">deletion</span>=<span style=\"color: #800080; text-decoration-color: #800080; font-style: italic\">None</span>\n    <span style=\"font-weight: bold\">)</span>,\n    <span style=\"color: #800080; text-decoration-color: #800080; font-weight: bold\">ConfigDeployment</span><span style=\"font-weight: bold\">(</span>\n        <span style=\"color: #808000; text-decoration-color: #808000\">parameter_name</span>=<span style=\"color: #008000; text-decoration-color: #008000\">'/app/my_project-int'</span>,\n        <span style=\"color: #808000; text-decoration-color: #808000\">parameter_data</span>=<span style=\"font-weight: bold\">{</span>\n            <span style=\"color: #008000; text-decoration-color: #008000\">'data'</span>: <span style=\"font-weight: bold\">{</span><span style=\"color: #008000; text-decoration-color: #008000\">'_shared'</span>: <span style=\"font-weight: bold\">{</span><span style=\"color: #008000; text-decoration-color: #008000\">'*.project_name'</span>: <span style=\"color: #008000; text-decoration-color: #008000\">'my_project'</span><span style=\"font-weight: bold\">}</span>, <span style=\"color: #008000; text-decoration-color: #008000\">'int'</span>: <span style=\"font-weight: bold\">{</span><span style=\"color: #008000; text-decoration-color: #008000\">'username'</span>: <span style=\"color: #008000; text-decoration-color: #008000\">'int.user'</span><span style=\"font-weight: bold\">}}</span>,\n            <span style=\"color: #008000; text-decoration-color: #008000\">'secret_data'</span>: <span style=\"font-weight: bold\">{</span><span style=\"color: #008000; text-decoration-color: #008000\">'_shared'</span>: <span style=\"font-weight: bold\">{}</span>, <span style=\"color: #008000; text-decoration-color: #008000\">'int'</span>: <span style=\"font-weight: bold\">{</span><span style=\"color: #008000; text-decoration-color: #008000\">'password'</span>: <span style=\"color: #008000; text-decoration-color: #008000\">'int.password'</span><span style=\"font-weight: bold\">}}</span>\n        <span style=\"font-weight: bold\">}</span>,\n        <span style=\"color: #808000; text-decoration-color: #808000\">project_name</span>=<span style=\"color: #008000; text-decoration-color: #008000\">'my_project'</span>,\n        <span style=\"color: #808000; text-decoration-color: #808000\">env_name</span>=<span style=\"color: #008000; text-decoration-color: #008000\">'int'</span>,\n        <span style=\"color: #808000; text-decoration-color: #808000\">deployment</span>=<span style=\"color: #800080; text-decoration-color: #800080; font-weight: bold\">S3Object</span><span style=\"font-weight: bold\">(</span>\n            <span style=\"color: #808000; text-decoration-color: #808000\">expiration</span>=<span style=\"color: #800080; text-decoration-color: #800080; font-style: italic\">None</span>,\n            <span style=\"color: #808000; text-decoration-color: #808000\">etag</span>=<span style=\"color: #008000; text-decoration-color: #008000\">'\"7163f20371e6da6c6b4e28b807339cf5\"'</span>,\n            <span style=\"color: #808000; text-decoration-color: #808000\">checksum_crc32</span>=<span style=\"color: #800080; text-decoration-color: #800080; font-style: italic\">None</span>,\n            <span style=\"color: #808000; text-decoration-color: #808000\">checksum_crc32c</span>=<span style=\"color: #800080; text-decoration-color: #800080; font-style: italic\">None</span>,\n            <span style=\"color: #808000; text-decoration-color: #808000\">checksum_sha1</span>=<span style=\"color: #800080; text-decoration-color: #800080; font-style: italic\">None</span>,\n            <span style=\"color: #808000; text-decoration-color: #808000\">checksum_sha256</span>=<span style=\"color: #800080; text-decoration-color: #800080; font-style: italic\">None</span>,\n            <span style=\"color: #808000; text-decoration-color: #808000\">server_side_encryption</span>=<span style=\"color: #008000; text-decoration-color: #008000\">'AES256'</span>,\n            <span style=\"color: #808000; text-decoration-color: #808000\">version_id</span>=<span style=\"color: #800080; text-decoration-color: #800080; font-style: italic\">None</span>,\n            <span style=\"color: #808000; text-decoration-color: #808000\">sse_customer_algorithm</span>=<span style=\"color: #800080; text-decoration-color: #800080; font-style: italic\">None</span>,\n            <span style=\"color: #808000; text-decoration-color: #808000\">sse_customer_key_md5</span>=<span style=\"color: #800080; text-decoration-color: #800080; font-style: italic\">None</span>,\n            <span style=\"color: #808000; text-decoration-color: #808000\">see_kms_key_id</span>=<span style=\"color: #800080; text-decoration-color: #800080; font-style: italic\">None</span>,\n            <span style=\"color: #808000; text-decoration-color: #808000\">sse_kms_encryption_context</span>=<span style=\"color: #800080; text-decoration-color: #800080; font-style: italic\">None</span>,\n            <span style=\"color: #808000; text-decoration-color: #808000\">bucket_key_enabled</span>=<span style=\"color: #800080; text-decoration-color: #800080; font-style: italic\">None</span>,\n            <span style=\"color: #808000; text-decoration-color: #808000\">request_charged</span>=<span style=\"color: #800080; text-decoration-color: #800080; font-style: italic\">None</span>\n        <span style=\"font-weight: bold\">)</span>,\n        <span style=\"color: #808000; text-decoration-color: #808000\">deletion</span>=<span style=\"color: #800080; text-decoration-color: #800080; font-style: italic\">None</span>\n    <span style=\"font-weight: bold\">)</span>,\n    <span style=\"color: #800080; text-decoration-color: #800080; font-weight: bold\">ConfigDeployment</span><span style=\"font-weight: bold\">(</span>\n        <span style=\"color: #808000; text-decoration-color: #808000\">parameter_name</span>=<span style=\"color: #008000; text-decoration-color: #008000\">'/app/my_project-prod'</span>,\n        <span style=\"color: #808000; text-decoration-color: #808000\">parameter_data</span>=<span style=\"font-weight: bold\">{</span>\n            <span style=\"color: #008000; text-decoration-color: #008000\">'data'</span>: <span style=\"font-weight: bold\">{</span><span style=\"color: #008000; text-decoration-color: #008000\">'_shared'</span>: <span style=\"font-weight: bold\">{</span><span style=\"color: #008000; text-decoration-color: #008000\">'*.project_name'</span>: <span style=\"color: #008000; text-decoration-color: #008000\">'my_project'</span><span style=\"font-weight: bold\">}</span>, <span style=\"color: #008000; text-decoration-color: #008000\">'prod'</span>: <span style=\"font-weight: bold\">{</span><span style=\"color: #008000; text-decoration-color: #008000\">'username'</span>: <span style=\"color: #008000; text-decoration-color: #008000\">'prod.user'</span><span style=\"font-weight: bold\">}}</span>,\n            <span style=\"color: #008000; text-decoration-color: #008000\">'secret_data'</span>: <span style=\"font-weight: bold\">{</span><span style=\"color: #008000; text-decoration-color: #008000\">'_shared'</span>: <span style=\"font-weight: bold\">{}</span>, <span style=\"color: #008000; text-decoration-color: #008000\">'prod'</span>: <span style=\"font-weight: bold\">{</span><span style=\"color: #008000; text-decoration-color: #008000\">'password'</span>: <span style=\"color: #008000; text-decoration-color: #008000\">'prod.password'</span><span style=\"font-weight: bold\">}}</span>\n        <span style=\"font-weight: bold\">}</span>,\n        <span style=\"color: #808000; text-decoration-color: #808000\">project_name</span>=<span style=\"color: #008000; text-decoration-color: #008000\">'my_project'</span>,\n        <span style=\"color: #808000; text-decoration-color: #808000\">env_name</span>=<span style=\"color: #008000; text-decoration-color: #008000\">'prod'</span>,\n        <span style=\"color: #808000; text-decoration-color: #808000\">deployment</span>=<span style=\"color: #800080; text-decoration-color: #800080; font-weight: bold\">S3Object</span><span style=\"font-weight: bold\">(</span>\n            <span style=\"color: #808000; text-decoration-color: #808000\">expiration</span>=<span style=\"color: #800080; text-decoration-color: #800080; font-style: italic\">None</span>,\n            <span style=\"color: #808000; text-decoration-color: #808000\">etag</span>=<span style=\"color: #008000; text-decoration-color: #008000\">'\"9f709ac7c27b0912a37d368db37cd96c\"'</span>,\n            <span style=\"color: #808000; text-decoration-color: #808000\">checksum_crc32</span>=<span style=\"color: #800080; text-decoration-color: #800080; font-style: italic\">None</span>,\n            <span style=\"color: #808000; text-decoration-color: #808000\">checksum_crc32c</span>=<span style=\"color: #800080; text-decoration-color: #800080; font-style: italic\">None</span>,\n            <span style=\"color: #808000; text-decoration-color: #808000\">checksum_sha1</span>=<span style=\"color: #800080; text-decoration-color: #800080; font-style: italic\">None</span>,\n            <span style=\"color: #808000; text-decoration-color: #808000\">checksum_sha256</span>=<span style=\"color: #800080; text-decoration-color: #800080; font-style: italic\">None</span>,\n            <span style=\"color: #808000; text-decoration-color: #808000\">server_side_encryption</span>=<span style=\"color: #008000; text-decoration-color: #008000\">'AES256'</span>,\n            <span style=\"color: #808000; text-decoration-color: #808000\">version_id</span>=<span style=\"color: #800080; text-decoration-color: #800080; font-style: italic\">None</span>,\n            <span style=\"color: #808000; text-decoration-color: #808000\">sse_customer_algorithm</span>=<span style=\"color: #800080; text-decoration-color: #800080; font-style: italic\">None</span>,\n            <span style=\"color: #808000; text-decoration-color: #808000\">sse_customer_key_md5</span>=<span style=\"color: #800080; text-decoration-color: #800080; font-style: italic\">None</span>,\n            <span style=\"color: #808000; text-decoration-color: #808000\">see_kms_key_id</span>=<span style=\"color: #800080; text-decoration-color: #800080; font-style: italic\">None</span>,\n            <span style=\"color: #808000; text-decoration-color: #808000\">sse_kms_encryption_context</span>=<span style=\"color: #800080; text-decoration-color: #800080; font-style: italic\">None</span>,\n            <span style=\"color: #808000; text-decoration-color: #808000\">bucket_key_enabled</span>=<span style=\"color: #800080; text-decoration-color: #800080; font-style: italic\">None</span>,\n            <span style=\"color: #808000; text-decoration-color: #808000\">request_charged</span>=<span style=\"color: #800080; text-decoration-color: #800080; font-style: italic\">None</span>\n        <span style=\"font-weight: bold\">)</span>,\n        <span style=\"color: #808000; text-decoration-color: #808000\">deletion</span>=<span style=\"color: #800080; text-decoration-color: #800080; font-style: italic\">None</span>\n    <span style=\"font-weight: bold\">)</span>\n<span style=\"font-weight: bold\">]</span>\n</pre>\n"
     },
     "metadata": {},
     "output_type": "display_data"
    }
   ],
   "source": [
    "# Deploy config to AWS S3 Store\n",
    "deployment_list = config.deploy(\n",
    "    bsm=bsm,\n",
    "    s3dir_config=s3dir_config,\n",
    ")\n",
    "rprint(deployment_list)"
   ],
   "metadata": {
    "collapsed": false,
    "ExecuteTime": {
     "start_time": "2023-05-17T03:48:58.758041Z",
     "end_time": "2023-05-17T03:48:59.178101Z"
    }
   }
  },
  {
   "cell_type": "markdown",
   "source": [
    "### Use Your Config in Application Code\n",
    "\n",
    "In your application code, you could create the config object by reading the config storage. Then use the Python config object to access those config values."
   ],
   "metadata": {
    "collapsed": false
   }
  },
  {
   "cell_type": "code",
   "execution_count": 14,
   "outputs": [],
   "source": [
    "# content of config_init.py\n",
    "# -*- coding: utf-8 -*-\n",
    "\n",
    "from config_define import EnvEnum, Env, Config\n",
    "\n",
    "from rich import print as rprint\n",
    "from boto_session_manager import BotoSesManager\n",
    "\n",
    "# create boto session manager object for AWS SDK authentication\n",
    "bsm = BotoSesManager(profile_name=\"aws_data_lab_sanhe_us_east_1\")\n",
    "parameter_name = \"my_project-dev\"\n",
    "s3dir_config = \"s3://669508176277-us-east-1-artifacts/projects/config_pattern/patterns/multi_env_json/\""
   ],
   "metadata": {
    "collapsed": false,
    "ExecuteTime": {
     "start_time": "2023-05-17T03:48:59.176331Z",
     "end_time": "2023-05-17T03:48:59.181093Z"
    }
   }
  },
  {
   "cell_type": "markdown",
   "source": [
    "You could read the config from AWS Parameter Store. For security reason, assuming that you want to load the \"dev\" config, you won't be able to access any of the \"prod\" config from your application runtime."
   ],
   "metadata": {
    "collapsed": false
   }
  },
  {
   "cell_type": "code",
   "execution_count": 16,
   "outputs": [
    {
     "name": "stdout",
     "output_type": "stream",
     "text": [
      "my_project-dev\n"
     ]
    },
    {
     "ename": "KeyError",
     "evalue": "'_shared'",
     "output_type": "error",
     "traceback": [
      "\u001B[0;31m---------------------------------------------------------------------------\u001B[0m",
      "\u001B[0;31mKeyError\u001B[0m                                  Traceback (most recent call last)",
      "Cell \u001B[0;32mIn[16], line 2\u001B[0m\n\u001B[1;32m      1\u001B[0m \u001B[38;5;28mprint\u001B[39m(parameter_name)\n\u001B[0;32m----> 2\u001B[0m config \u001B[38;5;241m=\u001B[39m \u001B[43mConfig\u001B[49m\u001B[38;5;241;43m.\u001B[39;49m\u001B[43mread\u001B[49m\u001B[43m(\u001B[49m\n\u001B[1;32m      3\u001B[0m \u001B[43m    \u001B[49m\u001B[43menv_class\u001B[49m\u001B[38;5;241;43m=\u001B[39;49m\u001B[43mEnv\u001B[49m\u001B[43m,\u001B[49m\n\u001B[1;32m      4\u001B[0m \u001B[43m    \u001B[49m\u001B[43menv_enum_class\u001B[49m\u001B[38;5;241;43m=\u001B[39;49m\u001B[43mEnvEnum\u001B[49m\u001B[43m,\u001B[49m\n\u001B[1;32m      5\u001B[0m \u001B[43m    \u001B[49m\u001B[43mbsm\u001B[49m\u001B[38;5;241;43m=\u001B[39;49m\u001B[43mbsm\u001B[49m\u001B[43m,\u001B[49m\n\u001B[1;32m      6\u001B[0m \u001B[43m    \u001B[49m\u001B[43mparameter_name\u001B[49m\u001B[38;5;241;43m=\u001B[39;49m\u001B[43mparameter_name\u001B[49m\u001B[43m,\u001B[49m\n\u001B[1;32m      7\u001B[0m \u001B[43m    \u001B[49m\u001B[43mparameter_with_encryption\u001B[49m\u001B[38;5;241;43m=\u001B[39;49m\u001B[38;5;28;43;01mTrue\u001B[39;49;00m\u001B[43m,\u001B[49m\n\u001B[1;32m      8\u001B[0m \u001B[43m)\u001B[49m\n\u001B[1;32m      9\u001B[0m \u001B[38;5;66;03m# rprint(config)\u001B[39;00m\n\u001B[1;32m     10\u001B[0m \u001B[38;5;66;03m# rprint(config.dev)\u001B[39;00m\n\u001B[1;32m     11\u001B[0m \u001B[38;5;66;03m# rprint(f\"config.dev.username = {config.dev.username!r}\")\u001B[39;00m\n\u001B[1;32m     12\u001B[0m \u001B[38;5;66;03m# rprint(f\"config.dev.password = {config.dev.password!r}\")\u001B[39;00m\n",
      "File \u001B[0;32m~/Documents/GitHub/config_patterns-project/config_patterns/patterns/multi_env_json.py:491\u001B[0m, in \u001B[0;36mBaseConfig.read\u001B[0;34m(cls, env_class, env_enum_class, path_config, path_secret_config, bsm, parameter_name, parameter_with_encryption, s3path_config)\u001B[0m\n\u001B[1;32m    485\u001B[0m     parameter \u001B[38;5;241m=\u001B[39m pysecret\u001B[38;5;241m.\u001B[39mParameter\u001B[38;5;241m.\u001B[39mload(\n\u001B[1;32m    486\u001B[0m         ssm_client\u001B[38;5;241m=\u001B[39mbsm\u001B[38;5;241m.\u001B[39mssm_client,\n\u001B[1;32m    487\u001B[0m         name\u001B[38;5;241m=\u001B[39mparameter_name,\n\u001B[1;32m    488\u001B[0m         with_decryption\u001B[38;5;241m=\u001B[39mparameter_with_encryption,\n\u001B[1;32m    489\u001B[0m     )\n\u001B[1;32m    490\u001B[0m     parameter_data \u001B[38;5;241m=\u001B[39m parameter\u001B[38;5;241m.\u001B[39mjson_dict\n\u001B[0;32m--> 491\u001B[0m     \u001B[38;5;28;01mreturn\u001B[39;00m \u001B[38;5;28;43mcls\u001B[39;49m\u001B[43m(\u001B[49m\n\u001B[1;32m    492\u001B[0m \u001B[43m        \u001B[49m\u001B[43mdata\u001B[49m\u001B[38;5;241;43m=\u001B[39;49m\u001B[43mparameter_data\u001B[49m\u001B[43m[\u001B[49m\u001B[38;5;124;43m\"\u001B[39;49m\u001B[38;5;124;43mdata\u001B[39;49m\u001B[38;5;124;43m\"\u001B[39;49m\u001B[43m]\u001B[49m\u001B[43m,\u001B[49m\n\u001B[1;32m    493\u001B[0m \u001B[43m        \u001B[49m\u001B[43msecret_data\u001B[49m\u001B[38;5;241;43m=\u001B[39;49m\u001B[43mparameter_data\u001B[49m\u001B[43m[\u001B[49m\u001B[38;5;124;43m\"\u001B[39;49m\u001B[38;5;124;43msecret_data\u001B[39;49m\u001B[38;5;124;43m\"\u001B[39;49m\u001B[43m]\u001B[49m\u001B[43m,\u001B[49m\n\u001B[1;32m    494\u001B[0m \u001B[43m        \u001B[49m\u001B[43mEnv\u001B[49m\u001B[38;5;241;43m=\u001B[39;49m\u001B[43menv_class\u001B[49m\u001B[43m,\u001B[49m\n\u001B[1;32m    495\u001B[0m \u001B[43m        \u001B[49m\u001B[43mEnvEnum\u001B[49m\u001B[38;5;241;43m=\u001B[39;49m\u001B[43menv_enum_class\u001B[49m\u001B[43m,\u001B[49m\n\u001B[1;32m    496\u001B[0m \u001B[43m    \u001B[49m\u001B[43m)\u001B[49m\n\u001B[1;32m    497\u001B[0m \u001B[38;5;28;01melif\u001B[39;00m s3path_config \u001B[38;5;129;01mis\u001B[39;00m \u001B[38;5;129;01mnot\u001B[39;00m \u001B[38;5;28;01mNone\u001B[39;00m:  \u001B[38;5;66;03m# pragma: no cover\u001B[39;00m\n\u001B[1;32m    498\u001B[0m     parts \u001B[38;5;241m=\u001B[39m s3path_config\u001B[38;5;241m.\u001B[39msplit(\u001B[38;5;124m\"\u001B[39m\u001B[38;5;124m/\u001B[39m\u001B[38;5;124m\"\u001B[39m, \u001B[38;5;241m3\u001B[39m)\n",
      "File \u001B[0;32m<string>:7\u001B[0m, in \u001B[0;36m__init__\u001B[0;34m(self, data, secret_data, Env, EnvEnum)\u001B[0m\n",
      "File \u001B[0;32m~/Documents/GitHub/config_patterns-project/config_patterns/patterns/multi_env_json.py:376\u001B[0m, in \u001B[0;36mBaseConfig.__post_init__\u001B[0;34m(self)\u001B[0m\n\u001B[1;32m    371\u001B[0m \u001B[38;5;28;01mdef\u001B[39;00m \u001B[38;5;21m__post_init__\u001B[39m(\u001B[38;5;28mself\u001B[39m):\n\u001B[1;32m    372\u001B[0m \u001B[38;5;250m    \u001B[39m\u001B[38;5;124;03m\"\"\"\u001B[39;00m\n\u001B[1;32m    373\u001B[0m \u001B[38;5;124;03m    User should not overwrite this method. You can use __user_post_init__\u001B[39;00m\n\u001B[1;32m    374\u001B[0m \u001B[38;5;124;03m    for any post init logics.\u001B[39;00m\n\u001B[1;32m    375\u001B[0m \u001B[38;5;124;03m    \"\"\"\u001B[39;00m\n\u001B[0;32m--> 376\u001B[0m     \u001B[38;5;28;43mself\u001B[39;49m\u001B[38;5;241;43m.\u001B[39;49m\u001B[43m_validate\u001B[49m\u001B[43m(\u001B[49m\u001B[43m)\u001B[49m\n\u001B[1;32m    377\u001B[0m     \u001B[38;5;28mself\u001B[39m\u001B[38;5;241m.\u001B[39m_apply_shared()\n\u001B[1;32m    378\u001B[0m     \u001B[38;5;28mself\u001B[39m\u001B[38;5;241m.\u001B[39m__user_post_init__()\n",
      "File \u001B[0;32m~/Documents/GitHub/config_patterns-project/config_patterns/patterns/multi_env_json.py:354\u001B[0m, in \u001B[0;36mBaseConfig._validate\u001B[0;34m(self)\u001B[0m\n\u001B[1;32m    350\u001B[0m \u001B[38;5;28;01mdef\u001B[39;00m \u001B[38;5;21m_validate\u001B[39m(\u001B[38;5;28mself\u001B[39m):\n\u001B[1;32m    351\u001B[0m \u001B[38;5;250m    \u001B[39m\u001B[38;5;124;03m\"\"\"\u001B[39;00m\n\u001B[1;32m    352\u001B[0m \u001B[38;5;124;03m    Validate input arguments.\u001B[39;00m\n\u001B[1;32m    353\u001B[0m \u001B[38;5;124;03m    \"\"\"\u001B[39;00m\n\u001B[0;32m--> 354\u001B[0m     validate_project_name(\u001B[38;5;28;43mself\u001B[39;49m\u001B[38;5;241;43m.\u001B[39;49m\u001B[43mproject_name\u001B[49m)\n\u001B[1;32m    355\u001B[0m     \u001B[38;5;28;01mfor\u001B[39;00m env_name \u001B[38;5;129;01min\u001B[39;00m \u001B[38;5;28mself\u001B[39m\u001B[38;5;241m.\u001B[39mdata:\n\u001B[1;32m    356\u001B[0m         \u001B[38;5;28;01mif\u001B[39;00m env_name \u001B[38;5;241m!=\u001B[39m \u001B[38;5;124m\"\u001B[39m\u001B[38;5;124m_shared\u001B[39m\u001B[38;5;124m\"\u001B[39m:\n",
      "File \u001B[0;32m~/.pyenv/versions/3.8.11/lib/python3.8/functools.py:967\u001B[0m, in \u001B[0;36mcached_property.__get__\u001B[0;34m(self, instance, owner)\u001B[0m\n\u001B[1;32m    965\u001B[0m val \u001B[38;5;241m=\u001B[39m cache\u001B[38;5;241m.\u001B[39mget(\u001B[38;5;28mself\u001B[39m\u001B[38;5;241m.\u001B[39mattrname, _NOT_FOUND)\n\u001B[1;32m    966\u001B[0m \u001B[38;5;28;01mif\u001B[39;00m val \u001B[38;5;129;01mis\u001B[39;00m _NOT_FOUND:\n\u001B[0;32m--> 967\u001B[0m     val \u001B[38;5;241m=\u001B[39m \u001B[38;5;28;43mself\u001B[39;49m\u001B[38;5;241;43m.\u001B[39;49m\u001B[43mfunc\u001B[49m\u001B[43m(\u001B[49m\u001B[43minstance\u001B[49m\u001B[43m)\u001B[49m\n\u001B[1;32m    968\u001B[0m     \u001B[38;5;28;01mtry\u001B[39;00m:\n\u001B[1;32m    969\u001B[0m         cache[\u001B[38;5;28mself\u001B[39m\u001B[38;5;241m.\u001B[39mattrname] \u001B[38;5;241m=\u001B[39m val\n",
      "File \u001B[0;32m~/Documents/GitHub/config_patterns-project/config_patterns/patterns/multi_env_json.py:382\u001B[0m, in \u001B[0;36mBaseConfig.project_name\u001B[0;34m(self)\u001B[0m\n\u001B[1;32m    380\u001B[0m \u001B[38;5;129m@cached_property\u001B[39m\n\u001B[1;32m    381\u001B[0m \u001B[38;5;28;01mdef\u001B[39;00m \u001B[38;5;21mproject_name\u001B[39m(\u001B[38;5;28mself\u001B[39m) \u001B[38;5;241m-\u001B[39m\u001B[38;5;241m>\u001B[39m \u001B[38;5;28mstr\u001B[39m:\n\u001B[0;32m--> 382\u001B[0m     \u001B[38;5;28;01mreturn\u001B[39;00m \u001B[38;5;28;43mself\u001B[39;49m\u001B[38;5;241;43m.\u001B[39;49m\u001B[43mdata\u001B[49m\u001B[43m[\u001B[49m\u001B[38;5;124;43m\"\u001B[39;49m\u001B[38;5;124;43m_shared\u001B[39;49m\u001B[38;5;124;43m\"\u001B[39;49m\u001B[43m]\u001B[49m[\u001B[38;5;124m\"\u001B[39m\u001B[38;5;124m*.project_name\u001B[39m\u001B[38;5;124m\"\u001B[39m]\n",
      "\u001B[0;31mKeyError\u001B[0m: '_shared'"
     ]
    }
   ],
   "source": [
    "config = Config.read(\n",
    "    env_class=Env,\n",
    "    env_enum_class=EnvEnum,\n",
    "    bsm=bsm,\n",
    "    parameter_name=parameter_name,\n",
    "    parameter_with_encryption=True,\n",
    ")\n",
    "# rprint(config)\n",
    "# rprint(config.dev)\n",
    "# rprint(f\"config.dev.username = {config.dev.username!r}\")\n",
    "# rprint(f\"config.dev.password = {config.dev.password!r}\")"
   ],
   "metadata": {
    "collapsed": false
   }
  },
  {
   "cell_type": "code",
   "execution_count": 18,
   "outputs": [
    {
     "data": {
      "text/plain": "Env(project_name='my_project', env_name='prod', username='prod.user', password='prod.password')"
     },
     "execution_count": 18,
     "metadata": {},
     "output_type": "execute_result"
    }
   ],
   "source": [
    "# You can NOT access prod config from dev environment\n",
    "config.prod"
   ],
   "metadata": {
    "collapsed": false,
    "ExecuteTime": {
     "start_time": "2023-05-17T03:40:37.644890Z",
     "end_time": "2023-05-17T03:40:37.654273Z"
    }
   }
  },
  {
   "cell_type": "markdown",
   "source": [
    "You could also read the config from AWS S3."
   ],
   "metadata": {
    "collapsed": false
   }
  },
  {
   "cell_type": "code",
   "execution_count": 10,
   "outputs": [
    {
     "data": {
      "text/plain": "\u001B[1;35mConfig\u001B[0m\u001B[1m(\u001B[0m\n    \u001B[33mdata\u001B[0m=\u001B[1m{\u001B[0m\u001B[32m'shared'\u001B[0m: \u001B[1m{\u001B[0m\u001B[32m'project_name'\u001B[0m: \u001B[32m'my_project'\u001B[0m\u001B[1m}\u001B[0m, \u001B[32m'envs'\u001B[0m: \u001B[1m{\u001B[0m\u001B[32m'prod'\u001B[0m: \u001B[1m{\u001B[0m\u001B[32m'username'\u001B[0m: \u001B[32m'prod.user'\u001B[0m\u001B[1m}\u001B[0m\u001B[1m}\u001B[0m\u001B[1m}\u001B[0m,\n    \u001B[33msecret_data\u001B[0m=\u001B[1m{\u001B[0m\u001B[32m'shared'\u001B[0m: \u001B[1m{\u001B[0m\u001B[1m}\u001B[0m, \u001B[32m'envs'\u001B[0m: \u001B[1m{\u001B[0m\u001B[32m'prod'\u001B[0m: \u001B[1m{\u001B[0m\u001B[32m'password'\u001B[0m: \u001B[32m'prod.password'\u001B[0m\u001B[1m}\u001B[0m\u001B[1m}\u001B[0m\u001B[1m}\u001B[0m,\n    \u001B[33mEnv\u001B[0m=\u001B[1m<\u001B[0m\u001B[1;95mclass\u001B[0m\u001B[39m \u001B[0m\u001B[32m'config_define.Env'\u001B[0m\u001B[39m>,\u001B[0m\n\u001B[39m    \u001B[0m\u001B[33mEnvEnum\u001B[0m\u001B[39m=<enum \u001B[0m\u001B[32m'EnvEnum'\u001B[0m\u001B[1m>\u001B[0m\n\u001B[1m)\u001B[0m\n",
      "text/html": "<pre style=\"white-space:pre;overflow-x:auto;line-height:normal;font-family:Menlo,'DejaVu Sans Mono',consolas,'Courier New',monospace\"><span style=\"color: #800080; text-decoration-color: #800080; font-weight: bold\">Config</span><span style=\"font-weight: bold\">(</span>\n    <span style=\"color: #808000; text-decoration-color: #808000\">data</span>=<span style=\"font-weight: bold\">{</span><span style=\"color: #008000; text-decoration-color: #008000\">'shared'</span>: <span style=\"font-weight: bold\">{</span><span style=\"color: #008000; text-decoration-color: #008000\">'project_name'</span>: <span style=\"color: #008000; text-decoration-color: #008000\">'my_project'</span><span style=\"font-weight: bold\">}</span>, <span style=\"color: #008000; text-decoration-color: #008000\">'envs'</span>: <span style=\"font-weight: bold\">{</span><span style=\"color: #008000; text-decoration-color: #008000\">'prod'</span>: <span style=\"font-weight: bold\">{</span><span style=\"color: #008000; text-decoration-color: #008000\">'username'</span>: <span style=\"color: #008000; text-decoration-color: #008000\">'prod.user'</span><span style=\"font-weight: bold\">}}}</span>,\n    <span style=\"color: #808000; text-decoration-color: #808000\">secret_data</span>=<span style=\"font-weight: bold\">{</span><span style=\"color: #008000; text-decoration-color: #008000\">'shared'</span>: <span style=\"font-weight: bold\">{}</span>, <span style=\"color: #008000; text-decoration-color: #008000\">'envs'</span>: <span style=\"font-weight: bold\">{</span><span style=\"color: #008000; text-decoration-color: #008000\">'prod'</span>: <span style=\"font-weight: bold\">{</span><span style=\"color: #008000; text-decoration-color: #008000\">'password'</span>: <span style=\"color: #008000; text-decoration-color: #008000\">'prod.password'</span><span style=\"font-weight: bold\">}}}</span>,\n    <span style=\"color: #808000; text-decoration-color: #808000\">Env</span>=<span style=\"font-weight: bold\">&lt;</span><span style=\"color: #ff00ff; text-decoration-color: #ff00ff; font-weight: bold\">class</span><span style=\"color: #000000; text-decoration-color: #000000\"> </span><span style=\"color: #008000; text-decoration-color: #008000\">'config_define.Env'</span><span style=\"color: #000000; text-decoration-color: #000000\">&gt;,</span>\n<span style=\"color: #000000; text-decoration-color: #000000\">    </span><span style=\"color: #808000; text-decoration-color: #808000\">EnvEnum</span><span style=\"color: #000000; text-decoration-color: #000000\">=&lt;enum </span><span style=\"color: #008000; text-decoration-color: #008000\">'EnvEnum'</span><span style=\"font-weight: bold\">&gt;</span>\n<span style=\"font-weight: bold\">)</span>\n</pre>\n"
     },
     "metadata": {},
     "output_type": "display_data"
    },
    {
     "data": {
      "text/plain": "\u001B[1;35mEnv\u001B[0m\u001B[1m(\u001B[0m\u001B[33mproject_name\u001B[0m=\u001B[32m'my_project'\u001B[0m, \u001B[33menv_name\u001B[0m=\u001B[32m'prod'\u001B[0m, \u001B[33musername\u001B[0m=\u001B[32m'prod.user'\u001B[0m, \u001B[33mpassword\u001B[0m=\u001B[32m'prod.password'\u001B[0m\u001B[1m)\u001B[0m\n",
      "text/html": "<pre style=\"white-space:pre;overflow-x:auto;line-height:normal;font-family:Menlo,'DejaVu Sans Mono',consolas,'Courier New',monospace\"><span style=\"color: #800080; text-decoration-color: #800080; font-weight: bold\">Env</span><span style=\"font-weight: bold\">(</span><span style=\"color: #808000; text-decoration-color: #808000\">project_name</span>=<span style=\"color: #008000; text-decoration-color: #008000\">'my_project'</span>, <span style=\"color: #808000; text-decoration-color: #808000\">env_name</span>=<span style=\"color: #008000; text-decoration-color: #008000\">'prod'</span>, <span style=\"color: #808000; text-decoration-color: #808000\">username</span>=<span style=\"color: #008000; text-decoration-color: #008000\">'prod.user'</span>, <span style=\"color: #808000; text-decoration-color: #808000\">password</span>=<span style=\"color: #008000; text-decoration-color: #008000\">'prod.password'</span><span style=\"font-weight: bold\">)</span>\n</pre>\n"
     },
     "metadata": {},
     "output_type": "display_data"
    },
    {
     "data": {
      "text/plain": "config.prod.username = \u001B[32m'prod.user'\u001B[0m\n",
      "text/html": "<pre style=\"white-space:pre;overflow-x:auto;line-height:normal;font-family:Menlo,'DejaVu Sans Mono',consolas,'Courier New',monospace\">config.prod.username = <span style=\"color: #008000; text-decoration-color: #008000\">'prod.user'</span>\n</pre>\n"
     },
     "metadata": {},
     "output_type": "display_data"
    },
    {
     "data": {
      "text/plain": "config.prod.password = \u001B[32m'prod.password'\u001B[0m\n",
      "text/html": "<pre style=\"white-space:pre;overflow-x:auto;line-height:normal;font-family:Menlo,'DejaVu Sans Mono',consolas,'Courier New',monospace\">config.prod.password = <span style=\"color: #008000; text-decoration-color: #008000\">'prod.password'</span>\n</pre>\n"
     },
     "metadata": {},
     "output_type": "display_data"
    }
   ],
   "source": [
    "config = Config.read(\n",
    "    env_class=Env,\n",
    "    env_enum_class=EnvEnum,\n",
    "    bsm=bsm,\n",
    "    s3path_config=f\"{s3dir_config}my_project-prod.json\",\n",
    ")\n",
    "rprint(config)\n",
    "rprint(config.prod)\n",
    "rprint(f\"config.prod.username = {config.prod.username!r}\")\n",
    "rprint(f\"config.prod.password = {config.prod.password!r}\")"
   ],
   "metadata": {
    "collapsed": false
   }
  },
  {
   "cell_type": "markdown",
   "source": [
    "## Delete Config from Config Storage\n",
    "\n",
    "At the end, you can delete all config from config storage."
   ],
   "metadata": {
    "collapsed": false
   }
  },
  {
   "cell_type": "code",
   "execution_count": 11,
   "outputs": [],
   "source": [
    "config = Config.read(\n",
    "    env_class=Env,\n",
    "    env_enum_class=EnvEnum,\n",
    "    path_config=path_config,\n",
    "    path_secret_config=path_secret_config,\n",
    ")"
   ],
   "metadata": {
    "collapsed": false
   }
  },
  {
   "cell_type": "code",
   "execution_count": 12,
   "outputs": [
    {
     "name": "stdout",
     "output_type": "stream",
     "text": [
      "delete parameter store for all environment\n",
      "🗑️ delete SSM Parameter 'my_project' ...\n",
      "verify at: https://us-east-1.console.aws.amazon.com/systems-manager/parameters/my_project/description?region=us-east-1&tab=Table\n",
      "done!\n",
      "🗑️ delete SSM Parameter 'my_project-dev' ...\n",
      "verify at: https://us-east-1.console.aws.amazon.com/systems-manager/parameters/my_project-dev/description?region=us-east-1&tab=Table\n",
      "done!\n",
      "🗑️ delete SSM Parameter 'my_project-int' ...\n",
      "verify at: https://us-east-1.console.aws.amazon.com/systems-manager/parameters/my_project-int/description?region=us-east-1&tab=Table\n",
      "done!\n",
      "🗑️ delete SSM Parameter 'my_project-prod' ...\n",
      "verify at: https://us-east-1.console.aws.amazon.com/systems-manager/parameters/my_project-prod/description?region=us-east-1&tab=Table\n",
      "done!\n"
     ]
    }
   ],
   "source": [
    "config.delete(\n",
    "    bsm=bsm,\n",
    "    use_parameter_store=True,\n",
    ")"
   ],
   "metadata": {
    "collapsed": false
   }
  },
  {
   "cell_type": "code",
   "execution_count": 13,
   "outputs": [
    {
     "name": "stdout",
     "output_type": "stream",
     "text": [
      "🗑️ delete config file s3://669508176277-us-east-1-artifacts/projects/config_pattern/patterns/multi_env_json/my_project.json ...\n",
      "preview at: https://us-east-1.console.aws.amazon.com/s3/object/669508176277-us-east-1-artifacts?prefix=projects/config_pattern/patterns/multi_env_json/my_project.json\n",
      "done!\n",
      "🗑️ delete config file s3://669508176277-us-east-1-artifacts/projects/config_pattern/patterns/multi_env_json/my_project-dev.json ...\n",
      "preview at: https://us-east-1.console.aws.amazon.com/s3/object/669508176277-us-east-1-artifacts?prefix=projects/config_pattern/patterns/multi_env_json/my_project-dev.json\n",
      "done!\n",
      "🗑️ delete config file s3://669508176277-us-east-1-artifacts/projects/config_pattern/patterns/multi_env_json/my_project-int.json ...\n",
      "preview at: https://us-east-1.console.aws.amazon.com/s3/object/669508176277-us-east-1-artifacts?prefix=projects/config_pattern/patterns/multi_env_json/my_project-int.json\n",
      "done!\n",
      "🗑️ delete config file s3://669508176277-us-east-1-artifacts/projects/config_pattern/patterns/multi_env_json/my_project-prod.json ...\n",
      "preview at: https://us-east-1.console.aws.amazon.com/s3/object/669508176277-us-east-1-artifacts?prefix=projects/config_pattern/patterns/multi_env_json/my_project-prod.json\n",
      "done!\n"
     ]
    }
   ],
   "source": [
    "config.delete(\n",
    "    bsm=bsm,\n",
    "    s3dir_config=s3dir_config,\n",
    ")"
   ],
   "metadata": {
    "collapsed": false
   }
  },
  {
   "cell_type": "markdown",
   "source": [
    "## Hierarchy config schema\n",
    "\n",
    "\n"
   ],
   "metadata": {
    "collapsed": false
   }
  },
  {
   "cell_type": "code",
   "execution_count": null,
   "outputs": [],
   "source": [],
   "metadata": {
    "collapsed": false,
    "ExecuteTime": {
     "start_time": "2023-05-17T03:38:23.458802Z",
     "end_time": "2023-05-17T03:38:23.462957Z"
    }
   }
  },
  {
   "cell_type": "markdown",
   "source": [
    "## Store Sensitive Config Values Separately\n"
   ],
   "metadata": {
    "collapsed": false
   }
  },
  {
   "cell_type": "code",
   "execution_count": null,
   "outputs": [],
   "source": [],
   "metadata": {
    "collapsed": false
   }
  }
 ],
 "metadata": {
  "kernelspec": {
   "display_name": "Python 3",
   "language": "python",
   "name": "python3"
  },
  "language_info": {
   "codemirror_mode": {
    "name": "ipython",
    "version": 2
   },
   "file_extension": ".py",
   "mimetype": "text/x-python",
   "name": "python",
   "nbconvert_exporter": "python",
   "pygments_lexer": "ipython2",
   "version": "2.7.6"
  }
 },
 "nbformat": 4,
 "nbformat_minor": 0
}
