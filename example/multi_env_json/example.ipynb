{
 "cells": [
  {
   "cell_type": "markdown",
   "source": [
    "# Multi Environment Json Pattern\n",
    "\n",
    "This pattern allows you to manage configuration for multiple environments.\n",
    "\n",
    "\n",
    "## Solution Overview\n",
    "\n",
    "1. The non-sensitive config values should be checked in to the Git so everyone is able to see it.\n",
    "2. As the project admin, you are the source-of-truth of the config values and you are the only one has permission to deploy config. You should store the non-sensitive config to the repo and sensitive config to a secure place on your local laptop.\n",
    "3. When you deploy the config, currently you have two config storage options:\n",
    "    - deploy to [AWS Parameter Store](https://docs.aws.amazon.com/systems-manager/latest/userguide/systems-manager-parameter-store.html)\n",
    "    - deploy to [AWS S3](https://aws.amazon.com/s3/)\n",
    "4. Your application runtime can read the config from one of the config storage options above.\n",
    "5. When you deploy your application, you should store the ``parameter_name`` or ``s3path_config`` information to the environment variable or a static file. So your application can use this information to read the config data from the config storage.\n",
    "\n",
    "## Sample Usage\n",
    "\n",
    "### Declare Your Config Schema\n",
    "\n",
    "In software engineer best practice, declaration and the usage of a Data Model should be separated. Below is the ``config_define.py`` file that defines three things:\n",
    "\n",
    "1. enumerate all environments you want to use in your project.\n",
    "2. declare the per environment config data model.\n",
    "3. subclass from the BaseConfig, this is your main config object."
   ],
   "metadata": {
    "collapsed": false,
    "pycharm": {
     "name": "#%% md\n"
    }
   },
   "execution_count": 0
  },
  {
   "cell_type": "code",
   "execution_count": 1,
   "outputs": [],
   "source": [
    "# content of config_define.py\n",
    "# -*- coding: utf-8 -*-\n",
    "\n",
    "import typing as T\n",
    "import dataclasses\n",
    "\n",
    "from config_patterns.patterns.multi_env_json import (\n",
    "    BaseEnvEnum,\n",
    "    BaseEnv,\n",
    "    BaseConfig,\n",
    ")\n",
    "\n",
    "\n",
    "class EnvEnum(BaseEnvEnum):\n",
    "    dev = \"dev\" # development\n",
    "    int = \"int\" # integration test\n",
    "    prod = \"prod\" # production\n",
    "\n",
    "\n",
    "@dataclasses.dataclass\n",
    "class Env(BaseEnv):\n",
    "    username: T.Optional[str] = dataclasses.field(default=None)\n",
    "    password: T.Optional[str] = dataclasses.field(default=None)\n",
    "\n",
    "\n",
    "@dataclasses.dataclass\n",
    "class Config(BaseConfig):\n",
    "    @property\n",
    "    def dev(self) -> Env:\n",
    "        return self.get_env(EnvEnum.dev)\n",
    "\n",
    "    @property\n",
    "    def int(self) -> Env:\n",
    "        return self.get_env(EnvEnum.int)\n",
    "\n",
    "    @property\n",
    "    def prod(self) -> Env:\n",
    "        return self.get_env(EnvEnum.prod)\n",
    "\n",
    "    @classmethod\n",
    "    def get_current_env(cls) -> str:\n",
    "        return EnvEnum.dev.value"
   ],
   "metadata": {
    "collapsed": false,
    "pycharm": {
     "name": "#%%\n"
    }
   }
  },
  {
   "cell_type": "markdown",
   "source": [
    "\n",
    "### Read From Local File and Deploy to Config Storage\n",
    "\n",
    "As the project admin, you need to decide what value to put in the config. So you created two config files ``config.json`` and ``secret_config.json``. You could check in the ``config.json`` to the Git so everyone can see it. But keep the ``secret_config.json`` private, and only give access to people really need it."
   ],
   "metadata": {
    "collapsed": false,
    "pycharm": {
     "name": "#%% md\n"
    }
   }
  },
  {
   "cell_type": "code",
   "execution_count": 2,
   "outputs": [
    {
     "data": {
      "text/plain": "{'shared': {'project_name': 'my_project'},\n 'envs': {'dev': {'username': 'dev.user'},\n  'int': {'username': 'int.user'},\n  'prod': {'username': 'prod.user'}}}"
     },
     "execution_count": 2,
     "metadata": {},
     "output_type": "execute_result"
    }
   ],
   "source": [
    "# content of config.json\n",
    "{\n",
    "    # this config file support comments, you can put documentation in the config file\n",
    "    \"shared\": {\n",
    "        \"project_name\": \"my_project\"\n",
    "    },\n",
    "    \"envs\": {\n",
    "        \"dev\": {\n",
    "            \"username\": \"dev.user\"\n",
    "        },\n",
    "        \"int\": {\n",
    "            \"username\": \"int.user\"\n",
    "        },\n",
    "        \"prod\": {\n",
    "            \"username\": \"prod.user\"\n",
    "        }\n",
    "    }\n",
    "}"
   ],
   "metadata": {
    "collapsed": false,
    "pycharm": {
     "name": "#%%\n"
    }
   }
  },
  {
   "cell_type": "code",
   "execution_count": 3,
   "outputs": [
    {
     "data": {
      "text/plain": "{'shared': {},\n 'envs': {'dev': {'password': 'dev.password'},\n  'int': {'password': 'int.password'},\n  'prod': {'password': 'prod.password'}}}"
     },
     "execution_count": 3,
     "metadata": {},
     "output_type": "execute_result"
    }
   ],
   "source": [
    "# content of secret-config.json\n",
    "{\n",
    "    # this config file support comments, you can put documentation in the config file\n",
    "    \"shared\": {\n",
    "    },\n",
    "    \"envs\": {\n",
    "        \"dev\": {\n",
    "            \"password\": \"dev.password\"\n",
    "        },\n",
    "        \"int\": {\n",
    "            \"password\": \"int.password\"\n",
    "        },\n",
    "        \"prod\": {\n",
    "            \"password\": \"prod.password\"\n",
    "        }\n",
    "    }\n",
    "}"
   ],
   "metadata": {
    "collapsed": false,
    "pycharm": {
     "name": "#%%\n"
    }
   }
  },
  {
   "cell_type": "markdown",
   "source": [
    "Then you can create the config object and deploy it to config storage."
   ],
   "metadata": {
    "collapsed": false,
    "pycharm": {
     "name": "#%% md\n"
    }
   }
  },
  {
   "cell_type": "code",
   "execution_count": 4,
   "outputs": [
    {
     "data": {
      "text/plain": "\u001B[1;35mConfig\u001B[0m\u001B[1m(\u001B[0m\n    \u001B[33mdata\u001B[0m=\u001B[1m{\u001B[0m\n        \u001B[32m'shared'\u001B[0m: \u001B[1m{\u001B[0m\u001B[32m'project_name'\u001B[0m: \u001B[32m'my_project'\u001B[0m\u001B[1m}\u001B[0m,\n        \u001B[32m'envs'\u001B[0m: \u001B[1m{\u001B[0m\n            \u001B[32m'dev'\u001B[0m: \u001B[1m{\u001B[0m\u001B[32m'username'\u001B[0m: \u001B[32m'dev.user'\u001B[0m\u001B[1m}\u001B[0m,\n            \u001B[32m'int'\u001B[0m: \u001B[1m{\u001B[0m\u001B[32m'username'\u001B[0m: \u001B[32m'int.user'\u001B[0m\u001B[1m}\u001B[0m,\n            \u001B[32m'prod'\u001B[0m: \u001B[1m{\u001B[0m\u001B[32m'username'\u001B[0m: \u001B[32m'prod.user'\u001B[0m\u001B[1m}\u001B[0m\n        \u001B[1m}\u001B[0m\n    \u001B[1m}\u001B[0m,\n    \u001B[33msecret_data\u001B[0m=\u001B[1m{\u001B[0m\n        \u001B[32m'shared'\u001B[0m: \u001B[1m{\u001B[0m\u001B[1m}\u001B[0m,\n        \u001B[32m'envs'\u001B[0m: \u001B[1m{\u001B[0m\n            \u001B[32m'dev'\u001B[0m: \u001B[1m{\u001B[0m\u001B[32m'password'\u001B[0m: \u001B[32m'dev.password'\u001B[0m\u001B[1m}\u001B[0m,\n            \u001B[32m'int'\u001B[0m: \u001B[1m{\u001B[0m\u001B[32m'password'\u001B[0m: \u001B[32m'int.password'\u001B[0m\u001B[1m}\u001B[0m,\n            \u001B[32m'prod'\u001B[0m: \u001B[1m{\u001B[0m\u001B[32m'password'\u001B[0m: \u001B[32m'prod.password'\u001B[0m\u001B[1m}\u001B[0m\n        \u001B[1m}\u001B[0m\n    \u001B[1m}\u001B[0m,\n    \u001B[33mEnv\u001B[0m=\u001B[1m<\u001B[0m\u001B[1;95mclass\u001B[0m\u001B[39m \u001B[0m\u001B[32m'config_define.Env'\u001B[0m\u001B[39m>,\u001B[0m\n\u001B[39m    \u001B[0m\u001B[33mEnvEnum\u001B[0m\u001B[39m=<enum \u001B[0m\u001B[32m'EnvEnum'\u001B[0m\u001B[1m>\u001B[0m\n\u001B[1m)\u001B[0m\n",
      "text/html": "<pre style=\"white-space:pre;overflow-x:auto;line-height:normal;font-family:Menlo,'DejaVu Sans Mono',consolas,'Courier New',monospace\"><span style=\"color: #800080; text-decoration-color: #800080; font-weight: bold\">Config</span><span style=\"font-weight: bold\">(</span>\n    <span style=\"color: #808000; text-decoration-color: #808000\">data</span>=<span style=\"font-weight: bold\">{</span>\n        <span style=\"color: #008000; text-decoration-color: #008000\">'shared'</span>: <span style=\"font-weight: bold\">{</span><span style=\"color: #008000; text-decoration-color: #008000\">'project_name'</span>: <span style=\"color: #008000; text-decoration-color: #008000\">'my_project'</span><span style=\"font-weight: bold\">}</span>,\n        <span style=\"color: #008000; text-decoration-color: #008000\">'envs'</span>: <span style=\"font-weight: bold\">{</span>\n            <span style=\"color: #008000; text-decoration-color: #008000\">'dev'</span>: <span style=\"font-weight: bold\">{</span><span style=\"color: #008000; text-decoration-color: #008000\">'username'</span>: <span style=\"color: #008000; text-decoration-color: #008000\">'dev.user'</span><span style=\"font-weight: bold\">}</span>,\n            <span style=\"color: #008000; text-decoration-color: #008000\">'int'</span>: <span style=\"font-weight: bold\">{</span><span style=\"color: #008000; text-decoration-color: #008000\">'username'</span>: <span style=\"color: #008000; text-decoration-color: #008000\">'int.user'</span><span style=\"font-weight: bold\">}</span>,\n            <span style=\"color: #008000; text-decoration-color: #008000\">'prod'</span>: <span style=\"font-weight: bold\">{</span><span style=\"color: #008000; text-decoration-color: #008000\">'username'</span>: <span style=\"color: #008000; text-decoration-color: #008000\">'prod.user'</span><span style=\"font-weight: bold\">}</span>\n        <span style=\"font-weight: bold\">}</span>\n    <span style=\"font-weight: bold\">}</span>,\n    <span style=\"color: #808000; text-decoration-color: #808000\">secret_data</span>=<span style=\"font-weight: bold\">{</span>\n        <span style=\"color: #008000; text-decoration-color: #008000\">'shared'</span>: <span style=\"font-weight: bold\">{}</span>,\n        <span style=\"color: #008000; text-decoration-color: #008000\">'envs'</span>: <span style=\"font-weight: bold\">{</span>\n            <span style=\"color: #008000; text-decoration-color: #008000\">'dev'</span>: <span style=\"font-weight: bold\">{</span><span style=\"color: #008000; text-decoration-color: #008000\">'password'</span>: <span style=\"color: #008000; text-decoration-color: #008000\">'dev.password'</span><span style=\"font-weight: bold\">}</span>,\n            <span style=\"color: #008000; text-decoration-color: #008000\">'int'</span>: <span style=\"font-weight: bold\">{</span><span style=\"color: #008000; text-decoration-color: #008000\">'password'</span>: <span style=\"color: #008000; text-decoration-color: #008000\">'int.password'</span><span style=\"font-weight: bold\">}</span>,\n            <span style=\"color: #008000; text-decoration-color: #008000\">'prod'</span>: <span style=\"font-weight: bold\">{</span><span style=\"color: #008000; text-decoration-color: #008000\">'password'</span>: <span style=\"color: #008000; text-decoration-color: #008000\">'prod.password'</span><span style=\"font-weight: bold\">}</span>\n        <span style=\"font-weight: bold\">}</span>\n    <span style=\"font-weight: bold\">}</span>,\n    <span style=\"color: #808000; text-decoration-color: #808000\">Env</span>=<span style=\"font-weight: bold\">&lt;</span><span style=\"color: #ff00ff; text-decoration-color: #ff00ff; font-weight: bold\">class</span><span style=\"color: #000000; text-decoration-color: #000000\"> </span><span style=\"color: #008000; text-decoration-color: #008000\">'config_define.Env'</span><span style=\"color: #000000; text-decoration-color: #000000\">&gt;,</span>\n<span style=\"color: #000000; text-decoration-color: #000000\">    </span><span style=\"color: #808000; text-decoration-color: #808000\">EnvEnum</span><span style=\"color: #000000; text-decoration-color: #000000\">=&lt;enum </span><span style=\"color: #008000; text-decoration-color: #008000\">'EnvEnum'</span><span style=\"font-weight: bold\">&gt;</span>\n<span style=\"font-weight: bold\">)</span>\n</pre>\n"
     },
     "metadata": {},
     "output_type": "display_data"
    }
   ],
   "source": [
    "# content of config_deploy.py\n",
    "# -*- coding: utf-8 -*-\n",
    "\n",
    "# import from the config_define.py\n",
    "from config_define import EnvEnum, Env, Config\n",
    "\n",
    "import os\n",
    "from pathlib import Path\n",
    "from boto_session_manager import BotoSesManager\n",
    "from rich import print as rprint\n",
    "\n",
    "# Read config from local file\n",
    "dir_here = Path(os.getcwd())\n",
    "path_config = str(dir_here.joinpath(\"config.json\"))\n",
    "path_secret_config = str(dir_here.joinpath(\"secret_config.json\"))\n",
    "\n",
    "\n",
    "config = Config.read(\n",
    "    env_class=Env,\n",
    "    env_enum_class=EnvEnum,\n",
    "    path_config=path_config,\n",
    "    path_secret_config=path_secret_config,\n",
    ")\n",
    "rprint(config)"
   ],
   "metadata": {
    "collapsed": false,
    "pycharm": {
     "name": "#%%\n"
    }
   }
  },
  {
   "cell_type": "code",
   "execution_count": 5,
   "outputs": [
    {
     "name": "stdout",
     "output_type": "stream",
     "text": [
      "deploy parameter store for all environment\n",
      "🚀️ deploy SSM Parameter 'my_project' ...\n",
      "preview at: https://us-east-1.console.aws.amazon.com/systems-manager/parameters/my_project/description?region=us-east-1&tab=Table\n",
      "successfully deployed version 1\n",
      "done!\n",
      "🚀️ deploy SSM Parameter 'my_project-dev' ...\n",
      "preview at: https://us-east-1.console.aws.amazon.com/systems-manager/parameters/my_project-dev/description?region=us-east-1&tab=Table\n",
      "successfully deployed version 1\n",
      "done!\n",
      "🚀️ deploy SSM Parameter 'my_project-int' ...\n",
      "preview at: https://us-east-1.console.aws.amazon.com/systems-manager/parameters/my_project-int/description?region=us-east-1&tab=Table\n",
      "successfully deployed version 1\n",
      "done!\n",
      "🚀️ deploy SSM Parameter 'my_project-prod' ...\n",
      "preview at: https://us-east-1.console.aws.amazon.com/systems-manager/parameters/my_project-prod/description?region=us-east-1&tab=Table\n",
      "successfully deployed version 1\n",
      "done!\n"
     ]
    }
   ],
   "source": [
    "# Deploy config to AWS Parameter Store\n",
    "bsm = BotoSesManager(profile_name=\"aws_data_lab_sanhe_us_east_1\")\n",
    "s3dir_config = \"s3://669508176277-us-east-1-artifacts/projects/config_pattern/patterns/multi_env_json/\"\n",
    "\n",
    "\n",
    "config.deploy(\n",
    "    bsm=bsm,\n",
    "    parameter_with_encryption=True,\n",
    ")"
   ],
   "metadata": {
    "collapsed": false,
    "pycharm": {
     "name": "#%%\n"
    }
   }
  },
  {
   "cell_type": "code",
   "execution_count": 6,
   "outputs": [
    {
     "name": "stdout",
     "output_type": "stream",
     "text": [
      "🚀️ deploy config file s3://669508176277-us-east-1-artifacts/projects/config_pattern/patterns/multi_env_json/all.json ...\n",
      "preview at: https://us-east-1.console.aws.amazon.com/s3/object/669508176277-us-east-1-artifacts?prefix=projects/config_pattern/patterns/multi_env_json/all.json\n",
      "done!\n",
      "🚀️ deploy config file s3://669508176277-us-east-1-artifacts/projects/config_pattern/patterns/multi_env_json/dev.json ...\n",
      "preview at: https://us-east-1.console.aws.amazon.com/s3/object/669508176277-us-east-1-artifacts?prefix=projects/config_pattern/patterns/multi_env_json/dev.json\n",
      "done!\n",
      "🚀️ deploy config file s3://669508176277-us-east-1-artifacts/projects/config_pattern/patterns/multi_env_json/int.json ...\n",
      "preview at: https://us-east-1.console.aws.amazon.com/s3/object/669508176277-us-east-1-artifacts?prefix=projects/config_pattern/patterns/multi_env_json/int.json\n",
      "done!\n",
      "🚀️ deploy config file s3://669508176277-us-east-1-artifacts/projects/config_pattern/patterns/multi_env_json/prod.json ...\n",
      "preview at: https://us-east-1.console.aws.amazon.com/s3/object/669508176277-us-east-1-artifacts?prefix=projects/config_pattern/patterns/multi_env_json/prod.json\n",
      "done!\n"
     ]
    }
   ],
   "source": [
    "# Deploy config to AWS S3 Store\n",
    "config.deploy(\n",
    "    bsm=bsm,\n",
    "    s3dir_config=s3dir_config,\n",
    ")"
   ],
   "metadata": {
    "collapsed": false,
    "pycharm": {
     "name": "#%%\n"
    }
   }
  },
  {
   "cell_type": "markdown",
   "source": [
    "### Use Your Config in Application Code\n",
    "\n",
    "In your application code, you could create the config object by reading the config storage. Then use the Python config object to access those config values."
   ],
   "metadata": {
    "collapsed": false,
    "pycharm": {
     "name": "#%% md\n"
    }
   }
  },
  {
   "cell_type": "code",
   "execution_count": 7,
   "outputs": [],
   "source": [
    "# content of config_init.py\n",
    "# -*- coding: utf-8 -*-\n",
    "\n",
    "from config_define import EnvEnum, Env, Config\n",
    "\n",
    "from rich import print as rprint\n",
    "from boto_session_manager import BotoSesManager\n",
    "\n",
    "# create boto session manager object for AWS SDK authentication\n",
    "bsm = BotoSesManager(profile_name=\"aws_data_lab_sanhe_us_east_1\")\n",
    "parameter_name = \"my_project-dev\"\n",
    "s3dir_config = \"s3://669508176277-us-east-1-artifacts/projects/config_pattern/patterns/multi_env_json/\""
   ],
   "metadata": {
    "collapsed": false,
    "pycharm": {
     "name": "#%%\n"
    }
   }
  },
  {
   "cell_type": "markdown",
   "source": [
    "You could read the config from AWS Parameter Store. For security reason, assuming that you want to load the \"dev\" config, you won't be able to access any of the \"prod\" config from your application runtime."
   ],
   "metadata": {
    "collapsed": false,
    "pycharm": {
     "name": "#%% md\n"
    }
   }
  },
  {
   "cell_type": "code",
   "execution_count": 8,
   "outputs": [
    {
     "ename": "AttributeError",
     "evalue": "The pysecret.AWSSecret API has been removed since 2.X! You can either downgrade to 1.0.4 or update your code.",
     "output_type": "error",
     "traceback": [
      "\u001B[0;31m---------------------------------------------------------------------------\u001B[0m",
      "\u001B[0;31mAttributeError\u001B[0m                            Traceback (most recent call last)",
      "Cell \u001B[0;32mIn[8], line 1\u001B[0m\n\u001B[0;32m----> 1\u001B[0m config \u001B[38;5;241m=\u001B[39m \u001B[43mConfig\u001B[49m\u001B[38;5;241;43m.\u001B[39;49m\u001B[43mread\u001B[49m\u001B[43m(\u001B[49m\n\u001B[1;32m      2\u001B[0m \u001B[43m    \u001B[49m\u001B[43menv_class\u001B[49m\u001B[38;5;241;43m=\u001B[39;49m\u001B[43mEnv\u001B[49m\u001B[43m,\u001B[49m\n\u001B[1;32m      3\u001B[0m \u001B[43m    \u001B[49m\u001B[43menv_enum_class\u001B[49m\u001B[38;5;241;43m=\u001B[39;49m\u001B[43mEnvEnum\u001B[49m\u001B[43m,\u001B[49m\n\u001B[1;32m      4\u001B[0m \u001B[43m    \u001B[49m\u001B[43mparameter_name\u001B[49m\u001B[38;5;241;43m=\u001B[39;49m\u001B[43mparameter_name\u001B[49m\u001B[43m,\u001B[49m\n\u001B[1;32m      5\u001B[0m \u001B[43m    \u001B[49m\u001B[43mparameter_with_encryption\u001B[49m\u001B[38;5;241;43m=\u001B[39;49m\u001B[38;5;28;43;01mTrue\u001B[39;49;00m\u001B[43m,\u001B[49m\n\u001B[1;32m      6\u001B[0m \u001B[43m)\u001B[49m\n\u001B[1;32m      7\u001B[0m rprint(config)\n\u001B[1;32m      8\u001B[0m rprint(config\u001B[38;5;241m.\u001B[39mdev)\n",
      "File \u001B[0;32m~/Documents/GitHub/config_patterns-project/config_patterns/patterns/multi_env_json.py:327\u001B[0m, in \u001B[0;36mBaseConfig.read\u001B[0;34m(cls, env_class, env_enum_class, path_config, path_secret_config, parameter_name, parameter_with_encryption, s3path_config)\u001B[0m\n\u001B[1;32m    318\u001B[0m     \u001B[38;5;28;01mreturn\u001B[39;00m \u001B[38;5;28mcls\u001B[39m(\n\u001B[1;32m    319\u001B[0m         data\u001B[38;5;241m=\u001B[39mdata,\n\u001B[1;32m    320\u001B[0m         secret_data\u001B[38;5;241m=\u001B[39msecret_data,\n\u001B[1;32m    321\u001B[0m         Env\u001B[38;5;241m=\u001B[39menv_class,\n\u001B[1;32m    322\u001B[0m         EnvEnum\u001B[38;5;241m=\u001B[39menv_enum_class,\n\u001B[1;32m    323\u001B[0m     )\n\u001B[1;32m    324\u001B[0m \u001B[38;5;28;01melif\u001B[39;00m (parameter_name \u001B[38;5;129;01mis\u001B[39;00m \u001B[38;5;129;01mnot\u001B[39;00m \u001B[38;5;28;01mNone\u001B[39;00m) \u001B[38;5;129;01mand\u001B[39;00m (\n\u001B[1;32m    325\u001B[0m     parameter_with_encryption \u001B[38;5;129;01mis\u001B[39;00m \u001B[38;5;129;01mnot\u001B[39;00m \u001B[38;5;28;01mNone\u001B[39;00m\n\u001B[1;32m    326\u001B[0m ):  \u001B[38;5;66;03m# pragma: no cover\u001B[39;00m\n\u001B[0;32m--> 327\u001B[0m     aws_secret \u001B[38;5;241m=\u001B[39m \u001B[43mpysecret\u001B[49m\u001B[38;5;241;43m.\u001B[39;49m\u001B[43mAWSSecret\u001B[49m(boto_session\u001B[38;5;241m=\u001B[39mboto3\u001B[38;5;241m.\u001B[39msession\u001B[38;5;241m.\u001B[39mSession())\n\u001B[1;32m    328\u001B[0m     parameter_data \u001B[38;5;241m=\u001B[39m aws_secret\u001B[38;5;241m.\u001B[39mget_parameter_data(\n\u001B[1;32m    329\u001B[0m         name\u001B[38;5;241m=\u001B[39mparameter_name,\n\u001B[1;32m    330\u001B[0m         with_encryption\u001B[38;5;241m=\u001B[39mparameter_with_encryption,\n\u001B[1;32m    331\u001B[0m     )\n\u001B[1;32m    332\u001B[0m     \u001B[38;5;28;01mreturn\u001B[39;00m \u001B[38;5;28mcls\u001B[39m(\n\u001B[1;32m    333\u001B[0m         data\u001B[38;5;241m=\u001B[39mparameter_data[\u001B[38;5;124m\"\u001B[39m\u001B[38;5;124mdata\u001B[39m\u001B[38;5;124m\"\u001B[39m],\n\u001B[1;32m    334\u001B[0m         secret_data\u001B[38;5;241m=\u001B[39mparameter_data[\u001B[38;5;124m\"\u001B[39m\u001B[38;5;124msecret_data\u001B[39m\u001B[38;5;124m\"\u001B[39m],\n\u001B[1;32m    335\u001B[0m         Env\u001B[38;5;241m=\u001B[39menv_class,\n\u001B[1;32m    336\u001B[0m         EnvEnum\u001B[38;5;241m=\u001B[39menv_enum_class,\n\u001B[1;32m    337\u001B[0m     )\n",
      "File \u001B[0;32m~/venvs/python/3.8.11/config_patterns_venv/lib/python3.8/site-packages/pysecret/__init__.py:67\u001B[0m, in \u001B[0;36m__getattr__\u001B[0;34m(name)\u001B[0m\n\u001B[1;32m     61\u001B[0m \u001B[38;5;28;01mdef\u001B[39;00m \u001B[38;5;21m__getattr__\u001B[39m(name: \u001B[38;5;28mstr\u001B[39m):  \u001B[38;5;66;03m# pragma: no cover\u001B[39;00m\n\u001B[1;32m     62\u001B[0m     \u001B[38;5;28;01mif\u001B[39;00m name \u001B[38;5;129;01min\u001B[39;00m [\n\u001B[1;32m     63\u001B[0m         \u001B[38;5;124m\"\u001B[39m\u001B[38;5;124mEnvSecret\u001B[39m\u001B[38;5;124m\"\u001B[39m,\n\u001B[1;32m     64\u001B[0m         \u001B[38;5;124m\"\u001B[39m\u001B[38;5;124mget_home_path\u001B[39m\u001B[38;5;124m\"\u001B[39m,\n\u001B[1;32m     65\u001B[0m         \u001B[38;5;124m\"\u001B[39m\u001B[38;5;124mAWSSecret\u001B[39m\u001B[38;5;124m\"\u001B[39m,\n\u001B[1;32m     66\u001B[0m     ]:\n\u001B[0;32m---> 67\u001B[0m         \u001B[38;5;28;01mraise\u001B[39;00m \u001B[38;5;167;01mAttributeError\u001B[39;00m(\n\u001B[1;32m     68\u001B[0m             \u001B[38;5;124mf\u001B[39m\u001B[38;5;124m\"\u001B[39m\u001B[38;5;124mThe pysecret.\u001B[39m\u001B[38;5;132;01m{\u001B[39;00mname\u001B[38;5;132;01m}\u001B[39;00m\u001B[38;5;124m API has been removed since 2.X! \u001B[39m\u001B[38;5;124m\"\u001B[39m\n\u001B[1;32m     69\u001B[0m             \u001B[38;5;124mf\u001B[39m\u001B[38;5;124m\"\u001B[39m\u001B[38;5;124mYou can either downgrade to 1.0.4 or update your code.\u001B[39m\u001B[38;5;124m\"\u001B[39m\n\u001B[1;32m     70\u001B[0m         )\n\u001B[1;32m     71\u001B[0m     \u001B[38;5;28;01mraise\u001B[39;00m \u001B[38;5;167;01mAttributeError\u001B[39;00m(\u001B[38;5;124mf\u001B[39m\u001B[38;5;124m\"\u001B[39m\u001B[38;5;124mmodule \u001B[39m\u001B[38;5;132;01m{\u001B[39;00m\u001B[38;5;18m__name__\u001B[39m\u001B[38;5;132;01m!r}\u001B[39;00m\u001B[38;5;124m has no attribute \u001B[39m\u001B[38;5;132;01m{\u001B[39;00mname\u001B[38;5;132;01m!r}\u001B[39;00m\u001B[38;5;124m\"\u001B[39m)\n",
      "\u001B[0;31mAttributeError\u001B[0m: The pysecret.AWSSecret API has been removed since 2.X! You can either downgrade to 1.0.4 or update your code."
     ]
    }
   ],
   "source": [
    "config = Config.read(\n",
    "    env_class=Env,\n",
    "    env_enum_class=EnvEnum,\n",
    "    parameter_name=parameter_name,\n",
    "    parameter_with_encryption=True,\n",
    ")\n",
    "rprint(config)\n",
    "rprint(config.dev)\n",
    "rprint(f\"config.dev.username = {config.dev.username!r}\")\n",
    "rprint(f\"config.dev.password = {config.dev.password!r}\")"
   ],
   "metadata": {
    "collapsed": false,
    "pycharm": {
     "name": "#%%\n"
    }
   }
  },
  {
   "cell_type": "code",
   "execution_count": 9,
   "outputs": [
    {
     "data": {
      "text/plain": "Env(project_name='my_project', env_name='prod', username='prod.user', password='prod.password')"
     },
     "execution_count": 9,
     "metadata": {},
     "output_type": "execute_result"
    }
   ],
   "source": [
    "# You can NOT access prod config from dev environment\n",
    "config.prod"
   ],
   "metadata": {
    "collapsed": false,
    "pycharm": {
     "name": "#%%\n"
    }
   }
  },
  {
   "cell_type": "markdown",
   "source": [
    "You could also read the config from AWS S3."
   ],
   "metadata": {
    "collapsed": false,
    "pycharm": {
     "name": "#%% md\n"
    }
   }
  },
  {
   "cell_type": "code",
   "execution_count": 10,
   "outputs": [
    {
     "data": {
      "text/plain": "\u001B[1;35mConfig\u001B[0m\u001B[1m(\u001B[0m\n    \u001B[33mdata\u001B[0m=\u001B[1m{\u001B[0m\u001B[32m'shared'\u001B[0m: \u001B[1m{\u001B[0m\u001B[32m'project_name'\u001B[0m: \u001B[32m'my_project'\u001B[0m\u001B[1m}\u001B[0m, \u001B[32m'envs'\u001B[0m: \u001B[1m{\u001B[0m\u001B[32m'prod'\u001B[0m: \u001B[1m{\u001B[0m\u001B[32m'username'\u001B[0m: \u001B[32m'prod.user'\u001B[0m\u001B[1m}\u001B[0m\u001B[1m}\u001B[0m\u001B[1m}\u001B[0m,\n    \u001B[33msecret_data\u001B[0m=\u001B[1m{\u001B[0m\u001B[32m'shared'\u001B[0m: \u001B[1m{\u001B[0m\u001B[1m}\u001B[0m, \u001B[32m'envs'\u001B[0m: \u001B[1m{\u001B[0m\u001B[32m'prod'\u001B[0m: \u001B[1m{\u001B[0m\u001B[32m'password'\u001B[0m: \u001B[32m'prod.password'\u001B[0m\u001B[1m}\u001B[0m\u001B[1m}\u001B[0m\u001B[1m}\u001B[0m,\n    \u001B[33mEnv\u001B[0m=\u001B[1m<\u001B[0m\u001B[1;95mclass\u001B[0m\u001B[39m \u001B[0m\u001B[32m'config_define.Env'\u001B[0m\u001B[39m>,\u001B[0m\n\u001B[39m    \u001B[0m\u001B[33mEnvEnum\u001B[0m\u001B[39m=<enum \u001B[0m\u001B[32m'EnvEnum'\u001B[0m\u001B[1m>\u001B[0m\n\u001B[1m)\u001B[0m\n",
      "text/html": "<pre style=\"white-space:pre;overflow-x:auto;line-height:normal;font-family:Menlo,'DejaVu Sans Mono',consolas,'Courier New',monospace\"><span style=\"color: #800080; text-decoration-color: #800080; font-weight: bold\">Config</span><span style=\"font-weight: bold\">(</span>\n    <span style=\"color: #808000; text-decoration-color: #808000\">data</span>=<span style=\"font-weight: bold\">{</span><span style=\"color: #008000; text-decoration-color: #008000\">'shared'</span>: <span style=\"font-weight: bold\">{</span><span style=\"color: #008000; text-decoration-color: #008000\">'project_name'</span>: <span style=\"color: #008000; text-decoration-color: #008000\">'my_project'</span><span style=\"font-weight: bold\">}</span>, <span style=\"color: #008000; text-decoration-color: #008000\">'envs'</span>: <span style=\"font-weight: bold\">{</span><span style=\"color: #008000; text-decoration-color: #008000\">'prod'</span>: <span style=\"font-weight: bold\">{</span><span style=\"color: #008000; text-decoration-color: #008000\">'username'</span>: <span style=\"color: #008000; text-decoration-color: #008000\">'prod.user'</span><span style=\"font-weight: bold\">}}}</span>,\n    <span style=\"color: #808000; text-decoration-color: #808000\">secret_data</span>=<span style=\"font-weight: bold\">{</span><span style=\"color: #008000; text-decoration-color: #008000\">'shared'</span>: <span style=\"font-weight: bold\">{}</span>, <span style=\"color: #008000; text-decoration-color: #008000\">'envs'</span>: <span style=\"font-weight: bold\">{</span><span style=\"color: #008000; text-decoration-color: #008000\">'prod'</span>: <span style=\"font-weight: bold\">{</span><span style=\"color: #008000; text-decoration-color: #008000\">'password'</span>: <span style=\"color: #008000; text-decoration-color: #008000\">'prod.password'</span><span style=\"font-weight: bold\">}}}</span>,\n    <span style=\"color: #808000; text-decoration-color: #808000\">Env</span>=<span style=\"font-weight: bold\">&lt;</span><span style=\"color: #ff00ff; text-decoration-color: #ff00ff; font-weight: bold\">class</span><span style=\"color: #000000; text-decoration-color: #000000\"> </span><span style=\"color: #008000; text-decoration-color: #008000\">'config_define.Env'</span><span style=\"color: #000000; text-decoration-color: #000000\">&gt;,</span>\n<span style=\"color: #000000; text-decoration-color: #000000\">    </span><span style=\"color: #808000; text-decoration-color: #808000\">EnvEnum</span><span style=\"color: #000000; text-decoration-color: #000000\">=&lt;enum </span><span style=\"color: #008000; text-decoration-color: #008000\">'EnvEnum'</span><span style=\"font-weight: bold\">&gt;</span>\n<span style=\"font-weight: bold\">)</span>\n</pre>\n"
     },
     "metadata": {},
     "output_type": "display_data"
    },
    {
     "data": {
      "text/plain": "\u001B[1;35mEnv\u001B[0m\u001B[1m(\u001B[0m\u001B[33mproject_name\u001B[0m=\u001B[32m'my_project'\u001B[0m, \u001B[33menv_name\u001B[0m=\u001B[32m'prod'\u001B[0m, \u001B[33musername\u001B[0m=\u001B[32m'prod.user'\u001B[0m, \u001B[33mpassword\u001B[0m=\u001B[32m'prod.password'\u001B[0m\u001B[1m)\u001B[0m\n",
      "text/html": "<pre style=\"white-space:pre;overflow-x:auto;line-height:normal;font-family:Menlo,'DejaVu Sans Mono',consolas,'Courier New',monospace\"><span style=\"color: #800080; text-decoration-color: #800080; font-weight: bold\">Env</span><span style=\"font-weight: bold\">(</span><span style=\"color: #808000; text-decoration-color: #808000\">project_name</span>=<span style=\"color: #008000; text-decoration-color: #008000\">'my_project'</span>, <span style=\"color: #808000; text-decoration-color: #808000\">env_name</span>=<span style=\"color: #008000; text-decoration-color: #008000\">'prod'</span>, <span style=\"color: #808000; text-decoration-color: #808000\">username</span>=<span style=\"color: #008000; text-decoration-color: #008000\">'prod.user'</span>, <span style=\"color: #808000; text-decoration-color: #808000\">password</span>=<span style=\"color: #008000; text-decoration-color: #008000\">'prod.password'</span><span style=\"font-weight: bold\">)</span>\n</pre>\n"
     },
     "metadata": {},
     "output_type": "display_data"
    },
    {
     "data": {
      "text/plain": "config.prod.username = \u001B[32m'prod.user'\u001B[0m\n",
      "text/html": "<pre style=\"white-space:pre;overflow-x:auto;line-height:normal;font-family:Menlo,'DejaVu Sans Mono',consolas,'Courier New',monospace\">config.prod.username = <span style=\"color: #008000; text-decoration-color: #008000\">'prod.user'</span>\n</pre>\n"
     },
     "metadata": {},
     "output_type": "display_data"
    },
    {
     "data": {
      "text/plain": "config.prod.password = \u001B[32m'prod.password'\u001B[0m\n",
      "text/html": "<pre style=\"white-space:pre;overflow-x:auto;line-height:normal;font-family:Menlo,'DejaVu Sans Mono',consolas,'Courier New',monospace\">config.prod.password = <span style=\"color: #008000; text-decoration-color: #008000\">'prod.password'</span>\n</pre>\n"
     },
     "metadata": {},
     "output_type": "display_data"
    }
   ],
   "source": [
    "config = Config.read(\n",
    "    env_class=Env,\n",
    "    env_enum_class=EnvEnum,\n",
    "    s3path_config=f\"{s3dir_config}prod.json\",\n",
    ")\n",
    "rprint(config)\n",
    "rprint(config.prod)\n",
    "rprint(f\"config.prod.username = {config.prod.username!r}\")\n",
    "rprint(f\"config.prod.password = {config.prod.password!r}\")"
   ],
   "metadata": {
    "collapsed": false,
    "pycharm": {
     "name": "#%%\n"
    }
   }
  },
  {
   "cell_type": "markdown",
   "source": [
    "## Delete Config from Config Storage\n",
    "\n",
    "At the end, you can delete all config from config storage."
   ],
   "metadata": {
    "collapsed": false,
    "pycharm": {
     "name": "#%% md\n"
    }
   }
  },
  {
   "cell_type": "code",
   "execution_count": 11,
   "outputs": [],
   "source": [
    "config = Config.read(\n",
    "    env_class=Env,\n",
    "    env_enum_class=EnvEnum,\n",
    "    path_config=path_config,\n",
    "    path_secret_config=path_secret_config,\n",
    ")"
   ],
   "metadata": {
    "collapsed": false,
    "pycharm": {
     "name": "#%%\n"
    }
   }
  },
  {
   "cell_type": "code",
   "execution_count": 12,
   "outputs": [
    {
     "name": "stdout",
     "output_type": "stream",
     "text": [
      "delete parameter store for all environment\n",
      "🗑️ delete SSM Parameter 'my_project' ...\n",
      "verify at: https://us-east-1.console.aws.amazon.com/systems-manager/parameters/my_project/description?region=us-east-1&tab=Table\n",
      "done!\n",
      "🗑️ delete SSM Parameter 'my_project-dev' ...\n",
      "verify at: https://us-east-1.console.aws.amazon.com/systems-manager/parameters/my_project-dev/description?region=us-east-1&tab=Table\n",
      "done!\n",
      "🗑️ delete SSM Parameter 'my_project-int' ...\n",
      "verify at: https://us-east-1.console.aws.amazon.com/systems-manager/parameters/my_project-int/description?region=us-east-1&tab=Table\n",
      "done!\n",
      "🗑️ delete SSM Parameter 'my_project-prod' ...\n",
      "verify at: https://us-east-1.console.aws.amazon.com/systems-manager/parameters/my_project-prod/description?region=us-east-1&tab=Table\n",
      "done!\n"
     ]
    }
   ],
   "source": [
    "config.delete(\n",
    "    bsm=bsm,\n",
    "    use_parameter_store=True,\n",
    ")"
   ],
   "metadata": {
    "collapsed": false,
    "pycharm": {
     "name": "#%%\n"
    }
   }
  },
  {
   "cell_type": "code",
   "execution_count": 13,
   "outputs": [
    {
     "name": "stdout",
     "output_type": "stream",
     "text": [
      "🗑️ delete config file s3://669508176277-us-east-1-artifacts/projects/config_pattern/patterns/multi_env_json/all.json ...\n",
      "preview at: https://us-east-1.console.aws.amazon.com/s3/object/669508176277-us-east-1-artifacts?prefix=projects/config_pattern/patterns/multi_env_json/all.json\n",
      "done!\n",
      "🗑️ delete config file s3://669508176277-us-east-1-artifacts/projects/config_pattern/patterns/multi_env_json/dev.json ...\n",
      "preview at: https://us-east-1.console.aws.amazon.com/s3/object/669508176277-us-east-1-artifacts?prefix=projects/config_pattern/patterns/multi_env_json/dev.json\n",
      "done!\n",
      "🗑️ delete config file s3://669508176277-us-east-1-artifacts/projects/config_pattern/patterns/multi_env_json/int.json ...\n",
      "preview at: https://us-east-1.console.aws.amazon.com/s3/object/669508176277-us-east-1-artifacts?prefix=projects/config_pattern/patterns/multi_env_json/int.json\n",
      "done!\n",
      "🗑️ delete config file s3://669508176277-us-east-1-artifacts/projects/config_pattern/patterns/multi_env_json/prod.json ...\n",
      "preview at: https://us-east-1.console.aws.amazon.com/s3/object/669508176277-us-east-1-artifacts?prefix=projects/config_pattern/patterns/multi_env_json/prod.json\n",
      "done!\n"
     ]
    }
   ],
   "source": [
    "config.delete(\n",
    "    bsm=bsm,\n",
    "    s3dir_config=s3dir_config,\n",
    ")"
   ],
   "metadata": {
    "collapsed": false,
    "pycharm": {
     "name": "#%%\n"
    }
   }
  },
  {
   "cell_type": "code",
   "execution_count": 13,
   "outputs": [],
   "source": [],
   "metadata": {
    "collapsed": false,
    "pycharm": {
     "name": "#%%\n"
    }
   }
  }
 ],
 "metadata": {
  "kernelspec": {
   "display_name": "Python 3",
   "language": "python",
   "name": "python3"
  },
  "language_info": {
   "codemirror_mode": {
    "name": "ipython",
    "version": 2
   },
   "file_extension": ".py",
   "mimetype": "text/x-python",
   "name": "python",
   "nbconvert_exporter": "python",
   "pygments_lexer": "ipython2",
   "version": "2.7.6"
  }
 },
 "nbformat": 4,
 "nbformat_minor": 0
}