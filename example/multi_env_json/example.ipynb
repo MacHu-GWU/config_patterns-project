{
 "cells": [
  {
   "cell_type": "markdown",
   "metadata": {},
   "source": [
    "# Multi Environment JSON Pattern\n",
    "\n",
    "This pattern allows you to manage configuration for multiple environments.\n",
    "\n",
    "In modern software development, managing configurations across multiple environments has become a crucial aspect of maintaining robust applications. This document introduce a best practice to manage schema definition, data initialization, config deployment and config usage.\n",
    "\n",
    "## Solution Overview\n",
    "\n",
    "This solution ships the following best practices:\n",
    "\n",
    "1. Utilize dataclasses to define the configuration schema, providing an object-oriented interface to access configuration values. This not only enables basic validation but also helps avoid typographical errors and offers auto-complete functionality within Integrated Development Environments (IDEs).\n",
    "2. Separating the schema declaration from the data initialization enables a flexible strategy to load the config data from different sources in different environments. For example, you can load the config data from a local file in the development environment and retrieve the config data from AWS Parameter Store in the production environment.\n",
    "3. Manage the source-of-truth of the config data in Git for non-sensitive data, enabling version control of the config data.\n",
    "4. Leverage the inheritance hierarchy pattern to set global default values and be able to override them in specific environments.\n",
    "5. Provide two options to deploy the config data to [AWS Parameter Store](https://docs.aws.amazon.com/systems-manager/latest/userguide/systems-manager-parameter-store.html) or [AWS S3](https://aws.amazon.com/s3/), with encryption-at-transit and encryption-at-rest enabled by default.\n",
    "6. Isolate the deployment of configurations based on the environment, ensuring that each environment can only access its specific config data and cannot access the configuration of other environments. Additionally, maintain a versioned copy of the all-in-one configuration deployment as a backup for disaster recovery or compliance requirements.\n",
    "7. Separate static config values from dynamic values, enabling developers to customize the logic for generating dynamic values.\n",
    "\n",
    "To use this solution, you have to install the Python package [config_patterns](https://pypi.org/project/config-patterns/). It comes with the building block and the automation to implement your own multi environment config management system. Please continue to read to learn how to use it."
   ]
  },
  {
   "cell_type": "markdown",
   "metadata": {},
   "source": [
    "## Config Json File Format\n",
    "\n",
    "In object-oriented programming, the inheritance hierarchy is a pattern where child objects inherit attributes and methods from parent objects. Similarly, in configuration management, the global configuration often acts as the default value, allowing for the possibility of overriding specific values in environment-specific configurations. Please take a look at the following example of config JSON file. We will explain it later."
   ]
  },
  {
   "cell_type": "code",
   "execution_count": 1,
   "metadata": {
    "ExecuteTime": {
     "end_time": "2023-05-17T10:28:53.464529Z",
     "start_time": "2023-05-17T10:28:53.459886Z"
    },
    "collapsed": false,
    "jupyter": {
     "outputs_hidden": false
    },
    "tags": []
   },
   "outputs": [],
   "source": [
    "import os\n",
    "import json\n",
    "from pathlib import Path\n",
    "from rich import print as rprint\n",
    "\n",
    "def jprint(data: dict):\n",
    "    rprint(json.dumps(data, indent=4))\n",
    "\n",
    "dir_here = Path(os.getcwd()).absolute()\n",
    "path_config = dir_here.joinpath(\"config.json\")"
   ]
  },
  {
   "cell_type": "code",
   "execution_count": 2,
   "metadata": {
    "ExecuteTime": {
     "end_time": "2023-05-17T10:37:53.795052Z",
     "start_time": "2023-05-17T10:37:53.786720Z"
    },
    "collapsed": false,
    "jupyter": {
     "outputs_hidden": false
    },
    "tags": []
   },
   "outputs": [
    {
     "data": {
      "text/html": [
       "<pre style=\"white-space:pre;overflow-x:auto;line-height:normal;font-family:Menlo,'DejaVu Sans Mono',consolas,'Courier New',monospace\"># content of config.json\n",
       "<span style=\"font-weight: bold\">{</span>\n",
       "    # this config file support comments, you can put documentation in the config file\n",
       "    <span style=\"color: #008000; text-decoration-color: #008000\">\"_shared\"</span>: <span style=\"font-weight: bold\">{</span>\n",
       "        <span style=\"color: #008000; text-decoration-color: #008000\">\"*.project_name\"</span>: <span style=\"color: #008000; text-decoration-color: #008000\">\"my_project\"</span>\n",
       "    <span style=\"font-weight: bold\">}</span>,\n",
       "    <span style=\"color: #008000; text-decoration-color: #008000\">\"dev\"</span>: <span style=\"font-weight: bold\">{</span>\n",
       "        <span style=\"color: #008000; text-decoration-color: #008000\">\"username\"</span>: <span style=\"color: #008000; text-decoration-color: #008000\">\"dev.user\"</span>\n",
       "    <span style=\"font-weight: bold\">}</span>,\n",
       "    <span style=\"color: #008000; text-decoration-color: #008000\">\"int\"</span>: <span style=\"font-weight: bold\">{</span>\n",
       "        <span style=\"color: #008000; text-decoration-color: #008000\">\"username\"</span>: <span style=\"color: #008000; text-decoration-color: #008000\">\"int.user\"</span>\n",
       "    <span style=\"font-weight: bold\">}</span>,\n",
       "    <span style=\"color: #008000; text-decoration-color: #008000\">\"prod\"</span>: <span style=\"font-weight: bold\">{</span>\n",
       "        <span style=\"color: #008000; text-decoration-color: #008000\">\"username\"</span>: <span style=\"color: #008000; text-decoration-color: #008000\">\"prod.user\"</span>\n",
       "    <span style=\"font-weight: bold\">}</span>\n",
       "<span style=\"font-weight: bold\">}</span>\n",
       "</pre>\n"
      ],
      "text/plain": [
       "# content of config.json\n",
       "\u001b[1m{\u001b[0m\n",
       "    # this config file support comments, you can put documentation in the config file\n",
       "    \u001b[32m\"_shared\"\u001b[0m: \u001b[1m{\u001b[0m\n",
       "        \u001b[32m\"*.project_name\"\u001b[0m: \u001b[32m\"my_project\"\u001b[0m\n",
       "    \u001b[1m}\u001b[0m,\n",
       "    \u001b[32m\"dev\"\u001b[0m: \u001b[1m{\u001b[0m\n",
       "        \u001b[32m\"username\"\u001b[0m: \u001b[32m\"dev.user\"\u001b[0m\n",
       "    \u001b[1m}\u001b[0m,\n",
       "    \u001b[32m\"int\"\u001b[0m: \u001b[1m{\u001b[0m\n",
       "        \u001b[32m\"username\"\u001b[0m: \u001b[32m\"int.user\"\u001b[0m\n",
       "    \u001b[1m}\u001b[0m,\n",
       "    \u001b[32m\"prod\"\u001b[0m: \u001b[1m{\u001b[0m\n",
       "        \u001b[32m\"username\"\u001b[0m: \u001b[32m\"prod.user\"\u001b[0m\n",
       "    \u001b[1m}\u001b[0m\n",
       "\u001b[1m}\u001b[0m\n"
      ]
     },
     "metadata": {},
     "output_type": "display_data"
    }
   ],
   "source": [
    "rprint(path_config.read_text())"
   ]
  },
  {
   "cell_type": "markdown",
   "metadata": {},
   "source": [
    "There's a meta field ``_shared`` in the root level of the config file. It is a powerful inheritance hierarchy mechanism to specify config values. The ``_shared`` field is a key value pairs of JSON path notation and it's value. For example:"
   ]
  },
  {
   "cell_type": "code",
   "execution_count": 3,
   "metadata": {
    "ExecuteTime": {
     "end_time": "2023-05-17T10:29:24.040055Z",
     "start_time": "2023-05-17T10:29:24.033156Z"
    },
    "collapsed": false,
    "jupyter": {
     "outputs_hidden": false
    },
    "tags": []
   },
   "outputs": [
    {
     "name": "stdout",
     "output_type": "stream",
     "text": [
      "before:\n"
     ]
    },
    {
     "data": {
      "text/html": [
       "<pre style=\"white-space:pre;overflow-x:auto;line-height:normal;font-family:Menlo,'DejaVu Sans Mono',consolas,'Courier New',monospace\"><span style=\"font-weight: bold\">{</span>\n",
       "    <span style=\"color: #008000; text-decoration-color: #008000\">\"_shared\"</span>: <span style=\"font-weight: bold\">{</span>\n",
       "        <span style=\"color: #008000; text-decoration-color: #008000\">\"*.name\"</span>: <span style=\"color: #008000; text-decoration-color: #008000\">\"alice\"</span>,\n",
       "        <span style=\"color: #008000; text-decoration-color: #008000\">\"*.contact.email\"</span>: <span style=\"color: #008000; text-decoration-color: #008000\">\"alice@email.com\"</span>\n",
       "    <span style=\"font-weight: bold\">}</span>,\n",
       "    <span style=\"color: #008000; text-decoration-color: #008000\">\"dev\"</span>: <span style=\"font-weight: bold\">{</span>\n",
       "        <span style=\"color: #008000; text-decoration-color: #008000\">\"contact\"</span>: <span style=\"font-weight: bold\">{}</span>\n",
       "    <span style=\"font-weight: bold\">}</span>,\n",
       "    <span style=\"color: #008000; text-decoration-color: #008000\">\"prod\"</span>: <span style=\"font-weight: bold\">{</span>\n",
       "        <span style=\"color: #008000; text-decoration-color: #008000\">\"name\"</span>: <span style=\"color: #008000; text-decoration-color: #008000\">\"bob\"</span>,\n",
       "        <span style=\"color: #008000; text-decoration-color: #008000\">\"contact\"</span>: <span style=\"font-weight: bold\">{</span>\n",
       "            <span style=\"color: #008000; text-decoration-color: #008000\">\"email\"</span>: <span style=\"color: #008000; text-decoration-color: #008000\">\"bob@email.com\"</span>\n",
       "        <span style=\"font-weight: bold\">}</span>\n",
       "    <span style=\"font-weight: bold\">}</span>\n",
       "<span style=\"font-weight: bold\">}</span>\n",
       "</pre>\n"
      ],
      "text/plain": [
       "\u001b[1m{\u001b[0m\n",
       "    \u001b[32m\"_shared\"\u001b[0m: \u001b[1m{\u001b[0m\n",
       "        \u001b[32m\"*.name\"\u001b[0m: \u001b[32m\"alice\"\u001b[0m,\n",
       "        \u001b[32m\"*.contact.email\"\u001b[0m: \u001b[32m\"alice@email.com\"\u001b[0m\n",
       "    \u001b[1m}\u001b[0m,\n",
       "    \u001b[32m\"dev\"\u001b[0m: \u001b[1m{\u001b[0m\n",
       "        \u001b[32m\"contact\"\u001b[0m: \u001b[1m{\u001b[0m\u001b[1m}\u001b[0m\n",
       "    \u001b[1m}\u001b[0m,\n",
       "    \u001b[32m\"prod\"\u001b[0m: \u001b[1m{\u001b[0m\n",
       "        \u001b[32m\"name\"\u001b[0m: \u001b[32m\"bob\"\u001b[0m,\n",
       "        \u001b[32m\"contact\"\u001b[0m: \u001b[1m{\u001b[0m\n",
       "            \u001b[32m\"email\"\u001b[0m: \u001b[32m\"bob@email.com\"\u001b[0m\n",
       "        \u001b[1m}\u001b[0m\n",
       "    \u001b[1m}\u001b[0m\n",
       "\u001b[1m}\u001b[0m\n"
      ]
     },
     "metadata": {},
     "output_type": "display_data"
    },
    {
     "name": "stdout",
     "output_type": "stream",
     "text": [
      "after:\n"
     ]
    },
    {
     "data": {
      "text/html": [
       "<pre style=\"white-space:pre;overflow-x:auto;line-height:normal;font-family:Menlo,'DejaVu Sans Mono',consolas,'Courier New',monospace\"><span style=\"font-weight: bold\">{</span>\n",
       "    <span style=\"color: #008000; text-decoration-color: #008000\">\"dev\"</span>: <span style=\"font-weight: bold\">{</span>\n",
       "        <span style=\"color: #008000; text-decoration-color: #008000\">\"contact\"</span>: <span style=\"font-weight: bold\">{</span>\n",
       "            <span style=\"color: #008000; text-decoration-color: #008000\">\"email\"</span>: <span style=\"color: #008000; text-decoration-color: #008000\">\"alice@email.com\"</span>\n",
       "        <span style=\"font-weight: bold\">}</span>,\n",
       "        <span style=\"color: #008000; text-decoration-color: #008000\">\"name\"</span>: <span style=\"color: #008000; text-decoration-color: #008000\">\"alice\"</span>\n",
       "    <span style=\"font-weight: bold\">}</span>,\n",
       "    <span style=\"color: #008000; text-decoration-color: #008000\">\"prod\"</span>: <span style=\"font-weight: bold\">{</span>\n",
       "        <span style=\"color: #008000; text-decoration-color: #008000\">\"name\"</span>: <span style=\"color: #008000; text-decoration-color: #008000\">\"bob\"</span>,\n",
       "        <span style=\"color: #008000; text-decoration-color: #008000\">\"contact\"</span>: <span style=\"font-weight: bold\">{</span>\n",
       "            <span style=\"color: #008000; text-decoration-color: #008000\">\"email\"</span>: <span style=\"color: #008000; text-decoration-color: #008000\">\"bob@email.com\"</span>\n",
       "        <span style=\"font-weight: bold\">}</span>\n",
       "    <span style=\"font-weight: bold\">}</span>\n",
       "<span style=\"font-weight: bold\">}</span>\n",
       "</pre>\n"
      ],
      "text/plain": [
       "\u001b[1m{\u001b[0m\n",
       "    \u001b[32m\"dev\"\u001b[0m: \u001b[1m{\u001b[0m\n",
       "        \u001b[32m\"contact\"\u001b[0m: \u001b[1m{\u001b[0m\n",
       "            \u001b[32m\"email\"\u001b[0m: \u001b[32m\"alice@email.com\"\u001b[0m\n",
       "        \u001b[1m}\u001b[0m,\n",
       "        \u001b[32m\"name\"\u001b[0m: \u001b[32m\"alice\"\u001b[0m\n",
       "    \u001b[1m}\u001b[0m,\n",
       "    \u001b[32m\"prod\"\u001b[0m: \u001b[1m{\u001b[0m\n",
       "        \u001b[32m\"name\"\u001b[0m: \u001b[32m\"bob\"\u001b[0m,\n",
       "        \u001b[32m\"contact\"\u001b[0m: \u001b[1m{\u001b[0m\n",
       "            \u001b[32m\"email\"\u001b[0m: \u001b[32m\"bob@email.com\"\u001b[0m\n",
       "        \u001b[1m}\u001b[0m\n",
       "    \u001b[1m}\u001b[0m\n",
       "\u001b[1m}\u001b[0m\n"
      ]
     },
     "metadata": {},
     "output_type": "display_data"
    }
   ],
   "source": [
    "from config_patterns.patterns.hierarchy import SHARED, apply_shared_value\n",
    "\n",
    "data = {\n",
    "    SHARED: {\n",
    "        \"*.name\": \"alice\",\n",
    "        \"*.contact.email\": \"alice@email.com\",\n",
    "    },\n",
    "    \"dev\": {\n",
    "        \"contact\": {},\n",
    "    },\n",
    "    \"prod\": {\n",
    "        \"name\": \"bob\",\n",
    "        \"contact\": {\n",
    "            \"email\": \"bob@email.com\"\n",
    "        },\n",
    "    },\n",
    "}\n",
    "print(\"before:\")\n",
    "jprint(data)\n",
    "print(\"after:\")\n",
    "apply_shared_value(data)\n",
    "jprint(data)"
   ]
  },
  {
   "cell_type": "markdown",
   "metadata": {},
   "source": [
    "This mechanism is very powerful, it works with list of dict too."
   ]
  },
  {
   "cell_type": "code",
   "execution_count": 4,
   "metadata": {
    "ExecuteTime": {
     "end_time": "2023-05-17T10:29:30.146543Z",
     "start_time": "2023-05-17T10:29:30.142503Z"
    },
    "collapsed": false,
    "jupyter": {
     "outputs_hidden": false
    },
    "tags": []
   },
   "outputs": [
    {
     "name": "stdout",
     "output_type": "stream",
     "text": [
      "before:\n"
     ]
    },
    {
     "data": {
      "text/html": [
       "<pre style=\"white-space:pre;overflow-x:auto;line-height:normal;font-family:Menlo,'DejaVu Sans Mono',consolas,'Courier New',monospace\"><span style=\"font-weight: bold\">{</span>\n",
       "    <span style=\"color: #008000; text-decoration-color: #008000\">\"_shared\"</span>: <span style=\"font-weight: bold\">{</span>\n",
       "        <span style=\"color: #008000; text-decoration-color: #008000\">\"*.databases.port\"</span>: <span style=\"color: #008080; text-decoration-color: #008080; font-weight: bold\">5432</span>\n",
       "    <span style=\"font-weight: bold\">}</span>,\n",
       "    <span style=\"color: #008000; text-decoration-color: #008000\">\"dev\"</span>: <span style=\"font-weight: bold\">{</span>\n",
       "        <span style=\"color: #008000; text-decoration-color: #008000\">\"databases\"</span>: <span style=\"font-weight: bold\">[</span>\n",
       "            <span style=\"font-weight: bold\">{</span>\n",
       "                <span style=\"color: #008000; text-decoration-color: #008000\">\"host\"</span>: <span style=\"color: #008000; text-decoration-color: #008000\">\"db1.com\"</span>\n",
       "            <span style=\"font-weight: bold\">}</span>,\n",
       "            <span style=\"font-weight: bold\">{</span>\n",
       "                <span style=\"color: #008000; text-decoration-color: #008000\">\"host\"</span>: <span style=\"color: #008000; text-decoration-color: #008000\">\"db2.com\"</span>\n",
       "            <span style=\"font-weight: bold\">}</span>\n",
       "        <span style=\"font-weight: bold\">]</span>\n",
       "    <span style=\"font-weight: bold\">}</span>,\n",
       "    <span style=\"color: #008000; text-decoration-color: #008000\">\"prod\"</span>: <span style=\"font-weight: bold\">{</span>\n",
       "        <span style=\"color: #008000; text-decoration-color: #008000\">\"databases\"</span>: <span style=\"font-weight: bold\">[</span>\n",
       "            <span style=\"font-weight: bold\">{</span>\n",
       "                <span style=\"color: #008000; text-decoration-color: #008000\">\"host\"</span>: <span style=\"color: #008000; text-decoration-color: #008000\">\"db3.com\"</span>\n",
       "            <span style=\"font-weight: bold\">}</span>,\n",
       "            <span style=\"font-weight: bold\">{</span>\n",
       "                <span style=\"color: #008000; text-decoration-color: #008000\">\"host\"</span>: <span style=\"color: #008000; text-decoration-color: #008000\">\"db4.com\"</span>\n",
       "            <span style=\"font-weight: bold\">}</span>\n",
       "        <span style=\"font-weight: bold\">]</span>\n",
       "    <span style=\"font-weight: bold\">}</span>\n",
       "<span style=\"font-weight: bold\">}</span>\n",
       "</pre>\n"
      ],
      "text/plain": [
       "\u001b[1m{\u001b[0m\n",
       "    \u001b[32m\"_shared\"\u001b[0m: \u001b[1m{\u001b[0m\n",
       "        \u001b[32m\"*.databases.port\"\u001b[0m: \u001b[1;36m5432\u001b[0m\n",
       "    \u001b[1m}\u001b[0m,\n",
       "    \u001b[32m\"dev\"\u001b[0m: \u001b[1m{\u001b[0m\n",
       "        \u001b[32m\"databases\"\u001b[0m: \u001b[1m[\u001b[0m\n",
       "            \u001b[1m{\u001b[0m\n",
       "                \u001b[32m\"host\"\u001b[0m: \u001b[32m\"db1.com\"\u001b[0m\n",
       "            \u001b[1m}\u001b[0m,\n",
       "            \u001b[1m{\u001b[0m\n",
       "                \u001b[32m\"host\"\u001b[0m: \u001b[32m\"db2.com\"\u001b[0m\n",
       "            \u001b[1m}\u001b[0m\n",
       "        \u001b[1m]\u001b[0m\n",
       "    \u001b[1m}\u001b[0m,\n",
       "    \u001b[32m\"prod\"\u001b[0m: \u001b[1m{\u001b[0m\n",
       "        \u001b[32m\"databases\"\u001b[0m: \u001b[1m[\u001b[0m\n",
       "            \u001b[1m{\u001b[0m\n",
       "                \u001b[32m\"host\"\u001b[0m: \u001b[32m\"db3.com\"\u001b[0m\n",
       "            \u001b[1m}\u001b[0m,\n",
       "            \u001b[1m{\u001b[0m\n",
       "                \u001b[32m\"host\"\u001b[0m: \u001b[32m\"db4.com\"\u001b[0m\n",
       "            \u001b[1m}\u001b[0m\n",
       "        \u001b[1m]\u001b[0m\n",
       "    \u001b[1m}\u001b[0m\n",
       "\u001b[1m}\u001b[0m\n"
      ]
     },
     "metadata": {},
     "output_type": "display_data"
    },
    {
     "name": "stdout",
     "output_type": "stream",
     "text": [
      "after:\n"
     ]
    },
    {
     "data": {
      "text/html": [
       "<pre style=\"white-space:pre;overflow-x:auto;line-height:normal;font-family:Menlo,'DejaVu Sans Mono',consolas,'Courier New',monospace\"><span style=\"font-weight: bold\">{</span>\n",
       "    <span style=\"color: #008000; text-decoration-color: #008000\">\"dev\"</span>: <span style=\"font-weight: bold\">{</span>\n",
       "        <span style=\"color: #008000; text-decoration-color: #008000\">\"databases\"</span>: <span style=\"font-weight: bold\">[</span>\n",
       "            <span style=\"font-weight: bold\">{</span>\n",
       "                <span style=\"color: #008000; text-decoration-color: #008000\">\"host\"</span>: <span style=\"color: #008000; text-decoration-color: #008000\">\"db1.com\"</span>,\n",
       "                <span style=\"color: #008000; text-decoration-color: #008000\">\"port\"</span>: <span style=\"color: #008080; text-decoration-color: #008080; font-weight: bold\">5432</span>\n",
       "            <span style=\"font-weight: bold\">}</span>,\n",
       "            <span style=\"font-weight: bold\">{</span>\n",
       "                <span style=\"color: #008000; text-decoration-color: #008000\">\"host\"</span>: <span style=\"color: #008000; text-decoration-color: #008000\">\"db2.com\"</span>,\n",
       "                <span style=\"color: #008000; text-decoration-color: #008000\">\"port\"</span>: <span style=\"color: #008080; text-decoration-color: #008080; font-weight: bold\">5432</span>\n",
       "            <span style=\"font-weight: bold\">}</span>\n",
       "        <span style=\"font-weight: bold\">]</span>\n",
       "    <span style=\"font-weight: bold\">}</span>,\n",
       "    <span style=\"color: #008000; text-decoration-color: #008000\">\"prod\"</span>: <span style=\"font-weight: bold\">{</span>\n",
       "        <span style=\"color: #008000; text-decoration-color: #008000\">\"databases\"</span>: <span style=\"font-weight: bold\">[</span>\n",
       "            <span style=\"font-weight: bold\">{</span>\n",
       "                <span style=\"color: #008000; text-decoration-color: #008000\">\"host\"</span>: <span style=\"color: #008000; text-decoration-color: #008000\">\"db3.com\"</span>,\n",
       "                <span style=\"color: #008000; text-decoration-color: #008000\">\"port\"</span>: <span style=\"color: #008080; text-decoration-color: #008080; font-weight: bold\">5432</span>\n",
       "            <span style=\"font-weight: bold\">}</span>,\n",
       "            <span style=\"font-weight: bold\">{</span>\n",
       "                <span style=\"color: #008000; text-decoration-color: #008000\">\"host\"</span>: <span style=\"color: #008000; text-decoration-color: #008000\">\"db4.com\"</span>,\n",
       "                <span style=\"color: #008000; text-decoration-color: #008000\">\"port\"</span>: <span style=\"color: #008080; text-decoration-color: #008080; font-weight: bold\">5432</span>\n",
       "            <span style=\"font-weight: bold\">}</span>\n",
       "        <span style=\"font-weight: bold\">]</span>\n",
       "    <span style=\"font-weight: bold\">}</span>\n",
       "<span style=\"font-weight: bold\">}</span>\n",
       "</pre>\n"
      ],
      "text/plain": [
       "\u001b[1m{\u001b[0m\n",
       "    \u001b[32m\"dev\"\u001b[0m: \u001b[1m{\u001b[0m\n",
       "        \u001b[32m\"databases\"\u001b[0m: \u001b[1m[\u001b[0m\n",
       "            \u001b[1m{\u001b[0m\n",
       "                \u001b[32m\"host\"\u001b[0m: \u001b[32m\"db1.com\"\u001b[0m,\n",
       "                \u001b[32m\"port\"\u001b[0m: \u001b[1;36m5432\u001b[0m\n",
       "            \u001b[1m}\u001b[0m,\n",
       "            \u001b[1m{\u001b[0m\n",
       "                \u001b[32m\"host\"\u001b[0m: \u001b[32m\"db2.com\"\u001b[0m,\n",
       "                \u001b[32m\"port\"\u001b[0m: \u001b[1;36m5432\u001b[0m\n",
       "            \u001b[1m}\u001b[0m\n",
       "        \u001b[1m]\u001b[0m\n",
       "    \u001b[1m}\u001b[0m,\n",
       "    \u001b[32m\"prod\"\u001b[0m: \u001b[1m{\u001b[0m\n",
       "        \u001b[32m\"databases\"\u001b[0m: \u001b[1m[\u001b[0m\n",
       "            \u001b[1m{\u001b[0m\n",
       "                \u001b[32m\"host\"\u001b[0m: \u001b[32m\"db3.com\"\u001b[0m,\n",
       "                \u001b[32m\"port\"\u001b[0m: \u001b[1;36m5432\u001b[0m\n",
       "            \u001b[1m}\u001b[0m,\n",
       "            \u001b[1m{\u001b[0m\n",
       "                \u001b[32m\"host\"\u001b[0m: \u001b[32m\"db4.com\"\u001b[0m,\n",
       "                \u001b[32m\"port\"\u001b[0m: \u001b[1;36m5432\u001b[0m\n",
       "            \u001b[1m}\u001b[0m\n",
       "        \u001b[1m]\u001b[0m\n",
       "    \u001b[1m}\u001b[0m\n",
       "\u001b[1m}\u001b[0m\n"
      ]
     },
     "metadata": {},
     "output_type": "display_data"
    }
   ],
   "source": [
    "data = {\n",
    "    SHARED: {\n",
    "        \"*.databases.port\": 5432\n",
    "    },\n",
    "    \"dev\": {\n",
    "        \"databases\": [\n",
    "            {\"host\": \"db1.com\"},\n",
    "            {\"host\": \"db2.com\"},\n",
    "        ],\n",
    "    },\n",
    "    \"prod\": {\n",
    "        \"databases\": [\n",
    "            {\"host\": \"db3.com\"},\n",
    "            {\"host\": \"db4.com\"},\n",
    "        ],\n",
    "    },\n",
    "}\n",
    "print(\"before:\")\n",
    "jprint(data)\n",
    "print(\"after:\")\n",
    "apply_shared_value(data)\n",
    "jprint(data)"
   ]
  },
  {
   "cell_type": "markdown",
   "metadata": {},
   "source": [
    "You can also specify default different value for different environment."
   ]
  },
  {
   "cell_type": "code",
   "execution_count": 5,
   "metadata": {
    "ExecuteTime": {
     "end_time": "2023-05-17T10:28:53.544106Z",
     "start_time": "2023-05-17T10:28:53.522860Z"
    },
    "collapsed": false,
    "jupyter": {
     "outputs_hidden": false
    },
    "tags": []
   },
   "outputs": [
    {
     "name": "stdout",
     "output_type": "stream",
     "text": [
      "before:\n"
     ]
    },
    {
     "data": {
      "text/html": [
       "<pre style=\"white-space:pre;overflow-x:auto;line-height:normal;font-family:Menlo,'DejaVu Sans Mono',consolas,'Courier New',monospace\"><span style=\"font-weight: bold\">{</span>\n",
       "    <span style=\"color: #008000; text-decoration-color: #008000\">\"_shared\"</span>: <span style=\"font-weight: bold\">{</span>\n",
       "        <span style=\"color: #008000; text-decoration-color: #008000\">\"dev.databases.port\"</span>: <span style=\"color: #008080; text-decoration-color: #008080; font-weight: bold\">5432</span>,\n",
       "        <span style=\"color: #008000; text-decoration-color: #008000\">\"prod.databases.port\"</span>: <span style=\"color: #008080; text-decoration-color: #008080; font-weight: bold\">3306</span>\n",
       "    <span style=\"font-weight: bold\">}</span>,\n",
       "    <span style=\"color: #008000; text-decoration-color: #008000\">\"dev\"</span>: <span style=\"font-weight: bold\">{</span>\n",
       "        <span style=\"color: #008000; text-decoration-color: #008000\">\"databases\"</span>: <span style=\"font-weight: bold\">[</span>\n",
       "            <span style=\"font-weight: bold\">{</span>\n",
       "                <span style=\"color: #008000; text-decoration-color: #008000\">\"host\"</span>: <span style=\"color: #008000; text-decoration-color: #008000\">\"db1.com\"</span>\n",
       "            <span style=\"font-weight: bold\">}</span>,\n",
       "            <span style=\"font-weight: bold\">{</span>\n",
       "                <span style=\"color: #008000; text-decoration-color: #008000\">\"host\"</span>: <span style=\"color: #008000; text-decoration-color: #008000\">\"db2.com\"</span>,\n",
       "                <span style=\"color: #008000; text-decoration-color: #008000\">\"port\"</span>: <span style=\"color: #008080; text-decoration-color: #008080; font-weight: bold\">0</span>\n",
       "            <span style=\"font-weight: bold\">}</span>\n",
       "        <span style=\"font-weight: bold\">]</span>\n",
       "    <span style=\"font-weight: bold\">}</span>,\n",
       "    <span style=\"color: #008000; text-decoration-color: #008000\">\"prod\"</span>: <span style=\"font-weight: bold\">{</span>\n",
       "        <span style=\"color: #008000; text-decoration-color: #008000\">\"databases\"</span>: <span style=\"font-weight: bold\">[</span>\n",
       "            <span style=\"font-weight: bold\">{</span>\n",
       "                <span style=\"color: #008000; text-decoration-color: #008000\">\"host\"</span>: <span style=\"color: #008000; text-decoration-color: #008000\">\"db3.com\"</span>\n",
       "            <span style=\"font-weight: bold\">}</span>,\n",
       "            <span style=\"font-weight: bold\">{</span>\n",
       "                <span style=\"color: #008000; text-decoration-color: #008000\">\"host\"</span>: <span style=\"color: #008000; text-decoration-color: #008000\">\"db4.com\"</span>,\n",
       "                <span style=\"color: #008000; text-decoration-color: #008000\">\"port\"</span>: <span style=\"color: #008080; text-decoration-color: #008080; font-weight: bold\">1</span>\n",
       "            <span style=\"font-weight: bold\">}</span>\n",
       "        <span style=\"font-weight: bold\">]</span>\n",
       "    <span style=\"font-weight: bold\">}</span>\n",
       "<span style=\"font-weight: bold\">}</span>\n",
       "</pre>\n"
      ],
      "text/plain": [
       "\u001b[1m{\u001b[0m\n",
       "    \u001b[32m\"_shared\"\u001b[0m: \u001b[1m{\u001b[0m\n",
       "        \u001b[32m\"dev.databases.port\"\u001b[0m: \u001b[1;36m5432\u001b[0m,\n",
       "        \u001b[32m\"prod.databases.port\"\u001b[0m: \u001b[1;36m3306\u001b[0m\n",
       "    \u001b[1m}\u001b[0m,\n",
       "    \u001b[32m\"dev\"\u001b[0m: \u001b[1m{\u001b[0m\n",
       "        \u001b[32m\"databases\"\u001b[0m: \u001b[1m[\u001b[0m\n",
       "            \u001b[1m{\u001b[0m\n",
       "                \u001b[32m\"host\"\u001b[0m: \u001b[32m\"db1.com\"\u001b[0m\n",
       "            \u001b[1m}\u001b[0m,\n",
       "            \u001b[1m{\u001b[0m\n",
       "                \u001b[32m\"host\"\u001b[0m: \u001b[32m\"db2.com\"\u001b[0m,\n",
       "                \u001b[32m\"port\"\u001b[0m: \u001b[1;36m0\u001b[0m\n",
       "            \u001b[1m}\u001b[0m\n",
       "        \u001b[1m]\u001b[0m\n",
       "    \u001b[1m}\u001b[0m,\n",
       "    \u001b[32m\"prod\"\u001b[0m: \u001b[1m{\u001b[0m\n",
       "        \u001b[32m\"databases\"\u001b[0m: \u001b[1m[\u001b[0m\n",
       "            \u001b[1m{\u001b[0m\n",
       "                \u001b[32m\"host\"\u001b[0m: \u001b[32m\"db3.com\"\u001b[0m\n",
       "            \u001b[1m}\u001b[0m,\n",
       "            \u001b[1m{\u001b[0m\n",
       "                \u001b[32m\"host\"\u001b[0m: \u001b[32m\"db4.com\"\u001b[0m,\n",
       "                \u001b[32m\"port\"\u001b[0m: \u001b[1;36m1\u001b[0m\n",
       "            \u001b[1m}\u001b[0m\n",
       "        \u001b[1m]\u001b[0m\n",
       "    \u001b[1m}\u001b[0m\n",
       "\u001b[1m}\u001b[0m\n"
      ]
     },
     "metadata": {},
     "output_type": "display_data"
    },
    {
     "name": "stdout",
     "output_type": "stream",
     "text": [
      "after:\n"
     ]
    },
    {
     "data": {
      "text/html": [
       "<pre style=\"white-space:pre;overflow-x:auto;line-height:normal;font-family:Menlo,'DejaVu Sans Mono',consolas,'Courier New',monospace\"><span style=\"font-weight: bold\">{</span>\n",
       "    <span style=\"color: #008000; text-decoration-color: #008000\">\"dev\"</span>: <span style=\"font-weight: bold\">{</span>\n",
       "        <span style=\"color: #008000; text-decoration-color: #008000\">\"databases\"</span>: <span style=\"font-weight: bold\">[</span>\n",
       "            <span style=\"font-weight: bold\">{</span>\n",
       "                <span style=\"color: #008000; text-decoration-color: #008000\">\"host\"</span>: <span style=\"color: #008000; text-decoration-color: #008000\">\"db1.com\"</span>,\n",
       "                <span style=\"color: #008000; text-decoration-color: #008000\">\"port\"</span>: <span style=\"color: #008080; text-decoration-color: #008080; font-weight: bold\">5432</span>\n",
       "            <span style=\"font-weight: bold\">}</span>,\n",
       "            <span style=\"font-weight: bold\">{</span>\n",
       "                <span style=\"color: #008000; text-decoration-color: #008000\">\"host\"</span>: <span style=\"color: #008000; text-decoration-color: #008000\">\"db2.com\"</span>,\n",
       "                <span style=\"color: #008000; text-decoration-color: #008000\">\"port\"</span>: <span style=\"color: #008080; text-decoration-color: #008080; font-weight: bold\">0</span>\n",
       "            <span style=\"font-weight: bold\">}</span>\n",
       "        <span style=\"font-weight: bold\">]</span>\n",
       "    <span style=\"font-weight: bold\">}</span>,\n",
       "    <span style=\"color: #008000; text-decoration-color: #008000\">\"prod\"</span>: <span style=\"font-weight: bold\">{</span>\n",
       "        <span style=\"color: #008000; text-decoration-color: #008000\">\"databases\"</span>: <span style=\"font-weight: bold\">[</span>\n",
       "            <span style=\"font-weight: bold\">{</span>\n",
       "                <span style=\"color: #008000; text-decoration-color: #008000\">\"host\"</span>: <span style=\"color: #008000; text-decoration-color: #008000\">\"db3.com\"</span>,\n",
       "                <span style=\"color: #008000; text-decoration-color: #008000\">\"port\"</span>: <span style=\"color: #008080; text-decoration-color: #008080; font-weight: bold\">3306</span>\n",
       "            <span style=\"font-weight: bold\">}</span>,\n",
       "            <span style=\"font-weight: bold\">{</span>\n",
       "                <span style=\"color: #008000; text-decoration-color: #008000\">\"host\"</span>: <span style=\"color: #008000; text-decoration-color: #008000\">\"db4.com\"</span>,\n",
       "                <span style=\"color: #008000; text-decoration-color: #008000\">\"port\"</span>: <span style=\"color: #008080; text-decoration-color: #008080; font-weight: bold\">1</span>\n",
       "            <span style=\"font-weight: bold\">}</span>\n",
       "        <span style=\"font-weight: bold\">]</span>\n",
       "    <span style=\"font-weight: bold\">}</span>\n",
       "<span style=\"font-weight: bold\">}</span>\n",
       "</pre>\n"
      ],
      "text/plain": [
       "\u001b[1m{\u001b[0m\n",
       "    \u001b[32m\"dev\"\u001b[0m: \u001b[1m{\u001b[0m\n",
       "        \u001b[32m\"databases\"\u001b[0m: \u001b[1m[\u001b[0m\n",
       "            \u001b[1m{\u001b[0m\n",
       "                \u001b[32m\"host\"\u001b[0m: \u001b[32m\"db1.com\"\u001b[0m,\n",
       "                \u001b[32m\"port\"\u001b[0m: \u001b[1;36m5432\u001b[0m\n",
       "            \u001b[1m}\u001b[0m,\n",
       "            \u001b[1m{\u001b[0m\n",
       "                \u001b[32m\"host\"\u001b[0m: \u001b[32m\"db2.com\"\u001b[0m,\n",
       "                \u001b[32m\"port\"\u001b[0m: \u001b[1;36m0\u001b[0m\n",
       "            \u001b[1m}\u001b[0m\n",
       "        \u001b[1m]\u001b[0m\n",
       "    \u001b[1m}\u001b[0m,\n",
       "    \u001b[32m\"prod\"\u001b[0m: \u001b[1m{\u001b[0m\n",
       "        \u001b[32m\"databases\"\u001b[0m: \u001b[1m[\u001b[0m\n",
       "            \u001b[1m{\u001b[0m\n",
       "                \u001b[32m\"host\"\u001b[0m: \u001b[32m\"db3.com\"\u001b[0m,\n",
       "                \u001b[32m\"port\"\u001b[0m: \u001b[1;36m3306\u001b[0m\n",
       "            \u001b[1m}\u001b[0m,\n",
       "            \u001b[1m{\u001b[0m\n",
       "                \u001b[32m\"host\"\u001b[0m: \u001b[32m\"db4.com\"\u001b[0m,\n",
       "                \u001b[32m\"port\"\u001b[0m: \u001b[1;36m1\u001b[0m\n",
       "            \u001b[1m}\u001b[0m\n",
       "        \u001b[1m]\u001b[0m\n",
       "    \u001b[1m}\u001b[0m\n",
       "\u001b[1m}\u001b[0m\n"
      ]
     },
     "metadata": {},
     "output_type": "display_data"
    }
   ],
   "source": [
    "data = {\n",
    "    SHARED: {\n",
    "        \"dev.databases.port\": 5432,\n",
    "        \"prod.databases.port\": 3306,\n",
    "    },\n",
    "    \"dev\": {\n",
    "        \"databases\": [\n",
    "            {\"host\": \"db1.com\"},\n",
    "            {\"host\": \"db2.com\", \"port\": 0},\n",
    "        ],\n",
    "    },\n",
    "    \"prod\": {\n",
    "        \"databases\": [\n",
    "            {\"host\": \"db3.com\"},\n",
    "            {\"host\": \"db4.com\", \"port\": 1},\n",
    "        ],\n",
    "    },\n",
    "}\n",
    "print(\"before:\")\n",
    "jprint(data)\n",
    "print(\"after:\")\n",
    "apply_shared_value(data)\n",
    "jprint(data)"
   ]
  },
  {
   "cell_type": "markdown",
   "metadata": {},
   "source": [
    "## Separate and Merge Non-Sensitive Config and Secret Config\n",
    "\n",
    "You should not check-in sensitive config data like database password into Git. Usually, developer maintain a secret config file locally when they are doing development  on local laptop. This solution provides mechanism to automatically merge the secret config data into the config data. Please take a look at the following example:"
   ]
  },
  {
   "cell_type": "code",
   "execution_count": 6,
   "metadata": {
    "ExecuteTime": {
     "end_time": "2023-05-17T10:38:46.464420Z",
     "start_time": "2023-05-17T10:38:46.455409Z"
    },
    "collapsed": false,
    "jupyter": {
     "outputs_hidden": false
    },
    "tags": []
   },
   "outputs": [
    {
     "name": "stdout",
     "output_type": "stream",
     "text": [
      "config:\n"
     ]
    },
    {
     "data": {
      "text/html": [
       "<pre style=\"white-space:pre;overflow-x:auto;line-height:normal;font-family:Menlo,'DejaVu Sans Mono',consolas,'Courier New',monospace\"><span style=\"font-weight: bold\">{</span>\n",
       "    <span style=\"color: #008000; text-decoration-color: #008000\">'_shared'</span>: <span style=\"font-weight: bold\">{</span><span style=\"color: #008000; text-decoration-color: #008000\">'*.project_name'</span>: <span style=\"color: #008000; text-decoration-color: #008000\">'my_project'</span><span style=\"font-weight: bold\">}</span>,\n",
       "    <span style=\"color: #008000; text-decoration-color: #008000\">'dev'</span>: <span style=\"font-weight: bold\">{</span><span style=\"color: #008000; text-decoration-color: #008000\">'username'</span>: <span style=\"color: #008000; text-decoration-color: #008000\">'dev.user'</span><span style=\"font-weight: bold\">}</span>,\n",
       "    <span style=\"color: #008000; text-decoration-color: #008000\">'int'</span>: <span style=\"font-weight: bold\">{</span><span style=\"color: #008000; text-decoration-color: #008000\">'username'</span>: <span style=\"color: #008000; text-decoration-color: #008000\">'int.user'</span><span style=\"font-weight: bold\">}</span>,\n",
       "    <span style=\"color: #008000; text-decoration-color: #008000\">'prod'</span>: <span style=\"font-weight: bold\">{</span><span style=\"color: #008000; text-decoration-color: #008000\">'username'</span>: <span style=\"color: #008000; text-decoration-color: #008000\">'prod.user'</span><span style=\"font-weight: bold\">}</span>\n",
       "<span style=\"font-weight: bold\">}</span>\n",
       "</pre>\n"
      ],
      "text/plain": [
       "\u001b[1m{\u001b[0m\n",
       "    \u001b[32m'_shared'\u001b[0m: \u001b[1m{\u001b[0m\u001b[32m'*.project_name'\u001b[0m: \u001b[32m'my_project'\u001b[0m\u001b[1m}\u001b[0m,\n",
       "    \u001b[32m'dev'\u001b[0m: \u001b[1m{\u001b[0m\u001b[32m'username'\u001b[0m: \u001b[32m'dev.user'\u001b[0m\u001b[1m}\u001b[0m,\n",
       "    \u001b[32m'int'\u001b[0m: \u001b[1m{\u001b[0m\u001b[32m'username'\u001b[0m: \u001b[32m'int.user'\u001b[0m\u001b[1m}\u001b[0m,\n",
       "    \u001b[32m'prod'\u001b[0m: \u001b[1m{\u001b[0m\u001b[32m'username'\u001b[0m: \u001b[32m'prod.user'\u001b[0m\u001b[1m}\u001b[0m\n",
       "\u001b[1m}\u001b[0m\n"
      ]
     },
     "metadata": {},
     "output_type": "display_data"
    },
    {
     "name": "stdout",
     "output_type": "stream",
     "text": [
      "secret config:\n"
     ]
    },
    {
     "data": {
      "text/html": [
       "<pre style=\"white-space:pre;overflow-x:auto;line-height:normal;font-family:Menlo,'DejaVu Sans Mono',consolas,'Courier New',monospace\"><span style=\"font-weight: bold\">{</span>\n",
       "    <span style=\"color: #008000; text-decoration-color: #008000\">'_shared'</span>: <span style=\"font-weight: bold\">{}</span>,\n",
       "    <span style=\"color: #008000; text-decoration-color: #008000\">'dev'</span>: <span style=\"font-weight: bold\">{</span><span style=\"color: #008000; text-decoration-color: #008000\">'password'</span>: <span style=\"color: #008000; text-decoration-color: #008000\">'dev.password'</span><span style=\"font-weight: bold\">}</span>,\n",
       "    <span style=\"color: #008000; text-decoration-color: #008000\">'int'</span>: <span style=\"font-weight: bold\">{</span><span style=\"color: #008000; text-decoration-color: #008000\">'password'</span>: <span style=\"color: #008000; text-decoration-color: #008000\">'int.password'</span><span style=\"font-weight: bold\">}</span>,\n",
       "    <span style=\"color: #008000; text-decoration-color: #008000\">'prod'</span>: <span style=\"font-weight: bold\">{</span><span style=\"color: #008000; text-decoration-color: #008000\">'password'</span>: <span style=\"color: #008000; text-decoration-color: #008000\">'prod.password'</span><span style=\"font-weight: bold\">}</span>\n",
       "<span style=\"font-weight: bold\">}</span>\n",
       "</pre>\n"
      ],
      "text/plain": [
       "\u001b[1m{\u001b[0m\n",
       "    \u001b[32m'_shared'\u001b[0m: \u001b[1m{\u001b[0m\u001b[1m}\u001b[0m,\n",
       "    \u001b[32m'dev'\u001b[0m: \u001b[1m{\u001b[0m\u001b[32m'password'\u001b[0m: \u001b[32m'dev.password'\u001b[0m\u001b[1m}\u001b[0m,\n",
       "    \u001b[32m'int'\u001b[0m: \u001b[1m{\u001b[0m\u001b[32m'password'\u001b[0m: \u001b[32m'int.password'\u001b[0m\u001b[1m}\u001b[0m,\n",
       "    \u001b[32m'prod'\u001b[0m: \u001b[1m{\u001b[0m\u001b[32m'password'\u001b[0m: \u001b[32m'prod.password'\u001b[0m\u001b[1m}\u001b[0m\n",
       "\u001b[1m}\u001b[0m\n"
      ]
     },
     "metadata": {},
     "output_type": "display_data"
    }
   ],
   "source": [
    "from config_patterns.jsonutils import json_loads\n",
    "print(\"config:\")\n",
    "config_data = json_loads(path_config.read_text())\n",
    "rprint(config_data)\n",
    "path_secret_config = dir_here.joinpath(\"secret_config.json\")\n",
    "print(\"secret config:\")\n",
    "secret_config_data = json_loads(path_secret_config.read_text())\n",
    "rprint(secret_config_data)"
   ]
  },
  {
   "cell_type": "code",
   "execution_count": 7,
   "metadata": {
    "ExecuteTime": {
     "end_time": "2023-05-17T10:41:02.228865Z",
     "start_time": "2023-05-17T10:41:02.225363Z"
    },
    "collapsed": false,
    "jupyter": {
     "outputs_hidden": false
    },
    "tags": []
   },
   "outputs": [
    {
     "name": "stdout",
     "output_type": "stream",
     "text": [
      "merged data:\n"
     ]
    },
    {
     "data": {
      "text/html": [
       "<pre style=\"white-space:pre;overflow-x:auto;line-height:normal;font-family:Menlo,'DejaVu Sans Mono',consolas,'Courier New',monospace\"><span style=\"font-weight: bold\">{</span>\n",
       "    <span style=\"color: #008000; text-decoration-color: #008000\">'dev'</span>: <span style=\"font-weight: bold\">{</span><span style=\"color: #008000; text-decoration-color: #008000\">'username'</span>: <span style=\"color: #008000; text-decoration-color: #008000\">'dev.user'</span>, <span style=\"color: #008000; text-decoration-color: #008000\">'project_name'</span>: <span style=\"color: #008000; text-decoration-color: #008000\">'my_project'</span>, <span style=\"color: #008000; text-decoration-color: #008000\">'password'</span>: <span style=\"color: #008000; text-decoration-color: #008000\">'dev.password'</span><span style=\"font-weight: bold\">}</span>,\n",
       "    <span style=\"color: #008000; text-decoration-color: #008000\">'int'</span>: <span style=\"font-weight: bold\">{</span><span style=\"color: #008000; text-decoration-color: #008000\">'username'</span>: <span style=\"color: #008000; text-decoration-color: #008000\">'int.user'</span>, <span style=\"color: #008000; text-decoration-color: #008000\">'project_name'</span>: <span style=\"color: #008000; text-decoration-color: #008000\">'my_project'</span>, <span style=\"color: #008000; text-decoration-color: #008000\">'password'</span>: <span style=\"color: #008000; text-decoration-color: #008000\">'int.password'</span><span style=\"font-weight: bold\">}</span>,\n",
       "    <span style=\"color: #008000; text-decoration-color: #008000\">'prod'</span>: <span style=\"font-weight: bold\">{</span><span style=\"color: #008000; text-decoration-color: #008000\">'username'</span>: <span style=\"color: #008000; text-decoration-color: #008000\">'prod.user'</span>, <span style=\"color: #008000; text-decoration-color: #008000\">'project_name'</span>: <span style=\"color: #008000; text-decoration-color: #008000\">'my_project'</span>, <span style=\"color: #008000; text-decoration-color: #008000\">'password'</span>: <span style=\"color: #008000; text-decoration-color: #008000\">'prod.password'</span><span style=\"font-weight: bold\">}</span>\n",
       "<span style=\"font-weight: bold\">}</span>\n",
       "</pre>\n"
      ],
      "text/plain": [
       "\u001b[1m{\u001b[0m\n",
       "    \u001b[32m'dev'\u001b[0m: \u001b[1m{\u001b[0m\u001b[32m'username'\u001b[0m: \u001b[32m'dev.user'\u001b[0m, \u001b[32m'project_name'\u001b[0m: \u001b[32m'my_project'\u001b[0m, \u001b[32m'password'\u001b[0m: \u001b[32m'dev.password'\u001b[0m\u001b[1m}\u001b[0m,\n",
       "    \u001b[32m'int'\u001b[0m: \u001b[1m{\u001b[0m\u001b[32m'username'\u001b[0m: \u001b[32m'int.user'\u001b[0m, \u001b[32m'project_name'\u001b[0m: \u001b[32m'my_project'\u001b[0m, \u001b[32m'password'\u001b[0m: \u001b[32m'int.password'\u001b[0m\u001b[1m}\u001b[0m,\n",
       "    \u001b[32m'prod'\u001b[0m: \u001b[1m{\u001b[0m\u001b[32m'username'\u001b[0m: \u001b[32m'prod.user'\u001b[0m, \u001b[32m'project_name'\u001b[0m: \u001b[32m'my_project'\u001b[0m, \u001b[32m'password'\u001b[0m: \u001b[32m'prod.password'\u001b[0m\u001b[1m}\u001b[0m\n",
       "\u001b[1m}\u001b[0m\n"
      ]
     },
     "metadata": {},
     "output_type": "display_data"
    }
   ],
   "source": [
    "from config_patterns.patterns.merge_key_value import merge_key_value\n",
    "\n",
    "apply_shared_value(config_data)\n",
    "apply_shared_value(secret_config_data)\n",
    "merged = merge_key_value(config_data, secret_config_data)\n",
    "print(\"merged data:\")\n",
    "rprint(merged)"
   ]
  },
  {
   "cell_type": "markdown",
   "metadata": {},
   "source": [
    "## Sample Application Code\n",
    "\n",
    "### Declare Your Config Schema\n",
    "\n",
    "In software engineer best practice, declaration and the usage of a Data Model should be separated. Below is the ``config_define.py`` file that defines three things:\n",
    "\n",
    "1. enumerate all environments you want to use in your project.\n",
    "2. declare the per environment config data model.\n",
    "3. subclass from the BaseConfig, this is your main config object."
   ]
  },
  {
   "cell_type": "code",
   "execution_count": 8,
   "metadata": {
    "ExecuteTime": {
     "end_time": "2023-05-17T10:42:06.726906Z",
     "start_time": "2023-05-17T10:42:06.723185Z"
    },
    "collapsed": false,
    "jupyter": {
     "outputs_hidden": false
    },
    "tags": []
   },
   "outputs": [],
   "source": [
    "# content of config_define.py\n",
    "# -*- coding: utf-8 -*-\n",
    "\n",
    "import typing as T\n",
    "import dataclasses\n",
    "\n",
    "from config_patterns.patterns.multi_env_json import (\n",
    "    BaseEnvEnum,\n",
    "    BaseEnv,\n",
    "    BaseConfig,\n",
    ")\n",
    "\n",
    "\n",
    "class EnvEnum(BaseEnvEnum):\n",
    "    dev = \"dev\" # development\n",
    "    int = \"int\" # integration test\n",
    "    prod = \"prod\" # production\n",
    "\n",
    "\n",
    "@dataclasses.dataclass\n",
    "class Env(BaseEnv):\n",
    "    username: T.Optional[str] = dataclasses.field(default=None)\n",
    "    password: T.Optional[str] = dataclasses.field(default=None)\n",
    "\n",
    "    @classmethod\n",
    "    def from_dict(cls, data: dict):\n",
    "        return cls(**data)\n",
    "    \n",
    "\n",
    "@dataclasses.dataclass\n",
    "class Config(BaseConfig):\n",
    "    @property\n",
    "    def dev(self) -> Env:\n",
    "        return self.get_env(EnvEnum.dev)\n",
    "\n",
    "    @property\n",
    "    def int(self) -> Env:\n",
    "        return self.get_env(EnvEnum.int)\n",
    "\n",
    "    @property\n",
    "    def prod(self) -> Env:\n",
    "        return self.get_env(EnvEnum.prod)\n",
    "\n",
    "    @classmethod\n",
    "    def get_current_env(cls) -> str:\n",
    "        return EnvEnum.dev.value\n",
    "\n",
    "    @property\n",
    "    def env(self) -> Env:\n",
    "        return self.get_env(self.get_current_env())"
   ]
  },
  {
   "cell_type": "markdown",
   "metadata": {},
   "source": [
    "### Read From Local File\n",
    "\n",
    "As the project admin, you need to decide what value to put in the config. So you created two config files ``config.json`` and ``secret_config.json``. You could check in the ``config.json`` to the Git so everyone can see it. But keep the ``secret_config.json`` private, and only give access to people really need it."
   ]
  },
  {
   "cell_type": "code",
   "execution_count": 9,
   "metadata": {
    "ExecuteTime": {
     "end_time": "2023-05-17T10:42:07.870581Z",
     "start_time": "2023-05-17T10:42:07.859910Z"
    },
    "collapsed": false,
    "jupyter": {
     "outputs_hidden": false
    },
    "tags": []
   },
   "outputs": [
    {
     "data": {
      "text/html": [
       "<pre style=\"white-space:pre;overflow-x:auto;line-height:normal;font-family:Menlo,'DejaVu Sans Mono',consolas,'Courier New',monospace\"># content of config.json\n",
       "<span style=\"font-weight: bold\">{</span>\n",
       "    # this config file support comments, you can put documentation in the config file\n",
       "    <span style=\"color: #008000; text-decoration-color: #008000\">\"_shared\"</span>: <span style=\"font-weight: bold\">{</span>\n",
       "        <span style=\"color: #008000; text-decoration-color: #008000\">\"*.project_name\"</span>: <span style=\"color: #008000; text-decoration-color: #008000\">\"my_project\"</span>\n",
       "    <span style=\"font-weight: bold\">}</span>,\n",
       "    <span style=\"color: #008000; text-decoration-color: #008000\">\"dev\"</span>: <span style=\"font-weight: bold\">{</span>\n",
       "        <span style=\"color: #008000; text-decoration-color: #008000\">\"username\"</span>: <span style=\"color: #008000; text-decoration-color: #008000\">\"dev.user\"</span>\n",
       "    <span style=\"font-weight: bold\">}</span>,\n",
       "    <span style=\"color: #008000; text-decoration-color: #008000\">\"int\"</span>: <span style=\"font-weight: bold\">{</span>\n",
       "        <span style=\"color: #008000; text-decoration-color: #008000\">\"username\"</span>: <span style=\"color: #008000; text-decoration-color: #008000\">\"int.user\"</span>\n",
       "    <span style=\"font-weight: bold\">}</span>,\n",
       "    <span style=\"color: #008000; text-decoration-color: #008000\">\"prod\"</span>: <span style=\"font-weight: bold\">{</span>\n",
       "        <span style=\"color: #008000; text-decoration-color: #008000\">\"username\"</span>: <span style=\"color: #008000; text-decoration-color: #008000\">\"prod.user\"</span>\n",
       "    <span style=\"font-weight: bold\">}</span>\n",
       "<span style=\"font-weight: bold\">}</span>\n",
       "</pre>\n"
      ],
      "text/plain": [
       "# content of config.json\n",
       "\u001b[1m{\u001b[0m\n",
       "    # this config file support comments, you can put documentation in the config file\n",
       "    \u001b[32m\"_shared\"\u001b[0m: \u001b[1m{\u001b[0m\n",
       "        \u001b[32m\"*.project_name\"\u001b[0m: \u001b[32m\"my_project\"\u001b[0m\n",
       "    \u001b[1m}\u001b[0m,\n",
       "    \u001b[32m\"dev\"\u001b[0m: \u001b[1m{\u001b[0m\n",
       "        \u001b[32m\"username\"\u001b[0m: \u001b[32m\"dev.user\"\u001b[0m\n",
       "    \u001b[1m}\u001b[0m,\n",
       "    \u001b[32m\"int\"\u001b[0m: \u001b[1m{\u001b[0m\n",
       "        \u001b[32m\"username\"\u001b[0m: \u001b[32m\"int.user\"\u001b[0m\n",
       "    \u001b[1m}\u001b[0m,\n",
       "    \u001b[32m\"prod\"\u001b[0m: \u001b[1m{\u001b[0m\n",
       "        \u001b[32m\"username\"\u001b[0m: \u001b[32m\"prod.user\"\u001b[0m\n",
       "    \u001b[1m}\u001b[0m\n",
       "\u001b[1m}\u001b[0m\n"
      ]
     },
     "metadata": {},
     "output_type": "display_data"
    }
   ],
   "source": [
    "rprint(path_config.read_text())"
   ]
  },
  {
   "cell_type": "code",
   "execution_count": 10,
   "metadata": {
    "tags": []
   },
   "outputs": [
    {
     "data": {
      "text/html": [
       "<pre style=\"white-space:pre;overflow-x:auto;line-height:normal;font-family:Menlo,'DejaVu Sans Mono',consolas,'Courier New',monospace\"># content of secret_config.json\n",
       "<span style=\"font-weight: bold\">{</span>\n",
       "    # this config file support comments, you can put documentation in the config file\n",
       "    <span style=\"color: #008000; text-decoration-color: #008000\">\"_shared\"</span>: <span style=\"font-weight: bold\">{</span>\n",
       "    <span style=\"font-weight: bold\">}</span>,\n",
       "    <span style=\"color: #008000; text-decoration-color: #008000\">\"dev\"</span>: <span style=\"font-weight: bold\">{</span>\n",
       "        <span style=\"color: #008000; text-decoration-color: #008000\">\"password\"</span>: <span style=\"color: #008000; text-decoration-color: #008000\">\"dev.password\"</span>\n",
       "    <span style=\"font-weight: bold\">}</span>,\n",
       "    <span style=\"color: #008000; text-decoration-color: #008000\">\"int\"</span>: <span style=\"font-weight: bold\">{</span>\n",
       "        <span style=\"color: #008000; text-decoration-color: #008000\">\"password\"</span>: <span style=\"color: #008000; text-decoration-color: #008000\">\"int.password\"</span>\n",
       "    <span style=\"font-weight: bold\">}</span>,\n",
       "    <span style=\"color: #008000; text-decoration-color: #008000\">\"prod\"</span>: <span style=\"font-weight: bold\">{</span>\n",
       "        <span style=\"color: #008000; text-decoration-color: #008000\">\"password\"</span>: <span style=\"color: #008000; text-decoration-color: #008000\">\"prod.password\"</span>\n",
       "    <span style=\"font-weight: bold\">}</span>\n",
       "<span style=\"font-weight: bold\">}</span>\n",
       "</pre>\n"
      ],
      "text/plain": [
       "# content of secret_config.json\n",
       "\u001b[1m{\u001b[0m\n",
       "    # this config file support comments, you can put documentation in the config file\n",
       "    \u001b[32m\"_shared\"\u001b[0m: \u001b[1m{\u001b[0m\n",
       "    \u001b[1m}\u001b[0m,\n",
       "    \u001b[32m\"dev\"\u001b[0m: \u001b[1m{\u001b[0m\n",
       "        \u001b[32m\"password\"\u001b[0m: \u001b[32m\"dev.password\"\u001b[0m\n",
       "    \u001b[1m}\u001b[0m,\n",
       "    \u001b[32m\"int\"\u001b[0m: \u001b[1m{\u001b[0m\n",
       "        \u001b[32m\"password\"\u001b[0m: \u001b[32m\"int.password\"\u001b[0m\n",
       "    \u001b[1m}\u001b[0m,\n",
       "    \u001b[32m\"prod\"\u001b[0m: \u001b[1m{\u001b[0m\n",
       "        \u001b[32m\"password\"\u001b[0m: \u001b[32m\"prod.password\"\u001b[0m\n",
       "    \u001b[1m}\u001b[0m\n",
       "\u001b[1m}\u001b[0m\n"
      ]
     },
     "metadata": {},
     "output_type": "display_data"
    }
   ],
   "source": [
    "rprint(path_secret_config.read_text())"
   ]
  },
  {
   "cell_type": "markdown",
   "metadata": {},
   "source": [
    "Then you can initialize the config object. You can load the config data from:\n",
    "\n",
    "- local config json file\n",
    "- aws parameter store\n",
    "- aws s3\n",
    "\n",
    "Since we haven't deployed it yet, so we can only load it from local config file."
   ]
  },
  {
   "cell_type": "code",
   "execution_count": 11,
   "metadata": {
    "ExecuteTime": {
     "end_time": "2023-05-17T10:42:17.786581Z",
     "start_time": "2023-05-17T10:42:17.759552Z"
    },
    "collapsed": false,
    "jupyter": {
     "outputs_hidden": false
    },
    "tags": []
   },
   "outputs": [
    {
     "data": {
      "text/html": [
       "<pre style=\"white-space:pre;overflow-x:auto;line-height:normal;font-family:Menlo,'DejaVu Sans Mono',consolas,'Courier New',monospace\"><span style=\"color: #800080; text-decoration-color: #800080; font-weight: bold\">Config</span><span style=\"font-weight: bold\">(</span>\n",
       "    <span style=\"color: #808000; text-decoration-color: #808000\">data</span>=<span style=\"font-weight: bold\">{</span>\n",
       "        <span style=\"color: #008000; text-decoration-color: #008000\">'_shared'</span>: <span style=\"font-weight: bold\">{</span><span style=\"color: #008000; text-decoration-color: #008000\">'*.project_name'</span>: <span style=\"color: #008000; text-decoration-color: #008000\">'my_project'</span><span style=\"font-weight: bold\">}</span>,\n",
       "        <span style=\"color: #008000; text-decoration-color: #008000\">'dev'</span>: <span style=\"font-weight: bold\">{</span><span style=\"color: #008000; text-decoration-color: #008000\">'username'</span>: <span style=\"color: #008000; text-decoration-color: #008000\">'dev.user'</span><span style=\"font-weight: bold\">}</span>,\n",
       "        <span style=\"color: #008000; text-decoration-color: #008000\">'int'</span>: <span style=\"font-weight: bold\">{</span><span style=\"color: #008000; text-decoration-color: #008000\">'username'</span>: <span style=\"color: #008000; text-decoration-color: #008000\">'int.user'</span><span style=\"font-weight: bold\">}</span>,\n",
       "        <span style=\"color: #008000; text-decoration-color: #008000\">'prod'</span>: <span style=\"font-weight: bold\">{</span><span style=\"color: #008000; text-decoration-color: #008000\">'username'</span>: <span style=\"color: #008000; text-decoration-color: #008000\">'prod.user'</span><span style=\"font-weight: bold\">}</span>\n",
       "    <span style=\"font-weight: bold\">}</span>,\n",
       "    <span style=\"color: #808000; text-decoration-color: #808000\">secret_data</span>=<span style=\"font-weight: bold\">{</span>\n",
       "        <span style=\"color: #008000; text-decoration-color: #008000\">'_shared'</span>: <span style=\"font-weight: bold\">{}</span>,\n",
       "        <span style=\"color: #008000; text-decoration-color: #008000\">'dev'</span>: <span style=\"font-weight: bold\">{</span><span style=\"color: #008000; text-decoration-color: #008000\">'password'</span>: <span style=\"color: #008000; text-decoration-color: #008000\">'dev.password'</span><span style=\"font-weight: bold\">}</span>,\n",
       "        <span style=\"color: #008000; text-decoration-color: #008000\">'int'</span>: <span style=\"font-weight: bold\">{</span><span style=\"color: #008000; text-decoration-color: #008000\">'password'</span>: <span style=\"color: #008000; text-decoration-color: #008000\">'int.password'</span><span style=\"font-weight: bold\">}</span>,\n",
       "        <span style=\"color: #008000; text-decoration-color: #008000\">'prod'</span>: <span style=\"font-weight: bold\">{</span><span style=\"color: #008000; text-decoration-color: #008000\">'password'</span>: <span style=\"color: #008000; text-decoration-color: #008000\">'prod.password'</span><span style=\"font-weight: bold\">}</span>\n",
       "    <span style=\"font-weight: bold\">}</span>,\n",
       "    <span style=\"color: #808000; text-decoration-color: #808000\">Env</span>=<span style=\"font-weight: bold\">&lt;</span><span style=\"color: #ff00ff; text-decoration-color: #ff00ff; font-weight: bold\">class</span><span style=\"color: #000000; text-decoration-color: #000000\"> </span><span style=\"color: #008000; text-decoration-color: #008000\">'__main__.Env'</span><span style=\"color: #000000; text-decoration-color: #000000\">&gt;,</span>\n",
       "<span style=\"color: #000000; text-decoration-color: #000000\">    </span><span style=\"color: #808000; text-decoration-color: #808000\">EnvEnum</span><span style=\"color: #000000; text-decoration-color: #000000\">=&lt;enum </span><span style=\"color: #008000; text-decoration-color: #008000\">'EnvEnum'</span><span style=\"font-weight: bold\">&gt;</span>,\n",
       "    <span style=\"color: #808000; text-decoration-color: #808000\">_applied_data</span>=<span style=\"font-weight: bold\">{</span>\n",
       "        <span style=\"color: #008000; text-decoration-color: #008000\">'dev'</span>: <span style=\"font-weight: bold\">{</span><span style=\"color: #008000; text-decoration-color: #008000\">'username'</span>: <span style=\"color: #008000; text-decoration-color: #008000\">'dev.user'</span>, <span style=\"color: #008000; text-decoration-color: #008000\">'project_name'</span>: <span style=\"color: #008000; text-decoration-color: #008000\">'my_project'</span><span style=\"font-weight: bold\">}</span>,\n",
       "        <span style=\"color: #008000; text-decoration-color: #008000\">'int'</span>: <span style=\"font-weight: bold\">{</span><span style=\"color: #008000; text-decoration-color: #008000\">'username'</span>: <span style=\"color: #008000; text-decoration-color: #008000\">'int.user'</span>, <span style=\"color: #008000; text-decoration-color: #008000\">'project_name'</span>: <span style=\"color: #008000; text-decoration-color: #008000\">'my_project'</span><span style=\"font-weight: bold\">}</span>,\n",
       "        <span style=\"color: #008000; text-decoration-color: #008000\">'prod'</span>: <span style=\"font-weight: bold\">{</span><span style=\"color: #008000; text-decoration-color: #008000\">'username'</span>: <span style=\"color: #008000; text-decoration-color: #008000\">'prod.user'</span>, <span style=\"color: #008000; text-decoration-color: #008000\">'project_name'</span>: <span style=\"color: #008000; text-decoration-color: #008000\">'my_project'</span><span style=\"font-weight: bold\">}</span>\n",
       "    <span style=\"font-weight: bold\">}</span>,\n",
       "    <span style=\"color: #808000; text-decoration-color: #808000\">_applied_secret_data</span>=<span style=\"font-weight: bold\">{</span>\n",
       "        <span style=\"color: #008000; text-decoration-color: #008000\">'dev'</span>: <span style=\"font-weight: bold\">{</span><span style=\"color: #008000; text-decoration-color: #008000\">'password'</span>: <span style=\"color: #008000; text-decoration-color: #008000\">'dev.password'</span><span style=\"font-weight: bold\">}</span>,\n",
       "        <span style=\"color: #008000; text-decoration-color: #008000\">'int'</span>: <span style=\"font-weight: bold\">{</span><span style=\"color: #008000; text-decoration-color: #008000\">'password'</span>: <span style=\"color: #008000; text-decoration-color: #008000\">'int.password'</span><span style=\"font-weight: bold\">}</span>,\n",
       "        <span style=\"color: #008000; text-decoration-color: #008000\">'prod'</span>: <span style=\"font-weight: bold\">{</span><span style=\"color: #008000; text-decoration-color: #008000\">'password'</span>: <span style=\"color: #008000; text-decoration-color: #008000\">'prod.password'</span><span style=\"font-weight: bold\">}</span>\n",
       "    <span style=\"font-weight: bold\">}</span>,\n",
       "    <span style=\"color: #808000; text-decoration-color: #808000\">_merged</span>=<span style=\"font-weight: bold\">{</span>\n",
       "        <span style=\"color: #008000; text-decoration-color: #008000\">'dev'</span>: <span style=\"font-weight: bold\">{</span><span style=\"color: #008000; text-decoration-color: #008000\">'username'</span>: <span style=\"color: #008000; text-decoration-color: #008000\">'dev.user'</span>, <span style=\"color: #008000; text-decoration-color: #008000\">'project_name'</span>: <span style=\"color: #008000; text-decoration-color: #008000\">'my_project'</span>, <span style=\"color: #008000; text-decoration-color: #008000\">'password'</span>: <span style=\"color: #008000; text-decoration-color: #008000\">'dev.password'</span><span style=\"font-weight: bold\">}</span>,\n",
       "        <span style=\"color: #008000; text-decoration-color: #008000\">'int'</span>: <span style=\"font-weight: bold\">{</span><span style=\"color: #008000; text-decoration-color: #008000\">'username'</span>: <span style=\"color: #008000; text-decoration-color: #008000\">'int.user'</span>, <span style=\"color: #008000; text-decoration-color: #008000\">'project_name'</span>: <span style=\"color: #008000; text-decoration-color: #008000\">'my_project'</span>, <span style=\"color: #008000; text-decoration-color: #008000\">'password'</span>: <span style=\"color: #008000; text-decoration-color: #008000\">'int.password'</span><span style=\"font-weight: bold\">}</span>,\n",
       "        <span style=\"color: #008000; text-decoration-color: #008000\">'prod'</span>: <span style=\"font-weight: bold\">{</span><span style=\"color: #008000; text-decoration-color: #008000\">'username'</span>: <span style=\"color: #008000; text-decoration-color: #008000\">'prod.user'</span>, <span style=\"color: #008000; text-decoration-color: #008000\">'project_name'</span>: <span style=\"color: #008000; text-decoration-color: #008000\">'my_project'</span>, <span style=\"color: #008000; text-decoration-color: #008000\">'password'</span>: <span style=\"color: #008000; text-decoration-color: #008000\">'prod.password'</span><span style=\"font-weight: bold\">}</span>\n",
       "    <span style=\"font-weight: bold\">}</span>\n",
       "<span style=\"font-weight: bold\">)</span>\n",
       "</pre>\n"
      ],
      "text/plain": [
       "\u001b[1;35mConfig\u001b[0m\u001b[1m(\u001b[0m\n",
       "    \u001b[33mdata\u001b[0m=\u001b[1m{\u001b[0m\n",
       "        \u001b[32m'_shared'\u001b[0m: \u001b[1m{\u001b[0m\u001b[32m'*.project_name'\u001b[0m: \u001b[32m'my_project'\u001b[0m\u001b[1m}\u001b[0m,\n",
       "        \u001b[32m'dev'\u001b[0m: \u001b[1m{\u001b[0m\u001b[32m'username'\u001b[0m: \u001b[32m'dev.user'\u001b[0m\u001b[1m}\u001b[0m,\n",
       "        \u001b[32m'int'\u001b[0m: \u001b[1m{\u001b[0m\u001b[32m'username'\u001b[0m: \u001b[32m'int.user'\u001b[0m\u001b[1m}\u001b[0m,\n",
       "        \u001b[32m'prod'\u001b[0m: \u001b[1m{\u001b[0m\u001b[32m'username'\u001b[0m: \u001b[32m'prod.user'\u001b[0m\u001b[1m}\u001b[0m\n",
       "    \u001b[1m}\u001b[0m,\n",
       "    \u001b[33msecret_data\u001b[0m=\u001b[1m{\u001b[0m\n",
       "        \u001b[32m'_shared'\u001b[0m: \u001b[1m{\u001b[0m\u001b[1m}\u001b[0m,\n",
       "        \u001b[32m'dev'\u001b[0m: \u001b[1m{\u001b[0m\u001b[32m'password'\u001b[0m: \u001b[32m'dev.password'\u001b[0m\u001b[1m}\u001b[0m,\n",
       "        \u001b[32m'int'\u001b[0m: \u001b[1m{\u001b[0m\u001b[32m'password'\u001b[0m: \u001b[32m'int.password'\u001b[0m\u001b[1m}\u001b[0m,\n",
       "        \u001b[32m'prod'\u001b[0m: \u001b[1m{\u001b[0m\u001b[32m'password'\u001b[0m: \u001b[32m'prod.password'\u001b[0m\u001b[1m}\u001b[0m\n",
       "    \u001b[1m}\u001b[0m,\n",
       "    \u001b[33mEnv\u001b[0m=\u001b[1m<\u001b[0m\u001b[1;95mclass\u001b[0m\u001b[39m \u001b[0m\u001b[32m'__main__.Env'\u001b[0m\u001b[39m>,\u001b[0m\n",
       "\u001b[39m    \u001b[0m\u001b[33mEnvEnum\u001b[0m\u001b[39m=<enum \u001b[0m\u001b[32m'EnvEnum'\u001b[0m\u001b[1m>\u001b[0m,\n",
       "    \u001b[33m_applied_data\u001b[0m=\u001b[1m{\u001b[0m\n",
       "        \u001b[32m'dev'\u001b[0m: \u001b[1m{\u001b[0m\u001b[32m'username'\u001b[0m: \u001b[32m'dev.user'\u001b[0m, \u001b[32m'project_name'\u001b[0m: \u001b[32m'my_project'\u001b[0m\u001b[1m}\u001b[0m,\n",
       "        \u001b[32m'int'\u001b[0m: \u001b[1m{\u001b[0m\u001b[32m'username'\u001b[0m: \u001b[32m'int.user'\u001b[0m, \u001b[32m'project_name'\u001b[0m: \u001b[32m'my_project'\u001b[0m\u001b[1m}\u001b[0m,\n",
       "        \u001b[32m'prod'\u001b[0m: \u001b[1m{\u001b[0m\u001b[32m'username'\u001b[0m: \u001b[32m'prod.user'\u001b[0m, \u001b[32m'project_name'\u001b[0m: \u001b[32m'my_project'\u001b[0m\u001b[1m}\u001b[0m\n",
       "    \u001b[1m}\u001b[0m,\n",
       "    \u001b[33m_applied_secret_data\u001b[0m=\u001b[1m{\u001b[0m\n",
       "        \u001b[32m'dev'\u001b[0m: \u001b[1m{\u001b[0m\u001b[32m'password'\u001b[0m: \u001b[32m'dev.password'\u001b[0m\u001b[1m}\u001b[0m,\n",
       "        \u001b[32m'int'\u001b[0m: \u001b[1m{\u001b[0m\u001b[32m'password'\u001b[0m: \u001b[32m'int.password'\u001b[0m\u001b[1m}\u001b[0m,\n",
       "        \u001b[32m'prod'\u001b[0m: \u001b[1m{\u001b[0m\u001b[32m'password'\u001b[0m: \u001b[32m'prod.password'\u001b[0m\u001b[1m}\u001b[0m\n",
       "    \u001b[1m}\u001b[0m,\n",
       "    \u001b[33m_merged\u001b[0m=\u001b[1m{\u001b[0m\n",
       "        \u001b[32m'dev'\u001b[0m: \u001b[1m{\u001b[0m\u001b[32m'username'\u001b[0m: \u001b[32m'dev.user'\u001b[0m, \u001b[32m'project_name'\u001b[0m: \u001b[32m'my_project'\u001b[0m, \u001b[32m'password'\u001b[0m: \u001b[32m'dev.password'\u001b[0m\u001b[1m}\u001b[0m,\n",
       "        \u001b[32m'int'\u001b[0m: \u001b[1m{\u001b[0m\u001b[32m'username'\u001b[0m: \u001b[32m'int.user'\u001b[0m, \u001b[32m'project_name'\u001b[0m: \u001b[32m'my_project'\u001b[0m, \u001b[32m'password'\u001b[0m: \u001b[32m'int.password'\u001b[0m\u001b[1m}\u001b[0m,\n",
       "        \u001b[32m'prod'\u001b[0m: \u001b[1m{\u001b[0m\u001b[32m'username'\u001b[0m: \u001b[32m'prod.user'\u001b[0m, \u001b[32m'project_name'\u001b[0m: \u001b[32m'my_project'\u001b[0m, \u001b[32m'password'\u001b[0m: \u001b[32m'prod.password'\u001b[0m\u001b[1m}\u001b[0m\n",
       "    \u001b[1m}\u001b[0m\n",
       "\u001b[1m)\u001b[0m\n"
      ]
     },
     "metadata": {},
     "output_type": "display_data"
    }
   ],
   "source": [
    "# -*- coding: utf-8 -*-\n",
    "\n",
    "import os\n",
    "from pathlib import Path\n",
    "from boto_session_manager import BotoSesManager\n",
    "from rich import print as rprint\n",
    "\n",
    "# Read config from local file\n",
    "dir_here = Path(os.getcwd()).absolute()\n",
    "path_config = dir_here.joinpath(\"config.json\")\n",
    "path_secret_config = dir_here.joinpath(\"secret_config.json\")\n",
    "\n",
    "config = Config.read(\n",
    "    env_class=Env,\n",
    "    env_enum_class=EnvEnum,\n",
    "    path_config=path_config,\n",
    "    path_secret_config=path_secret_config,\n",
    ")\n",
    "rprint(config)"
   ]
  },
  {
   "cell_type": "markdown",
   "metadata": {},
   "source": [
    "Please note that the ``_applied_data`` is where the shared values are applied to ``data``, and ``_applied_secret_data`` is where the shared values are applied to ``secret_data``. The ``_merged`` is the merged version of ``_applied_data`` and ``_applied_secret_data``."
   ]
  },
  {
   "cell_type": "markdown",
   "metadata": {},
   "source": [
    "### Deploy to Config Storage\n",
    "\n",
    "Now, we can deploy the configuration to the storage. It creates an all-in-one deployment containing all environment data as a backup for disaster recovery or compliance requirements. Additionally, it creates individual per-environment deployments, ensuring that each environment can only access its specific configuration data and cannot access the configuration of other environments.\n",
    "\n",
    "**Deploy to AWS Parameter Store**\n",
    "\n",
    "You could set the ``parameter_with_encryption=True or False`` to tell that you want to deploy to AWS Parameter Store.\n"
   ]
  },
  {
   "cell_type": "code",
   "execution_count": 12,
   "metadata": {
    "ExecuteTime": {
     "end_time": "2023-05-17T03:48:57.476228Z",
     "start_time": "2023-05-17T03:48:56.754279Z"
    },
    "collapsed": false,
    "jupyter": {
     "outputs_hidden": false
    },
    "tags": []
   },
   "outputs": [
    {
     "name": "stdout",
     "output_type": "stream",
     "text": [
      "+----- ⏱ 🟢 Start 'deploy config to SSM parameter' -----------------------------+\n",
      "| \n",
      "| 🚀️ deploy SSM Parameter 'my_project' ...\n",
      "| preview at: https://us-east-1.console.aws.amazon.com/systems-manager/parameters/my_project/description?region=us-east-1&tab=Table\n",
      "| successfully deployed version 1\n",
      "| \n",
      "+----- ⏰ 🟢 End 'deploy config to SSM parameter', elapsed = 0.24 sec -----------+\n",
      "+----- ⏱ 🟢 Start 'deploy config to SSM parameter' -----------------------------+\n",
      "| \n",
      "| 🚀️ deploy SSM Parameter 'my_project-dev' ...\n",
      "| preview at: https://us-east-1.console.aws.amazon.com/systems-manager/parameters/my_project-dev/description?region=us-east-1&tab=Table\n",
      "| successfully deployed version 1\n",
      "| \n",
      "+----- ⏰ 🟢 End 'deploy config to SSM parameter', elapsed = 0.12 sec -----------+\n",
      "+----- ⏱ 🟢 Start 'deploy config to SSM parameter' -----------------------------+\n",
      "| \n",
      "| 🚀️ deploy SSM Parameter 'my_project-int' ...\n",
      "| preview at: https://us-east-1.console.aws.amazon.com/systems-manager/parameters/my_project-int/description?region=us-east-1&tab=Table\n",
      "| successfully deployed version 1\n",
      "| \n",
      "+----- ⏰ 🟢 End 'deploy config to SSM parameter', elapsed = 0.12 sec -----------+\n",
      "+----- ⏱ 🟢 Start 'deploy config to SSM parameter' -----------------------------+\n",
      "| \n",
      "| 🚀️ deploy SSM Parameter 'my_project-prod' ...\n",
      "| preview at: https://us-east-1.console.aws.amazon.com/systems-manager/parameters/my_project-prod/description?region=us-east-1&tab=Table\n",
      "| successfully deployed version 1\n",
      "| \n",
      "+----- ⏰ 🟢 End 'deploy config to SSM parameter', elapsed = 0.12 sec -----------+\n"
     ]
    }
   ],
   "source": [
    "# Deploy config to AWS Parameter Store\n",
    "bsm = BotoSesManager(profile_name=\"bmt_app_dev_us_east_1\")\n",
    "\n",
    "deployment_list = config.deploy(\n",
    "    bsm=bsm,\n",
    "    parameter_with_encryption=True,\n",
    "    verbose=True,\n",
    ")"
   ]
  },
  {
   "cell_type": "code",
   "execution_count": 13,
   "metadata": {
    "tags": []
   },
   "outputs": [
    {
     "data": {
      "text/html": [
       "<pre style=\"white-space:pre;overflow-x:auto;line-height:normal;font-family:Menlo,'DejaVu Sans Mono',consolas,'Courier New',monospace\"><span style=\"font-weight: bold\">[</span>\n",
       "    <span style=\"color: #800080; text-decoration-color: #800080; font-weight: bold\">ConfigDeployment</span><span style=\"font-weight: bold\">(</span>\n",
       "        <span style=\"color: #808000; text-decoration-color: #808000\">parameter_name</span>=<span style=\"color: #008000; text-decoration-color: #008000\">'my_project'</span>,\n",
       "        <span style=\"color: #808000; text-decoration-color: #808000\">parameter_data</span>=<span style=\"font-weight: bold\">{</span>\n",
       "            <span style=\"color: #008000; text-decoration-color: #008000\">'data'</span>: <span style=\"font-weight: bold\">{</span>\n",
       "                <span style=\"color: #008000; text-decoration-color: #008000\">'_shared'</span>: <span style=\"font-weight: bold\">{</span><span style=\"color: #008000; text-decoration-color: #008000\">'*.project_name'</span>: <span style=\"color: #008000; text-decoration-color: #008000\">'my_project'</span><span style=\"font-weight: bold\">}</span>,\n",
       "                <span style=\"color: #008000; text-decoration-color: #008000\">'dev'</span>: <span style=\"font-weight: bold\">{</span><span style=\"color: #008000; text-decoration-color: #008000\">'username'</span>: <span style=\"color: #008000; text-decoration-color: #008000\">'dev.user'</span><span style=\"font-weight: bold\">}</span>,\n",
       "                <span style=\"color: #008000; text-decoration-color: #008000\">'int'</span>: <span style=\"font-weight: bold\">{</span><span style=\"color: #008000; text-decoration-color: #008000\">'username'</span>: <span style=\"color: #008000; text-decoration-color: #008000\">'int.user'</span><span style=\"font-weight: bold\">}</span>,\n",
       "                <span style=\"color: #008000; text-decoration-color: #008000\">'prod'</span>: <span style=\"font-weight: bold\">{</span><span style=\"color: #008000; text-decoration-color: #008000\">'username'</span>: <span style=\"color: #008000; text-decoration-color: #008000\">'prod.user'</span><span style=\"font-weight: bold\">}</span>\n",
       "            <span style=\"font-weight: bold\">}</span>,\n",
       "            <span style=\"color: #008000; text-decoration-color: #008000\">'secret_data'</span>: <span style=\"font-weight: bold\">{</span>\n",
       "                <span style=\"color: #008000; text-decoration-color: #008000\">'_shared'</span>: <span style=\"font-weight: bold\">{}</span>,\n",
       "                <span style=\"color: #008000; text-decoration-color: #008000\">'dev'</span>: <span style=\"font-weight: bold\">{</span><span style=\"color: #008000; text-decoration-color: #008000\">'password'</span>: <span style=\"color: #008000; text-decoration-color: #008000\">'dev.password'</span><span style=\"font-weight: bold\">}</span>,\n",
       "                <span style=\"color: #008000; text-decoration-color: #008000\">'int'</span>: <span style=\"font-weight: bold\">{</span><span style=\"color: #008000; text-decoration-color: #008000\">'password'</span>: <span style=\"color: #008000; text-decoration-color: #008000\">'int.password'</span><span style=\"font-weight: bold\">}</span>,\n",
       "                <span style=\"color: #008000; text-decoration-color: #008000\">'prod'</span>: <span style=\"font-weight: bold\">{</span><span style=\"color: #008000; text-decoration-color: #008000\">'password'</span>: <span style=\"color: #008000; text-decoration-color: #008000\">'prod.password'</span><span style=\"font-weight: bold\">}</span>\n",
       "            <span style=\"font-weight: bold\">}</span>\n",
       "        <span style=\"font-weight: bold\">}</span>,\n",
       "        <span style=\"color: #808000; text-decoration-color: #808000\">project_name</span>=<span style=\"color: #008000; text-decoration-color: #008000\">'my_project'</span>,\n",
       "        <span style=\"color: #808000; text-decoration-color: #808000\">env_name</span>=<span style=\"color: #008000; text-decoration-color: #008000\">'all'</span>,\n",
       "        <span style=\"color: #808000; text-decoration-color: #808000\">deployment</span>=<span style=\"color: #800080; text-decoration-color: #800080; font-weight: bold\">Parameter</span><span style=\"font-weight: bold\">(</span>\n",
       "            <span style=\"color: #808000; text-decoration-color: #808000\">Name</span>=<span style=\"color: #008000; text-decoration-color: #008000\">'my_project'</span>,\n",
       "            <span style=\"color: #808000; text-decoration-color: #808000\">Value</span>=<span style=\"color: #008000; text-decoration-color: #008000\">'{\"data\": {\"_shared\": {\"*.project_name\": \"my_project\"}, \"dev\": {\"username\": \"dev.user\"}, \"int\": </span>\n",
       "<span style=\"color: #008000; text-decoration-color: #008000\">{\"username\": \"int.user\"}, \"prod\": {\"username\": \"prod.user\"}}, \"secret_data\": {\"_shared\": {}, \"dev\": {\"password\": </span>\n",
       "<span style=\"color: #008000; text-decoration-color: #008000\">\"dev.password\"}, \"int\": {\"password\": \"int.password\"}, \"prod\": {\"password\": \"prod.password\"}}}'</span>,\n",
       "            <span style=\"color: #808000; text-decoration-color: #808000\">Type</span>=<span style=\"color: #008000; text-decoration-color: #008000\">'SecureString'</span>,\n",
       "            <span style=\"color: #808000; text-decoration-color: #808000\">Version</span>=<span style=\"color: #008080; text-decoration-color: #008080; font-weight: bold\">1</span>,\n",
       "            <span style=\"color: #808000; text-decoration-color: #808000\">LastModifiedDate</span>=<span style=\"color: #800080; text-decoration-color: #800080; font-weight: bold\">datetime</span><span style=\"color: #800080; text-decoration-color: #800080; font-weight: bold\">.datetime</span><span style=\"font-weight: bold\">(</span><span style=\"color: #008080; text-decoration-color: #008080; font-weight: bold\">2023</span>, <span style=\"color: #008080; text-decoration-color: #008080; font-weight: bold\">5</span>, <span style=\"color: #008080; text-decoration-color: #008080; font-weight: bold\">17</span>, <span style=\"color: #008080; text-decoration-color: #008080; font-weight: bold\">15</span>, <span style=\"color: #008080; text-decoration-color: #008080; font-weight: bold\">36</span>, <span style=\"color: #008080; text-decoration-color: #008080; font-weight: bold\">49</span><span style=\"font-weight: bold\">)</span>,\n",
       "            <span style=\"color: #808000; text-decoration-color: #808000\">DataType</span>=<span style=\"color: #008000; text-decoration-color: #008000\">'text'</span>,\n",
       "            <span style=\"color: #808000; text-decoration-color: #808000\">ARN</span>=<span style=\"color: #800080; text-decoration-color: #800080; font-style: italic\">None</span>,\n",
       "            <span style=\"color: #808000; text-decoration-color: #808000\">Selector</span>=<span style=\"color: #800080; text-decoration-color: #800080; font-style: italic\">None</span>,\n",
       "            <span style=\"color: #808000; text-decoration-color: #808000\">SourceResult</span>=<span style=\"color: #800080; text-decoration-color: #800080; font-style: italic\">None</span>,\n",
       "            <span style=\"color: #808000; text-decoration-color: #808000\">Tags</span>=<span style=\"font-weight: bold\">{}</span>,\n",
       "            <span style=\"color: #808000; text-decoration-color: #808000\">Labels</span>=<span style=\"font-weight: bold\">[]</span>\n",
       "        <span style=\"font-weight: bold\">)</span>,\n",
       "        <span style=\"color: #808000; text-decoration-color: #808000\">deletion</span>=<span style=\"color: #800080; text-decoration-color: #800080; font-style: italic\">None</span>\n",
       "    <span style=\"font-weight: bold\">)</span>,\n",
       "    <span style=\"color: #800080; text-decoration-color: #800080; font-weight: bold\">ConfigDeployment</span><span style=\"font-weight: bold\">(</span>\n",
       "        <span style=\"color: #808000; text-decoration-color: #808000\">parameter_name</span>=<span style=\"color: #008000; text-decoration-color: #008000\">'my_project-dev'</span>,\n",
       "        <span style=\"color: #808000; text-decoration-color: #808000\">parameter_data</span>=<span style=\"font-weight: bold\">{</span>\n",
       "            <span style=\"color: #008000; text-decoration-color: #008000\">'data'</span>: <span style=\"font-weight: bold\">{</span><span style=\"color: #008000; text-decoration-color: #008000\">'_shared'</span>: <span style=\"font-weight: bold\">{</span><span style=\"color: #008000; text-decoration-color: #008000\">'*.project_name'</span>: <span style=\"color: #008000; text-decoration-color: #008000\">'my_project'</span><span style=\"font-weight: bold\">}</span>, <span style=\"color: #008000; text-decoration-color: #008000\">'dev'</span>: <span style=\"font-weight: bold\">{</span><span style=\"color: #008000; text-decoration-color: #008000\">'username'</span>: <span style=\"color: #008000; text-decoration-color: #008000\">'dev.user'</span><span style=\"font-weight: bold\">}}</span>,\n",
       "            <span style=\"color: #008000; text-decoration-color: #008000\">'secret_data'</span>: <span style=\"font-weight: bold\">{</span><span style=\"color: #008000; text-decoration-color: #008000\">'_shared'</span>: <span style=\"font-weight: bold\">{}</span>, <span style=\"color: #008000; text-decoration-color: #008000\">'dev'</span>: <span style=\"font-weight: bold\">{</span><span style=\"color: #008000; text-decoration-color: #008000\">'password'</span>: <span style=\"color: #008000; text-decoration-color: #008000\">'dev.password'</span><span style=\"font-weight: bold\">}}</span>\n",
       "        <span style=\"font-weight: bold\">}</span>,\n",
       "        <span style=\"color: #808000; text-decoration-color: #808000\">project_name</span>=<span style=\"color: #008000; text-decoration-color: #008000\">'my_project'</span>,\n",
       "        <span style=\"color: #808000; text-decoration-color: #808000\">env_name</span>=<span style=\"color: #008000; text-decoration-color: #008000\">'dev'</span>,\n",
       "        <span style=\"color: #808000; text-decoration-color: #808000\">deployment</span>=<span style=\"color: #800080; text-decoration-color: #800080; font-weight: bold\">Parameter</span><span style=\"font-weight: bold\">(</span>\n",
       "            <span style=\"color: #808000; text-decoration-color: #808000\">Name</span>=<span style=\"color: #008000; text-decoration-color: #008000\">'my_project-dev'</span>,\n",
       "            <span style=\"color: #808000; text-decoration-color: #808000\">Value</span>=<span style=\"color: #008000; text-decoration-color: #008000\">'{\"data\": {\"_shared\": {\"*.project_name\": \"my_project\"}, \"dev\": {\"username\": \"dev.user\"}}, </span>\n",
       "<span style=\"color: #008000; text-decoration-color: #008000\">\"secret_data\": {\"_shared\": {}, \"dev\": {\"password\": \"dev.password\"}}}'</span>,\n",
       "            <span style=\"color: #808000; text-decoration-color: #808000\">Type</span>=<span style=\"color: #008000; text-decoration-color: #008000\">'SecureString'</span>,\n",
       "            <span style=\"color: #808000; text-decoration-color: #808000\">Version</span>=<span style=\"color: #008080; text-decoration-color: #008080; font-weight: bold\">1</span>,\n",
       "            <span style=\"color: #808000; text-decoration-color: #808000\">LastModifiedDate</span>=<span style=\"color: #800080; text-decoration-color: #800080; font-weight: bold\">datetime</span><span style=\"color: #800080; text-decoration-color: #800080; font-weight: bold\">.datetime</span><span style=\"font-weight: bold\">(</span><span style=\"color: #008080; text-decoration-color: #008080; font-weight: bold\">2023</span>, <span style=\"color: #008080; text-decoration-color: #008080; font-weight: bold\">5</span>, <span style=\"color: #008080; text-decoration-color: #008080; font-weight: bold\">17</span>, <span style=\"color: #008080; text-decoration-color: #008080; font-weight: bold\">15</span>, <span style=\"color: #008080; text-decoration-color: #008080; font-weight: bold\">36</span>, <span style=\"color: #008080; text-decoration-color: #008080; font-weight: bold\">50</span><span style=\"font-weight: bold\">)</span>,\n",
       "            <span style=\"color: #808000; text-decoration-color: #808000\">DataType</span>=<span style=\"color: #008000; text-decoration-color: #008000\">'text'</span>,\n",
       "            <span style=\"color: #808000; text-decoration-color: #808000\">ARN</span>=<span style=\"color: #800080; text-decoration-color: #800080; font-style: italic\">None</span>,\n",
       "            <span style=\"color: #808000; text-decoration-color: #808000\">Selector</span>=<span style=\"color: #800080; text-decoration-color: #800080; font-style: italic\">None</span>,\n",
       "            <span style=\"color: #808000; text-decoration-color: #808000\">SourceResult</span>=<span style=\"color: #800080; text-decoration-color: #800080; font-style: italic\">None</span>,\n",
       "            <span style=\"color: #808000; text-decoration-color: #808000\">Tags</span>=<span style=\"font-weight: bold\">{}</span>,\n",
       "            <span style=\"color: #808000; text-decoration-color: #808000\">Labels</span>=<span style=\"font-weight: bold\">[]</span>\n",
       "        <span style=\"font-weight: bold\">)</span>,\n",
       "        <span style=\"color: #808000; text-decoration-color: #808000\">deletion</span>=<span style=\"color: #800080; text-decoration-color: #800080; font-style: italic\">None</span>\n",
       "    <span style=\"font-weight: bold\">)</span>,\n",
       "    <span style=\"color: #800080; text-decoration-color: #800080; font-weight: bold\">ConfigDeployment</span><span style=\"font-weight: bold\">(</span>\n",
       "        <span style=\"color: #808000; text-decoration-color: #808000\">parameter_name</span>=<span style=\"color: #008000; text-decoration-color: #008000\">'my_project-int'</span>,\n",
       "        <span style=\"color: #808000; text-decoration-color: #808000\">parameter_data</span>=<span style=\"font-weight: bold\">{</span>\n",
       "            <span style=\"color: #008000; text-decoration-color: #008000\">'data'</span>: <span style=\"font-weight: bold\">{</span><span style=\"color: #008000; text-decoration-color: #008000\">'_shared'</span>: <span style=\"font-weight: bold\">{</span><span style=\"color: #008000; text-decoration-color: #008000\">'*.project_name'</span>: <span style=\"color: #008000; text-decoration-color: #008000\">'my_project'</span><span style=\"font-weight: bold\">}</span>, <span style=\"color: #008000; text-decoration-color: #008000\">'int'</span>: <span style=\"font-weight: bold\">{</span><span style=\"color: #008000; text-decoration-color: #008000\">'username'</span>: <span style=\"color: #008000; text-decoration-color: #008000\">'int.user'</span><span style=\"font-weight: bold\">}}</span>,\n",
       "            <span style=\"color: #008000; text-decoration-color: #008000\">'secret_data'</span>: <span style=\"font-weight: bold\">{</span><span style=\"color: #008000; text-decoration-color: #008000\">'_shared'</span>: <span style=\"font-weight: bold\">{}</span>, <span style=\"color: #008000; text-decoration-color: #008000\">'int'</span>: <span style=\"font-weight: bold\">{</span><span style=\"color: #008000; text-decoration-color: #008000\">'password'</span>: <span style=\"color: #008000; text-decoration-color: #008000\">'int.password'</span><span style=\"font-weight: bold\">}}</span>\n",
       "        <span style=\"font-weight: bold\">}</span>,\n",
       "        <span style=\"color: #808000; text-decoration-color: #808000\">project_name</span>=<span style=\"color: #008000; text-decoration-color: #008000\">'my_project'</span>,\n",
       "        <span style=\"color: #808000; text-decoration-color: #808000\">env_name</span>=<span style=\"color: #008000; text-decoration-color: #008000\">'int'</span>,\n",
       "        <span style=\"color: #808000; text-decoration-color: #808000\">deployment</span>=<span style=\"color: #800080; text-decoration-color: #800080; font-weight: bold\">Parameter</span><span style=\"font-weight: bold\">(</span>\n",
       "            <span style=\"color: #808000; text-decoration-color: #808000\">Name</span>=<span style=\"color: #008000; text-decoration-color: #008000\">'my_project-int'</span>,\n",
       "            <span style=\"color: #808000; text-decoration-color: #808000\">Value</span>=<span style=\"color: #008000; text-decoration-color: #008000\">'{\"data\": {\"_shared\": {\"*.project_name\": \"my_project\"}, \"int\": {\"username\": \"int.user\"}}, </span>\n",
       "<span style=\"color: #008000; text-decoration-color: #008000\">\"secret_data\": {\"_shared\": {}, \"int\": {\"password\": \"int.password\"}}}'</span>,\n",
       "            <span style=\"color: #808000; text-decoration-color: #808000\">Type</span>=<span style=\"color: #008000; text-decoration-color: #008000\">'SecureString'</span>,\n",
       "            <span style=\"color: #808000; text-decoration-color: #808000\">Version</span>=<span style=\"color: #008080; text-decoration-color: #008080; font-weight: bold\">1</span>,\n",
       "            <span style=\"color: #808000; text-decoration-color: #808000\">LastModifiedDate</span>=<span style=\"color: #800080; text-decoration-color: #800080; font-weight: bold\">datetime</span><span style=\"color: #800080; text-decoration-color: #800080; font-weight: bold\">.datetime</span><span style=\"font-weight: bold\">(</span><span style=\"color: #008080; text-decoration-color: #008080; font-weight: bold\">2023</span>, <span style=\"color: #008080; text-decoration-color: #008080; font-weight: bold\">5</span>, <span style=\"color: #008080; text-decoration-color: #008080; font-weight: bold\">17</span>, <span style=\"color: #008080; text-decoration-color: #008080; font-weight: bold\">15</span>, <span style=\"color: #008080; text-decoration-color: #008080; font-weight: bold\">36</span>, <span style=\"color: #008080; text-decoration-color: #008080; font-weight: bold\">50</span><span style=\"font-weight: bold\">)</span>,\n",
       "            <span style=\"color: #808000; text-decoration-color: #808000\">DataType</span>=<span style=\"color: #008000; text-decoration-color: #008000\">'text'</span>,\n",
       "            <span style=\"color: #808000; text-decoration-color: #808000\">ARN</span>=<span style=\"color: #800080; text-decoration-color: #800080; font-style: italic\">None</span>,\n",
       "            <span style=\"color: #808000; text-decoration-color: #808000\">Selector</span>=<span style=\"color: #800080; text-decoration-color: #800080; font-style: italic\">None</span>,\n",
       "            <span style=\"color: #808000; text-decoration-color: #808000\">SourceResult</span>=<span style=\"color: #800080; text-decoration-color: #800080; font-style: italic\">None</span>,\n",
       "            <span style=\"color: #808000; text-decoration-color: #808000\">Tags</span>=<span style=\"font-weight: bold\">{}</span>,\n",
       "            <span style=\"color: #808000; text-decoration-color: #808000\">Labels</span>=<span style=\"font-weight: bold\">[]</span>\n",
       "        <span style=\"font-weight: bold\">)</span>,\n",
       "        <span style=\"color: #808000; text-decoration-color: #808000\">deletion</span>=<span style=\"color: #800080; text-decoration-color: #800080; font-style: italic\">None</span>\n",
       "    <span style=\"font-weight: bold\">)</span>,\n",
       "    <span style=\"color: #800080; text-decoration-color: #800080; font-weight: bold\">ConfigDeployment</span><span style=\"font-weight: bold\">(</span>\n",
       "        <span style=\"color: #808000; text-decoration-color: #808000\">parameter_name</span>=<span style=\"color: #008000; text-decoration-color: #008000\">'my_project-prod'</span>,\n",
       "        <span style=\"color: #808000; text-decoration-color: #808000\">parameter_data</span>=<span style=\"font-weight: bold\">{</span>\n",
       "            <span style=\"color: #008000; text-decoration-color: #008000\">'data'</span>: <span style=\"font-weight: bold\">{</span><span style=\"color: #008000; text-decoration-color: #008000\">'_shared'</span>: <span style=\"font-weight: bold\">{</span><span style=\"color: #008000; text-decoration-color: #008000\">'*.project_name'</span>: <span style=\"color: #008000; text-decoration-color: #008000\">'my_project'</span><span style=\"font-weight: bold\">}</span>, <span style=\"color: #008000; text-decoration-color: #008000\">'prod'</span>: <span style=\"font-weight: bold\">{</span><span style=\"color: #008000; text-decoration-color: #008000\">'username'</span>: <span style=\"color: #008000; text-decoration-color: #008000\">'prod.user'</span><span style=\"font-weight: bold\">}}</span>,\n",
       "            <span style=\"color: #008000; text-decoration-color: #008000\">'secret_data'</span>: <span style=\"font-weight: bold\">{</span><span style=\"color: #008000; text-decoration-color: #008000\">'_shared'</span>: <span style=\"font-weight: bold\">{}</span>, <span style=\"color: #008000; text-decoration-color: #008000\">'prod'</span>: <span style=\"font-weight: bold\">{</span><span style=\"color: #008000; text-decoration-color: #008000\">'password'</span>: <span style=\"color: #008000; text-decoration-color: #008000\">'prod.password'</span><span style=\"font-weight: bold\">}}</span>\n",
       "        <span style=\"font-weight: bold\">}</span>,\n",
       "        <span style=\"color: #808000; text-decoration-color: #808000\">project_name</span>=<span style=\"color: #008000; text-decoration-color: #008000\">'my_project'</span>,\n",
       "        <span style=\"color: #808000; text-decoration-color: #808000\">env_name</span>=<span style=\"color: #008000; text-decoration-color: #008000\">'prod'</span>,\n",
       "        <span style=\"color: #808000; text-decoration-color: #808000\">deployment</span>=<span style=\"color: #800080; text-decoration-color: #800080; font-weight: bold\">Parameter</span><span style=\"font-weight: bold\">(</span>\n",
       "            <span style=\"color: #808000; text-decoration-color: #808000\">Name</span>=<span style=\"color: #008000; text-decoration-color: #008000\">'my_project-prod'</span>,\n",
       "            <span style=\"color: #808000; text-decoration-color: #808000\">Value</span>=<span style=\"color: #008000; text-decoration-color: #008000\">'{\"data\": {\"_shared\": {\"*.project_name\": \"my_project\"}, \"prod\": {\"username\": \"prod.user\"}}, </span>\n",
       "<span style=\"color: #008000; text-decoration-color: #008000\">\"secret_data\": {\"_shared\": {}, \"prod\": {\"password\": \"prod.password\"}}}'</span>,\n",
       "            <span style=\"color: #808000; text-decoration-color: #808000\">Type</span>=<span style=\"color: #008000; text-decoration-color: #008000\">'SecureString'</span>,\n",
       "            <span style=\"color: #808000; text-decoration-color: #808000\">Version</span>=<span style=\"color: #008080; text-decoration-color: #008080; font-weight: bold\">1</span>,\n",
       "            <span style=\"color: #808000; text-decoration-color: #808000\">LastModifiedDate</span>=<span style=\"color: #800080; text-decoration-color: #800080; font-weight: bold\">datetime</span><span style=\"color: #800080; text-decoration-color: #800080; font-weight: bold\">.datetime</span><span style=\"font-weight: bold\">(</span><span style=\"color: #008080; text-decoration-color: #008080; font-weight: bold\">2023</span>, <span style=\"color: #008080; text-decoration-color: #008080; font-weight: bold\">5</span>, <span style=\"color: #008080; text-decoration-color: #008080; font-weight: bold\">17</span>, <span style=\"color: #008080; text-decoration-color: #008080; font-weight: bold\">15</span>, <span style=\"color: #008080; text-decoration-color: #008080; font-weight: bold\">36</span>, <span style=\"color: #008080; text-decoration-color: #008080; font-weight: bold\">50</span><span style=\"font-weight: bold\">)</span>,\n",
       "            <span style=\"color: #808000; text-decoration-color: #808000\">DataType</span>=<span style=\"color: #008000; text-decoration-color: #008000\">'text'</span>,\n",
       "            <span style=\"color: #808000; text-decoration-color: #808000\">ARN</span>=<span style=\"color: #800080; text-decoration-color: #800080; font-style: italic\">None</span>,\n",
       "            <span style=\"color: #808000; text-decoration-color: #808000\">Selector</span>=<span style=\"color: #800080; text-decoration-color: #800080; font-style: italic\">None</span>,\n",
       "            <span style=\"color: #808000; text-decoration-color: #808000\">SourceResult</span>=<span style=\"color: #800080; text-decoration-color: #800080; font-style: italic\">None</span>,\n",
       "            <span style=\"color: #808000; text-decoration-color: #808000\">Tags</span>=<span style=\"font-weight: bold\">{}</span>,\n",
       "            <span style=\"color: #808000; text-decoration-color: #808000\">Labels</span>=<span style=\"font-weight: bold\">[]</span>\n",
       "        <span style=\"font-weight: bold\">)</span>,\n",
       "        <span style=\"color: #808000; text-decoration-color: #808000\">deletion</span>=<span style=\"color: #800080; text-decoration-color: #800080; font-style: italic\">None</span>\n",
       "    <span style=\"font-weight: bold\">)</span>\n",
       "<span style=\"font-weight: bold\">]</span>\n",
       "</pre>\n"
      ],
      "text/plain": [
       "\u001b[1m[\u001b[0m\n",
       "    \u001b[1;35mConfigDeployment\u001b[0m\u001b[1m(\u001b[0m\n",
       "        \u001b[33mparameter_name\u001b[0m=\u001b[32m'my_project'\u001b[0m,\n",
       "        \u001b[33mparameter_data\u001b[0m=\u001b[1m{\u001b[0m\n",
       "            \u001b[32m'data'\u001b[0m: \u001b[1m{\u001b[0m\n",
       "                \u001b[32m'_shared'\u001b[0m: \u001b[1m{\u001b[0m\u001b[32m'*.project_name'\u001b[0m: \u001b[32m'my_project'\u001b[0m\u001b[1m}\u001b[0m,\n",
       "                \u001b[32m'dev'\u001b[0m: \u001b[1m{\u001b[0m\u001b[32m'username'\u001b[0m: \u001b[32m'dev.user'\u001b[0m\u001b[1m}\u001b[0m,\n",
       "                \u001b[32m'int'\u001b[0m: \u001b[1m{\u001b[0m\u001b[32m'username'\u001b[0m: \u001b[32m'int.user'\u001b[0m\u001b[1m}\u001b[0m,\n",
       "                \u001b[32m'prod'\u001b[0m: \u001b[1m{\u001b[0m\u001b[32m'username'\u001b[0m: \u001b[32m'prod.user'\u001b[0m\u001b[1m}\u001b[0m\n",
       "            \u001b[1m}\u001b[0m,\n",
       "            \u001b[32m'secret_data'\u001b[0m: \u001b[1m{\u001b[0m\n",
       "                \u001b[32m'_shared'\u001b[0m: \u001b[1m{\u001b[0m\u001b[1m}\u001b[0m,\n",
       "                \u001b[32m'dev'\u001b[0m: \u001b[1m{\u001b[0m\u001b[32m'password'\u001b[0m: \u001b[32m'dev.password'\u001b[0m\u001b[1m}\u001b[0m,\n",
       "                \u001b[32m'int'\u001b[0m: \u001b[1m{\u001b[0m\u001b[32m'password'\u001b[0m: \u001b[32m'int.password'\u001b[0m\u001b[1m}\u001b[0m,\n",
       "                \u001b[32m'prod'\u001b[0m: \u001b[1m{\u001b[0m\u001b[32m'password'\u001b[0m: \u001b[32m'prod.password'\u001b[0m\u001b[1m}\u001b[0m\n",
       "            \u001b[1m}\u001b[0m\n",
       "        \u001b[1m}\u001b[0m,\n",
       "        \u001b[33mproject_name\u001b[0m=\u001b[32m'my_project'\u001b[0m,\n",
       "        \u001b[33menv_name\u001b[0m=\u001b[32m'all'\u001b[0m,\n",
       "        \u001b[33mdeployment\u001b[0m=\u001b[1;35mParameter\u001b[0m\u001b[1m(\u001b[0m\n",
       "            \u001b[33mName\u001b[0m=\u001b[32m'my_project'\u001b[0m,\n",
       "            \u001b[33mValue\u001b[0m=\u001b[32m'\u001b[0m\u001b[32m{\u001b[0m\u001b[32m\"data\": \u001b[0m\u001b[32m{\u001b[0m\u001b[32m\"_shared\": \u001b[0m\u001b[32m{\u001b[0m\u001b[32m\"*.project_name\": \"my_project\"\u001b[0m\u001b[32m}\u001b[0m\u001b[32m, \"dev\": \u001b[0m\u001b[32m{\u001b[0m\u001b[32m\"username\": \"dev.user\"\u001b[0m\u001b[32m}\u001b[0m\u001b[32m, \"int\": \u001b[0m\n",
       "\u001b[32m{\u001b[0m\u001b[32m\"username\": \"int.user\"\u001b[0m\u001b[32m}\u001b[0m\u001b[32m, \"prod\": \u001b[0m\u001b[32m{\u001b[0m\u001b[32m\"username\": \"prod.user\"\u001b[0m\u001b[32m}\u001b[0m\u001b[32m}\u001b[0m\u001b[32m, \"secret_data\": \u001b[0m\u001b[32m{\u001b[0m\u001b[32m\"_shared\": \u001b[0m\u001b[32m{\u001b[0m\u001b[32m}\u001b[0m\u001b[32m, \"dev\": \u001b[0m\u001b[32m{\u001b[0m\u001b[32m\"password\": \u001b[0m\n",
       "\u001b[32m\"dev.password\"\u001b[0m\u001b[32m}\u001b[0m\u001b[32m, \"int\": \u001b[0m\u001b[32m{\u001b[0m\u001b[32m\"password\": \"int.password\"\u001b[0m\u001b[32m}\u001b[0m\u001b[32m, \"prod\": \u001b[0m\u001b[32m{\u001b[0m\u001b[32m\"password\": \"prod.password\"\u001b[0m\u001b[32m}\u001b[0m\u001b[32m}\u001b[0m\u001b[32m}\u001b[0m\u001b[32m'\u001b[0m,\n",
       "            \u001b[33mType\u001b[0m=\u001b[32m'SecureString'\u001b[0m,\n",
       "            \u001b[33mVersion\u001b[0m=\u001b[1;36m1\u001b[0m,\n",
       "            \u001b[33mLastModifiedDate\u001b[0m=\u001b[1;35mdatetime\u001b[0m\u001b[1;35m.datetime\u001b[0m\u001b[1m(\u001b[0m\u001b[1;36m2023\u001b[0m, \u001b[1;36m5\u001b[0m, \u001b[1;36m17\u001b[0m, \u001b[1;36m15\u001b[0m, \u001b[1;36m36\u001b[0m, \u001b[1;36m49\u001b[0m\u001b[1m)\u001b[0m,\n",
       "            \u001b[33mDataType\u001b[0m=\u001b[32m'text'\u001b[0m,\n",
       "            \u001b[33mARN\u001b[0m=\u001b[3;35mNone\u001b[0m,\n",
       "            \u001b[33mSelector\u001b[0m=\u001b[3;35mNone\u001b[0m,\n",
       "            \u001b[33mSourceResult\u001b[0m=\u001b[3;35mNone\u001b[0m,\n",
       "            \u001b[33mTags\u001b[0m=\u001b[1m{\u001b[0m\u001b[1m}\u001b[0m,\n",
       "            \u001b[33mLabels\u001b[0m=\u001b[1m[\u001b[0m\u001b[1m]\u001b[0m\n",
       "        \u001b[1m)\u001b[0m,\n",
       "        \u001b[33mdeletion\u001b[0m=\u001b[3;35mNone\u001b[0m\n",
       "    \u001b[1m)\u001b[0m,\n",
       "    \u001b[1;35mConfigDeployment\u001b[0m\u001b[1m(\u001b[0m\n",
       "        \u001b[33mparameter_name\u001b[0m=\u001b[32m'my_project-dev'\u001b[0m,\n",
       "        \u001b[33mparameter_data\u001b[0m=\u001b[1m{\u001b[0m\n",
       "            \u001b[32m'data'\u001b[0m: \u001b[1m{\u001b[0m\u001b[32m'_shared'\u001b[0m: \u001b[1m{\u001b[0m\u001b[32m'*.project_name'\u001b[0m: \u001b[32m'my_project'\u001b[0m\u001b[1m}\u001b[0m, \u001b[32m'dev'\u001b[0m: \u001b[1m{\u001b[0m\u001b[32m'username'\u001b[0m: \u001b[32m'dev.user'\u001b[0m\u001b[1m}\u001b[0m\u001b[1m}\u001b[0m,\n",
       "            \u001b[32m'secret_data'\u001b[0m: \u001b[1m{\u001b[0m\u001b[32m'_shared'\u001b[0m: \u001b[1m{\u001b[0m\u001b[1m}\u001b[0m, \u001b[32m'dev'\u001b[0m: \u001b[1m{\u001b[0m\u001b[32m'password'\u001b[0m: \u001b[32m'dev.password'\u001b[0m\u001b[1m}\u001b[0m\u001b[1m}\u001b[0m\n",
       "        \u001b[1m}\u001b[0m,\n",
       "        \u001b[33mproject_name\u001b[0m=\u001b[32m'my_project'\u001b[0m,\n",
       "        \u001b[33menv_name\u001b[0m=\u001b[32m'dev'\u001b[0m,\n",
       "        \u001b[33mdeployment\u001b[0m=\u001b[1;35mParameter\u001b[0m\u001b[1m(\u001b[0m\n",
       "            \u001b[33mName\u001b[0m=\u001b[32m'my_project-dev'\u001b[0m,\n",
       "            \u001b[33mValue\u001b[0m=\u001b[32m'\u001b[0m\u001b[32m{\u001b[0m\u001b[32m\"data\": \u001b[0m\u001b[32m{\u001b[0m\u001b[32m\"_shared\": \u001b[0m\u001b[32m{\u001b[0m\u001b[32m\"*.project_name\": \"my_project\"\u001b[0m\u001b[32m}\u001b[0m\u001b[32m, \"dev\": \u001b[0m\u001b[32m{\u001b[0m\u001b[32m\"username\": \"dev.user\"\u001b[0m\u001b[32m}\u001b[0m\u001b[32m}\u001b[0m\u001b[32m, \u001b[0m\n",
       "\u001b[32m\"secret_data\": \u001b[0m\u001b[32m{\u001b[0m\u001b[32m\"_shared\": \u001b[0m\u001b[32m{\u001b[0m\u001b[32m}\u001b[0m\u001b[32m, \"dev\": \u001b[0m\u001b[32m{\u001b[0m\u001b[32m\"password\": \"dev.password\"\u001b[0m\u001b[32m}\u001b[0m\u001b[32m}\u001b[0m\u001b[32m}\u001b[0m\u001b[32m'\u001b[0m,\n",
       "            \u001b[33mType\u001b[0m=\u001b[32m'SecureString'\u001b[0m,\n",
       "            \u001b[33mVersion\u001b[0m=\u001b[1;36m1\u001b[0m,\n",
       "            \u001b[33mLastModifiedDate\u001b[0m=\u001b[1;35mdatetime\u001b[0m\u001b[1;35m.datetime\u001b[0m\u001b[1m(\u001b[0m\u001b[1;36m2023\u001b[0m, \u001b[1;36m5\u001b[0m, \u001b[1;36m17\u001b[0m, \u001b[1;36m15\u001b[0m, \u001b[1;36m36\u001b[0m, \u001b[1;36m50\u001b[0m\u001b[1m)\u001b[0m,\n",
       "            \u001b[33mDataType\u001b[0m=\u001b[32m'text'\u001b[0m,\n",
       "            \u001b[33mARN\u001b[0m=\u001b[3;35mNone\u001b[0m,\n",
       "            \u001b[33mSelector\u001b[0m=\u001b[3;35mNone\u001b[0m,\n",
       "            \u001b[33mSourceResult\u001b[0m=\u001b[3;35mNone\u001b[0m,\n",
       "            \u001b[33mTags\u001b[0m=\u001b[1m{\u001b[0m\u001b[1m}\u001b[0m,\n",
       "            \u001b[33mLabels\u001b[0m=\u001b[1m[\u001b[0m\u001b[1m]\u001b[0m\n",
       "        \u001b[1m)\u001b[0m,\n",
       "        \u001b[33mdeletion\u001b[0m=\u001b[3;35mNone\u001b[0m\n",
       "    \u001b[1m)\u001b[0m,\n",
       "    \u001b[1;35mConfigDeployment\u001b[0m\u001b[1m(\u001b[0m\n",
       "        \u001b[33mparameter_name\u001b[0m=\u001b[32m'my_project-int'\u001b[0m,\n",
       "        \u001b[33mparameter_data\u001b[0m=\u001b[1m{\u001b[0m\n",
       "            \u001b[32m'data'\u001b[0m: \u001b[1m{\u001b[0m\u001b[32m'_shared'\u001b[0m: \u001b[1m{\u001b[0m\u001b[32m'*.project_name'\u001b[0m: \u001b[32m'my_project'\u001b[0m\u001b[1m}\u001b[0m, \u001b[32m'int'\u001b[0m: \u001b[1m{\u001b[0m\u001b[32m'username'\u001b[0m: \u001b[32m'int.user'\u001b[0m\u001b[1m}\u001b[0m\u001b[1m}\u001b[0m,\n",
       "            \u001b[32m'secret_data'\u001b[0m: \u001b[1m{\u001b[0m\u001b[32m'_shared'\u001b[0m: \u001b[1m{\u001b[0m\u001b[1m}\u001b[0m, \u001b[32m'int'\u001b[0m: \u001b[1m{\u001b[0m\u001b[32m'password'\u001b[0m: \u001b[32m'int.password'\u001b[0m\u001b[1m}\u001b[0m\u001b[1m}\u001b[0m\n",
       "        \u001b[1m}\u001b[0m,\n",
       "        \u001b[33mproject_name\u001b[0m=\u001b[32m'my_project'\u001b[0m,\n",
       "        \u001b[33menv_name\u001b[0m=\u001b[32m'int'\u001b[0m,\n",
       "        \u001b[33mdeployment\u001b[0m=\u001b[1;35mParameter\u001b[0m\u001b[1m(\u001b[0m\n",
       "            \u001b[33mName\u001b[0m=\u001b[32m'my_project-int'\u001b[0m,\n",
       "            \u001b[33mValue\u001b[0m=\u001b[32m'\u001b[0m\u001b[32m{\u001b[0m\u001b[32m\"data\": \u001b[0m\u001b[32m{\u001b[0m\u001b[32m\"_shared\": \u001b[0m\u001b[32m{\u001b[0m\u001b[32m\"*.project_name\": \"my_project\"\u001b[0m\u001b[32m}\u001b[0m\u001b[32m, \"int\": \u001b[0m\u001b[32m{\u001b[0m\u001b[32m\"username\": \"int.user\"\u001b[0m\u001b[32m}\u001b[0m\u001b[32m}\u001b[0m\u001b[32m, \u001b[0m\n",
       "\u001b[32m\"secret_data\": \u001b[0m\u001b[32m{\u001b[0m\u001b[32m\"_shared\": \u001b[0m\u001b[32m{\u001b[0m\u001b[32m}\u001b[0m\u001b[32m, \"int\": \u001b[0m\u001b[32m{\u001b[0m\u001b[32m\"password\": \"int.password\"\u001b[0m\u001b[32m}\u001b[0m\u001b[32m}\u001b[0m\u001b[32m}\u001b[0m\u001b[32m'\u001b[0m,\n",
       "            \u001b[33mType\u001b[0m=\u001b[32m'SecureString'\u001b[0m,\n",
       "            \u001b[33mVersion\u001b[0m=\u001b[1;36m1\u001b[0m,\n",
       "            \u001b[33mLastModifiedDate\u001b[0m=\u001b[1;35mdatetime\u001b[0m\u001b[1;35m.datetime\u001b[0m\u001b[1m(\u001b[0m\u001b[1;36m2023\u001b[0m, \u001b[1;36m5\u001b[0m, \u001b[1;36m17\u001b[0m, \u001b[1;36m15\u001b[0m, \u001b[1;36m36\u001b[0m, \u001b[1;36m50\u001b[0m\u001b[1m)\u001b[0m,\n",
       "            \u001b[33mDataType\u001b[0m=\u001b[32m'text'\u001b[0m,\n",
       "            \u001b[33mARN\u001b[0m=\u001b[3;35mNone\u001b[0m,\n",
       "            \u001b[33mSelector\u001b[0m=\u001b[3;35mNone\u001b[0m,\n",
       "            \u001b[33mSourceResult\u001b[0m=\u001b[3;35mNone\u001b[0m,\n",
       "            \u001b[33mTags\u001b[0m=\u001b[1m{\u001b[0m\u001b[1m}\u001b[0m,\n",
       "            \u001b[33mLabels\u001b[0m=\u001b[1m[\u001b[0m\u001b[1m]\u001b[0m\n",
       "        \u001b[1m)\u001b[0m,\n",
       "        \u001b[33mdeletion\u001b[0m=\u001b[3;35mNone\u001b[0m\n",
       "    \u001b[1m)\u001b[0m,\n",
       "    \u001b[1;35mConfigDeployment\u001b[0m\u001b[1m(\u001b[0m\n",
       "        \u001b[33mparameter_name\u001b[0m=\u001b[32m'my_project-prod'\u001b[0m,\n",
       "        \u001b[33mparameter_data\u001b[0m=\u001b[1m{\u001b[0m\n",
       "            \u001b[32m'data'\u001b[0m: \u001b[1m{\u001b[0m\u001b[32m'_shared'\u001b[0m: \u001b[1m{\u001b[0m\u001b[32m'*.project_name'\u001b[0m: \u001b[32m'my_project'\u001b[0m\u001b[1m}\u001b[0m, \u001b[32m'prod'\u001b[0m: \u001b[1m{\u001b[0m\u001b[32m'username'\u001b[0m: \u001b[32m'prod.user'\u001b[0m\u001b[1m}\u001b[0m\u001b[1m}\u001b[0m,\n",
       "            \u001b[32m'secret_data'\u001b[0m: \u001b[1m{\u001b[0m\u001b[32m'_shared'\u001b[0m: \u001b[1m{\u001b[0m\u001b[1m}\u001b[0m, \u001b[32m'prod'\u001b[0m: \u001b[1m{\u001b[0m\u001b[32m'password'\u001b[0m: \u001b[32m'prod.password'\u001b[0m\u001b[1m}\u001b[0m\u001b[1m}\u001b[0m\n",
       "        \u001b[1m}\u001b[0m,\n",
       "        \u001b[33mproject_name\u001b[0m=\u001b[32m'my_project'\u001b[0m,\n",
       "        \u001b[33menv_name\u001b[0m=\u001b[32m'prod'\u001b[0m,\n",
       "        \u001b[33mdeployment\u001b[0m=\u001b[1;35mParameter\u001b[0m\u001b[1m(\u001b[0m\n",
       "            \u001b[33mName\u001b[0m=\u001b[32m'my_project-prod'\u001b[0m,\n",
       "            \u001b[33mValue\u001b[0m=\u001b[32m'\u001b[0m\u001b[32m{\u001b[0m\u001b[32m\"data\": \u001b[0m\u001b[32m{\u001b[0m\u001b[32m\"_shared\": \u001b[0m\u001b[32m{\u001b[0m\u001b[32m\"*.project_name\": \"my_project\"\u001b[0m\u001b[32m}\u001b[0m\u001b[32m, \"prod\": \u001b[0m\u001b[32m{\u001b[0m\u001b[32m\"username\": \"prod.user\"\u001b[0m\u001b[32m}\u001b[0m\u001b[32m}\u001b[0m\u001b[32m, \u001b[0m\n",
       "\u001b[32m\"secret_data\": \u001b[0m\u001b[32m{\u001b[0m\u001b[32m\"_shared\": \u001b[0m\u001b[32m{\u001b[0m\u001b[32m}\u001b[0m\u001b[32m, \"prod\": \u001b[0m\u001b[32m{\u001b[0m\u001b[32m\"password\": \"prod.password\"\u001b[0m\u001b[32m}\u001b[0m\u001b[32m}\u001b[0m\u001b[32m}\u001b[0m\u001b[32m'\u001b[0m,\n",
       "            \u001b[33mType\u001b[0m=\u001b[32m'SecureString'\u001b[0m,\n",
       "            \u001b[33mVersion\u001b[0m=\u001b[1;36m1\u001b[0m,\n",
       "            \u001b[33mLastModifiedDate\u001b[0m=\u001b[1;35mdatetime\u001b[0m\u001b[1;35m.datetime\u001b[0m\u001b[1m(\u001b[0m\u001b[1;36m2023\u001b[0m, \u001b[1;36m5\u001b[0m, \u001b[1;36m17\u001b[0m, \u001b[1;36m15\u001b[0m, \u001b[1;36m36\u001b[0m, \u001b[1;36m50\u001b[0m\u001b[1m)\u001b[0m,\n",
       "            \u001b[33mDataType\u001b[0m=\u001b[32m'text'\u001b[0m,\n",
       "            \u001b[33mARN\u001b[0m=\u001b[3;35mNone\u001b[0m,\n",
       "            \u001b[33mSelector\u001b[0m=\u001b[3;35mNone\u001b[0m,\n",
       "            \u001b[33mSourceResult\u001b[0m=\u001b[3;35mNone\u001b[0m,\n",
       "            \u001b[33mTags\u001b[0m=\u001b[1m{\u001b[0m\u001b[1m}\u001b[0m,\n",
       "            \u001b[33mLabels\u001b[0m=\u001b[1m[\u001b[0m\u001b[1m]\u001b[0m\n",
       "        \u001b[1m)\u001b[0m,\n",
       "        \u001b[33mdeletion\u001b[0m=\u001b[3;35mNone\u001b[0m\n",
       "    \u001b[1m)\u001b[0m\n",
       "\u001b[1m]\u001b[0m\n"
      ]
     },
     "metadata": {},
     "output_type": "display_data"
    }
   ],
   "source": [
    "rprint(deployment_list)"
   ]
  },
  {
   "cell_type": "markdown",
   "metadata": {},
   "source": [
    "**Deploy to AWS S3**\n",
    "\n",
    "You could set the ``s3dir_config=\"s3://bucket/...\"`` to tell that you want to deploy to AWS S3."
   ]
  },
  {
   "cell_type": "code",
   "execution_count": 14,
   "metadata": {
    "ExecuteTime": {
     "end_time": "2023-05-17T03:48:59.178101Z",
     "start_time": "2023-05-17T03:48:58.758041Z"
    },
    "collapsed": false,
    "jupyter": {
     "outputs_hidden": false
    },
    "tags": []
   },
   "outputs": [
    {
     "name": "stdout",
     "output_type": "stream",
     "text": [
      "+----- ⏱ 🟢 Start 'deploy config file to S3' -----------------------------------+\n",
      "| \n",
      "| 🚀️ deploy config file s3://878625312159-us-east-1-artifacts/projects/config_pattern/patterns/multi_env_json/my_project.json ...\n",
      "| preview at: https://us-east-1.console.aws.amazon.com/s3/object/878625312159-us-east-1-artifacts?prefix=projects/config_pattern/patterns/multi_env_json/my_project.json\n",
      "| done!\n",
      "| \n",
      "+----- ⏰ 🟢 End 'deploy config file to S3', elapsed = 0.21 sec -----------------+\n",
      "+----- ⏱ 🟢 Start 'deploy config file to S3' -----------------------------------+\n",
      "| \n",
      "| 🚀️ deploy config file s3://878625312159-us-east-1-artifacts/projects/config_pattern/patterns/multi_env_json/my_project-dev.json ...\n",
      "| preview at: https://us-east-1.console.aws.amazon.com/s3/object/878625312159-us-east-1-artifacts?prefix=projects/config_pattern/patterns/multi_env_json/my_project-dev.json\n",
      "| done!\n",
      "| \n",
      "+----- ⏰ 🟢 End 'deploy config file to S3', elapsed = 0.08 sec -----------------+\n",
      "+----- ⏱ 🟢 Start 'deploy config file to S3' -----------------------------------+\n",
      "| \n",
      "| 🚀️ deploy config file s3://878625312159-us-east-1-artifacts/projects/config_pattern/patterns/multi_env_json/my_project-int.json ...\n",
      "| preview at: https://us-east-1.console.aws.amazon.com/s3/object/878625312159-us-east-1-artifacts?prefix=projects/config_pattern/patterns/multi_env_json/my_project-int.json\n",
      "| done!\n",
      "| \n",
      "+----- ⏰ 🟢 End 'deploy config file to S3', elapsed = 0.10 sec -----------------+\n",
      "+----- ⏱ 🟢 Start 'deploy config file to S3' -----------------------------------+\n",
      "| \n",
      "| 🚀️ deploy config file s3://878625312159-us-east-1-artifacts/projects/config_pattern/patterns/multi_env_json/my_project-prod.json ...\n",
      "| preview at: https://us-east-1.console.aws.amazon.com/s3/object/878625312159-us-east-1-artifacts?prefix=projects/config_pattern/patterns/multi_env_json/my_project-prod.json\n",
      "| done!\n",
      "| \n",
      "+----- ⏰ 🟢 End 'deploy config file to S3', elapsed = 0.11 sec -----------------+\n"
     ]
    }
   ],
   "source": [
    "# Deploy config to AWS S3 Store\n",
    "s3dir_config = f\"s3://{bsm.aws_account_id}-us-east-1-artifacts/projects/config_pattern/patterns/multi_env_json/\"\n",
    "deployment_list = config.deploy(\n",
    "    bsm=bsm,\n",
    "    s3dir_config=s3dir_config,\n",
    ")"
   ]
  },
  {
   "cell_type": "code",
   "execution_count": 15,
   "metadata": {
    "tags": []
   },
   "outputs": [
    {
     "data": {
      "text/html": [
       "<pre style=\"white-space:pre;overflow-x:auto;line-height:normal;font-family:Menlo,'DejaVu Sans Mono',consolas,'Courier New',monospace\"><span style=\"font-weight: bold\">[</span>\n",
       "    <span style=\"color: #800080; text-decoration-color: #800080; font-weight: bold\">ConfigDeployment</span><span style=\"font-weight: bold\">(</span>\n",
       "        <span style=\"color: #808000; text-decoration-color: #808000\">parameter_name</span>=<span style=\"color: #008000; text-decoration-color: #008000\">'my_project'</span>,\n",
       "        <span style=\"color: #808000; text-decoration-color: #808000\">parameter_data</span>=<span style=\"font-weight: bold\">{</span>\n",
       "            <span style=\"color: #008000; text-decoration-color: #008000\">'data'</span>: <span style=\"font-weight: bold\">{</span>\n",
       "                <span style=\"color: #008000; text-decoration-color: #008000\">'_shared'</span>: <span style=\"font-weight: bold\">{</span><span style=\"color: #008000; text-decoration-color: #008000\">'*.project_name'</span>: <span style=\"color: #008000; text-decoration-color: #008000\">'my_project'</span><span style=\"font-weight: bold\">}</span>,\n",
       "                <span style=\"color: #008000; text-decoration-color: #008000\">'dev'</span>: <span style=\"font-weight: bold\">{</span><span style=\"color: #008000; text-decoration-color: #008000\">'username'</span>: <span style=\"color: #008000; text-decoration-color: #008000\">'dev.user'</span><span style=\"font-weight: bold\">}</span>,\n",
       "                <span style=\"color: #008000; text-decoration-color: #008000\">'int'</span>: <span style=\"font-weight: bold\">{</span><span style=\"color: #008000; text-decoration-color: #008000\">'username'</span>: <span style=\"color: #008000; text-decoration-color: #008000\">'int.user'</span><span style=\"font-weight: bold\">}</span>,\n",
       "                <span style=\"color: #008000; text-decoration-color: #008000\">'prod'</span>: <span style=\"font-weight: bold\">{</span><span style=\"color: #008000; text-decoration-color: #008000\">'username'</span>: <span style=\"color: #008000; text-decoration-color: #008000\">'prod.user'</span><span style=\"font-weight: bold\">}</span>\n",
       "            <span style=\"font-weight: bold\">}</span>,\n",
       "            <span style=\"color: #008000; text-decoration-color: #008000\">'secret_data'</span>: <span style=\"font-weight: bold\">{</span>\n",
       "                <span style=\"color: #008000; text-decoration-color: #008000\">'_shared'</span>: <span style=\"font-weight: bold\">{}</span>,\n",
       "                <span style=\"color: #008000; text-decoration-color: #008000\">'dev'</span>: <span style=\"font-weight: bold\">{</span><span style=\"color: #008000; text-decoration-color: #008000\">'password'</span>: <span style=\"color: #008000; text-decoration-color: #008000\">'dev.password'</span><span style=\"font-weight: bold\">}</span>,\n",
       "                <span style=\"color: #008000; text-decoration-color: #008000\">'int'</span>: <span style=\"font-weight: bold\">{</span><span style=\"color: #008000; text-decoration-color: #008000\">'password'</span>: <span style=\"color: #008000; text-decoration-color: #008000\">'int.password'</span><span style=\"font-weight: bold\">}</span>,\n",
       "                <span style=\"color: #008000; text-decoration-color: #008000\">'prod'</span>: <span style=\"font-weight: bold\">{</span><span style=\"color: #008000; text-decoration-color: #008000\">'password'</span>: <span style=\"color: #008000; text-decoration-color: #008000\">'prod.password'</span><span style=\"font-weight: bold\">}</span>\n",
       "            <span style=\"font-weight: bold\">}</span>\n",
       "        <span style=\"font-weight: bold\">}</span>,\n",
       "        <span style=\"color: #808000; text-decoration-color: #808000\">project_name</span>=<span style=\"color: #008000; text-decoration-color: #008000\">'my_project'</span>,\n",
       "        <span style=\"color: #808000; text-decoration-color: #808000\">env_name</span>=<span style=\"color: #008000; text-decoration-color: #008000\">'all'</span>,\n",
       "        <span style=\"color: #808000; text-decoration-color: #808000\">deployment</span>=<span style=\"color: #800080; text-decoration-color: #800080; font-weight: bold\">S3Object</span><span style=\"font-weight: bold\">(</span>\n",
       "            <span style=\"color: #808000; text-decoration-color: #808000\">expiration</span>=<span style=\"color: #800080; text-decoration-color: #800080; font-style: italic\">None</span>,\n",
       "            <span style=\"color: #808000; text-decoration-color: #808000\">etag</span>=<span style=\"color: #008000; text-decoration-color: #008000\">'\"e851a25b45b9606ddd65fef7105b64ba\"'</span>,\n",
       "            <span style=\"color: #808000; text-decoration-color: #808000\">checksum_crc32</span>=<span style=\"color: #800080; text-decoration-color: #800080; font-style: italic\">None</span>,\n",
       "            <span style=\"color: #808000; text-decoration-color: #808000\">checksum_crc32c</span>=<span style=\"color: #800080; text-decoration-color: #800080; font-style: italic\">None</span>,\n",
       "            <span style=\"color: #808000; text-decoration-color: #808000\">checksum_sha1</span>=<span style=\"color: #800080; text-decoration-color: #800080; font-style: italic\">None</span>,\n",
       "            <span style=\"color: #808000; text-decoration-color: #808000\">checksum_sha256</span>=<span style=\"color: #800080; text-decoration-color: #800080; font-style: italic\">None</span>,\n",
       "            <span style=\"color: #808000; text-decoration-color: #808000\">server_side_encryption</span>=<span style=\"color: #008000; text-decoration-color: #008000\">'AES256'</span>,\n",
       "            <span style=\"color: #808000; text-decoration-color: #808000\">version_id</span>=<span style=\"color: #800080; text-decoration-color: #800080; font-style: italic\">None</span>,\n",
       "            <span style=\"color: #808000; text-decoration-color: #808000\">sse_customer_algorithm</span>=<span style=\"color: #800080; text-decoration-color: #800080; font-style: italic\">None</span>,\n",
       "            <span style=\"color: #808000; text-decoration-color: #808000\">sse_customer_key_md5</span>=<span style=\"color: #800080; text-decoration-color: #800080; font-style: italic\">None</span>,\n",
       "            <span style=\"color: #808000; text-decoration-color: #808000\">see_kms_key_id</span>=<span style=\"color: #800080; text-decoration-color: #800080; font-style: italic\">None</span>,\n",
       "            <span style=\"color: #808000; text-decoration-color: #808000\">sse_kms_encryption_context</span>=<span style=\"color: #800080; text-decoration-color: #800080; font-style: italic\">None</span>,\n",
       "            <span style=\"color: #808000; text-decoration-color: #808000\">bucket_key_enabled</span>=<span style=\"color: #800080; text-decoration-color: #800080; font-style: italic\">None</span>,\n",
       "            <span style=\"color: #808000; text-decoration-color: #808000\">request_charged</span>=<span style=\"color: #800080; text-decoration-color: #800080; font-style: italic\">None</span>\n",
       "        <span style=\"font-weight: bold\">)</span>,\n",
       "        <span style=\"color: #808000; text-decoration-color: #808000\">deletion</span>=<span style=\"color: #800080; text-decoration-color: #800080; font-style: italic\">None</span>\n",
       "    <span style=\"font-weight: bold\">)</span>,\n",
       "    <span style=\"color: #800080; text-decoration-color: #800080; font-weight: bold\">ConfigDeployment</span><span style=\"font-weight: bold\">(</span>\n",
       "        <span style=\"color: #808000; text-decoration-color: #808000\">parameter_name</span>=<span style=\"color: #008000; text-decoration-color: #008000\">'my_project-dev'</span>,\n",
       "        <span style=\"color: #808000; text-decoration-color: #808000\">parameter_data</span>=<span style=\"font-weight: bold\">{</span>\n",
       "            <span style=\"color: #008000; text-decoration-color: #008000\">'data'</span>: <span style=\"font-weight: bold\">{</span><span style=\"color: #008000; text-decoration-color: #008000\">'_shared'</span>: <span style=\"font-weight: bold\">{</span><span style=\"color: #008000; text-decoration-color: #008000\">'*.project_name'</span>: <span style=\"color: #008000; text-decoration-color: #008000\">'my_project'</span><span style=\"font-weight: bold\">}</span>, <span style=\"color: #008000; text-decoration-color: #008000\">'dev'</span>: <span style=\"font-weight: bold\">{</span><span style=\"color: #008000; text-decoration-color: #008000\">'username'</span>: <span style=\"color: #008000; text-decoration-color: #008000\">'dev.user'</span><span style=\"font-weight: bold\">}}</span>,\n",
       "            <span style=\"color: #008000; text-decoration-color: #008000\">'secret_data'</span>: <span style=\"font-weight: bold\">{</span><span style=\"color: #008000; text-decoration-color: #008000\">'_shared'</span>: <span style=\"font-weight: bold\">{}</span>, <span style=\"color: #008000; text-decoration-color: #008000\">'dev'</span>: <span style=\"font-weight: bold\">{</span><span style=\"color: #008000; text-decoration-color: #008000\">'password'</span>: <span style=\"color: #008000; text-decoration-color: #008000\">'dev.password'</span><span style=\"font-weight: bold\">}}</span>\n",
       "        <span style=\"font-weight: bold\">}</span>,\n",
       "        <span style=\"color: #808000; text-decoration-color: #808000\">project_name</span>=<span style=\"color: #008000; text-decoration-color: #008000\">'my_project'</span>,\n",
       "        <span style=\"color: #808000; text-decoration-color: #808000\">env_name</span>=<span style=\"color: #008000; text-decoration-color: #008000\">'dev'</span>,\n",
       "        <span style=\"color: #808000; text-decoration-color: #808000\">deployment</span>=<span style=\"color: #800080; text-decoration-color: #800080; font-weight: bold\">S3Object</span><span style=\"font-weight: bold\">(</span>\n",
       "            <span style=\"color: #808000; text-decoration-color: #808000\">expiration</span>=<span style=\"color: #800080; text-decoration-color: #800080; font-style: italic\">None</span>,\n",
       "            <span style=\"color: #808000; text-decoration-color: #808000\">etag</span>=<span style=\"color: #008000; text-decoration-color: #008000\">'\"ac411b52f2670c32151cb4100dd224a7\"'</span>,\n",
       "            <span style=\"color: #808000; text-decoration-color: #808000\">checksum_crc32</span>=<span style=\"color: #800080; text-decoration-color: #800080; font-style: italic\">None</span>,\n",
       "            <span style=\"color: #808000; text-decoration-color: #808000\">checksum_crc32c</span>=<span style=\"color: #800080; text-decoration-color: #800080; font-style: italic\">None</span>,\n",
       "            <span style=\"color: #808000; text-decoration-color: #808000\">checksum_sha1</span>=<span style=\"color: #800080; text-decoration-color: #800080; font-style: italic\">None</span>,\n",
       "            <span style=\"color: #808000; text-decoration-color: #808000\">checksum_sha256</span>=<span style=\"color: #800080; text-decoration-color: #800080; font-style: italic\">None</span>,\n",
       "            <span style=\"color: #808000; text-decoration-color: #808000\">server_side_encryption</span>=<span style=\"color: #008000; text-decoration-color: #008000\">'AES256'</span>,\n",
       "            <span style=\"color: #808000; text-decoration-color: #808000\">version_id</span>=<span style=\"color: #800080; text-decoration-color: #800080; font-style: italic\">None</span>,\n",
       "            <span style=\"color: #808000; text-decoration-color: #808000\">sse_customer_algorithm</span>=<span style=\"color: #800080; text-decoration-color: #800080; font-style: italic\">None</span>,\n",
       "            <span style=\"color: #808000; text-decoration-color: #808000\">sse_customer_key_md5</span>=<span style=\"color: #800080; text-decoration-color: #800080; font-style: italic\">None</span>,\n",
       "            <span style=\"color: #808000; text-decoration-color: #808000\">see_kms_key_id</span>=<span style=\"color: #800080; text-decoration-color: #800080; font-style: italic\">None</span>,\n",
       "            <span style=\"color: #808000; text-decoration-color: #808000\">sse_kms_encryption_context</span>=<span style=\"color: #800080; text-decoration-color: #800080; font-style: italic\">None</span>,\n",
       "            <span style=\"color: #808000; text-decoration-color: #808000\">bucket_key_enabled</span>=<span style=\"color: #800080; text-decoration-color: #800080; font-style: italic\">None</span>,\n",
       "            <span style=\"color: #808000; text-decoration-color: #808000\">request_charged</span>=<span style=\"color: #800080; text-decoration-color: #800080; font-style: italic\">None</span>\n",
       "        <span style=\"font-weight: bold\">)</span>,\n",
       "        <span style=\"color: #808000; text-decoration-color: #808000\">deletion</span>=<span style=\"color: #800080; text-decoration-color: #800080; font-style: italic\">None</span>\n",
       "    <span style=\"font-weight: bold\">)</span>,\n",
       "    <span style=\"color: #800080; text-decoration-color: #800080; font-weight: bold\">ConfigDeployment</span><span style=\"font-weight: bold\">(</span>\n",
       "        <span style=\"color: #808000; text-decoration-color: #808000\">parameter_name</span>=<span style=\"color: #008000; text-decoration-color: #008000\">'my_project-int'</span>,\n",
       "        <span style=\"color: #808000; text-decoration-color: #808000\">parameter_data</span>=<span style=\"font-weight: bold\">{</span>\n",
       "            <span style=\"color: #008000; text-decoration-color: #008000\">'data'</span>: <span style=\"font-weight: bold\">{</span><span style=\"color: #008000; text-decoration-color: #008000\">'_shared'</span>: <span style=\"font-weight: bold\">{</span><span style=\"color: #008000; text-decoration-color: #008000\">'*.project_name'</span>: <span style=\"color: #008000; text-decoration-color: #008000\">'my_project'</span><span style=\"font-weight: bold\">}</span>, <span style=\"color: #008000; text-decoration-color: #008000\">'int'</span>: <span style=\"font-weight: bold\">{</span><span style=\"color: #008000; text-decoration-color: #008000\">'username'</span>: <span style=\"color: #008000; text-decoration-color: #008000\">'int.user'</span><span style=\"font-weight: bold\">}}</span>,\n",
       "            <span style=\"color: #008000; text-decoration-color: #008000\">'secret_data'</span>: <span style=\"font-weight: bold\">{</span><span style=\"color: #008000; text-decoration-color: #008000\">'_shared'</span>: <span style=\"font-weight: bold\">{}</span>, <span style=\"color: #008000; text-decoration-color: #008000\">'int'</span>: <span style=\"font-weight: bold\">{</span><span style=\"color: #008000; text-decoration-color: #008000\">'password'</span>: <span style=\"color: #008000; text-decoration-color: #008000\">'int.password'</span><span style=\"font-weight: bold\">}}</span>\n",
       "        <span style=\"font-weight: bold\">}</span>,\n",
       "        <span style=\"color: #808000; text-decoration-color: #808000\">project_name</span>=<span style=\"color: #008000; text-decoration-color: #008000\">'my_project'</span>,\n",
       "        <span style=\"color: #808000; text-decoration-color: #808000\">env_name</span>=<span style=\"color: #008000; text-decoration-color: #008000\">'int'</span>,\n",
       "        <span style=\"color: #808000; text-decoration-color: #808000\">deployment</span>=<span style=\"color: #800080; text-decoration-color: #800080; font-weight: bold\">S3Object</span><span style=\"font-weight: bold\">(</span>\n",
       "            <span style=\"color: #808000; text-decoration-color: #808000\">expiration</span>=<span style=\"color: #800080; text-decoration-color: #800080; font-style: italic\">None</span>,\n",
       "            <span style=\"color: #808000; text-decoration-color: #808000\">etag</span>=<span style=\"color: #008000; text-decoration-color: #008000\">'\"7163f20371e6da6c6b4e28b807339cf5\"'</span>,\n",
       "            <span style=\"color: #808000; text-decoration-color: #808000\">checksum_crc32</span>=<span style=\"color: #800080; text-decoration-color: #800080; font-style: italic\">None</span>,\n",
       "            <span style=\"color: #808000; text-decoration-color: #808000\">checksum_crc32c</span>=<span style=\"color: #800080; text-decoration-color: #800080; font-style: italic\">None</span>,\n",
       "            <span style=\"color: #808000; text-decoration-color: #808000\">checksum_sha1</span>=<span style=\"color: #800080; text-decoration-color: #800080; font-style: italic\">None</span>,\n",
       "            <span style=\"color: #808000; text-decoration-color: #808000\">checksum_sha256</span>=<span style=\"color: #800080; text-decoration-color: #800080; font-style: italic\">None</span>,\n",
       "            <span style=\"color: #808000; text-decoration-color: #808000\">server_side_encryption</span>=<span style=\"color: #008000; text-decoration-color: #008000\">'AES256'</span>,\n",
       "            <span style=\"color: #808000; text-decoration-color: #808000\">version_id</span>=<span style=\"color: #800080; text-decoration-color: #800080; font-style: italic\">None</span>,\n",
       "            <span style=\"color: #808000; text-decoration-color: #808000\">sse_customer_algorithm</span>=<span style=\"color: #800080; text-decoration-color: #800080; font-style: italic\">None</span>,\n",
       "            <span style=\"color: #808000; text-decoration-color: #808000\">sse_customer_key_md5</span>=<span style=\"color: #800080; text-decoration-color: #800080; font-style: italic\">None</span>,\n",
       "            <span style=\"color: #808000; text-decoration-color: #808000\">see_kms_key_id</span>=<span style=\"color: #800080; text-decoration-color: #800080; font-style: italic\">None</span>,\n",
       "            <span style=\"color: #808000; text-decoration-color: #808000\">sse_kms_encryption_context</span>=<span style=\"color: #800080; text-decoration-color: #800080; font-style: italic\">None</span>,\n",
       "            <span style=\"color: #808000; text-decoration-color: #808000\">bucket_key_enabled</span>=<span style=\"color: #800080; text-decoration-color: #800080; font-style: italic\">None</span>,\n",
       "            <span style=\"color: #808000; text-decoration-color: #808000\">request_charged</span>=<span style=\"color: #800080; text-decoration-color: #800080; font-style: italic\">None</span>\n",
       "        <span style=\"font-weight: bold\">)</span>,\n",
       "        <span style=\"color: #808000; text-decoration-color: #808000\">deletion</span>=<span style=\"color: #800080; text-decoration-color: #800080; font-style: italic\">None</span>\n",
       "    <span style=\"font-weight: bold\">)</span>,\n",
       "    <span style=\"color: #800080; text-decoration-color: #800080; font-weight: bold\">ConfigDeployment</span><span style=\"font-weight: bold\">(</span>\n",
       "        <span style=\"color: #808000; text-decoration-color: #808000\">parameter_name</span>=<span style=\"color: #008000; text-decoration-color: #008000\">'my_project-prod'</span>,\n",
       "        <span style=\"color: #808000; text-decoration-color: #808000\">parameter_data</span>=<span style=\"font-weight: bold\">{</span>\n",
       "            <span style=\"color: #008000; text-decoration-color: #008000\">'data'</span>: <span style=\"font-weight: bold\">{</span><span style=\"color: #008000; text-decoration-color: #008000\">'_shared'</span>: <span style=\"font-weight: bold\">{</span><span style=\"color: #008000; text-decoration-color: #008000\">'*.project_name'</span>: <span style=\"color: #008000; text-decoration-color: #008000\">'my_project'</span><span style=\"font-weight: bold\">}</span>, <span style=\"color: #008000; text-decoration-color: #008000\">'prod'</span>: <span style=\"font-weight: bold\">{</span><span style=\"color: #008000; text-decoration-color: #008000\">'username'</span>: <span style=\"color: #008000; text-decoration-color: #008000\">'prod.user'</span><span style=\"font-weight: bold\">}}</span>,\n",
       "            <span style=\"color: #008000; text-decoration-color: #008000\">'secret_data'</span>: <span style=\"font-weight: bold\">{</span><span style=\"color: #008000; text-decoration-color: #008000\">'_shared'</span>: <span style=\"font-weight: bold\">{}</span>, <span style=\"color: #008000; text-decoration-color: #008000\">'prod'</span>: <span style=\"font-weight: bold\">{</span><span style=\"color: #008000; text-decoration-color: #008000\">'password'</span>: <span style=\"color: #008000; text-decoration-color: #008000\">'prod.password'</span><span style=\"font-weight: bold\">}}</span>\n",
       "        <span style=\"font-weight: bold\">}</span>,\n",
       "        <span style=\"color: #808000; text-decoration-color: #808000\">project_name</span>=<span style=\"color: #008000; text-decoration-color: #008000\">'my_project'</span>,\n",
       "        <span style=\"color: #808000; text-decoration-color: #808000\">env_name</span>=<span style=\"color: #008000; text-decoration-color: #008000\">'prod'</span>,\n",
       "        <span style=\"color: #808000; text-decoration-color: #808000\">deployment</span>=<span style=\"color: #800080; text-decoration-color: #800080; font-weight: bold\">S3Object</span><span style=\"font-weight: bold\">(</span>\n",
       "            <span style=\"color: #808000; text-decoration-color: #808000\">expiration</span>=<span style=\"color: #800080; text-decoration-color: #800080; font-style: italic\">None</span>,\n",
       "            <span style=\"color: #808000; text-decoration-color: #808000\">etag</span>=<span style=\"color: #008000; text-decoration-color: #008000\">'\"9f709ac7c27b0912a37d368db37cd96c\"'</span>,\n",
       "            <span style=\"color: #808000; text-decoration-color: #808000\">checksum_crc32</span>=<span style=\"color: #800080; text-decoration-color: #800080; font-style: italic\">None</span>,\n",
       "            <span style=\"color: #808000; text-decoration-color: #808000\">checksum_crc32c</span>=<span style=\"color: #800080; text-decoration-color: #800080; font-style: italic\">None</span>,\n",
       "            <span style=\"color: #808000; text-decoration-color: #808000\">checksum_sha1</span>=<span style=\"color: #800080; text-decoration-color: #800080; font-style: italic\">None</span>,\n",
       "            <span style=\"color: #808000; text-decoration-color: #808000\">checksum_sha256</span>=<span style=\"color: #800080; text-decoration-color: #800080; font-style: italic\">None</span>,\n",
       "            <span style=\"color: #808000; text-decoration-color: #808000\">server_side_encryption</span>=<span style=\"color: #008000; text-decoration-color: #008000\">'AES256'</span>,\n",
       "            <span style=\"color: #808000; text-decoration-color: #808000\">version_id</span>=<span style=\"color: #800080; text-decoration-color: #800080; font-style: italic\">None</span>,\n",
       "            <span style=\"color: #808000; text-decoration-color: #808000\">sse_customer_algorithm</span>=<span style=\"color: #800080; text-decoration-color: #800080; font-style: italic\">None</span>,\n",
       "            <span style=\"color: #808000; text-decoration-color: #808000\">sse_customer_key_md5</span>=<span style=\"color: #800080; text-decoration-color: #800080; font-style: italic\">None</span>,\n",
       "            <span style=\"color: #808000; text-decoration-color: #808000\">see_kms_key_id</span>=<span style=\"color: #800080; text-decoration-color: #800080; font-style: italic\">None</span>,\n",
       "            <span style=\"color: #808000; text-decoration-color: #808000\">sse_kms_encryption_context</span>=<span style=\"color: #800080; text-decoration-color: #800080; font-style: italic\">None</span>,\n",
       "            <span style=\"color: #808000; text-decoration-color: #808000\">bucket_key_enabled</span>=<span style=\"color: #800080; text-decoration-color: #800080; font-style: italic\">None</span>,\n",
       "            <span style=\"color: #808000; text-decoration-color: #808000\">request_charged</span>=<span style=\"color: #800080; text-decoration-color: #800080; font-style: italic\">None</span>\n",
       "        <span style=\"font-weight: bold\">)</span>,\n",
       "        <span style=\"color: #808000; text-decoration-color: #808000\">deletion</span>=<span style=\"color: #800080; text-decoration-color: #800080; font-style: italic\">None</span>\n",
       "    <span style=\"font-weight: bold\">)</span>\n",
       "<span style=\"font-weight: bold\">]</span>\n",
       "</pre>\n"
      ],
      "text/plain": [
       "\u001b[1m[\u001b[0m\n",
       "    \u001b[1;35mConfigDeployment\u001b[0m\u001b[1m(\u001b[0m\n",
       "        \u001b[33mparameter_name\u001b[0m=\u001b[32m'my_project'\u001b[0m,\n",
       "        \u001b[33mparameter_data\u001b[0m=\u001b[1m{\u001b[0m\n",
       "            \u001b[32m'data'\u001b[0m: \u001b[1m{\u001b[0m\n",
       "                \u001b[32m'_shared'\u001b[0m: \u001b[1m{\u001b[0m\u001b[32m'*.project_name'\u001b[0m: \u001b[32m'my_project'\u001b[0m\u001b[1m}\u001b[0m,\n",
       "                \u001b[32m'dev'\u001b[0m: \u001b[1m{\u001b[0m\u001b[32m'username'\u001b[0m: \u001b[32m'dev.user'\u001b[0m\u001b[1m}\u001b[0m,\n",
       "                \u001b[32m'int'\u001b[0m: \u001b[1m{\u001b[0m\u001b[32m'username'\u001b[0m: \u001b[32m'int.user'\u001b[0m\u001b[1m}\u001b[0m,\n",
       "                \u001b[32m'prod'\u001b[0m: \u001b[1m{\u001b[0m\u001b[32m'username'\u001b[0m: \u001b[32m'prod.user'\u001b[0m\u001b[1m}\u001b[0m\n",
       "            \u001b[1m}\u001b[0m,\n",
       "            \u001b[32m'secret_data'\u001b[0m: \u001b[1m{\u001b[0m\n",
       "                \u001b[32m'_shared'\u001b[0m: \u001b[1m{\u001b[0m\u001b[1m}\u001b[0m,\n",
       "                \u001b[32m'dev'\u001b[0m: \u001b[1m{\u001b[0m\u001b[32m'password'\u001b[0m: \u001b[32m'dev.password'\u001b[0m\u001b[1m}\u001b[0m,\n",
       "                \u001b[32m'int'\u001b[0m: \u001b[1m{\u001b[0m\u001b[32m'password'\u001b[0m: \u001b[32m'int.password'\u001b[0m\u001b[1m}\u001b[0m,\n",
       "                \u001b[32m'prod'\u001b[0m: \u001b[1m{\u001b[0m\u001b[32m'password'\u001b[0m: \u001b[32m'prod.password'\u001b[0m\u001b[1m}\u001b[0m\n",
       "            \u001b[1m}\u001b[0m\n",
       "        \u001b[1m}\u001b[0m,\n",
       "        \u001b[33mproject_name\u001b[0m=\u001b[32m'my_project'\u001b[0m,\n",
       "        \u001b[33menv_name\u001b[0m=\u001b[32m'all'\u001b[0m,\n",
       "        \u001b[33mdeployment\u001b[0m=\u001b[1;35mS3Object\u001b[0m\u001b[1m(\u001b[0m\n",
       "            \u001b[33mexpiration\u001b[0m=\u001b[3;35mNone\u001b[0m,\n",
       "            \u001b[33metag\u001b[0m=\u001b[32m'\"e851a25b45b9606ddd65fef7105b64ba\"'\u001b[0m,\n",
       "            \u001b[33mchecksum_crc32\u001b[0m=\u001b[3;35mNone\u001b[0m,\n",
       "            \u001b[33mchecksum_crc32c\u001b[0m=\u001b[3;35mNone\u001b[0m,\n",
       "            \u001b[33mchecksum_sha1\u001b[0m=\u001b[3;35mNone\u001b[0m,\n",
       "            \u001b[33mchecksum_sha256\u001b[0m=\u001b[3;35mNone\u001b[0m,\n",
       "            \u001b[33mserver_side_encryption\u001b[0m=\u001b[32m'AES256'\u001b[0m,\n",
       "            \u001b[33mversion_id\u001b[0m=\u001b[3;35mNone\u001b[0m,\n",
       "            \u001b[33msse_customer_algorithm\u001b[0m=\u001b[3;35mNone\u001b[0m,\n",
       "            \u001b[33msse_customer_key_md5\u001b[0m=\u001b[3;35mNone\u001b[0m,\n",
       "            \u001b[33msee_kms_key_id\u001b[0m=\u001b[3;35mNone\u001b[0m,\n",
       "            \u001b[33msse_kms_encryption_context\u001b[0m=\u001b[3;35mNone\u001b[0m,\n",
       "            \u001b[33mbucket_key_enabled\u001b[0m=\u001b[3;35mNone\u001b[0m,\n",
       "            \u001b[33mrequest_charged\u001b[0m=\u001b[3;35mNone\u001b[0m\n",
       "        \u001b[1m)\u001b[0m,\n",
       "        \u001b[33mdeletion\u001b[0m=\u001b[3;35mNone\u001b[0m\n",
       "    \u001b[1m)\u001b[0m,\n",
       "    \u001b[1;35mConfigDeployment\u001b[0m\u001b[1m(\u001b[0m\n",
       "        \u001b[33mparameter_name\u001b[0m=\u001b[32m'my_project-dev'\u001b[0m,\n",
       "        \u001b[33mparameter_data\u001b[0m=\u001b[1m{\u001b[0m\n",
       "            \u001b[32m'data'\u001b[0m: \u001b[1m{\u001b[0m\u001b[32m'_shared'\u001b[0m: \u001b[1m{\u001b[0m\u001b[32m'*.project_name'\u001b[0m: \u001b[32m'my_project'\u001b[0m\u001b[1m}\u001b[0m, \u001b[32m'dev'\u001b[0m: \u001b[1m{\u001b[0m\u001b[32m'username'\u001b[0m: \u001b[32m'dev.user'\u001b[0m\u001b[1m}\u001b[0m\u001b[1m}\u001b[0m,\n",
       "            \u001b[32m'secret_data'\u001b[0m: \u001b[1m{\u001b[0m\u001b[32m'_shared'\u001b[0m: \u001b[1m{\u001b[0m\u001b[1m}\u001b[0m, \u001b[32m'dev'\u001b[0m: \u001b[1m{\u001b[0m\u001b[32m'password'\u001b[0m: \u001b[32m'dev.password'\u001b[0m\u001b[1m}\u001b[0m\u001b[1m}\u001b[0m\n",
       "        \u001b[1m}\u001b[0m,\n",
       "        \u001b[33mproject_name\u001b[0m=\u001b[32m'my_project'\u001b[0m,\n",
       "        \u001b[33menv_name\u001b[0m=\u001b[32m'dev'\u001b[0m,\n",
       "        \u001b[33mdeployment\u001b[0m=\u001b[1;35mS3Object\u001b[0m\u001b[1m(\u001b[0m\n",
       "            \u001b[33mexpiration\u001b[0m=\u001b[3;35mNone\u001b[0m,\n",
       "            \u001b[33metag\u001b[0m=\u001b[32m'\"ac411b52f2670c32151cb4100dd224a7\"'\u001b[0m,\n",
       "            \u001b[33mchecksum_crc32\u001b[0m=\u001b[3;35mNone\u001b[0m,\n",
       "            \u001b[33mchecksum_crc32c\u001b[0m=\u001b[3;35mNone\u001b[0m,\n",
       "            \u001b[33mchecksum_sha1\u001b[0m=\u001b[3;35mNone\u001b[0m,\n",
       "            \u001b[33mchecksum_sha256\u001b[0m=\u001b[3;35mNone\u001b[0m,\n",
       "            \u001b[33mserver_side_encryption\u001b[0m=\u001b[32m'AES256'\u001b[0m,\n",
       "            \u001b[33mversion_id\u001b[0m=\u001b[3;35mNone\u001b[0m,\n",
       "            \u001b[33msse_customer_algorithm\u001b[0m=\u001b[3;35mNone\u001b[0m,\n",
       "            \u001b[33msse_customer_key_md5\u001b[0m=\u001b[3;35mNone\u001b[0m,\n",
       "            \u001b[33msee_kms_key_id\u001b[0m=\u001b[3;35mNone\u001b[0m,\n",
       "            \u001b[33msse_kms_encryption_context\u001b[0m=\u001b[3;35mNone\u001b[0m,\n",
       "            \u001b[33mbucket_key_enabled\u001b[0m=\u001b[3;35mNone\u001b[0m,\n",
       "            \u001b[33mrequest_charged\u001b[0m=\u001b[3;35mNone\u001b[0m\n",
       "        \u001b[1m)\u001b[0m,\n",
       "        \u001b[33mdeletion\u001b[0m=\u001b[3;35mNone\u001b[0m\n",
       "    \u001b[1m)\u001b[0m,\n",
       "    \u001b[1;35mConfigDeployment\u001b[0m\u001b[1m(\u001b[0m\n",
       "        \u001b[33mparameter_name\u001b[0m=\u001b[32m'my_project-int'\u001b[0m,\n",
       "        \u001b[33mparameter_data\u001b[0m=\u001b[1m{\u001b[0m\n",
       "            \u001b[32m'data'\u001b[0m: \u001b[1m{\u001b[0m\u001b[32m'_shared'\u001b[0m: \u001b[1m{\u001b[0m\u001b[32m'*.project_name'\u001b[0m: \u001b[32m'my_project'\u001b[0m\u001b[1m}\u001b[0m, \u001b[32m'int'\u001b[0m: \u001b[1m{\u001b[0m\u001b[32m'username'\u001b[0m: \u001b[32m'int.user'\u001b[0m\u001b[1m}\u001b[0m\u001b[1m}\u001b[0m,\n",
       "            \u001b[32m'secret_data'\u001b[0m: \u001b[1m{\u001b[0m\u001b[32m'_shared'\u001b[0m: \u001b[1m{\u001b[0m\u001b[1m}\u001b[0m, \u001b[32m'int'\u001b[0m: \u001b[1m{\u001b[0m\u001b[32m'password'\u001b[0m: \u001b[32m'int.password'\u001b[0m\u001b[1m}\u001b[0m\u001b[1m}\u001b[0m\n",
       "        \u001b[1m}\u001b[0m,\n",
       "        \u001b[33mproject_name\u001b[0m=\u001b[32m'my_project'\u001b[0m,\n",
       "        \u001b[33menv_name\u001b[0m=\u001b[32m'int'\u001b[0m,\n",
       "        \u001b[33mdeployment\u001b[0m=\u001b[1;35mS3Object\u001b[0m\u001b[1m(\u001b[0m\n",
       "            \u001b[33mexpiration\u001b[0m=\u001b[3;35mNone\u001b[0m,\n",
       "            \u001b[33metag\u001b[0m=\u001b[32m'\"7163f20371e6da6c6b4e28b807339cf5\"'\u001b[0m,\n",
       "            \u001b[33mchecksum_crc32\u001b[0m=\u001b[3;35mNone\u001b[0m,\n",
       "            \u001b[33mchecksum_crc32c\u001b[0m=\u001b[3;35mNone\u001b[0m,\n",
       "            \u001b[33mchecksum_sha1\u001b[0m=\u001b[3;35mNone\u001b[0m,\n",
       "            \u001b[33mchecksum_sha256\u001b[0m=\u001b[3;35mNone\u001b[0m,\n",
       "            \u001b[33mserver_side_encryption\u001b[0m=\u001b[32m'AES256'\u001b[0m,\n",
       "            \u001b[33mversion_id\u001b[0m=\u001b[3;35mNone\u001b[0m,\n",
       "            \u001b[33msse_customer_algorithm\u001b[0m=\u001b[3;35mNone\u001b[0m,\n",
       "            \u001b[33msse_customer_key_md5\u001b[0m=\u001b[3;35mNone\u001b[0m,\n",
       "            \u001b[33msee_kms_key_id\u001b[0m=\u001b[3;35mNone\u001b[0m,\n",
       "            \u001b[33msse_kms_encryption_context\u001b[0m=\u001b[3;35mNone\u001b[0m,\n",
       "            \u001b[33mbucket_key_enabled\u001b[0m=\u001b[3;35mNone\u001b[0m,\n",
       "            \u001b[33mrequest_charged\u001b[0m=\u001b[3;35mNone\u001b[0m\n",
       "        \u001b[1m)\u001b[0m,\n",
       "        \u001b[33mdeletion\u001b[0m=\u001b[3;35mNone\u001b[0m\n",
       "    \u001b[1m)\u001b[0m,\n",
       "    \u001b[1;35mConfigDeployment\u001b[0m\u001b[1m(\u001b[0m\n",
       "        \u001b[33mparameter_name\u001b[0m=\u001b[32m'my_project-prod'\u001b[0m,\n",
       "        \u001b[33mparameter_data\u001b[0m=\u001b[1m{\u001b[0m\n",
       "            \u001b[32m'data'\u001b[0m: \u001b[1m{\u001b[0m\u001b[32m'_shared'\u001b[0m: \u001b[1m{\u001b[0m\u001b[32m'*.project_name'\u001b[0m: \u001b[32m'my_project'\u001b[0m\u001b[1m}\u001b[0m, \u001b[32m'prod'\u001b[0m: \u001b[1m{\u001b[0m\u001b[32m'username'\u001b[0m: \u001b[32m'prod.user'\u001b[0m\u001b[1m}\u001b[0m\u001b[1m}\u001b[0m,\n",
       "            \u001b[32m'secret_data'\u001b[0m: \u001b[1m{\u001b[0m\u001b[32m'_shared'\u001b[0m: \u001b[1m{\u001b[0m\u001b[1m}\u001b[0m, \u001b[32m'prod'\u001b[0m: \u001b[1m{\u001b[0m\u001b[32m'password'\u001b[0m: \u001b[32m'prod.password'\u001b[0m\u001b[1m}\u001b[0m\u001b[1m}\u001b[0m\n",
       "        \u001b[1m}\u001b[0m,\n",
       "        \u001b[33mproject_name\u001b[0m=\u001b[32m'my_project'\u001b[0m,\n",
       "        \u001b[33menv_name\u001b[0m=\u001b[32m'prod'\u001b[0m,\n",
       "        \u001b[33mdeployment\u001b[0m=\u001b[1;35mS3Object\u001b[0m\u001b[1m(\u001b[0m\n",
       "            \u001b[33mexpiration\u001b[0m=\u001b[3;35mNone\u001b[0m,\n",
       "            \u001b[33metag\u001b[0m=\u001b[32m'\"9f709ac7c27b0912a37d368db37cd96c\"'\u001b[0m,\n",
       "            \u001b[33mchecksum_crc32\u001b[0m=\u001b[3;35mNone\u001b[0m,\n",
       "            \u001b[33mchecksum_crc32c\u001b[0m=\u001b[3;35mNone\u001b[0m,\n",
       "            \u001b[33mchecksum_sha1\u001b[0m=\u001b[3;35mNone\u001b[0m,\n",
       "            \u001b[33mchecksum_sha256\u001b[0m=\u001b[3;35mNone\u001b[0m,\n",
       "            \u001b[33mserver_side_encryption\u001b[0m=\u001b[32m'AES256'\u001b[0m,\n",
       "            \u001b[33mversion_id\u001b[0m=\u001b[3;35mNone\u001b[0m,\n",
       "            \u001b[33msse_customer_algorithm\u001b[0m=\u001b[3;35mNone\u001b[0m,\n",
       "            \u001b[33msse_customer_key_md5\u001b[0m=\u001b[3;35mNone\u001b[0m,\n",
       "            \u001b[33msee_kms_key_id\u001b[0m=\u001b[3;35mNone\u001b[0m,\n",
       "            \u001b[33msse_kms_encryption_context\u001b[0m=\u001b[3;35mNone\u001b[0m,\n",
       "            \u001b[33mbucket_key_enabled\u001b[0m=\u001b[3;35mNone\u001b[0m,\n",
       "            \u001b[33mrequest_charged\u001b[0m=\u001b[3;35mNone\u001b[0m\n",
       "        \u001b[1m)\u001b[0m,\n",
       "        \u001b[33mdeletion\u001b[0m=\u001b[3;35mNone\u001b[0m\n",
       "    \u001b[1m)\u001b[0m\n",
       "\u001b[1m]\u001b[0m\n"
      ]
     },
     "metadata": {},
     "output_type": "display_data"
    }
   ],
   "source": [
    "rprint(deployment_list)"
   ]
  },
  {
   "cell_type": "markdown",
   "metadata": {},
   "source": [
    "### Access Your Config Values in Application Code\n",
    "\n",
    "In your application code, you could create the config object by reading the config storage. Then use the Python config object to access those config values."
   ]
  },
  {
   "cell_type": "code",
   "execution_count": 16,
   "metadata": {
    "ExecuteTime": {
     "end_time": "2023-05-17T03:48:59.181093Z",
     "start_time": "2023-05-17T03:48:59.176331Z"
    },
    "collapsed": false,
    "jupyter": {
     "outputs_hidden": false
    },
    "tags": []
   },
   "outputs": [],
   "source": [
    "from rich import print as rprint\n",
    "from boto_session_manager import BotoSesManager\n",
    "\n",
    "# create boto session manager object for AWS SDK authentication\n",
    "bsm = BotoSesManager(profile_name=\"bmt_app_dev_us_east_1\")\n",
    "parameter_name = \"my_project-dev\"\n",
    "s3dir_config = f\"s3://{bsm.aws_account_id}-us-east-1-artifacts/projects/config_pattern/patterns/multi_env_json/\""
   ]
  },
  {
   "cell_type": "markdown",
   "metadata": {},
   "source": [
    "You could read the config from AWS Parameter Store. For security reason, assuming that you want to load the \"dev\" config, you won't be able to access any of the \"prod\" config from your application runtime."
   ]
  },
  {
   "cell_type": "code",
   "execution_count": 17,
   "metadata": {
    "collapsed": false,
    "jupyter": {
     "outputs_hidden": false
    },
    "tags": []
   },
   "outputs": [
    {
     "data": {
      "text/html": [
       "<pre style=\"white-space:pre;overflow-x:auto;line-height:normal;font-family:Menlo,'DejaVu Sans Mono',consolas,'Courier New',monospace\"><span style=\"color: #800080; text-decoration-color: #800080; font-weight: bold\">Config</span><span style=\"font-weight: bold\">(</span>\n",
       "    <span style=\"color: #808000; text-decoration-color: #808000\">data</span>=<span style=\"font-weight: bold\">{</span><span style=\"color: #008000; text-decoration-color: #008000\">'_shared'</span>: <span style=\"font-weight: bold\">{</span><span style=\"color: #008000; text-decoration-color: #008000\">'*.project_name'</span>: <span style=\"color: #008000; text-decoration-color: #008000\">'my_project'</span><span style=\"font-weight: bold\">}</span>, <span style=\"color: #008000; text-decoration-color: #008000\">'dev'</span>: <span style=\"font-weight: bold\">{</span><span style=\"color: #008000; text-decoration-color: #008000\">'username'</span>: <span style=\"color: #008000; text-decoration-color: #008000\">'dev.user'</span><span style=\"font-weight: bold\">}}</span>,\n",
       "    <span style=\"color: #808000; text-decoration-color: #808000\">secret_data</span>=<span style=\"font-weight: bold\">{</span><span style=\"color: #008000; text-decoration-color: #008000\">'_shared'</span>: <span style=\"font-weight: bold\">{}</span>, <span style=\"color: #008000; text-decoration-color: #008000\">'dev'</span>: <span style=\"font-weight: bold\">{</span><span style=\"color: #008000; text-decoration-color: #008000\">'password'</span>: <span style=\"color: #008000; text-decoration-color: #008000\">'dev.password'</span><span style=\"font-weight: bold\">}}</span>,\n",
       "    <span style=\"color: #808000; text-decoration-color: #808000\">Env</span>=<span style=\"font-weight: bold\">&lt;</span><span style=\"color: #ff00ff; text-decoration-color: #ff00ff; font-weight: bold\">class</span><span style=\"color: #000000; text-decoration-color: #000000\"> </span><span style=\"color: #008000; text-decoration-color: #008000\">'__main__.Env'</span><span style=\"color: #000000; text-decoration-color: #000000\">&gt;,</span>\n",
       "<span style=\"color: #000000; text-decoration-color: #000000\">    </span><span style=\"color: #808000; text-decoration-color: #808000\">EnvEnum</span><span style=\"color: #000000; text-decoration-color: #000000\">=&lt;enum </span><span style=\"color: #008000; text-decoration-color: #008000\">'EnvEnum'</span><span style=\"font-weight: bold\">&gt;</span>,\n",
       "    <span style=\"color: #808000; text-decoration-color: #808000\">_applied_data</span>=<span style=\"font-weight: bold\">{</span><span style=\"color: #008000; text-decoration-color: #008000\">'dev'</span>: <span style=\"font-weight: bold\">{</span><span style=\"color: #008000; text-decoration-color: #008000\">'username'</span>: <span style=\"color: #008000; text-decoration-color: #008000\">'dev.user'</span>, <span style=\"color: #008000; text-decoration-color: #008000\">'project_name'</span>: <span style=\"color: #008000; text-decoration-color: #008000\">'my_project'</span><span style=\"font-weight: bold\">}}</span>,\n",
       "    <span style=\"color: #808000; text-decoration-color: #808000\">_applied_secret_data</span>=<span style=\"font-weight: bold\">{</span><span style=\"color: #008000; text-decoration-color: #008000\">'dev'</span>: <span style=\"font-weight: bold\">{</span><span style=\"color: #008000; text-decoration-color: #008000\">'password'</span>: <span style=\"color: #008000; text-decoration-color: #008000\">'dev.password'</span><span style=\"font-weight: bold\">}}</span>,\n",
       "    <span style=\"color: #808000; text-decoration-color: #808000\">_merged</span>=<span style=\"font-weight: bold\">{</span><span style=\"color: #008000; text-decoration-color: #008000\">'dev'</span>: <span style=\"font-weight: bold\">{</span><span style=\"color: #008000; text-decoration-color: #008000\">'username'</span>: <span style=\"color: #008000; text-decoration-color: #008000\">'dev.user'</span>, <span style=\"color: #008000; text-decoration-color: #008000\">'project_name'</span>: <span style=\"color: #008000; text-decoration-color: #008000\">'my_project'</span>, <span style=\"color: #008000; text-decoration-color: #008000\">'password'</span>: <span style=\"color: #008000; text-decoration-color: #008000\">'dev.password'</span><span style=\"font-weight: bold\">}}</span>\n",
       "<span style=\"font-weight: bold\">)</span>\n",
       "</pre>\n"
      ],
      "text/plain": [
       "\u001b[1;35mConfig\u001b[0m\u001b[1m(\u001b[0m\n",
       "    \u001b[33mdata\u001b[0m=\u001b[1m{\u001b[0m\u001b[32m'_shared'\u001b[0m: \u001b[1m{\u001b[0m\u001b[32m'*.project_name'\u001b[0m: \u001b[32m'my_project'\u001b[0m\u001b[1m}\u001b[0m, \u001b[32m'dev'\u001b[0m: \u001b[1m{\u001b[0m\u001b[32m'username'\u001b[0m: \u001b[32m'dev.user'\u001b[0m\u001b[1m}\u001b[0m\u001b[1m}\u001b[0m,\n",
       "    \u001b[33msecret_data\u001b[0m=\u001b[1m{\u001b[0m\u001b[32m'_shared'\u001b[0m: \u001b[1m{\u001b[0m\u001b[1m}\u001b[0m, \u001b[32m'dev'\u001b[0m: \u001b[1m{\u001b[0m\u001b[32m'password'\u001b[0m: \u001b[32m'dev.password'\u001b[0m\u001b[1m}\u001b[0m\u001b[1m}\u001b[0m,\n",
       "    \u001b[33mEnv\u001b[0m=\u001b[1m<\u001b[0m\u001b[1;95mclass\u001b[0m\u001b[39m \u001b[0m\u001b[32m'__main__.Env'\u001b[0m\u001b[39m>,\u001b[0m\n",
       "\u001b[39m    \u001b[0m\u001b[33mEnvEnum\u001b[0m\u001b[39m=<enum \u001b[0m\u001b[32m'EnvEnum'\u001b[0m\u001b[1m>\u001b[0m,\n",
       "    \u001b[33m_applied_data\u001b[0m=\u001b[1m{\u001b[0m\u001b[32m'dev'\u001b[0m: \u001b[1m{\u001b[0m\u001b[32m'username'\u001b[0m: \u001b[32m'dev.user'\u001b[0m, \u001b[32m'project_name'\u001b[0m: \u001b[32m'my_project'\u001b[0m\u001b[1m}\u001b[0m\u001b[1m}\u001b[0m,\n",
       "    \u001b[33m_applied_secret_data\u001b[0m=\u001b[1m{\u001b[0m\u001b[32m'dev'\u001b[0m: \u001b[1m{\u001b[0m\u001b[32m'password'\u001b[0m: \u001b[32m'dev.password'\u001b[0m\u001b[1m}\u001b[0m\u001b[1m}\u001b[0m,\n",
       "    \u001b[33m_merged\u001b[0m=\u001b[1m{\u001b[0m\u001b[32m'dev'\u001b[0m: \u001b[1m{\u001b[0m\u001b[32m'username'\u001b[0m: \u001b[32m'dev.user'\u001b[0m, \u001b[32m'project_name'\u001b[0m: \u001b[32m'my_project'\u001b[0m, \u001b[32m'password'\u001b[0m: \u001b[32m'dev.password'\u001b[0m\u001b[1m}\u001b[0m\u001b[1m}\u001b[0m\n",
       "\u001b[1m)\u001b[0m\n"
      ]
     },
     "metadata": {},
     "output_type": "display_data"
    },
    {
     "data": {
      "text/html": [
       "<pre style=\"white-space:pre;overflow-x:auto;line-height:normal;font-family:Menlo,'DejaVu Sans Mono',consolas,'Courier New',monospace\"><span style=\"color: #800080; text-decoration-color: #800080; font-weight: bold\">Env</span><span style=\"font-weight: bold\">(</span><span style=\"color: #808000; text-decoration-color: #808000\">project_name</span>=<span style=\"color: #008000; text-decoration-color: #008000\">'my_project'</span>, <span style=\"color: #808000; text-decoration-color: #808000\">env_name</span>=<span style=\"color: #008000; text-decoration-color: #008000\">'dev'</span>, <span style=\"color: #808000; text-decoration-color: #808000\">username</span>=<span style=\"color: #008000; text-decoration-color: #008000\">'dev.user'</span>, <span style=\"color: #808000; text-decoration-color: #808000\">password</span>=<span style=\"color: #008000; text-decoration-color: #008000\">'dev.password'</span><span style=\"font-weight: bold\">)</span>\n",
       "</pre>\n"
      ],
      "text/plain": [
       "\u001b[1;35mEnv\u001b[0m\u001b[1m(\u001b[0m\u001b[33mproject_name\u001b[0m=\u001b[32m'my_project'\u001b[0m, \u001b[33menv_name\u001b[0m=\u001b[32m'dev'\u001b[0m, \u001b[33musername\u001b[0m=\u001b[32m'dev.user'\u001b[0m, \u001b[33mpassword\u001b[0m=\u001b[32m'dev.password'\u001b[0m\u001b[1m)\u001b[0m\n"
      ]
     },
     "metadata": {},
     "output_type": "display_data"
    },
    {
     "data": {
      "text/html": [
       "<pre style=\"white-space:pre;overflow-x:auto;line-height:normal;font-family:Menlo,'DejaVu Sans Mono',consolas,'Courier New',monospace\">config.dev.username = <span style=\"color: #008000; text-decoration-color: #008000\">'dev.user'</span>\n",
       "</pre>\n"
      ],
      "text/plain": [
       "config.dev.username = \u001b[32m'dev.user'\u001b[0m\n"
      ]
     },
     "metadata": {},
     "output_type": "display_data"
    },
    {
     "data": {
      "text/html": [
       "<pre style=\"white-space:pre;overflow-x:auto;line-height:normal;font-family:Menlo,'DejaVu Sans Mono',consolas,'Courier New',monospace\">config.dev.password = <span style=\"color: #008000; text-decoration-color: #008000\">'dev.password'</span>\n",
       "</pre>\n"
      ],
      "text/plain": [
       "config.dev.password = \u001b[32m'dev.password'\u001b[0m\n"
      ]
     },
     "metadata": {},
     "output_type": "display_data"
    }
   ],
   "source": [
    "config = Config.read(\n",
    "    env_class=Env,\n",
    "    env_enum_class=EnvEnum,\n",
    "    bsm=bsm,\n",
    "    parameter_name=parameter_name,\n",
    "    parameter_with_encryption=True,\n",
    ")\n",
    "rprint(config)\n",
    "rprint(config.dev)\n",
    "rprint(f\"config.dev.username = {config.dev.username!r}\")\n",
    "rprint(f\"config.dev.password = {config.dev.password!r}\")"
   ]
  },
  {
   "cell_type": "code",
   "execution_count": 18,
   "metadata": {
    "ExecuteTime": {
     "end_time": "2023-05-17T03:40:37.654273Z",
     "start_time": "2023-05-17T03:40:37.644890Z"
    },
    "collapsed": false,
    "jupyter": {
     "outputs_hidden": false
    },
    "tags": []
   },
   "outputs": [
    {
     "ename": "KeyError",
     "evalue": "'prod'",
     "output_type": "error",
     "traceback": [
      "\u001b[0;31m---------------------------------------------------------------------------\u001b[0m",
      "\u001b[0;31mKeyError\u001b[0m                                  Traceback (most recent call last)",
      "Cell \u001b[0;32mIn[18], line 2\u001b[0m\n\u001b[1;32m      1\u001b[0m \u001b[38;5;66;03m# You can NOT access prod config from dev environment\u001b[39;00m\n\u001b[0;32m----> 2\u001b[0m \u001b[43mconfig\u001b[49m\u001b[38;5;241;43m.\u001b[39;49m\u001b[43mprod\u001b[49m\n",
      "Cell \u001b[0;32mIn[8], line 42\u001b[0m, in \u001b[0;36mConfig.prod\u001b[0;34m(self)\u001b[0m\n\u001b[1;32m     40\u001b[0m \u001b[38;5;129m@property\u001b[39m\n\u001b[1;32m     41\u001b[0m \u001b[38;5;28;01mdef\u001b[39;00m \u001b[38;5;21mprod\u001b[39m(\u001b[38;5;28mself\u001b[39m) \u001b[38;5;241m-\u001b[39m\u001b[38;5;241m>\u001b[39m Env:\n\u001b[0;32m---> 42\u001b[0m     \u001b[38;5;28;01mreturn\u001b[39;00m \u001b[38;5;28;43mself\u001b[39;49m\u001b[38;5;241;43m.\u001b[39;49m\u001b[43mget_env\u001b[49m\u001b[43m(\u001b[49m\u001b[43mEnvEnum\u001b[49m\u001b[38;5;241;43m.\u001b[39;49m\u001b[43mprod\u001b[49m\u001b[43m)\u001b[49m\n",
      "File \u001b[0;32m~/Documents/GitHub/config_patterns-project/config_patterns/patterns/multi_env_json/impl.py:405\u001b[0m, in \u001b[0;36mBaseConfig.get_env\u001b[0;34m(self, env_name)\u001b[0m\n\u001b[1;32m    403\u001b[0m \u001b[38;5;28;01mdef\u001b[39;00m \u001b[38;5;21mget_env\u001b[39m(\u001b[38;5;28mself\u001b[39m, env_name: T\u001b[38;5;241m.\u001b[39mUnion[\u001b[38;5;28mstr\u001b[39m, BaseEnvEnum]):\n\u001b[1;32m    404\u001b[0m     env_name \u001b[38;5;241m=\u001b[39m BaseEnvEnum\u001b[38;5;241m.\u001b[39mensure_str(env_name)\n\u001b[0;32m--> 405\u001b[0m     data \u001b[38;5;241m=\u001b[39m copy\u001b[38;5;241m.\u001b[39mdeepcopy(\u001b[38;5;28;43mself\u001b[39;49m\u001b[38;5;241;43m.\u001b[39;49m\u001b[43m_merged\u001b[49m\u001b[43m[\u001b[49m\u001b[43menv_name\u001b[49m\u001b[43m]\u001b[49m)\n\u001b[1;32m    406\u001b[0m     data[\u001b[38;5;124m\"\u001b[39m\u001b[38;5;124menv_name\u001b[39m\u001b[38;5;124m\"\u001b[39m] \u001b[38;5;241m=\u001b[39m env_name\n\u001b[1;32m    407\u001b[0m     \u001b[38;5;28;01mtry\u001b[39;00m:\n",
      "\u001b[0;31mKeyError\u001b[0m: 'prod'"
     ]
    }
   ],
   "source": [
    "# You can NOT access prod config from dev environment\n",
    "config.prod"
   ]
  },
  {
   "cell_type": "markdown",
   "metadata": {},
   "source": [
    "You could also read the config from AWS S3."
   ]
  },
  {
   "cell_type": "code",
   "execution_count": 19,
   "metadata": {
    "collapsed": false,
    "jupyter": {
     "outputs_hidden": false
    },
    "tags": []
   },
   "outputs": [
    {
     "data": {
      "text/html": [
       "<pre style=\"white-space:pre;overflow-x:auto;line-height:normal;font-family:Menlo,'DejaVu Sans Mono',consolas,'Courier New',monospace\"><span style=\"color: #800080; text-decoration-color: #800080; font-weight: bold\">Config</span><span style=\"font-weight: bold\">(</span>\n",
       "    <span style=\"color: #808000; text-decoration-color: #808000\">data</span>=<span style=\"font-weight: bold\">{</span><span style=\"color: #008000; text-decoration-color: #008000\">'_shared'</span>: <span style=\"font-weight: bold\">{</span><span style=\"color: #008000; text-decoration-color: #008000\">'*.project_name'</span>: <span style=\"color: #008000; text-decoration-color: #008000\">'my_project'</span><span style=\"font-weight: bold\">}</span>, <span style=\"color: #008000; text-decoration-color: #008000\">'prod'</span>: <span style=\"font-weight: bold\">{</span><span style=\"color: #008000; text-decoration-color: #008000\">'username'</span>: <span style=\"color: #008000; text-decoration-color: #008000\">'prod.user'</span><span style=\"font-weight: bold\">}}</span>,\n",
       "    <span style=\"color: #808000; text-decoration-color: #808000\">secret_data</span>=<span style=\"font-weight: bold\">{</span><span style=\"color: #008000; text-decoration-color: #008000\">'_shared'</span>: <span style=\"font-weight: bold\">{}</span>, <span style=\"color: #008000; text-decoration-color: #008000\">'prod'</span>: <span style=\"font-weight: bold\">{</span><span style=\"color: #008000; text-decoration-color: #008000\">'password'</span>: <span style=\"color: #008000; text-decoration-color: #008000\">'prod.password'</span><span style=\"font-weight: bold\">}}</span>,\n",
       "    <span style=\"color: #808000; text-decoration-color: #808000\">Env</span>=<span style=\"font-weight: bold\">&lt;</span><span style=\"color: #ff00ff; text-decoration-color: #ff00ff; font-weight: bold\">class</span><span style=\"color: #000000; text-decoration-color: #000000\"> </span><span style=\"color: #008000; text-decoration-color: #008000\">'__main__.Env'</span><span style=\"color: #000000; text-decoration-color: #000000\">&gt;,</span>\n",
       "<span style=\"color: #000000; text-decoration-color: #000000\">    </span><span style=\"color: #808000; text-decoration-color: #808000\">EnvEnum</span><span style=\"color: #000000; text-decoration-color: #000000\">=&lt;enum </span><span style=\"color: #008000; text-decoration-color: #008000\">'EnvEnum'</span><span style=\"font-weight: bold\">&gt;</span>,\n",
       "    <span style=\"color: #808000; text-decoration-color: #808000\">_applied_data</span>=<span style=\"font-weight: bold\">{</span><span style=\"color: #008000; text-decoration-color: #008000\">'prod'</span>: <span style=\"font-weight: bold\">{</span><span style=\"color: #008000; text-decoration-color: #008000\">'username'</span>: <span style=\"color: #008000; text-decoration-color: #008000\">'prod.user'</span>, <span style=\"color: #008000; text-decoration-color: #008000\">'project_name'</span>: <span style=\"color: #008000; text-decoration-color: #008000\">'my_project'</span><span style=\"font-weight: bold\">}}</span>,\n",
       "    <span style=\"color: #808000; text-decoration-color: #808000\">_applied_secret_data</span>=<span style=\"font-weight: bold\">{</span><span style=\"color: #008000; text-decoration-color: #008000\">'prod'</span>: <span style=\"font-weight: bold\">{</span><span style=\"color: #008000; text-decoration-color: #008000\">'password'</span>: <span style=\"color: #008000; text-decoration-color: #008000\">'prod.password'</span><span style=\"font-weight: bold\">}}</span>,\n",
       "    <span style=\"color: #808000; text-decoration-color: #808000\">_merged</span>=<span style=\"font-weight: bold\">{</span><span style=\"color: #008000; text-decoration-color: #008000\">'prod'</span>: <span style=\"font-weight: bold\">{</span><span style=\"color: #008000; text-decoration-color: #008000\">'username'</span>: <span style=\"color: #008000; text-decoration-color: #008000\">'prod.user'</span>, <span style=\"color: #008000; text-decoration-color: #008000\">'project_name'</span>: <span style=\"color: #008000; text-decoration-color: #008000\">'my_project'</span>, <span style=\"color: #008000; text-decoration-color: #008000\">'password'</span>: <span style=\"color: #008000; text-decoration-color: #008000\">'prod.password'</span><span style=\"font-weight: bold\">}}</span>\n",
       "<span style=\"font-weight: bold\">)</span>\n",
       "</pre>\n"
      ],
      "text/plain": [
       "\u001b[1;35mConfig\u001b[0m\u001b[1m(\u001b[0m\n",
       "    \u001b[33mdata\u001b[0m=\u001b[1m{\u001b[0m\u001b[32m'_shared'\u001b[0m: \u001b[1m{\u001b[0m\u001b[32m'*.project_name'\u001b[0m: \u001b[32m'my_project'\u001b[0m\u001b[1m}\u001b[0m, \u001b[32m'prod'\u001b[0m: \u001b[1m{\u001b[0m\u001b[32m'username'\u001b[0m: \u001b[32m'prod.user'\u001b[0m\u001b[1m}\u001b[0m\u001b[1m}\u001b[0m,\n",
       "    \u001b[33msecret_data\u001b[0m=\u001b[1m{\u001b[0m\u001b[32m'_shared'\u001b[0m: \u001b[1m{\u001b[0m\u001b[1m}\u001b[0m, \u001b[32m'prod'\u001b[0m: \u001b[1m{\u001b[0m\u001b[32m'password'\u001b[0m: \u001b[32m'prod.password'\u001b[0m\u001b[1m}\u001b[0m\u001b[1m}\u001b[0m,\n",
       "    \u001b[33mEnv\u001b[0m=\u001b[1m<\u001b[0m\u001b[1;95mclass\u001b[0m\u001b[39m \u001b[0m\u001b[32m'__main__.Env'\u001b[0m\u001b[39m>,\u001b[0m\n",
       "\u001b[39m    \u001b[0m\u001b[33mEnvEnum\u001b[0m\u001b[39m=<enum \u001b[0m\u001b[32m'EnvEnum'\u001b[0m\u001b[1m>\u001b[0m,\n",
       "    \u001b[33m_applied_data\u001b[0m=\u001b[1m{\u001b[0m\u001b[32m'prod'\u001b[0m: \u001b[1m{\u001b[0m\u001b[32m'username'\u001b[0m: \u001b[32m'prod.user'\u001b[0m, \u001b[32m'project_name'\u001b[0m: \u001b[32m'my_project'\u001b[0m\u001b[1m}\u001b[0m\u001b[1m}\u001b[0m,\n",
       "    \u001b[33m_applied_secret_data\u001b[0m=\u001b[1m{\u001b[0m\u001b[32m'prod'\u001b[0m: \u001b[1m{\u001b[0m\u001b[32m'password'\u001b[0m: \u001b[32m'prod.password'\u001b[0m\u001b[1m}\u001b[0m\u001b[1m}\u001b[0m,\n",
       "    \u001b[33m_merged\u001b[0m=\u001b[1m{\u001b[0m\u001b[32m'prod'\u001b[0m: \u001b[1m{\u001b[0m\u001b[32m'username'\u001b[0m: \u001b[32m'prod.user'\u001b[0m, \u001b[32m'project_name'\u001b[0m: \u001b[32m'my_project'\u001b[0m, \u001b[32m'password'\u001b[0m: \u001b[32m'prod.password'\u001b[0m\u001b[1m}\u001b[0m\u001b[1m}\u001b[0m\n",
       "\u001b[1m)\u001b[0m\n"
      ]
     },
     "metadata": {},
     "output_type": "display_data"
    },
    {
     "data": {
      "text/html": [
       "<pre style=\"white-space:pre;overflow-x:auto;line-height:normal;font-family:Menlo,'DejaVu Sans Mono',consolas,'Courier New',monospace\"><span style=\"color: #800080; text-decoration-color: #800080; font-weight: bold\">Env</span><span style=\"font-weight: bold\">(</span><span style=\"color: #808000; text-decoration-color: #808000\">project_name</span>=<span style=\"color: #008000; text-decoration-color: #008000\">'my_project'</span>, <span style=\"color: #808000; text-decoration-color: #808000\">env_name</span>=<span style=\"color: #008000; text-decoration-color: #008000\">'prod'</span>, <span style=\"color: #808000; text-decoration-color: #808000\">username</span>=<span style=\"color: #008000; text-decoration-color: #008000\">'prod.user'</span>, <span style=\"color: #808000; text-decoration-color: #808000\">password</span>=<span style=\"color: #008000; text-decoration-color: #008000\">'prod.password'</span><span style=\"font-weight: bold\">)</span>\n",
       "</pre>\n"
      ],
      "text/plain": [
       "\u001b[1;35mEnv\u001b[0m\u001b[1m(\u001b[0m\u001b[33mproject_name\u001b[0m=\u001b[32m'my_project'\u001b[0m, \u001b[33menv_name\u001b[0m=\u001b[32m'prod'\u001b[0m, \u001b[33musername\u001b[0m=\u001b[32m'prod.user'\u001b[0m, \u001b[33mpassword\u001b[0m=\u001b[32m'prod.password'\u001b[0m\u001b[1m)\u001b[0m\n"
      ]
     },
     "metadata": {},
     "output_type": "display_data"
    },
    {
     "data": {
      "text/html": [
       "<pre style=\"white-space:pre;overflow-x:auto;line-height:normal;font-family:Menlo,'DejaVu Sans Mono',consolas,'Courier New',monospace\">config.prod.username = <span style=\"color: #008000; text-decoration-color: #008000\">'prod.user'</span>\n",
       "</pre>\n"
      ],
      "text/plain": [
       "config.prod.username = \u001b[32m'prod.user'\u001b[0m\n"
      ]
     },
     "metadata": {},
     "output_type": "display_data"
    },
    {
     "data": {
      "text/html": [
       "<pre style=\"white-space:pre;overflow-x:auto;line-height:normal;font-family:Menlo,'DejaVu Sans Mono',consolas,'Courier New',monospace\">config.prod.password = <span style=\"color: #008000; text-decoration-color: #008000\">'prod.password'</span>\n",
       "</pre>\n"
      ],
      "text/plain": [
       "config.prod.password = \u001b[32m'prod.password'\u001b[0m\n"
      ]
     },
     "metadata": {},
     "output_type": "display_data"
    }
   ],
   "source": [
    "config = Config.read(\n",
    "    env_class=Env,\n",
    "    env_enum_class=EnvEnum,\n",
    "    bsm=bsm,\n",
    "    s3path_config=f\"{s3dir_config}my_project-prod.json\",\n",
    ")\n",
    "rprint(config)\n",
    "rprint(config.prod)\n",
    "rprint(f\"config.prod.username = {config.prod.username!r}\")\n",
    "rprint(f\"config.prod.password = {config.prod.password!r}\")"
   ]
  },
  {
   "cell_type": "markdown",
   "metadata": {},
   "source": [
    "### Deploy Per-Environment Config to Different AWS Accounts\n",
    "\n",
    "Sometimes, you want to deploy the per-environment config to different AWS accounts. However, the ``Config.deploy(bsm=..., ...)`` API only takes one boto3 session. You could use the ``Config.prepare_deploy()`` API to generate a list of ``ConfigDeployment`` object that represents the all-in-one config deployment and per-environment config deployments. Then \n",
    "use the ``ConfigDeployment.deploy_to_ssm_parameter(bsm=..., ...)`` or ``ConfigDeployment.deploy_to_s3(bsm=..., ...)`` method to deploy them to different AWS accounts.\n"
   ]
  },
  {
   "cell_type": "code",
   "execution_count": 20,
   "metadata": {
    "tags": []
   },
   "outputs": [
    {
     "data": {
      "text/html": [
       "<pre style=\"white-space:pre;overflow-x:auto;line-height:normal;font-family:Menlo,'DejaVu Sans Mono',consolas,'Courier New',monospace\"><span style=\"font-weight: bold\">[</span>\n",
       "    <span style=\"color: #800080; text-decoration-color: #800080; font-weight: bold\">ConfigDeployment</span><span style=\"font-weight: bold\">(</span>\n",
       "        <span style=\"color: #808000; text-decoration-color: #808000\">parameter_name</span>=<span style=\"color: #008000; text-decoration-color: #008000\">'my_project'</span>,\n",
       "        <span style=\"color: #808000; text-decoration-color: #808000\">parameter_data</span>=<span style=\"font-weight: bold\">{</span>\n",
       "            <span style=\"color: #008000; text-decoration-color: #008000\">'data'</span>: <span style=\"font-weight: bold\">{</span>\n",
       "                <span style=\"color: #008000; text-decoration-color: #008000\">'_shared'</span>: <span style=\"font-weight: bold\">{</span><span style=\"color: #008000; text-decoration-color: #008000\">'*.project_name'</span>: <span style=\"color: #008000; text-decoration-color: #008000\">'my_project'</span><span style=\"font-weight: bold\">}</span>,\n",
       "                <span style=\"color: #008000; text-decoration-color: #008000\">'dev'</span>: <span style=\"font-weight: bold\">{</span><span style=\"color: #008000; text-decoration-color: #008000\">'username'</span>: <span style=\"color: #008000; text-decoration-color: #008000\">'dev.user'</span><span style=\"font-weight: bold\">}</span>,\n",
       "                <span style=\"color: #008000; text-decoration-color: #008000\">'int'</span>: <span style=\"font-weight: bold\">{</span><span style=\"color: #008000; text-decoration-color: #008000\">'username'</span>: <span style=\"color: #008000; text-decoration-color: #008000\">'int.user'</span><span style=\"font-weight: bold\">}</span>,\n",
       "                <span style=\"color: #008000; text-decoration-color: #008000\">'prod'</span>: <span style=\"font-weight: bold\">{</span><span style=\"color: #008000; text-decoration-color: #008000\">'username'</span>: <span style=\"color: #008000; text-decoration-color: #008000\">'prod.user'</span><span style=\"font-weight: bold\">}</span>\n",
       "            <span style=\"font-weight: bold\">}</span>,\n",
       "            <span style=\"color: #008000; text-decoration-color: #008000\">'secret_data'</span>: <span style=\"font-weight: bold\">{</span>\n",
       "                <span style=\"color: #008000; text-decoration-color: #008000\">'_shared'</span>: <span style=\"font-weight: bold\">{}</span>,\n",
       "                <span style=\"color: #008000; text-decoration-color: #008000\">'dev'</span>: <span style=\"font-weight: bold\">{</span><span style=\"color: #008000; text-decoration-color: #008000\">'password'</span>: <span style=\"color: #008000; text-decoration-color: #008000\">'dev.password'</span><span style=\"font-weight: bold\">}</span>,\n",
       "                <span style=\"color: #008000; text-decoration-color: #008000\">'int'</span>: <span style=\"font-weight: bold\">{</span><span style=\"color: #008000; text-decoration-color: #008000\">'password'</span>: <span style=\"color: #008000; text-decoration-color: #008000\">'int.password'</span><span style=\"font-weight: bold\">}</span>,\n",
       "                <span style=\"color: #008000; text-decoration-color: #008000\">'prod'</span>: <span style=\"font-weight: bold\">{</span><span style=\"color: #008000; text-decoration-color: #008000\">'password'</span>: <span style=\"color: #008000; text-decoration-color: #008000\">'prod.password'</span><span style=\"font-weight: bold\">}</span>\n",
       "            <span style=\"font-weight: bold\">}</span>\n",
       "        <span style=\"font-weight: bold\">}</span>,\n",
       "        <span style=\"color: #808000; text-decoration-color: #808000\">project_name</span>=<span style=\"color: #008000; text-decoration-color: #008000\">'my_project'</span>,\n",
       "        <span style=\"color: #808000; text-decoration-color: #808000\">env_name</span>=<span style=\"color: #008000; text-decoration-color: #008000\">'all'</span>,\n",
       "        <span style=\"color: #808000; text-decoration-color: #808000\">deployment</span>=<span style=\"color: #800080; text-decoration-color: #800080; font-style: italic\">None</span>,\n",
       "        <span style=\"color: #808000; text-decoration-color: #808000\">deletion</span>=<span style=\"color: #800080; text-decoration-color: #800080; font-style: italic\">None</span>\n",
       "    <span style=\"font-weight: bold\">)</span>,\n",
       "    <span style=\"color: #800080; text-decoration-color: #800080; font-weight: bold\">ConfigDeployment</span><span style=\"font-weight: bold\">(</span>\n",
       "        <span style=\"color: #808000; text-decoration-color: #808000\">parameter_name</span>=<span style=\"color: #008000; text-decoration-color: #008000\">'my_project-dev'</span>,\n",
       "        <span style=\"color: #808000; text-decoration-color: #808000\">parameter_data</span>=<span style=\"font-weight: bold\">{</span>\n",
       "            <span style=\"color: #008000; text-decoration-color: #008000\">'data'</span>: <span style=\"font-weight: bold\">{</span><span style=\"color: #008000; text-decoration-color: #008000\">'_shared'</span>: <span style=\"font-weight: bold\">{</span><span style=\"color: #008000; text-decoration-color: #008000\">'*.project_name'</span>: <span style=\"color: #008000; text-decoration-color: #008000\">'my_project'</span><span style=\"font-weight: bold\">}</span>, <span style=\"color: #008000; text-decoration-color: #008000\">'dev'</span>: <span style=\"font-weight: bold\">{</span><span style=\"color: #008000; text-decoration-color: #008000\">'username'</span>: <span style=\"color: #008000; text-decoration-color: #008000\">'dev.user'</span><span style=\"font-weight: bold\">}}</span>,\n",
       "            <span style=\"color: #008000; text-decoration-color: #008000\">'secret_data'</span>: <span style=\"font-weight: bold\">{</span><span style=\"color: #008000; text-decoration-color: #008000\">'_shared'</span>: <span style=\"font-weight: bold\">{}</span>, <span style=\"color: #008000; text-decoration-color: #008000\">'dev'</span>: <span style=\"font-weight: bold\">{</span><span style=\"color: #008000; text-decoration-color: #008000\">'password'</span>: <span style=\"color: #008000; text-decoration-color: #008000\">'dev.password'</span><span style=\"font-weight: bold\">}}</span>\n",
       "        <span style=\"font-weight: bold\">}</span>,\n",
       "        <span style=\"color: #808000; text-decoration-color: #808000\">project_name</span>=<span style=\"color: #008000; text-decoration-color: #008000\">'my_project'</span>,\n",
       "        <span style=\"color: #808000; text-decoration-color: #808000\">env_name</span>=<span style=\"color: #008000; text-decoration-color: #008000\">'dev'</span>,\n",
       "        <span style=\"color: #808000; text-decoration-color: #808000\">deployment</span>=<span style=\"color: #800080; text-decoration-color: #800080; font-style: italic\">None</span>,\n",
       "        <span style=\"color: #808000; text-decoration-color: #808000\">deletion</span>=<span style=\"color: #800080; text-decoration-color: #800080; font-style: italic\">None</span>\n",
       "    <span style=\"font-weight: bold\">)</span>,\n",
       "    <span style=\"color: #800080; text-decoration-color: #800080; font-weight: bold\">ConfigDeployment</span><span style=\"font-weight: bold\">(</span>\n",
       "        <span style=\"color: #808000; text-decoration-color: #808000\">parameter_name</span>=<span style=\"color: #008000; text-decoration-color: #008000\">'my_project-int'</span>,\n",
       "        <span style=\"color: #808000; text-decoration-color: #808000\">parameter_data</span>=<span style=\"font-weight: bold\">{</span>\n",
       "            <span style=\"color: #008000; text-decoration-color: #008000\">'data'</span>: <span style=\"font-weight: bold\">{</span><span style=\"color: #008000; text-decoration-color: #008000\">'_shared'</span>: <span style=\"font-weight: bold\">{</span><span style=\"color: #008000; text-decoration-color: #008000\">'*.project_name'</span>: <span style=\"color: #008000; text-decoration-color: #008000\">'my_project'</span><span style=\"font-weight: bold\">}</span>, <span style=\"color: #008000; text-decoration-color: #008000\">'int'</span>: <span style=\"font-weight: bold\">{</span><span style=\"color: #008000; text-decoration-color: #008000\">'username'</span>: <span style=\"color: #008000; text-decoration-color: #008000\">'int.user'</span><span style=\"font-weight: bold\">}}</span>,\n",
       "            <span style=\"color: #008000; text-decoration-color: #008000\">'secret_data'</span>: <span style=\"font-weight: bold\">{</span><span style=\"color: #008000; text-decoration-color: #008000\">'_shared'</span>: <span style=\"font-weight: bold\">{}</span>, <span style=\"color: #008000; text-decoration-color: #008000\">'int'</span>: <span style=\"font-weight: bold\">{</span><span style=\"color: #008000; text-decoration-color: #008000\">'password'</span>: <span style=\"color: #008000; text-decoration-color: #008000\">'int.password'</span><span style=\"font-weight: bold\">}}</span>\n",
       "        <span style=\"font-weight: bold\">}</span>,\n",
       "        <span style=\"color: #808000; text-decoration-color: #808000\">project_name</span>=<span style=\"color: #008000; text-decoration-color: #008000\">'my_project'</span>,\n",
       "        <span style=\"color: #808000; text-decoration-color: #808000\">env_name</span>=<span style=\"color: #008000; text-decoration-color: #008000\">'int'</span>,\n",
       "        <span style=\"color: #808000; text-decoration-color: #808000\">deployment</span>=<span style=\"color: #800080; text-decoration-color: #800080; font-style: italic\">None</span>,\n",
       "        <span style=\"color: #808000; text-decoration-color: #808000\">deletion</span>=<span style=\"color: #800080; text-decoration-color: #800080; font-style: italic\">None</span>\n",
       "    <span style=\"font-weight: bold\">)</span>,\n",
       "    <span style=\"color: #800080; text-decoration-color: #800080; font-weight: bold\">ConfigDeployment</span><span style=\"font-weight: bold\">(</span>\n",
       "        <span style=\"color: #808000; text-decoration-color: #808000\">parameter_name</span>=<span style=\"color: #008000; text-decoration-color: #008000\">'my_project-prod'</span>,\n",
       "        <span style=\"color: #808000; text-decoration-color: #808000\">parameter_data</span>=<span style=\"font-weight: bold\">{</span>\n",
       "            <span style=\"color: #008000; text-decoration-color: #008000\">'data'</span>: <span style=\"font-weight: bold\">{</span><span style=\"color: #008000; text-decoration-color: #008000\">'_shared'</span>: <span style=\"font-weight: bold\">{</span><span style=\"color: #008000; text-decoration-color: #008000\">'*.project_name'</span>: <span style=\"color: #008000; text-decoration-color: #008000\">'my_project'</span><span style=\"font-weight: bold\">}</span>, <span style=\"color: #008000; text-decoration-color: #008000\">'prod'</span>: <span style=\"font-weight: bold\">{</span><span style=\"color: #008000; text-decoration-color: #008000\">'username'</span>: <span style=\"color: #008000; text-decoration-color: #008000\">'prod.user'</span><span style=\"font-weight: bold\">}}</span>,\n",
       "            <span style=\"color: #008000; text-decoration-color: #008000\">'secret_data'</span>: <span style=\"font-weight: bold\">{</span><span style=\"color: #008000; text-decoration-color: #008000\">'_shared'</span>: <span style=\"font-weight: bold\">{}</span>, <span style=\"color: #008000; text-decoration-color: #008000\">'prod'</span>: <span style=\"font-weight: bold\">{</span><span style=\"color: #008000; text-decoration-color: #008000\">'password'</span>: <span style=\"color: #008000; text-decoration-color: #008000\">'prod.password'</span><span style=\"font-weight: bold\">}}</span>\n",
       "        <span style=\"font-weight: bold\">}</span>,\n",
       "        <span style=\"color: #808000; text-decoration-color: #808000\">project_name</span>=<span style=\"color: #008000; text-decoration-color: #008000\">'my_project'</span>,\n",
       "        <span style=\"color: #808000; text-decoration-color: #808000\">env_name</span>=<span style=\"color: #008000; text-decoration-color: #008000\">'prod'</span>,\n",
       "        <span style=\"color: #808000; text-decoration-color: #808000\">deployment</span>=<span style=\"color: #800080; text-decoration-color: #800080; font-style: italic\">None</span>,\n",
       "        <span style=\"color: #808000; text-decoration-color: #808000\">deletion</span>=<span style=\"color: #800080; text-decoration-color: #800080; font-style: italic\">None</span>\n",
       "    <span style=\"font-weight: bold\">)</span>\n",
       "<span style=\"font-weight: bold\">]</span>\n",
       "</pre>\n"
      ],
      "text/plain": [
       "\u001b[1m[\u001b[0m\n",
       "    \u001b[1;35mConfigDeployment\u001b[0m\u001b[1m(\u001b[0m\n",
       "        \u001b[33mparameter_name\u001b[0m=\u001b[32m'my_project'\u001b[0m,\n",
       "        \u001b[33mparameter_data\u001b[0m=\u001b[1m{\u001b[0m\n",
       "            \u001b[32m'data'\u001b[0m: \u001b[1m{\u001b[0m\n",
       "                \u001b[32m'_shared'\u001b[0m: \u001b[1m{\u001b[0m\u001b[32m'*.project_name'\u001b[0m: \u001b[32m'my_project'\u001b[0m\u001b[1m}\u001b[0m,\n",
       "                \u001b[32m'dev'\u001b[0m: \u001b[1m{\u001b[0m\u001b[32m'username'\u001b[0m: \u001b[32m'dev.user'\u001b[0m\u001b[1m}\u001b[0m,\n",
       "                \u001b[32m'int'\u001b[0m: \u001b[1m{\u001b[0m\u001b[32m'username'\u001b[0m: \u001b[32m'int.user'\u001b[0m\u001b[1m}\u001b[0m,\n",
       "                \u001b[32m'prod'\u001b[0m: \u001b[1m{\u001b[0m\u001b[32m'username'\u001b[0m: \u001b[32m'prod.user'\u001b[0m\u001b[1m}\u001b[0m\n",
       "            \u001b[1m}\u001b[0m,\n",
       "            \u001b[32m'secret_data'\u001b[0m: \u001b[1m{\u001b[0m\n",
       "                \u001b[32m'_shared'\u001b[0m: \u001b[1m{\u001b[0m\u001b[1m}\u001b[0m,\n",
       "                \u001b[32m'dev'\u001b[0m: \u001b[1m{\u001b[0m\u001b[32m'password'\u001b[0m: \u001b[32m'dev.password'\u001b[0m\u001b[1m}\u001b[0m,\n",
       "                \u001b[32m'int'\u001b[0m: \u001b[1m{\u001b[0m\u001b[32m'password'\u001b[0m: \u001b[32m'int.password'\u001b[0m\u001b[1m}\u001b[0m,\n",
       "                \u001b[32m'prod'\u001b[0m: \u001b[1m{\u001b[0m\u001b[32m'password'\u001b[0m: \u001b[32m'prod.password'\u001b[0m\u001b[1m}\u001b[0m\n",
       "            \u001b[1m}\u001b[0m\n",
       "        \u001b[1m}\u001b[0m,\n",
       "        \u001b[33mproject_name\u001b[0m=\u001b[32m'my_project'\u001b[0m,\n",
       "        \u001b[33menv_name\u001b[0m=\u001b[32m'all'\u001b[0m,\n",
       "        \u001b[33mdeployment\u001b[0m=\u001b[3;35mNone\u001b[0m,\n",
       "        \u001b[33mdeletion\u001b[0m=\u001b[3;35mNone\u001b[0m\n",
       "    \u001b[1m)\u001b[0m,\n",
       "    \u001b[1;35mConfigDeployment\u001b[0m\u001b[1m(\u001b[0m\n",
       "        \u001b[33mparameter_name\u001b[0m=\u001b[32m'my_project-dev'\u001b[0m,\n",
       "        \u001b[33mparameter_data\u001b[0m=\u001b[1m{\u001b[0m\n",
       "            \u001b[32m'data'\u001b[0m: \u001b[1m{\u001b[0m\u001b[32m'_shared'\u001b[0m: \u001b[1m{\u001b[0m\u001b[32m'*.project_name'\u001b[0m: \u001b[32m'my_project'\u001b[0m\u001b[1m}\u001b[0m, \u001b[32m'dev'\u001b[0m: \u001b[1m{\u001b[0m\u001b[32m'username'\u001b[0m: \u001b[32m'dev.user'\u001b[0m\u001b[1m}\u001b[0m\u001b[1m}\u001b[0m,\n",
       "            \u001b[32m'secret_data'\u001b[0m: \u001b[1m{\u001b[0m\u001b[32m'_shared'\u001b[0m: \u001b[1m{\u001b[0m\u001b[1m}\u001b[0m, \u001b[32m'dev'\u001b[0m: \u001b[1m{\u001b[0m\u001b[32m'password'\u001b[0m: \u001b[32m'dev.password'\u001b[0m\u001b[1m}\u001b[0m\u001b[1m}\u001b[0m\n",
       "        \u001b[1m}\u001b[0m,\n",
       "        \u001b[33mproject_name\u001b[0m=\u001b[32m'my_project'\u001b[0m,\n",
       "        \u001b[33menv_name\u001b[0m=\u001b[32m'dev'\u001b[0m,\n",
       "        \u001b[33mdeployment\u001b[0m=\u001b[3;35mNone\u001b[0m,\n",
       "        \u001b[33mdeletion\u001b[0m=\u001b[3;35mNone\u001b[0m\n",
       "    \u001b[1m)\u001b[0m,\n",
       "    \u001b[1;35mConfigDeployment\u001b[0m\u001b[1m(\u001b[0m\n",
       "        \u001b[33mparameter_name\u001b[0m=\u001b[32m'my_project-int'\u001b[0m,\n",
       "        \u001b[33mparameter_data\u001b[0m=\u001b[1m{\u001b[0m\n",
       "            \u001b[32m'data'\u001b[0m: \u001b[1m{\u001b[0m\u001b[32m'_shared'\u001b[0m: \u001b[1m{\u001b[0m\u001b[32m'*.project_name'\u001b[0m: \u001b[32m'my_project'\u001b[0m\u001b[1m}\u001b[0m, \u001b[32m'int'\u001b[0m: \u001b[1m{\u001b[0m\u001b[32m'username'\u001b[0m: \u001b[32m'int.user'\u001b[0m\u001b[1m}\u001b[0m\u001b[1m}\u001b[0m,\n",
       "            \u001b[32m'secret_data'\u001b[0m: \u001b[1m{\u001b[0m\u001b[32m'_shared'\u001b[0m: \u001b[1m{\u001b[0m\u001b[1m}\u001b[0m, \u001b[32m'int'\u001b[0m: \u001b[1m{\u001b[0m\u001b[32m'password'\u001b[0m: \u001b[32m'int.password'\u001b[0m\u001b[1m}\u001b[0m\u001b[1m}\u001b[0m\n",
       "        \u001b[1m}\u001b[0m,\n",
       "        \u001b[33mproject_name\u001b[0m=\u001b[32m'my_project'\u001b[0m,\n",
       "        \u001b[33menv_name\u001b[0m=\u001b[32m'int'\u001b[0m,\n",
       "        \u001b[33mdeployment\u001b[0m=\u001b[3;35mNone\u001b[0m,\n",
       "        \u001b[33mdeletion\u001b[0m=\u001b[3;35mNone\u001b[0m\n",
       "    \u001b[1m)\u001b[0m,\n",
       "    \u001b[1;35mConfigDeployment\u001b[0m\u001b[1m(\u001b[0m\n",
       "        \u001b[33mparameter_name\u001b[0m=\u001b[32m'my_project-prod'\u001b[0m,\n",
       "        \u001b[33mparameter_data\u001b[0m=\u001b[1m{\u001b[0m\n",
       "            \u001b[32m'data'\u001b[0m: \u001b[1m{\u001b[0m\u001b[32m'_shared'\u001b[0m: \u001b[1m{\u001b[0m\u001b[32m'*.project_name'\u001b[0m: \u001b[32m'my_project'\u001b[0m\u001b[1m}\u001b[0m, \u001b[32m'prod'\u001b[0m: \u001b[1m{\u001b[0m\u001b[32m'username'\u001b[0m: \u001b[32m'prod.user'\u001b[0m\u001b[1m}\u001b[0m\u001b[1m}\u001b[0m,\n",
       "            \u001b[32m'secret_data'\u001b[0m: \u001b[1m{\u001b[0m\u001b[32m'_shared'\u001b[0m: \u001b[1m{\u001b[0m\u001b[1m}\u001b[0m, \u001b[32m'prod'\u001b[0m: \u001b[1m{\u001b[0m\u001b[32m'password'\u001b[0m: \u001b[32m'prod.password'\u001b[0m\u001b[1m}\u001b[0m\u001b[1m}\u001b[0m\n",
       "        \u001b[1m}\u001b[0m,\n",
       "        \u001b[33mproject_name\u001b[0m=\u001b[32m'my_project'\u001b[0m,\n",
       "        \u001b[33menv_name\u001b[0m=\u001b[32m'prod'\u001b[0m,\n",
       "        \u001b[33mdeployment\u001b[0m=\u001b[3;35mNone\u001b[0m,\n",
       "        \u001b[33mdeletion\u001b[0m=\u001b[3;35mNone\u001b[0m\n",
       "    \u001b[1m)\u001b[0m\n",
       "\u001b[1m]\u001b[0m\n"
      ]
     },
     "metadata": {},
     "output_type": "display_data"
    }
   ],
   "source": [
    "config = Config.read(\n",
    "    env_class=Env,\n",
    "    env_enum_class=EnvEnum,\n",
    "    path_config=path_config,\n",
    "    path_secret_config=path_secret_config,\n",
    ")\n",
    "deployment_list = config.prepare_deploy()\n",
    "rprint(deployment_list)"
   ]
  },
  {
   "cell_type": "code",
   "execution_count": 21,
   "metadata": {
    "tags": []
   },
   "outputs": [
    {
     "name": "stdout",
     "output_type": "stream",
     "text": [
      "+----- ⏱ 🟢 Start 'deploy config to SSM parameter' -----------------------------+\n",
      "| \n",
      "| 🚀️ deploy SSM Parameter 'my_project' ...\n",
      "| preview at: https://us-east-1.console.aws.amazon.com/systems-manager/parameters/my_project/description?region=us-east-1&tab=Table\n",
      "| parameter data is the same as existing one, do nothing.\n",
      "| \n",
      "+----- ⏰ 🟢 End 'deploy config to SSM parameter', elapsed = 0.19 sec -----------+\n"
     ]
    }
   ],
   "source": [
    "_ = deployment_list[0].deploy_to_ssm_parameter(\n",
    "    bsm=bsm, # you can use a different boto3 session to deploy to another AWS account\n",
    "    parameter_with_encryption=True,\n",
    ")"
   ]
  },
  {
   "cell_type": "code",
   "execution_count": 22,
   "metadata": {
    "tags": []
   },
   "outputs": [
    {
     "name": "stdout",
     "output_type": "stream",
     "text": [
      "+----- ⏱ 🟢 Start 'deploy config file to S3' -----------------------------------+\n",
      "| \n",
      "| 🚀️ deploy config file s3://878625312159-us-east-1-artifacts/projects/config_pattern/patterns/multi_env_json/my_project.json ...\n",
      "| preview at: https://us-east-1.console.aws.amazon.com/s3/object/878625312159-us-east-1-artifacts?prefix=projects/config_pattern/patterns/multi_env_json/my_project.json\n",
      "| config data is the same as existing one, do nothing.\n",
      "| \n",
      "+----- ⏰ 🟢 End 'deploy config file to S3', elapsed = 0.04 sec -----------------+\n"
     ]
    }
   ],
   "source": [
    "_ = deployment_list[0].deploy_to_s3(\n",
    "    bsm=bsm, # you can use a different boto3 session to deploy to another AWS account\n",
    "    s3dir_config=s3dir_config, # you can use another S3 bucket on different AWS account\n",
    ")"
   ]
  },
  {
   "cell_type": "markdown",
   "metadata": {},
   "source": [
    "### Delete Config from Config Storage\n",
    "\n",
    "At the end, you can delete all config from config storage to save cost. To delete a config, you have to initialize the config object first, otherwise it won't know the parameter name and the list of environment to delete from. Usually, you could use the non-sensitive config json file to do so."
   ]
  },
  {
   "cell_type": "code",
   "execution_count": 23,
   "metadata": {
    "collapsed": false,
    "jupyter": {
     "outputs_hidden": false
    },
    "tags": []
   },
   "outputs": [],
   "source": [
    "config = Config.read(\n",
    "    env_class=Env,\n",
    "    env_enum_class=EnvEnum,\n",
    "    path_config=path_config,\n",
    "    path_secret_config=path_secret_config,\n",
    ")"
   ]
  },
  {
   "cell_type": "code",
   "execution_count": 24,
   "metadata": {
    "collapsed": false,
    "jupyter": {
     "outputs_hidden": false
    },
    "tags": []
   },
   "outputs": [
    {
     "name": "stdout",
     "output_type": "stream",
     "text": [
      "+----- ⏱ 🟢 Start 'delete config from SSM parameter' ---------------------------+\n",
      "| \n",
      "| 🗑️ delete SSM Parameter 'my_project' ...\n",
      "| verify at: https://us-east-1.console.aws.amazon.com/systems-manager/parameters/my_project/description?region=us-east-1&tab=Table\n",
      "| done!\n",
      "| \n",
      "+----- ⏰ 🟢 End 'delete config from SSM parameter', elapsed = 0.10 sec ---------+\n",
      "+----- ⏱ 🟢 Start 'delete config from SSM parameter' ---------------------------+\n",
      "| \n",
      "| 🗑️ delete SSM Parameter 'my_project-dev' ...\n",
      "| verify at: https://us-east-1.console.aws.amazon.com/systems-manager/parameters/my_project-dev/description?region=us-east-1&tab=Table\n",
      "| done!\n",
      "| \n",
      "+----- ⏰ 🟢 End 'delete config from SSM parameter', elapsed = 0.09 sec ---------+\n",
      "+----- ⏱ 🟢 Start 'delete config from SSM parameter' ---------------------------+\n",
      "| \n",
      "| 🗑️ delete SSM Parameter 'my_project-int' ...\n",
      "| verify at: https://us-east-1.console.aws.amazon.com/systems-manager/parameters/my_project-int/description?region=us-east-1&tab=Table\n",
      "| done!\n",
      "| \n",
      "+----- ⏰ 🟢 End 'delete config from SSM parameter', elapsed = 0.09 sec ---------+\n",
      "+----- ⏱ 🟢 Start 'delete config from SSM parameter' ---------------------------+\n",
      "| \n",
      "| 🗑️ delete SSM Parameter 'my_project-prod' ...\n",
      "| verify at: https://us-east-1.console.aws.amazon.com/systems-manager/parameters/my_project-prod/description?region=us-east-1&tab=Table\n",
      "| done!\n",
      "| \n",
      "+----- ⏰ 🟢 End 'delete config from SSM parameter', elapsed = 0.09 sec ---------+\n"
     ]
    }
   ],
   "source": [
    "deployment_list = config.delete(\n",
    "    bsm=bsm,\n",
    "    use_parameter_store=True,\n",
    ")"
   ]
  },
  {
   "cell_type": "code",
   "execution_count": 25,
   "metadata": {
    "tags": []
   },
   "outputs": [
    {
     "data": {
      "text/html": [
       "<pre style=\"white-space:pre;overflow-x:auto;line-height:normal;font-family:Menlo,'DejaVu Sans Mono',consolas,'Courier New',monospace\"><span style=\"font-weight: bold\">[</span>\n",
       "    <span style=\"color: #800080; text-decoration-color: #800080; font-weight: bold\">ConfigDeployment</span><span style=\"font-weight: bold\">(</span>\n",
       "        <span style=\"color: #808000; text-decoration-color: #808000\">parameter_name</span>=<span style=\"color: #008000; text-decoration-color: #008000\">'my_project'</span>,\n",
       "        <span style=\"color: #808000; text-decoration-color: #808000\">parameter_data</span>=<span style=\"font-weight: bold\">{</span>\n",
       "            <span style=\"color: #008000; text-decoration-color: #008000\">'data'</span>: <span style=\"font-weight: bold\">{</span>\n",
       "                <span style=\"color: #008000; text-decoration-color: #008000\">'_shared'</span>: <span style=\"font-weight: bold\">{</span><span style=\"color: #008000; text-decoration-color: #008000\">'*.project_name'</span>: <span style=\"color: #008000; text-decoration-color: #008000\">'my_project'</span><span style=\"font-weight: bold\">}</span>,\n",
       "                <span style=\"color: #008000; text-decoration-color: #008000\">'dev'</span>: <span style=\"font-weight: bold\">{</span><span style=\"color: #008000; text-decoration-color: #008000\">'username'</span>: <span style=\"color: #008000; text-decoration-color: #008000\">'dev.user'</span><span style=\"font-weight: bold\">}</span>,\n",
       "                <span style=\"color: #008000; text-decoration-color: #008000\">'int'</span>: <span style=\"font-weight: bold\">{</span><span style=\"color: #008000; text-decoration-color: #008000\">'username'</span>: <span style=\"color: #008000; text-decoration-color: #008000\">'int.user'</span><span style=\"font-weight: bold\">}</span>,\n",
       "                <span style=\"color: #008000; text-decoration-color: #008000\">'prod'</span>: <span style=\"font-weight: bold\">{</span><span style=\"color: #008000; text-decoration-color: #008000\">'username'</span>: <span style=\"color: #008000; text-decoration-color: #008000\">'prod.user'</span><span style=\"font-weight: bold\">}</span>\n",
       "            <span style=\"font-weight: bold\">}</span>,\n",
       "            <span style=\"color: #008000; text-decoration-color: #008000\">'secret_data'</span>: <span style=\"font-weight: bold\">{</span>\n",
       "                <span style=\"color: #008000; text-decoration-color: #008000\">'_shared'</span>: <span style=\"font-weight: bold\">{}</span>,\n",
       "                <span style=\"color: #008000; text-decoration-color: #008000\">'dev'</span>: <span style=\"font-weight: bold\">{</span><span style=\"color: #008000; text-decoration-color: #008000\">'password'</span>: <span style=\"color: #008000; text-decoration-color: #008000\">'dev.password'</span><span style=\"font-weight: bold\">}</span>,\n",
       "                <span style=\"color: #008000; text-decoration-color: #008000\">'int'</span>: <span style=\"font-weight: bold\">{</span><span style=\"color: #008000; text-decoration-color: #008000\">'password'</span>: <span style=\"color: #008000; text-decoration-color: #008000\">'int.password'</span><span style=\"font-weight: bold\">}</span>,\n",
       "                <span style=\"color: #008000; text-decoration-color: #008000\">'prod'</span>: <span style=\"font-weight: bold\">{</span><span style=\"color: #008000; text-decoration-color: #008000\">'password'</span>: <span style=\"color: #008000; text-decoration-color: #008000\">'prod.password'</span><span style=\"font-weight: bold\">}</span>\n",
       "            <span style=\"font-weight: bold\">}</span>\n",
       "        <span style=\"font-weight: bold\">}</span>,\n",
       "        <span style=\"color: #808000; text-decoration-color: #808000\">project_name</span>=<span style=\"color: #008000; text-decoration-color: #008000\">'my_project'</span>,\n",
       "        <span style=\"color: #808000; text-decoration-color: #808000\">env_name</span>=<span style=\"color: #008000; text-decoration-color: #008000\">'all'</span>,\n",
       "        <span style=\"color: #808000; text-decoration-color: #808000\">deployment</span>=<span style=\"color: #800080; text-decoration-color: #800080; font-style: italic\">None</span>,\n",
       "        <span style=\"color: #808000; text-decoration-color: #808000\">deletion</span>=<span style=\"color: #00ff00; text-decoration-color: #00ff00; font-style: italic\">True</span>\n",
       "    <span style=\"font-weight: bold\">)</span>,\n",
       "    <span style=\"color: #800080; text-decoration-color: #800080; font-weight: bold\">ConfigDeployment</span><span style=\"font-weight: bold\">(</span>\n",
       "        <span style=\"color: #808000; text-decoration-color: #808000\">parameter_name</span>=<span style=\"color: #008000; text-decoration-color: #008000\">'my_project-dev'</span>,\n",
       "        <span style=\"color: #808000; text-decoration-color: #808000\">parameter_data</span>=<span style=\"font-weight: bold\">{</span>\n",
       "            <span style=\"color: #008000; text-decoration-color: #008000\">'data'</span>: <span style=\"font-weight: bold\">{</span><span style=\"color: #008000; text-decoration-color: #008000\">'_shared'</span>: <span style=\"font-weight: bold\">{</span><span style=\"color: #008000; text-decoration-color: #008000\">'*.project_name'</span>: <span style=\"color: #008000; text-decoration-color: #008000\">'my_project'</span><span style=\"font-weight: bold\">}</span>, <span style=\"color: #008000; text-decoration-color: #008000\">'dev'</span>: <span style=\"font-weight: bold\">{</span><span style=\"color: #008000; text-decoration-color: #008000\">'username'</span>: <span style=\"color: #008000; text-decoration-color: #008000\">'dev.user'</span><span style=\"font-weight: bold\">}}</span>,\n",
       "            <span style=\"color: #008000; text-decoration-color: #008000\">'secret_data'</span>: <span style=\"font-weight: bold\">{</span><span style=\"color: #008000; text-decoration-color: #008000\">'_shared'</span>: <span style=\"font-weight: bold\">{}</span>, <span style=\"color: #008000; text-decoration-color: #008000\">'dev'</span>: <span style=\"font-weight: bold\">{</span><span style=\"color: #008000; text-decoration-color: #008000\">'password'</span>: <span style=\"color: #008000; text-decoration-color: #008000\">'dev.password'</span><span style=\"font-weight: bold\">}}</span>\n",
       "        <span style=\"font-weight: bold\">}</span>,\n",
       "        <span style=\"color: #808000; text-decoration-color: #808000\">project_name</span>=<span style=\"color: #008000; text-decoration-color: #008000\">'my_project'</span>,\n",
       "        <span style=\"color: #808000; text-decoration-color: #808000\">env_name</span>=<span style=\"color: #008000; text-decoration-color: #008000\">'dev'</span>,\n",
       "        <span style=\"color: #808000; text-decoration-color: #808000\">deployment</span>=<span style=\"color: #800080; text-decoration-color: #800080; font-style: italic\">None</span>,\n",
       "        <span style=\"color: #808000; text-decoration-color: #808000\">deletion</span>=<span style=\"color: #00ff00; text-decoration-color: #00ff00; font-style: italic\">True</span>\n",
       "    <span style=\"font-weight: bold\">)</span>,\n",
       "    <span style=\"color: #800080; text-decoration-color: #800080; font-weight: bold\">ConfigDeployment</span><span style=\"font-weight: bold\">(</span>\n",
       "        <span style=\"color: #808000; text-decoration-color: #808000\">parameter_name</span>=<span style=\"color: #008000; text-decoration-color: #008000\">'my_project-int'</span>,\n",
       "        <span style=\"color: #808000; text-decoration-color: #808000\">parameter_data</span>=<span style=\"font-weight: bold\">{</span>\n",
       "            <span style=\"color: #008000; text-decoration-color: #008000\">'data'</span>: <span style=\"font-weight: bold\">{</span><span style=\"color: #008000; text-decoration-color: #008000\">'_shared'</span>: <span style=\"font-weight: bold\">{</span><span style=\"color: #008000; text-decoration-color: #008000\">'*.project_name'</span>: <span style=\"color: #008000; text-decoration-color: #008000\">'my_project'</span><span style=\"font-weight: bold\">}</span>, <span style=\"color: #008000; text-decoration-color: #008000\">'int'</span>: <span style=\"font-weight: bold\">{</span><span style=\"color: #008000; text-decoration-color: #008000\">'username'</span>: <span style=\"color: #008000; text-decoration-color: #008000\">'int.user'</span><span style=\"font-weight: bold\">}}</span>,\n",
       "            <span style=\"color: #008000; text-decoration-color: #008000\">'secret_data'</span>: <span style=\"font-weight: bold\">{</span><span style=\"color: #008000; text-decoration-color: #008000\">'_shared'</span>: <span style=\"font-weight: bold\">{}</span>, <span style=\"color: #008000; text-decoration-color: #008000\">'int'</span>: <span style=\"font-weight: bold\">{</span><span style=\"color: #008000; text-decoration-color: #008000\">'password'</span>: <span style=\"color: #008000; text-decoration-color: #008000\">'int.password'</span><span style=\"font-weight: bold\">}}</span>\n",
       "        <span style=\"font-weight: bold\">}</span>,\n",
       "        <span style=\"color: #808000; text-decoration-color: #808000\">project_name</span>=<span style=\"color: #008000; text-decoration-color: #008000\">'my_project'</span>,\n",
       "        <span style=\"color: #808000; text-decoration-color: #808000\">env_name</span>=<span style=\"color: #008000; text-decoration-color: #008000\">'int'</span>,\n",
       "        <span style=\"color: #808000; text-decoration-color: #808000\">deployment</span>=<span style=\"color: #800080; text-decoration-color: #800080; font-style: italic\">None</span>,\n",
       "        <span style=\"color: #808000; text-decoration-color: #808000\">deletion</span>=<span style=\"color: #00ff00; text-decoration-color: #00ff00; font-style: italic\">True</span>\n",
       "    <span style=\"font-weight: bold\">)</span>,\n",
       "    <span style=\"color: #800080; text-decoration-color: #800080; font-weight: bold\">ConfigDeployment</span><span style=\"font-weight: bold\">(</span>\n",
       "        <span style=\"color: #808000; text-decoration-color: #808000\">parameter_name</span>=<span style=\"color: #008000; text-decoration-color: #008000\">'my_project-prod'</span>,\n",
       "        <span style=\"color: #808000; text-decoration-color: #808000\">parameter_data</span>=<span style=\"font-weight: bold\">{</span>\n",
       "            <span style=\"color: #008000; text-decoration-color: #008000\">'data'</span>: <span style=\"font-weight: bold\">{</span><span style=\"color: #008000; text-decoration-color: #008000\">'_shared'</span>: <span style=\"font-weight: bold\">{</span><span style=\"color: #008000; text-decoration-color: #008000\">'*.project_name'</span>: <span style=\"color: #008000; text-decoration-color: #008000\">'my_project'</span><span style=\"font-weight: bold\">}</span>, <span style=\"color: #008000; text-decoration-color: #008000\">'prod'</span>: <span style=\"font-weight: bold\">{</span><span style=\"color: #008000; text-decoration-color: #008000\">'username'</span>: <span style=\"color: #008000; text-decoration-color: #008000\">'prod.user'</span><span style=\"font-weight: bold\">}}</span>,\n",
       "            <span style=\"color: #008000; text-decoration-color: #008000\">'secret_data'</span>: <span style=\"font-weight: bold\">{</span><span style=\"color: #008000; text-decoration-color: #008000\">'_shared'</span>: <span style=\"font-weight: bold\">{}</span>, <span style=\"color: #008000; text-decoration-color: #008000\">'prod'</span>: <span style=\"font-weight: bold\">{</span><span style=\"color: #008000; text-decoration-color: #008000\">'password'</span>: <span style=\"color: #008000; text-decoration-color: #008000\">'prod.password'</span><span style=\"font-weight: bold\">}}</span>\n",
       "        <span style=\"font-weight: bold\">}</span>,\n",
       "        <span style=\"color: #808000; text-decoration-color: #808000\">project_name</span>=<span style=\"color: #008000; text-decoration-color: #008000\">'my_project'</span>,\n",
       "        <span style=\"color: #808000; text-decoration-color: #808000\">env_name</span>=<span style=\"color: #008000; text-decoration-color: #008000\">'prod'</span>,\n",
       "        <span style=\"color: #808000; text-decoration-color: #808000\">deployment</span>=<span style=\"color: #800080; text-decoration-color: #800080; font-style: italic\">None</span>,\n",
       "        <span style=\"color: #808000; text-decoration-color: #808000\">deletion</span>=<span style=\"color: #00ff00; text-decoration-color: #00ff00; font-style: italic\">True</span>\n",
       "    <span style=\"font-weight: bold\">)</span>\n",
       "<span style=\"font-weight: bold\">]</span>\n",
       "</pre>\n"
      ],
      "text/plain": [
       "\u001b[1m[\u001b[0m\n",
       "    \u001b[1;35mConfigDeployment\u001b[0m\u001b[1m(\u001b[0m\n",
       "        \u001b[33mparameter_name\u001b[0m=\u001b[32m'my_project'\u001b[0m,\n",
       "        \u001b[33mparameter_data\u001b[0m=\u001b[1m{\u001b[0m\n",
       "            \u001b[32m'data'\u001b[0m: \u001b[1m{\u001b[0m\n",
       "                \u001b[32m'_shared'\u001b[0m: \u001b[1m{\u001b[0m\u001b[32m'*.project_name'\u001b[0m: \u001b[32m'my_project'\u001b[0m\u001b[1m}\u001b[0m,\n",
       "                \u001b[32m'dev'\u001b[0m: \u001b[1m{\u001b[0m\u001b[32m'username'\u001b[0m: \u001b[32m'dev.user'\u001b[0m\u001b[1m}\u001b[0m,\n",
       "                \u001b[32m'int'\u001b[0m: \u001b[1m{\u001b[0m\u001b[32m'username'\u001b[0m: \u001b[32m'int.user'\u001b[0m\u001b[1m}\u001b[0m,\n",
       "                \u001b[32m'prod'\u001b[0m: \u001b[1m{\u001b[0m\u001b[32m'username'\u001b[0m: \u001b[32m'prod.user'\u001b[0m\u001b[1m}\u001b[0m\n",
       "            \u001b[1m}\u001b[0m,\n",
       "            \u001b[32m'secret_data'\u001b[0m: \u001b[1m{\u001b[0m\n",
       "                \u001b[32m'_shared'\u001b[0m: \u001b[1m{\u001b[0m\u001b[1m}\u001b[0m,\n",
       "                \u001b[32m'dev'\u001b[0m: \u001b[1m{\u001b[0m\u001b[32m'password'\u001b[0m: \u001b[32m'dev.password'\u001b[0m\u001b[1m}\u001b[0m,\n",
       "                \u001b[32m'int'\u001b[0m: \u001b[1m{\u001b[0m\u001b[32m'password'\u001b[0m: \u001b[32m'int.password'\u001b[0m\u001b[1m}\u001b[0m,\n",
       "                \u001b[32m'prod'\u001b[0m: \u001b[1m{\u001b[0m\u001b[32m'password'\u001b[0m: \u001b[32m'prod.password'\u001b[0m\u001b[1m}\u001b[0m\n",
       "            \u001b[1m}\u001b[0m\n",
       "        \u001b[1m}\u001b[0m,\n",
       "        \u001b[33mproject_name\u001b[0m=\u001b[32m'my_project'\u001b[0m,\n",
       "        \u001b[33menv_name\u001b[0m=\u001b[32m'all'\u001b[0m,\n",
       "        \u001b[33mdeployment\u001b[0m=\u001b[3;35mNone\u001b[0m,\n",
       "        \u001b[33mdeletion\u001b[0m=\u001b[3;92mTrue\u001b[0m\n",
       "    \u001b[1m)\u001b[0m,\n",
       "    \u001b[1;35mConfigDeployment\u001b[0m\u001b[1m(\u001b[0m\n",
       "        \u001b[33mparameter_name\u001b[0m=\u001b[32m'my_project-dev'\u001b[0m,\n",
       "        \u001b[33mparameter_data\u001b[0m=\u001b[1m{\u001b[0m\n",
       "            \u001b[32m'data'\u001b[0m: \u001b[1m{\u001b[0m\u001b[32m'_shared'\u001b[0m: \u001b[1m{\u001b[0m\u001b[32m'*.project_name'\u001b[0m: \u001b[32m'my_project'\u001b[0m\u001b[1m}\u001b[0m, \u001b[32m'dev'\u001b[0m: \u001b[1m{\u001b[0m\u001b[32m'username'\u001b[0m: \u001b[32m'dev.user'\u001b[0m\u001b[1m}\u001b[0m\u001b[1m}\u001b[0m,\n",
       "            \u001b[32m'secret_data'\u001b[0m: \u001b[1m{\u001b[0m\u001b[32m'_shared'\u001b[0m: \u001b[1m{\u001b[0m\u001b[1m}\u001b[0m, \u001b[32m'dev'\u001b[0m: \u001b[1m{\u001b[0m\u001b[32m'password'\u001b[0m: \u001b[32m'dev.password'\u001b[0m\u001b[1m}\u001b[0m\u001b[1m}\u001b[0m\n",
       "        \u001b[1m}\u001b[0m,\n",
       "        \u001b[33mproject_name\u001b[0m=\u001b[32m'my_project'\u001b[0m,\n",
       "        \u001b[33menv_name\u001b[0m=\u001b[32m'dev'\u001b[0m,\n",
       "        \u001b[33mdeployment\u001b[0m=\u001b[3;35mNone\u001b[0m,\n",
       "        \u001b[33mdeletion\u001b[0m=\u001b[3;92mTrue\u001b[0m\n",
       "    \u001b[1m)\u001b[0m,\n",
       "    \u001b[1;35mConfigDeployment\u001b[0m\u001b[1m(\u001b[0m\n",
       "        \u001b[33mparameter_name\u001b[0m=\u001b[32m'my_project-int'\u001b[0m,\n",
       "        \u001b[33mparameter_data\u001b[0m=\u001b[1m{\u001b[0m\n",
       "            \u001b[32m'data'\u001b[0m: \u001b[1m{\u001b[0m\u001b[32m'_shared'\u001b[0m: \u001b[1m{\u001b[0m\u001b[32m'*.project_name'\u001b[0m: \u001b[32m'my_project'\u001b[0m\u001b[1m}\u001b[0m, \u001b[32m'int'\u001b[0m: \u001b[1m{\u001b[0m\u001b[32m'username'\u001b[0m: \u001b[32m'int.user'\u001b[0m\u001b[1m}\u001b[0m\u001b[1m}\u001b[0m,\n",
       "            \u001b[32m'secret_data'\u001b[0m: \u001b[1m{\u001b[0m\u001b[32m'_shared'\u001b[0m: \u001b[1m{\u001b[0m\u001b[1m}\u001b[0m, \u001b[32m'int'\u001b[0m: \u001b[1m{\u001b[0m\u001b[32m'password'\u001b[0m: \u001b[32m'int.password'\u001b[0m\u001b[1m}\u001b[0m\u001b[1m}\u001b[0m\n",
       "        \u001b[1m}\u001b[0m,\n",
       "        \u001b[33mproject_name\u001b[0m=\u001b[32m'my_project'\u001b[0m,\n",
       "        \u001b[33menv_name\u001b[0m=\u001b[32m'int'\u001b[0m,\n",
       "        \u001b[33mdeployment\u001b[0m=\u001b[3;35mNone\u001b[0m,\n",
       "        \u001b[33mdeletion\u001b[0m=\u001b[3;92mTrue\u001b[0m\n",
       "    \u001b[1m)\u001b[0m,\n",
       "    \u001b[1;35mConfigDeployment\u001b[0m\u001b[1m(\u001b[0m\n",
       "        \u001b[33mparameter_name\u001b[0m=\u001b[32m'my_project-prod'\u001b[0m,\n",
       "        \u001b[33mparameter_data\u001b[0m=\u001b[1m{\u001b[0m\n",
       "            \u001b[32m'data'\u001b[0m: \u001b[1m{\u001b[0m\u001b[32m'_shared'\u001b[0m: \u001b[1m{\u001b[0m\u001b[32m'*.project_name'\u001b[0m: \u001b[32m'my_project'\u001b[0m\u001b[1m}\u001b[0m, \u001b[32m'prod'\u001b[0m: \u001b[1m{\u001b[0m\u001b[32m'username'\u001b[0m: \u001b[32m'prod.user'\u001b[0m\u001b[1m}\u001b[0m\u001b[1m}\u001b[0m,\n",
       "            \u001b[32m'secret_data'\u001b[0m: \u001b[1m{\u001b[0m\u001b[32m'_shared'\u001b[0m: \u001b[1m{\u001b[0m\u001b[1m}\u001b[0m, \u001b[32m'prod'\u001b[0m: \u001b[1m{\u001b[0m\u001b[32m'password'\u001b[0m: \u001b[32m'prod.password'\u001b[0m\u001b[1m}\u001b[0m\u001b[1m}\u001b[0m\n",
       "        \u001b[1m}\u001b[0m,\n",
       "        \u001b[33mproject_name\u001b[0m=\u001b[32m'my_project'\u001b[0m,\n",
       "        \u001b[33menv_name\u001b[0m=\u001b[32m'prod'\u001b[0m,\n",
       "        \u001b[33mdeployment\u001b[0m=\u001b[3;35mNone\u001b[0m,\n",
       "        \u001b[33mdeletion\u001b[0m=\u001b[3;92mTrue\u001b[0m\n",
       "    \u001b[1m)\u001b[0m\n",
       "\u001b[1m]\u001b[0m\n"
      ]
     },
     "metadata": {},
     "output_type": "display_data"
    }
   ],
   "source": [
    "rprint(deployment_list)"
   ]
  },
  {
   "cell_type": "code",
   "execution_count": 26,
   "metadata": {
    "collapsed": false,
    "jupyter": {
     "outputs_hidden": false
    },
    "tags": []
   },
   "outputs": [
    {
     "name": "stdout",
     "output_type": "stream",
     "text": [
      "+----- ⏱ 🟢 Start 'delete config file from S3' ---------------------------------+\n",
      "| \n",
      "| 🗑️ delete config file s3://878625312159-us-east-1-artifacts/projects/config_pattern/patterns/multi_env_json/my_project.json ...\n",
      "| preview at: https://us-east-1.console.aws.amazon.com/s3/object/878625312159-us-east-1-artifacts?prefix=projects/config_pattern/patterns/multi_env_json/my_project.json\n",
      "| done!\n",
      "| \n",
      "+----- ⏰ 🟢 End 'delete config file from S3', elapsed = 0.08 sec ---------------+\n",
      "+----- ⏱ 🟢 Start 'delete config file from S3' ---------------------------------+\n",
      "| \n",
      "| 🗑️ delete config file s3://878625312159-us-east-1-artifacts/projects/config_pattern/patterns/multi_env_json/my_project-dev.json ...\n",
      "| preview at: https://us-east-1.console.aws.amazon.com/s3/object/878625312159-us-east-1-artifacts?prefix=projects/config_pattern/patterns/multi_env_json/my_project-dev.json\n",
      "| done!\n",
      "| \n",
      "+----- ⏰ 🟢 End 'delete config file from S3', elapsed = 0.08 sec ---------------+\n",
      "+----- ⏱ 🟢 Start 'delete config file from S3' ---------------------------------+\n",
      "| \n",
      "| 🗑️ delete config file s3://878625312159-us-east-1-artifacts/projects/config_pattern/patterns/multi_env_json/my_project-int.json ...\n",
      "| preview at: https://us-east-1.console.aws.amazon.com/s3/object/878625312159-us-east-1-artifacts?prefix=projects/config_pattern/patterns/multi_env_json/my_project-int.json\n",
      "| done!\n",
      "| \n",
      "+----- ⏰ 🟢 End 'delete config file from S3', elapsed = 0.07 sec ---------------+\n",
      "+----- ⏱ 🟢 Start 'delete config file from S3' ---------------------------------+\n",
      "| \n",
      "| 🗑️ delete config file s3://878625312159-us-east-1-artifacts/projects/config_pattern/patterns/multi_env_json/my_project-prod.json ...\n",
      "| preview at: https://us-east-1.console.aws.amazon.com/s3/object/878625312159-us-east-1-artifacts?prefix=projects/config_pattern/patterns/multi_env_json/my_project-prod.json\n",
      "| done!\n",
      "| \n",
      "+----- ⏰ 🟢 End 'delete config file from S3', elapsed = 0.07 sec ---------------+\n"
     ]
    }
   ],
   "source": [
    "deployment_list = config.delete(\n",
    "    bsm=bsm,\n",
    "    s3dir_config=s3dir_config,\n",
    ")"
   ]
  },
  {
   "cell_type": "code",
   "execution_count": 27,
   "metadata": {
    "tags": []
   },
   "outputs": [
    {
     "data": {
      "text/html": [
       "<pre style=\"white-space:pre;overflow-x:auto;line-height:normal;font-family:Menlo,'DejaVu Sans Mono',consolas,'Courier New',monospace\"><span style=\"font-weight: bold\">[</span>\n",
       "    <span style=\"color: #800080; text-decoration-color: #800080; font-weight: bold\">ConfigDeployment</span><span style=\"font-weight: bold\">(</span>\n",
       "        <span style=\"color: #808000; text-decoration-color: #808000\">parameter_name</span>=<span style=\"color: #008000; text-decoration-color: #008000\">'my_project'</span>,\n",
       "        <span style=\"color: #808000; text-decoration-color: #808000\">parameter_data</span>=<span style=\"font-weight: bold\">{</span>\n",
       "            <span style=\"color: #008000; text-decoration-color: #008000\">'data'</span>: <span style=\"font-weight: bold\">{</span>\n",
       "                <span style=\"color: #008000; text-decoration-color: #008000\">'_shared'</span>: <span style=\"font-weight: bold\">{</span><span style=\"color: #008000; text-decoration-color: #008000\">'*.project_name'</span>: <span style=\"color: #008000; text-decoration-color: #008000\">'my_project'</span><span style=\"font-weight: bold\">}</span>,\n",
       "                <span style=\"color: #008000; text-decoration-color: #008000\">'dev'</span>: <span style=\"font-weight: bold\">{</span><span style=\"color: #008000; text-decoration-color: #008000\">'username'</span>: <span style=\"color: #008000; text-decoration-color: #008000\">'dev.user'</span><span style=\"font-weight: bold\">}</span>,\n",
       "                <span style=\"color: #008000; text-decoration-color: #008000\">'int'</span>: <span style=\"font-weight: bold\">{</span><span style=\"color: #008000; text-decoration-color: #008000\">'username'</span>: <span style=\"color: #008000; text-decoration-color: #008000\">'int.user'</span><span style=\"font-weight: bold\">}</span>,\n",
       "                <span style=\"color: #008000; text-decoration-color: #008000\">'prod'</span>: <span style=\"font-weight: bold\">{</span><span style=\"color: #008000; text-decoration-color: #008000\">'username'</span>: <span style=\"color: #008000; text-decoration-color: #008000\">'prod.user'</span><span style=\"font-weight: bold\">}</span>\n",
       "            <span style=\"font-weight: bold\">}</span>,\n",
       "            <span style=\"color: #008000; text-decoration-color: #008000\">'secret_data'</span>: <span style=\"font-weight: bold\">{</span>\n",
       "                <span style=\"color: #008000; text-decoration-color: #008000\">'_shared'</span>: <span style=\"font-weight: bold\">{}</span>,\n",
       "                <span style=\"color: #008000; text-decoration-color: #008000\">'dev'</span>: <span style=\"font-weight: bold\">{</span><span style=\"color: #008000; text-decoration-color: #008000\">'password'</span>: <span style=\"color: #008000; text-decoration-color: #008000\">'dev.password'</span><span style=\"font-weight: bold\">}</span>,\n",
       "                <span style=\"color: #008000; text-decoration-color: #008000\">'int'</span>: <span style=\"font-weight: bold\">{</span><span style=\"color: #008000; text-decoration-color: #008000\">'password'</span>: <span style=\"color: #008000; text-decoration-color: #008000\">'int.password'</span><span style=\"font-weight: bold\">}</span>,\n",
       "                <span style=\"color: #008000; text-decoration-color: #008000\">'prod'</span>: <span style=\"font-weight: bold\">{</span><span style=\"color: #008000; text-decoration-color: #008000\">'password'</span>: <span style=\"color: #008000; text-decoration-color: #008000\">'prod.password'</span><span style=\"font-weight: bold\">}</span>\n",
       "            <span style=\"font-weight: bold\">}</span>\n",
       "        <span style=\"font-weight: bold\">}</span>,\n",
       "        <span style=\"color: #808000; text-decoration-color: #808000\">project_name</span>=<span style=\"color: #008000; text-decoration-color: #008000\">'my_project'</span>,\n",
       "        <span style=\"color: #808000; text-decoration-color: #808000\">env_name</span>=<span style=\"color: #008000; text-decoration-color: #008000\">'all'</span>,\n",
       "        <span style=\"color: #808000; text-decoration-color: #808000\">deployment</span>=<span style=\"color: #800080; text-decoration-color: #800080; font-style: italic\">None</span>,\n",
       "        <span style=\"color: #808000; text-decoration-color: #808000\">deletion</span>=<span style=\"color: #00ff00; text-decoration-color: #00ff00; font-style: italic\">True</span>\n",
       "    <span style=\"font-weight: bold\">)</span>,\n",
       "    <span style=\"color: #800080; text-decoration-color: #800080; font-weight: bold\">ConfigDeployment</span><span style=\"font-weight: bold\">(</span>\n",
       "        <span style=\"color: #808000; text-decoration-color: #808000\">parameter_name</span>=<span style=\"color: #008000; text-decoration-color: #008000\">'my_project-dev'</span>,\n",
       "        <span style=\"color: #808000; text-decoration-color: #808000\">parameter_data</span>=<span style=\"font-weight: bold\">{</span>\n",
       "            <span style=\"color: #008000; text-decoration-color: #008000\">'data'</span>: <span style=\"font-weight: bold\">{</span><span style=\"color: #008000; text-decoration-color: #008000\">'_shared'</span>: <span style=\"font-weight: bold\">{</span><span style=\"color: #008000; text-decoration-color: #008000\">'*.project_name'</span>: <span style=\"color: #008000; text-decoration-color: #008000\">'my_project'</span><span style=\"font-weight: bold\">}</span>, <span style=\"color: #008000; text-decoration-color: #008000\">'dev'</span>: <span style=\"font-weight: bold\">{</span><span style=\"color: #008000; text-decoration-color: #008000\">'username'</span>: <span style=\"color: #008000; text-decoration-color: #008000\">'dev.user'</span><span style=\"font-weight: bold\">}}</span>,\n",
       "            <span style=\"color: #008000; text-decoration-color: #008000\">'secret_data'</span>: <span style=\"font-weight: bold\">{</span><span style=\"color: #008000; text-decoration-color: #008000\">'_shared'</span>: <span style=\"font-weight: bold\">{}</span>, <span style=\"color: #008000; text-decoration-color: #008000\">'dev'</span>: <span style=\"font-weight: bold\">{</span><span style=\"color: #008000; text-decoration-color: #008000\">'password'</span>: <span style=\"color: #008000; text-decoration-color: #008000\">'dev.password'</span><span style=\"font-weight: bold\">}}</span>\n",
       "        <span style=\"font-weight: bold\">}</span>,\n",
       "        <span style=\"color: #808000; text-decoration-color: #808000\">project_name</span>=<span style=\"color: #008000; text-decoration-color: #008000\">'my_project'</span>,\n",
       "        <span style=\"color: #808000; text-decoration-color: #808000\">env_name</span>=<span style=\"color: #008000; text-decoration-color: #008000\">'dev'</span>,\n",
       "        <span style=\"color: #808000; text-decoration-color: #808000\">deployment</span>=<span style=\"color: #800080; text-decoration-color: #800080; font-style: italic\">None</span>,\n",
       "        <span style=\"color: #808000; text-decoration-color: #808000\">deletion</span>=<span style=\"color: #00ff00; text-decoration-color: #00ff00; font-style: italic\">True</span>\n",
       "    <span style=\"font-weight: bold\">)</span>,\n",
       "    <span style=\"color: #800080; text-decoration-color: #800080; font-weight: bold\">ConfigDeployment</span><span style=\"font-weight: bold\">(</span>\n",
       "        <span style=\"color: #808000; text-decoration-color: #808000\">parameter_name</span>=<span style=\"color: #008000; text-decoration-color: #008000\">'my_project-int'</span>,\n",
       "        <span style=\"color: #808000; text-decoration-color: #808000\">parameter_data</span>=<span style=\"font-weight: bold\">{</span>\n",
       "            <span style=\"color: #008000; text-decoration-color: #008000\">'data'</span>: <span style=\"font-weight: bold\">{</span><span style=\"color: #008000; text-decoration-color: #008000\">'_shared'</span>: <span style=\"font-weight: bold\">{</span><span style=\"color: #008000; text-decoration-color: #008000\">'*.project_name'</span>: <span style=\"color: #008000; text-decoration-color: #008000\">'my_project'</span><span style=\"font-weight: bold\">}</span>, <span style=\"color: #008000; text-decoration-color: #008000\">'int'</span>: <span style=\"font-weight: bold\">{</span><span style=\"color: #008000; text-decoration-color: #008000\">'username'</span>: <span style=\"color: #008000; text-decoration-color: #008000\">'int.user'</span><span style=\"font-weight: bold\">}}</span>,\n",
       "            <span style=\"color: #008000; text-decoration-color: #008000\">'secret_data'</span>: <span style=\"font-weight: bold\">{</span><span style=\"color: #008000; text-decoration-color: #008000\">'_shared'</span>: <span style=\"font-weight: bold\">{}</span>, <span style=\"color: #008000; text-decoration-color: #008000\">'int'</span>: <span style=\"font-weight: bold\">{</span><span style=\"color: #008000; text-decoration-color: #008000\">'password'</span>: <span style=\"color: #008000; text-decoration-color: #008000\">'int.password'</span><span style=\"font-weight: bold\">}}</span>\n",
       "        <span style=\"font-weight: bold\">}</span>,\n",
       "        <span style=\"color: #808000; text-decoration-color: #808000\">project_name</span>=<span style=\"color: #008000; text-decoration-color: #008000\">'my_project'</span>,\n",
       "        <span style=\"color: #808000; text-decoration-color: #808000\">env_name</span>=<span style=\"color: #008000; text-decoration-color: #008000\">'int'</span>,\n",
       "        <span style=\"color: #808000; text-decoration-color: #808000\">deployment</span>=<span style=\"color: #800080; text-decoration-color: #800080; font-style: italic\">None</span>,\n",
       "        <span style=\"color: #808000; text-decoration-color: #808000\">deletion</span>=<span style=\"color: #00ff00; text-decoration-color: #00ff00; font-style: italic\">True</span>\n",
       "    <span style=\"font-weight: bold\">)</span>,\n",
       "    <span style=\"color: #800080; text-decoration-color: #800080; font-weight: bold\">ConfigDeployment</span><span style=\"font-weight: bold\">(</span>\n",
       "        <span style=\"color: #808000; text-decoration-color: #808000\">parameter_name</span>=<span style=\"color: #008000; text-decoration-color: #008000\">'my_project-prod'</span>,\n",
       "        <span style=\"color: #808000; text-decoration-color: #808000\">parameter_data</span>=<span style=\"font-weight: bold\">{</span>\n",
       "            <span style=\"color: #008000; text-decoration-color: #008000\">'data'</span>: <span style=\"font-weight: bold\">{</span><span style=\"color: #008000; text-decoration-color: #008000\">'_shared'</span>: <span style=\"font-weight: bold\">{</span><span style=\"color: #008000; text-decoration-color: #008000\">'*.project_name'</span>: <span style=\"color: #008000; text-decoration-color: #008000\">'my_project'</span><span style=\"font-weight: bold\">}</span>, <span style=\"color: #008000; text-decoration-color: #008000\">'prod'</span>: <span style=\"font-weight: bold\">{</span><span style=\"color: #008000; text-decoration-color: #008000\">'username'</span>: <span style=\"color: #008000; text-decoration-color: #008000\">'prod.user'</span><span style=\"font-weight: bold\">}}</span>,\n",
       "            <span style=\"color: #008000; text-decoration-color: #008000\">'secret_data'</span>: <span style=\"font-weight: bold\">{</span><span style=\"color: #008000; text-decoration-color: #008000\">'_shared'</span>: <span style=\"font-weight: bold\">{}</span>, <span style=\"color: #008000; text-decoration-color: #008000\">'prod'</span>: <span style=\"font-weight: bold\">{</span><span style=\"color: #008000; text-decoration-color: #008000\">'password'</span>: <span style=\"color: #008000; text-decoration-color: #008000\">'prod.password'</span><span style=\"font-weight: bold\">}}</span>\n",
       "        <span style=\"font-weight: bold\">}</span>,\n",
       "        <span style=\"color: #808000; text-decoration-color: #808000\">project_name</span>=<span style=\"color: #008000; text-decoration-color: #008000\">'my_project'</span>,\n",
       "        <span style=\"color: #808000; text-decoration-color: #808000\">env_name</span>=<span style=\"color: #008000; text-decoration-color: #008000\">'prod'</span>,\n",
       "        <span style=\"color: #808000; text-decoration-color: #808000\">deployment</span>=<span style=\"color: #800080; text-decoration-color: #800080; font-style: italic\">None</span>,\n",
       "        <span style=\"color: #808000; text-decoration-color: #808000\">deletion</span>=<span style=\"color: #00ff00; text-decoration-color: #00ff00; font-style: italic\">True</span>\n",
       "    <span style=\"font-weight: bold\">)</span>\n",
       "<span style=\"font-weight: bold\">]</span>\n",
       "</pre>\n"
      ],
      "text/plain": [
       "\u001b[1m[\u001b[0m\n",
       "    \u001b[1;35mConfigDeployment\u001b[0m\u001b[1m(\u001b[0m\n",
       "        \u001b[33mparameter_name\u001b[0m=\u001b[32m'my_project'\u001b[0m,\n",
       "        \u001b[33mparameter_data\u001b[0m=\u001b[1m{\u001b[0m\n",
       "            \u001b[32m'data'\u001b[0m: \u001b[1m{\u001b[0m\n",
       "                \u001b[32m'_shared'\u001b[0m: \u001b[1m{\u001b[0m\u001b[32m'*.project_name'\u001b[0m: \u001b[32m'my_project'\u001b[0m\u001b[1m}\u001b[0m,\n",
       "                \u001b[32m'dev'\u001b[0m: \u001b[1m{\u001b[0m\u001b[32m'username'\u001b[0m: \u001b[32m'dev.user'\u001b[0m\u001b[1m}\u001b[0m,\n",
       "                \u001b[32m'int'\u001b[0m: \u001b[1m{\u001b[0m\u001b[32m'username'\u001b[0m: \u001b[32m'int.user'\u001b[0m\u001b[1m}\u001b[0m,\n",
       "                \u001b[32m'prod'\u001b[0m: \u001b[1m{\u001b[0m\u001b[32m'username'\u001b[0m: \u001b[32m'prod.user'\u001b[0m\u001b[1m}\u001b[0m\n",
       "            \u001b[1m}\u001b[0m,\n",
       "            \u001b[32m'secret_data'\u001b[0m: \u001b[1m{\u001b[0m\n",
       "                \u001b[32m'_shared'\u001b[0m: \u001b[1m{\u001b[0m\u001b[1m}\u001b[0m,\n",
       "                \u001b[32m'dev'\u001b[0m: \u001b[1m{\u001b[0m\u001b[32m'password'\u001b[0m: \u001b[32m'dev.password'\u001b[0m\u001b[1m}\u001b[0m,\n",
       "                \u001b[32m'int'\u001b[0m: \u001b[1m{\u001b[0m\u001b[32m'password'\u001b[0m: \u001b[32m'int.password'\u001b[0m\u001b[1m}\u001b[0m,\n",
       "                \u001b[32m'prod'\u001b[0m: \u001b[1m{\u001b[0m\u001b[32m'password'\u001b[0m: \u001b[32m'prod.password'\u001b[0m\u001b[1m}\u001b[0m\n",
       "            \u001b[1m}\u001b[0m\n",
       "        \u001b[1m}\u001b[0m,\n",
       "        \u001b[33mproject_name\u001b[0m=\u001b[32m'my_project'\u001b[0m,\n",
       "        \u001b[33menv_name\u001b[0m=\u001b[32m'all'\u001b[0m,\n",
       "        \u001b[33mdeployment\u001b[0m=\u001b[3;35mNone\u001b[0m,\n",
       "        \u001b[33mdeletion\u001b[0m=\u001b[3;92mTrue\u001b[0m\n",
       "    \u001b[1m)\u001b[0m,\n",
       "    \u001b[1;35mConfigDeployment\u001b[0m\u001b[1m(\u001b[0m\n",
       "        \u001b[33mparameter_name\u001b[0m=\u001b[32m'my_project-dev'\u001b[0m,\n",
       "        \u001b[33mparameter_data\u001b[0m=\u001b[1m{\u001b[0m\n",
       "            \u001b[32m'data'\u001b[0m: \u001b[1m{\u001b[0m\u001b[32m'_shared'\u001b[0m: \u001b[1m{\u001b[0m\u001b[32m'*.project_name'\u001b[0m: \u001b[32m'my_project'\u001b[0m\u001b[1m}\u001b[0m, \u001b[32m'dev'\u001b[0m: \u001b[1m{\u001b[0m\u001b[32m'username'\u001b[0m: \u001b[32m'dev.user'\u001b[0m\u001b[1m}\u001b[0m\u001b[1m}\u001b[0m,\n",
       "            \u001b[32m'secret_data'\u001b[0m: \u001b[1m{\u001b[0m\u001b[32m'_shared'\u001b[0m: \u001b[1m{\u001b[0m\u001b[1m}\u001b[0m, \u001b[32m'dev'\u001b[0m: \u001b[1m{\u001b[0m\u001b[32m'password'\u001b[0m: \u001b[32m'dev.password'\u001b[0m\u001b[1m}\u001b[0m\u001b[1m}\u001b[0m\n",
       "        \u001b[1m}\u001b[0m,\n",
       "        \u001b[33mproject_name\u001b[0m=\u001b[32m'my_project'\u001b[0m,\n",
       "        \u001b[33menv_name\u001b[0m=\u001b[32m'dev'\u001b[0m,\n",
       "        \u001b[33mdeployment\u001b[0m=\u001b[3;35mNone\u001b[0m,\n",
       "        \u001b[33mdeletion\u001b[0m=\u001b[3;92mTrue\u001b[0m\n",
       "    \u001b[1m)\u001b[0m,\n",
       "    \u001b[1;35mConfigDeployment\u001b[0m\u001b[1m(\u001b[0m\n",
       "        \u001b[33mparameter_name\u001b[0m=\u001b[32m'my_project-int'\u001b[0m,\n",
       "        \u001b[33mparameter_data\u001b[0m=\u001b[1m{\u001b[0m\n",
       "            \u001b[32m'data'\u001b[0m: \u001b[1m{\u001b[0m\u001b[32m'_shared'\u001b[0m: \u001b[1m{\u001b[0m\u001b[32m'*.project_name'\u001b[0m: \u001b[32m'my_project'\u001b[0m\u001b[1m}\u001b[0m, \u001b[32m'int'\u001b[0m: \u001b[1m{\u001b[0m\u001b[32m'username'\u001b[0m: \u001b[32m'int.user'\u001b[0m\u001b[1m}\u001b[0m\u001b[1m}\u001b[0m,\n",
       "            \u001b[32m'secret_data'\u001b[0m: \u001b[1m{\u001b[0m\u001b[32m'_shared'\u001b[0m: \u001b[1m{\u001b[0m\u001b[1m}\u001b[0m, \u001b[32m'int'\u001b[0m: \u001b[1m{\u001b[0m\u001b[32m'password'\u001b[0m: \u001b[32m'int.password'\u001b[0m\u001b[1m}\u001b[0m\u001b[1m}\u001b[0m\n",
       "        \u001b[1m}\u001b[0m,\n",
       "        \u001b[33mproject_name\u001b[0m=\u001b[32m'my_project'\u001b[0m,\n",
       "        \u001b[33menv_name\u001b[0m=\u001b[32m'int'\u001b[0m,\n",
       "        \u001b[33mdeployment\u001b[0m=\u001b[3;35mNone\u001b[0m,\n",
       "        \u001b[33mdeletion\u001b[0m=\u001b[3;92mTrue\u001b[0m\n",
       "    \u001b[1m)\u001b[0m,\n",
       "    \u001b[1;35mConfigDeployment\u001b[0m\u001b[1m(\u001b[0m\n",
       "        \u001b[33mparameter_name\u001b[0m=\u001b[32m'my_project-prod'\u001b[0m,\n",
       "        \u001b[33mparameter_data\u001b[0m=\u001b[1m{\u001b[0m\n",
       "            \u001b[32m'data'\u001b[0m: \u001b[1m{\u001b[0m\u001b[32m'_shared'\u001b[0m: \u001b[1m{\u001b[0m\u001b[32m'*.project_name'\u001b[0m: \u001b[32m'my_project'\u001b[0m\u001b[1m}\u001b[0m, \u001b[32m'prod'\u001b[0m: \u001b[1m{\u001b[0m\u001b[32m'username'\u001b[0m: \u001b[32m'prod.user'\u001b[0m\u001b[1m}\u001b[0m\u001b[1m}\u001b[0m,\n",
       "            \u001b[32m'secret_data'\u001b[0m: \u001b[1m{\u001b[0m\u001b[32m'_shared'\u001b[0m: \u001b[1m{\u001b[0m\u001b[1m}\u001b[0m, \u001b[32m'prod'\u001b[0m: \u001b[1m{\u001b[0m\u001b[32m'password'\u001b[0m: \u001b[32m'prod.password'\u001b[0m\u001b[1m}\u001b[0m\u001b[1m}\u001b[0m\n",
       "        \u001b[1m}\u001b[0m,\n",
       "        \u001b[33mproject_name\u001b[0m=\u001b[32m'my_project'\u001b[0m,\n",
       "        \u001b[33menv_name\u001b[0m=\u001b[32m'prod'\u001b[0m,\n",
       "        \u001b[33mdeployment\u001b[0m=\u001b[3;35mNone\u001b[0m,\n",
       "        \u001b[33mdeletion\u001b[0m=\u001b[3;92mTrue\u001b[0m\n",
       "    \u001b[1m)\u001b[0m\n",
       "\u001b[1m]\u001b[0m\n"
      ]
     },
     "metadata": {},
     "output_type": "display_data"
    }
   ],
   "source": [
    "rprint(deployment_list)"
   ]
  },
  {
   "cell_type": "code",
   "execution_count": null,
   "metadata": {
    "ExecuteTime": {
     "end_time": "2023-05-17T03:38:23.462957Z",
     "start_time": "2023-05-17T03:38:23.458802Z"
    },
    "collapsed": false,
    "jupyter": {
     "outputs_hidden": false
    }
   },
   "outputs": [],
   "source": []
  },
  {
   "cell_type": "code",
   "execution_count": null,
   "metadata": {},
   "outputs": [],
   "source": []
  }
 ],
 "metadata": {
  "kernelspec": {
   "display_name": "Python 3 (ipykernel)",
   "language": "python",
   "name": "python3"
  },
  "language_info": {
   "codemirror_mode": {
    "name": "ipython",
    "version": 3
   },
   "file_extension": ".py",
   "mimetype": "text/x-python",
   "name": "python",
   "nbconvert_exporter": "python",
   "pygments_lexer": "ipython3",
   "version": "3.8.11"
  },
  "toc-autonumbering": true
 },
 "nbformat": 4,
 "nbformat_minor": 4
}
