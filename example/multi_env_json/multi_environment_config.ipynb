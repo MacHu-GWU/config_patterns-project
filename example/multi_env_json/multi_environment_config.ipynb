{
 "cells": [
  {
   "cell_type": "markdown",
   "metadata": {},
   "source": [
    "# Multi Environment Config Management\n",
    "\n",
    "In this article, we will introduce how to use the multi environment config management pattern to manage your config values in your application.\n",
    "\n",
    "## Why Config Management\n",
    "\n",
    "Before diving into multi-environment topic, let's talk about config management itself. It's important to grasp the fundamental requirements of configuration management. First and foremost, imagine you have numerous variables or values scattered throughout your application code. Some of these values are reused in multiple places. Instead of duplicating them, it's best to declare them in one central location and use them wherever needed. This way, when you make changes to these values, you only have to update them in a single place, saving you time and effort.\n",
    "\n",
    "Another crucial aspect is the use of variables instead of hard-coded strings. Why? Well, by declaring variables, you reduce the chances of making typing mistakes. Whenever you accidentally misspell something, the interpreter will promptly catch the error and alert you. It's far better to catch these errors early on than to discover them during production, potentially causing unwanted issues.\n",
    "\n",
    "Now, let's talk about managing calculations and logical operations based on configuration values. You've probably encountered code snippets scattered all over your codebase, performing small calculations using these configuration values. It becomes a hassle to track and maintain them in this scattered manner. That's why it's beneficial to centralize these calculations in a dedicated place. By doing so, you can reference these logic snippets in your application code, making it more manageable and maintainable.\n",
    "\n",
    "In summary, the purpose of config management is to:\n",
    "\n",
    "1. Improve reusability: Consolidate variables and values to avoid updating multiple code locations.\n",
    "2. Minimize typing errors: Use variables instead of hard-coded strings to minimize typing errors.\n",
    "3. Enhance maintainability: Centralize logic and calculations based on configuration values for easier management.\n",
    "\n",
    "Here are some guidelines to help you determine whether to move a code snippet to config management:\n",
    "\n",
    "1. Consider declaring a field in the config object if you come across a generic value like int, str, list, or dict, and if:\n",
    "    - There is a possibility that this value may change in the future. For instance, you may want to set the limit of the number of retries to 3 today but anticipate the need to change it to 5 tomorrow.\n",
    "    - This value is used in multiple places throughout your application code.\n",
    "2. If you encounter a Python object that is derived from other values declared in the config object, consider declaring a method or property method within the config object.\n",
    "\n",
    "## What is Multi Environment Config Management\n",
    "\n",
    "Usually, config object is a singleton within a project. You declare it once and use it everywhere. However, in enterprise projects, there are often multiple environments such as development (dev), integration (int), production (prod), and more. For example, the database connection string is different in dev and prod environment. In such cases, it becomes necessary to have multiple config objects, each representing a specific environment but sharing the same data schema. From an object-oriented programming perspective, you can think of each environment's config object as an instance of the config class.\n",
    "\n",
    "## Declare a Data Model for Config Management\n",
    "\n",
    "[config_patterns](https://github.com/MacHu-GWU/config_patterns-project) Python library ships with a module to declare a multi-environment config class in Python. Let's take a look at an example. In this example, there are two environments ``dev`` and ``prod``. And the config object has two attributes ``username`` and ``password``.\n",
    "\n",
    "First, we import [dataclasses](https://docs.python.org/3/library/dataclasses.html) to decorate the config class. And we import following classes from the ``config_patterns.patterns.multi_env_json.api`` module (function and class defined in ``api`` module consider as stable public API):\n",
    "\n",
    "- ``BaseEnvEnum``: the base class of the environment name enum class, to avoid typo when you use the environment name in your code.\n",
    "- ``BaseEnv``: the base class of the per environment object, this is where you declare your constant config values as a class attributes and derived config attributes as a method or property method.\n",
    "- ``BaseConfig``: the base class of the all-in-one config object, this is a namespace object to hold all the per environment config objects."
   ]
  },
  {
   "cell_type": "code",
   "execution_count": 14,
   "metadata": {
    "ExecuteTime": {
     "end_time": "2023-05-31T10:38:19.911255Z",
     "start_time": "2023-05-31T10:38:19.894499Z"
    },
    "collapsed": false,
    "jupyter": {
     "outputs_hidden": false
    },
    "tags": []
   },
   "outputs": [],
   "source": [
    "import os\n",
    "# content of config_define.py\n",
    "# -*- coding: utf-8 -*-\n",
    "\n",
    "import typing as T\n",
    "import os\n",
    "import dataclasses\n",
    "\n",
    "from config_patterns.patterns.multi_env_json.api import (\n",
    "    BaseEnvEnum, # the base class of the environment name enum class\n",
    "    BaseEnv, # the base class of the per environment object\n",
    "    BaseConfig, # the base class of the all-in-one config object\n",
    ")\n",
    "\n",
    "\n",
    "class EnvEnum(BaseEnvEnum):\n",
    "    dev = \"dev\" # development\n",
    "    prod = \"prod\" # production\n",
    "\n",
    "\n",
    "@dataclasses.dataclass\n",
    "class Env(BaseEnv):\n",
    "    username: T.Optional[str] = dataclasses.field(default=None)\n",
    "    password: T.Optional[str] = dataclasses.field(default=None)\n",
    "\n",
    "    @classmethod\n",
    "    def from_dict(cls, data: dict):\n",
    "        \"\"\"\n",
    "        This method defines how to create an instance of this class from a dict.\n",
    "\n",
    "        Example:\n",
    "\n",
    "            >>> Env.from_dict({\"username\": \"user1\", \"password\": \"pass1\"})\n",
    "        \"\"\"\n",
    "        return cls(**data)\n",
    "\n",
    "    @property\n",
    "    def login_info(self) -> str:\n",
    "        \"\"\"\n",
    "        This is a sample derived attribute.\n",
    "        \"\"\"\n",
    "        return f\"Hello {self.username}, please enter your password: \"\n",
    "\n",
    "\n",
    "@dataclasses.dataclass\n",
    "class Config(BaseConfig):\n",
    "    @property\n",
    "    def dev(self) -> Env:\n",
    "        \"\"\"\n",
    "        A shortcut to get the dev environment config object.\n",
    "        \"\"\"\n",
    "        return self.get_env(EnvEnum.dev)\n",
    "\n",
    "    @property\n",
    "    def prod(self) -> Env:\n",
    "        \"\"\"\n",
    "        A shortcut to get the dev environment config object.\n",
    "        \"\"\"\n",
    "        return self.get_env(EnvEnum.prod)\n",
    "\n",
    "    @classmethod\n",
    "    def get_current_env(cls) -> str:\n",
    "        \"\"\"\n",
    "        You may want a smarter way to determine the current environment.\n",
    "        For example, you may define the local laptop is ``dev``, and the\n",
    "        virtual machine is ``prod``.\n",
    "        \"\"\"\n",
    "        if \"IS_VM\" in os.environ:\n",
    "            return EnvEnum.prod.value\n",
    "        else:\n",
    "            return EnvEnum.dev.value\n",
    "\n",
    "    @property\n",
    "    def env(self) -> Env:\n",
    "        \"\"\"\n",
    "        This is a shortcut to get the current environment object.\n",
    "        \"\"\"\n",
    "        return self.get_env(self.get_current_env())"
   ]
  },
  {
   "cell_type": "markdown",
   "metadata": {},
   "source": [
    "## Load Config Data from Json File\n",
    "\n",
    "``config_patterns`` library support several backend options to store config data. We will only introduce local JSON file backend in this article. To learn more options like the AWS Cloud based S3 backend and Parameter store backend, you can read theses documents."
   ]
  },
  {
   "cell_type": "code",
   "execution_count": 15,
   "metadata": {
    "collapsed": false,
    "jupyter": {
     "outputs_hidden": false
    },
    "tags": []
   },
   "outputs": [],
   "source": [
    "# The code below declares some helper function to pretty print the data.\n",
    "import json\n",
    "from rich import print as rprint\n",
    "\n",
    "def jprint(data: dict):\n",
    "    rprint(json.dumps(data, indent=4))"
   ]
  },
  {
   "cell_type": "markdown",
   "metadata": {},
   "source": [
    "We have two JSON files: ``config.json`` for storing non-sensitive configuration data and ``config_secret.json`` for storing sensitive configuration data. Below, you can find the contents of these two JSON files. To gain a better understanding of the hierarchical JSON pattern for multi-environment configuration management, I recommend reading the following document:\n",
    "\n",
    "- [Hierarchy Json Pattern for Config Management](https://github.com/MacHu-GWU/config_patterns-project/blob/main/example/hierarchy_json_example.ipynb)\n",
    "- [Separate and Merge Non-Sensitive Data and Secret Data](https://github.com/MacHu-GWU/config_patterns-project/blob/main/example/separate_and_merge_non_sesitive_and_sensitive_data_example.ipynb)\n"
   ]
  },
  {
   "cell_type": "code",
   "execution_count": 16,
   "metadata": {
    "ExecuteTime": {
     "end_time": "2023-05-31T09:31:48.675308Z",
     "start_time": "2023-05-31T09:31:48.671067Z"
    },
    "collapsed": false,
    "jupyter": {
     "outputs_hidden": false
    },
    "tags": []
   },
   "outputs": [
    {
     "data": {
      "text/html": [
       "<pre style=\"white-space:pre;overflow-x:auto;line-height:normal;font-family:Menlo,'DejaVu Sans Mono',consolas,'Courier New',monospace\"># content of config.json\n",
       "<span style=\"font-weight: bold\">{</span>\n",
       "    # this config file support comments, you can put documentation in the config file\n",
       "    <span style=\"color: #008000; text-decoration-color: #008000\">\"_shared\"</span>: <span style=\"font-weight: bold\">{</span>\n",
       "        <span style=\"color: #008000; text-decoration-color: #008000\">\"*.project_name\"</span>: <span style=\"color: #008000; text-decoration-color: #008000\">\"my_project\"</span>\n",
       "    <span style=\"font-weight: bold\">}</span>,\n",
       "    <span style=\"color: #008000; text-decoration-color: #008000\">\"dev\"</span>: <span style=\"font-weight: bold\">{</span>\n",
       "        <span style=\"color: #008000; text-decoration-color: #008000\">\"username\"</span>: <span style=\"color: #008000; text-decoration-color: #008000\">\"dev.user.v1\"</span>\n",
       "    <span style=\"font-weight: bold\">}</span>,\n",
       "    <span style=\"color: #008000; text-decoration-color: #008000\">\"prod\"</span>: <span style=\"font-weight: bold\">{</span>\n",
       "        <span style=\"color: #008000; text-decoration-color: #008000\">\"username\"</span>: <span style=\"color: #008000; text-decoration-color: #008000\">\"prod.user.v1\"</span>\n",
       "    <span style=\"font-weight: bold\">}</span>\n",
       "<span style=\"font-weight: bold\">}</span>\n",
       "</pre>\n"
      ],
      "text/plain": [
       "# content of config.json\n",
       "\u001b[1m{\u001b[0m\n",
       "    # this config file support comments, you can put documentation in the config file\n",
       "    \u001b[32m\"_shared\"\u001b[0m: \u001b[1m{\u001b[0m\n",
       "        \u001b[32m\"*.project_name\"\u001b[0m: \u001b[32m\"my_project\"\u001b[0m\n",
       "    \u001b[1m}\u001b[0m,\n",
       "    \u001b[32m\"dev\"\u001b[0m: \u001b[1m{\u001b[0m\n",
       "        \u001b[32m\"username\"\u001b[0m: \u001b[32m\"dev.user.v1\"\u001b[0m\n",
       "    \u001b[1m}\u001b[0m,\n",
       "    \u001b[32m\"prod\"\u001b[0m: \u001b[1m{\u001b[0m\n",
       "        \u001b[32m\"username\"\u001b[0m: \u001b[32m\"prod.user.v1\"\u001b[0m\n",
       "    \u001b[1m}\u001b[0m\n",
       "\u001b[1m}\u001b[0m\n"
      ]
     },
     "metadata": {},
     "output_type": "display_data"
    }
   ],
   "source": [
    "from python_lib.config_paths import (\n",
    "    path_config_v1,\n",
    "    path_config_secret_v1,\n",
    ")\n",
    "\n",
    "rprint(path_config_v1.read_text())"
   ]
  },
  {
   "cell_type": "code",
   "execution_count": 17,
   "metadata": {
    "ExecuteTime": {
     "end_time": "2023-05-31T09:31:48.904418Z",
     "start_time": "2023-05-31T09:31:48.901246Z"
    },
    "collapsed": false,
    "jupyter": {
     "outputs_hidden": false
    },
    "tags": []
   },
   "outputs": [
    {
     "data": {
      "text/html": [
       "<pre style=\"white-space:pre;overflow-x:auto;line-height:normal;font-family:Menlo,'DejaVu Sans Mono',consolas,'Courier New',monospace\"># content of secret_config.json\n",
       "<span style=\"font-weight: bold\">{</span>\n",
       "    # this config file support comments, you can put documentation in the config file\n",
       "    <span style=\"color: #008000; text-decoration-color: #008000\">\"_shared\"</span>: <span style=\"font-weight: bold\">{</span>\n",
       "    <span style=\"font-weight: bold\">}</span>,\n",
       "    <span style=\"color: #008000; text-decoration-color: #008000\">\"dev\"</span>: <span style=\"font-weight: bold\">{</span>\n",
       "        <span style=\"color: #008000; text-decoration-color: #008000\">\"password\"</span>: <span style=\"color: #008000; text-decoration-color: #008000\">\"dev.password\"</span>\n",
       "    <span style=\"font-weight: bold\">}</span>,\n",
       "    <span style=\"color: #008000; text-decoration-color: #008000\">\"prod\"</span>: <span style=\"font-weight: bold\">{</span>\n",
       "        <span style=\"color: #008000; text-decoration-color: #008000\">\"password\"</span>: <span style=\"color: #008000; text-decoration-color: #008000\">\"prod.password\"</span>\n",
       "    <span style=\"font-weight: bold\">}</span>\n",
       "<span style=\"font-weight: bold\">}</span>\n",
       "</pre>\n"
      ],
      "text/plain": [
       "# content of secret_config.json\n",
       "\u001b[1m{\u001b[0m\n",
       "    # this config file support comments, you can put documentation in the config file\n",
       "    \u001b[32m\"_shared\"\u001b[0m: \u001b[1m{\u001b[0m\n",
       "    \u001b[1m}\u001b[0m,\n",
       "    \u001b[32m\"dev\"\u001b[0m: \u001b[1m{\u001b[0m\n",
       "        \u001b[32m\"password\"\u001b[0m: \u001b[32m\"dev.password\"\u001b[0m\n",
       "    \u001b[1m}\u001b[0m,\n",
       "    \u001b[32m\"prod\"\u001b[0m: \u001b[1m{\u001b[0m\n",
       "        \u001b[32m\"password\"\u001b[0m: \u001b[32m\"prod.password\"\u001b[0m\n",
       "    \u001b[1m}\u001b[0m\n",
       "\u001b[1m}\u001b[0m\n"
      ]
     },
     "metadata": {},
     "output_type": "display_data"
    }
   ],
   "source": [
    "rprint(path_config_secret_v1.read_text())"
   ]
  },
  {
   "cell_type": "markdown",
   "metadata": {},
   "source": [
    "The ``config_patterns.patterns.multi_env_json.api.BaseConfig.read()`` method creates an all-environments-in-one config object as a name space to access per-environment config objects. It takes two mandatory arguments:\n",
    "\n",
    "- ``env_class``: The class (Not instance) of the per-environment config object. So the name space knows what object to create for each environment.\n",
    "- ``env_enum_class``: The enum class (Not instance) of the environment name enum class. So the name space knows the list of valid environment names.\n",
    "\n",
    "It takes additional arguments based on the backend options. For local JSON file backend, it takes two additional arguments:\n",
    "\n",
    "- ``path_config``: the path to the json file where you store non sensitive data\n",
    "- ``path_secret_config``: the path to the json file where you store sensitive data\n"
   ]
  },
  {
   "cell_type": "code",
   "execution_count": 18,
   "metadata": {
    "ExecuteTime": {
     "end_time": "2023-05-31T12:39:42.671760Z",
     "start_time": "2023-05-31T12:39:42.637575Z"
    },
    "collapsed": false,
    "jupyter": {
     "outputs_hidden": false
    },
    "tags": []
   },
   "outputs": [
    {
     "data": {
      "text/html": [
       "<pre style=\"white-space:pre;overflow-x:auto;line-height:normal;font-family:Menlo,'DejaVu Sans Mono',consolas,'Courier New',monospace\"><span style=\"color: #800080; text-decoration-color: #800080; font-weight: bold\">Config</span><span style=\"font-weight: bold\">(</span>\n",
       "    <span style=\"color: #808000; text-decoration-color: #808000\">data</span>=<span style=\"font-weight: bold\">{</span>\n",
       "        <span style=\"color: #008000; text-decoration-color: #008000\">'_shared'</span>: <span style=\"font-weight: bold\">{</span><span style=\"color: #008000; text-decoration-color: #008000\">'*.project_name'</span>: <span style=\"color: #008000; text-decoration-color: #008000\">'my_project'</span><span style=\"font-weight: bold\">}</span>,\n",
       "        <span style=\"color: #008000; text-decoration-color: #008000\">'dev'</span>: <span style=\"font-weight: bold\">{</span><span style=\"color: #008000; text-decoration-color: #008000\">'username'</span>: <span style=\"color: #008000; text-decoration-color: #008000\">'dev.user.v1'</span><span style=\"font-weight: bold\">}</span>,\n",
       "        <span style=\"color: #008000; text-decoration-color: #008000\">'prod'</span>: <span style=\"font-weight: bold\">{</span><span style=\"color: #008000; text-decoration-color: #008000\">'username'</span>: <span style=\"color: #008000; text-decoration-color: #008000\">'prod.user.v1'</span><span style=\"font-weight: bold\">}</span>\n",
       "    <span style=\"font-weight: bold\">}</span>,\n",
       "    <span style=\"color: #808000; text-decoration-color: #808000\">secret_data</span>=<span style=\"font-weight: bold\">{</span><span style=\"color: #008000; text-decoration-color: #008000\">'_shared'</span>: <span style=\"font-weight: bold\">{}</span>, <span style=\"color: #008000; text-decoration-color: #008000\">'dev'</span>: <span style=\"font-weight: bold\">{</span><span style=\"color: #008000; text-decoration-color: #008000\">'password'</span>: <span style=\"color: #008000; text-decoration-color: #008000\">'dev.password'</span><span style=\"font-weight: bold\">}</span>, <span style=\"color: #008000; text-decoration-color: #008000\">'prod'</span>: <span style=\"font-weight: bold\">{</span><span style=\"color: #008000; text-decoration-color: #008000\">'password'</span>: <span style=\"color: #008000; text-decoration-color: #008000\">'prod.password'</span><span style=\"font-weight: bold\">}}</span>,\n",
       "    <span style=\"color: #808000; text-decoration-color: #808000\">Env</span>=<span style=\"font-weight: bold\">&lt;</span><span style=\"color: #ff00ff; text-decoration-color: #ff00ff; font-weight: bold\">class</span><span style=\"color: #000000; text-decoration-color: #000000\"> </span><span style=\"color: #008000; text-decoration-color: #008000\">'__main__.Env'</span><span style=\"color: #000000; text-decoration-color: #000000\">&gt;,</span>\n",
       "<span style=\"color: #000000; text-decoration-color: #000000\">    </span><span style=\"color: #808000; text-decoration-color: #808000\">EnvEnum</span><span style=\"color: #000000; text-decoration-color: #000000\">=&lt;enum </span><span style=\"color: #008000; text-decoration-color: #008000\">'EnvEnum'</span><span style=\"font-weight: bold\">&gt;</span>,\n",
       "    <span style=\"color: #808000; text-decoration-color: #808000\">version</span>=<span style=\"color: #008000; text-decoration-color: #008000\">'local'</span>,\n",
       "    <span style=\"color: #808000; text-decoration-color: #808000\">_applied_data</span>=<span style=\"font-weight: bold\">{</span>\n",
       "        <span style=\"color: #008000; text-decoration-color: #008000\">'dev'</span>: <span style=\"font-weight: bold\">{</span><span style=\"color: #008000; text-decoration-color: #008000\">'username'</span>: <span style=\"color: #008000; text-decoration-color: #008000\">'dev.user.v1'</span>, <span style=\"color: #008000; text-decoration-color: #008000\">'project_name'</span>: <span style=\"color: #008000; text-decoration-color: #008000\">'my_project'</span><span style=\"font-weight: bold\">}</span>,\n",
       "        <span style=\"color: #008000; text-decoration-color: #008000\">'prod'</span>: <span style=\"font-weight: bold\">{</span><span style=\"color: #008000; text-decoration-color: #008000\">'username'</span>: <span style=\"color: #008000; text-decoration-color: #008000\">'prod.user.v1'</span>, <span style=\"color: #008000; text-decoration-color: #008000\">'project_name'</span>: <span style=\"color: #008000; text-decoration-color: #008000\">'my_project'</span><span style=\"font-weight: bold\">}</span>\n",
       "    <span style=\"font-weight: bold\">}</span>,\n",
       "    <span style=\"color: #808000; text-decoration-color: #808000\">_applied_secret_data</span>=<span style=\"font-weight: bold\">{</span><span style=\"color: #008000; text-decoration-color: #008000\">'dev'</span>: <span style=\"font-weight: bold\">{</span><span style=\"color: #008000; text-decoration-color: #008000\">'password'</span>: <span style=\"color: #008000; text-decoration-color: #008000\">'dev.password'</span><span style=\"font-weight: bold\">}</span>, <span style=\"color: #008000; text-decoration-color: #008000\">'prod'</span>: <span style=\"font-weight: bold\">{</span><span style=\"color: #008000; text-decoration-color: #008000\">'password'</span>: <span style=\"color: #008000; text-decoration-color: #008000\">'prod.password'</span><span style=\"font-weight: bold\">}}</span>,\n",
       "    <span style=\"color: #808000; text-decoration-color: #808000\">_merged</span>=<span style=\"font-weight: bold\">{</span>\n",
       "        <span style=\"color: #008000; text-decoration-color: #008000\">'dev'</span>: <span style=\"font-weight: bold\">{</span><span style=\"color: #008000; text-decoration-color: #008000\">'username'</span>: <span style=\"color: #008000; text-decoration-color: #008000\">'dev.user.v1'</span>, <span style=\"color: #008000; text-decoration-color: #008000\">'project_name'</span>: <span style=\"color: #008000; text-decoration-color: #008000\">'my_project'</span>, <span style=\"color: #008000; text-decoration-color: #008000\">'password'</span>: <span style=\"color: #008000; text-decoration-color: #008000\">'dev.password'</span><span style=\"font-weight: bold\">}</span>,\n",
       "        <span style=\"color: #008000; text-decoration-color: #008000\">'prod'</span>: <span style=\"font-weight: bold\">{</span><span style=\"color: #008000; text-decoration-color: #008000\">'username'</span>: <span style=\"color: #008000; text-decoration-color: #008000\">'prod.user.v1'</span>, <span style=\"color: #008000; text-decoration-color: #008000\">'project_name'</span>: <span style=\"color: #008000; text-decoration-color: #008000\">'my_project'</span>, <span style=\"color: #008000; text-decoration-color: #008000\">'password'</span>: <span style=\"color: #008000; text-decoration-color: #008000\">'prod.password'</span><span style=\"font-weight: bold\">}</span>\n",
       "    <span style=\"font-weight: bold\">}</span>\n",
       "<span style=\"font-weight: bold\">)</span>\n",
       "</pre>\n"
      ],
      "text/plain": [
       "\u001b[1;35mConfig\u001b[0m\u001b[1m(\u001b[0m\n",
       "    \u001b[33mdata\u001b[0m=\u001b[1m{\u001b[0m\n",
       "        \u001b[32m'_shared'\u001b[0m: \u001b[1m{\u001b[0m\u001b[32m'*.project_name'\u001b[0m: \u001b[32m'my_project'\u001b[0m\u001b[1m}\u001b[0m,\n",
       "        \u001b[32m'dev'\u001b[0m: \u001b[1m{\u001b[0m\u001b[32m'username'\u001b[0m: \u001b[32m'dev.user.v1'\u001b[0m\u001b[1m}\u001b[0m,\n",
       "        \u001b[32m'prod'\u001b[0m: \u001b[1m{\u001b[0m\u001b[32m'username'\u001b[0m: \u001b[32m'prod.user.v1'\u001b[0m\u001b[1m}\u001b[0m\n",
       "    \u001b[1m}\u001b[0m,\n",
       "    \u001b[33msecret_data\u001b[0m=\u001b[1m{\u001b[0m\u001b[32m'_shared'\u001b[0m: \u001b[1m{\u001b[0m\u001b[1m}\u001b[0m, \u001b[32m'dev'\u001b[0m: \u001b[1m{\u001b[0m\u001b[32m'password'\u001b[0m: \u001b[32m'dev.password'\u001b[0m\u001b[1m}\u001b[0m, \u001b[32m'prod'\u001b[0m: \u001b[1m{\u001b[0m\u001b[32m'password'\u001b[0m: \u001b[32m'prod.password'\u001b[0m\u001b[1m}\u001b[0m\u001b[1m}\u001b[0m,\n",
       "    \u001b[33mEnv\u001b[0m=\u001b[1m<\u001b[0m\u001b[1;95mclass\u001b[0m\u001b[39m \u001b[0m\u001b[32m'__main__.Env'\u001b[0m\u001b[39m>,\u001b[0m\n",
       "\u001b[39m    \u001b[0m\u001b[33mEnvEnum\u001b[0m\u001b[39m=<enum \u001b[0m\u001b[32m'EnvEnum'\u001b[0m\u001b[1m>\u001b[0m,\n",
       "    \u001b[33mversion\u001b[0m=\u001b[32m'local'\u001b[0m,\n",
       "    \u001b[33m_applied_data\u001b[0m=\u001b[1m{\u001b[0m\n",
       "        \u001b[32m'dev'\u001b[0m: \u001b[1m{\u001b[0m\u001b[32m'username'\u001b[0m: \u001b[32m'dev.user.v1'\u001b[0m, \u001b[32m'project_name'\u001b[0m: \u001b[32m'my_project'\u001b[0m\u001b[1m}\u001b[0m,\n",
       "        \u001b[32m'prod'\u001b[0m: \u001b[1m{\u001b[0m\u001b[32m'username'\u001b[0m: \u001b[32m'prod.user.v1'\u001b[0m, \u001b[32m'project_name'\u001b[0m: \u001b[32m'my_project'\u001b[0m\u001b[1m}\u001b[0m\n",
       "    \u001b[1m}\u001b[0m,\n",
       "    \u001b[33m_applied_secret_data\u001b[0m=\u001b[1m{\u001b[0m\u001b[32m'dev'\u001b[0m: \u001b[1m{\u001b[0m\u001b[32m'password'\u001b[0m: \u001b[32m'dev.password'\u001b[0m\u001b[1m}\u001b[0m, \u001b[32m'prod'\u001b[0m: \u001b[1m{\u001b[0m\u001b[32m'password'\u001b[0m: \u001b[32m'prod.password'\u001b[0m\u001b[1m}\u001b[0m\u001b[1m}\u001b[0m,\n",
       "    \u001b[33m_merged\u001b[0m=\u001b[1m{\u001b[0m\n",
       "        \u001b[32m'dev'\u001b[0m: \u001b[1m{\u001b[0m\u001b[32m'username'\u001b[0m: \u001b[32m'dev.user.v1'\u001b[0m, \u001b[32m'project_name'\u001b[0m: \u001b[32m'my_project'\u001b[0m, \u001b[32m'password'\u001b[0m: \u001b[32m'dev.password'\u001b[0m\u001b[1m}\u001b[0m,\n",
       "        \u001b[32m'prod'\u001b[0m: \u001b[1m{\u001b[0m\u001b[32m'username'\u001b[0m: \u001b[32m'prod.user.v1'\u001b[0m, \u001b[32m'project_name'\u001b[0m: \u001b[32m'my_project'\u001b[0m, \u001b[32m'password'\u001b[0m: \u001b[32m'prod.password'\u001b[0m\u001b[1m}\u001b[0m\n",
       "    \u001b[1m}\u001b[0m\n",
       "\u001b[1m)\u001b[0m\n"
      ]
     },
     "metadata": {},
     "output_type": "display_data"
    }
   ],
   "source": [
    "config = Config.read(\n",
    "    env_class=Env,\n",
    "    env_enum_class=EnvEnum,\n",
    "    path_config=path_config_v1,\n",
    "    path_secret_config=path_config_secret_v1,\n",
    ")\n",
    "rprint(config)"
   ]
  },
  {
   "cell_type": "markdown",
   "metadata": {},
   "source": [
    "## Access Your Config Values in Application Code\n",
    "\n",
    "In your application code, you could create the config object by reading the config storage. Then use the Python config object to access those config values.\n",
    "\n",
    "The ``BaseConfig`` class has a ``get_env()`` method to get the per-environment config object. It takes one mandatory argument ``env_name``, it could be a string or ``BaseEnvEnum`` instance. It returns the per-environment config object. In this example, we create some property method shortcuts to access the per-environment config object.\n",
    "\n",
    "```python\n",
    "@dataclasses.dataclass\n",
    "class Config(BaseConfig):\n",
    "    @property\n",
    "    def dev(self) -> Env:\n",
    "        \"\"\"\n",
    "        A shortcut to get the dev environment config object.\n",
    "        \"\"\"\n",
    "        return self.get_env(EnvEnum.dev)\n",
    "\n",
    "    @property\n",
    "    def prod(self) -> Env:\n",
    "        \"\"\"\n",
    "        A shortcut to get the dev environment config object.\n",
    "        \"\"\"\n",
    "        return self.get_env(EnvEnum.prod)\n",
    "\n",
    "    @classmethod\n",
    "    def get_current_env(cls) -> str:\n",
    "        \"\"\"\n",
    "        You may want a smarter way to determine the current environment.\n",
    "        For example, you may define the local laptop is ``dev``, and the\n",
    "        virtual machine is ``prod``.\n",
    "        \"\"\"\n",
    "        if \"IS_VM\" in os.environ:\n",
    "            return EnvEnum.prod.value\n",
    "        else:\n",
    "            return EnvEnum.dev.value\n",
    "\n",
    "    @property\n",
    "    def env(self) -> Env:\n",
    "        \"\"\"\n",
    "        This is a shortcut to get the current environment object.\n",
    "        \"\"\"\n",
    "        return self.get_env(self.get_current_env())\n",
    "```"
   ]
  },
  {
   "cell_type": "code",
   "execution_count": 19,
   "metadata": {
    "ExecuteTime": {
     "end_time": "2023-05-31T09:34:36.221897Z",
     "start_time": "2023-05-31T09:34:36.219459Z"
    },
    "collapsed": false,
    "jupyter": {
     "outputs_hidden": false
    },
    "tags": []
   },
   "outputs": [
    {
     "data": {
      "text/plain": [
       "Env(project_name='my_project', env_name='dev', username='dev.user.v1', password='dev.password')"
      ]
     },
     "execution_count": 19,
     "metadata": {},
     "output_type": "execute_result"
    }
   ],
   "source": [
    "config.dev"
   ]
  },
  {
   "cell_type": "code",
   "execution_count": 20,
   "metadata": {
    "ExecuteTime": {
     "end_time": "2023-05-31T09:34:36.385413Z",
     "start_time": "2023-05-31T09:34:36.382354Z"
    },
    "collapsed": false,
    "jupyter": {
     "outputs_hidden": false
    },
    "tags": []
   },
   "outputs": [
    {
     "data": {
      "text/plain": [
       "Env(project_name='my_project', env_name='prod', username='prod.user.v1', password='prod.password')"
      ]
     },
     "execution_count": 20,
     "metadata": {},
     "output_type": "execute_result"
    }
   ],
   "source": [
    "config.prod"
   ]
  },
  {
   "cell_type": "code",
   "execution_count": 21,
   "metadata": {
    "ExecuteTime": {
     "end_time": "2023-05-31T09:34:36.520127Z",
     "start_time": "2023-05-31T09:34:36.516848Z"
    },
    "collapsed": false,
    "jupyter": {
     "outputs_hidden": false
    },
    "tags": []
   },
   "outputs": [
    {
     "data": {
      "text/plain": [
       "Env(project_name='my_project', env_name='dev', username='dev.user.v1', password='dev.password')"
      ]
     },
     "execution_count": 21,
     "metadata": {},
     "output_type": "execute_result"
    }
   ],
   "source": [
    "config.env"
   ]
  },
  {
   "cell_type": "code",
   "execution_count": 22,
   "metadata": {
    "ExecuteTime": {
     "end_time": "2023-05-31T09:34:36.694717Z",
     "start_time": "2023-05-31T09:34:36.690465Z"
    },
    "collapsed": false,
    "jupyter": {
     "outputs_hidden": false
    },
    "tags": []
   },
   "outputs": [
    {
     "data": {
      "text/plain": [
       "Env(project_name='my_project', env_name='prod', username='prod.user.v1', password='prod.password')"
      ]
     },
     "execution_count": 22,
     "metadata": {},
     "output_type": "execute_result"
    }
   ],
   "source": [
    "config.get_env(EnvEnum.prod)"
   ]
  },
  {
   "cell_type": "code",
   "execution_count": 23,
   "metadata": {
    "ExecuteTime": {
     "end_time": "2023-05-31T09:34:36.819745Z",
     "start_time": "2023-05-31T09:34:36.816474Z"
    },
    "collapsed": false,
    "jupyter": {
     "outputs_hidden": false
    },
    "tags": []
   },
   "outputs": [
    {
     "data": {
      "text/plain": [
       "'dev.user.v1'"
      ]
     },
     "execution_count": 23,
     "metadata": {},
     "output_type": "execute_result"
    }
   ],
   "source": [
    "config.env.username"
   ]
  },
  {
   "cell_type": "code",
   "execution_count": 24,
   "metadata": {
    "ExecuteTime": {
     "end_time": "2023-05-31T09:34:37.001828Z",
     "start_time": "2023-05-31T09:34:36.997782Z"
    },
    "collapsed": false,
    "jupyter": {
     "outputs_hidden": false
    }
   },
   "outputs": [
    {
     "data": {
      "text/plain": [
       "'dev.password'"
      ]
     },
     "execution_count": 24,
     "metadata": {},
     "output_type": "execute_result"
    }
   ],
   "source": [
    "config.env.password"
   ]
  },
  {
   "cell_type": "code",
   "execution_count": 25,
   "metadata": {
    "ExecuteTime": {
     "end_time": "2023-05-31T09:34:37.156246Z",
     "start_time": "2023-05-31T09:34:37.153987Z"
    },
    "collapsed": false,
    "jupyter": {
     "outputs_hidden": false
    }
   },
   "outputs": [
    {
     "data": {
      "text/plain": [
       "'Hello dev.user.v1, please enter your password: '"
      ]
     },
     "execution_count": 25,
     "metadata": {},
     "output_type": "execute_result"
    }
   ],
   "source": [
    "config.env.login_info"
   ]
  },
  {
   "cell_type": "markdown",
   "metadata": {},
   "source": [
    "## What Actually Happens Under the Hood?\n",
    "\n",
    "Now, let's reveal how could the ``Config`` object parse the config data and generate the per-environment config object.\n",
    "\n",
    "1. The ``Config.read()`` method reads the non sensitive data and sensitive data from the backend. And then uses the ``config_patterns.patterns.hierarchy.apply_shared_value`` and the ``config_patterns.patterns.merge_key_value.merge_key_value`` function to create a in-memory copy of the merged config data. The merged config data is a dict object."
   ]
  },
  {
   "cell_type": "code",
   "execution_count": 26,
   "metadata": {
    "ExecuteTime": {
     "end_time": "2023-05-31T12:44:24.265895Z",
     "start_time": "2023-05-31T12:44:24.259388Z"
    },
    "collapsed": false,
    "jupyter": {
     "outputs_hidden": false
    }
   },
   "outputs": [
    {
     "data": {
      "text/html": [
       "<pre style=\"white-space:pre;overflow-x:auto;line-height:normal;font-family:Menlo,'DejaVu Sans Mono',consolas,'Courier New',monospace\"><span style=\"font-weight: bold\">{</span>\n",
       "    <span style=\"color: #008000; text-decoration-color: #008000\">\"dev\"</span>: <span style=\"font-weight: bold\">{</span>\n",
       "        <span style=\"color: #008000; text-decoration-color: #008000\">\"username\"</span>: <span style=\"color: #008000; text-decoration-color: #008000\">\"dev.user.v1\"</span>,\n",
       "        <span style=\"color: #008000; text-decoration-color: #008000\">\"project_name\"</span>: <span style=\"color: #008000; text-decoration-color: #008000\">\"my_project\"</span>,\n",
       "        <span style=\"color: #008000; text-decoration-color: #008000\">\"password\"</span>: <span style=\"color: #008000; text-decoration-color: #008000\">\"dev.password\"</span>\n",
       "    <span style=\"font-weight: bold\">}</span>,\n",
       "    <span style=\"color: #008000; text-decoration-color: #008000\">\"prod\"</span>: <span style=\"font-weight: bold\">{</span>\n",
       "        <span style=\"color: #008000; text-decoration-color: #008000\">\"username\"</span>: <span style=\"color: #008000; text-decoration-color: #008000\">\"prod.user.v1\"</span>,\n",
       "        <span style=\"color: #008000; text-decoration-color: #008000\">\"project_name\"</span>: <span style=\"color: #008000; text-decoration-color: #008000\">\"my_project\"</span>,\n",
       "        <span style=\"color: #008000; text-decoration-color: #008000\">\"password\"</span>: <span style=\"color: #008000; text-decoration-color: #008000\">\"prod.password\"</span>\n",
       "    <span style=\"font-weight: bold\">}</span>\n",
       "<span style=\"font-weight: bold\">}</span>\n",
       "</pre>\n"
      ],
      "text/plain": [
       "\u001b[1m{\u001b[0m\n",
       "    \u001b[32m\"dev\"\u001b[0m: \u001b[1m{\u001b[0m\n",
       "        \u001b[32m\"username\"\u001b[0m: \u001b[32m\"dev.user.v1\"\u001b[0m,\n",
       "        \u001b[32m\"project_name\"\u001b[0m: \u001b[32m\"my_project\"\u001b[0m,\n",
       "        \u001b[32m\"password\"\u001b[0m: \u001b[32m\"dev.password\"\u001b[0m\n",
       "    \u001b[1m}\u001b[0m,\n",
       "    \u001b[32m\"prod\"\u001b[0m: \u001b[1m{\u001b[0m\n",
       "        \u001b[32m\"username\"\u001b[0m: \u001b[32m\"prod.user.v1\"\u001b[0m,\n",
       "        \u001b[32m\"project_name\"\u001b[0m: \u001b[32m\"my_project\"\u001b[0m,\n",
       "        \u001b[32m\"password\"\u001b[0m: \u001b[32m\"prod.password\"\u001b[0m\n",
       "    \u001b[1m}\u001b[0m\n",
       "\u001b[1m}\u001b[0m\n"
      ]
     },
     "metadata": {},
     "output_type": "display_data"
    }
   ],
   "source": [
    "jprint(config._merged)"
   ]
  },
  {
   "cell_type": "markdown",
   "metadata": {},
   "source": [
    "2. When the ``Config.get_env(env_name=...)`` get called, it access the dictionary object by the ``env_name`` key, and calls the ``Config.Env.from_dict(...)`` method to create the ``Env``, per-environment config object. You are responsible to implement the ``Env.from_dict(...)`` method to define how you want to deserialize the config data into the per-environment config object.\n",
    "\n",
    "```\n",
    "@dataclasses.dataclass\n",
    "class Env(BaseEnv):\n",
    "    username: T.Optional[str] = dataclasses.field(default=None)\n",
    "    password: T.Optional[str] = dataclasses.field(default=None)\n",
    "\n",
    "    @classmethod\n",
    "    def from_dict(cls, data: dict):\n",
    "        \"\"\"\n",
    "        This method defines how to create an instance of this class from a dict.\n",
    "\n",
    "        Example:\n",
    "\n",
    "            >>> Env.from_dict({\"username\": \"user1\", \"password\": \"pass1\"})\n",
    "        \"\"\"\n",
    "        return cls(**data)\n",
    "```"
   ]
  },
  {
   "cell_type": "markdown",
   "metadata": {},
   "source": [
    "## Summary\n",
    "\n",
    "Local JSON file backend is great for development. It should be the source-of-truth of your config data, and you should check in the non-sensitive config data into Git to follow the \"Configuration as Code\" principal. However, you should not deploy the config JSON file alongside with your application code. Instead, the config data should be deployed to a deligated storage, and let your application code to read from it.\n",
    "\n",
    "For cloud-based storage options, two excellent backend choices are [AWS SSM Parameter Store](https://docs.aws.amazon.com/systems-manager/latest/userguide/systems-manager-parameter-store.html) and [AWS S3](https://aws.amazon.com/s3/). These options provide built-in access management support, encryption at rest and in transit by default, as well as versioning control. They offer enhanced security and reliability for storing your config data. To learn more about these backend options, please refer to the following documents:\n",
    "\n",
    "- [Multi Environment Config Management - SSM Backend](https://github.com/MacHu-GWU/config_patterns-project/blob/main/example/multi_env_json/multi_environment_config_with_ssm_backend.ipynb)\n",
    "- [Multi Environment Config Management - S3 Backend](https://github.com/MacHu-GWU/config_patterns-project/blob/main/example/multi_env_json/multi_environment_config_with_s3_backend.ipynb)\n"
   ]
  },
  {
   "cell_type": "code",
   "execution_count": null,
   "metadata": {
    "collapsed": false,
    "jupyter": {
     "outputs_hidden": false
    }
   },
   "outputs": [],
   "source": []
  }
 ],
 "metadata": {
  "kernelspec": {
   "display_name": "Python 3 (ipykernel)",
   "language": "python",
   "name": "python3"
  },
  "language_info": {
   "codemirror_mode": {
    "name": "ipython",
    "version": 3
   },
   "file_extension": ".py",
   "mimetype": "text/x-python",
   "name": "python",
   "nbconvert_exporter": "python",
   "pygments_lexer": "ipython3",
   "version": "3.8.11"
  }
 },
 "nbformat": 4,
 "nbformat_minor": 4
}
