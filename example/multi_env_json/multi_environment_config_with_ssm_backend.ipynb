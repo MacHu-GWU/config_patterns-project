{
 "cells": [
  {
   "cell_type": "markdown",
   "metadata": {},
   "source": [
    "# Multi Environment Config Management - SSM Backend\n",
    "\n",
    "This is a follow up of [Multi Environment Config Management](https://github.com/MacHu-GWU/config_patterns-project/blob/main/example/multi_env_json/multi_environment_config.ipynb). In this article, we will introduce using [AWS System Manager Parameter Store](https://docs.aws.amazon.com/systems-manager/latest/userguide/systems-manager-parameter-store.html) as the backend to manage your multi-environment configurations.\n",
    "\n",
    "We have prepared three versions of the config (v1, v2, v3) for testing purposes. Now, let's take a preview of the config data for each version."
   ]
  },
  {
   "cell_type": "code",
   "execution_count": 1,
   "metadata": {
    "ExecuteTime": {
     "end_time": "2023-05-31T16:30:59.902019Z",
     "start_time": "2023-05-31T16:30:59.885948Z"
    },
    "collapsed": false,
    "jupyter": {
     "outputs_hidden": false
    },
    "tags": []
   },
   "outputs": [],
   "source": [
    "import json\n",
    "from rich import print as rprint\n",
    "\n",
    "def jprint(data: dict):\n",
    "    rprint(json.dumps(data, indent=4))"
   ]
  },
  {
   "cell_type": "code",
   "execution_count": 2,
   "metadata": {
    "ExecuteTime": {
     "end_time": "2023-05-31T16:32:06.309122Z",
     "start_time": "2023-05-31T16:32:06.265804Z"
    },
    "collapsed": false,
    "jupyter": {
     "outputs_hidden": false
    },
    "tags": []
   },
   "outputs": [
    {
     "name": "stdout",
     "output_type": "stream",
     "text": [
      "------ Version 1 ------\n"
     ]
    },
    {
     "data": {
      "text/html": [
       "<pre style=\"white-space:pre;overflow-x:auto;line-height:normal;font-family:Menlo,'DejaVu Sans Mono',consolas,'Courier New',monospace\"># content of config.json\n",
       "<span style=\"font-weight: bold\">{</span>\n",
       "    # this config file support comments, you can put documentation in the config file\n",
       "    <span style=\"color: #008000; text-decoration-color: #008000\">\"_shared\"</span>: <span style=\"font-weight: bold\">{</span>\n",
       "        <span style=\"color: #008000; text-decoration-color: #008000\">\"*.project_name\"</span>: <span style=\"color: #008000; text-decoration-color: #008000\">\"my_project\"</span>\n",
       "    <span style=\"font-weight: bold\">}</span>,\n",
       "    <span style=\"color: #008000; text-decoration-color: #008000\">\"dev\"</span>: <span style=\"font-weight: bold\">{</span>\n",
       "        <span style=\"color: #008000; text-decoration-color: #008000\">\"username\"</span>: <span style=\"color: #008000; text-decoration-color: #008000\">\"dev.user.v1\"</span>\n",
       "    <span style=\"font-weight: bold\">}</span>,\n",
       "    <span style=\"color: #008000; text-decoration-color: #008000\">\"prod\"</span>: <span style=\"font-weight: bold\">{</span>\n",
       "        <span style=\"color: #008000; text-decoration-color: #008000\">\"username\"</span>: <span style=\"color: #008000; text-decoration-color: #008000\">\"prod.user.v1\"</span>\n",
       "    <span style=\"font-weight: bold\">}</span>\n",
       "<span style=\"font-weight: bold\">}</span>\n",
       "</pre>\n"
      ],
      "text/plain": [
       "# content of config.json\n",
       "\u001b[1m{\u001b[0m\n",
       "    # this config file support comments, you can put documentation in the config file\n",
       "    \u001b[32m\"_shared\"\u001b[0m: \u001b[1m{\u001b[0m\n",
       "        \u001b[32m\"*.project_name\"\u001b[0m: \u001b[32m\"my_project\"\u001b[0m\n",
       "    \u001b[1m}\u001b[0m,\n",
       "    \u001b[32m\"dev\"\u001b[0m: \u001b[1m{\u001b[0m\n",
       "        \u001b[32m\"username\"\u001b[0m: \u001b[32m\"dev.user.v1\"\u001b[0m\n",
       "    \u001b[1m}\u001b[0m,\n",
       "    \u001b[32m\"prod\"\u001b[0m: \u001b[1m{\u001b[0m\n",
       "        \u001b[32m\"username\"\u001b[0m: \u001b[32m\"prod.user.v1\"\u001b[0m\n",
       "    \u001b[1m}\u001b[0m\n",
       "\u001b[1m}\u001b[0m\n"
      ]
     },
     "metadata": {},
     "output_type": "display_data"
    },
    {
     "data": {
      "text/html": [
       "<pre style=\"white-space:pre;overflow-x:auto;line-height:normal;font-family:Menlo,'DejaVu Sans Mono',consolas,'Courier New',monospace\"># content of secret_config.json\n",
       "<span style=\"font-weight: bold\">{</span>\n",
       "    # this config file support comments, you can put documentation in the config file\n",
       "    <span style=\"color: #008000; text-decoration-color: #008000\">\"_shared\"</span>: <span style=\"font-weight: bold\">{</span>\n",
       "    <span style=\"font-weight: bold\">}</span>,\n",
       "    <span style=\"color: #008000; text-decoration-color: #008000\">\"dev\"</span>: <span style=\"font-weight: bold\">{</span>\n",
       "        <span style=\"color: #008000; text-decoration-color: #008000\">\"password\"</span>: <span style=\"color: #008000; text-decoration-color: #008000\">\"dev.password\"</span>\n",
       "    <span style=\"font-weight: bold\">}</span>,\n",
       "    <span style=\"color: #008000; text-decoration-color: #008000\">\"prod\"</span>: <span style=\"font-weight: bold\">{</span>\n",
       "        <span style=\"color: #008000; text-decoration-color: #008000\">\"password\"</span>: <span style=\"color: #008000; text-decoration-color: #008000\">\"prod.password\"</span>\n",
       "    <span style=\"font-weight: bold\">}</span>\n",
       "<span style=\"font-weight: bold\">}</span>\n",
       "</pre>\n"
      ],
      "text/plain": [
       "# content of secret_config.json\n",
       "\u001b[1m{\u001b[0m\n",
       "    # this config file support comments, you can put documentation in the config file\n",
       "    \u001b[32m\"_shared\"\u001b[0m: \u001b[1m{\u001b[0m\n",
       "    \u001b[1m}\u001b[0m,\n",
       "    \u001b[32m\"dev\"\u001b[0m: \u001b[1m{\u001b[0m\n",
       "        \u001b[32m\"password\"\u001b[0m: \u001b[32m\"dev.password\"\u001b[0m\n",
       "    \u001b[1m}\u001b[0m,\n",
       "    \u001b[32m\"prod\"\u001b[0m: \u001b[1m{\u001b[0m\n",
       "        \u001b[32m\"password\"\u001b[0m: \u001b[32m\"prod.password\"\u001b[0m\n",
       "    \u001b[1m}\u001b[0m\n",
       "\u001b[1m}\u001b[0m\n"
      ]
     },
     "metadata": {},
     "output_type": "display_data"
    },
    {
     "name": "stdout",
     "output_type": "stream",
     "text": [
      "------ Version 2: ------\n"
     ]
    },
    {
     "data": {
      "text/html": [
       "<pre style=\"white-space:pre;overflow-x:auto;line-height:normal;font-family:Menlo,'DejaVu Sans Mono',consolas,'Courier New',monospace\"># content of config.json\n",
       "<span style=\"font-weight: bold\">{</span>\n",
       "    # this config file support comments, you can put documentation in the config file\n",
       "    <span style=\"color: #008000; text-decoration-color: #008000\">\"_shared\"</span>: <span style=\"font-weight: bold\">{</span>\n",
       "        <span style=\"color: #008000; text-decoration-color: #008000\">\"*.project_name\"</span>: <span style=\"color: #008000; text-decoration-color: #008000\">\"my_project\"</span>\n",
       "    <span style=\"font-weight: bold\">}</span>,\n",
       "    <span style=\"color: #008000; text-decoration-color: #008000\">\"dev\"</span>: <span style=\"font-weight: bold\">{</span>\n",
       "        <span style=\"color: #008000; text-decoration-color: #008000\">\"username\"</span>: <span style=\"color: #008000; text-decoration-color: #008000\">\"dev.user.v2\"</span>\n",
       "    <span style=\"font-weight: bold\">}</span>,\n",
       "    <span style=\"color: #008000; text-decoration-color: #008000\">\"prod\"</span>: <span style=\"font-weight: bold\">{</span>\n",
       "        <span style=\"color: #008000; text-decoration-color: #008000\">\"username\"</span>: <span style=\"color: #008000; text-decoration-color: #008000\">\"prod.user.v2\"</span>\n",
       "    <span style=\"font-weight: bold\">}</span>\n",
       "<span style=\"font-weight: bold\">}</span>\n",
       "</pre>\n"
      ],
      "text/plain": [
       "# content of config.json\n",
       "\u001b[1m{\u001b[0m\n",
       "    # this config file support comments, you can put documentation in the config file\n",
       "    \u001b[32m\"_shared\"\u001b[0m: \u001b[1m{\u001b[0m\n",
       "        \u001b[32m\"*.project_name\"\u001b[0m: \u001b[32m\"my_project\"\u001b[0m\n",
       "    \u001b[1m}\u001b[0m,\n",
       "    \u001b[32m\"dev\"\u001b[0m: \u001b[1m{\u001b[0m\n",
       "        \u001b[32m\"username\"\u001b[0m: \u001b[32m\"dev.user.v2\"\u001b[0m\n",
       "    \u001b[1m}\u001b[0m,\n",
       "    \u001b[32m\"prod\"\u001b[0m: \u001b[1m{\u001b[0m\n",
       "        \u001b[32m\"username\"\u001b[0m: \u001b[32m\"prod.user.v2\"\u001b[0m\n",
       "    \u001b[1m}\u001b[0m\n",
       "\u001b[1m}\u001b[0m\n"
      ]
     },
     "metadata": {},
     "output_type": "display_data"
    },
    {
     "data": {
      "text/html": [
       "<pre style=\"white-space:pre;overflow-x:auto;line-height:normal;font-family:Menlo,'DejaVu Sans Mono',consolas,'Courier New',monospace\"># content of secret_config.json\n",
       "<span style=\"font-weight: bold\">{</span>\n",
       "    # this config file support comments, you can put documentation in the config file\n",
       "    <span style=\"color: #008000; text-decoration-color: #008000\">\"_shared\"</span>: <span style=\"font-weight: bold\">{</span>\n",
       "    <span style=\"font-weight: bold\">}</span>,\n",
       "    <span style=\"color: #008000; text-decoration-color: #008000\">\"dev\"</span>: <span style=\"font-weight: bold\">{</span>\n",
       "        <span style=\"color: #008000; text-decoration-color: #008000\">\"password\"</span>: <span style=\"color: #008000; text-decoration-color: #008000\">\"dev.password\"</span>\n",
       "    <span style=\"font-weight: bold\">}</span>,\n",
       "    <span style=\"color: #008000; text-decoration-color: #008000\">\"prod\"</span>: <span style=\"font-weight: bold\">{</span>\n",
       "        <span style=\"color: #008000; text-decoration-color: #008000\">\"password\"</span>: <span style=\"color: #008000; text-decoration-color: #008000\">\"prod.password\"</span>\n",
       "    <span style=\"font-weight: bold\">}</span>\n",
       "<span style=\"font-weight: bold\">}</span>\n",
       "</pre>\n"
      ],
      "text/plain": [
       "# content of secret_config.json\n",
       "\u001b[1m{\u001b[0m\n",
       "    # this config file support comments, you can put documentation in the config file\n",
       "    \u001b[32m\"_shared\"\u001b[0m: \u001b[1m{\u001b[0m\n",
       "    \u001b[1m}\u001b[0m,\n",
       "    \u001b[32m\"dev\"\u001b[0m: \u001b[1m{\u001b[0m\n",
       "        \u001b[32m\"password\"\u001b[0m: \u001b[32m\"dev.password\"\u001b[0m\n",
       "    \u001b[1m}\u001b[0m,\n",
       "    \u001b[32m\"prod\"\u001b[0m: \u001b[1m{\u001b[0m\n",
       "        \u001b[32m\"password\"\u001b[0m: \u001b[32m\"prod.password\"\u001b[0m\n",
       "    \u001b[1m}\u001b[0m\n",
       "\u001b[1m}\u001b[0m\n"
      ]
     },
     "metadata": {},
     "output_type": "display_data"
    },
    {
     "name": "stdout",
     "output_type": "stream",
     "text": [
      "------ Version 3: ------\n"
     ]
    },
    {
     "data": {
      "text/html": [
       "<pre style=\"white-space:pre;overflow-x:auto;line-height:normal;font-family:Menlo,'DejaVu Sans Mono',consolas,'Courier New',monospace\"># content of config.json\n",
       "<span style=\"font-weight: bold\">{</span>\n",
       "    # this config file support comments, you can put documentation in the config file\n",
       "    <span style=\"color: #008000; text-decoration-color: #008000\">\"_shared\"</span>: <span style=\"font-weight: bold\">{</span>\n",
       "        <span style=\"color: #008000; text-decoration-color: #008000\">\"*.project_name\"</span>: <span style=\"color: #008000; text-decoration-color: #008000\">\"my_project\"</span>\n",
       "    <span style=\"font-weight: bold\">}</span>,\n",
       "    <span style=\"color: #008000; text-decoration-color: #008000\">\"dev\"</span>: <span style=\"font-weight: bold\">{</span>\n",
       "        <span style=\"color: #008000; text-decoration-color: #008000\">\"username\"</span>: <span style=\"color: #008000; text-decoration-color: #008000\">\"dev.user.v3\"</span>\n",
       "    <span style=\"font-weight: bold\">}</span>,\n",
       "    <span style=\"color: #008000; text-decoration-color: #008000\">\"prod\"</span>: <span style=\"font-weight: bold\">{</span>\n",
       "        <span style=\"color: #008000; text-decoration-color: #008000\">\"username\"</span>: <span style=\"color: #008000; text-decoration-color: #008000\">\"prod.user.v3\"</span>\n",
       "    <span style=\"font-weight: bold\">}</span>\n",
       "<span style=\"font-weight: bold\">}</span>\n",
       "</pre>\n"
      ],
      "text/plain": [
       "# content of config.json\n",
       "\u001b[1m{\u001b[0m\n",
       "    # this config file support comments, you can put documentation in the config file\n",
       "    \u001b[32m\"_shared\"\u001b[0m: \u001b[1m{\u001b[0m\n",
       "        \u001b[32m\"*.project_name\"\u001b[0m: \u001b[32m\"my_project\"\u001b[0m\n",
       "    \u001b[1m}\u001b[0m,\n",
       "    \u001b[32m\"dev\"\u001b[0m: \u001b[1m{\u001b[0m\n",
       "        \u001b[32m\"username\"\u001b[0m: \u001b[32m\"dev.user.v3\"\u001b[0m\n",
       "    \u001b[1m}\u001b[0m,\n",
       "    \u001b[32m\"prod\"\u001b[0m: \u001b[1m{\u001b[0m\n",
       "        \u001b[32m\"username\"\u001b[0m: \u001b[32m\"prod.user.v3\"\u001b[0m\n",
       "    \u001b[1m}\u001b[0m\n",
       "\u001b[1m}\u001b[0m\n"
      ]
     },
     "metadata": {},
     "output_type": "display_data"
    },
    {
     "data": {
      "text/html": [
       "<pre style=\"white-space:pre;overflow-x:auto;line-height:normal;font-family:Menlo,'DejaVu Sans Mono',consolas,'Courier New',monospace\"># content of secret_config.json\n",
       "<span style=\"font-weight: bold\">{</span>\n",
       "    # this config file support comments, you can put documentation in the config file\n",
       "    <span style=\"color: #008000; text-decoration-color: #008000\">\"_shared\"</span>: <span style=\"font-weight: bold\">{</span>\n",
       "    <span style=\"font-weight: bold\">}</span>,\n",
       "    <span style=\"color: #008000; text-decoration-color: #008000\">\"dev\"</span>: <span style=\"font-weight: bold\">{</span>\n",
       "        <span style=\"color: #008000; text-decoration-color: #008000\">\"password\"</span>: <span style=\"color: #008000; text-decoration-color: #008000\">\"dev.password\"</span>\n",
       "    <span style=\"font-weight: bold\">}</span>,\n",
       "    <span style=\"color: #008000; text-decoration-color: #008000\">\"prod\"</span>: <span style=\"font-weight: bold\">{</span>\n",
       "        <span style=\"color: #008000; text-decoration-color: #008000\">\"password\"</span>: <span style=\"color: #008000; text-decoration-color: #008000\">\"prod.password\"</span>\n",
       "    <span style=\"font-weight: bold\">}</span>\n",
       "<span style=\"font-weight: bold\">}</span>\n",
       "</pre>\n"
      ],
      "text/plain": [
       "# content of secret_config.json\n",
       "\u001b[1m{\u001b[0m\n",
       "    # this config file support comments, you can put documentation in the config file\n",
       "    \u001b[32m\"_shared\"\u001b[0m: \u001b[1m{\u001b[0m\n",
       "    \u001b[1m}\u001b[0m,\n",
       "    \u001b[32m\"dev\"\u001b[0m: \u001b[1m{\u001b[0m\n",
       "        \u001b[32m\"password\"\u001b[0m: \u001b[32m\"dev.password\"\u001b[0m\n",
       "    \u001b[1m}\u001b[0m,\n",
       "    \u001b[32m\"prod\"\u001b[0m: \u001b[1m{\u001b[0m\n",
       "        \u001b[32m\"password\"\u001b[0m: \u001b[32m\"prod.password\"\u001b[0m\n",
       "    \u001b[1m}\u001b[0m\n",
       "\u001b[1m}\u001b[0m\n"
      ]
     },
     "metadata": {},
     "output_type": "display_data"
    }
   ],
   "source": [
    "from confg_loader import (\n",
    "    path_config_v1,\n",
    "    path_config_secret_v1,\n",
    "    path_config_v2,\n",
    "    path_config_secret_v2,\n",
    "    path_config_v3,\n",
    "    path_config_secret_v3,\n",
    ")\n",
    "\n",
    "print(\"------ Version 1 ------\")\n",
    "rprint(path_config_v1.read_text())\n",
    "rprint(path_config_secret_v1.read_text())\n",
    "\n",
    "print(\"------ Version 2: ------\")\n",
    "rprint(path_config_v2.read_text())\n",
    "rprint(path_config_secret_v2.read_text())\n",
    "\n",
    "print(\"------ Version 3: ------\")\n",
    "rprint(path_config_v3.read_text())\n",
    "rprint(path_config_secret_v3.read_text())"
   ]
  },
  {
   "cell_type": "markdown",
   "metadata": {},
   "source": [
    "Similar to what we have done in [Multi Environment Config Management](https://github.com/MacHu-GWU/config_patterns-project/blob/main/example/multi_env_json/multi_environment_config.ipynb), we declared the config data model as below."
   ]
  },
  {
   "cell_type": "code",
   "execution_count": 3,
   "metadata": {
    "ExecuteTime": {
     "end_time": "2023-05-31T16:33:41.338264Z",
     "start_time": "2023-05-31T16:33:41.332623Z"
    },
    "collapsed": false,
    "jupyter": {
     "outputs_hidden": false
    },
    "tags": []
   },
   "outputs": [],
   "source": [
    "import os\n",
    "# content of config_define.py\n",
    "# -*- coding: utf-8 -*-\n",
    "\n",
    "import typing as T\n",
    "import os\n",
    "import dataclasses\n",
    "\n",
    "from config_patterns.patterns.multi_env_json.api import (\n",
    "    BaseEnvEnum, # the base class of the environment name enum class\n",
    "    BaseEnv, # the base class of the per environment object\n",
    "    BaseConfig, # the base class of the all-in-one config object\n",
    ")\n",
    "\n",
    "\n",
    "class EnvEnum(BaseEnvEnum):\n",
    "    dev = \"dev\" # development\n",
    "    prod = \"prod\" # production\n",
    "\n",
    "\n",
    "@dataclasses.dataclass\n",
    "class Env(BaseEnv):\n",
    "    username: T.Optional[str] = dataclasses.field(default=None)\n",
    "    password: T.Optional[str] = dataclasses.field(default=None)\n",
    "\n",
    "    @classmethod\n",
    "    def from_dict(cls, data: dict):\n",
    "        \"\"\"\n",
    "        This method defines how to create an instance of this class from a dict.\n",
    "\n",
    "        Example:\n",
    "\n",
    "            >>> Env.from_dict({\"username\": \"user1\", \"password\": \"pass1\"})\n",
    "        \"\"\"\n",
    "        return cls(**data)\n",
    "\n",
    "    @property\n",
    "    def login_info(self) -> str:\n",
    "        \"\"\"\n",
    "        This is a sample derived attribute.\n",
    "        \"\"\"\n",
    "        return f\"Hello {self.username}, please enter your password: \"\n",
    "\n",
    "\n",
    "@dataclasses.dataclass\n",
    "class Config(BaseConfig):\n",
    "    @property\n",
    "    def dev(self) -> Env:\n",
    "        \"\"\"\n",
    "        A shortcut to get the dev environment config object.\n",
    "        \"\"\"\n",
    "        return self.get_env(EnvEnum.dev)\n",
    "\n",
    "    @property\n",
    "    def prod(self) -> Env:\n",
    "        \"\"\"\n",
    "        A shortcut to get the dev environment config object.\n",
    "        \"\"\"\n",
    "        return self.get_env(EnvEnum.prod)\n",
    "\n",
    "    @classmethod\n",
    "    def get_current_env(cls) -> str:\n",
    "        \"\"\"\n",
    "        You may want a smarter way to determine the current environment.\n",
    "        For example, you may define the local laptop is ``dev``, and the\n",
    "        virtual machine is ``prod``.\n",
    "        \"\"\"\n",
    "        if \"IS_VM\" in os.environ:\n",
    "            return EnvEnum.prod.value\n",
    "        else:\n",
    "            return EnvEnum.dev.value\n",
    "\n",
    "    @property\n",
    "    def env(self) -> Env:\n",
    "        \"\"\"\n",
    "        This is a shortcut to get the current environment object.\n",
    "        \"\"\"\n",
    "        return self.get_env(self.get_current_env())"
   ]
  },
  {
   "cell_type": "markdown",
   "metadata": {
    "jupyter": {
     "outputs_hidden": false
    }
   },
   "source": [
    "In this tutorial, we utilize [moto](https://docs.getmoto.org/en/latest/docs/getting_started.html) to mock AWS services. Therefore, you don't need to set up a real AWS account and can concentrate solely on understanding the concepts."
   ]
  },
  {
   "cell_type": "code",
   "execution_count": 4,
   "metadata": {
    "ExecuteTime": {
     "end_time": "2023-05-31T18:49:51.232823Z",
     "start_time": "2023-05-31T18:49:51.158035Z"
    },
    "collapsed": false,
    "jupyter": {
     "outputs_hidden": false
    },
    "tags": []
   },
   "outputs": [
    {
     "data": {
      "text/html": [
       "<pre style=\"white-space:pre;overflow-x:auto;line-height:normal;font-family:Menlo,'DejaVu Sans Mono',consolas,'Courier New',monospace\"><span style=\"font-weight: bold\">{</span>\n",
       "    <span style=\"color: #008000; text-decoration-color: #008000\">'ResponseMetadata'</span>: <span style=\"font-weight: bold\">{</span>\n",
       "        <span style=\"color: #008000; text-decoration-color: #008000\">'RequestId'</span>: <span style=\"color: #008000; text-decoration-color: #008000\">'L4vwfOYc0Mb1pwgXDUlt1yHiuDcbdVyEyF1JlQvvVQgVZMHa5odl'</span>,\n",
       "        <span style=\"color: #008000; text-decoration-color: #008000\">'HTTPStatusCode'</span>: <span style=\"color: #008080; text-decoration-color: #008080; font-weight: bold\">200</span>,\n",
       "        <span style=\"color: #008000; text-decoration-color: #008000\">'HTTPHeaders'</span>: <span style=\"font-weight: bold\">{</span><span style=\"color: #008000; text-decoration-color: #008000\">'x-amzn-requestid'</span>: <span style=\"color: #008000; text-decoration-color: #008000\">'L4vwfOYc0Mb1pwgXDUlt1yHiuDcbdVyEyF1JlQvvVQgVZMHa5odl'</span><span style=\"font-weight: bold\">}</span>,\n",
       "        <span style=\"color: #008000; text-decoration-color: #008000\">'RetryAttempts'</span>: <span style=\"color: #008080; text-decoration-color: #008080; font-weight: bold\">0</span>\n",
       "    <span style=\"font-weight: bold\">}</span>\n",
       "<span style=\"font-weight: bold\">}</span>\n",
       "</pre>\n"
      ],
      "text/plain": [
       "\u001b[1m{\u001b[0m\n",
       "    \u001b[32m'ResponseMetadata'\u001b[0m: \u001b[1m{\u001b[0m\n",
       "        \u001b[32m'RequestId'\u001b[0m: \u001b[32m'L4vwfOYc0Mb1pwgXDUlt1yHiuDcbdVyEyF1JlQvvVQgVZMHa5odl'\u001b[0m,\n",
       "        \u001b[32m'HTTPStatusCode'\u001b[0m: \u001b[1;36m200\u001b[0m,\n",
       "        \u001b[32m'HTTPHeaders'\u001b[0m: \u001b[1m{\u001b[0m\u001b[32m'x-amzn-requestid'\u001b[0m: \u001b[32m'L4vwfOYc0Mb1pwgXDUlt1yHiuDcbdVyEyF1JlQvvVQgVZMHa5odl'\u001b[0m\u001b[1m}\u001b[0m,\n",
       "        \u001b[32m'RetryAttempts'\u001b[0m: \u001b[1;36m0\u001b[0m\n",
       "    \u001b[1m}\u001b[0m\n",
       "\u001b[1m}\u001b[0m\n"
      ]
     },
     "metadata": {},
     "output_type": "display_data"
    }
   ],
   "source": [
    "import moto\n",
    "from boto_session_manager import BotoSesManager\n",
    "from s3pathlib import S3Path\n",
    "\n",
    "# mock related AWS services\n",
    "mock_s3 = moto.mock_s3()\n",
    "mock_sts = moto.mock_sts()\n",
    "mock_s3.start()\n",
    "mock_sts.start()\n",
    "\n",
    "# create a boto session manager object \n",
    "bsm = BotoSesManager(region_name=\"us-east-1\")\n",
    "# define the bucket to store config files\n",
    "bucket = \"my-bucket\"\n",
    "# create the bucket first\n",
    "rprint(bsm.s3_client.create_bucket(Bucket=bucket))"
   ]
  },
  {
   "cell_type": "markdown",
   "metadata": {},
   "source": [
    "## S3 Backend Without Version Enabled (Default)\n",
    "\n",
    "### Read the Config Object from Local JSON File\n",
    "\n",
    "First, we read the config version 1 from local JSON file."
   ]
  },
  {
   "cell_type": "code",
   "execution_count": 5,
   "metadata": {
    "ExecuteTime": {
     "end_time": "2023-05-31T18:51:58.005657Z",
     "start_time": "2023-05-31T18:51:57.967056Z"
    },
    "collapsed": false,
    "jupyter": {
     "outputs_hidden": false
    },
    "tags": []
   },
   "outputs": [
    {
     "data": {
      "text/html": [
       "<pre style=\"white-space:pre;overflow-x:auto;line-height:normal;font-family:Menlo,'DejaVu Sans Mono',consolas,'Courier New',monospace\"><span style=\"color: #800080; text-decoration-color: #800080; font-weight: bold\">Config</span><span style=\"font-weight: bold\">(</span>\n",
       "    <span style=\"color: #808000; text-decoration-color: #808000\">data</span>=<span style=\"font-weight: bold\">{</span>\n",
       "        <span style=\"color: #008000; text-decoration-color: #008000\">'_shared'</span>: <span style=\"font-weight: bold\">{</span><span style=\"color: #008000; text-decoration-color: #008000\">'*.project_name'</span>: <span style=\"color: #008000; text-decoration-color: #008000\">'my_project'</span><span style=\"font-weight: bold\">}</span>,\n",
       "        <span style=\"color: #008000; text-decoration-color: #008000\">'dev'</span>: <span style=\"font-weight: bold\">{</span><span style=\"color: #008000; text-decoration-color: #008000\">'username'</span>: <span style=\"color: #008000; text-decoration-color: #008000\">'dev.user.v1'</span><span style=\"font-weight: bold\">}</span>,\n",
       "        <span style=\"color: #008000; text-decoration-color: #008000\">'prod'</span>: <span style=\"font-weight: bold\">{</span><span style=\"color: #008000; text-decoration-color: #008000\">'username'</span>: <span style=\"color: #008000; text-decoration-color: #008000\">'prod.user.v1'</span><span style=\"font-weight: bold\">}</span>\n",
       "    <span style=\"font-weight: bold\">}</span>,\n",
       "    <span style=\"color: #808000; text-decoration-color: #808000\">secret_data</span>=<span style=\"font-weight: bold\">{</span><span style=\"color: #008000; text-decoration-color: #008000\">'_shared'</span>: <span style=\"font-weight: bold\">{}</span>, <span style=\"color: #008000; text-decoration-color: #008000\">'dev'</span>: <span style=\"font-weight: bold\">{</span><span style=\"color: #008000; text-decoration-color: #008000\">'password'</span>: <span style=\"color: #008000; text-decoration-color: #008000\">'dev.password'</span><span style=\"font-weight: bold\">}</span>, <span style=\"color: #008000; text-decoration-color: #008000\">'prod'</span>: <span style=\"font-weight: bold\">{</span><span style=\"color: #008000; text-decoration-color: #008000\">'password'</span>: <span style=\"color: #008000; text-decoration-color: #008000\">'prod.password'</span><span style=\"font-weight: bold\">}}</span>,\n",
       "    <span style=\"color: #808000; text-decoration-color: #808000\">Env</span>=<span style=\"font-weight: bold\">&lt;</span><span style=\"color: #ff00ff; text-decoration-color: #ff00ff; font-weight: bold\">class</span><span style=\"color: #000000; text-decoration-color: #000000\"> </span><span style=\"color: #008000; text-decoration-color: #008000\">'__main__.Env'</span><span style=\"color: #000000; text-decoration-color: #000000\">&gt;,</span>\n",
       "<span style=\"color: #000000; text-decoration-color: #000000\">    </span><span style=\"color: #808000; text-decoration-color: #808000\">EnvEnum</span><span style=\"color: #000000; text-decoration-color: #000000\">=&lt;enum </span><span style=\"color: #008000; text-decoration-color: #008000\">'EnvEnum'</span><span style=\"font-weight: bold\">&gt;</span>,\n",
       "    <span style=\"color: #808000; text-decoration-color: #808000\">version</span>=<span style=\"color: #008000; text-decoration-color: #008000\">'local'</span>,\n",
       "    <span style=\"color: #808000; text-decoration-color: #808000\">_applied_data</span>=<span style=\"font-weight: bold\">{</span>\n",
       "        <span style=\"color: #008000; text-decoration-color: #008000\">'dev'</span>: <span style=\"font-weight: bold\">{</span><span style=\"color: #008000; text-decoration-color: #008000\">'username'</span>: <span style=\"color: #008000; text-decoration-color: #008000\">'dev.user.v1'</span>, <span style=\"color: #008000; text-decoration-color: #008000\">'project_name'</span>: <span style=\"color: #008000; text-decoration-color: #008000\">'my_project'</span><span style=\"font-weight: bold\">}</span>,\n",
       "        <span style=\"color: #008000; text-decoration-color: #008000\">'prod'</span>: <span style=\"font-weight: bold\">{</span><span style=\"color: #008000; text-decoration-color: #008000\">'username'</span>: <span style=\"color: #008000; text-decoration-color: #008000\">'prod.user.v1'</span>, <span style=\"color: #008000; text-decoration-color: #008000\">'project_name'</span>: <span style=\"color: #008000; text-decoration-color: #008000\">'my_project'</span><span style=\"font-weight: bold\">}</span>\n",
       "    <span style=\"font-weight: bold\">}</span>,\n",
       "    <span style=\"color: #808000; text-decoration-color: #808000\">_applied_secret_data</span>=<span style=\"font-weight: bold\">{</span><span style=\"color: #008000; text-decoration-color: #008000\">'dev'</span>: <span style=\"font-weight: bold\">{</span><span style=\"color: #008000; text-decoration-color: #008000\">'password'</span>: <span style=\"color: #008000; text-decoration-color: #008000\">'dev.password'</span><span style=\"font-weight: bold\">}</span>, <span style=\"color: #008000; text-decoration-color: #008000\">'prod'</span>: <span style=\"font-weight: bold\">{</span><span style=\"color: #008000; text-decoration-color: #008000\">'password'</span>: <span style=\"color: #008000; text-decoration-color: #008000\">'prod.password'</span><span style=\"font-weight: bold\">}}</span>,\n",
       "    <span style=\"color: #808000; text-decoration-color: #808000\">_merged</span>=<span style=\"font-weight: bold\">{</span>\n",
       "        <span style=\"color: #008000; text-decoration-color: #008000\">'dev'</span>: <span style=\"font-weight: bold\">{</span><span style=\"color: #008000; text-decoration-color: #008000\">'username'</span>: <span style=\"color: #008000; text-decoration-color: #008000\">'dev.user.v1'</span>, <span style=\"color: #008000; text-decoration-color: #008000\">'project_name'</span>: <span style=\"color: #008000; text-decoration-color: #008000\">'my_project'</span>, <span style=\"color: #008000; text-decoration-color: #008000\">'password'</span>: <span style=\"color: #008000; text-decoration-color: #008000\">'dev.password'</span><span style=\"font-weight: bold\">}</span>,\n",
       "        <span style=\"color: #008000; text-decoration-color: #008000\">'prod'</span>: <span style=\"font-weight: bold\">{</span><span style=\"color: #008000; text-decoration-color: #008000\">'username'</span>: <span style=\"color: #008000; text-decoration-color: #008000\">'prod.user.v1'</span>, <span style=\"color: #008000; text-decoration-color: #008000\">'project_name'</span>: <span style=\"color: #008000; text-decoration-color: #008000\">'my_project'</span>, <span style=\"color: #008000; text-decoration-color: #008000\">'password'</span>: <span style=\"color: #008000; text-decoration-color: #008000\">'prod.password'</span><span style=\"font-weight: bold\">}</span>\n",
       "    <span style=\"font-weight: bold\">}</span>\n",
       "<span style=\"font-weight: bold\">)</span>\n",
       "</pre>\n"
      ],
      "text/plain": [
       "\u001b[1;35mConfig\u001b[0m\u001b[1m(\u001b[0m\n",
       "    \u001b[33mdata\u001b[0m=\u001b[1m{\u001b[0m\n",
       "        \u001b[32m'_shared'\u001b[0m: \u001b[1m{\u001b[0m\u001b[32m'*.project_name'\u001b[0m: \u001b[32m'my_project'\u001b[0m\u001b[1m}\u001b[0m,\n",
       "        \u001b[32m'dev'\u001b[0m: \u001b[1m{\u001b[0m\u001b[32m'username'\u001b[0m: \u001b[32m'dev.user.v1'\u001b[0m\u001b[1m}\u001b[0m,\n",
       "        \u001b[32m'prod'\u001b[0m: \u001b[1m{\u001b[0m\u001b[32m'username'\u001b[0m: \u001b[32m'prod.user.v1'\u001b[0m\u001b[1m}\u001b[0m\n",
       "    \u001b[1m}\u001b[0m,\n",
       "    \u001b[33msecret_data\u001b[0m=\u001b[1m{\u001b[0m\u001b[32m'_shared'\u001b[0m: \u001b[1m{\u001b[0m\u001b[1m}\u001b[0m, \u001b[32m'dev'\u001b[0m: \u001b[1m{\u001b[0m\u001b[32m'password'\u001b[0m: \u001b[32m'dev.password'\u001b[0m\u001b[1m}\u001b[0m, \u001b[32m'prod'\u001b[0m: \u001b[1m{\u001b[0m\u001b[32m'password'\u001b[0m: \u001b[32m'prod.password'\u001b[0m\u001b[1m}\u001b[0m\u001b[1m}\u001b[0m,\n",
       "    \u001b[33mEnv\u001b[0m=\u001b[1m<\u001b[0m\u001b[1;95mclass\u001b[0m\u001b[39m \u001b[0m\u001b[32m'__main__.Env'\u001b[0m\u001b[39m>,\u001b[0m\n",
       "\u001b[39m    \u001b[0m\u001b[33mEnvEnum\u001b[0m\u001b[39m=<enum \u001b[0m\u001b[32m'EnvEnum'\u001b[0m\u001b[1m>\u001b[0m,\n",
       "    \u001b[33mversion\u001b[0m=\u001b[32m'local'\u001b[0m,\n",
       "    \u001b[33m_applied_data\u001b[0m=\u001b[1m{\u001b[0m\n",
       "        \u001b[32m'dev'\u001b[0m: \u001b[1m{\u001b[0m\u001b[32m'username'\u001b[0m: \u001b[32m'dev.user.v1'\u001b[0m, \u001b[32m'project_name'\u001b[0m: \u001b[32m'my_project'\u001b[0m\u001b[1m}\u001b[0m,\n",
       "        \u001b[32m'prod'\u001b[0m: \u001b[1m{\u001b[0m\u001b[32m'username'\u001b[0m: \u001b[32m'prod.user.v1'\u001b[0m, \u001b[32m'project_name'\u001b[0m: \u001b[32m'my_project'\u001b[0m\u001b[1m}\u001b[0m\n",
       "    \u001b[1m}\u001b[0m,\n",
       "    \u001b[33m_applied_secret_data\u001b[0m=\u001b[1m{\u001b[0m\u001b[32m'dev'\u001b[0m: \u001b[1m{\u001b[0m\u001b[32m'password'\u001b[0m: \u001b[32m'dev.password'\u001b[0m\u001b[1m}\u001b[0m, \u001b[32m'prod'\u001b[0m: \u001b[1m{\u001b[0m\u001b[32m'password'\u001b[0m: \u001b[32m'prod.password'\u001b[0m\u001b[1m}\u001b[0m\u001b[1m}\u001b[0m,\n",
       "    \u001b[33m_merged\u001b[0m=\u001b[1m{\u001b[0m\n",
       "        \u001b[32m'dev'\u001b[0m: \u001b[1m{\u001b[0m\u001b[32m'username'\u001b[0m: \u001b[32m'dev.user.v1'\u001b[0m, \u001b[32m'project_name'\u001b[0m: \u001b[32m'my_project'\u001b[0m, \u001b[32m'password'\u001b[0m: \u001b[32m'dev.password'\u001b[0m\u001b[1m}\u001b[0m,\n",
       "        \u001b[32m'prod'\u001b[0m: \u001b[1m{\u001b[0m\u001b[32m'username'\u001b[0m: \u001b[32m'prod.user.v1'\u001b[0m, \u001b[32m'project_name'\u001b[0m: \u001b[32m'my_project'\u001b[0m, \u001b[32m'password'\u001b[0m: \u001b[32m'prod.password'\u001b[0m\u001b[1m}\u001b[0m\n",
       "    \u001b[1m}\u001b[0m\n",
       "\u001b[1m)\u001b[0m\n"
      ]
     },
     "metadata": {},
     "output_type": "display_data"
    }
   ],
   "source": [
    "config_v1 = Config.read(\n",
    "    env_class=Env,\n",
    "    env_enum_class=EnvEnum,\n",
    "    path_config=path_config_v1,\n",
    "    path_secret_config=path_config_secret_v1,\n",
    ")\n",
    "rprint(config_v1)"
   ]
  },
  {
   "cell_type": "markdown",
   "metadata": {},
   "source": [
    "The config object has two built-in attributes ``project_name`` and ``env_name``."
   ]
  },
  {
   "cell_type": "code",
   "execution_count": 6,
   "metadata": {
    "tags": []
   },
   "outputs": [
    {
     "name": "stdout",
     "output_type": "stream",
     "text": [
      "project_name: my_project\n",
      "dev env_name: dev\n",
      "prod env_name: prod\n"
     ]
    }
   ],
   "source": [
    "print(f\"project_name: {config_v1.project_name}\")\n",
    "print(f\"dev env_name: {config_v1.dev.env_name}\")\n",
    "print(f\"prod env_name: {config_v1.prod.env_name}\")"
   ]
  },
  {
   "cell_type": "markdown",
   "metadata": {},
   "source": [
    "The config object also has a built-in derived attribute ``parameter_name``. It is the normalized name (convert to lower case and snake case (underscore only)) for config deployment resources name of your backend."
   ]
  },
  {
   "cell_type": "code",
   "execution_count": 7,
   "metadata": {
    "tags": []
   },
   "outputs": [
    {
     "name": "stdout",
     "output_type": "stream",
     "text": [
      "parameter_name: my_project\n"
     ]
    }
   ],
   "source": [
    "print(f\"parameter_name: {config_v1.parameter_name}\")"
   ]
  },
  {
   "cell_type": "markdown",
   "metadata": {},
   "source": [
    "### Deploy Config to S3 Backend\n",
    "\n",
    "Now, you can use the ``Config.deploy()`` method to deploy the config object to S3. It creates an all-in-one deployment containing all environment data as a backup for disaster recovery or compliance requirements. Additionally, it creates individual per-environment deployments, ensuring that each environment can only access its specific configuration data and cannot access the configuration of other environments."
   ]
  },
  {
   "cell_type": "code",
   "execution_count": 8,
   "metadata": {
    "tags": []
   },
   "outputs": [
    {
     "name": "stdout",
     "output_type": "stream",
     "text": [
      "+----- ⏱ 🟢 Start 'deploy config file to S3' -----------------------------------+\n",
      "| \n",
      "| 🚀️ deploy config file/files at s3://my-bucket/my-project/my_project/my_project-latest.json ...\n",
      "| preview at: https://console.aws.amazon.com/s3/object/my-bucket?prefix=my-project/my_project/my_project-latest.json\n",
      "| done!\n",
      "| \n",
      "+----- ⏰ 🟢 End 'deploy config file to S3', elapsed = 0.04 sec -----------------+\n",
      "+----- ⏱ 🟢 Start 'deploy config file to S3' -----------------------------------+\n",
      "| \n",
      "| 🚀️ deploy config file/files at s3://my-bucket/my-project/my_project-dev/my_project-dev-latest.json ...\n",
      "| preview at: https://console.aws.amazon.com/s3/object/my-bucket?prefix=my-project/my_project-dev/my_project-dev-latest.json\n",
      "| done!\n",
      "| \n",
      "+----- ⏰ 🟢 End 'deploy config file to S3', elapsed = 0.01 sec -----------------+\n",
      "+----- ⏱ 🟢 Start 'deploy config file to S3' -----------------------------------+\n",
      "| \n",
      "| 🚀️ deploy config file/files at s3://my-bucket/my-project/my_project-prod/my_project-prod-latest.json ...\n",
      "| preview at: https://console.aws.amazon.com/s3/object/my-bucket?prefix=my-project/my_project-prod/my_project-prod-latest.json\n",
      "| done!\n",
      "| \n",
      "+----- ⏰ 🟢 End 'deploy config file to S3', elapsed = 0.01 sec -----------------+\n"
     ]
    }
   ],
   "source": [
    "s3folder_config = f\"s3://{bucket}/my-project/\"\n",
    "deployment_list = config_v1.deploy(\n",
    "    bsm=bsm, \n",
    "    s3folder_config=s3folder_config,\n",
    "    # these two arguments are optional\n",
    "    tags={\"project_name\": config_v1.project_name},\n",
    "    verbose=True,\n",
    ")"
   ]
  },
  {
   "cell_type": "markdown",
   "metadata": {},
   "source": [
    "Now, let's see what happens in AWS S3. In this example, six S3 objects are created. The file with suffix ``*-latest.json`` is the latest version of the config, and the file with suffix ``*-000001.json`` is a copy of the config object at specific version. Version is an auto-incremental version number from 1, 2, 3, .... Since we don't have S3 versioning enabled, so ``config_patterns`` manages the auto-incremental for you and keep a backup for all historical versions.\n",
    "\n",
    "- ``s3://my-bucket/my-project/my_project/my_project-latest.json``\n",
    "- ``s3://my-bucket/my-project/my_project/my_project-000001.json``\n",
    "- ``s3://my-bucket/my-project/my_project-dev/my_project-dev-latest.json``\n",
    "- ``s3://my-bucket/my-project/my_project-dev/my_project-dev-000001.json``\n",
    "- ``s3://my-bucket/my-project/my_project-prod/my_project-prod-latest.json``\n",
    "- ``s3://my-bucket/my-project/my_project-prod/my_project-prod-000001.json``"
   ]
  },
  {
   "cell_type": "code",
   "execution_count": 9,
   "metadata": {
    "tags": []
   },
   "outputs": [
    {
     "data": {
      "text/html": [
       "<pre style=\"white-space:pre;overflow-x:auto;line-height:normal;font-family:Menlo,'DejaVu Sans Mono',consolas,'Courier New',monospace\"><span style=\"font-weight: bold\">[</span>\n",
       "    <span style=\"color: #800080; text-decoration-color: #800080; font-weight: bold\">S3Path</span><span style=\"font-weight: bold\">(</span><span style=\"color: #008000; text-decoration-color: #008000\">'s3://my-bucket/my-project/my_project-dev/my_project-dev-000001.json'</span><span style=\"font-weight: bold\">)</span>,\n",
       "    <span style=\"color: #800080; text-decoration-color: #800080; font-weight: bold\">S3Path</span><span style=\"font-weight: bold\">(</span><span style=\"color: #008000; text-decoration-color: #008000\">'s3://my-bucket/my-project/my_project-dev/my_project-dev-latest.json'</span><span style=\"font-weight: bold\">)</span>,\n",
       "    <span style=\"color: #800080; text-decoration-color: #800080; font-weight: bold\">S3Path</span><span style=\"font-weight: bold\">(</span><span style=\"color: #008000; text-decoration-color: #008000\">'s3://my-bucket/my-project/my_project-prod/my_project-prod-000001.json'</span><span style=\"font-weight: bold\">)</span>,\n",
       "    <span style=\"color: #800080; text-decoration-color: #800080; font-weight: bold\">S3Path</span><span style=\"font-weight: bold\">(</span><span style=\"color: #008000; text-decoration-color: #008000\">'s3://my-bucket/my-project/my_project-prod/my_project-prod-latest.json'</span><span style=\"font-weight: bold\">)</span>,\n",
       "    <span style=\"color: #800080; text-decoration-color: #800080; font-weight: bold\">S3Path</span><span style=\"font-weight: bold\">(</span><span style=\"color: #008000; text-decoration-color: #008000\">'s3://my-bucket/my-project/my_project/my_project-000001.json'</span><span style=\"font-weight: bold\">)</span>,\n",
       "    <span style=\"color: #800080; text-decoration-color: #800080; font-weight: bold\">S3Path</span><span style=\"font-weight: bold\">(</span><span style=\"color: #008000; text-decoration-color: #008000\">'s3://my-bucket/my-project/my_project/my_project-latest.json'</span><span style=\"font-weight: bold\">)</span>\n",
       "<span style=\"font-weight: bold\">]</span>\n",
       "</pre>\n"
      ],
      "text/plain": [
       "\u001b[1m[\u001b[0m\n",
       "    \u001b[1;35mS3Path\u001b[0m\u001b[1m(\u001b[0m\u001b[32m's3://my-bucket/my-project/my_project-dev/my_project-dev-000001.json'\u001b[0m\u001b[1m)\u001b[0m,\n",
       "    \u001b[1;35mS3Path\u001b[0m\u001b[1m(\u001b[0m\u001b[32m's3://my-bucket/my-project/my_project-dev/my_project-dev-latest.json'\u001b[0m\u001b[1m)\u001b[0m,\n",
       "    \u001b[1;35mS3Path\u001b[0m\u001b[1m(\u001b[0m\u001b[32m's3://my-bucket/my-project/my_project-prod/my_project-prod-000001.json'\u001b[0m\u001b[1m)\u001b[0m,\n",
       "    \u001b[1;35mS3Path\u001b[0m\u001b[1m(\u001b[0m\u001b[32m's3://my-bucket/my-project/my_project-prod/my_project-prod-latest.json'\u001b[0m\u001b[1m)\u001b[0m,\n",
       "    \u001b[1;35mS3Path\u001b[0m\u001b[1m(\u001b[0m\u001b[32m's3://my-bucket/my-project/my_project/my_project-000001.json'\u001b[0m\u001b[1m)\u001b[0m,\n",
       "    \u001b[1;35mS3Path\u001b[0m\u001b[1m(\u001b[0m\u001b[32m's3://my-bucket/my-project/my_project/my_project-latest.json'\u001b[0m\u001b[1m)\u001b[0m\n",
       "\u001b[1m]\u001b[0m\n"
      ]
     },
     "metadata": {},
     "output_type": "display_data"
    }
   ],
   "source": [
    "rprint(S3Path(s3folder_config).iter_objects(bsm=bsm).all())"
   ]
  },
  {
   "cell_type": "markdown",
   "metadata": {},
   "source": [
    "The config version of the config data is stored in the S3 object metadata. It also has the sha256 of the config data for integration check."
   ]
  },
  {
   "cell_type": "code",
   "execution_count": 10,
   "metadata": {
    "tags": []
   },
   "outputs": [
    {
     "data": {
      "text/html": [
       "<pre style=\"white-space:pre;overflow-x:auto;line-height:normal;font-family:Menlo,'DejaVu Sans Mono',consolas,'Courier New',monospace\"><span style=\"font-weight: bold\">{</span>\n",
       "    <span style=\"color: #008000; text-decoration-color: #008000\">\"data\"</span>: <span style=\"font-weight: bold\">{</span>\n",
       "        <span style=\"color: #008000; text-decoration-color: #008000\">\"_shared\"</span>: <span style=\"font-weight: bold\">{</span>\n",
       "            <span style=\"color: #008000; text-decoration-color: #008000\">\"*.project_name\"</span>: <span style=\"color: #008000; text-decoration-color: #008000\">\"my_project\"</span>\n",
       "        <span style=\"font-weight: bold\">}</span>,\n",
       "        <span style=\"color: #008000; text-decoration-color: #008000\">\"dev\"</span>: <span style=\"font-weight: bold\">{</span>\n",
       "            <span style=\"color: #008000; text-decoration-color: #008000\">\"username\"</span>: <span style=\"color: #008000; text-decoration-color: #008000\">\"dev.user.v1\"</span>\n",
       "        <span style=\"font-weight: bold\">}</span>,\n",
       "        <span style=\"color: #008000; text-decoration-color: #008000\">\"prod\"</span>: <span style=\"font-weight: bold\">{</span>\n",
       "            <span style=\"color: #008000; text-decoration-color: #008000\">\"username\"</span>: <span style=\"color: #008000; text-decoration-color: #008000\">\"prod.user.v1\"</span>\n",
       "        <span style=\"font-weight: bold\">}</span>\n",
       "    <span style=\"font-weight: bold\">}</span>,\n",
       "    <span style=\"color: #008000; text-decoration-color: #008000\">\"secret_data\"</span>: <span style=\"font-weight: bold\">{</span>\n",
       "        <span style=\"color: #008000; text-decoration-color: #008000\">\"_shared\"</span>: <span style=\"font-weight: bold\">{}</span>,\n",
       "        <span style=\"color: #008000; text-decoration-color: #008000\">\"dev\"</span>: <span style=\"font-weight: bold\">{</span>\n",
       "            <span style=\"color: #008000; text-decoration-color: #008000\">\"password\"</span>: <span style=\"color: #008000; text-decoration-color: #008000\">\"dev.password\"</span>\n",
       "        <span style=\"font-weight: bold\">}</span>,\n",
       "        <span style=\"color: #008000; text-decoration-color: #008000\">\"prod\"</span>: <span style=\"font-weight: bold\">{</span>\n",
       "            <span style=\"color: #008000; text-decoration-color: #008000\">\"password\"</span>: <span style=\"color: #008000; text-decoration-color: #008000\">\"prod.password\"</span>\n",
       "        <span style=\"font-weight: bold\">}</span>\n",
       "    <span style=\"font-weight: bold\">}</span>\n",
       "<span style=\"font-weight: bold\">}</span>\n",
       "</pre>\n"
      ],
      "text/plain": [
       "\u001b[1m{\u001b[0m\n",
       "    \u001b[32m\"data\"\u001b[0m: \u001b[1m{\u001b[0m\n",
       "        \u001b[32m\"_shared\"\u001b[0m: \u001b[1m{\u001b[0m\n",
       "            \u001b[32m\"*.project_name\"\u001b[0m: \u001b[32m\"my_project\"\u001b[0m\n",
       "        \u001b[1m}\u001b[0m,\n",
       "        \u001b[32m\"dev\"\u001b[0m: \u001b[1m{\u001b[0m\n",
       "            \u001b[32m\"username\"\u001b[0m: \u001b[32m\"dev.user.v1\"\u001b[0m\n",
       "        \u001b[1m}\u001b[0m,\n",
       "        \u001b[32m\"prod\"\u001b[0m: \u001b[1m{\u001b[0m\n",
       "            \u001b[32m\"username\"\u001b[0m: \u001b[32m\"prod.user.v1\"\u001b[0m\n",
       "        \u001b[1m}\u001b[0m\n",
       "    \u001b[1m}\u001b[0m,\n",
       "    \u001b[32m\"secret_data\"\u001b[0m: \u001b[1m{\u001b[0m\n",
       "        \u001b[32m\"_shared\"\u001b[0m: \u001b[1m{\u001b[0m\u001b[1m}\u001b[0m,\n",
       "        \u001b[32m\"dev\"\u001b[0m: \u001b[1m{\u001b[0m\n",
       "            \u001b[32m\"password\"\u001b[0m: \u001b[32m\"dev.password\"\u001b[0m\n",
       "        \u001b[1m}\u001b[0m,\n",
       "        \u001b[32m\"prod\"\u001b[0m: \u001b[1m{\u001b[0m\n",
       "            \u001b[32m\"password\"\u001b[0m: \u001b[32m\"prod.password\"\u001b[0m\n",
       "        \u001b[1m}\u001b[0m\n",
       "    \u001b[1m}\u001b[0m\n",
       "\u001b[1m}\u001b[0m\n"
      ]
     },
     "metadata": {},
     "output_type": "display_data"
    },
    {
     "data": {
      "text/html": [
       "<pre style=\"white-space:pre;overflow-x:auto;line-height:normal;font-family:Menlo,'DejaVu Sans Mono',consolas,'Courier New',monospace\"><span style=\"font-weight: bold\">{</span><span style=\"color: #008000; text-decoration-color: #008000\">'config_version'</span>: <span style=\"color: #008000; text-decoration-color: #008000\">'1'</span>, <span style=\"color: #008000; text-decoration-color: #008000\">'config_sha256'</span>: <span style=\"color: #008000; text-decoration-color: #008000\">'e18bf9f25134c83ef26355ecd058c5bc89c03341bf95ba129c973cc0961149d0'</span><span style=\"font-weight: bold\">}</span>\n",
       "</pre>\n"
      ],
      "text/plain": [
       "\u001b[1m{\u001b[0m\u001b[32m'config_version'\u001b[0m: \u001b[32m'1'\u001b[0m, \u001b[32m'config_sha256'\u001b[0m: \u001b[32m'e18bf9f25134c83ef26355ecd058c5bc89c03341bf95ba129c973cc0961149d0'\u001b[0m\u001b[1m}\u001b[0m\n"
      ]
     },
     "metadata": {},
     "output_type": "display_data"
    }
   ],
   "source": [
    "s3path = S3Path(\"s3://my-bucket/my-project/my_project/my_project-latest.json\")\n",
    "rprint(s3path.read_text(bsm=bsm))\n",
    "rprint(s3path.metadata)"
   ]
  },
  {
   "cell_type": "markdown",
   "metadata": {},
   "source": [
    "If you are trying to deploy the same config data with no change, ``config_patterns`` library can automatically detect that and skip the deployment."
   ]
  },
  {
   "cell_type": "code",
   "execution_count": 11,
   "metadata": {
    "tags": []
   },
   "outputs": [
    {
     "name": "stdout",
     "output_type": "stream",
     "text": [
      "+----- ⏱ 🟢 Start 'deploy config file to S3' -----------------------------------+\n",
      "| \n",
      "| 🚀️ deploy config file/files at s3://my-bucket/my-project/my_project/my_project-latest.json ...\n",
      "| preview at: https://console.aws.amazon.com/s3/object/my-bucket?prefix=my-project/my_project/my_project-latest.json\n",
      "| config data is the same as existing one, do nothing.\n",
      "| \n",
      "+----- ⏰ 🟢 End 'deploy config file to S3', elapsed = 0.01 sec -----------------+\n",
      "+----- ⏱ 🟢 Start 'deploy config file to S3' -----------------------------------+\n",
      "| \n",
      "| 🚀️ deploy config file/files at s3://my-bucket/my-project/my_project-dev/my_project-dev-latest.json ...\n",
      "| preview at: https://console.aws.amazon.com/s3/object/my-bucket?prefix=my-project/my_project-dev/my_project-dev-latest.json\n",
      "| config data is the same as existing one, do nothing.\n",
      "| \n",
      "+----- ⏰ 🟢 End 'deploy config file to S3', elapsed = 0.00 sec -----------------+\n",
      "+----- ⏱ 🟢 Start 'deploy config file to S3' -----------------------------------+\n",
      "| \n",
      "| 🚀️ deploy config file/files at s3://my-bucket/my-project/my_project-prod/my_project-prod-latest.json ...\n",
      "| preview at: https://console.aws.amazon.com/s3/object/my-bucket?prefix=my-project/my_project-prod/my_project-prod-latest.json\n",
      "| config data is the same as existing one, do nothing.\n",
      "| \n",
      "+----- ⏰ 🟢 End 'deploy config file to S3', elapsed = 0.00 sec -----------------+\n"
     ]
    }
   ],
   "source": [
    "deployment_list = config_v1.deploy(\n",
    "    bsm=bsm, \n",
    "    s3folder_config=s3folder_config,\n",
    "    # these two arguments are optional\n",
    "    tags={\"project_name\": config_v1.project_name},\n",
    "    verbose=True,\n",
    ")"
   ]
  },
  {
   "cell_type": "markdown",
   "metadata": {
    "tags": []
   },
   "source": [
    "### Read Config from S3 Backend\n",
    "\n",
    "Now, you can use the Config.read() method to readthe config object from S3. If you want to read the all-in-one config object, then you could use ``parameter_name=\"${parameter_name}\"``. If you want to read the config object of specific environment, you could use ``parameter=\"${parameter_name}-${env_name}\"``."
   ]
  },
  {
   "cell_type": "code",
   "execution_count": 12,
   "metadata": {
    "tags": []
   },
   "outputs": [
    {
     "name": "stdout",
     "output_type": "stream",
     "text": [
      "all in one config object:\n"
     ]
    },
    {
     "data": {
      "text/html": [
       "<pre style=\"white-space:pre;overflow-x:auto;line-height:normal;font-family:Menlo,'DejaVu Sans Mono',consolas,'Courier New',monospace\"><span style=\"color: #800080; text-decoration-color: #800080; font-weight: bold\">Config</span><span style=\"font-weight: bold\">(</span>\n",
       "    <span style=\"color: #808000; text-decoration-color: #808000\">data</span>=<span style=\"font-weight: bold\">{</span>\n",
       "        <span style=\"color: #008000; text-decoration-color: #008000\">'_shared'</span>: <span style=\"font-weight: bold\">{</span><span style=\"color: #008000; text-decoration-color: #008000\">'*.project_name'</span>: <span style=\"color: #008000; text-decoration-color: #008000\">'my_project'</span><span style=\"font-weight: bold\">}</span>,\n",
       "        <span style=\"color: #008000; text-decoration-color: #008000\">'dev'</span>: <span style=\"font-weight: bold\">{</span><span style=\"color: #008000; text-decoration-color: #008000\">'username'</span>: <span style=\"color: #008000; text-decoration-color: #008000\">'dev.user.v1'</span><span style=\"font-weight: bold\">}</span>,\n",
       "        <span style=\"color: #008000; text-decoration-color: #008000\">'prod'</span>: <span style=\"font-weight: bold\">{</span><span style=\"color: #008000; text-decoration-color: #008000\">'username'</span>: <span style=\"color: #008000; text-decoration-color: #008000\">'prod.user.v1'</span><span style=\"font-weight: bold\">}</span>\n",
       "    <span style=\"font-weight: bold\">}</span>,\n",
       "    <span style=\"color: #808000; text-decoration-color: #808000\">secret_data</span>=<span style=\"font-weight: bold\">{</span><span style=\"color: #008000; text-decoration-color: #008000\">'_shared'</span>: <span style=\"font-weight: bold\">{}</span>, <span style=\"color: #008000; text-decoration-color: #008000\">'dev'</span>: <span style=\"font-weight: bold\">{</span><span style=\"color: #008000; text-decoration-color: #008000\">'password'</span>: <span style=\"color: #008000; text-decoration-color: #008000\">'dev.password'</span><span style=\"font-weight: bold\">}</span>, <span style=\"color: #008000; text-decoration-color: #008000\">'prod'</span>: <span style=\"font-weight: bold\">{</span><span style=\"color: #008000; text-decoration-color: #008000\">'password'</span>: <span style=\"color: #008000; text-decoration-color: #008000\">'prod.password'</span><span style=\"font-weight: bold\">}}</span>,\n",
       "    <span style=\"color: #808000; text-decoration-color: #808000\">Env</span>=<span style=\"font-weight: bold\">&lt;</span><span style=\"color: #ff00ff; text-decoration-color: #ff00ff; font-weight: bold\">class</span><span style=\"color: #000000; text-decoration-color: #000000\"> </span><span style=\"color: #008000; text-decoration-color: #008000\">'__main__.Env'</span><span style=\"color: #000000; text-decoration-color: #000000\">&gt;,</span>\n",
       "<span style=\"color: #000000; text-decoration-color: #000000\">    </span><span style=\"color: #808000; text-decoration-color: #808000\">EnvEnum</span><span style=\"color: #000000; text-decoration-color: #000000\">=&lt;enum </span><span style=\"color: #008000; text-decoration-color: #008000\">'EnvEnum'</span><span style=\"font-weight: bold\">&gt;</span>,\n",
       "    <span style=\"color: #808000; text-decoration-color: #808000\">version</span>=<span style=\"color: #008000; text-decoration-color: #008000\">'1'</span>,\n",
       "    <span style=\"color: #808000; text-decoration-color: #808000\">_applied_data</span>=<span style=\"font-weight: bold\">{</span>\n",
       "        <span style=\"color: #008000; text-decoration-color: #008000\">'dev'</span>: <span style=\"font-weight: bold\">{</span><span style=\"color: #008000; text-decoration-color: #008000\">'username'</span>: <span style=\"color: #008000; text-decoration-color: #008000\">'dev.user.v1'</span>, <span style=\"color: #008000; text-decoration-color: #008000\">'project_name'</span>: <span style=\"color: #008000; text-decoration-color: #008000\">'my_project'</span><span style=\"font-weight: bold\">}</span>,\n",
       "        <span style=\"color: #008000; text-decoration-color: #008000\">'prod'</span>: <span style=\"font-weight: bold\">{</span><span style=\"color: #008000; text-decoration-color: #008000\">'username'</span>: <span style=\"color: #008000; text-decoration-color: #008000\">'prod.user.v1'</span>, <span style=\"color: #008000; text-decoration-color: #008000\">'project_name'</span>: <span style=\"color: #008000; text-decoration-color: #008000\">'my_project'</span><span style=\"font-weight: bold\">}</span>\n",
       "    <span style=\"font-weight: bold\">}</span>,\n",
       "    <span style=\"color: #808000; text-decoration-color: #808000\">_applied_secret_data</span>=<span style=\"font-weight: bold\">{</span><span style=\"color: #008000; text-decoration-color: #008000\">'dev'</span>: <span style=\"font-weight: bold\">{</span><span style=\"color: #008000; text-decoration-color: #008000\">'password'</span>: <span style=\"color: #008000; text-decoration-color: #008000\">'dev.password'</span><span style=\"font-weight: bold\">}</span>, <span style=\"color: #008000; text-decoration-color: #008000\">'prod'</span>: <span style=\"font-weight: bold\">{</span><span style=\"color: #008000; text-decoration-color: #008000\">'password'</span>: <span style=\"color: #008000; text-decoration-color: #008000\">'prod.password'</span><span style=\"font-weight: bold\">}}</span>,\n",
       "    <span style=\"color: #808000; text-decoration-color: #808000\">_merged</span>=<span style=\"font-weight: bold\">{</span>\n",
       "        <span style=\"color: #008000; text-decoration-color: #008000\">'dev'</span>: <span style=\"font-weight: bold\">{</span><span style=\"color: #008000; text-decoration-color: #008000\">'username'</span>: <span style=\"color: #008000; text-decoration-color: #008000\">'dev.user.v1'</span>, <span style=\"color: #008000; text-decoration-color: #008000\">'project_name'</span>: <span style=\"color: #008000; text-decoration-color: #008000\">'my_project'</span>, <span style=\"color: #008000; text-decoration-color: #008000\">'password'</span>: <span style=\"color: #008000; text-decoration-color: #008000\">'dev.password'</span><span style=\"font-weight: bold\">}</span>,\n",
       "        <span style=\"color: #008000; text-decoration-color: #008000\">'prod'</span>: <span style=\"font-weight: bold\">{</span><span style=\"color: #008000; text-decoration-color: #008000\">'username'</span>: <span style=\"color: #008000; text-decoration-color: #008000\">'prod.user.v1'</span>, <span style=\"color: #008000; text-decoration-color: #008000\">'project_name'</span>: <span style=\"color: #008000; text-decoration-color: #008000\">'my_project'</span>, <span style=\"color: #008000; text-decoration-color: #008000\">'password'</span>: <span style=\"color: #008000; text-decoration-color: #008000\">'prod.password'</span><span style=\"font-weight: bold\">}</span>\n",
       "    <span style=\"font-weight: bold\">}</span>\n",
       "<span style=\"font-weight: bold\">)</span>\n",
       "</pre>\n"
      ],
      "text/plain": [
       "\u001b[1;35mConfig\u001b[0m\u001b[1m(\u001b[0m\n",
       "    \u001b[33mdata\u001b[0m=\u001b[1m{\u001b[0m\n",
       "        \u001b[32m'_shared'\u001b[0m: \u001b[1m{\u001b[0m\u001b[32m'*.project_name'\u001b[0m: \u001b[32m'my_project'\u001b[0m\u001b[1m}\u001b[0m,\n",
       "        \u001b[32m'dev'\u001b[0m: \u001b[1m{\u001b[0m\u001b[32m'username'\u001b[0m: \u001b[32m'dev.user.v1'\u001b[0m\u001b[1m}\u001b[0m,\n",
       "        \u001b[32m'prod'\u001b[0m: \u001b[1m{\u001b[0m\u001b[32m'username'\u001b[0m: \u001b[32m'prod.user.v1'\u001b[0m\u001b[1m}\u001b[0m\n",
       "    \u001b[1m}\u001b[0m,\n",
       "    \u001b[33msecret_data\u001b[0m=\u001b[1m{\u001b[0m\u001b[32m'_shared'\u001b[0m: \u001b[1m{\u001b[0m\u001b[1m}\u001b[0m, \u001b[32m'dev'\u001b[0m: \u001b[1m{\u001b[0m\u001b[32m'password'\u001b[0m: \u001b[32m'dev.password'\u001b[0m\u001b[1m}\u001b[0m, \u001b[32m'prod'\u001b[0m: \u001b[1m{\u001b[0m\u001b[32m'password'\u001b[0m: \u001b[32m'prod.password'\u001b[0m\u001b[1m}\u001b[0m\u001b[1m}\u001b[0m,\n",
       "    \u001b[33mEnv\u001b[0m=\u001b[1m<\u001b[0m\u001b[1;95mclass\u001b[0m\u001b[39m \u001b[0m\u001b[32m'__main__.Env'\u001b[0m\u001b[39m>,\u001b[0m\n",
       "\u001b[39m    \u001b[0m\u001b[33mEnvEnum\u001b[0m\u001b[39m=<enum \u001b[0m\u001b[32m'EnvEnum'\u001b[0m\u001b[1m>\u001b[0m,\n",
       "    \u001b[33mversion\u001b[0m=\u001b[32m'1'\u001b[0m,\n",
       "    \u001b[33m_applied_data\u001b[0m=\u001b[1m{\u001b[0m\n",
       "        \u001b[32m'dev'\u001b[0m: \u001b[1m{\u001b[0m\u001b[32m'username'\u001b[0m: \u001b[32m'dev.user.v1'\u001b[0m, \u001b[32m'project_name'\u001b[0m: \u001b[32m'my_project'\u001b[0m\u001b[1m}\u001b[0m,\n",
       "        \u001b[32m'prod'\u001b[0m: \u001b[1m{\u001b[0m\u001b[32m'username'\u001b[0m: \u001b[32m'prod.user.v1'\u001b[0m, \u001b[32m'project_name'\u001b[0m: \u001b[32m'my_project'\u001b[0m\u001b[1m}\u001b[0m\n",
       "    \u001b[1m}\u001b[0m,\n",
       "    \u001b[33m_applied_secret_data\u001b[0m=\u001b[1m{\u001b[0m\u001b[32m'dev'\u001b[0m: \u001b[1m{\u001b[0m\u001b[32m'password'\u001b[0m: \u001b[32m'dev.password'\u001b[0m\u001b[1m}\u001b[0m, \u001b[32m'prod'\u001b[0m: \u001b[1m{\u001b[0m\u001b[32m'password'\u001b[0m: \u001b[32m'prod.password'\u001b[0m\u001b[1m}\u001b[0m\u001b[1m}\u001b[0m,\n",
       "    \u001b[33m_merged\u001b[0m=\u001b[1m{\u001b[0m\n",
       "        \u001b[32m'dev'\u001b[0m: \u001b[1m{\u001b[0m\u001b[32m'username'\u001b[0m: \u001b[32m'dev.user.v1'\u001b[0m, \u001b[32m'project_name'\u001b[0m: \u001b[32m'my_project'\u001b[0m, \u001b[32m'password'\u001b[0m: \u001b[32m'dev.password'\u001b[0m\u001b[1m}\u001b[0m,\n",
       "        \u001b[32m'prod'\u001b[0m: \u001b[1m{\u001b[0m\u001b[32m'username'\u001b[0m: \u001b[32m'prod.user.v1'\u001b[0m, \u001b[32m'project_name'\u001b[0m: \u001b[32m'my_project'\u001b[0m, \u001b[32m'password'\u001b[0m: \u001b[32m'prod.password'\u001b[0m\u001b[1m}\u001b[0m\n",
       "    \u001b[1m}\u001b[0m\n",
       "\u001b[1m)\u001b[0m\n"
      ]
     },
     "metadata": {},
     "output_type": "display_data"
    }
   ],
   "source": [
    "config = Config.read(\n",
    "    env_class=Env,\n",
    "    env_enum_class=EnvEnum,\n",
    "    bsm=bsm,\n",
    "    parameter_name=\"my_project\",\n",
    "    s3folder_config=s3folder_config,\n",
    ")\n",
    "print(\"all in one config object:\")\n",
    "rprint(config)"
   ]
  },
  {
   "cell_type": "code",
   "execution_count": 13,
   "metadata": {
    "tags": []
   },
   "outputs": [
    {
     "name": "stdout",
     "output_type": "stream",
     "text": [
      "dev config object:\n"
     ]
    },
    {
     "data": {
      "text/html": [
       "<pre style=\"white-space:pre;overflow-x:auto;line-height:normal;font-family:Menlo,'DejaVu Sans Mono',consolas,'Courier New',monospace\"><span style=\"color: #800080; text-decoration-color: #800080; font-weight: bold\">Config</span><span style=\"font-weight: bold\">(</span>\n",
       "    <span style=\"color: #808000; text-decoration-color: #808000\">data</span>=<span style=\"font-weight: bold\">{</span><span style=\"color: #008000; text-decoration-color: #008000\">'_shared'</span>: <span style=\"font-weight: bold\">{</span><span style=\"color: #008000; text-decoration-color: #008000\">'*.project_name'</span>: <span style=\"color: #008000; text-decoration-color: #008000\">'my_project'</span><span style=\"font-weight: bold\">}</span>, <span style=\"color: #008000; text-decoration-color: #008000\">'dev'</span>: <span style=\"font-weight: bold\">{</span><span style=\"color: #008000; text-decoration-color: #008000\">'username'</span>: <span style=\"color: #008000; text-decoration-color: #008000\">'dev.user.v1'</span><span style=\"font-weight: bold\">}}</span>,\n",
       "    <span style=\"color: #808000; text-decoration-color: #808000\">secret_data</span>=<span style=\"font-weight: bold\">{</span><span style=\"color: #008000; text-decoration-color: #008000\">'_shared'</span>: <span style=\"font-weight: bold\">{}</span>, <span style=\"color: #008000; text-decoration-color: #008000\">'dev'</span>: <span style=\"font-weight: bold\">{</span><span style=\"color: #008000; text-decoration-color: #008000\">'password'</span>: <span style=\"color: #008000; text-decoration-color: #008000\">'dev.password'</span><span style=\"font-weight: bold\">}}</span>,\n",
       "    <span style=\"color: #808000; text-decoration-color: #808000\">Env</span>=<span style=\"font-weight: bold\">&lt;</span><span style=\"color: #ff00ff; text-decoration-color: #ff00ff; font-weight: bold\">class</span><span style=\"color: #000000; text-decoration-color: #000000\"> </span><span style=\"color: #008000; text-decoration-color: #008000\">'__main__.Env'</span><span style=\"color: #000000; text-decoration-color: #000000\">&gt;,</span>\n",
       "<span style=\"color: #000000; text-decoration-color: #000000\">    </span><span style=\"color: #808000; text-decoration-color: #808000\">EnvEnum</span><span style=\"color: #000000; text-decoration-color: #000000\">=&lt;enum </span><span style=\"color: #008000; text-decoration-color: #008000\">'EnvEnum'</span><span style=\"font-weight: bold\">&gt;</span>,\n",
       "    <span style=\"color: #808000; text-decoration-color: #808000\">version</span>=<span style=\"color: #008000; text-decoration-color: #008000\">'1'</span>,\n",
       "    <span style=\"color: #808000; text-decoration-color: #808000\">_applied_data</span>=<span style=\"font-weight: bold\">{</span><span style=\"color: #008000; text-decoration-color: #008000\">'dev'</span>: <span style=\"font-weight: bold\">{</span><span style=\"color: #008000; text-decoration-color: #008000\">'username'</span>: <span style=\"color: #008000; text-decoration-color: #008000\">'dev.user.v1'</span>, <span style=\"color: #008000; text-decoration-color: #008000\">'project_name'</span>: <span style=\"color: #008000; text-decoration-color: #008000\">'my_project'</span><span style=\"font-weight: bold\">}}</span>,\n",
       "    <span style=\"color: #808000; text-decoration-color: #808000\">_applied_secret_data</span>=<span style=\"font-weight: bold\">{</span><span style=\"color: #008000; text-decoration-color: #008000\">'dev'</span>: <span style=\"font-weight: bold\">{</span><span style=\"color: #008000; text-decoration-color: #008000\">'password'</span>: <span style=\"color: #008000; text-decoration-color: #008000\">'dev.password'</span><span style=\"font-weight: bold\">}}</span>,\n",
       "    <span style=\"color: #808000; text-decoration-color: #808000\">_merged</span>=<span style=\"font-weight: bold\">{</span><span style=\"color: #008000; text-decoration-color: #008000\">'dev'</span>: <span style=\"font-weight: bold\">{</span><span style=\"color: #008000; text-decoration-color: #008000\">'username'</span>: <span style=\"color: #008000; text-decoration-color: #008000\">'dev.user.v1'</span>, <span style=\"color: #008000; text-decoration-color: #008000\">'project_name'</span>: <span style=\"color: #008000; text-decoration-color: #008000\">'my_project'</span>, <span style=\"color: #008000; text-decoration-color: #008000\">'password'</span>: <span style=\"color: #008000; text-decoration-color: #008000\">'dev.password'</span><span style=\"font-weight: bold\">}}</span>\n",
       "<span style=\"font-weight: bold\">)</span>\n",
       "</pre>\n"
      ],
      "text/plain": [
       "\u001b[1;35mConfig\u001b[0m\u001b[1m(\u001b[0m\n",
       "    \u001b[33mdata\u001b[0m=\u001b[1m{\u001b[0m\u001b[32m'_shared'\u001b[0m: \u001b[1m{\u001b[0m\u001b[32m'*.project_name'\u001b[0m: \u001b[32m'my_project'\u001b[0m\u001b[1m}\u001b[0m, \u001b[32m'dev'\u001b[0m: \u001b[1m{\u001b[0m\u001b[32m'username'\u001b[0m: \u001b[32m'dev.user.v1'\u001b[0m\u001b[1m}\u001b[0m\u001b[1m}\u001b[0m,\n",
       "    \u001b[33msecret_data\u001b[0m=\u001b[1m{\u001b[0m\u001b[32m'_shared'\u001b[0m: \u001b[1m{\u001b[0m\u001b[1m}\u001b[0m, \u001b[32m'dev'\u001b[0m: \u001b[1m{\u001b[0m\u001b[32m'password'\u001b[0m: \u001b[32m'dev.password'\u001b[0m\u001b[1m}\u001b[0m\u001b[1m}\u001b[0m,\n",
       "    \u001b[33mEnv\u001b[0m=\u001b[1m<\u001b[0m\u001b[1;95mclass\u001b[0m\u001b[39m \u001b[0m\u001b[32m'__main__.Env'\u001b[0m\u001b[39m>,\u001b[0m\n",
       "\u001b[39m    \u001b[0m\u001b[33mEnvEnum\u001b[0m\u001b[39m=<enum \u001b[0m\u001b[32m'EnvEnum'\u001b[0m\u001b[1m>\u001b[0m,\n",
       "    \u001b[33mversion\u001b[0m=\u001b[32m'1'\u001b[0m,\n",
       "    \u001b[33m_applied_data\u001b[0m=\u001b[1m{\u001b[0m\u001b[32m'dev'\u001b[0m: \u001b[1m{\u001b[0m\u001b[32m'username'\u001b[0m: \u001b[32m'dev.user.v1'\u001b[0m, \u001b[32m'project_name'\u001b[0m: \u001b[32m'my_project'\u001b[0m\u001b[1m}\u001b[0m\u001b[1m}\u001b[0m,\n",
       "    \u001b[33m_applied_secret_data\u001b[0m=\u001b[1m{\u001b[0m\u001b[32m'dev'\u001b[0m: \u001b[1m{\u001b[0m\u001b[32m'password'\u001b[0m: \u001b[32m'dev.password'\u001b[0m\u001b[1m}\u001b[0m\u001b[1m}\u001b[0m,\n",
       "    \u001b[33m_merged\u001b[0m=\u001b[1m{\u001b[0m\u001b[32m'dev'\u001b[0m: \u001b[1m{\u001b[0m\u001b[32m'username'\u001b[0m: \u001b[32m'dev.user.v1'\u001b[0m, \u001b[32m'project_name'\u001b[0m: \u001b[32m'my_project'\u001b[0m, \u001b[32m'password'\u001b[0m: \u001b[32m'dev.password'\u001b[0m\u001b[1m}\u001b[0m\u001b[1m}\u001b[0m\n",
       "\u001b[1m)\u001b[0m\n"
      ]
     },
     "metadata": {},
     "output_type": "display_data"
    }
   ],
   "source": [
    "config = Config.read(\n",
    "    env_class=Env,\n",
    "    env_enum_class=EnvEnum,\n",
    "    bsm=bsm,\n",
    "    parameter_name=\"my_project-dev\",\n",
    "    s3folder_config=s3folder_config,\n",
    ")\n",
    "print(\"dev config object:\")\n",
    "rprint(config)"
   ]
  },
  {
   "cell_type": "markdown",
   "metadata": {},
   "source": [
    "### Deploy a New Version of Config\n",
    "\n",
    "When you deploy a new version of the config, it replaces the ``*-latest.json`` file and creates a backup of the new version."
   ]
  },
  {
   "cell_type": "code",
   "execution_count": 14,
   "metadata": {
    "tags": []
   },
   "outputs": [
    {
     "data": {
      "text/html": [
       "<pre style=\"white-space:pre;overflow-x:auto;line-height:normal;font-family:Menlo,'DejaVu Sans Mono',consolas,'Courier New',monospace\"><span style=\"color: #800080; text-decoration-color: #800080; font-weight: bold\">Config</span><span style=\"font-weight: bold\">(</span>\n",
       "    <span style=\"color: #808000; text-decoration-color: #808000\">data</span>=<span style=\"font-weight: bold\">{</span>\n",
       "        <span style=\"color: #008000; text-decoration-color: #008000\">'_shared'</span>: <span style=\"font-weight: bold\">{</span><span style=\"color: #008000; text-decoration-color: #008000\">'*.project_name'</span>: <span style=\"color: #008000; text-decoration-color: #008000\">'my_project'</span><span style=\"font-weight: bold\">}</span>,\n",
       "        <span style=\"color: #008000; text-decoration-color: #008000\">'dev'</span>: <span style=\"font-weight: bold\">{</span><span style=\"color: #008000; text-decoration-color: #008000\">'username'</span>: <span style=\"color: #008000; text-decoration-color: #008000\">'dev.user.v2'</span><span style=\"font-weight: bold\">}</span>,\n",
       "        <span style=\"color: #008000; text-decoration-color: #008000\">'prod'</span>: <span style=\"font-weight: bold\">{</span><span style=\"color: #008000; text-decoration-color: #008000\">'username'</span>: <span style=\"color: #008000; text-decoration-color: #008000\">'prod.user.v2'</span><span style=\"font-weight: bold\">}</span>\n",
       "    <span style=\"font-weight: bold\">}</span>,\n",
       "    <span style=\"color: #808000; text-decoration-color: #808000\">secret_data</span>=<span style=\"font-weight: bold\">{</span><span style=\"color: #008000; text-decoration-color: #008000\">'_shared'</span>: <span style=\"font-weight: bold\">{}</span>, <span style=\"color: #008000; text-decoration-color: #008000\">'dev'</span>: <span style=\"font-weight: bold\">{</span><span style=\"color: #008000; text-decoration-color: #008000\">'password'</span>: <span style=\"color: #008000; text-decoration-color: #008000\">'dev.password'</span><span style=\"font-weight: bold\">}</span>, <span style=\"color: #008000; text-decoration-color: #008000\">'prod'</span>: <span style=\"font-weight: bold\">{</span><span style=\"color: #008000; text-decoration-color: #008000\">'password'</span>: <span style=\"color: #008000; text-decoration-color: #008000\">'prod.password'</span><span style=\"font-weight: bold\">}}</span>,\n",
       "    <span style=\"color: #808000; text-decoration-color: #808000\">Env</span>=<span style=\"font-weight: bold\">&lt;</span><span style=\"color: #ff00ff; text-decoration-color: #ff00ff; font-weight: bold\">class</span><span style=\"color: #000000; text-decoration-color: #000000\"> </span><span style=\"color: #008000; text-decoration-color: #008000\">'__main__.Env'</span><span style=\"color: #000000; text-decoration-color: #000000\">&gt;,</span>\n",
       "<span style=\"color: #000000; text-decoration-color: #000000\">    </span><span style=\"color: #808000; text-decoration-color: #808000\">EnvEnum</span><span style=\"color: #000000; text-decoration-color: #000000\">=&lt;enum </span><span style=\"color: #008000; text-decoration-color: #008000\">'EnvEnum'</span><span style=\"font-weight: bold\">&gt;</span>,\n",
       "    <span style=\"color: #808000; text-decoration-color: #808000\">version</span>=<span style=\"color: #008000; text-decoration-color: #008000\">'local'</span>,\n",
       "    <span style=\"color: #808000; text-decoration-color: #808000\">_applied_data</span>=<span style=\"font-weight: bold\">{</span>\n",
       "        <span style=\"color: #008000; text-decoration-color: #008000\">'dev'</span>: <span style=\"font-weight: bold\">{</span><span style=\"color: #008000; text-decoration-color: #008000\">'username'</span>: <span style=\"color: #008000; text-decoration-color: #008000\">'dev.user.v2'</span>, <span style=\"color: #008000; text-decoration-color: #008000\">'project_name'</span>: <span style=\"color: #008000; text-decoration-color: #008000\">'my_project'</span><span style=\"font-weight: bold\">}</span>,\n",
       "        <span style=\"color: #008000; text-decoration-color: #008000\">'prod'</span>: <span style=\"font-weight: bold\">{</span><span style=\"color: #008000; text-decoration-color: #008000\">'username'</span>: <span style=\"color: #008000; text-decoration-color: #008000\">'prod.user.v2'</span>, <span style=\"color: #008000; text-decoration-color: #008000\">'project_name'</span>: <span style=\"color: #008000; text-decoration-color: #008000\">'my_project'</span><span style=\"font-weight: bold\">}</span>\n",
       "    <span style=\"font-weight: bold\">}</span>,\n",
       "    <span style=\"color: #808000; text-decoration-color: #808000\">_applied_secret_data</span>=<span style=\"font-weight: bold\">{</span><span style=\"color: #008000; text-decoration-color: #008000\">'dev'</span>: <span style=\"font-weight: bold\">{</span><span style=\"color: #008000; text-decoration-color: #008000\">'password'</span>: <span style=\"color: #008000; text-decoration-color: #008000\">'dev.password'</span><span style=\"font-weight: bold\">}</span>, <span style=\"color: #008000; text-decoration-color: #008000\">'prod'</span>: <span style=\"font-weight: bold\">{</span><span style=\"color: #008000; text-decoration-color: #008000\">'password'</span>: <span style=\"color: #008000; text-decoration-color: #008000\">'prod.password'</span><span style=\"font-weight: bold\">}}</span>,\n",
       "    <span style=\"color: #808000; text-decoration-color: #808000\">_merged</span>=<span style=\"font-weight: bold\">{</span>\n",
       "        <span style=\"color: #008000; text-decoration-color: #008000\">'dev'</span>: <span style=\"font-weight: bold\">{</span><span style=\"color: #008000; text-decoration-color: #008000\">'username'</span>: <span style=\"color: #008000; text-decoration-color: #008000\">'dev.user.v2'</span>, <span style=\"color: #008000; text-decoration-color: #008000\">'project_name'</span>: <span style=\"color: #008000; text-decoration-color: #008000\">'my_project'</span>, <span style=\"color: #008000; text-decoration-color: #008000\">'password'</span>: <span style=\"color: #008000; text-decoration-color: #008000\">'dev.password'</span><span style=\"font-weight: bold\">}</span>,\n",
       "        <span style=\"color: #008000; text-decoration-color: #008000\">'prod'</span>: <span style=\"font-weight: bold\">{</span><span style=\"color: #008000; text-decoration-color: #008000\">'username'</span>: <span style=\"color: #008000; text-decoration-color: #008000\">'prod.user.v2'</span>, <span style=\"color: #008000; text-decoration-color: #008000\">'project_name'</span>: <span style=\"color: #008000; text-decoration-color: #008000\">'my_project'</span>, <span style=\"color: #008000; text-decoration-color: #008000\">'password'</span>: <span style=\"color: #008000; text-decoration-color: #008000\">'prod.password'</span><span style=\"font-weight: bold\">}</span>\n",
       "    <span style=\"font-weight: bold\">}</span>\n",
       "<span style=\"font-weight: bold\">)</span>\n",
       "</pre>\n"
      ],
      "text/plain": [
       "\u001b[1;35mConfig\u001b[0m\u001b[1m(\u001b[0m\n",
       "    \u001b[33mdata\u001b[0m=\u001b[1m{\u001b[0m\n",
       "        \u001b[32m'_shared'\u001b[0m: \u001b[1m{\u001b[0m\u001b[32m'*.project_name'\u001b[0m: \u001b[32m'my_project'\u001b[0m\u001b[1m}\u001b[0m,\n",
       "        \u001b[32m'dev'\u001b[0m: \u001b[1m{\u001b[0m\u001b[32m'username'\u001b[0m: \u001b[32m'dev.user.v2'\u001b[0m\u001b[1m}\u001b[0m,\n",
       "        \u001b[32m'prod'\u001b[0m: \u001b[1m{\u001b[0m\u001b[32m'username'\u001b[0m: \u001b[32m'prod.user.v2'\u001b[0m\u001b[1m}\u001b[0m\n",
       "    \u001b[1m}\u001b[0m,\n",
       "    \u001b[33msecret_data\u001b[0m=\u001b[1m{\u001b[0m\u001b[32m'_shared'\u001b[0m: \u001b[1m{\u001b[0m\u001b[1m}\u001b[0m, \u001b[32m'dev'\u001b[0m: \u001b[1m{\u001b[0m\u001b[32m'password'\u001b[0m: \u001b[32m'dev.password'\u001b[0m\u001b[1m}\u001b[0m, \u001b[32m'prod'\u001b[0m: \u001b[1m{\u001b[0m\u001b[32m'password'\u001b[0m: \u001b[32m'prod.password'\u001b[0m\u001b[1m}\u001b[0m\u001b[1m}\u001b[0m,\n",
       "    \u001b[33mEnv\u001b[0m=\u001b[1m<\u001b[0m\u001b[1;95mclass\u001b[0m\u001b[39m \u001b[0m\u001b[32m'__main__.Env'\u001b[0m\u001b[39m>,\u001b[0m\n",
       "\u001b[39m    \u001b[0m\u001b[33mEnvEnum\u001b[0m\u001b[39m=<enum \u001b[0m\u001b[32m'EnvEnum'\u001b[0m\u001b[1m>\u001b[0m,\n",
       "    \u001b[33mversion\u001b[0m=\u001b[32m'local'\u001b[0m,\n",
       "    \u001b[33m_applied_data\u001b[0m=\u001b[1m{\u001b[0m\n",
       "        \u001b[32m'dev'\u001b[0m: \u001b[1m{\u001b[0m\u001b[32m'username'\u001b[0m: \u001b[32m'dev.user.v2'\u001b[0m, \u001b[32m'project_name'\u001b[0m: \u001b[32m'my_project'\u001b[0m\u001b[1m}\u001b[0m,\n",
       "        \u001b[32m'prod'\u001b[0m: \u001b[1m{\u001b[0m\u001b[32m'username'\u001b[0m: \u001b[32m'prod.user.v2'\u001b[0m, \u001b[32m'project_name'\u001b[0m: \u001b[32m'my_project'\u001b[0m\u001b[1m}\u001b[0m\n",
       "    \u001b[1m}\u001b[0m,\n",
       "    \u001b[33m_applied_secret_data\u001b[0m=\u001b[1m{\u001b[0m\u001b[32m'dev'\u001b[0m: \u001b[1m{\u001b[0m\u001b[32m'password'\u001b[0m: \u001b[32m'dev.password'\u001b[0m\u001b[1m}\u001b[0m, \u001b[32m'prod'\u001b[0m: \u001b[1m{\u001b[0m\u001b[32m'password'\u001b[0m: \u001b[32m'prod.password'\u001b[0m\u001b[1m}\u001b[0m\u001b[1m}\u001b[0m,\n",
       "    \u001b[33m_merged\u001b[0m=\u001b[1m{\u001b[0m\n",
       "        \u001b[32m'dev'\u001b[0m: \u001b[1m{\u001b[0m\u001b[32m'username'\u001b[0m: \u001b[32m'dev.user.v2'\u001b[0m, \u001b[32m'project_name'\u001b[0m: \u001b[32m'my_project'\u001b[0m, \u001b[32m'password'\u001b[0m: \u001b[32m'dev.password'\u001b[0m\u001b[1m}\u001b[0m,\n",
       "        \u001b[32m'prod'\u001b[0m: \u001b[1m{\u001b[0m\u001b[32m'username'\u001b[0m: \u001b[32m'prod.user.v2'\u001b[0m, \u001b[32m'project_name'\u001b[0m: \u001b[32m'my_project'\u001b[0m, \u001b[32m'password'\u001b[0m: \u001b[32m'prod.password'\u001b[0m\u001b[1m}\u001b[0m\n",
       "    \u001b[1m}\u001b[0m\n",
       "\u001b[1m)\u001b[0m\n"
      ]
     },
     "metadata": {},
     "output_type": "display_data"
    },
    {
     "name": "stdout",
     "output_type": "stream",
     "text": [
      "+----- ⏱ 🟢 Start 'deploy config file to S3' -----------------------------------+\n",
      "| \n",
      "| 🚀️ deploy config file/files at s3://my-bucket/my-project/my_project/my_project-latest.json ...\n",
      "| preview at: https://console.aws.amazon.com/s3/object/my-bucket?prefix=my-project/my_project/my_project-latest.json\n",
      "| done!\n",
      "| \n",
      "+----- ⏰ 🟢 End 'deploy config file to S3', elapsed = 0.01 sec -----------------+\n",
      "+----- ⏱ 🟢 Start 'deploy config file to S3' -----------------------------------+\n",
      "| \n",
      "| 🚀️ deploy config file/files at s3://my-bucket/my-project/my_project-dev/my_project-dev-latest.json ...\n",
      "| preview at: https://console.aws.amazon.com/s3/object/my-bucket?prefix=my-project/my_project-dev/my_project-dev-latest.json\n",
      "| done!\n",
      "| \n",
      "+----- ⏰ 🟢 End 'deploy config file to S3', elapsed = 0.01 sec -----------------+\n",
      "+----- ⏱ 🟢 Start 'deploy config file to S3' -----------------------------------+\n",
      "| \n",
      "| 🚀️ deploy config file/files at s3://my-bucket/my-project/my_project-prod/my_project-prod-latest.json ...\n",
      "| preview at: https://console.aws.amazon.com/s3/object/my-bucket?prefix=my-project/my_project-prod/my_project-prod-latest.json\n",
      "| done!\n",
      "| \n",
      "+----- ⏰ 🟢 End 'deploy config file to S3', elapsed = 0.01 sec -----------------+\n"
     ]
    }
   ],
   "source": [
    "config_v2 = Config.read(\n",
    "    env_class=Env,\n",
    "    env_enum_class=EnvEnum,\n",
    "    path_config=path_config_v2,\n",
    "    path_secret_config=path_config_secret_v2,\n",
    ")\n",
    "rprint(config_v2)\n",
    "\n",
    "deployment_list = config_v2.deploy(\n",
    "    bsm=bsm, \n",
    "    s3folder_config=s3folder_config,\n",
    "    # these two arguments are optional\n",
    "    tags={\"project_name\": config_v2.project_name},\n",
    "    verbose=True,\n",
    ")"
   ]
  },
  {
   "cell_type": "markdown",
   "metadata": {},
   "source": [
    "Let's check the status of the S3 bucket. In each environment, there are three S3 objects: v1, v2, and latest."
   ]
  },
  {
   "cell_type": "code",
   "execution_count": 15,
   "metadata": {
    "tags": []
   },
   "outputs": [
    {
     "data": {
      "text/html": [
       "<pre style=\"white-space:pre;overflow-x:auto;line-height:normal;font-family:Menlo,'DejaVu Sans Mono',consolas,'Courier New',monospace\"><span style=\"font-weight: bold\">[</span>\n",
       "    <span style=\"color: #800080; text-decoration-color: #800080; font-weight: bold\">S3Path</span><span style=\"font-weight: bold\">(</span><span style=\"color: #008000; text-decoration-color: #008000\">'s3://my-bucket/my-project/my_project-dev/my_project-dev-000001.json'</span><span style=\"font-weight: bold\">)</span>,\n",
       "    <span style=\"color: #800080; text-decoration-color: #800080; font-weight: bold\">S3Path</span><span style=\"font-weight: bold\">(</span><span style=\"color: #008000; text-decoration-color: #008000\">'s3://my-bucket/my-project/my_project-dev/my_project-dev-000002.json'</span><span style=\"font-weight: bold\">)</span>,\n",
       "    <span style=\"color: #800080; text-decoration-color: #800080; font-weight: bold\">S3Path</span><span style=\"font-weight: bold\">(</span><span style=\"color: #008000; text-decoration-color: #008000\">'s3://my-bucket/my-project/my_project-dev/my_project-dev-latest.json'</span><span style=\"font-weight: bold\">)</span>,\n",
       "    <span style=\"color: #800080; text-decoration-color: #800080; font-weight: bold\">S3Path</span><span style=\"font-weight: bold\">(</span><span style=\"color: #008000; text-decoration-color: #008000\">'s3://my-bucket/my-project/my_project-prod/my_project-prod-000001.json'</span><span style=\"font-weight: bold\">)</span>,\n",
       "    <span style=\"color: #800080; text-decoration-color: #800080; font-weight: bold\">S3Path</span><span style=\"font-weight: bold\">(</span><span style=\"color: #008000; text-decoration-color: #008000\">'s3://my-bucket/my-project/my_project-prod/my_project-prod-000002.json'</span><span style=\"font-weight: bold\">)</span>,\n",
       "    <span style=\"color: #800080; text-decoration-color: #800080; font-weight: bold\">S3Path</span><span style=\"font-weight: bold\">(</span><span style=\"color: #008000; text-decoration-color: #008000\">'s3://my-bucket/my-project/my_project-prod/my_project-prod-latest.json'</span><span style=\"font-weight: bold\">)</span>,\n",
       "    <span style=\"color: #800080; text-decoration-color: #800080; font-weight: bold\">S3Path</span><span style=\"font-weight: bold\">(</span><span style=\"color: #008000; text-decoration-color: #008000\">'s3://my-bucket/my-project/my_project/my_project-000001.json'</span><span style=\"font-weight: bold\">)</span>,\n",
       "    <span style=\"color: #800080; text-decoration-color: #800080; font-weight: bold\">S3Path</span><span style=\"font-weight: bold\">(</span><span style=\"color: #008000; text-decoration-color: #008000\">'s3://my-bucket/my-project/my_project/my_project-000002.json'</span><span style=\"font-weight: bold\">)</span>,\n",
       "    <span style=\"color: #800080; text-decoration-color: #800080; font-weight: bold\">S3Path</span><span style=\"font-weight: bold\">(</span><span style=\"color: #008000; text-decoration-color: #008000\">'s3://my-bucket/my-project/my_project/my_project-latest.json'</span><span style=\"font-weight: bold\">)</span>\n",
       "<span style=\"font-weight: bold\">]</span>\n",
       "</pre>\n"
      ],
      "text/plain": [
       "\u001b[1m[\u001b[0m\n",
       "    \u001b[1;35mS3Path\u001b[0m\u001b[1m(\u001b[0m\u001b[32m's3://my-bucket/my-project/my_project-dev/my_project-dev-000001.json'\u001b[0m\u001b[1m)\u001b[0m,\n",
       "    \u001b[1;35mS3Path\u001b[0m\u001b[1m(\u001b[0m\u001b[32m's3://my-bucket/my-project/my_project-dev/my_project-dev-000002.json'\u001b[0m\u001b[1m)\u001b[0m,\n",
       "    \u001b[1;35mS3Path\u001b[0m\u001b[1m(\u001b[0m\u001b[32m's3://my-bucket/my-project/my_project-dev/my_project-dev-latest.json'\u001b[0m\u001b[1m)\u001b[0m,\n",
       "    \u001b[1;35mS3Path\u001b[0m\u001b[1m(\u001b[0m\u001b[32m's3://my-bucket/my-project/my_project-prod/my_project-prod-000001.json'\u001b[0m\u001b[1m)\u001b[0m,\n",
       "    \u001b[1;35mS3Path\u001b[0m\u001b[1m(\u001b[0m\u001b[32m's3://my-bucket/my-project/my_project-prod/my_project-prod-000002.json'\u001b[0m\u001b[1m)\u001b[0m,\n",
       "    \u001b[1;35mS3Path\u001b[0m\u001b[1m(\u001b[0m\u001b[32m's3://my-bucket/my-project/my_project-prod/my_project-prod-latest.json'\u001b[0m\u001b[1m)\u001b[0m,\n",
       "    \u001b[1;35mS3Path\u001b[0m\u001b[1m(\u001b[0m\u001b[32m's3://my-bucket/my-project/my_project/my_project-000001.json'\u001b[0m\u001b[1m)\u001b[0m,\n",
       "    \u001b[1;35mS3Path\u001b[0m\u001b[1m(\u001b[0m\u001b[32m's3://my-bucket/my-project/my_project/my_project-000002.json'\u001b[0m\u001b[1m)\u001b[0m,\n",
       "    \u001b[1;35mS3Path\u001b[0m\u001b[1m(\u001b[0m\u001b[32m's3://my-bucket/my-project/my_project/my_project-latest.json'\u001b[0m\u001b[1m)\u001b[0m\n",
       "\u001b[1m]\u001b[0m\n"
      ]
     },
     "metadata": {},
     "output_type": "display_data"
    }
   ],
   "source": [
    "rprint(S3Path(s3folder_config).iter_objects(bsm=bsm).all())"
   ]
  },
  {
   "cell_type": "markdown",
   "metadata": {},
   "source": [
    "### Delete and Clean Up\n",
    "\n",
    "Normally, it is not necessary to delete any config deployments (S3 objects) as they have low cost and are critical to your application. If you accidentally deploy malformed config data, there is no need to delete it. Instead, you can simply create a new deployment with the corrected configuration.\n",
    "\n",
    "To clean up all config objects in all environments, including the historical versions, you can retrieve the all-in-one object and then use the ``config.delete()`` method. By default, when you delete the object, the ``*-latest.json`` file is removed, making the config deployment \"invisible (unaccessible)\" to your application. However, the backup of all historical versions is retained. If you explicitly set ``include_history=True``, then all historical versions will be deleted as well. This design is implemented to prevent accidental deletion of all configurations. If you only delete the ``*-latest.json`` file, you can always recover it from the latest version number."
   ]
  },
  {
   "cell_type": "code",
   "execution_count": 16,
   "metadata": {
    "tags": []
   },
   "outputs": [
    {
     "name": "stdout",
     "output_type": "stream",
     "text": [
      "+----- ⏱ 🟢 Start 'delete config file from S3' ---------------------------------+\n",
      "| \n",
      "| 🗑️ delete config file/files at: s3://my-bucket/my-project/my_project/my_project-latest.json ...\n",
      "| preview at: https://console.aws.amazon.com/s3/object/my-bucket?prefix=my-project/my_project/my_project-latest.json\n",
      "| done!\n",
      "| \n",
      "+----- ⏰ 🟢 End 'delete config file from S3', elapsed = 0.02 sec ---------------+\n",
      "+----- ⏱ 🟢 Start 'delete config file from S3' ---------------------------------+\n",
      "| \n",
      "| 🗑️ delete config file/files at: s3://my-bucket/my-project/my_project-dev/my_project-dev-latest.json ...\n",
      "| preview at: https://console.aws.amazon.com/s3/object/my-bucket?prefix=my-project/my_project-dev/my_project-dev-latest.json\n",
      "| done!\n",
      "| \n",
      "+----- ⏰ 🟢 End 'delete config file from S3', elapsed = 0.00 sec ---------------+\n",
      "+----- ⏱ 🟢 Start 'delete config file from S3' ---------------------------------+\n",
      "| \n",
      "| 🗑️ delete config file/files at: s3://my-bucket/my-project/my_project-prod/my_project-prod-latest.json ...\n",
      "| preview at: https://console.aws.amazon.com/s3/object/my-bucket?prefix=my-project/my_project-prod/my_project-prod-latest.json\n",
      "| done!\n",
      "| \n",
      "+----- ⏰ 🟢 End 'delete config file from S3', elapsed = 0.00 sec ---------------+\n"
     ]
    }
   ],
   "source": [
    "deployment_list = config_v2.delete(\n",
    "    bsm=bsm, \n",
    "    s3folder_config=s3folder_config,\n",
    ")"
   ]
  },
  {
   "cell_type": "code",
   "execution_count": 17,
   "metadata": {
    "tags": []
   },
   "outputs": [
    {
     "data": {
      "text/html": [
       "<pre style=\"white-space:pre;overflow-x:auto;line-height:normal;font-family:Menlo,'DejaVu Sans Mono',consolas,'Courier New',monospace\"><span style=\"font-weight: bold\">[</span>\n",
       "    <span style=\"color: #800080; text-decoration-color: #800080; font-weight: bold\">S3Path</span><span style=\"font-weight: bold\">(</span><span style=\"color: #008000; text-decoration-color: #008000\">'s3://my-bucket/my-project/my_project-dev/my_project-dev-000001.json'</span><span style=\"font-weight: bold\">)</span>,\n",
       "    <span style=\"color: #800080; text-decoration-color: #800080; font-weight: bold\">S3Path</span><span style=\"font-weight: bold\">(</span><span style=\"color: #008000; text-decoration-color: #008000\">'s3://my-bucket/my-project/my_project-dev/my_project-dev-000002.json'</span><span style=\"font-weight: bold\">)</span>,\n",
       "    <span style=\"color: #800080; text-decoration-color: #800080; font-weight: bold\">S3Path</span><span style=\"font-weight: bold\">(</span><span style=\"color: #008000; text-decoration-color: #008000\">'s3://my-bucket/my-project/my_project-prod/my_project-prod-000001.json'</span><span style=\"font-weight: bold\">)</span>,\n",
       "    <span style=\"color: #800080; text-decoration-color: #800080; font-weight: bold\">S3Path</span><span style=\"font-weight: bold\">(</span><span style=\"color: #008000; text-decoration-color: #008000\">'s3://my-bucket/my-project/my_project-prod/my_project-prod-000002.json'</span><span style=\"font-weight: bold\">)</span>,\n",
       "    <span style=\"color: #800080; text-decoration-color: #800080; font-weight: bold\">S3Path</span><span style=\"font-weight: bold\">(</span><span style=\"color: #008000; text-decoration-color: #008000\">'s3://my-bucket/my-project/my_project/my_project-000001.json'</span><span style=\"font-weight: bold\">)</span>,\n",
       "    <span style=\"color: #800080; text-decoration-color: #800080; font-weight: bold\">S3Path</span><span style=\"font-weight: bold\">(</span><span style=\"color: #008000; text-decoration-color: #008000\">'s3://my-bucket/my-project/my_project/my_project-000002.json'</span><span style=\"font-weight: bold\">)</span>\n",
       "<span style=\"font-weight: bold\">]</span>\n",
       "</pre>\n"
      ],
      "text/plain": [
       "\u001b[1m[\u001b[0m\n",
       "    \u001b[1;35mS3Path\u001b[0m\u001b[1m(\u001b[0m\u001b[32m's3://my-bucket/my-project/my_project-dev/my_project-dev-000001.json'\u001b[0m\u001b[1m)\u001b[0m,\n",
       "    \u001b[1;35mS3Path\u001b[0m\u001b[1m(\u001b[0m\u001b[32m's3://my-bucket/my-project/my_project-dev/my_project-dev-000002.json'\u001b[0m\u001b[1m)\u001b[0m,\n",
       "    \u001b[1;35mS3Path\u001b[0m\u001b[1m(\u001b[0m\u001b[32m's3://my-bucket/my-project/my_project-prod/my_project-prod-000001.json'\u001b[0m\u001b[1m)\u001b[0m,\n",
       "    \u001b[1;35mS3Path\u001b[0m\u001b[1m(\u001b[0m\u001b[32m's3://my-bucket/my-project/my_project-prod/my_project-prod-000002.json'\u001b[0m\u001b[1m)\u001b[0m,\n",
       "    \u001b[1;35mS3Path\u001b[0m\u001b[1m(\u001b[0m\u001b[32m's3://my-bucket/my-project/my_project/my_project-000001.json'\u001b[0m\u001b[1m)\u001b[0m,\n",
       "    \u001b[1;35mS3Path\u001b[0m\u001b[1m(\u001b[0m\u001b[32m's3://my-bucket/my-project/my_project/my_project-000002.json'\u001b[0m\u001b[1m)\u001b[0m\n",
       "\u001b[1m]\u001b[0m\n"
      ]
     },
     "metadata": {},
     "output_type": "display_data"
    }
   ],
   "source": [
    "rprint(S3Path(s3folder_config).iter_objects(bsm=bsm).all())"
   ]
  },
  {
   "cell_type": "code",
   "execution_count": 18,
   "metadata": {
    "tags": []
   },
   "outputs": [
    {
     "name": "stdout",
     "output_type": "stream",
     "text": [
      "+----- ⏱ 🟢 Start 'delete config file from S3' ---------------------------------+\n",
      "| \n",
      "| 🗑️ delete config file/files at: s3://my-bucket/my-project/my_project/ ...\n",
      "| preview at: https://console.aws.amazon.com/s3/buckets/my-bucket?prefix=my-project/my_project/\n",
      "| done!\n",
      "| \n",
      "+----- ⏰ 🟢 End 'delete config file from S3', elapsed = 0.02 sec ---------------+\n",
      "+----- ⏱ 🟢 Start 'delete config file from S3' ---------------------------------+\n",
      "| \n",
      "| 🗑️ delete config file/files at: s3://my-bucket/my-project/my_project-dev/ ...\n",
      "| preview at: https://console.aws.amazon.com/s3/buckets/my-bucket?prefix=my-project/my_project-dev/\n",
      "| done!\n",
      "| \n",
      "+----- ⏰ 🟢 End 'delete config file from S3', elapsed = 0.00 sec ---------------+\n",
      "+----- ⏱ 🟢 Start 'delete config file from S3' ---------------------------------+\n",
      "| \n",
      "| 🗑️ delete config file/files at: s3://my-bucket/my-project/my_project-prod/ ...\n",
      "| preview at: https://console.aws.amazon.com/s3/buckets/my-bucket?prefix=my-project/my_project-prod/\n",
      "| done!\n",
      "| \n",
      "+----- ⏰ 🟢 End 'delete config file from S3', elapsed = 0.00 sec ---------------+\n"
     ]
    }
   ],
   "source": [
    "deployment_list = config_v2.delete(\n",
    "    bsm=bsm, \n",
    "    s3folder_config=s3folder_config,\n",
    "    include_history=True,\n",
    ")"
   ]
  },
  {
   "cell_type": "code",
   "execution_count": 19,
   "metadata": {
    "tags": []
   },
   "outputs": [
    {
     "data": {
      "text/html": [
       "<pre style=\"white-space:pre;overflow-x:auto;line-height:normal;font-family:Menlo,'DejaVu Sans Mono',consolas,'Courier New',monospace\"><span style=\"font-weight: bold\">[]</span>\n",
       "</pre>\n"
      ],
      "text/plain": [
       "\u001b[1m[\u001b[0m\u001b[1m]\u001b[0m\n"
      ]
     },
     "metadata": {},
     "output_type": "display_data"
    }
   ],
   "source": [
    "rprint(S3Path(s3folder_config).iter_objects(bsm=bsm).all())"
   ]
  },
  {
   "cell_type": "markdown",
   "metadata": {},
   "source": [
    "## S3 Backend With Version Enabled\n",
    "\n",
    "[Versioning](https://docs.aws.amazon.com/AmazonS3/latest/userguide/Versioning.html) is an awesome feature in AWS S3. With versioning enabled, overwriting an existing S3 object is actually creating a new version of it. And the deletion is just about putting a delete marker on top of the latest version and made this S3 object \"invisible\". The historical version are always stored. As a result, the ``config_patterns`` library doesn't need to manage the ``*-latest.json`` and ``*-${version}.json`` anymore.\n",
    "\n",
    "Firstly, let's create a new bucket and enable versioning.\n"
   ]
  },
  {
   "cell_type": "code",
   "execution_count": 20,
   "metadata": {
    "tags": []
   },
   "outputs": [],
   "source": [
    "# define the bucket to store config files\n",
    "bucket_versioned = \"my-bucket-versioned\"\n",
    "# create the bucket first\n",
    "bsm.s3_client.create_bucket(Bucket=bucket_versioned)\n",
    "_ = bsm.s3_client.put_bucket_versioning(\n",
    "    Bucket=bucket_versioned,\n",
    "    VersioningConfiguration={\n",
    "        \"Status\": \"Enabled\"\n",
    "    },\n",
    ")"
   ]
  },
  {
   "cell_type": "markdown",
   "metadata": {},
   "source": [
    "### Deploy Config to S3 Backend\n",
    "\n",
    "Just like what we did before, we read the config object from local JSON file and deploy it to S3.\n",
    "\n",
    "You don't need to perform any additional steps to inform the ``config_patterns`` library about the usage of a versioning-enabled S3 bucket. The library can automatically detect this configuration. However, if you enable and then disable \"versioning\" for the S3 bucket, the versioning status will change to \"Suspended\". In this case, the library cannot handle this situation and will raise an error. Therefore, you should not use a \"Suspended\" bucket as the backend for the library."
   ]
  },
  {
   "cell_type": "code",
   "execution_count": 21,
   "metadata": {
    "tags": []
   },
   "outputs": [
    {
     "data": {
      "text/html": [
       "<pre style=\"white-space:pre;overflow-x:auto;line-height:normal;font-family:Menlo,'DejaVu Sans Mono',consolas,'Courier New',monospace\"><span style=\"color: #800080; text-decoration-color: #800080; font-weight: bold\">Config</span><span style=\"font-weight: bold\">(</span>\n",
       "    <span style=\"color: #808000; text-decoration-color: #808000\">data</span>=<span style=\"font-weight: bold\">{</span>\n",
       "        <span style=\"color: #008000; text-decoration-color: #008000\">'_shared'</span>: <span style=\"font-weight: bold\">{</span><span style=\"color: #008000; text-decoration-color: #008000\">'*.project_name'</span>: <span style=\"color: #008000; text-decoration-color: #008000\">'my_project'</span><span style=\"font-weight: bold\">}</span>,\n",
       "        <span style=\"color: #008000; text-decoration-color: #008000\">'dev'</span>: <span style=\"font-weight: bold\">{</span><span style=\"color: #008000; text-decoration-color: #008000\">'username'</span>: <span style=\"color: #008000; text-decoration-color: #008000\">'dev.user.v1'</span><span style=\"font-weight: bold\">}</span>,\n",
       "        <span style=\"color: #008000; text-decoration-color: #008000\">'prod'</span>: <span style=\"font-weight: bold\">{</span><span style=\"color: #008000; text-decoration-color: #008000\">'username'</span>: <span style=\"color: #008000; text-decoration-color: #008000\">'prod.user.v1'</span><span style=\"font-weight: bold\">}</span>\n",
       "    <span style=\"font-weight: bold\">}</span>,\n",
       "    <span style=\"color: #808000; text-decoration-color: #808000\">secret_data</span>=<span style=\"font-weight: bold\">{</span><span style=\"color: #008000; text-decoration-color: #008000\">'_shared'</span>: <span style=\"font-weight: bold\">{}</span>, <span style=\"color: #008000; text-decoration-color: #008000\">'dev'</span>: <span style=\"font-weight: bold\">{</span><span style=\"color: #008000; text-decoration-color: #008000\">'password'</span>: <span style=\"color: #008000; text-decoration-color: #008000\">'dev.password'</span><span style=\"font-weight: bold\">}</span>, <span style=\"color: #008000; text-decoration-color: #008000\">'prod'</span>: <span style=\"font-weight: bold\">{</span><span style=\"color: #008000; text-decoration-color: #008000\">'password'</span>: <span style=\"color: #008000; text-decoration-color: #008000\">'prod.password'</span><span style=\"font-weight: bold\">}}</span>,\n",
       "    <span style=\"color: #808000; text-decoration-color: #808000\">Env</span>=<span style=\"font-weight: bold\">&lt;</span><span style=\"color: #ff00ff; text-decoration-color: #ff00ff; font-weight: bold\">class</span><span style=\"color: #000000; text-decoration-color: #000000\"> </span><span style=\"color: #008000; text-decoration-color: #008000\">'__main__.Env'</span><span style=\"color: #000000; text-decoration-color: #000000\">&gt;,</span>\n",
       "<span style=\"color: #000000; text-decoration-color: #000000\">    </span><span style=\"color: #808000; text-decoration-color: #808000\">EnvEnum</span><span style=\"color: #000000; text-decoration-color: #000000\">=&lt;enum </span><span style=\"color: #008000; text-decoration-color: #008000\">'EnvEnum'</span><span style=\"font-weight: bold\">&gt;</span>,\n",
       "    <span style=\"color: #808000; text-decoration-color: #808000\">version</span>=<span style=\"color: #008000; text-decoration-color: #008000\">'local'</span>,\n",
       "    <span style=\"color: #808000; text-decoration-color: #808000\">_applied_data</span>=<span style=\"font-weight: bold\">{</span>\n",
       "        <span style=\"color: #008000; text-decoration-color: #008000\">'dev'</span>: <span style=\"font-weight: bold\">{</span><span style=\"color: #008000; text-decoration-color: #008000\">'username'</span>: <span style=\"color: #008000; text-decoration-color: #008000\">'dev.user.v1'</span>, <span style=\"color: #008000; text-decoration-color: #008000\">'project_name'</span>: <span style=\"color: #008000; text-decoration-color: #008000\">'my_project'</span><span style=\"font-weight: bold\">}</span>,\n",
       "        <span style=\"color: #008000; text-decoration-color: #008000\">'prod'</span>: <span style=\"font-weight: bold\">{</span><span style=\"color: #008000; text-decoration-color: #008000\">'username'</span>: <span style=\"color: #008000; text-decoration-color: #008000\">'prod.user.v1'</span>, <span style=\"color: #008000; text-decoration-color: #008000\">'project_name'</span>: <span style=\"color: #008000; text-decoration-color: #008000\">'my_project'</span><span style=\"font-weight: bold\">}</span>\n",
       "    <span style=\"font-weight: bold\">}</span>,\n",
       "    <span style=\"color: #808000; text-decoration-color: #808000\">_applied_secret_data</span>=<span style=\"font-weight: bold\">{</span><span style=\"color: #008000; text-decoration-color: #008000\">'dev'</span>: <span style=\"font-weight: bold\">{</span><span style=\"color: #008000; text-decoration-color: #008000\">'password'</span>: <span style=\"color: #008000; text-decoration-color: #008000\">'dev.password'</span><span style=\"font-weight: bold\">}</span>, <span style=\"color: #008000; text-decoration-color: #008000\">'prod'</span>: <span style=\"font-weight: bold\">{</span><span style=\"color: #008000; text-decoration-color: #008000\">'password'</span>: <span style=\"color: #008000; text-decoration-color: #008000\">'prod.password'</span><span style=\"font-weight: bold\">}}</span>,\n",
       "    <span style=\"color: #808000; text-decoration-color: #808000\">_merged</span>=<span style=\"font-weight: bold\">{</span>\n",
       "        <span style=\"color: #008000; text-decoration-color: #008000\">'dev'</span>: <span style=\"font-weight: bold\">{</span><span style=\"color: #008000; text-decoration-color: #008000\">'username'</span>: <span style=\"color: #008000; text-decoration-color: #008000\">'dev.user.v1'</span>, <span style=\"color: #008000; text-decoration-color: #008000\">'project_name'</span>: <span style=\"color: #008000; text-decoration-color: #008000\">'my_project'</span>, <span style=\"color: #008000; text-decoration-color: #008000\">'password'</span>: <span style=\"color: #008000; text-decoration-color: #008000\">'dev.password'</span><span style=\"font-weight: bold\">}</span>,\n",
       "        <span style=\"color: #008000; text-decoration-color: #008000\">'prod'</span>: <span style=\"font-weight: bold\">{</span><span style=\"color: #008000; text-decoration-color: #008000\">'username'</span>: <span style=\"color: #008000; text-decoration-color: #008000\">'prod.user.v1'</span>, <span style=\"color: #008000; text-decoration-color: #008000\">'project_name'</span>: <span style=\"color: #008000; text-decoration-color: #008000\">'my_project'</span>, <span style=\"color: #008000; text-decoration-color: #008000\">'password'</span>: <span style=\"color: #008000; text-decoration-color: #008000\">'prod.password'</span><span style=\"font-weight: bold\">}</span>\n",
       "    <span style=\"font-weight: bold\">}</span>\n",
       "<span style=\"font-weight: bold\">)</span>\n",
       "</pre>\n"
      ],
      "text/plain": [
       "\u001b[1;35mConfig\u001b[0m\u001b[1m(\u001b[0m\n",
       "    \u001b[33mdata\u001b[0m=\u001b[1m{\u001b[0m\n",
       "        \u001b[32m'_shared'\u001b[0m: \u001b[1m{\u001b[0m\u001b[32m'*.project_name'\u001b[0m: \u001b[32m'my_project'\u001b[0m\u001b[1m}\u001b[0m,\n",
       "        \u001b[32m'dev'\u001b[0m: \u001b[1m{\u001b[0m\u001b[32m'username'\u001b[0m: \u001b[32m'dev.user.v1'\u001b[0m\u001b[1m}\u001b[0m,\n",
       "        \u001b[32m'prod'\u001b[0m: \u001b[1m{\u001b[0m\u001b[32m'username'\u001b[0m: \u001b[32m'prod.user.v1'\u001b[0m\u001b[1m}\u001b[0m\n",
       "    \u001b[1m}\u001b[0m,\n",
       "    \u001b[33msecret_data\u001b[0m=\u001b[1m{\u001b[0m\u001b[32m'_shared'\u001b[0m: \u001b[1m{\u001b[0m\u001b[1m}\u001b[0m, \u001b[32m'dev'\u001b[0m: \u001b[1m{\u001b[0m\u001b[32m'password'\u001b[0m: \u001b[32m'dev.password'\u001b[0m\u001b[1m}\u001b[0m, \u001b[32m'prod'\u001b[0m: \u001b[1m{\u001b[0m\u001b[32m'password'\u001b[0m: \u001b[32m'prod.password'\u001b[0m\u001b[1m}\u001b[0m\u001b[1m}\u001b[0m,\n",
       "    \u001b[33mEnv\u001b[0m=\u001b[1m<\u001b[0m\u001b[1;95mclass\u001b[0m\u001b[39m \u001b[0m\u001b[32m'__main__.Env'\u001b[0m\u001b[39m>,\u001b[0m\n",
       "\u001b[39m    \u001b[0m\u001b[33mEnvEnum\u001b[0m\u001b[39m=<enum \u001b[0m\u001b[32m'EnvEnum'\u001b[0m\u001b[1m>\u001b[0m,\n",
       "    \u001b[33mversion\u001b[0m=\u001b[32m'local'\u001b[0m,\n",
       "    \u001b[33m_applied_data\u001b[0m=\u001b[1m{\u001b[0m\n",
       "        \u001b[32m'dev'\u001b[0m: \u001b[1m{\u001b[0m\u001b[32m'username'\u001b[0m: \u001b[32m'dev.user.v1'\u001b[0m, \u001b[32m'project_name'\u001b[0m: \u001b[32m'my_project'\u001b[0m\u001b[1m}\u001b[0m,\n",
       "        \u001b[32m'prod'\u001b[0m: \u001b[1m{\u001b[0m\u001b[32m'username'\u001b[0m: \u001b[32m'prod.user.v1'\u001b[0m, \u001b[32m'project_name'\u001b[0m: \u001b[32m'my_project'\u001b[0m\u001b[1m}\u001b[0m\n",
       "    \u001b[1m}\u001b[0m,\n",
       "    \u001b[33m_applied_secret_data\u001b[0m=\u001b[1m{\u001b[0m\u001b[32m'dev'\u001b[0m: \u001b[1m{\u001b[0m\u001b[32m'password'\u001b[0m: \u001b[32m'dev.password'\u001b[0m\u001b[1m}\u001b[0m, \u001b[32m'prod'\u001b[0m: \u001b[1m{\u001b[0m\u001b[32m'password'\u001b[0m: \u001b[32m'prod.password'\u001b[0m\u001b[1m}\u001b[0m\u001b[1m}\u001b[0m,\n",
       "    \u001b[33m_merged\u001b[0m=\u001b[1m{\u001b[0m\n",
       "        \u001b[32m'dev'\u001b[0m: \u001b[1m{\u001b[0m\u001b[32m'username'\u001b[0m: \u001b[32m'dev.user.v1'\u001b[0m, \u001b[32m'project_name'\u001b[0m: \u001b[32m'my_project'\u001b[0m, \u001b[32m'password'\u001b[0m: \u001b[32m'dev.password'\u001b[0m\u001b[1m}\u001b[0m,\n",
       "        \u001b[32m'prod'\u001b[0m: \u001b[1m{\u001b[0m\u001b[32m'username'\u001b[0m: \u001b[32m'prod.user.v1'\u001b[0m, \u001b[32m'project_name'\u001b[0m: \u001b[32m'my_project'\u001b[0m, \u001b[32m'password'\u001b[0m: \u001b[32m'prod.password'\u001b[0m\u001b[1m}\u001b[0m\n",
       "    \u001b[1m}\u001b[0m\n",
       "\u001b[1m)\u001b[0m\n"
      ]
     },
     "metadata": {},
     "output_type": "display_data"
    }
   ],
   "source": [
    "config_v1 = Config.read(\n",
    "    env_class=Env,\n",
    "    env_enum_class=EnvEnum,\n",
    "    path_config=path_config_v1,\n",
    "    path_secret_config=path_config_secret_v1,\n",
    ")\n",
    "rprint(config_v1)"
   ]
  },
  {
   "cell_type": "code",
   "execution_count": 22,
   "metadata": {
    "tags": []
   },
   "outputs": [
    {
     "name": "stdout",
     "output_type": "stream",
     "text": [
      "+----- ⏱ 🟢 Start 'deploy config file to S3' -----------------------------------+\n",
      "| \n",
      "| 🚀️ deploy config file/files at s3://my-bucket-versioned/my-project/my_project.json ...\n",
      "| preview at: https://console.aws.amazon.com/s3/object/my-bucket-versioned?prefix=my-project/my_project.json\n",
      "| done!\n",
      "| \n",
      "+----- ⏰ 🟢 End 'deploy config file to S3', elapsed = 0.01 sec -----------------+\n",
      "+----- ⏱ 🟢 Start 'deploy config file to S3' -----------------------------------+\n",
      "| \n",
      "| 🚀️ deploy config file/files at s3://my-bucket-versioned/my-project/my_project-dev.json ...\n",
      "| preview at: https://console.aws.amazon.com/s3/object/my-bucket-versioned?prefix=my-project/my_project-dev.json\n",
      "| done!\n",
      "| \n",
      "+----- ⏰ 🟢 End 'deploy config file to S3', elapsed = 0.01 sec -----------------+\n",
      "+----- ⏱ 🟢 Start 'deploy config file to S3' -----------------------------------+\n",
      "| \n",
      "| 🚀️ deploy config file/files at s3://my-bucket-versioned/my-project/my_project-prod.json ...\n",
      "| preview at: https://console.aws.amazon.com/s3/object/my-bucket-versioned?prefix=my-project/my_project-prod.json\n",
      "| done!\n",
      "| \n",
      "+----- ⏰ 🟢 End 'deploy config file to S3', elapsed = 0.00 sec -----------------+\n"
     ]
    }
   ],
   "source": [
    "s3folder_config = f\"s3://{bucket_versioned}/my-project/\"\n",
    "deployment_list = config_v1.deploy(\n",
    "    bsm=bsm, \n",
    "    s3folder_config=s3folder_config,\n",
    "    # these two arguments are optional\n",
    "    tags={\"project_name\": config_v1.project_name},\n",
    "    verbose=True,\n",
    ")"
   ]
  },
  {
   "cell_type": "markdown",
   "metadata": {},
   "source": [
    "Now, let's see what happens in AWS S3. With versioning enabled, only three S3 objects are created. And the concept of a specific \"latest\" object is not applicable in this case. This is because S3 object versioning automatically manages that. Now the version of the config data becomes the S3 object version id.\n",
    "\n",
    "- ``s3://my-bucket/my-project/my_project/my_project.json``\n",
    "- ``s3://my-bucket/my-project/my_project/my_project-dev.json``\n",
    "- ``s3://my-bucket/my-project/my_project/my_project-prod.json``"
   ]
  },
  {
   "cell_type": "code",
   "execution_count": 23,
   "metadata": {
    "tags": []
   },
   "outputs": [
    {
     "data": {
      "text/html": [
       "<pre style=\"white-space:pre;overflow-x:auto;line-height:normal;font-family:Menlo,'DejaVu Sans Mono',consolas,'Courier New',monospace\"><span style=\"font-weight: bold\">[</span>\n",
       "    <span style=\"color: #800080; text-decoration-color: #800080; font-weight: bold\">S3Path</span><span style=\"font-weight: bold\">(</span><span style=\"color: #008000; text-decoration-color: #008000\">'s3://my-bucket-versioned/my-project/my_project-dev.json'</span><span style=\"font-weight: bold\">)</span>,\n",
       "    <span style=\"color: #800080; text-decoration-color: #800080; font-weight: bold\">S3Path</span><span style=\"font-weight: bold\">(</span><span style=\"color: #008000; text-decoration-color: #008000\">'s3://my-bucket-versioned/my-project/my_project-prod.json'</span><span style=\"font-weight: bold\">)</span>,\n",
       "    <span style=\"color: #800080; text-decoration-color: #800080; font-weight: bold\">S3Path</span><span style=\"font-weight: bold\">(</span><span style=\"color: #008000; text-decoration-color: #008000\">'s3://my-bucket-versioned/my-project/my_project.json'</span><span style=\"font-weight: bold\">)</span>\n",
       "<span style=\"font-weight: bold\">]</span>\n",
       "</pre>\n"
      ],
      "text/plain": [
       "\u001b[1m[\u001b[0m\n",
       "    \u001b[1;35mS3Path\u001b[0m\u001b[1m(\u001b[0m\u001b[32m's3://my-bucket-versioned/my-project/my_project-dev.json'\u001b[0m\u001b[1m)\u001b[0m,\n",
       "    \u001b[1;35mS3Path\u001b[0m\u001b[1m(\u001b[0m\u001b[32m's3://my-bucket-versioned/my-project/my_project-prod.json'\u001b[0m\u001b[1m)\u001b[0m,\n",
       "    \u001b[1;35mS3Path\u001b[0m\u001b[1m(\u001b[0m\u001b[32m's3://my-bucket-versioned/my-project/my_project.json'\u001b[0m\u001b[1m)\u001b[0m\n",
       "\u001b[1m]\u001b[0m\n"
      ]
     },
     "metadata": {},
     "output_type": "display_data"
    }
   ],
   "source": [
    "rprint(S3Path(s3folder_config).iter_objects(bsm=bsm).all())"
   ]
  },
  {
   "cell_type": "markdown",
   "metadata": {},
   "source": [
    "You can access the version id of the latest config data via S3 API."
   ]
  },
  {
   "cell_type": "code",
   "execution_count": 24,
   "metadata": {
    "tags": []
   },
   "outputs": [
    {
     "name": "stdout",
     "output_type": "stream",
     "text": [
      "s3 object content:\n"
     ]
    },
    {
     "data": {
      "text/html": [
       "<pre style=\"white-space:pre;overflow-x:auto;line-height:normal;font-family:Menlo,'DejaVu Sans Mono',consolas,'Courier New',monospace\"><span style=\"font-weight: bold\">{</span>\n",
       "    <span style=\"color: #008000; text-decoration-color: #008000\">\"data\"</span>: <span style=\"font-weight: bold\">{</span>\n",
       "        <span style=\"color: #008000; text-decoration-color: #008000\">\"_shared\"</span>: <span style=\"font-weight: bold\">{</span>\n",
       "            <span style=\"color: #008000; text-decoration-color: #008000\">\"*.project_name\"</span>: <span style=\"color: #008000; text-decoration-color: #008000\">\"my_project\"</span>\n",
       "        <span style=\"font-weight: bold\">}</span>,\n",
       "        <span style=\"color: #008000; text-decoration-color: #008000\">\"dev\"</span>: <span style=\"font-weight: bold\">{</span>\n",
       "            <span style=\"color: #008000; text-decoration-color: #008000\">\"username\"</span>: <span style=\"color: #008000; text-decoration-color: #008000\">\"dev.user.v1\"</span>\n",
       "        <span style=\"font-weight: bold\">}</span>,\n",
       "        <span style=\"color: #008000; text-decoration-color: #008000\">\"prod\"</span>: <span style=\"font-weight: bold\">{</span>\n",
       "            <span style=\"color: #008000; text-decoration-color: #008000\">\"username\"</span>: <span style=\"color: #008000; text-decoration-color: #008000\">\"prod.user.v1\"</span>\n",
       "        <span style=\"font-weight: bold\">}</span>\n",
       "    <span style=\"font-weight: bold\">}</span>,\n",
       "    <span style=\"color: #008000; text-decoration-color: #008000\">\"secret_data\"</span>: <span style=\"font-weight: bold\">{</span>\n",
       "        <span style=\"color: #008000; text-decoration-color: #008000\">\"_shared\"</span>: <span style=\"font-weight: bold\">{}</span>,\n",
       "        <span style=\"color: #008000; text-decoration-color: #008000\">\"dev\"</span>: <span style=\"font-weight: bold\">{</span>\n",
       "            <span style=\"color: #008000; text-decoration-color: #008000\">\"password\"</span>: <span style=\"color: #008000; text-decoration-color: #008000\">\"dev.password\"</span>\n",
       "        <span style=\"font-weight: bold\">}</span>,\n",
       "        <span style=\"color: #008000; text-decoration-color: #008000\">\"prod\"</span>: <span style=\"font-weight: bold\">{</span>\n",
       "            <span style=\"color: #008000; text-decoration-color: #008000\">\"password\"</span>: <span style=\"color: #008000; text-decoration-color: #008000\">\"prod.password\"</span>\n",
       "        <span style=\"font-weight: bold\">}</span>\n",
       "    <span style=\"font-weight: bold\">}</span>\n",
       "<span style=\"font-weight: bold\">}</span>\n",
       "</pre>\n"
      ],
      "text/plain": [
       "\u001b[1m{\u001b[0m\n",
       "    \u001b[32m\"data\"\u001b[0m: \u001b[1m{\u001b[0m\n",
       "        \u001b[32m\"_shared\"\u001b[0m: \u001b[1m{\u001b[0m\n",
       "            \u001b[32m\"*.project_name\"\u001b[0m: \u001b[32m\"my_project\"\u001b[0m\n",
       "        \u001b[1m}\u001b[0m,\n",
       "        \u001b[32m\"dev\"\u001b[0m: \u001b[1m{\u001b[0m\n",
       "            \u001b[32m\"username\"\u001b[0m: \u001b[32m\"dev.user.v1\"\u001b[0m\n",
       "        \u001b[1m}\u001b[0m,\n",
       "        \u001b[32m\"prod\"\u001b[0m: \u001b[1m{\u001b[0m\n",
       "            \u001b[32m\"username\"\u001b[0m: \u001b[32m\"prod.user.v1\"\u001b[0m\n",
       "        \u001b[1m}\u001b[0m\n",
       "    \u001b[1m}\u001b[0m,\n",
       "    \u001b[32m\"secret_data\"\u001b[0m: \u001b[1m{\u001b[0m\n",
       "        \u001b[32m\"_shared\"\u001b[0m: \u001b[1m{\u001b[0m\u001b[1m}\u001b[0m,\n",
       "        \u001b[32m\"dev\"\u001b[0m: \u001b[1m{\u001b[0m\n",
       "            \u001b[32m\"password\"\u001b[0m: \u001b[32m\"dev.password\"\u001b[0m\n",
       "        \u001b[1m}\u001b[0m,\n",
       "        \u001b[32m\"prod\"\u001b[0m: \u001b[1m{\u001b[0m\n",
       "            \u001b[32m\"password\"\u001b[0m: \u001b[32m\"prod.password\"\u001b[0m\n",
       "        \u001b[1m}\u001b[0m\n",
       "    \u001b[1m}\u001b[0m\n",
       "\u001b[1m}\u001b[0m\n"
      ]
     },
     "metadata": {},
     "output_type": "display_data"
    },
    {
     "name": "stdout",
     "output_type": "stream",
     "text": [
      "version_id: cc4c8cf1-0e3f-4f41-9925-090769850fb6\n"
     ]
    },
    {
     "data": {
      "text/html": [
       "<pre style=\"white-space:pre;overflow-x:auto;line-height:normal;font-family:Menlo,'DejaVu Sans Mono',consolas,'Courier New',monospace\">s3 object metadata: <span style=\"font-weight: bold\">{</span><span style=\"color: #008000; text-decoration-color: #008000\">'config_sha256'</span>: <span style=\"color: #008000; text-decoration-color: #008000\">'e18bf9f25134c83ef26355ecd058c5bc89c03341bf95ba129c973cc0961149d0'</span><span style=\"font-weight: bold\">}</span>\n",
       "</pre>\n"
      ],
      "text/plain": [
       "s3 object metadata: \u001b[1m{\u001b[0m\u001b[32m'config_sha256'\u001b[0m: \u001b[32m'e18bf9f25134c83ef26355ecd058c5bc89c03341bf95ba129c973cc0961149d0'\u001b[0m\u001b[1m}\u001b[0m\n"
      ]
     },
     "metadata": {},
     "output_type": "display_data"
    }
   ],
   "source": [
    "s3path = S3Path(\"s3://my-bucket-versioned/my-project/my_project.json\")\n",
    "print(\"s3 object content:\")\n",
    "rprint(s3path.read_text(bsm=bsm))\n",
    "v1 = s3path.version_id\n",
    "print(f\"version_id: {v1}\")\n",
    "rprint(f\"s3 object metadata: {s3path.metadata}\")"
   ]
  },
  {
   "cell_type": "markdown",
   "metadata": {},
   "source": [
    "If you are trying to deploy the same config data with no change, config_patterns library can automatically detect that and skip the deployment."
   ]
  },
  {
   "cell_type": "code",
   "execution_count": 25,
   "metadata": {
    "tags": []
   },
   "outputs": [
    {
     "name": "stdout",
     "output_type": "stream",
     "text": [
      "+----- ⏱ 🟢 Start 'deploy config file to S3' -----------------------------------+\n",
      "| \n",
      "| 🚀️ deploy config file/files at s3://my-bucket-versioned/my-project/my_project.json ...\n",
      "| preview at: https://console.aws.amazon.com/s3/object/my-bucket-versioned?prefix=my-project/my_project.json\n",
      "| config data is the same as existing one, do nothing.\n",
      "| \n",
      "+----- ⏰ 🟢 End 'deploy config file to S3', elapsed = 0.01 sec -----------------+\n",
      "+----- ⏱ 🟢 Start 'deploy config file to S3' -----------------------------------+\n",
      "| \n",
      "| 🚀️ deploy config file/files at s3://my-bucket-versioned/my-project/my_project-dev.json ...\n",
      "| preview at: https://console.aws.amazon.com/s3/object/my-bucket-versioned?prefix=my-project/my_project-dev.json\n",
      "| config data is the same as existing one, do nothing.\n",
      "| \n",
      "+----- ⏰ 🟢 End 'deploy config file to S3', elapsed = 0.00 sec -----------------+\n",
      "+----- ⏱ 🟢 Start 'deploy config file to S3' -----------------------------------+\n",
      "| \n",
      "| 🚀️ deploy config file/files at s3://my-bucket-versioned/my-project/my_project-prod.json ...\n",
      "| preview at: https://console.aws.amazon.com/s3/object/my-bucket-versioned?prefix=my-project/my_project-prod.json\n",
      "| config data is the same as existing one, do nothing.\n",
      "| \n",
      "+----- ⏰ 🟢 End 'deploy config file to S3', elapsed = 0.00 sec -----------------+\n"
     ]
    }
   ],
   "source": [
    "deployment_list = config_v1.deploy(\n",
    "    bsm=bsm, \n",
    "    s3folder_config=s3folder_config,\n",
    "    # these two arguments are optional\n",
    "    tags={\"project_name\": config_v1.project_name},\n",
    "    verbose=True,\n",
    ")"
   ]
  },
  {
   "cell_type": "markdown",
   "metadata": {},
   "source": [
    "### Read Config from S3 Backend\n",
    "\n",
    "Now, you can use the Config.read() method to readthe config object from S3. If you want to read the all-in-one config object, then you could use ``parameter_name=\"${parameter_name}\"``. If you want to read the config object of specific environment, you could use ``parameter=\"${parameter_name}-${env_name}\"``.\n",
    "\n",
    "On versioning enabled bucket, the ``config.version`` is the S3 object version_id that is managed by AWS."
   ]
  },
  {
   "cell_type": "code",
   "execution_count": 26,
   "metadata": {},
   "outputs": [
    {
     "name": "stdout",
     "output_type": "stream",
     "text": [
      "all in one config object:\n"
     ]
    },
    {
     "data": {
      "text/html": [
       "<pre style=\"white-space:pre;overflow-x:auto;line-height:normal;font-family:Menlo,'DejaVu Sans Mono',consolas,'Courier New',monospace\"><span style=\"color: #800080; text-decoration-color: #800080; font-weight: bold\">Config</span><span style=\"font-weight: bold\">(</span>\n",
       "    <span style=\"color: #808000; text-decoration-color: #808000\">data</span>=<span style=\"font-weight: bold\">{</span>\n",
       "        <span style=\"color: #008000; text-decoration-color: #008000\">'_shared'</span>: <span style=\"font-weight: bold\">{</span><span style=\"color: #008000; text-decoration-color: #008000\">'*.project_name'</span>: <span style=\"color: #008000; text-decoration-color: #008000\">'my_project'</span><span style=\"font-weight: bold\">}</span>,\n",
       "        <span style=\"color: #008000; text-decoration-color: #008000\">'dev'</span>: <span style=\"font-weight: bold\">{</span><span style=\"color: #008000; text-decoration-color: #008000\">'username'</span>: <span style=\"color: #008000; text-decoration-color: #008000\">'dev.user.v1'</span><span style=\"font-weight: bold\">}</span>,\n",
       "        <span style=\"color: #008000; text-decoration-color: #008000\">'prod'</span>: <span style=\"font-weight: bold\">{</span><span style=\"color: #008000; text-decoration-color: #008000\">'username'</span>: <span style=\"color: #008000; text-decoration-color: #008000\">'prod.user.v1'</span><span style=\"font-weight: bold\">}</span>\n",
       "    <span style=\"font-weight: bold\">}</span>,\n",
       "    <span style=\"color: #808000; text-decoration-color: #808000\">secret_data</span>=<span style=\"font-weight: bold\">{</span><span style=\"color: #008000; text-decoration-color: #008000\">'_shared'</span>: <span style=\"font-weight: bold\">{}</span>, <span style=\"color: #008000; text-decoration-color: #008000\">'dev'</span>: <span style=\"font-weight: bold\">{</span><span style=\"color: #008000; text-decoration-color: #008000\">'password'</span>: <span style=\"color: #008000; text-decoration-color: #008000\">'dev.password'</span><span style=\"font-weight: bold\">}</span>, <span style=\"color: #008000; text-decoration-color: #008000\">'prod'</span>: <span style=\"font-weight: bold\">{</span><span style=\"color: #008000; text-decoration-color: #008000\">'password'</span>: <span style=\"color: #008000; text-decoration-color: #008000\">'prod.password'</span><span style=\"font-weight: bold\">}}</span>,\n",
       "    <span style=\"color: #808000; text-decoration-color: #808000\">Env</span>=<span style=\"font-weight: bold\">&lt;</span><span style=\"color: #ff00ff; text-decoration-color: #ff00ff; font-weight: bold\">class</span><span style=\"color: #000000; text-decoration-color: #000000\"> </span><span style=\"color: #008000; text-decoration-color: #008000\">'__main__.Env'</span><span style=\"color: #000000; text-decoration-color: #000000\">&gt;,</span>\n",
       "<span style=\"color: #000000; text-decoration-color: #000000\">    </span><span style=\"color: #808000; text-decoration-color: #808000\">EnvEnum</span><span style=\"color: #000000; text-decoration-color: #000000\">=&lt;enum </span><span style=\"color: #008000; text-decoration-color: #008000\">'EnvEnum'</span><span style=\"font-weight: bold\">&gt;</span>,\n",
       "    <span style=\"color: #808000; text-decoration-color: #808000\">version</span>=<span style=\"color: #008000; text-decoration-color: #008000\">'cc4c8cf1-0e3f-4f41-9925-090769850fb6'</span>,\n",
       "    <span style=\"color: #808000; text-decoration-color: #808000\">_applied_data</span>=<span style=\"font-weight: bold\">{</span>\n",
       "        <span style=\"color: #008000; text-decoration-color: #008000\">'dev'</span>: <span style=\"font-weight: bold\">{</span><span style=\"color: #008000; text-decoration-color: #008000\">'username'</span>: <span style=\"color: #008000; text-decoration-color: #008000\">'dev.user.v1'</span>, <span style=\"color: #008000; text-decoration-color: #008000\">'project_name'</span>: <span style=\"color: #008000; text-decoration-color: #008000\">'my_project'</span><span style=\"font-weight: bold\">}</span>,\n",
       "        <span style=\"color: #008000; text-decoration-color: #008000\">'prod'</span>: <span style=\"font-weight: bold\">{</span><span style=\"color: #008000; text-decoration-color: #008000\">'username'</span>: <span style=\"color: #008000; text-decoration-color: #008000\">'prod.user.v1'</span>, <span style=\"color: #008000; text-decoration-color: #008000\">'project_name'</span>: <span style=\"color: #008000; text-decoration-color: #008000\">'my_project'</span><span style=\"font-weight: bold\">}</span>\n",
       "    <span style=\"font-weight: bold\">}</span>,\n",
       "    <span style=\"color: #808000; text-decoration-color: #808000\">_applied_secret_data</span>=<span style=\"font-weight: bold\">{</span><span style=\"color: #008000; text-decoration-color: #008000\">'dev'</span>: <span style=\"font-weight: bold\">{</span><span style=\"color: #008000; text-decoration-color: #008000\">'password'</span>: <span style=\"color: #008000; text-decoration-color: #008000\">'dev.password'</span><span style=\"font-weight: bold\">}</span>, <span style=\"color: #008000; text-decoration-color: #008000\">'prod'</span>: <span style=\"font-weight: bold\">{</span><span style=\"color: #008000; text-decoration-color: #008000\">'password'</span>: <span style=\"color: #008000; text-decoration-color: #008000\">'prod.password'</span><span style=\"font-weight: bold\">}}</span>,\n",
       "    <span style=\"color: #808000; text-decoration-color: #808000\">_merged</span>=<span style=\"font-weight: bold\">{</span>\n",
       "        <span style=\"color: #008000; text-decoration-color: #008000\">'dev'</span>: <span style=\"font-weight: bold\">{</span><span style=\"color: #008000; text-decoration-color: #008000\">'username'</span>: <span style=\"color: #008000; text-decoration-color: #008000\">'dev.user.v1'</span>, <span style=\"color: #008000; text-decoration-color: #008000\">'project_name'</span>: <span style=\"color: #008000; text-decoration-color: #008000\">'my_project'</span>, <span style=\"color: #008000; text-decoration-color: #008000\">'password'</span>: <span style=\"color: #008000; text-decoration-color: #008000\">'dev.password'</span><span style=\"font-weight: bold\">}</span>,\n",
       "        <span style=\"color: #008000; text-decoration-color: #008000\">'prod'</span>: <span style=\"font-weight: bold\">{</span><span style=\"color: #008000; text-decoration-color: #008000\">'username'</span>: <span style=\"color: #008000; text-decoration-color: #008000\">'prod.user.v1'</span>, <span style=\"color: #008000; text-decoration-color: #008000\">'project_name'</span>: <span style=\"color: #008000; text-decoration-color: #008000\">'my_project'</span>, <span style=\"color: #008000; text-decoration-color: #008000\">'password'</span>: <span style=\"color: #008000; text-decoration-color: #008000\">'prod.password'</span><span style=\"font-weight: bold\">}</span>\n",
       "    <span style=\"font-weight: bold\">}</span>\n",
       "<span style=\"font-weight: bold\">)</span>\n",
       "</pre>\n"
      ],
      "text/plain": [
       "\u001b[1;35mConfig\u001b[0m\u001b[1m(\u001b[0m\n",
       "    \u001b[33mdata\u001b[0m=\u001b[1m{\u001b[0m\n",
       "        \u001b[32m'_shared'\u001b[0m: \u001b[1m{\u001b[0m\u001b[32m'*.project_name'\u001b[0m: \u001b[32m'my_project'\u001b[0m\u001b[1m}\u001b[0m,\n",
       "        \u001b[32m'dev'\u001b[0m: \u001b[1m{\u001b[0m\u001b[32m'username'\u001b[0m: \u001b[32m'dev.user.v1'\u001b[0m\u001b[1m}\u001b[0m,\n",
       "        \u001b[32m'prod'\u001b[0m: \u001b[1m{\u001b[0m\u001b[32m'username'\u001b[0m: \u001b[32m'prod.user.v1'\u001b[0m\u001b[1m}\u001b[0m\n",
       "    \u001b[1m}\u001b[0m,\n",
       "    \u001b[33msecret_data\u001b[0m=\u001b[1m{\u001b[0m\u001b[32m'_shared'\u001b[0m: \u001b[1m{\u001b[0m\u001b[1m}\u001b[0m, \u001b[32m'dev'\u001b[0m: \u001b[1m{\u001b[0m\u001b[32m'password'\u001b[0m: \u001b[32m'dev.password'\u001b[0m\u001b[1m}\u001b[0m, \u001b[32m'prod'\u001b[0m: \u001b[1m{\u001b[0m\u001b[32m'password'\u001b[0m: \u001b[32m'prod.password'\u001b[0m\u001b[1m}\u001b[0m\u001b[1m}\u001b[0m,\n",
       "    \u001b[33mEnv\u001b[0m=\u001b[1m<\u001b[0m\u001b[1;95mclass\u001b[0m\u001b[39m \u001b[0m\u001b[32m'__main__.Env'\u001b[0m\u001b[39m>,\u001b[0m\n",
       "\u001b[39m    \u001b[0m\u001b[33mEnvEnum\u001b[0m\u001b[39m=<enum \u001b[0m\u001b[32m'EnvEnum'\u001b[0m\u001b[1m>\u001b[0m,\n",
       "    \u001b[33mversion\u001b[0m=\u001b[32m'cc4c8cf1-0e3f-4f41-9925-090769850fb6'\u001b[0m,\n",
       "    \u001b[33m_applied_data\u001b[0m=\u001b[1m{\u001b[0m\n",
       "        \u001b[32m'dev'\u001b[0m: \u001b[1m{\u001b[0m\u001b[32m'username'\u001b[0m: \u001b[32m'dev.user.v1'\u001b[0m, \u001b[32m'project_name'\u001b[0m: \u001b[32m'my_project'\u001b[0m\u001b[1m}\u001b[0m,\n",
       "        \u001b[32m'prod'\u001b[0m: \u001b[1m{\u001b[0m\u001b[32m'username'\u001b[0m: \u001b[32m'prod.user.v1'\u001b[0m, \u001b[32m'project_name'\u001b[0m: \u001b[32m'my_project'\u001b[0m\u001b[1m}\u001b[0m\n",
       "    \u001b[1m}\u001b[0m,\n",
       "    \u001b[33m_applied_secret_data\u001b[0m=\u001b[1m{\u001b[0m\u001b[32m'dev'\u001b[0m: \u001b[1m{\u001b[0m\u001b[32m'password'\u001b[0m: \u001b[32m'dev.password'\u001b[0m\u001b[1m}\u001b[0m, \u001b[32m'prod'\u001b[0m: \u001b[1m{\u001b[0m\u001b[32m'password'\u001b[0m: \u001b[32m'prod.password'\u001b[0m\u001b[1m}\u001b[0m\u001b[1m}\u001b[0m,\n",
       "    \u001b[33m_merged\u001b[0m=\u001b[1m{\u001b[0m\n",
       "        \u001b[32m'dev'\u001b[0m: \u001b[1m{\u001b[0m\u001b[32m'username'\u001b[0m: \u001b[32m'dev.user.v1'\u001b[0m, \u001b[32m'project_name'\u001b[0m: \u001b[32m'my_project'\u001b[0m, \u001b[32m'password'\u001b[0m: \u001b[32m'dev.password'\u001b[0m\u001b[1m}\u001b[0m,\n",
       "        \u001b[32m'prod'\u001b[0m: \u001b[1m{\u001b[0m\u001b[32m'username'\u001b[0m: \u001b[32m'prod.user.v1'\u001b[0m, \u001b[32m'project_name'\u001b[0m: \u001b[32m'my_project'\u001b[0m, \u001b[32m'password'\u001b[0m: \u001b[32m'prod.password'\u001b[0m\u001b[1m}\u001b[0m\n",
       "    \u001b[1m}\u001b[0m\n",
       "\u001b[1m)\u001b[0m\n"
      ]
     },
     "metadata": {},
     "output_type": "display_data"
    }
   ],
   "source": [
    "config = Config.read(\n",
    "    env_class=Env,\n",
    "    env_enum_class=EnvEnum,\n",
    "    bsm=bsm,\n",
    "    parameter_name=\"my_project\",\n",
    "    s3folder_config=s3folder_config,\n",
    ")\n",
    "print(\"all in one config object:\")\n",
    "rprint(config)"
   ]
  },
  {
   "cell_type": "code",
   "execution_count": 27,
   "metadata": {
    "tags": []
   },
   "outputs": [
    {
     "name": "stdout",
     "output_type": "stream",
     "text": [
      "dev config object:\n"
     ]
    },
    {
     "data": {
      "text/html": [
       "<pre style=\"white-space:pre;overflow-x:auto;line-height:normal;font-family:Menlo,'DejaVu Sans Mono',consolas,'Courier New',monospace\"><span style=\"color: #800080; text-decoration-color: #800080; font-weight: bold\">Config</span><span style=\"font-weight: bold\">(</span>\n",
       "    <span style=\"color: #808000; text-decoration-color: #808000\">data</span>=<span style=\"font-weight: bold\">{</span><span style=\"color: #008000; text-decoration-color: #008000\">'_shared'</span>: <span style=\"font-weight: bold\">{</span><span style=\"color: #008000; text-decoration-color: #008000\">'*.project_name'</span>: <span style=\"color: #008000; text-decoration-color: #008000\">'my_project'</span><span style=\"font-weight: bold\">}</span>, <span style=\"color: #008000; text-decoration-color: #008000\">'dev'</span>: <span style=\"font-weight: bold\">{</span><span style=\"color: #008000; text-decoration-color: #008000\">'username'</span>: <span style=\"color: #008000; text-decoration-color: #008000\">'dev.user.v1'</span><span style=\"font-weight: bold\">}}</span>,\n",
       "    <span style=\"color: #808000; text-decoration-color: #808000\">secret_data</span>=<span style=\"font-weight: bold\">{</span><span style=\"color: #008000; text-decoration-color: #008000\">'_shared'</span>: <span style=\"font-weight: bold\">{}</span>, <span style=\"color: #008000; text-decoration-color: #008000\">'dev'</span>: <span style=\"font-weight: bold\">{</span><span style=\"color: #008000; text-decoration-color: #008000\">'password'</span>: <span style=\"color: #008000; text-decoration-color: #008000\">'dev.password'</span><span style=\"font-weight: bold\">}}</span>,\n",
       "    <span style=\"color: #808000; text-decoration-color: #808000\">Env</span>=<span style=\"font-weight: bold\">&lt;</span><span style=\"color: #ff00ff; text-decoration-color: #ff00ff; font-weight: bold\">class</span><span style=\"color: #000000; text-decoration-color: #000000\"> </span><span style=\"color: #008000; text-decoration-color: #008000\">'__main__.Env'</span><span style=\"color: #000000; text-decoration-color: #000000\">&gt;,</span>\n",
       "<span style=\"color: #000000; text-decoration-color: #000000\">    </span><span style=\"color: #808000; text-decoration-color: #808000\">EnvEnum</span><span style=\"color: #000000; text-decoration-color: #000000\">=&lt;enum </span><span style=\"color: #008000; text-decoration-color: #008000\">'EnvEnum'</span><span style=\"font-weight: bold\">&gt;</span>,\n",
       "    <span style=\"color: #808000; text-decoration-color: #808000\">version</span>=<span style=\"color: #008000; text-decoration-color: #008000\">'4ffd0b0a-0d41-4c7a-b2ca-c37edcfcf894'</span>,\n",
       "    <span style=\"color: #808000; text-decoration-color: #808000\">_applied_data</span>=<span style=\"font-weight: bold\">{</span><span style=\"color: #008000; text-decoration-color: #008000\">'dev'</span>: <span style=\"font-weight: bold\">{</span><span style=\"color: #008000; text-decoration-color: #008000\">'username'</span>: <span style=\"color: #008000; text-decoration-color: #008000\">'dev.user.v1'</span>, <span style=\"color: #008000; text-decoration-color: #008000\">'project_name'</span>: <span style=\"color: #008000; text-decoration-color: #008000\">'my_project'</span><span style=\"font-weight: bold\">}}</span>,\n",
       "    <span style=\"color: #808000; text-decoration-color: #808000\">_applied_secret_data</span>=<span style=\"font-weight: bold\">{</span><span style=\"color: #008000; text-decoration-color: #008000\">'dev'</span>: <span style=\"font-weight: bold\">{</span><span style=\"color: #008000; text-decoration-color: #008000\">'password'</span>: <span style=\"color: #008000; text-decoration-color: #008000\">'dev.password'</span><span style=\"font-weight: bold\">}}</span>,\n",
       "    <span style=\"color: #808000; text-decoration-color: #808000\">_merged</span>=<span style=\"font-weight: bold\">{</span><span style=\"color: #008000; text-decoration-color: #008000\">'dev'</span>: <span style=\"font-weight: bold\">{</span><span style=\"color: #008000; text-decoration-color: #008000\">'username'</span>: <span style=\"color: #008000; text-decoration-color: #008000\">'dev.user.v1'</span>, <span style=\"color: #008000; text-decoration-color: #008000\">'project_name'</span>: <span style=\"color: #008000; text-decoration-color: #008000\">'my_project'</span>, <span style=\"color: #008000; text-decoration-color: #008000\">'password'</span>: <span style=\"color: #008000; text-decoration-color: #008000\">'dev.password'</span><span style=\"font-weight: bold\">}}</span>\n",
       "<span style=\"font-weight: bold\">)</span>\n",
       "</pre>\n"
      ],
      "text/plain": [
       "\u001b[1;35mConfig\u001b[0m\u001b[1m(\u001b[0m\n",
       "    \u001b[33mdata\u001b[0m=\u001b[1m{\u001b[0m\u001b[32m'_shared'\u001b[0m: \u001b[1m{\u001b[0m\u001b[32m'*.project_name'\u001b[0m: \u001b[32m'my_project'\u001b[0m\u001b[1m}\u001b[0m, \u001b[32m'dev'\u001b[0m: \u001b[1m{\u001b[0m\u001b[32m'username'\u001b[0m: \u001b[32m'dev.user.v1'\u001b[0m\u001b[1m}\u001b[0m\u001b[1m}\u001b[0m,\n",
       "    \u001b[33msecret_data\u001b[0m=\u001b[1m{\u001b[0m\u001b[32m'_shared'\u001b[0m: \u001b[1m{\u001b[0m\u001b[1m}\u001b[0m, \u001b[32m'dev'\u001b[0m: \u001b[1m{\u001b[0m\u001b[32m'password'\u001b[0m: \u001b[32m'dev.password'\u001b[0m\u001b[1m}\u001b[0m\u001b[1m}\u001b[0m,\n",
       "    \u001b[33mEnv\u001b[0m=\u001b[1m<\u001b[0m\u001b[1;95mclass\u001b[0m\u001b[39m \u001b[0m\u001b[32m'__main__.Env'\u001b[0m\u001b[39m>,\u001b[0m\n",
       "\u001b[39m    \u001b[0m\u001b[33mEnvEnum\u001b[0m\u001b[39m=<enum \u001b[0m\u001b[32m'EnvEnum'\u001b[0m\u001b[1m>\u001b[0m,\n",
       "    \u001b[33mversion\u001b[0m=\u001b[32m'4ffd0b0a-0d41-4c7a-b2ca-c37edcfcf894'\u001b[0m,\n",
       "    \u001b[33m_applied_data\u001b[0m=\u001b[1m{\u001b[0m\u001b[32m'dev'\u001b[0m: \u001b[1m{\u001b[0m\u001b[32m'username'\u001b[0m: \u001b[32m'dev.user.v1'\u001b[0m, \u001b[32m'project_name'\u001b[0m: \u001b[32m'my_project'\u001b[0m\u001b[1m}\u001b[0m\u001b[1m}\u001b[0m,\n",
       "    \u001b[33m_applied_secret_data\u001b[0m=\u001b[1m{\u001b[0m\u001b[32m'dev'\u001b[0m: \u001b[1m{\u001b[0m\u001b[32m'password'\u001b[0m: \u001b[32m'dev.password'\u001b[0m\u001b[1m}\u001b[0m\u001b[1m}\u001b[0m,\n",
       "    \u001b[33m_merged\u001b[0m=\u001b[1m{\u001b[0m\u001b[32m'dev'\u001b[0m: \u001b[1m{\u001b[0m\u001b[32m'username'\u001b[0m: \u001b[32m'dev.user.v1'\u001b[0m, \u001b[32m'project_name'\u001b[0m: \u001b[32m'my_project'\u001b[0m, \u001b[32m'password'\u001b[0m: \u001b[32m'dev.password'\u001b[0m\u001b[1m}\u001b[0m\u001b[1m}\u001b[0m\n",
       "\u001b[1m)\u001b[0m\n"
      ]
     },
     "metadata": {},
     "output_type": "display_data"
    }
   ],
   "source": [
    "config = Config.read(\n",
    "    env_class=Env,\n",
    "    env_enum_class=EnvEnum,\n",
    "    bsm=bsm,\n",
    "    parameter_name=\"my_project-dev\",\n",
    "    s3folder_config=s3folder_config,\n",
    ")\n",
    "print(\"dev config object:\")\n",
    "rprint(config)"
   ]
  },
  {
   "cell_type": "markdown",
   "metadata": {},
   "source": [
    "### Deploy a New Version of Config\n",
    "\n",
    "When you deploy a new version of the config, it just creates a new version of the S3 object."
   ]
  },
  {
   "cell_type": "code",
   "execution_count": 30,
   "metadata": {
    "tags": []
   },
   "outputs": [
    {
     "data": {
      "text/html": [
       "<pre style=\"white-space:pre;overflow-x:auto;line-height:normal;font-family:Menlo,'DejaVu Sans Mono',consolas,'Courier New',monospace\"><span style=\"color: #800080; text-decoration-color: #800080; font-weight: bold\">Config</span><span style=\"font-weight: bold\">(</span>\n",
       "    <span style=\"color: #808000; text-decoration-color: #808000\">data</span>=<span style=\"font-weight: bold\">{</span>\n",
       "        <span style=\"color: #008000; text-decoration-color: #008000\">'_shared'</span>: <span style=\"font-weight: bold\">{</span><span style=\"color: #008000; text-decoration-color: #008000\">'*.project_name'</span>: <span style=\"color: #008000; text-decoration-color: #008000\">'my_project'</span><span style=\"font-weight: bold\">}</span>,\n",
       "        <span style=\"color: #008000; text-decoration-color: #008000\">'dev'</span>: <span style=\"font-weight: bold\">{</span><span style=\"color: #008000; text-decoration-color: #008000\">'username'</span>: <span style=\"color: #008000; text-decoration-color: #008000\">'dev.user.v2'</span><span style=\"font-weight: bold\">}</span>,\n",
       "        <span style=\"color: #008000; text-decoration-color: #008000\">'prod'</span>: <span style=\"font-weight: bold\">{</span><span style=\"color: #008000; text-decoration-color: #008000\">'username'</span>: <span style=\"color: #008000; text-decoration-color: #008000\">'prod.user.v2'</span><span style=\"font-weight: bold\">}</span>\n",
       "    <span style=\"font-weight: bold\">}</span>,\n",
       "    <span style=\"color: #808000; text-decoration-color: #808000\">secret_data</span>=<span style=\"font-weight: bold\">{</span><span style=\"color: #008000; text-decoration-color: #008000\">'_shared'</span>: <span style=\"font-weight: bold\">{}</span>, <span style=\"color: #008000; text-decoration-color: #008000\">'dev'</span>: <span style=\"font-weight: bold\">{</span><span style=\"color: #008000; text-decoration-color: #008000\">'password'</span>: <span style=\"color: #008000; text-decoration-color: #008000\">'dev.password'</span><span style=\"font-weight: bold\">}</span>, <span style=\"color: #008000; text-decoration-color: #008000\">'prod'</span>: <span style=\"font-weight: bold\">{</span><span style=\"color: #008000; text-decoration-color: #008000\">'password'</span>: <span style=\"color: #008000; text-decoration-color: #008000\">'prod.password'</span><span style=\"font-weight: bold\">}}</span>,\n",
       "    <span style=\"color: #808000; text-decoration-color: #808000\">Env</span>=<span style=\"font-weight: bold\">&lt;</span><span style=\"color: #ff00ff; text-decoration-color: #ff00ff; font-weight: bold\">class</span><span style=\"color: #000000; text-decoration-color: #000000\"> </span><span style=\"color: #008000; text-decoration-color: #008000\">'__main__.Env'</span><span style=\"color: #000000; text-decoration-color: #000000\">&gt;,</span>\n",
       "<span style=\"color: #000000; text-decoration-color: #000000\">    </span><span style=\"color: #808000; text-decoration-color: #808000\">EnvEnum</span><span style=\"color: #000000; text-decoration-color: #000000\">=&lt;enum </span><span style=\"color: #008000; text-decoration-color: #008000\">'EnvEnum'</span><span style=\"font-weight: bold\">&gt;</span>,\n",
       "    <span style=\"color: #808000; text-decoration-color: #808000\">version</span>=<span style=\"color: #008000; text-decoration-color: #008000\">'local'</span>,\n",
       "    <span style=\"color: #808000; text-decoration-color: #808000\">_applied_data</span>=<span style=\"font-weight: bold\">{</span>\n",
       "        <span style=\"color: #008000; text-decoration-color: #008000\">'dev'</span>: <span style=\"font-weight: bold\">{</span><span style=\"color: #008000; text-decoration-color: #008000\">'username'</span>: <span style=\"color: #008000; text-decoration-color: #008000\">'dev.user.v2'</span>, <span style=\"color: #008000; text-decoration-color: #008000\">'project_name'</span>: <span style=\"color: #008000; text-decoration-color: #008000\">'my_project'</span><span style=\"font-weight: bold\">}</span>,\n",
       "        <span style=\"color: #008000; text-decoration-color: #008000\">'prod'</span>: <span style=\"font-weight: bold\">{</span><span style=\"color: #008000; text-decoration-color: #008000\">'username'</span>: <span style=\"color: #008000; text-decoration-color: #008000\">'prod.user.v2'</span>, <span style=\"color: #008000; text-decoration-color: #008000\">'project_name'</span>: <span style=\"color: #008000; text-decoration-color: #008000\">'my_project'</span><span style=\"font-weight: bold\">}</span>\n",
       "    <span style=\"font-weight: bold\">}</span>,\n",
       "    <span style=\"color: #808000; text-decoration-color: #808000\">_applied_secret_data</span>=<span style=\"font-weight: bold\">{</span><span style=\"color: #008000; text-decoration-color: #008000\">'dev'</span>: <span style=\"font-weight: bold\">{</span><span style=\"color: #008000; text-decoration-color: #008000\">'password'</span>: <span style=\"color: #008000; text-decoration-color: #008000\">'dev.password'</span><span style=\"font-weight: bold\">}</span>, <span style=\"color: #008000; text-decoration-color: #008000\">'prod'</span>: <span style=\"font-weight: bold\">{</span><span style=\"color: #008000; text-decoration-color: #008000\">'password'</span>: <span style=\"color: #008000; text-decoration-color: #008000\">'prod.password'</span><span style=\"font-weight: bold\">}}</span>,\n",
       "    <span style=\"color: #808000; text-decoration-color: #808000\">_merged</span>=<span style=\"font-weight: bold\">{</span>\n",
       "        <span style=\"color: #008000; text-decoration-color: #008000\">'dev'</span>: <span style=\"font-weight: bold\">{</span><span style=\"color: #008000; text-decoration-color: #008000\">'username'</span>: <span style=\"color: #008000; text-decoration-color: #008000\">'dev.user.v2'</span>, <span style=\"color: #008000; text-decoration-color: #008000\">'project_name'</span>: <span style=\"color: #008000; text-decoration-color: #008000\">'my_project'</span>, <span style=\"color: #008000; text-decoration-color: #008000\">'password'</span>: <span style=\"color: #008000; text-decoration-color: #008000\">'dev.password'</span><span style=\"font-weight: bold\">}</span>,\n",
       "        <span style=\"color: #008000; text-decoration-color: #008000\">'prod'</span>: <span style=\"font-weight: bold\">{</span><span style=\"color: #008000; text-decoration-color: #008000\">'username'</span>: <span style=\"color: #008000; text-decoration-color: #008000\">'prod.user.v2'</span>, <span style=\"color: #008000; text-decoration-color: #008000\">'project_name'</span>: <span style=\"color: #008000; text-decoration-color: #008000\">'my_project'</span>, <span style=\"color: #008000; text-decoration-color: #008000\">'password'</span>: <span style=\"color: #008000; text-decoration-color: #008000\">'prod.password'</span><span style=\"font-weight: bold\">}</span>\n",
       "    <span style=\"font-weight: bold\">}</span>\n",
       "<span style=\"font-weight: bold\">)</span>\n",
       "</pre>\n"
      ],
      "text/plain": [
       "\u001b[1;35mConfig\u001b[0m\u001b[1m(\u001b[0m\n",
       "    \u001b[33mdata\u001b[0m=\u001b[1m{\u001b[0m\n",
       "        \u001b[32m'_shared'\u001b[0m: \u001b[1m{\u001b[0m\u001b[32m'*.project_name'\u001b[0m: \u001b[32m'my_project'\u001b[0m\u001b[1m}\u001b[0m,\n",
       "        \u001b[32m'dev'\u001b[0m: \u001b[1m{\u001b[0m\u001b[32m'username'\u001b[0m: \u001b[32m'dev.user.v2'\u001b[0m\u001b[1m}\u001b[0m,\n",
       "        \u001b[32m'prod'\u001b[0m: \u001b[1m{\u001b[0m\u001b[32m'username'\u001b[0m: \u001b[32m'prod.user.v2'\u001b[0m\u001b[1m}\u001b[0m\n",
       "    \u001b[1m}\u001b[0m,\n",
       "    \u001b[33msecret_data\u001b[0m=\u001b[1m{\u001b[0m\u001b[32m'_shared'\u001b[0m: \u001b[1m{\u001b[0m\u001b[1m}\u001b[0m, \u001b[32m'dev'\u001b[0m: \u001b[1m{\u001b[0m\u001b[32m'password'\u001b[0m: \u001b[32m'dev.password'\u001b[0m\u001b[1m}\u001b[0m, \u001b[32m'prod'\u001b[0m: \u001b[1m{\u001b[0m\u001b[32m'password'\u001b[0m: \u001b[32m'prod.password'\u001b[0m\u001b[1m}\u001b[0m\u001b[1m}\u001b[0m,\n",
       "    \u001b[33mEnv\u001b[0m=\u001b[1m<\u001b[0m\u001b[1;95mclass\u001b[0m\u001b[39m \u001b[0m\u001b[32m'__main__.Env'\u001b[0m\u001b[39m>,\u001b[0m\n",
       "\u001b[39m    \u001b[0m\u001b[33mEnvEnum\u001b[0m\u001b[39m=<enum \u001b[0m\u001b[32m'EnvEnum'\u001b[0m\u001b[1m>\u001b[0m,\n",
       "    \u001b[33mversion\u001b[0m=\u001b[32m'local'\u001b[0m,\n",
       "    \u001b[33m_applied_data\u001b[0m=\u001b[1m{\u001b[0m\n",
       "        \u001b[32m'dev'\u001b[0m: \u001b[1m{\u001b[0m\u001b[32m'username'\u001b[0m: \u001b[32m'dev.user.v2'\u001b[0m, \u001b[32m'project_name'\u001b[0m: \u001b[32m'my_project'\u001b[0m\u001b[1m}\u001b[0m,\n",
       "        \u001b[32m'prod'\u001b[0m: \u001b[1m{\u001b[0m\u001b[32m'username'\u001b[0m: \u001b[32m'prod.user.v2'\u001b[0m, \u001b[32m'project_name'\u001b[0m: \u001b[32m'my_project'\u001b[0m\u001b[1m}\u001b[0m\n",
       "    \u001b[1m}\u001b[0m,\n",
       "    \u001b[33m_applied_secret_data\u001b[0m=\u001b[1m{\u001b[0m\u001b[32m'dev'\u001b[0m: \u001b[1m{\u001b[0m\u001b[32m'password'\u001b[0m: \u001b[32m'dev.password'\u001b[0m\u001b[1m}\u001b[0m, \u001b[32m'prod'\u001b[0m: \u001b[1m{\u001b[0m\u001b[32m'password'\u001b[0m: \u001b[32m'prod.password'\u001b[0m\u001b[1m}\u001b[0m\u001b[1m}\u001b[0m,\n",
       "    \u001b[33m_merged\u001b[0m=\u001b[1m{\u001b[0m\n",
       "        \u001b[32m'dev'\u001b[0m: \u001b[1m{\u001b[0m\u001b[32m'username'\u001b[0m: \u001b[32m'dev.user.v2'\u001b[0m, \u001b[32m'project_name'\u001b[0m: \u001b[32m'my_project'\u001b[0m, \u001b[32m'password'\u001b[0m: \u001b[32m'dev.password'\u001b[0m\u001b[1m}\u001b[0m,\n",
       "        \u001b[32m'prod'\u001b[0m: \u001b[1m{\u001b[0m\u001b[32m'username'\u001b[0m: \u001b[32m'prod.user.v2'\u001b[0m, \u001b[32m'project_name'\u001b[0m: \u001b[32m'my_project'\u001b[0m, \u001b[32m'password'\u001b[0m: \u001b[32m'prod.password'\u001b[0m\u001b[1m}\u001b[0m\n",
       "    \u001b[1m}\u001b[0m\n",
       "\u001b[1m)\u001b[0m\n"
      ]
     },
     "metadata": {},
     "output_type": "display_data"
    }
   ],
   "source": [
    "config_v2 = Config.read(\n",
    "    env_class=Env,\n",
    "    env_enum_class=EnvEnum,\n",
    "    path_config=path_config_v2,\n",
    "    path_secret_config=path_config_secret_v2,\n",
    ")\n",
    "rprint(config_v2)"
   ]
  },
  {
   "cell_type": "code",
   "execution_count": 31,
   "metadata": {
    "tags": []
   },
   "outputs": [
    {
     "name": "stdout",
     "output_type": "stream",
     "text": [
      "+----- ⏱ 🟢 Start 'deploy config file to S3' -----------------------------------+\n",
      "| \n",
      "| 🚀️ deploy config file/files at s3://my-bucket-versioned/my-project/my_project.json ...\n",
      "| preview at: https://console.aws.amazon.com/s3/object/my-bucket-versioned?prefix=my-project/my_project.json\n",
      "| config data is the same as existing one, do nothing.\n",
      "| \n",
      "+----- ⏰ 🟢 End 'deploy config file to S3', elapsed = 0.02 sec -----------------+\n",
      "+----- ⏱ 🟢 Start 'deploy config file to S3' -----------------------------------+\n",
      "| \n",
      "| 🚀️ deploy config file/files at s3://my-bucket-versioned/my-project/my_project-dev.json ...\n",
      "| preview at: https://console.aws.amazon.com/s3/object/my-bucket-versioned?prefix=my-project/my_project-dev.json\n",
      "| config data is the same as existing one, do nothing.\n",
      "| \n",
      "+----- ⏰ 🟢 End 'deploy config file to S3', elapsed = 0.01 sec -----------------+\n",
      "+----- ⏱ 🟢 Start 'deploy config file to S3' -----------------------------------+\n",
      "| \n",
      "| 🚀️ deploy config file/files at s3://my-bucket-versioned/my-project/my_project-prod.json ...\n",
      "| preview at: https://console.aws.amazon.com/s3/object/my-bucket-versioned?prefix=my-project/my_project-prod.json\n",
      "| config data is the same as existing one, do nothing.\n",
      "| \n",
      "+----- ⏰ 🟢 End 'deploy config file to S3', elapsed = 0.00 sec -----------------+\n"
     ]
    }
   ],
   "source": [
    "deployment_list = config_v2.deploy(\n",
    "    bsm=bsm, \n",
    "    s3folder_config=s3folder_config,\n",
    "    # these two arguments are optional\n",
    "    tags={\"project_name\": config_v2.project_name},\n",
    "    verbose=True,\n",
    ")"
   ]
  },
  {
   "cell_type": "markdown",
   "metadata": {},
   "source": [
    "You can see that each S3 object has two versions."
   ]
  },
  {
   "cell_type": "code",
   "execution_count": 29,
   "metadata": {
    "tags": []
   },
   "outputs": [
    {
     "name": "stdout",
     "output_type": "stream",
     "text": [
      "S3Path('s3://my-bucket-versioned/my-project/my_project-dev.json') 3dc70b16-9ccd-4d6b-9f6a-cf453d4d9c16\n",
      "S3Path('s3://my-bucket-versioned/my-project/my_project-dev.json') b4a03b2d-d98b-4e39-a969-11b4add7384a\n",
      "S3Path('s3://my-bucket-versioned/my-project/my_project-prod.json') 61574fd0-86c4-4fc1-bb79-36f5dc39c5c8\n",
      "S3Path('s3://my-bucket-versioned/my-project/my_project-prod.json') 8051dec8-4907-4a89-b9d3-bcda3898168a\n",
      "S3Path('s3://my-bucket-versioned/my-project/my_project.json') 59e3973f-c139-4f09-ab08-0b5ad045ffdf\n",
      "S3Path('s3://my-bucket-versioned/my-project/my_project.json') d5f638d5-399b-4a90-ac9d-4dcb9dcf8635\n"
     ]
    }
   ],
   "source": [
    "for s3path in S3Path(s3folder_config).iter_objects(bsm=bsm):\n",
    "    for s3path_version in s3path.list_object_versions(bsm=bsm):\n",
    "        print(s3path_version, s3path_version.version_id)"
   ]
  },
  {
   "cell_type": "markdown",
   "metadata": {},
   "source": [
    "You can read the config from S3 again, now it is the v2. And the config version matches the first version of ``s3://my-bucket-versioned/my-project/my_project.json``."
   ]
  },
  {
   "cell_type": "code",
   "execution_count": 30,
   "metadata": {
    "tags": []
   },
   "outputs": [
    {
     "name": "stdout",
     "output_type": "stream",
     "text": [
      "all in one config object:\n"
     ]
    },
    {
     "data": {
      "text/html": [
       "<pre style=\"white-space:pre;overflow-x:auto;line-height:normal;font-family:Menlo,'DejaVu Sans Mono',consolas,'Courier New',monospace\"><span style=\"color: #800080; text-decoration-color: #800080; font-weight: bold\">Config</span><span style=\"font-weight: bold\">(</span>\n",
       "    <span style=\"color: #808000; text-decoration-color: #808000\">data</span>=<span style=\"font-weight: bold\">{</span>\n",
       "        <span style=\"color: #008000; text-decoration-color: #008000\">'_shared'</span>: <span style=\"font-weight: bold\">{</span><span style=\"color: #008000; text-decoration-color: #008000\">'*.project_name'</span>: <span style=\"color: #008000; text-decoration-color: #008000\">'my_project'</span><span style=\"font-weight: bold\">}</span>,\n",
       "        <span style=\"color: #008000; text-decoration-color: #008000\">'dev'</span>: <span style=\"font-weight: bold\">{</span><span style=\"color: #008000; text-decoration-color: #008000\">'username'</span>: <span style=\"color: #008000; text-decoration-color: #008000\">'dev.user.v2'</span><span style=\"font-weight: bold\">}</span>,\n",
       "        <span style=\"color: #008000; text-decoration-color: #008000\">'prod'</span>: <span style=\"font-weight: bold\">{</span><span style=\"color: #008000; text-decoration-color: #008000\">'username'</span>: <span style=\"color: #008000; text-decoration-color: #008000\">'prod.user.v2'</span><span style=\"font-weight: bold\">}</span>\n",
       "    <span style=\"font-weight: bold\">}</span>,\n",
       "    <span style=\"color: #808000; text-decoration-color: #808000\">secret_data</span>=<span style=\"font-weight: bold\">{</span><span style=\"color: #008000; text-decoration-color: #008000\">'_shared'</span>: <span style=\"font-weight: bold\">{}</span>, <span style=\"color: #008000; text-decoration-color: #008000\">'dev'</span>: <span style=\"font-weight: bold\">{</span><span style=\"color: #008000; text-decoration-color: #008000\">'password'</span>: <span style=\"color: #008000; text-decoration-color: #008000\">'dev.password'</span><span style=\"font-weight: bold\">}</span>, <span style=\"color: #008000; text-decoration-color: #008000\">'prod'</span>: <span style=\"font-weight: bold\">{</span><span style=\"color: #008000; text-decoration-color: #008000\">'password'</span>: <span style=\"color: #008000; text-decoration-color: #008000\">'prod.password'</span><span style=\"font-weight: bold\">}}</span>,\n",
       "    <span style=\"color: #808000; text-decoration-color: #808000\">Env</span>=<span style=\"font-weight: bold\">&lt;</span><span style=\"color: #ff00ff; text-decoration-color: #ff00ff; font-weight: bold\">class</span><span style=\"color: #000000; text-decoration-color: #000000\"> </span><span style=\"color: #008000; text-decoration-color: #008000\">'__main__.Env'</span><span style=\"color: #000000; text-decoration-color: #000000\">&gt;,</span>\n",
       "<span style=\"color: #000000; text-decoration-color: #000000\">    </span><span style=\"color: #808000; text-decoration-color: #808000\">EnvEnum</span><span style=\"color: #000000; text-decoration-color: #000000\">=&lt;enum </span><span style=\"color: #008000; text-decoration-color: #008000\">'EnvEnum'</span><span style=\"font-weight: bold\">&gt;</span>,\n",
       "    <span style=\"color: #808000; text-decoration-color: #808000\">version</span>=<span style=\"color: #008000; text-decoration-color: #008000\">'59e3973f-c139-4f09-ab08-0b5ad045ffdf'</span>,\n",
       "    <span style=\"color: #808000; text-decoration-color: #808000\">_applied_data</span>=<span style=\"font-weight: bold\">{</span>\n",
       "        <span style=\"color: #008000; text-decoration-color: #008000\">'dev'</span>: <span style=\"font-weight: bold\">{</span><span style=\"color: #008000; text-decoration-color: #008000\">'username'</span>: <span style=\"color: #008000; text-decoration-color: #008000\">'dev.user.v2'</span>, <span style=\"color: #008000; text-decoration-color: #008000\">'project_name'</span>: <span style=\"color: #008000; text-decoration-color: #008000\">'my_project'</span><span style=\"font-weight: bold\">}</span>,\n",
       "        <span style=\"color: #008000; text-decoration-color: #008000\">'prod'</span>: <span style=\"font-weight: bold\">{</span><span style=\"color: #008000; text-decoration-color: #008000\">'username'</span>: <span style=\"color: #008000; text-decoration-color: #008000\">'prod.user.v2'</span>, <span style=\"color: #008000; text-decoration-color: #008000\">'project_name'</span>: <span style=\"color: #008000; text-decoration-color: #008000\">'my_project'</span><span style=\"font-weight: bold\">}</span>\n",
       "    <span style=\"font-weight: bold\">}</span>,\n",
       "    <span style=\"color: #808000; text-decoration-color: #808000\">_applied_secret_data</span>=<span style=\"font-weight: bold\">{</span><span style=\"color: #008000; text-decoration-color: #008000\">'dev'</span>: <span style=\"font-weight: bold\">{</span><span style=\"color: #008000; text-decoration-color: #008000\">'password'</span>: <span style=\"color: #008000; text-decoration-color: #008000\">'dev.password'</span><span style=\"font-weight: bold\">}</span>, <span style=\"color: #008000; text-decoration-color: #008000\">'prod'</span>: <span style=\"font-weight: bold\">{</span><span style=\"color: #008000; text-decoration-color: #008000\">'password'</span>: <span style=\"color: #008000; text-decoration-color: #008000\">'prod.password'</span><span style=\"font-weight: bold\">}}</span>,\n",
       "    <span style=\"color: #808000; text-decoration-color: #808000\">_merged</span>=<span style=\"font-weight: bold\">{</span>\n",
       "        <span style=\"color: #008000; text-decoration-color: #008000\">'dev'</span>: <span style=\"font-weight: bold\">{</span><span style=\"color: #008000; text-decoration-color: #008000\">'username'</span>: <span style=\"color: #008000; text-decoration-color: #008000\">'dev.user.v2'</span>, <span style=\"color: #008000; text-decoration-color: #008000\">'project_name'</span>: <span style=\"color: #008000; text-decoration-color: #008000\">'my_project'</span>, <span style=\"color: #008000; text-decoration-color: #008000\">'password'</span>: <span style=\"color: #008000; text-decoration-color: #008000\">'dev.password'</span><span style=\"font-weight: bold\">}</span>,\n",
       "        <span style=\"color: #008000; text-decoration-color: #008000\">'prod'</span>: <span style=\"font-weight: bold\">{</span><span style=\"color: #008000; text-decoration-color: #008000\">'username'</span>: <span style=\"color: #008000; text-decoration-color: #008000\">'prod.user.v2'</span>, <span style=\"color: #008000; text-decoration-color: #008000\">'project_name'</span>: <span style=\"color: #008000; text-decoration-color: #008000\">'my_project'</span>, <span style=\"color: #008000; text-decoration-color: #008000\">'password'</span>: <span style=\"color: #008000; text-decoration-color: #008000\">'prod.password'</span><span style=\"font-weight: bold\">}</span>\n",
       "    <span style=\"font-weight: bold\">}</span>\n",
       "<span style=\"font-weight: bold\">)</span>\n",
       "</pre>\n"
      ],
      "text/plain": [
       "\u001b[1;35mConfig\u001b[0m\u001b[1m(\u001b[0m\n",
       "    \u001b[33mdata\u001b[0m=\u001b[1m{\u001b[0m\n",
       "        \u001b[32m'_shared'\u001b[0m: \u001b[1m{\u001b[0m\u001b[32m'*.project_name'\u001b[0m: \u001b[32m'my_project'\u001b[0m\u001b[1m}\u001b[0m,\n",
       "        \u001b[32m'dev'\u001b[0m: \u001b[1m{\u001b[0m\u001b[32m'username'\u001b[0m: \u001b[32m'dev.user.v2'\u001b[0m\u001b[1m}\u001b[0m,\n",
       "        \u001b[32m'prod'\u001b[0m: \u001b[1m{\u001b[0m\u001b[32m'username'\u001b[0m: \u001b[32m'prod.user.v2'\u001b[0m\u001b[1m}\u001b[0m\n",
       "    \u001b[1m}\u001b[0m,\n",
       "    \u001b[33msecret_data\u001b[0m=\u001b[1m{\u001b[0m\u001b[32m'_shared'\u001b[0m: \u001b[1m{\u001b[0m\u001b[1m}\u001b[0m, \u001b[32m'dev'\u001b[0m: \u001b[1m{\u001b[0m\u001b[32m'password'\u001b[0m: \u001b[32m'dev.password'\u001b[0m\u001b[1m}\u001b[0m, \u001b[32m'prod'\u001b[0m: \u001b[1m{\u001b[0m\u001b[32m'password'\u001b[0m: \u001b[32m'prod.password'\u001b[0m\u001b[1m}\u001b[0m\u001b[1m}\u001b[0m,\n",
       "    \u001b[33mEnv\u001b[0m=\u001b[1m<\u001b[0m\u001b[1;95mclass\u001b[0m\u001b[39m \u001b[0m\u001b[32m'__main__.Env'\u001b[0m\u001b[39m>,\u001b[0m\n",
       "\u001b[39m    \u001b[0m\u001b[33mEnvEnum\u001b[0m\u001b[39m=<enum \u001b[0m\u001b[32m'EnvEnum'\u001b[0m\u001b[1m>\u001b[0m,\n",
       "    \u001b[33mversion\u001b[0m=\u001b[32m'59e3973f-c139-4f09-ab08-0b5ad045ffdf'\u001b[0m,\n",
       "    \u001b[33m_applied_data\u001b[0m=\u001b[1m{\u001b[0m\n",
       "        \u001b[32m'dev'\u001b[0m: \u001b[1m{\u001b[0m\u001b[32m'username'\u001b[0m: \u001b[32m'dev.user.v2'\u001b[0m, \u001b[32m'project_name'\u001b[0m: \u001b[32m'my_project'\u001b[0m\u001b[1m}\u001b[0m,\n",
       "        \u001b[32m'prod'\u001b[0m: \u001b[1m{\u001b[0m\u001b[32m'username'\u001b[0m: \u001b[32m'prod.user.v2'\u001b[0m, \u001b[32m'project_name'\u001b[0m: \u001b[32m'my_project'\u001b[0m\u001b[1m}\u001b[0m\n",
       "    \u001b[1m}\u001b[0m,\n",
       "    \u001b[33m_applied_secret_data\u001b[0m=\u001b[1m{\u001b[0m\u001b[32m'dev'\u001b[0m: \u001b[1m{\u001b[0m\u001b[32m'password'\u001b[0m: \u001b[32m'dev.password'\u001b[0m\u001b[1m}\u001b[0m, \u001b[32m'prod'\u001b[0m: \u001b[1m{\u001b[0m\u001b[32m'password'\u001b[0m: \u001b[32m'prod.password'\u001b[0m\u001b[1m}\u001b[0m\u001b[1m}\u001b[0m,\n",
       "    \u001b[33m_merged\u001b[0m=\u001b[1m{\u001b[0m\n",
       "        \u001b[32m'dev'\u001b[0m: \u001b[1m{\u001b[0m\u001b[32m'username'\u001b[0m: \u001b[32m'dev.user.v2'\u001b[0m, \u001b[32m'project_name'\u001b[0m: \u001b[32m'my_project'\u001b[0m, \u001b[32m'password'\u001b[0m: \u001b[32m'dev.password'\u001b[0m\u001b[1m}\u001b[0m,\n",
       "        \u001b[32m'prod'\u001b[0m: \u001b[1m{\u001b[0m\u001b[32m'username'\u001b[0m: \u001b[32m'prod.user.v2'\u001b[0m, \u001b[32m'project_name'\u001b[0m: \u001b[32m'my_project'\u001b[0m, \u001b[32m'password'\u001b[0m: \u001b[32m'prod.password'\u001b[0m\u001b[1m}\u001b[0m\n",
       "    \u001b[1m}\u001b[0m\n",
       "\u001b[1m)\u001b[0m\n"
      ]
     },
     "metadata": {},
     "output_type": "display_data"
    }
   ],
   "source": [
    "config = Config.read(\n",
    "    env_class=Env,\n",
    "    env_enum_class=EnvEnum,\n",
    "    bsm=bsm,\n",
    "    parameter_name=\"my_project\",\n",
    "    s3folder_config=s3folder_config,\n",
    ")\n",
    "print(\"all in one config object:\")\n",
    "rprint(config)"
   ]
  },
  {
   "cell_type": "markdown",
   "metadata": {},
   "source": [
    "### Delete and Clean Up\n",
    "\n",
    "Normally, it is not necessary to delete any config deployments (S3 objects) as they have low cost and are critical to your application. If you accidentally deploy malformed config data, there is no need to delete it. Instead, you can simply create a new deployment with the corrected configuration.\n",
    "\n",
    "To clean up all config objects in all environments, including the historical versions, you can retrieve the all-in-one object and then use the ``config.delete()`` method. By default, when you delete the object, only the latest version of S3 object is marked as deleted, making the config deployment \"invisible (unaccessible)\" to your application. However, the backup of all historical versions is retained. If you explicitly set ``include_history=True``, then all historical versions will be deleted as well. This design is implemented to prevent accidental deletion of all configurations. You can always recover the deleted version by removing the delete marker."
   ]
  },
  {
   "cell_type": "code",
   "execution_count": 31,
   "metadata": {
    "tags": []
   },
   "outputs": [
    {
     "name": "stdout",
     "output_type": "stream",
     "text": [
      "+----- ⏱ 🟢 Start 'delete config file from S3' ---------------------------------+\n",
      "| \n",
      "| 🗑️ delete config file/files at: s3://my-bucket-versioned/my-project/my_project.json ...\n",
      "| preview at: https://console.aws.amazon.com/s3/object/my-bucket-versioned?prefix=my-project/my_project.json\n",
      "| done!\n",
      "| \n",
      "+----- ⏰ 🟢 End 'delete config file from S3', elapsed = 0.01 sec ---------------+\n",
      "+----- ⏱ 🟢 Start 'delete config file from S3' ---------------------------------+\n",
      "| \n",
      "| 🗑️ delete config file/files at: s3://my-bucket-versioned/my-project/my_project-dev.json ...\n",
      "| preview at: https://console.aws.amazon.com/s3/object/my-bucket-versioned?prefix=my-project/my_project-dev.json\n",
      "| done!\n",
      "| \n",
      "+----- ⏰ 🟢 End 'delete config file from S3', elapsed = 0.00 sec ---------------+\n",
      "+----- ⏱ 🟢 Start 'delete config file from S3' ---------------------------------+\n",
      "| \n",
      "| 🗑️ delete config file/files at: s3://my-bucket-versioned/my-project/my_project-prod.json ...\n",
      "| preview at: https://console.aws.amazon.com/s3/object/my-bucket-versioned?prefix=my-project/my_project-prod.json\n",
      "| done!\n",
      "| \n",
      "+----- ⏰ 🟢 End 'delete config file from S3', elapsed = 0.00 sec ---------------+\n"
     ]
    }
   ],
   "source": [
    "deployment_list = config_v2.delete(\n",
    "    bsm=bsm, \n",
    "    s3folder_config=s3folder_config,\n",
    ")"
   ]
  },
  {
   "cell_type": "code",
   "execution_count": 32,
   "metadata": {
    "tags": []
   },
   "outputs": [
    {
     "name": "stdout",
     "output_type": "stream",
     "text": [
      "+----- ⏱ 🟢 Start 'delete config file from S3' ---------------------------------+\n",
      "| \n",
      "| 🗑️ delete config file/files at: s3://my-bucket-versioned/my-project/my_project.json ...\n",
      "| preview at: https://console.aws.amazon.com/s3/object/my-bucket-versioned?prefix=my-project/my_project.json\n",
      "| done!\n",
      "| \n",
      "+----- ⏰ 🟢 End 'delete config file from S3', elapsed = 0.02 sec ---------------+\n",
      "+----- ⏱ 🟢 Start 'delete config file from S3' ---------------------------------+\n",
      "| \n",
      "| 🗑️ delete config file/files at: s3://my-bucket-versioned/my-project/my_project-dev.json ...\n",
      "| preview at: https://console.aws.amazon.com/s3/object/my-bucket-versioned?prefix=my-project/my_project-dev.json\n",
      "| done!\n",
      "| \n",
      "+----- ⏰ 🟢 End 'delete config file from S3', elapsed = 0.00 sec ---------------+\n",
      "+----- ⏱ 🟢 Start 'delete config file from S3' ---------------------------------+\n",
      "| \n",
      "| 🗑️ delete config file/files at: s3://my-bucket-versioned/my-project/my_project-prod.json ...\n",
      "| preview at: https://console.aws.amazon.com/s3/object/my-bucket-versioned?prefix=my-project/my_project-prod.json\n",
      "| done!\n",
      "| \n",
      "+----- ⏰ 🟢 End 'delete config file from S3', elapsed = 0.00 sec ---------------+\n"
     ]
    }
   ],
   "source": [
    "deployment_list = config_v2.delete(\n",
    "    bsm=bsm, \n",
    "    s3folder_config=s3folder_config,\n",
    "    include_history=True,\n",
    ")"
   ]
  },
  {
   "cell_type": "code",
   "execution_count": null,
   "metadata": {},
   "outputs": [],
   "source": []
  }
 ],
 "metadata": {
  "kernelspec": {
   "display_name": "Python 3 (ipykernel)",
   "language": "python",
   "name": "python3"
  },
  "language_info": {
   "codemirror_mode": {
    "name": "ipython",
    "version": 3
   },
   "file_extension": ".py",
   "mimetype": "text/x-python",
   "name": "python",
   "nbconvert_exporter": "python",
   "pygments_lexer": "ipython3",
   "version": "3.8.11"
  },
  "toc-autonumbering": true
 },
 "nbformat": 4,
 "nbformat_minor": 4
}
