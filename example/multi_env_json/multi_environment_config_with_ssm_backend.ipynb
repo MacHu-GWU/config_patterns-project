{
 "cells": [
  {
   "cell_type": "markdown",
   "metadata": {},
   "source": [
    "# Multi Environment Config Management - SSM Backend\n",
    "\n",
    "This is a follow up of [Multi Environment Config Management](https://github.com/MacHu-GWU/config_patterns-project/blob/main/example/multi_env_json/multi_environment_config.ipynb). In this article, we will introduce using [AWS System Manager Parameter Store](https://docs.aws.amazon.com/systems-manager/latest/userguide/systems-manager-parameter-store.html) as the backend to manage your multi-environment configurations.\n",
    "\n",
    "We have prepared three versions of the config (v1, v2, v3) for testing purposes. Now, let's take a preview of the config data for each version."
   ]
  },
  {
   "cell_type": "code",
   "execution_count": 1,
   "metadata": {
    "ExecuteTime": {
     "end_time": "2023-05-31T16:30:59.902019Z",
     "start_time": "2023-05-31T16:30:59.885948Z"
    },
    "collapsed": false,
    "jupyter": {
     "outputs_hidden": false
    },
    "tags": []
   },
   "outputs": [],
   "source": [
    "import json\n",
    "from rich import print as rprint\n",
    "\n",
    "def jprint(data: dict):\n",
    "    rprint(json.dumps(data, indent=4))"
   ]
  },
  {
   "cell_type": "code",
   "execution_count": 2,
   "metadata": {
    "ExecuteTime": {
     "end_time": "2023-05-31T16:32:06.309122Z",
     "start_time": "2023-05-31T16:32:06.265804Z"
    },
    "collapsed": false,
    "jupyter": {
     "outputs_hidden": false
    },
    "tags": []
   },
   "outputs": [
    {
     "name": "stdout",
     "output_type": "stream",
     "text": [
      "------ Version 1 ------\n"
     ]
    },
    {
     "data": {
      "text/html": [
       "<pre style=\"white-space:pre;overflow-x:auto;line-height:normal;font-family:Menlo,'DejaVu Sans Mono',consolas,'Courier New',monospace\"># content of config.json\n",
       "<span style=\"font-weight: bold\">{</span>\n",
       "    # this config file support comments, you can put documentation in the config file\n",
       "    <span style=\"color: #008000; text-decoration-color: #008000\">\"_shared\"</span>: <span style=\"font-weight: bold\">{</span>\n",
       "        <span style=\"color: #008000; text-decoration-color: #008000\">\"*.project_name\"</span>: <span style=\"color: #008000; text-decoration-color: #008000\">\"my_project\"</span>\n",
       "    <span style=\"font-weight: bold\">}</span>,\n",
       "    <span style=\"color: #008000; text-decoration-color: #008000\">\"dev\"</span>: <span style=\"font-weight: bold\">{</span>\n",
       "        <span style=\"color: #008000; text-decoration-color: #008000\">\"username\"</span>: <span style=\"color: #008000; text-decoration-color: #008000\">\"dev.user.v1\"</span>\n",
       "    <span style=\"font-weight: bold\">}</span>,\n",
       "    <span style=\"color: #008000; text-decoration-color: #008000\">\"prod\"</span>: <span style=\"font-weight: bold\">{</span>\n",
       "        <span style=\"color: #008000; text-decoration-color: #008000\">\"username\"</span>: <span style=\"color: #008000; text-decoration-color: #008000\">\"prod.user.v1\"</span>\n",
       "    <span style=\"font-weight: bold\">}</span>\n",
       "<span style=\"font-weight: bold\">}</span>\n",
       "</pre>\n"
      ],
      "text/plain": [
       "# content of config.json\n",
       "\u001b[1m{\u001b[0m\n",
       "    # this config file support comments, you can put documentation in the config file\n",
       "    \u001b[32m\"_shared\"\u001b[0m: \u001b[1m{\u001b[0m\n",
       "        \u001b[32m\"*.project_name\"\u001b[0m: \u001b[32m\"my_project\"\u001b[0m\n",
       "    \u001b[1m}\u001b[0m,\n",
       "    \u001b[32m\"dev\"\u001b[0m: \u001b[1m{\u001b[0m\n",
       "        \u001b[32m\"username\"\u001b[0m: \u001b[32m\"dev.user.v1\"\u001b[0m\n",
       "    \u001b[1m}\u001b[0m,\n",
       "    \u001b[32m\"prod\"\u001b[0m: \u001b[1m{\u001b[0m\n",
       "        \u001b[32m\"username\"\u001b[0m: \u001b[32m\"prod.user.v1\"\u001b[0m\n",
       "    \u001b[1m}\u001b[0m\n",
       "\u001b[1m}\u001b[0m\n"
      ]
     },
     "metadata": {},
     "output_type": "display_data"
    },
    {
     "data": {
      "text/html": [
       "<pre style=\"white-space:pre;overflow-x:auto;line-height:normal;font-family:Menlo,'DejaVu Sans Mono',consolas,'Courier New',monospace\"># content of secret_config.json\n",
       "<span style=\"font-weight: bold\">{</span>\n",
       "    # this config file support comments, you can put documentation in the config file\n",
       "    <span style=\"color: #008000; text-decoration-color: #008000\">\"_shared\"</span>: <span style=\"font-weight: bold\">{</span>\n",
       "    <span style=\"font-weight: bold\">}</span>,\n",
       "    <span style=\"color: #008000; text-decoration-color: #008000\">\"dev\"</span>: <span style=\"font-weight: bold\">{</span>\n",
       "        <span style=\"color: #008000; text-decoration-color: #008000\">\"password\"</span>: <span style=\"color: #008000; text-decoration-color: #008000\">\"dev.password\"</span>\n",
       "    <span style=\"font-weight: bold\">}</span>,\n",
       "    <span style=\"color: #008000; text-decoration-color: #008000\">\"prod\"</span>: <span style=\"font-weight: bold\">{</span>\n",
       "        <span style=\"color: #008000; text-decoration-color: #008000\">\"password\"</span>: <span style=\"color: #008000; text-decoration-color: #008000\">\"prod.password\"</span>\n",
       "    <span style=\"font-weight: bold\">}</span>\n",
       "<span style=\"font-weight: bold\">}</span>\n",
       "</pre>\n"
      ],
      "text/plain": [
       "# content of secret_config.json\n",
       "\u001b[1m{\u001b[0m\n",
       "    # this config file support comments, you can put documentation in the config file\n",
       "    \u001b[32m\"_shared\"\u001b[0m: \u001b[1m{\u001b[0m\n",
       "    \u001b[1m}\u001b[0m,\n",
       "    \u001b[32m\"dev\"\u001b[0m: \u001b[1m{\u001b[0m\n",
       "        \u001b[32m\"password\"\u001b[0m: \u001b[32m\"dev.password\"\u001b[0m\n",
       "    \u001b[1m}\u001b[0m,\n",
       "    \u001b[32m\"prod\"\u001b[0m: \u001b[1m{\u001b[0m\n",
       "        \u001b[32m\"password\"\u001b[0m: \u001b[32m\"prod.password\"\u001b[0m\n",
       "    \u001b[1m}\u001b[0m\n",
       "\u001b[1m}\u001b[0m\n"
      ]
     },
     "metadata": {},
     "output_type": "display_data"
    },
    {
     "name": "stdout",
     "output_type": "stream",
     "text": [
      "------ Version 2: ------\n"
     ]
    },
    {
     "data": {
      "text/html": [
       "<pre style=\"white-space:pre;overflow-x:auto;line-height:normal;font-family:Menlo,'DejaVu Sans Mono',consolas,'Courier New',monospace\"># content of config.json\n",
       "<span style=\"font-weight: bold\">{</span>\n",
       "    # this config file support comments, you can put documentation in the config file\n",
       "    <span style=\"color: #008000; text-decoration-color: #008000\">\"_shared\"</span>: <span style=\"font-weight: bold\">{</span>\n",
       "        <span style=\"color: #008000; text-decoration-color: #008000\">\"*.project_name\"</span>: <span style=\"color: #008000; text-decoration-color: #008000\">\"my_project\"</span>\n",
       "    <span style=\"font-weight: bold\">}</span>,\n",
       "    <span style=\"color: #008000; text-decoration-color: #008000\">\"dev\"</span>: <span style=\"font-weight: bold\">{</span>\n",
       "        <span style=\"color: #008000; text-decoration-color: #008000\">\"username\"</span>: <span style=\"color: #008000; text-decoration-color: #008000\">\"dev.user.v2\"</span>\n",
       "    <span style=\"font-weight: bold\">}</span>,\n",
       "    <span style=\"color: #008000; text-decoration-color: #008000\">\"prod\"</span>: <span style=\"font-weight: bold\">{</span>\n",
       "        <span style=\"color: #008000; text-decoration-color: #008000\">\"username\"</span>: <span style=\"color: #008000; text-decoration-color: #008000\">\"prod.user.v2\"</span>\n",
       "    <span style=\"font-weight: bold\">}</span>\n",
       "<span style=\"font-weight: bold\">}</span>\n",
       "</pre>\n"
      ],
      "text/plain": [
       "# content of config.json\n",
       "\u001b[1m{\u001b[0m\n",
       "    # this config file support comments, you can put documentation in the config file\n",
       "    \u001b[32m\"_shared\"\u001b[0m: \u001b[1m{\u001b[0m\n",
       "        \u001b[32m\"*.project_name\"\u001b[0m: \u001b[32m\"my_project\"\u001b[0m\n",
       "    \u001b[1m}\u001b[0m,\n",
       "    \u001b[32m\"dev\"\u001b[0m: \u001b[1m{\u001b[0m\n",
       "        \u001b[32m\"username\"\u001b[0m: \u001b[32m\"dev.user.v2\"\u001b[0m\n",
       "    \u001b[1m}\u001b[0m,\n",
       "    \u001b[32m\"prod\"\u001b[0m: \u001b[1m{\u001b[0m\n",
       "        \u001b[32m\"username\"\u001b[0m: \u001b[32m\"prod.user.v2\"\u001b[0m\n",
       "    \u001b[1m}\u001b[0m\n",
       "\u001b[1m}\u001b[0m\n"
      ]
     },
     "metadata": {},
     "output_type": "display_data"
    },
    {
     "data": {
      "text/html": [
       "<pre style=\"white-space:pre;overflow-x:auto;line-height:normal;font-family:Menlo,'DejaVu Sans Mono',consolas,'Courier New',monospace\"># content of secret_config.json\n",
       "<span style=\"font-weight: bold\">{</span>\n",
       "    # this config file support comments, you can put documentation in the config file\n",
       "    <span style=\"color: #008000; text-decoration-color: #008000\">\"_shared\"</span>: <span style=\"font-weight: bold\">{</span>\n",
       "    <span style=\"font-weight: bold\">}</span>,\n",
       "    <span style=\"color: #008000; text-decoration-color: #008000\">\"dev\"</span>: <span style=\"font-weight: bold\">{</span>\n",
       "        <span style=\"color: #008000; text-decoration-color: #008000\">\"password\"</span>: <span style=\"color: #008000; text-decoration-color: #008000\">\"dev.password\"</span>\n",
       "    <span style=\"font-weight: bold\">}</span>,\n",
       "    <span style=\"color: #008000; text-decoration-color: #008000\">\"prod\"</span>: <span style=\"font-weight: bold\">{</span>\n",
       "        <span style=\"color: #008000; text-decoration-color: #008000\">\"password\"</span>: <span style=\"color: #008000; text-decoration-color: #008000\">\"prod.password\"</span>\n",
       "    <span style=\"font-weight: bold\">}</span>\n",
       "<span style=\"font-weight: bold\">}</span>\n",
       "</pre>\n"
      ],
      "text/plain": [
       "# content of secret_config.json\n",
       "\u001b[1m{\u001b[0m\n",
       "    # this config file support comments, you can put documentation in the config file\n",
       "    \u001b[32m\"_shared\"\u001b[0m: \u001b[1m{\u001b[0m\n",
       "    \u001b[1m}\u001b[0m,\n",
       "    \u001b[32m\"dev\"\u001b[0m: \u001b[1m{\u001b[0m\n",
       "        \u001b[32m\"password\"\u001b[0m: \u001b[32m\"dev.password\"\u001b[0m\n",
       "    \u001b[1m}\u001b[0m,\n",
       "    \u001b[32m\"prod\"\u001b[0m: \u001b[1m{\u001b[0m\n",
       "        \u001b[32m\"password\"\u001b[0m: \u001b[32m\"prod.password\"\u001b[0m\n",
       "    \u001b[1m}\u001b[0m\n",
       "\u001b[1m}\u001b[0m\n"
      ]
     },
     "metadata": {},
     "output_type": "display_data"
    },
    {
     "name": "stdout",
     "output_type": "stream",
     "text": [
      "------ Version 3: ------\n"
     ]
    },
    {
     "data": {
      "text/html": [
       "<pre style=\"white-space:pre;overflow-x:auto;line-height:normal;font-family:Menlo,'DejaVu Sans Mono',consolas,'Courier New',monospace\"># content of config.json\n",
       "<span style=\"font-weight: bold\">{</span>\n",
       "    # this config file support comments, you can put documentation in the config file\n",
       "    <span style=\"color: #008000; text-decoration-color: #008000\">\"_shared\"</span>: <span style=\"font-weight: bold\">{</span>\n",
       "        <span style=\"color: #008000; text-decoration-color: #008000\">\"*.project_name\"</span>: <span style=\"color: #008000; text-decoration-color: #008000\">\"my_project\"</span>\n",
       "    <span style=\"font-weight: bold\">}</span>,\n",
       "    <span style=\"color: #008000; text-decoration-color: #008000\">\"dev\"</span>: <span style=\"font-weight: bold\">{</span>\n",
       "        <span style=\"color: #008000; text-decoration-color: #008000\">\"username\"</span>: <span style=\"color: #008000; text-decoration-color: #008000\">\"dev.user.v3\"</span>\n",
       "    <span style=\"font-weight: bold\">}</span>,\n",
       "    <span style=\"color: #008000; text-decoration-color: #008000\">\"prod\"</span>: <span style=\"font-weight: bold\">{</span>\n",
       "        <span style=\"color: #008000; text-decoration-color: #008000\">\"username\"</span>: <span style=\"color: #008000; text-decoration-color: #008000\">\"prod.user.v3\"</span>\n",
       "    <span style=\"font-weight: bold\">}</span>\n",
       "<span style=\"font-weight: bold\">}</span>\n",
       "</pre>\n"
      ],
      "text/plain": [
       "# content of config.json\n",
       "\u001b[1m{\u001b[0m\n",
       "    # this config file support comments, you can put documentation in the config file\n",
       "    \u001b[32m\"_shared\"\u001b[0m: \u001b[1m{\u001b[0m\n",
       "        \u001b[32m\"*.project_name\"\u001b[0m: \u001b[32m\"my_project\"\u001b[0m\n",
       "    \u001b[1m}\u001b[0m,\n",
       "    \u001b[32m\"dev\"\u001b[0m: \u001b[1m{\u001b[0m\n",
       "        \u001b[32m\"username\"\u001b[0m: \u001b[32m\"dev.user.v3\"\u001b[0m\n",
       "    \u001b[1m}\u001b[0m,\n",
       "    \u001b[32m\"prod\"\u001b[0m: \u001b[1m{\u001b[0m\n",
       "        \u001b[32m\"username\"\u001b[0m: \u001b[32m\"prod.user.v3\"\u001b[0m\n",
       "    \u001b[1m}\u001b[0m\n",
       "\u001b[1m}\u001b[0m\n"
      ]
     },
     "metadata": {},
     "output_type": "display_data"
    },
    {
     "data": {
      "text/html": [
       "<pre style=\"white-space:pre;overflow-x:auto;line-height:normal;font-family:Menlo,'DejaVu Sans Mono',consolas,'Courier New',monospace\"># content of secret_config.json\n",
       "<span style=\"font-weight: bold\">{</span>\n",
       "    # this config file support comments, you can put documentation in the config file\n",
       "    <span style=\"color: #008000; text-decoration-color: #008000\">\"_shared\"</span>: <span style=\"font-weight: bold\">{</span>\n",
       "    <span style=\"font-weight: bold\">}</span>,\n",
       "    <span style=\"color: #008000; text-decoration-color: #008000\">\"dev\"</span>: <span style=\"font-weight: bold\">{</span>\n",
       "        <span style=\"color: #008000; text-decoration-color: #008000\">\"password\"</span>: <span style=\"color: #008000; text-decoration-color: #008000\">\"dev.password\"</span>\n",
       "    <span style=\"font-weight: bold\">}</span>,\n",
       "    <span style=\"color: #008000; text-decoration-color: #008000\">\"prod\"</span>: <span style=\"font-weight: bold\">{</span>\n",
       "        <span style=\"color: #008000; text-decoration-color: #008000\">\"password\"</span>: <span style=\"color: #008000; text-decoration-color: #008000\">\"prod.password\"</span>\n",
       "    <span style=\"font-weight: bold\">}</span>\n",
       "<span style=\"font-weight: bold\">}</span>\n",
       "</pre>\n"
      ],
      "text/plain": [
       "# content of secret_config.json\n",
       "\u001b[1m{\u001b[0m\n",
       "    # this config file support comments, you can put documentation in the config file\n",
       "    \u001b[32m\"_shared\"\u001b[0m: \u001b[1m{\u001b[0m\n",
       "    \u001b[1m}\u001b[0m,\n",
       "    \u001b[32m\"dev\"\u001b[0m: \u001b[1m{\u001b[0m\n",
       "        \u001b[32m\"password\"\u001b[0m: \u001b[32m\"dev.password\"\u001b[0m\n",
       "    \u001b[1m}\u001b[0m,\n",
       "    \u001b[32m\"prod\"\u001b[0m: \u001b[1m{\u001b[0m\n",
       "        \u001b[32m\"password\"\u001b[0m: \u001b[32m\"prod.password\"\u001b[0m\n",
       "    \u001b[1m}\u001b[0m\n",
       "\u001b[1m}\u001b[0m\n"
      ]
     },
     "metadata": {},
     "output_type": "display_data"
    }
   ],
   "source": [
    "from python_lib.config_paths import (\n",
    "    path_config_v1,\n",
    "    path_config_secret_v1,\n",
    "    path_config_v2,\n",
    "    path_config_secret_v2,\n",
    "    path_config_v3,\n",
    "    path_config_secret_v3,\n",
    ")\n",
    "\n",
    "print(\"------ Version 1 ------\")\n",
    "rprint(path_config_v1.read_text())\n",
    "rprint(path_config_secret_v1.read_text())\n",
    "\n",
    "print(\"------ Version 2: ------\")\n",
    "rprint(path_config_v2.read_text())\n",
    "rprint(path_config_secret_v2.read_text())\n",
    "\n",
    "print(\"------ Version 3: ------\")\n",
    "rprint(path_config_v3.read_text())\n",
    "rprint(path_config_secret_v3.read_text())"
   ]
  },
  {
   "cell_type": "markdown",
   "metadata": {},
   "source": [
    "Similar to what we have done in [Multi Environment Config Management](https://github.com/MacHu-GWU/config_patterns-project/blob/main/example/multi_env_json/multi_environment_config.ipynb), we declared the config data model as below."
   ]
  },
  {
   "cell_type": "code",
   "execution_count": 3,
   "metadata": {
    "ExecuteTime": {
     "end_time": "2023-05-31T16:33:41.338264Z",
     "start_time": "2023-05-31T16:33:41.332623Z"
    },
    "collapsed": false,
    "jupyter": {
     "outputs_hidden": false
    },
    "tags": []
   },
   "outputs": [],
   "source": [
    "import os\n",
    "# content of config_define.py\n",
    "# -*- coding: utf-8 -*-\n",
    "\n",
    "import typing as T\n",
    "import os\n",
    "import dataclasses\n",
    "\n",
    "from config_patterns.patterns.multi_env_json.api import (\n",
    "    BaseEnvEnum, # the base class of the environment name enum class\n",
    "    BaseEnv, # the base class of the per environment object\n",
    "    BaseConfig, # the base class of the all-in-one config object\n",
    ")\n",
    "\n",
    "\n",
    "class EnvEnum(BaseEnvEnum):\n",
    "    dev = \"dev\" # development\n",
    "    prod = \"prod\" # production\n",
    "\n",
    "\n",
    "@dataclasses.dataclass\n",
    "class Env(BaseEnv):\n",
    "    username: T.Optional[str] = dataclasses.field(default=None)\n",
    "    password: T.Optional[str] = dataclasses.field(default=None)\n",
    "\n",
    "    @classmethod\n",
    "    def from_dict(cls, data: dict):\n",
    "        \"\"\"\n",
    "        This method defines how to create an instance of this class from a dict.\n",
    "\n",
    "        Example:\n",
    "\n",
    "            >>> Env.from_dict({\"username\": \"user1\", \"password\": \"pass1\"})\n",
    "        \"\"\"\n",
    "        return cls(**data)\n",
    "\n",
    "    @property\n",
    "    def login_info(self) -> str:\n",
    "        \"\"\"\n",
    "        This is a sample derived attribute.\n",
    "        \"\"\"\n",
    "        return f\"Hello {self.username}, please enter your password: \"\n",
    "\n",
    "\n",
    "@dataclasses.dataclass\n",
    "class Config(BaseConfig):\n",
    "    @property\n",
    "    def dev(self) -> Env:\n",
    "        \"\"\"\n",
    "        A shortcut to get the dev environment config object.\n",
    "        \"\"\"\n",
    "        return self.get_env(EnvEnum.dev)\n",
    "\n",
    "    @property\n",
    "    def prod(self) -> Env:\n",
    "        \"\"\"\n",
    "        A shortcut to get the dev environment config object.\n",
    "        \"\"\"\n",
    "        return self.get_env(EnvEnum.prod)\n",
    "\n",
    "    @classmethod\n",
    "    def get_current_env(cls) -> str:\n",
    "        \"\"\"\n",
    "        You may want a smarter way to determine the current environment.\n",
    "        For example, you may define the local laptop is ``dev``, and the\n",
    "        virtual machine is ``prod``.\n",
    "        \"\"\"\n",
    "        if \"IS_VM\" in os.environ:\n",
    "            return EnvEnum.prod.value\n",
    "        else:\n",
    "            return EnvEnum.dev.value\n",
    "\n",
    "    @property\n",
    "    def env(self) -> Env:\n",
    "        \"\"\"\n",
    "        This is a shortcut to get the current environment object.\n",
    "        \"\"\"\n",
    "        return self.get_env(self.get_current_env())"
   ]
  },
  {
   "cell_type": "markdown",
   "metadata": {
    "jupyter": {
     "outputs_hidden": false
    }
   },
   "source": [
    "In this tutorial, we utilize [moto](https://docs.getmoto.org/en/latest/docs/getting_started.html) to mock AWS services. Therefore, you don't need to set up a real AWS account and can focus on the concepts."
   ]
  },
  {
   "cell_type": "code",
   "execution_count": 4,
   "metadata": {
    "ExecuteTime": {
     "end_time": "2023-05-31T18:49:51.232823Z",
     "start_time": "2023-05-31T18:49:51.158035Z"
    },
    "collapsed": false,
    "jupyter": {
     "outputs_hidden": false
    },
    "tags": []
   },
   "outputs": [],
   "source": [
    "import moto\n",
    "from boto_session_manager import BotoSesManager\n",
    "from s3pathlib import S3Path\n",
    "\n",
    "# mock related AWS services\n",
    "mock_ssm = moto.mock_ssm()\n",
    "mock_sts = moto.mock_sts()\n",
    "mock_ssm.start()\n",
    "mock_sts.start()\n",
    "\n",
    "# create a boto session manager object \n",
    "bsm = BotoSesManager(region_name=\"us-east-1\")"
   ]
  },
  {
   "cell_type": "markdown",
   "metadata": {},
   "source": [
    "## Read the Config Object from Local JSON File\n",
    "\n",
    "First, we read the config version 1 from local JSON file."
   ]
  },
  {
   "cell_type": "code",
   "execution_count": 5,
   "metadata": {
    "ExecuteTime": {
     "end_time": "2023-05-31T18:51:58.005657Z",
     "start_time": "2023-05-31T18:51:57.967056Z"
    },
    "collapsed": false,
    "jupyter": {
     "outputs_hidden": false
    },
    "tags": []
   },
   "outputs": [
    {
     "data": {
      "text/html": [
       "<pre style=\"white-space:pre;overflow-x:auto;line-height:normal;font-family:Menlo,'DejaVu Sans Mono',consolas,'Courier New',monospace\"><span style=\"color: #800080; text-decoration-color: #800080; font-weight: bold\">Config</span><span style=\"font-weight: bold\">(</span>\n",
       "    <span style=\"color: #808000; text-decoration-color: #808000\">data</span>=<span style=\"font-weight: bold\">{</span>\n",
       "        <span style=\"color: #008000; text-decoration-color: #008000\">'_shared'</span>: <span style=\"font-weight: bold\">{</span><span style=\"color: #008000; text-decoration-color: #008000\">'*.project_name'</span>: <span style=\"color: #008000; text-decoration-color: #008000\">'my_project'</span><span style=\"font-weight: bold\">}</span>,\n",
       "        <span style=\"color: #008000; text-decoration-color: #008000\">'dev'</span>: <span style=\"font-weight: bold\">{</span><span style=\"color: #008000; text-decoration-color: #008000\">'username'</span>: <span style=\"color: #008000; text-decoration-color: #008000\">'dev.user.v1'</span><span style=\"font-weight: bold\">}</span>,\n",
       "        <span style=\"color: #008000; text-decoration-color: #008000\">'prod'</span>: <span style=\"font-weight: bold\">{</span><span style=\"color: #008000; text-decoration-color: #008000\">'username'</span>: <span style=\"color: #008000; text-decoration-color: #008000\">'prod.user.v1'</span><span style=\"font-weight: bold\">}</span>\n",
       "    <span style=\"font-weight: bold\">}</span>,\n",
       "    <span style=\"color: #808000; text-decoration-color: #808000\">secret_data</span>=<span style=\"font-weight: bold\">{</span><span style=\"color: #008000; text-decoration-color: #008000\">'_shared'</span>: <span style=\"font-weight: bold\">{}</span>, <span style=\"color: #008000; text-decoration-color: #008000\">'dev'</span>: <span style=\"font-weight: bold\">{</span><span style=\"color: #008000; text-decoration-color: #008000\">'password'</span>: <span style=\"color: #008000; text-decoration-color: #008000\">'dev.password'</span><span style=\"font-weight: bold\">}</span>, <span style=\"color: #008000; text-decoration-color: #008000\">'prod'</span>: <span style=\"font-weight: bold\">{</span><span style=\"color: #008000; text-decoration-color: #008000\">'password'</span>: <span style=\"color: #008000; text-decoration-color: #008000\">'prod.password'</span><span style=\"font-weight: bold\">}}</span>,\n",
       "    <span style=\"color: #808000; text-decoration-color: #808000\">Env</span>=<span style=\"font-weight: bold\">&lt;</span><span style=\"color: #ff00ff; text-decoration-color: #ff00ff; font-weight: bold\">class</span><span style=\"color: #000000; text-decoration-color: #000000\"> </span><span style=\"color: #008000; text-decoration-color: #008000\">'__main__.Env'</span><span style=\"color: #000000; text-decoration-color: #000000\">&gt;,</span>\n",
       "<span style=\"color: #000000; text-decoration-color: #000000\">    </span><span style=\"color: #808000; text-decoration-color: #808000\">EnvEnum</span><span style=\"color: #000000; text-decoration-color: #000000\">=&lt;enum </span><span style=\"color: #008000; text-decoration-color: #008000\">'EnvEnum'</span><span style=\"font-weight: bold\">&gt;</span>,\n",
       "    <span style=\"color: #808000; text-decoration-color: #808000\">version</span>=<span style=\"color: #008000; text-decoration-color: #008000\">'local'</span>,\n",
       "    <span style=\"color: #808000; text-decoration-color: #808000\">_applied_data</span>=<span style=\"font-weight: bold\">{</span>\n",
       "        <span style=\"color: #008000; text-decoration-color: #008000\">'dev'</span>: <span style=\"font-weight: bold\">{</span><span style=\"color: #008000; text-decoration-color: #008000\">'username'</span>: <span style=\"color: #008000; text-decoration-color: #008000\">'dev.user.v1'</span>, <span style=\"color: #008000; text-decoration-color: #008000\">'project_name'</span>: <span style=\"color: #008000; text-decoration-color: #008000\">'my_project'</span><span style=\"font-weight: bold\">}</span>,\n",
       "        <span style=\"color: #008000; text-decoration-color: #008000\">'prod'</span>: <span style=\"font-weight: bold\">{</span><span style=\"color: #008000; text-decoration-color: #008000\">'username'</span>: <span style=\"color: #008000; text-decoration-color: #008000\">'prod.user.v1'</span>, <span style=\"color: #008000; text-decoration-color: #008000\">'project_name'</span>: <span style=\"color: #008000; text-decoration-color: #008000\">'my_project'</span><span style=\"font-weight: bold\">}</span>\n",
       "    <span style=\"font-weight: bold\">}</span>,\n",
       "    <span style=\"color: #808000; text-decoration-color: #808000\">_applied_secret_data</span>=<span style=\"font-weight: bold\">{</span><span style=\"color: #008000; text-decoration-color: #008000\">'dev'</span>: <span style=\"font-weight: bold\">{</span><span style=\"color: #008000; text-decoration-color: #008000\">'password'</span>: <span style=\"color: #008000; text-decoration-color: #008000\">'dev.password'</span><span style=\"font-weight: bold\">}</span>, <span style=\"color: #008000; text-decoration-color: #008000\">'prod'</span>: <span style=\"font-weight: bold\">{</span><span style=\"color: #008000; text-decoration-color: #008000\">'password'</span>: <span style=\"color: #008000; text-decoration-color: #008000\">'prod.password'</span><span style=\"font-weight: bold\">}}</span>,\n",
       "    <span style=\"color: #808000; text-decoration-color: #808000\">_merged</span>=<span style=\"font-weight: bold\">{</span>\n",
       "        <span style=\"color: #008000; text-decoration-color: #008000\">'dev'</span>: <span style=\"font-weight: bold\">{</span><span style=\"color: #008000; text-decoration-color: #008000\">'username'</span>: <span style=\"color: #008000; text-decoration-color: #008000\">'dev.user.v1'</span>, <span style=\"color: #008000; text-decoration-color: #008000\">'project_name'</span>: <span style=\"color: #008000; text-decoration-color: #008000\">'my_project'</span>, <span style=\"color: #008000; text-decoration-color: #008000\">'password'</span>: <span style=\"color: #008000; text-decoration-color: #008000\">'dev.password'</span><span style=\"font-weight: bold\">}</span>,\n",
       "        <span style=\"color: #008000; text-decoration-color: #008000\">'prod'</span>: <span style=\"font-weight: bold\">{</span><span style=\"color: #008000; text-decoration-color: #008000\">'username'</span>: <span style=\"color: #008000; text-decoration-color: #008000\">'prod.user.v1'</span>, <span style=\"color: #008000; text-decoration-color: #008000\">'project_name'</span>: <span style=\"color: #008000; text-decoration-color: #008000\">'my_project'</span>, <span style=\"color: #008000; text-decoration-color: #008000\">'password'</span>: <span style=\"color: #008000; text-decoration-color: #008000\">'prod.password'</span><span style=\"font-weight: bold\">}</span>\n",
       "    <span style=\"font-weight: bold\">}</span>\n",
       "<span style=\"font-weight: bold\">)</span>\n",
       "</pre>\n"
      ],
      "text/plain": [
       "\u001b[1;35mConfig\u001b[0m\u001b[1m(\u001b[0m\n",
       "    \u001b[33mdata\u001b[0m=\u001b[1m{\u001b[0m\n",
       "        \u001b[32m'_shared'\u001b[0m: \u001b[1m{\u001b[0m\u001b[32m'*.project_name'\u001b[0m: \u001b[32m'my_project'\u001b[0m\u001b[1m}\u001b[0m,\n",
       "        \u001b[32m'dev'\u001b[0m: \u001b[1m{\u001b[0m\u001b[32m'username'\u001b[0m: \u001b[32m'dev.user.v1'\u001b[0m\u001b[1m}\u001b[0m,\n",
       "        \u001b[32m'prod'\u001b[0m: \u001b[1m{\u001b[0m\u001b[32m'username'\u001b[0m: \u001b[32m'prod.user.v1'\u001b[0m\u001b[1m}\u001b[0m\n",
       "    \u001b[1m}\u001b[0m,\n",
       "    \u001b[33msecret_data\u001b[0m=\u001b[1m{\u001b[0m\u001b[32m'_shared'\u001b[0m: \u001b[1m{\u001b[0m\u001b[1m}\u001b[0m, \u001b[32m'dev'\u001b[0m: \u001b[1m{\u001b[0m\u001b[32m'password'\u001b[0m: \u001b[32m'dev.password'\u001b[0m\u001b[1m}\u001b[0m, \u001b[32m'prod'\u001b[0m: \u001b[1m{\u001b[0m\u001b[32m'password'\u001b[0m: \u001b[32m'prod.password'\u001b[0m\u001b[1m}\u001b[0m\u001b[1m}\u001b[0m,\n",
       "    \u001b[33mEnv\u001b[0m=\u001b[1m<\u001b[0m\u001b[1;95mclass\u001b[0m\u001b[39m \u001b[0m\u001b[32m'__main__.Env'\u001b[0m\u001b[39m>,\u001b[0m\n",
       "\u001b[39m    \u001b[0m\u001b[33mEnvEnum\u001b[0m\u001b[39m=<enum \u001b[0m\u001b[32m'EnvEnum'\u001b[0m\u001b[1m>\u001b[0m,\n",
       "    \u001b[33mversion\u001b[0m=\u001b[32m'local'\u001b[0m,\n",
       "    \u001b[33m_applied_data\u001b[0m=\u001b[1m{\u001b[0m\n",
       "        \u001b[32m'dev'\u001b[0m: \u001b[1m{\u001b[0m\u001b[32m'username'\u001b[0m: \u001b[32m'dev.user.v1'\u001b[0m, \u001b[32m'project_name'\u001b[0m: \u001b[32m'my_project'\u001b[0m\u001b[1m}\u001b[0m,\n",
       "        \u001b[32m'prod'\u001b[0m: \u001b[1m{\u001b[0m\u001b[32m'username'\u001b[0m: \u001b[32m'prod.user.v1'\u001b[0m, \u001b[32m'project_name'\u001b[0m: \u001b[32m'my_project'\u001b[0m\u001b[1m}\u001b[0m\n",
       "    \u001b[1m}\u001b[0m,\n",
       "    \u001b[33m_applied_secret_data\u001b[0m=\u001b[1m{\u001b[0m\u001b[32m'dev'\u001b[0m: \u001b[1m{\u001b[0m\u001b[32m'password'\u001b[0m: \u001b[32m'dev.password'\u001b[0m\u001b[1m}\u001b[0m, \u001b[32m'prod'\u001b[0m: \u001b[1m{\u001b[0m\u001b[32m'password'\u001b[0m: \u001b[32m'prod.password'\u001b[0m\u001b[1m}\u001b[0m\u001b[1m}\u001b[0m,\n",
       "    \u001b[33m_merged\u001b[0m=\u001b[1m{\u001b[0m\n",
       "        \u001b[32m'dev'\u001b[0m: \u001b[1m{\u001b[0m\u001b[32m'username'\u001b[0m: \u001b[32m'dev.user.v1'\u001b[0m, \u001b[32m'project_name'\u001b[0m: \u001b[32m'my_project'\u001b[0m, \u001b[32m'password'\u001b[0m: \u001b[32m'dev.password'\u001b[0m\u001b[1m}\u001b[0m,\n",
       "        \u001b[32m'prod'\u001b[0m: \u001b[1m{\u001b[0m\u001b[32m'username'\u001b[0m: \u001b[32m'prod.user.v1'\u001b[0m, \u001b[32m'project_name'\u001b[0m: \u001b[32m'my_project'\u001b[0m, \u001b[32m'password'\u001b[0m: \u001b[32m'prod.password'\u001b[0m\u001b[1m}\u001b[0m\n",
       "    \u001b[1m}\u001b[0m\n",
       "\u001b[1m)\u001b[0m\n"
      ]
     },
     "metadata": {},
     "output_type": "display_data"
    }
   ],
   "source": [
    "config_v1 = Config.read(\n",
    "    env_class=Env,\n",
    "    env_enum_class=EnvEnum,\n",
    "    path_config=path_config_v1,\n",
    "    path_secret_config=path_config_secret_v1,\n",
    ")\n",
    "rprint(config_v1)"
   ]
  },
  {
   "cell_type": "markdown",
   "metadata": {},
   "source": [
    "The config object has two built-in attributes ``project_name`` and ``env_name``."
   ]
  },
  {
   "cell_type": "code",
   "execution_count": 6,
   "metadata": {
    "tags": []
   },
   "outputs": [
    {
     "name": "stdout",
     "output_type": "stream",
     "text": [
      "project_name: my_project\n",
      "dev env_name: dev\n",
      "prod env_name: prod\n"
     ]
    }
   ],
   "source": [
    "print(f\"project_name: {config_v1.project_name}\")\n",
    "print(f\"dev env_name: {config_v1.dev.env_name}\")\n",
    "print(f\"prod env_name: {config_v1.prod.env_name}\")"
   ]
  },
  {
   "cell_type": "markdown",
   "metadata": {},
   "source": [
    "The config object also has a built-in derived attribute ``parameter_name``. It is the normalized name (convert to lower case and snake case (underscore only)) for config deployment resources name of your backend."
   ]
  },
  {
   "cell_type": "code",
   "execution_count": 7,
   "metadata": {
    "tags": []
   },
   "outputs": [
    {
     "name": "stdout",
     "output_type": "stream",
     "text": [
      "parameter_name: my_project\n"
     ]
    }
   ],
   "source": [
    "print(f\"parameter_name: {config_v1.parameter_name}\")"
   ]
  },
  {
   "cell_type": "markdown",
   "metadata": {},
   "source": [
    "## Deploy Config to SSM Parameter Store\n",
    "\n",
    "Now, you can use the ``Config.deploy()`` method to deploy the config object to SSM Parameter Store. The ``parameter_with_encryption=True|False`` argument has to be specified to use SSM backend. It creates an all-in-one deployment containing all environment data as a backup for disaster recovery or compliance requirements. Additionally, it creates individual per-environment deployments, ensuring that each environment can only access its specific configuration data and cannot access the configuration of other environments."
   ]
  },
  {
   "cell_type": "code",
   "execution_count": 8,
   "metadata": {
    "tags": []
   },
   "outputs": [
    {
     "name": "stdout",
     "output_type": "stream",
     "text": [
      "+----- ⏱ 🟢 Start 'deploy config to SSM parameter' -----------------------------+\n",
      "| \n",
      "| 🚀️ deploy SSM Parameter 'my_project' ...\n",
      "| preview at: https://us-east-1.console.aws.amazon.com/systems-manager/parameters/my_project/description?region=us-east-1&tab=Table\n",
      "| successfully deployed version 1\n",
      "| \n",
      "+----- ⏰ 🟢 End 'deploy config to SSM parameter', elapsed = 0.18 sec -----------+\n",
      "+----- ⏱ 🟢 Start 'deploy config to SSM parameter' -----------------------------+\n",
      "| \n",
      "| 🚀️ deploy SSM Parameter 'my_project-dev' ...\n",
      "| preview at: https://us-east-1.console.aws.amazon.com/systems-manager/parameters/my_project-dev/description?region=us-east-1&tab=Table\n",
      "| successfully deployed version 1\n",
      "| \n",
      "+----- ⏰ 🟢 End 'deploy config to SSM parameter', elapsed = 0.00 sec -----------+\n",
      "+----- ⏱ 🟢 Start 'deploy config to SSM parameter' -----------------------------+\n",
      "| \n",
      "| 🚀️ deploy SSM Parameter 'my_project-prod' ...\n",
      "| preview at: https://us-east-1.console.aws.amazon.com/systems-manager/parameters/my_project-prod/description?region=us-east-1&tab=Table\n",
      "| successfully deployed version 1\n",
      "| \n",
      "+----- ⏰ 🟢 End 'deploy config to SSM parameter', elapsed = 0.00 sec -----------+\n"
     ]
    }
   ],
   "source": [
    "deployment_list = config_v1.deploy(\n",
    "    bsm=bsm, \n",
    "    parameter_with_encryption=True,\n",
    "    # these two arguments are optional\n",
    "    tags={\"project_name\": config_v1.project_name},\n",
    "    verbose=True,\n",
    ")"
   ]
  },
  {
   "cell_type": "markdown",
   "metadata": {},
   "source": [
    "If you are trying to deploy the same config data with no change, ``config_patterns`` library can automatically detect that and skip the deployment."
   ]
  },
  {
   "cell_type": "code",
   "execution_count": 9,
   "metadata": {
    "tags": []
   },
   "outputs": [
    {
     "name": "stdout",
     "output_type": "stream",
     "text": [
      "+----- ⏱ 🟢 Start 'deploy config to SSM parameter' -----------------------------+\n",
      "| \n",
      "| 🚀️ deploy SSM Parameter 'my_project' ...\n",
      "| preview at: https://us-east-1.console.aws.amazon.com/systems-manager/parameters/my_project/description?region=us-east-1&tab=Table\n",
      "| parameter data is the same as existing one, do nothing.\n",
      "| \n",
      "+----- ⏰ 🟢 End 'deploy config to SSM parameter', elapsed = 0.01 sec -----------+\n",
      "+----- ⏱ 🟢 Start 'deploy config to SSM parameter' -----------------------------+\n",
      "| \n",
      "| 🚀️ deploy SSM Parameter 'my_project-dev' ...\n",
      "| preview at: https://us-east-1.console.aws.amazon.com/systems-manager/parameters/my_project-dev/description?region=us-east-1&tab=Table\n",
      "| parameter data is the same as existing one, do nothing.\n",
      "| \n",
      "+----- ⏰ 🟢 End 'deploy config to SSM parameter', elapsed = 0.00 sec -----------+\n",
      "+----- ⏱ 🟢 Start 'deploy config to SSM parameter' -----------------------------+\n",
      "| \n",
      "| 🚀️ deploy SSM Parameter 'my_project-prod' ...\n",
      "| preview at: https://us-east-1.console.aws.amazon.com/systems-manager/parameters/my_project-prod/description?region=us-east-1&tab=Table\n",
      "| parameter data is the same as existing one, do nothing.\n",
      "| \n",
      "+----- ⏰ 🟢 End 'deploy config to SSM parameter', elapsed = 0.00 sec -----------+\n"
     ]
    }
   ],
   "source": [
    "deployment_list = config_v1.deploy(\n",
    "    bsm=bsm, \n",
    "    parameter_with_encryption=True,\n",
    "    # these two arguments are optional\n",
    "    tags={\"project_name\": config_v1.project_name},\n",
    "    verbose=True,\n",
    ")"
   ]
  },
  {
   "cell_type": "markdown",
   "metadata": {
    "tags": []
   },
   "source": [
    "## Read Config from SSM Parameter Store\n",
    "\n",
    "Now, you can use the Config.read() method to readthe config object from SSM Parameter store. The ``parameter_with_encryption=True|False`` argument has to be specified to use SSM backend. If you want to read the all-in-one config object, then you could use ``parameter_name=\"${parameter_name}\"``. If you want to read the config object of specific environment, you could use ``parameter=\"${parameter_name}-${env_name}\"``.\n",
    "\n",
    "In the first example, we are the human developer reading the all-in-one config object. So it should have access to all environment."
   ]
  },
  {
   "cell_type": "code",
   "execution_count": 10,
   "metadata": {
    "tags": []
   },
   "outputs": [
    {
     "name": "stdout",
     "output_type": "stream",
     "text": [
      "all in one config object:\n"
     ]
    },
    {
     "data": {
      "text/html": [
       "<pre style=\"white-space:pre;overflow-x:auto;line-height:normal;font-family:Menlo,'DejaVu Sans Mono',consolas,'Courier New',monospace\"><span style=\"color: #800080; text-decoration-color: #800080; font-weight: bold\">Config</span><span style=\"font-weight: bold\">(</span>\n",
       "    <span style=\"color: #808000; text-decoration-color: #808000\">data</span>=<span style=\"font-weight: bold\">{</span>\n",
       "        <span style=\"color: #008000; text-decoration-color: #008000\">'_shared'</span>: <span style=\"font-weight: bold\">{</span><span style=\"color: #008000; text-decoration-color: #008000\">'*.project_name'</span>: <span style=\"color: #008000; text-decoration-color: #008000\">'my_project'</span><span style=\"font-weight: bold\">}</span>,\n",
       "        <span style=\"color: #008000; text-decoration-color: #008000\">'dev'</span>: <span style=\"font-weight: bold\">{</span><span style=\"color: #008000; text-decoration-color: #008000\">'username'</span>: <span style=\"color: #008000; text-decoration-color: #008000\">'dev.user.v1'</span><span style=\"font-weight: bold\">}</span>,\n",
       "        <span style=\"color: #008000; text-decoration-color: #008000\">'prod'</span>: <span style=\"font-weight: bold\">{</span><span style=\"color: #008000; text-decoration-color: #008000\">'username'</span>: <span style=\"color: #008000; text-decoration-color: #008000\">'prod.user.v1'</span><span style=\"font-weight: bold\">}</span>\n",
       "    <span style=\"font-weight: bold\">}</span>,\n",
       "    <span style=\"color: #808000; text-decoration-color: #808000\">secret_data</span>=<span style=\"font-weight: bold\">{</span><span style=\"color: #008000; text-decoration-color: #008000\">'_shared'</span>: <span style=\"font-weight: bold\">{}</span>, <span style=\"color: #008000; text-decoration-color: #008000\">'dev'</span>: <span style=\"font-weight: bold\">{</span><span style=\"color: #008000; text-decoration-color: #008000\">'password'</span>: <span style=\"color: #008000; text-decoration-color: #008000\">'dev.password'</span><span style=\"font-weight: bold\">}</span>, <span style=\"color: #008000; text-decoration-color: #008000\">'prod'</span>: <span style=\"font-weight: bold\">{</span><span style=\"color: #008000; text-decoration-color: #008000\">'password'</span>: <span style=\"color: #008000; text-decoration-color: #008000\">'prod.password'</span><span style=\"font-weight: bold\">}}</span>,\n",
       "    <span style=\"color: #808000; text-decoration-color: #808000\">Env</span>=<span style=\"font-weight: bold\">&lt;</span><span style=\"color: #ff00ff; text-decoration-color: #ff00ff; font-weight: bold\">class</span><span style=\"color: #000000; text-decoration-color: #000000\"> </span><span style=\"color: #008000; text-decoration-color: #008000\">'__main__.Env'</span><span style=\"color: #000000; text-decoration-color: #000000\">&gt;,</span>\n",
       "<span style=\"color: #000000; text-decoration-color: #000000\">    </span><span style=\"color: #808000; text-decoration-color: #808000\">EnvEnum</span><span style=\"color: #000000; text-decoration-color: #000000\">=&lt;enum </span><span style=\"color: #008000; text-decoration-color: #008000\">'EnvEnum'</span><span style=\"font-weight: bold\">&gt;</span>,\n",
       "    <span style=\"color: #808000; text-decoration-color: #808000\">version</span>=<span style=\"color: #008000; text-decoration-color: #008000\">'1'</span>,\n",
       "    <span style=\"color: #808000; text-decoration-color: #808000\">_applied_data</span>=<span style=\"font-weight: bold\">{</span>\n",
       "        <span style=\"color: #008000; text-decoration-color: #008000\">'dev'</span>: <span style=\"font-weight: bold\">{</span><span style=\"color: #008000; text-decoration-color: #008000\">'username'</span>: <span style=\"color: #008000; text-decoration-color: #008000\">'dev.user.v1'</span>, <span style=\"color: #008000; text-decoration-color: #008000\">'project_name'</span>: <span style=\"color: #008000; text-decoration-color: #008000\">'my_project'</span><span style=\"font-weight: bold\">}</span>,\n",
       "        <span style=\"color: #008000; text-decoration-color: #008000\">'prod'</span>: <span style=\"font-weight: bold\">{</span><span style=\"color: #008000; text-decoration-color: #008000\">'username'</span>: <span style=\"color: #008000; text-decoration-color: #008000\">'prod.user.v1'</span>, <span style=\"color: #008000; text-decoration-color: #008000\">'project_name'</span>: <span style=\"color: #008000; text-decoration-color: #008000\">'my_project'</span><span style=\"font-weight: bold\">}</span>\n",
       "    <span style=\"font-weight: bold\">}</span>,\n",
       "    <span style=\"color: #808000; text-decoration-color: #808000\">_applied_secret_data</span>=<span style=\"font-weight: bold\">{</span><span style=\"color: #008000; text-decoration-color: #008000\">'dev'</span>: <span style=\"font-weight: bold\">{</span><span style=\"color: #008000; text-decoration-color: #008000\">'password'</span>: <span style=\"color: #008000; text-decoration-color: #008000\">'dev.password'</span><span style=\"font-weight: bold\">}</span>, <span style=\"color: #008000; text-decoration-color: #008000\">'prod'</span>: <span style=\"font-weight: bold\">{</span><span style=\"color: #008000; text-decoration-color: #008000\">'password'</span>: <span style=\"color: #008000; text-decoration-color: #008000\">'prod.password'</span><span style=\"font-weight: bold\">}}</span>,\n",
       "    <span style=\"color: #808000; text-decoration-color: #808000\">_merged</span>=<span style=\"font-weight: bold\">{</span>\n",
       "        <span style=\"color: #008000; text-decoration-color: #008000\">'dev'</span>: <span style=\"font-weight: bold\">{</span><span style=\"color: #008000; text-decoration-color: #008000\">'username'</span>: <span style=\"color: #008000; text-decoration-color: #008000\">'dev.user.v1'</span>, <span style=\"color: #008000; text-decoration-color: #008000\">'project_name'</span>: <span style=\"color: #008000; text-decoration-color: #008000\">'my_project'</span>, <span style=\"color: #008000; text-decoration-color: #008000\">'password'</span>: <span style=\"color: #008000; text-decoration-color: #008000\">'dev.password'</span><span style=\"font-weight: bold\">}</span>,\n",
       "        <span style=\"color: #008000; text-decoration-color: #008000\">'prod'</span>: <span style=\"font-weight: bold\">{</span><span style=\"color: #008000; text-decoration-color: #008000\">'username'</span>: <span style=\"color: #008000; text-decoration-color: #008000\">'prod.user.v1'</span>, <span style=\"color: #008000; text-decoration-color: #008000\">'project_name'</span>: <span style=\"color: #008000; text-decoration-color: #008000\">'my_project'</span>, <span style=\"color: #008000; text-decoration-color: #008000\">'password'</span>: <span style=\"color: #008000; text-decoration-color: #008000\">'prod.password'</span><span style=\"font-weight: bold\">}</span>\n",
       "    <span style=\"font-weight: bold\">}</span>\n",
       "<span style=\"font-weight: bold\">)</span>\n",
       "</pre>\n"
      ],
      "text/plain": [
       "\u001b[1;35mConfig\u001b[0m\u001b[1m(\u001b[0m\n",
       "    \u001b[33mdata\u001b[0m=\u001b[1m{\u001b[0m\n",
       "        \u001b[32m'_shared'\u001b[0m: \u001b[1m{\u001b[0m\u001b[32m'*.project_name'\u001b[0m: \u001b[32m'my_project'\u001b[0m\u001b[1m}\u001b[0m,\n",
       "        \u001b[32m'dev'\u001b[0m: \u001b[1m{\u001b[0m\u001b[32m'username'\u001b[0m: \u001b[32m'dev.user.v1'\u001b[0m\u001b[1m}\u001b[0m,\n",
       "        \u001b[32m'prod'\u001b[0m: \u001b[1m{\u001b[0m\u001b[32m'username'\u001b[0m: \u001b[32m'prod.user.v1'\u001b[0m\u001b[1m}\u001b[0m\n",
       "    \u001b[1m}\u001b[0m,\n",
       "    \u001b[33msecret_data\u001b[0m=\u001b[1m{\u001b[0m\u001b[32m'_shared'\u001b[0m: \u001b[1m{\u001b[0m\u001b[1m}\u001b[0m, \u001b[32m'dev'\u001b[0m: \u001b[1m{\u001b[0m\u001b[32m'password'\u001b[0m: \u001b[32m'dev.password'\u001b[0m\u001b[1m}\u001b[0m, \u001b[32m'prod'\u001b[0m: \u001b[1m{\u001b[0m\u001b[32m'password'\u001b[0m: \u001b[32m'prod.password'\u001b[0m\u001b[1m}\u001b[0m\u001b[1m}\u001b[0m,\n",
       "    \u001b[33mEnv\u001b[0m=\u001b[1m<\u001b[0m\u001b[1;95mclass\u001b[0m\u001b[39m \u001b[0m\u001b[32m'__main__.Env'\u001b[0m\u001b[39m>,\u001b[0m\n",
       "\u001b[39m    \u001b[0m\u001b[33mEnvEnum\u001b[0m\u001b[39m=<enum \u001b[0m\u001b[32m'EnvEnum'\u001b[0m\u001b[1m>\u001b[0m,\n",
       "    \u001b[33mversion\u001b[0m=\u001b[32m'1'\u001b[0m,\n",
       "    \u001b[33m_applied_data\u001b[0m=\u001b[1m{\u001b[0m\n",
       "        \u001b[32m'dev'\u001b[0m: \u001b[1m{\u001b[0m\u001b[32m'username'\u001b[0m: \u001b[32m'dev.user.v1'\u001b[0m, \u001b[32m'project_name'\u001b[0m: \u001b[32m'my_project'\u001b[0m\u001b[1m}\u001b[0m,\n",
       "        \u001b[32m'prod'\u001b[0m: \u001b[1m{\u001b[0m\u001b[32m'username'\u001b[0m: \u001b[32m'prod.user.v1'\u001b[0m, \u001b[32m'project_name'\u001b[0m: \u001b[32m'my_project'\u001b[0m\u001b[1m}\u001b[0m\n",
       "    \u001b[1m}\u001b[0m,\n",
       "    \u001b[33m_applied_secret_data\u001b[0m=\u001b[1m{\u001b[0m\u001b[32m'dev'\u001b[0m: \u001b[1m{\u001b[0m\u001b[32m'password'\u001b[0m: \u001b[32m'dev.password'\u001b[0m\u001b[1m}\u001b[0m, \u001b[32m'prod'\u001b[0m: \u001b[1m{\u001b[0m\u001b[32m'password'\u001b[0m: \u001b[32m'prod.password'\u001b[0m\u001b[1m}\u001b[0m\u001b[1m}\u001b[0m,\n",
       "    \u001b[33m_merged\u001b[0m=\u001b[1m{\u001b[0m\n",
       "        \u001b[32m'dev'\u001b[0m: \u001b[1m{\u001b[0m\u001b[32m'username'\u001b[0m: \u001b[32m'dev.user.v1'\u001b[0m, \u001b[32m'project_name'\u001b[0m: \u001b[32m'my_project'\u001b[0m, \u001b[32m'password'\u001b[0m: \u001b[32m'dev.password'\u001b[0m\u001b[1m}\u001b[0m,\n",
       "        \u001b[32m'prod'\u001b[0m: \u001b[1m{\u001b[0m\u001b[32m'username'\u001b[0m: \u001b[32m'prod.user.v1'\u001b[0m, \u001b[32m'project_name'\u001b[0m: \u001b[32m'my_project'\u001b[0m, \u001b[32m'password'\u001b[0m: \u001b[32m'prod.password'\u001b[0m\u001b[1m}\u001b[0m\n",
       "    \u001b[1m}\u001b[0m\n",
       "\u001b[1m)\u001b[0m\n"
      ]
     },
     "metadata": {},
     "output_type": "display_data"
    }
   ],
   "source": [
    "config = Config.read(\n",
    "    env_class=Env,\n",
    "    env_enum_class=EnvEnum,\n",
    "    bsm=bsm,\n",
    "    parameter_name=\"my_project\",\n",
    "    parameter_with_encryption=True,\n",
    ")\n",
    "print(\"all in one config object:\")\n",
    "rprint(config)"
   ]
  },
  {
   "cell_type": "markdown",
   "metadata": {},
   "source": [
    "In this example, we are the machine application reading the ``dev`` environment config object. We should not be able to access ``prod`` environment config data."
   ]
  },
  {
   "cell_type": "code",
   "execution_count": 11,
   "metadata": {
    "tags": []
   },
   "outputs": [
    {
     "name": "stdout",
     "output_type": "stream",
     "text": [
      "dev config object:\n"
     ]
    },
    {
     "data": {
      "text/html": [
       "<pre style=\"white-space:pre;overflow-x:auto;line-height:normal;font-family:Menlo,'DejaVu Sans Mono',consolas,'Courier New',monospace\"><span style=\"color: #800080; text-decoration-color: #800080; font-weight: bold\">Config</span><span style=\"font-weight: bold\">(</span>\n",
       "    <span style=\"color: #808000; text-decoration-color: #808000\">data</span>=<span style=\"font-weight: bold\">{</span><span style=\"color: #008000; text-decoration-color: #008000\">'_shared'</span>: <span style=\"font-weight: bold\">{</span><span style=\"color: #008000; text-decoration-color: #008000\">'*.project_name'</span>: <span style=\"color: #008000; text-decoration-color: #008000\">'my_project'</span><span style=\"font-weight: bold\">}</span>, <span style=\"color: #008000; text-decoration-color: #008000\">'dev'</span>: <span style=\"font-weight: bold\">{</span><span style=\"color: #008000; text-decoration-color: #008000\">'username'</span>: <span style=\"color: #008000; text-decoration-color: #008000\">'dev.user.v1'</span><span style=\"font-weight: bold\">}}</span>,\n",
       "    <span style=\"color: #808000; text-decoration-color: #808000\">secret_data</span>=<span style=\"font-weight: bold\">{</span><span style=\"color: #008000; text-decoration-color: #008000\">'_shared'</span>: <span style=\"font-weight: bold\">{}</span>, <span style=\"color: #008000; text-decoration-color: #008000\">'dev'</span>: <span style=\"font-weight: bold\">{</span><span style=\"color: #008000; text-decoration-color: #008000\">'password'</span>: <span style=\"color: #008000; text-decoration-color: #008000\">'dev.password'</span><span style=\"font-weight: bold\">}}</span>,\n",
       "    <span style=\"color: #808000; text-decoration-color: #808000\">Env</span>=<span style=\"font-weight: bold\">&lt;</span><span style=\"color: #ff00ff; text-decoration-color: #ff00ff; font-weight: bold\">class</span><span style=\"color: #000000; text-decoration-color: #000000\"> </span><span style=\"color: #008000; text-decoration-color: #008000\">'__main__.Env'</span><span style=\"color: #000000; text-decoration-color: #000000\">&gt;,</span>\n",
       "<span style=\"color: #000000; text-decoration-color: #000000\">    </span><span style=\"color: #808000; text-decoration-color: #808000\">EnvEnum</span><span style=\"color: #000000; text-decoration-color: #000000\">=&lt;enum </span><span style=\"color: #008000; text-decoration-color: #008000\">'EnvEnum'</span><span style=\"font-weight: bold\">&gt;</span>,\n",
       "    <span style=\"color: #808000; text-decoration-color: #808000\">version</span>=<span style=\"color: #008000; text-decoration-color: #008000\">'1'</span>,\n",
       "    <span style=\"color: #808000; text-decoration-color: #808000\">_applied_data</span>=<span style=\"font-weight: bold\">{</span><span style=\"color: #008000; text-decoration-color: #008000\">'dev'</span>: <span style=\"font-weight: bold\">{</span><span style=\"color: #008000; text-decoration-color: #008000\">'username'</span>: <span style=\"color: #008000; text-decoration-color: #008000\">'dev.user.v1'</span>, <span style=\"color: #008000; text-decoration-color: #008000\">'project_name'</span>: <span style=\"color: #008000; text-decoration-color: #008000\">'my_project'</span><span style=\"font-weight: bold\">}}</span>,\n",
       "    <span style=\"color: #808000; text-decoration-color: #808000\">_applied_secret_data</span>=<span style=\"font-weight: bold\">{</span><span style=\"color: #008000; text-decoration-color: #008000\">'dev'</span>: <span style=\"font-weight: bold\">{</span><span style=\"color: #008000; text-decoration-color: #008000\">'password'</span>: <span style=\"color: #008000; text-decoration-color: #008000\">'dev.password'</span><span style=\"font-weight: bold\">}}</span>,\n",
       "    <span style=\"color: #808000; text-decoration-color: #808000\">_merged</span>=<span style=\"font-weight: bold\">{</span><span style=\"color: #008000; text-decoration-color: #008000\">'dev'</span>: <span style=\"font-weight: bold\">{</span><span style=\"color: #008000; text-decoration-color: #008000\">'username'</span>: <span style=\"color: #008000; text-decoration-color: #008000\">'dev.user.v1'</span>, <span style=\"color: #008000; text-decoration-color: #008000\">'project_name'</span>: <span style=\"color: #008000; text-decoration-color: #008000\">'my_project'</span>, <span style=\"color: #008000; text-decoration-color: #008000\">'password'</span>: <span style=\"color: #008000; text-decoration-color: #008000\">'dev.password'</span><span style=\"font-weight: bold\">}}</span>\n",
       "<span style=\"font-weight: bold\">)</span>\n",
       "</pre>\n"
      ],
      "text/plain": [
       "\u001b[1;35mConfig\u001b[0m\u001b[1m(\u001b[0m\n",
       "    \u001b[33mdata\u001b[0m=\u001b[1m{\u001b[0m\u001b[32m'_shared'\u001b[0m: \u001b[1m{\u001b[0m\u001b[32m'*.project_name'\u001b[0m: \u001b[32m'my_project'\u001b[0m\u001b[1m}\u001b[0m, \u001b[32m'dev'\u001b[0m: \u001b[1m{\u001b[0m\u001b[32m'username'\u001b[0m: \u001b[32m'dev.user.v1'\u001b[0m\u001b[1m}\u001b[0m\u001b[1m}\u001b[0m,\n",
       "    \u001b[33msecret_data\u001b[0m=\u001b[1m{\u001b[0m\u001b[32m'_shared'\u001b[0m: \u001b[1m{\u001b[0m\u001b[1m}\u001b[0m, \u001b[32m'dev'\u001b[0m: \u001b[1m{\u001b[0m\u001b[32m'password'\u001b[0m: \u001b[32m'dev.password'\u001b[0m\u001b[1m}\u001b[0m\u001b[1m}\u001b[0m,\n",
       "    \u001b[33mEnv\u001b[0m=\u001b[1m<\u001b[0m\u001b[1;95mclass\u001b[0m\u001b[39m \u001b[0m\u001b[32m'__main__.Env'\u001b[0m\u001b[39m>,\u001b[0m\n",
       "\u001b[39m    \u001b[0m\u001b[33mEnvEnum\u001b[0m\u001b[39m=<enum \u001b[0m\u001b[32m'EnvEnum'\u001b[0m\u001b[1m>\u001b[0m,\n",
       "    \u001b[33mversion\u001b[0m=\u001b[32m'1'\u001b[0m,\n",
       "    \u001b[33m_applied_data\u001b[0m=\u001b[1m{\u001b[0m\u001b[32m'dev'\u001b[0m: \u001b[1m{\u001b[0m\u001b[32m'username'\u001b[0m: \u001b[32m'dev.user.v1'\u001b[0m, \u001b[32m'project_name'\u001b[0m: \u001b[32m'my_project'\u001b[0m\u001b[1m}\u001b[0m\u001b[1m}\u001b[0m,\n",
       "    \u001b[33m_applied_secret_data\u001b[0m=\u001b[1m{\u001b[0m\u001b[32m'dev'\u001b[0m: \u001b[1m{\u001b[0m\u001b[32m'password'\u001b[0m: \u001b[32m'dev.password'\u001b[0m\u001b[1m}\u001b[0m\u001b[1m}\u001b[0m,\n",
       "    \u001b[33m_merged\u001b[0m=\u001b[1m{\u001b[0m\u001b[32m'dev'\u001b[0m: \u001b[1m{\u001b[0m\u001b[32m'username'\u001b[0m: \u001b[32m'dev.user.v1'\u001b[0m, \u001b[32m'project_name'\u001b[0m: \u001b[32m'my_project'\u001b[0m, \u001b[32m'password'\u001b[0m: \u001b[32m'dev.password'\u001b[0m\u001b[1m}\u001b[0m\u001b[1m}\u001b[0m\n",
       "\u001b[1m)\u001b[0m\n"
      ]
     },
     "metadata": {},
     "output_type": "display_data"
    }
   ],
   "source": [
    "config = Config.read(\n",
    "    env_class=Env,\n",
    "    env_enum_class=EnvEnum,\n",
    "    bsm=bsm,\n",
    "    parameter_name=\"my_project-dev\",\n",
    "    parameter_with_encryption=True,\n",
    ")\n",
    "print(\"dev config object:\")\n",
    "rprint(config)"
   ]
  },
  {
   "cell_type": "code",
   "execution_count": 16,
   "metadata": {
    "tags": []
   },
   "outputs": [
    {
     "ename": "KeyError",
     "evalue": "'prod'",
     "output_type": "error",
     "traceback": [
      "\u001b[0;31m---------------------------------------------------------------------------\u001b[0m",
      "\u001b[0;31mKeyError\u001b[0m                                  Traceback (most recent call last)",
      "Cell \u001b[0;32mIn[16], line 1\u001b[0m\n\u001b[0;32m----> 1\u001b[0m \u001b[43mconfig\u001b[49m\u001b[38;5;241;43m.\u001b[39;49m\u001b[43mprod\u001b[49m\n",
      "Cell \u001b[0;32mIn[3], line 59\u001b[0m, in \u001b[0;36mConfig.prod\u001b[0;34m(self)\u001b[0m\n\u001b[1;32m     54\u001b[0m \u001b[38;5;129m@property\u001b[39m\n\u001b[1;32m     55\u001b[0m \u001b[38;5;28;01mdef\u001b[39;00m \u001b[38;5;21mprod\u001b[39m(\u001b[38;5;28mself\u001b[39m) \u001b[38;5;241m-\u001b[39m\u001b[38;5;241m>\u001b[39m Env:\n\u001b[1;32m     56\u001b[0m \u001b[38;5;250m    \u001b[39m\u001b[38;5;124;03m\"\"\"\u001b[39;00m\n\u001b[1;32m     57\u001b[0m \u001b[38;5;124;03m    A shortcut to get the dev environment config object.\u001b[39;00m\n\u001b[1;32m     58\u001b[0m \u001b[38;5;124;03m    \"\"\"\u001b[39;00m\n\u001b[0;32m---> 59\u001b[0m     \u001b[38;5;28;01mreturn\u001b[39;00m \u001b[38;5;28;43mself\u001b[39;49m\u001b[38;5;241;43m.\u001b[39;49m\u001b[43mget_env\u001b[49m\u001b[43m(\u001b[49m\u001b[43mEnvEnum\u001b[49m\u001b[38;5;241;43m.\u001b[39;49m\u001b[43mprod\u001b[49m\u001b[43m)\u001b[49m\n",
      "File \u001b[0;32m~/Documents/GitHub/config_patterns-project/config_patterns/patterns/multi_env_json/impl.py:423\u001b[0m, in \u001b[0;36mBaseConfig.get_env\u001b[0;34m(self, env_name)\u001b[0m\n\u001b[1;32m    421\u001b[0m \u001b[38;5;28;01mdef\u001b[39;00m \u001b[38;5;21mget_env\u001b[39m(\u001b[38;5;28mself\u001b[39m, env_name: T\u001b[38;5;241m.\u001b[39mUnion[\u001b[38;5;28mstr\u001b[39m, BaseEnvEnum]):\n\u001b[1;32m    422\u001b[0m     env_name \u001b[38;5;241m=\u001b[39m \u001b[38;5;28mself\u001b[39m\u001b[38;5;241m.\u001b[39mEnvEnum\u001b[38;5;241m.\u001b[39mensure_str(env_name)\n\u001b[0;32m--> 423\u001b[0m     data \u001b[38;5;241m=\u001b[39m copy\u001b[38;5;241m.\u001b[39mdeepcopy(\u001b[38;5;28;43mself\u001b[39;49m\u001b[38;5;241;43m.\u001b[39;49m\u001b[43m_merged\u001b[49m\u001b[43m[\u001b[49m\u001b[43menv_name\u001b[49m\u001b[43m]\u001b[49m)\n\u001b[1;32m    424\u001b[0m     data[\u001b[38;5;124m\"\u001b[39m\u001b[38;5;124menv_name\u001b[39m\u001b[38;5;124m\"\u001b[39m] \u001b[38;5;241m=\u001b[39m env_name\n\u001b[1;32m    425\u001b[0m     \u001b[38;5;28;01mtry\u001b[39;00m:\n",
      "\u001b[0;31mKeyError\u001b[0m: 'prod'"
     ]
    }
   ],
   "source": [
    "config.prod"
   ]
  },
  {
   "cell_type": "markdown",
   "metadata": {},
   "source": [
    "## Deploy a New Version of Config\n",
    "\n",
    "When you deploy a new version of the config, it creates a new version of the parameter. It is important to note that, [AWS SSM maintains up to 100 versions of a parameter](https://docs.aws.amazon.com/systems-manager/latest/userguide/sysman-paramstore-versions.html). After you have created 100 versions of a parameter, each time you create a new version, the oldest version of the parameter is removed from history to make room for the new version."
   ]
  },
  {
   "cell_type": "code",
   "execution_count": 12,
   "metadata": {
    "tags": []
   },
   "outputs": [
    {
     "data": {
      "text/html": [
       "<pre style=\"white-space:pre;overflow-x:auto;line-height:normal;font-family:Menlo,'DejaVu Sans Mono',consolas,'Courier New',monospace\"><span style=\"color: #800080; text-decoration-color: #800080; font-weight: bold\">Config</span><span style=\"font-weight: bold\">(</span>\n",
       "    <span style=\"color: #808000; text-decoration-color: #808000\">data</span>=<span style=\"font-weight: bold\">{</span>\n",
       "        <span style=\"color: #008000; text-decoration-color: #008000\">'_shared'</span>: <span style=\"font-weight: bold\">{</span><span style=\"color: #008000; text-decoration-color: #008000\">'*.project_name'</span>: <span style=\"color: #008000; text-decoration-color: #008000\">'my_project'</span><span style=\"font-weight: bold\">}</span>,\n",
       "        <span style=\"color: #008000; text-decoration-color: #008000\">'dev'</span>: <span style=\"font-weight: bold\">{</span><span style=\"color: #008000; text-decoration-color: #008000\">'username'</span>: <span style=\"color: #008000; text-decoration-color: #008000\">'dev.user.v2'</span><span style=\"font-weight: bold\">}</span>,\n",
       "        <span style=\"color: #008000; text-decoration-color: #008000\">'prod'</span>: <span style=\"font-weight: bold\">{</span><span style=\"color: #008000; text-decoration-color: #008000\">'username'</span>: <span style=\"color: #008000; text-decoration-color: #008000\">'prod.user.v2'</span><span style=\"font-weight: bold\">}</span>\n",
       "    <span style=\"font-weight: bold\">}</span>,\n",
       "    <span style=\"color: #808000; text-decoration-color: #808000\">secret_data</span>=<span style=\"font-weight: bold\">{</span><span style=\"color: #008000; text-decoration-color: #008000\">'_shared'</span>: <span style=\"font-weight: bold\">{}</span>, <span style=\"color: #008000; text-decoration-color: #008000\">'dev'</span>: <span style=\"font-weight: bold\">{</span><span style=\"color: #008000; text-decoration-color: #008000\">'password'</span>: <span style=\"color: #008000; text-decoration-color: #008000\">'dev.password'</span><span style=\"font-weight: bold\">}</span>, <span style=\"color: #008000; text-decoration-color: #008000\">'prod'</span>: <span style=\"font-weight: bold\">{</span><span style=\"color: #008000; text-decoration-color: #008000\">'password'</span>: <span style=\"color: #008000; text-decoration-color: #008000\">'prod.password'</span><span style=\"font-weight: bold\">}}</span>,\n",
       "    <span style=\"color: #808000; text-decoration-color: #808000\">Env</span>=<span style=\"font-weight: bold\">&lt;</span><span style=\"color: #ff00ff; text-decoration-color: #ff00ff; font-weight: bold\">class</span><span style=\"color: #000000; text-decoration-color: #000000\"> </span><span style=\"color: #008000; text-decoration-color: #008000\">'__main__.Env'</span><span style=\"color: #000000; text-decoration-color: #000000\">&gt;,</span>\n",
       "<span style=\"color: #000000; text-decoration-color: #000000\">    </span><span style=\"color: #808000; text-decoration-color: #808000\">EnvEnum</span><span style=\"color: #000000; text-decoration-color: #000000\">=&lt;enum </span><span style=\"color: #008000; text-decoration-color: #008000\">'EnvEnum'</span><span style=\"font-weight: bold\">&gt;</span>,\n",
       "    <span style=\"color: #808000; text-decoration-color: #808000\">version</span>=<span style=\"color: #008000; text-decoration-color: #008000\">'local'</span>,\n",
       "    <span style=\"color: #808000; text-decoration-color: #808000\">_applied_data</span>=<span style=\"font-weight: bold\">{</span>\n",
       "        <span style=\"color: #008000; text-decoration-color: #008000\">'dev'</span>: <span style=\"font-weight: bold\">{</span><span style=\"color: #008000; text-decoration-color: #008000\">'username'</span>: <span style=\"color: #008000; text-decoration-color: #008000\">'dev.user.v2'</span>, <span style=\"color: #008000; text-decoration-color: #008000\">'project_name'</span>: <span style=\"color: #008000; text-decoration-color: #008000\">'my_project'</span><span style=\"font-weight: bold\">}</span>,\n",
       "        <span style=\"color: #008000; text-decoration-color: #008000\">'prod'</span>: <span style=\"font-weight: bold\">{</span><span style=\"color: #008000; text-decoration-color: #008000\">'username'</span>: <span style=\"color: #008000; text-decoration-color: #008000\">'prod.user.v2'</span>, <span style=\"color: #008000; text-decoration-color: #008000\">'project_name'</span>: <span style=\"color: #008000; text-decoration-color: #008000\">'my_project'</span><span style=\"font-weight: bold\">}</span>\n",
       "    <span style=\"font-weight: bold\">}</span>,\n",
       "    <span style=\"color: #808000; text-decoration-color: #808000\">_applied_secret_data</span>=<span style=\"font-weight: bold\">{</span><span style=\"color: #008000; text-decoration-color: #008000\">'dev'</span>: <span style=\"font-weight: bold\">{</span><span style=\"color: #008000; text-decoration-color: #008000\">'password'</span>: <span style=\"color: #008000; text-decoration-color: #008000\">'dev.password'</span><span style=\"font-weight: bold\">}</span>, <span style=\"color: #008000; text-decoration-color: #008000\">'prod'</span>: <span style=\"font-weight: bold\">{</span><span style=\"color: #008000; text-decoration-color: #008000\">'password'</span>: <span style=\"color: #008000; text-decoration-color: #008000\">'prod.password'</span><span style=\"font-weight: bold\">}}</span>,\n",
       "    <span style=\"color: #808000; text-decoration-color: #808000\">_merged</span>=<span style=\"font-weight: bold\">{</span>\n",
       "        <span style=\"color: #008000; text-decoration-color: #008000\">'dev'</span>: <span style=\"font-weight: bold\">{</span><span style=\"color: #008000; text-decoration-color: #008000\">'username'</span>: <span style=\"color: #008000; text-decoration-color: #008000\">'dev.user.v2'</span>, <span style=\"color: #008000; text-decoration-color: #008000\">'project_name'</span>: <span style=\"color: #008000; text-decoration-color: #008000\">'my_project'</span>, <span style=\"color: #008000; text-decoration-color: #008000\">'password'</span>: <span style=\"color: #008000; text-decoration-color: #008000\">'dev.password'</span><span style=\"font-weight: bold\">}</span>,\n",
       "        <span style=\"color: #008000; text-decoration-color: #008000\">'prod'</span>: <span style=\"font-weight: bold\">{</span><span style=\"color: #008000; text-decoration-color: #008000\">'username'</span>: <span style=\"color: #008000; text-decoration-color: #008000\">'prod.user.v2'</span>, <span style=\"color: #008000; text-decoration-color: #008000\">'project_name'</span>: <span style=\"color: #008000; text-decoration-color: #008000\">'my_project'</span>, <span style=\"color: #008000; text-decoration-color: #008000\">'password'</span>: <span style=\"color: #008000; text-decoration-color: #008000\">'prod.password'</span><span style=\"font-weight: bold\">}</span>\n",
       "    <span style=\"font-weight: bold\">}</span>\n",
       "<span style=\"font-weight: bold\">)</span>\n",
       "</pre>\n"
      ],
      "text/plain": [
       "\u001b[1;35mConfig\u001b[0m\u001b[1m(\u001b[0m\n",
       "    \u001b[33mdata\u001b[0m=\u001b[1m{\u001b[0m\n",
       "        \u001b[32m'_shared'\u001b[0m: \u001b[1m{\u001b[0m\u001b[32m'*.project_name'\u001b[0m: \u001b[32m'my_project'\u001b[0m\u001b[1m}\u001b[0m,\n",
       "        \u001b[32m'dev'\u001b[0m: \u001b[1m{\u001b[0m\u001b[32m'username'\u001b[0m: \u001b[32m'dev.user.v2'\u001b[0m\u001b[1m}\u001b[0m,\n",
       "        \u001b[32m'prod'\u001b[0m: \u001b[1m{\u001b[0m\u001b[32m'username'\u001b[0m: \u001b[32m'prod.user.v2'\u001b[0m\u001b[1m}\u001b[0m\n",
       "    \u001b[1m}\u001b[0m,\n",
       "    \u001b[33msecret_data\u001b[0m=\u001b[1m{\u001b[0m\u001b[32m'_shared'\u001b[0m: \u001b[1m{\u001b[0m\u001b[1m}\u001b[0m, \u001b[32m'dev'\u001b[0m: \u001b[1m{\u001b[0m\u001b[32m'password'\u001b[0m: \u001b[32m'dev.password'\u001b[0m\u001b[1m}\u001b[0m, \u001b[32m'prod'\u001b[0m: \u001b[1m{\u001b[0m\u001b[32m'password'\u001b[0m: \u001b[32m'prod.password'\u001b[0m\u001b[1m}\u001b[0m\u001b[1m}\u001b[0m,\n",
       "    \u001b[33mEnv\u001b[0m=\u001b[1m<\u001b[0m\u001b[1;95mclass\u001b[0m\u001b[39m \u001b[0m\u001b[32m'__main__.Env'\u001b[0m\u001b[39m>,\u001b[0m\n",
       "\u001b[39m    \u001b[0m\u001b[33mEnvEnum\u001b[0m\u001b[39m=<enum \u001b[0m\u001b[32m'EnvEnum'\u001b[0m\u001b[1m>\u001b[0m,\n",
       "    \u001b[33mversion\u001b[0m=\u001b[32m'local'\u001b[0m,\n",
       "    \u001b[33m_applied_data\u001b[0m=\u001b[1m{\u001b[0m\n",
       "        \u001b[32m'dev'\u001b[0m: \u001b[1m{\u001b[0m\u001b[32m'username'\u001b[0m: \u001b[32m'dev.user.v2'\u001b[0m, \u001b[32m'project_name'\u001b[0m: \u001b[32m'my_project'\u001b[0m\u001b[1m}\u001b[0m,\n",
       "        \u001b[32m'prod'\u001b[0m: \u001b[1m{\u001b[0m\u001b[32m'username'\u001b[0m: \u001b[32m'prod.user.v2'\u001b[0m, \u001b[32m'project_name'\u001b[0m: \u001b[32m'my_project'\u001b[0m\u001b[1m}\u001b[0m\n",
       "    \u001b[1m}\u001b[0m,\n",
       "    \u001b[33m_applied_secret_data\u001b[0m=\u001b[1m{\u001b[0m\u001b[32m'dev'\u001b[0m: \u001b[1m{\u001b[0m\u001b[32m'password'\u001b[0m: \u001b[32m'dev.password'\u001b[0m\u001b[1m}\u001b[0m, \u001b[32m'prod'\u001b[0m: \u001b[1m{\u001b[0m\u001b[32m'password'\u001b[0m: \u001b[32m'prod.password'\u001b[0m\u001b[1m}\u001b[0m\u001b[1m}\u001b[0m,\n",
       "    \u001b[33m_merged\u001b[0m=\u001b[1m{\u001b[0m\n",
       "        \u001b[32m'dev'\u001b[0m: \u001b[1m{\u001b[0m\u001b[32m'username'\u001b[0m: \u001b[32m'dev.user.v2'\u001b[0m, \u001b[32m'project_name'\u001b[0m: \u001b[32m'my_project'\u001b[0m, \u001b[32m'password'\u001b[0m: \u001b[32m'dev.password'\u001b[0m\u001b[1m}\u001b[0m,\n",
       "        \u001b[32m'prod'\u001b[0m: \u001b[1m{\u001b[0m\u001b[32m'username'\u001b[0m: \u001b[32m'prod.user.v2'\u001b[0m, \u001b[32m'project_name'\u001b[0m: \u001b[32m'my_project'\u001b[0m, \u001b[32m'password'\u001b[0m: \u001b[32m'prod.password'\u001b[0m\u001b[1m}\u001b[0m\n",
       "    \u001b[1m}\u001b[0m\n",
       "\u001b[1m)\u001b[0m\n"
      ]
     },
     "metadata": {},
     "output_type": "display_data"
    },
    {
     "name": "stdout",
     "output_type": "stream",
     "text": [
      "+----- ⏱ 🟢 Start 'deploy config to SSM parameter' -----------------------------+\n",
      "| \n",
      "| 🚀️ deploy SSM Parameter 'my_project' ...\n",
      "| preview at: https://us-east-1.console.aws.amazon.com/systems-manager/parameters/my_project/description?region=us-east-1&tab=Table\n",
      "| successfully deployed version 2\n",
      "| \n",
      "+----- ⏰ 🟢 End 'deploy config to SSM parameter', elapsed = 0.00 sec -----------+\n",
      "+----- ⏱ 🟢 Start 'deploy config to SSM parameter' -----------------------------+\n",
      "| \n",
      "| 🚀️ deploy SSM Parameter 'my_project-dev' ...\n",
      "| preview at: https://us-east-1.console.aws.amazon.com/systems-manager/parameters/my_project-dev/description?region=us-east-1&tab=Table\n",
      "| successfully deployed version 2\n",
      "| \n",
      "+----- ⏰ 🟢 End 'deploy config to SSM parameter', elapsed = 0.00 sec -----------+\n",
      "+----- ⏱ 🟢 Start 'deploy config to SSM parameter' -----------------------------+\n",
      "| \n",
      "| 🚀️ deploy SSM Parameter 'my_project-prod' ...\n",
      "| preview at: https://us-east-1.console.aws.amazon.com/systems-manager/parameters/my_project-prod/description?region=us-east-1&tab=Table\n",
      "| successfully deployed version 2\n",
      "| \n",
      "+----- ⏰ 🟢 End 'deploy config to SSM parameter', elapsed = 0.00 sec -----------+\n"
     ]
    }
   ],
   "source": [
    "config_v2 = Config.read(\n",
    "    env_class=Env,\n",
    "    env_enum_class=EnvEnum,\n",
    "    path_config=path_config_v2,\n",
    "    path_secret_config=path_config_secret_v2,\n",
    ")\n",
    "rprint(config_v2)\n",
    "\n",
    "deployment_list = config_v2.deploy(\n",
    "    bsm=bsm, \n",
    "    parameter_with_encryption=True,\n",
    "    # these two arguments are optional\n",
    "    tags={\"project_name\": config_v2.project_name},\n",
    "    verbose=True,\n",
    ")"
   ]
  },
  {
   "cell_type": "markdown",
   "metadata": {},
   "source": [
    "## Delete and Clean Up\n",
    "\n",
    "Normally, it is not necessary to delete any config deployments in AWS SSM. [There's no cost using SSM Parameter store in standard tier](https://aws.amazon.com/systems-manager/pricing/). If you accidentally deploy malformed config data, there is no need to delete it. Instead, you can simply create a new deployment with the corrected configuration.\n",
    "\n",
    "To clean up all config objects in all environments, including the historical versions, you can retrieve the all-in-one object and then use the ``config.delete()`` method. By default, when you delete the config, all historical versions is deleted. The ``include_history=True`` is only for S3 Backend, this arugment is ignored if using SSM backend."
   ]
  },
  {
   "cell_type": "code",
   "execution_count": 15,
   "metadata": {
    "tags": []
   },
   "outputs": [
    {
     "name": "stdout",
     "output_type": "stream",
     "text": [
      "+----- ⏱ 🟢 Start 'delete config from SSM parameter' ---------------------------+\n",
      "| \n",
      "| 🗑️ delete SSM Parameter 'my_project' ...\n",
      "| verify at: https://us-east-1.console.aws.amazon.com/systems-manager/parameters/my_project/description?region=us-east-1&tab=Table\n",
      "| done!\n",
      "| \n",
      "+----- ⏰ 🟢 End 'delete config from SSM parameter', elapsed = 0.01 sec ---------+\n",
      "+----- ⏱ 🟢 Start 'delete config from SSM parameter' ---------------------------+\n",
      "| \n",
      "| 🗑️ delete SSM Parameter 'my_project-dev' ...\n",
      "| verify at: https://us-east-1.console.aws.amazon.com/systems-manager/parameters/my_project-dev/description?region=us-east-1&tab=Table\n",
      "| done!\n",
      "| \n",
      "+----- ⏰ 🟢 End 'delete config from SSM parameter', elapsed = 0.00 sec ---------+\n",
      "+----- ⏱ 🟢 Start 'delete config from SSM parameter' ---------------------------+\n",
      "| \n",
      "| 🗑️ delete SSM Parameter 'my_project-prod' ...\n",
      "| verify at: https://us-east-1.console.aws.amazon.com/systems-manager/parameters/my_project-prod/description?region=us-east-1&tab=Table\n",
      "| done!\n",
      "| \n",
      "+----- ⏰ 🟢 End 'delete config from SSM parameter', elapsed = 0.00 sec ---------+\n"
     ]
    }
   ],
   "source": [
    "deployment_list = config_v2.delete(\n",
    "    bsm=bsm,\n",
    "    use_parameter_store=True,\n",
    ")"
   ]
  },
  {
   "cell_type": "markdown",
   "metadata": {},
   "source": [
    "## Summary\n",
    "\n",
    "AWS SSM backend is perfect for config data store. It is my personal favorite backend. However, it has the limit to retain only 100 historical versions. If you want unlimited backup of all historical version, consider using S3 backend along with SSM backend. Please refer to this document:\n",
    "\n",
    "- [Multi Environment Config Management - S3 Backend](https://github.com/MacHu-GWU/config_patterns-project/blob/main/example/multi_env_json/multi_environment_config_with_s3_backend.ipynb)\n"
   ]
  },
  {
   "cell_type": "code",
   "execution_count": null,
   "metadata": {},
   "outputs": [],
   "source": []
  }
 ],
 "metadata": {
  "kernelspec": {
   "display_name": "Python 3 (ipykernel)",
   "language": "python",
   "name": "python3"
  },
  "language_info": {
   "codemirror_mode": {
    "name": "ipython",
    "version": 3
   },
   "file_extension": ".py",
   "mimetype": "text/x-python",
   "name": "python",
   "nbconvert_exporter": "python",
   "pygments_lexer": "ipython3",
   "version": "3.8.11"
  },
  "toc-autonumbering": true
 },
 "nbformat": 4,
 "nbformat_minor": 4
}
