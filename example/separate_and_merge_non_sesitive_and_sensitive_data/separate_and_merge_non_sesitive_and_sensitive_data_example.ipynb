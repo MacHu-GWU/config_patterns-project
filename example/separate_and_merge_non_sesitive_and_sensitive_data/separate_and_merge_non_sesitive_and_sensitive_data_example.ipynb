{
 "cells": [
  {
   "cell_type": "markdown",
   "source": [
    "# Separate and Merge Non-Sensitive Data and Secret Data\n",
    "\n",
    "You should not check-in sensitive config data like database password into Git. Usually, developer stores non-sensitive and sensitive config data separately. ``config_pattern`` provides a feature to let you declare your non-sensitive and sensitive config data in a similar structure and merge them efficiently.\n",
    "\n",
    "In the following example, one config data includes the non-sensitive ``username``, and another secret config data includes the sensitive ``password``. The ``merge_key_value`` method combines them into single config data.\n"
   ],
   "metadata": {
    "collapsed": false
   }
  },
  {
   "cell_type": "code",
   "execution_count": 1,
   "outputs": [],
   "source": [
    "import json\n",
    "from rich import print as rprint\n",
    "\n",
    "def jprint(data: dict):\n",
    "    rprint(json.dumps(data, indent=4))"
   ],
   "metadata": {
    "collapsed": false,
    "ExecuteTime": {
     "start_time": "2023-05-31T00:14:16.265586Z",
     "end_time": "2023-05-31T00:14:16.269653Z"
    }
   }
  },
  {
   "cell_type": "code",
   "execution_count": 2,
   "outputs": [
    {
     "name": "stdout",
     "output_type": "stream",
     "text": [
      "merged data:\n"
     ]
    },
    {
     "data": {
      "text/plain": "\u001B[1m{\u001B[0m\n    \u001B[32m'dev'\u001B[0m: \u001B[1m{\u001B[0m\u001B[32m'username'\u001B[0m: \u001B[32m'dev.user'\u001B[0m, \u001B[32m'password'\u001B[0m: \u001B[32m'dev.password'\u001B[0m\u001B[1m}\u001B[0m,\n    \u001B[32m'prod'\u001B[0m: \u001B[1m{\u001B[0m\u001B[32m'username'\u001B[0m: \u001B[32m'prod.user'\u001B[0m, \u001B[32m'password'\u001B[0m: \u001B[32m'prod.password'\u001B[0m\u001B[1m}\u001B[0m\n\u001B[1m}\u001B[0m\n",
      "text/html": "<pre style=\"white-space:pre;overflow-x:auto;line-height:normal;font-family:Menlo,'DejaVu Sans Mono',consolas,'Courier New',monospace\"><span style=\"font-weight: bold\">{</span>\n    <span style=\"color: #008000; text-decoration-color: #008000\">'dev'</span>: <span style=\"font-weight: bold\">{</span><span style=\"color: #008000; text-decoration-color: #008000\">'username'</span>: <span style=\"color: #008000; text-decoration-color: #008000\">'dev.user'</span>, <span style=\"color: #008000; text-decoration-color: #008000\">'password'</span>: <span style=\"color: #008000; text-decoration-color: #008000\">'dev.password'</span><span style=\"font-weight: bold\">}</span>,\n    <span style=\"color: #008000; text-decoration-color: #008000\">'prod'</span>: <span style=\"font-weight: bold\">{</span><span style=\"color: #008000; text-decoration-color: #008000\">'username'</span>: <span style=\"color: #008000; text-decoration-color: #008000\">'prod.user'</span>, <span style=\"color: #008000; text-decoration-color: #008000\">'password'</span>: <span style=\"color: #008000; text-decoration-color: #008000\">'prod.password'</span><span style=\"font-weight: bold\">}</span>\n<span style=\"font-weight: bold\">}</span>\n</pre>\n"
     },
     "metadata": {},
     "output_type": "display_data"
    }
   ],
   "source": [
    "from config_patterns.patterns.merge_key_value import merge_key_value\n",
    "\n",
    "config_data = {\n",
    "    \"dev\": {\"username\": \"dev.user\"},\n",
    "    \"prod\": {\"username\": \"prod.user\"},\n",
    "}\n",
    "secret_config_data = {\n",
    "    \"dev\": {\"password\": \"dev.password\"},\n",
    "    \"prod\": {\"password\": \"prod.password\"},\n",
    "}\n",
    "\n",
    "merged = merge_key_value(config_data, secret_config_data)\n",
    "print(\"merged data:\")\n",
    "rprint(merged)"
   ],
   "metadata": {
    "collapsed": false,
    "ExecuteTime": {
     "start_time": "2023-05-31T00:14:16.271334Z",
     "end_time": "2023-05-31T00:14:16.319137Z"
    }
   }
  },
  {
   "cell_type": "markdown",
   "source": [
    "``merge_key_value`` works for list of object too. But you have to ensure that the schema and number of objects matches."
   ],
   "metadata": {
    "collapsed": false
   }
  },
  {
   "cell_type": "code",
   "execution_count": 3,
   "outputs": [
    {
     "name": "stdout",
     "output_type": "stream",
     "text": [
      "merged data:\n"
     ]
    },
    {
     "data": {
      "text/plain": "\u001B[1m{\u001B[0m\n    \u001B[32m'dev'\u001B[0m: \u001B[1m[\u001B[0m\n        \u001B[1m{\u001B[0m\u001B[32m'username'\u001B[0m: \u001B[32m'dev.user1'\u001B[0m, \u001B[32m'password'\u001B[0m: \u001B[32m'dev.password1'\u001B[0m\u001B[1m}\u001B[0m,\n        \u001B[1m{\u001B[0m\u001B[32m'username'\u001B[0m: \u001B[32m'dev.user2'\u001B[0m, \u001B[32m'password'\u001B[0m: \u001B[32m'dev.password2'\u001B[0m\u001B[1m}\u001B[0m\n    \u001B[1m]\u001B[0m,\n    \u001B[32m'prod'\u001B[0m: \u001B[1m[\u001B[0m\u001B[1m{\u001B[0m\u001B[32m'username'\u001B[0m: \u001B[32m'prod.user1'\u001B[0m, \u001B[32m'password'\u001B[0m: \u001B[32m'prod.password1'\u001B[0m\u001B[1m}\u001B[0m\u001B[1m]\u001B[0m\n\u001B[1m}\u001B[0m\n",
      "text/html": "<pre style=\"white-space:pre;overflow-x:auto;line-height:normal;font-family:Menlo,'DejaVu Sans Mono',consolas,'Courier New',monospace\"><span style=\"font-weight: bold\">{</span>\n    <span style=\"color: #008000; text-decoration-color: #008000\">'dev'</span>: <span style=\"font-weight: bold\">[</span>\n        <span style=\"font-weight: bold\">{</span><span style=\"color: #008000; text-decoration-color: #008000\">'username'</span>: <span style=\"color: #008000; text-decoration-color: #008000\">'dev.user1'</span>, <span style=\"color: #008000; text-decoration-color: #008000\">'password'</span>: <span style=\"color: #008000; text-decoration-color: #008000\">'dev.password1'</span><span style=\"font-weight: bold\">}</span>,\n        <span style=\"font-weight: bold\">{</span><span style=\"color: #008000; text-decoration-color: #008000\">'username'</span>: <span style=\"color: #008000; text-decoration-color: #008000\">'dev.user2'</span>, <span style=\"color: #008000; text-decoration-color: #008000\">'password'</span>: <span style=\"color: #008000; text-decoration-color: #008000\">'dev.password2'</span><span style=\"font-weight: bold\">}</span>\n    <span style=\"font-weight: bold\">]</span>,\n    <span style=\"color: #008000; text-decoration-color: #008000\">'prod'</span>: <span style=\"font-weight: bold\">[{</span><span style=\"color: #008000; text-decoration-color: #008000\">'username'</span>: <span style=\"color: #008000; text-decoration-color: #008000\">'prod.user1'</span>, <span style=\"color: #008000; text-decoration-color: #008000\">'password'</span>: <span style=\"color: #008000; text-decoration-color: #008000\">'prod.password1'</span><span style=\"font-weight: bold\">}]</span>\n<span style=\"font-weight: bold\">}</span>\n</pre>\n"
     },
     "metadata": {},
     "output_type": "display_data"
    }
   ],
   "source": [
    "config_data = {\n",
    "    \"dev\": [\n",
    "        {\"username\": \"dev.user1\"},\n",
    "        {\"username\": \"dev.user2\"},\n",
    "    ],\n",
    "    \"prod\": [\n",
    "        {\"username\": \"prod.user1\"},\n",
    "    ]\n",
    "}\n",
    "secret_config_data = {\n",
    "    \"dev\": [\n",
    "        {\"password\": \"dev.password1\"},\n",
    "        {\"password\": \"dev.password2\"},\n",
    "    ],\n",
    "    \"prod\": [\n",
    "        {\"password\": \"prod.password1\"},\n",
    "    ]\n",
    "}\n",
    "merged = merge_key_value(config_data, secret_config_data)\n",
    "print(\"merged data:\")\n",
    "rprint(merged)"
   ],
   "metadata": {
    "collapsed": false,
    "ExecuteTime": {
     "start_time": "2023-05-31T00:14:16.311381Z",
     "end_time": "2023-05-31T00:14:16.319302Z"
    }
   }
  },
  {
   "cell_type": "markdown",
   "source": [
    "In this example the number objects in ``config_data.dev`` and ``secret_config_data.dev`` doesn't match, so it raises an error:"
   ],
   "metadata": {
    "collapsed": false
   }
  },
  {
   "cell_type": "code",
   "execution_count": 4,
   "outputs": [
    {
     "ename": "ValueError",
     "evalue": "list length mismatch: path = '.dev'",
     "output_type": "error",
     "traceback": [
      "\u001B[0;31m---------------------------------------------------------------------------\u001B[0m",
      "\u001B[0;31mValueError\u001B[0m                                Traceback (most recent call last)",
      "Cell \u001B[0;32mIn[4], line 12\u001B[0m\n\u001B[1;32m      1\u001B[0m config_data \u001B[38;5;241m=\u001B[39m {\n\u001B[1;32m      2\u001B[0m     \u001B[38;5;124m\"\u001B[39m\u001B[38;5;124mdev\u001B[39m\u001B[38;5;124m\"\u001B[39m: [\n\u001B[1;32m      3\u001B[0m         {\u001B[38;5;124m\"\u001B[39m\u001B[38;5;124musername\u001B[39m\u001B[38;5;124m\"\u001B[39m: \u001B[38;5;124m\"\u001B[39m\u001B[38;5;124mdev.user1\u001B[39m\u001B[38;5;124m\"\u001B[39m},\n\u001B[1;32m      4\u001B[0m         {\u001B[38;5;124m\"\u001B[39m\u001B[38;5;124musername\u001B[39m\u001B[38;5;124m\"\u001B[39m: \u001B[38;5;124m\"\u001B[39m\u001B[38;5;124mdev.user2\u001B[39m\u001B[38;5;124m\"\u001B[39m},\n\u001B[1;32m      5\u001B[0m     ],\n\u001B[1;32m      6\u001B[0m }\n\u001B[1;32m      7\u001B[0m secret_config_data \u001B[38;5;241m=\u001B[39m {\n\u001B[1;32m      8\u001B[0m     \u001B[38;5;124m\"\u001B[39m\u001B[38;5;124mdev\u001B[39m\u001B[38;5;124m\"\u001B[39m: [\n\u001B[1;32m      9\u001B[0m         {\u001B[38;5;124m\"\u001B[39m\u001B[38;5;124mpassword\u001B[39m\u001B[38;5;124m\"\u001B[39m: \u001B[38;5;124m\"\u001B[39m\u001B[38;5;124mdev.password1\u001B[39m\u001B[38;5;124m\"\u001B[39m},\n\u001B[1;32m     10\u001B[0m     ],\n\u001B[1;32m     11\u001B[0m }\n\u001B[0;32m---> 12\u001B[0m merged \u001B[38;5;241m=\u001B[39m \u001B[43mmerge_key_value\u001B[49m\u001B[43m(\u001B[49m\u001B[43mconfig_data\u001B[49m\u001B[43m,\u001B[49m\u001B[43m \u001B[49m\u001B[43msecret_config_data\u001B[49m\u001B[43m)\u001B[49m\n\u001B[1;32m     13\u001B[0m \u001B[38;5;28mprint\u001B[39m(\u001B[38;5;124m\"\u001B[39m\u001B[38;5;124mmerged data:\u001B[39m\u001B[38;5;124m\"\u001B[39m)\n\u001B[1;32m     14\u001B[0m rprint(merged)\n",
      "File \u001B[0;32m~/Documents/GitHub/config_patterns-project/config_patterns/patterns/merge_key_value.py:79\u001B[0m, in \u001B[0;36mmerge_key_value\u001B[0;34m(data1, data2, _fullpath)\u001B[0m\n\u001B[1;32m     77\u001B[0m \u001B[38;5;28;01melif\u001B[39;00m \u001B[38;5;28misinstance\u001B[39m(value1, \u001B[38;5;28mlist\u001B[39m) \u001B[38;5;129;01mand\u001B[39;00m \u001B[38;5;28misinstance\u001B[39m(value2, \u001B[38;5;28mlist\u001B[39m):\n\u001B[1;32m     78\u001B[0m     \u001B[38;5;28;01mif\u001B[39;00m \u001B[38;5;28mlen\u001B[39m(value1) \u001B[38;5;241m!=\u001B[39m \u001B[38;5;28mlen\u001B[39m(value2):\n\u001B[0;32m---> 79\u001B[0m         \u001B[38;5;28;01mraise\u001B[39;00m \u001B[38;5;167;01mValueError\u001B[39;00m(\u001B[38;5;124mf\u001B[39m\u001B[38;5;124m\"\u001B[39m\u001B[38;5;124mlist length mismatch: path = \u001B[39m\u001B[38;5;124m'\u001B[39m\u001B[38;5;132;01m{\u001B[39;00m_fullpath\u001B[38;5;132;01m}\u001B[39;00m\u001B[38;5;124m.\u001B[39m\u001B[38;5;132;01m{\u001B[39;00mkey\u001B[38;5;132;01m}\u001B[39;00m\u001B[38;5;124m'\u001B[39m\u001B[38;5;124m\"\u001B[39m)\n\u001B[1;32m     80\u001B[0m     value \u001B[38;5;241m=\u001B[39m \u001B[38;5;28mlist\u001B[39m()\n\u001B[1;32m     81\u001B[0m     \u001B[38;5;28;01mfor\u001B[39;00m item1, item2 \u001B[38;5;129;01min\u001B[39;00m \u001B[38;5;28mzip\u001B[39m(value1, value2):\n",
      "\u001B[0;31mValueError\u001B[0m: list length mismatch: path = '.dev'"
     ]
    }
   ],
   "source": [
    "config_data = {\n",
    "    \"dev\": [\n",
    "        {\"username\": \"dev.user1\"},\n",
    "        {\"username\": \"dev.user2\"},\n",
    "    ],\n",
    "}\n",
    "secret_config_data = {\n",
    "    \"dev\": [\n",
    "        {\"password\": \"dev.password1\"},\n",
    "    ],\n",
    "}\n",
    "merged = merge_key_value(config_data, secret_config_data)\n",
    "print(\"merged data:\")\n",
    "rprint(merged)"
   ],
   "metadata": {
    "collapsed": false
   }
  },
  {
   "cell_type": "markdown",
   "source": [
    "In summary. You should store your non-sensitive and sensitive config data separately and use ``merge_key_value()`` function to merge them before using in your application code."
   ],
   "metadata": {
    "collapsed": false
   }
  },
  {
   "cell_type": "code",
   "execution_count": null,
   "outputs": [],
   "source": [],
   "metadata": {
    "collapsed": false
   }
  }
 ],
 "metadata": {
  "kernelspec": {
   "display_name": "Python 3",
   "language": "python",
   "name": "python3"
  },
  "language_info": {
   "codemirror_mode": {
    "name": "ipython",
    "version": 2
   },
   "file_extension": ".py",
   "mimetype": "text/x-python",
   "name": "python",
   "nbconvert_exporter": "python",
   "pygments_lexer": "ipython2",
   "version": "2.7.6"
  }
 },
 "nbformat": 4,
 "nbformat_minor": 0
}
