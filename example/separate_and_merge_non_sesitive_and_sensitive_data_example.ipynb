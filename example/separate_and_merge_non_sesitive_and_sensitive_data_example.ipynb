{
 "cells": [
  {
   "cell_type": "markdown",
   "metadata": {},
   "source": [
    "# Separate and Merge Non-Sensitive Data and Secret Data\n",
    "\n",
    "[![](https://img.shields.io/badge/STAR_Me_on_GitHub!--None.svg?style=social)](https://github.com/MacHu-GWU/config_patterns-project)\n",
    "[![](https://img.shields.io/pypi/v/config_patterns.svg)](https://pypi.python.org/pypi/config_patterns)\n",
    "[![](https://img.shields.io/badge/Link-Submit_Issue-blue.svg)](https://github.com/MacHu-GWU/config_patterns-project/issues)\n",
    "\n",
    "You should not check-in sensitive config data like database password into Git. Usually, developer stores non-sensitive and sensitive config data separately. ``config_pattern`` provides a feature to let you declare your non-sensitive and sensitive config data in a similar structure and merge them efficiently.\n",
    "\n",
    "In the following example, one config data includes the non-sensitive ``username``, and another secret config data includes the sensitive ``password``. The ``merge_key_value`` method combines them into single config data.\n"
   ]
  },
  {
   "cell_type": "code",
   "execution_count": 1,
   "metadata": {
    "ExecuteTime": {
     "end_time": "2023-05-31T00:14:16.269653Z",
     "start_time": "2023-05-31T00:14:16.265586Z"
    },
    "collapsed": false,
    "jupyter": {
     "outputs_hidden": false
    },
    "tags": []
   },
   "outputs": [],
   "source": [
    "import json\n",
    "from rich import print as rprint\n",
    "\n",
    "def jprint(data: dict):\n",
    "    rprint(json.dumps(data, indent=4))"
   ]
  },
  {
   "cell_type": "code",
   "execution_count": 2,
   "metadata": {
    "ExecuteTime": {
     "end_time": "2023-05-31T00:14:16.319137Z",
     "start_time": "2023-05-31T00:14:16.271334Z"
    },
    "collapsed": false,
    "jupyter": {
     "outputs_hidden": false
    },
    "tags": []
   },
   "outputs": [
    {
     "name": "stdout",
     "output_type": "stream",
     "text": [
      "merged data:\n"
     ]
    },
    {
     "data": {
      "text/html": [
       "<pre style=\"white-space:pre;overflow-x:auto;line-height:normal;font-family:Menlo,'DejaVu Sans Mono',consolas,'Courier New',monospace\"><span style=\"font-weight: bold\">{</span>\n",
       "    <span style=\"color: #008000; text-decoration-color: #008000\">'dev'</span>: <span style=\"font-weight: bold\">{</span><span style=\"color: #008000; text-decoration-color: #008000\">'username'</span>: <span style=\"color: #008000; text-decoration-color: #008000\">'dev.user'</span>, <span style=\"color: #008000; text-decoration-color: #008000\">'password'</span>: <span style=\"color: #008000; text-decoration-color: #008000\">'dev.password'</span><span style=\"font-weight: bold\">}</span>,\n",
       "    <span style=\"color: #008000; text-decoration-color: #008000\">'prod'</span>: <span style=\"font-weight: bold\">{</span><span style=\"color: #008000; text-decoration-color: #008000\">'username'</span>: <span style=\"color: #008000; text-decoration-color: #008000\">'prod.user'</span>, <span style=\"color: #008000; text-decoration-color: #008000\">'password'</span>: <span style=\"color: #008000; text-decoration-color: #008000\">'prod.password'</span><span style=\"font-weight: bold\">}</span>\n",
       "<span style=\"font-weight: bold\">}</span>\n",
       "</pre>\n"
      ],
      "text/plain": [
       "\u001b[1m{\u001b[0m\n",
       "    \u001b[32m'dev'\u001b[0m: \u001b[1m{\u001b[0m\u001b[32m'username'\u001b[0m: \u001b[32m'dev.user'\u001b[0m, \u001b[32m'password'\u001b[0m: \u001b[32m'dev.password'\u001b[0m\u001b[1m}\u001b[0m,\n",
       "    \u001b[32m'prod'\u001b[0m: \u001b[1m{\u001b[0m\u001b[32m'username'\u001b[0m: \u001b[32m'prod.user'\u001b[0m, \u001b[32m'password'\u001b[0m: \u001b[32m'prod.password'\u001b[0m\u001b[1m}\u001b[0m\n",
       "\u001b[1m}\u001b[0m\n"
      ]
     },
     "metadata": {},
     "output_type": "display_data"
    }
   ],
   "source": [
    "from config_patterns.patterns.merge_key_value.api import merge_key_value\n",
    "\n",
    "config_data = {\n",
    "    \"dev\": {\"username\": \"dev.user\"},\n",
    "    \"prod\": {\"username\": \"prod.user\"},\n",
    "}\n",
    "secret_config_data = {\n",
    "    \"dev\": {\"password\": \"dev.password\"},\n",
    "    \"prod\": {\"password\": \"prod.password\"},\n",
    "}\n",
    "\n",
    "merged = merge_key_value(config_data, secret_config_data)\n",
    "print(\"merged data:\")\n",
    "rprint(merged)"
   ]
  },
  {
   "cell_type": "markdown",
   "metadata": {},
   "source": [
    "``merge_key_value`` works for list of object too. But you have to ensure that the schema and number of objects matches."
   ]
  },
  {
   "cell_type": "code",
   "execution_count": 3,
   "metadata": {
    "ExecuteTime": {
     "end_time": "2023-05-31T00:14:16.319302Z",
     "start_time": "2023-05-31T00:14:16.311381Z"
    },
    "collapsed": false,
    "jupyter": {
     "outputs_hidden": false
    },
    "tags": []
   },
   "outputs": [
    {
     "name": "stdout",
     "output_type": "stream",
     "text": [
      "merged data:\n"
     ]
    },
    {
     "data": {
      "text/html": [
       "<pre style=\"white-space:pre;overflow-x:auto;line-height:normal;font-family:Menlo,'DejaVu Sans Mono',consolas,'Courier New',monospace\"><span style=\"font-weight: bold\">{</span>\n",
       "    <span style=\"color: #008000; text-decoration-color: #008000\">'dev'</span>: <span style=\"font-weight: bold\">[</span>\n",
       "        <span style=\"font-weight: bold\">{</span><span style=\"color: #008000; text-decoration-color: #008000\">'username'</span>: <span style=\"color: #008000; text-decoration-color: #008000\">'dev.user1'</span>, <span style=\"color: #008000; text-decoration-color: #008000\">'password'</span>: <span style=\"color: #008000; text-decoration-color: #008000\">'dev.password1'</span><span style=\"font-weight: bold\">}</span>,\n",
       "        <span style=\"font-weight: bold\">{</span><span style=\"color: #008000; text-decoration-color: #008000\">'username'</span>: <span style=\"color: #008000; text-decoration-color: #008000\">'dev.user2'</span>, <span style=\"color: #008000; text-decoration-color: #008000\">'password'</span>: <span style=\"color: #008000; text-decoration-color: #008000\">'dev.password2'</span><span style=\"font-weight: bold\">}</span>\n",
       "    <span style=\"font-weight: bold\">]</span>,\n",
       "    <span style=\"color: #008000; text-decoration-color: #008000\">'prod'</span>: <span style=\"font-weight: bold\">[{</span><span style=\"color: #008000; text-decoration-color: #008000\">'username'</span>: <span style=\"color: #008000; text-decoration-color: #008000\">'prod.user1'</span>, <span style=\"color: #008000; text-decoration-color: #008000\">'password'</span>: <span style=\"color: #008000; text-decoration-color: #008000\">'prod.password1'</span><span style=\"font-weight: bold\">}]</span>\n",
       "<span style=\"font-weight: bold\">}</span>\n",
       "</pre>\n"
      ],
      "text/plain": [
       "\u001b[1m{\u001b[0m\n",
       "    \u001b[32m'dev'\u001b[0m: \u001b[1m[\u001b[0m\n",
       "        \u001b[1m{\u001b[0m\u001b[32m'username'\u001b[0m: \u001b[32m'dev.user1'\u001b[0m, \u001b[32m'password'\u001b[0m: \u001b[32m'dev.password1'\u001b[0m\u001b[1m}\u001b[0m,\n",
       "        \u001b[1m{\u001b[0m\u001b[32m'username'\u001b[0m: \u001b[32m'dev.user2'\u001b[0m, \u001b[32m'password'\u001b[0m: \u001b[32m'dev.password2'\u001b[0m\u001b[1m}\u001b[0m\n",
       "    \u001b[1m]\u001b[0m,\n",
       "    \u001b[32m'prod'\u001b[0m: \u001b[1m[\u001b[0m\u001b[1m{\u001b[0m\u001b[32m'username'\u001b[0m: \u001b[32m'prod.user1'\u001b[0m, \u001b[32m'password'\u001b[0m: \u001b[32m'prod.password1'\u001b[0m\u001b[1m}\u001b[0m\u001b[1m]\u001b[0m\n",
       "\u001b[1m}\u001b[0m\n"
      ]
     },
     "metadata": {},
     "output_type": "display_data"
    }
   ],
   "source": [
    "config_data = {\n",
    "    \"dev\": [\n",
    "        {\"username\": \"dev.user1\"},\n",
    "        {\"username\": \"dev.user2\"},\n",
    "    ],\n",
    "    \"prod\": [\n",
    "        {\"username\": \"prod.user1\"},\n",
    "    ]\n",
    "}\n",
    "secret_config_data = {\n",
    "    \"dev\": [\n",
    "        {\"password\": \"dev.password1\"},\n",
    "        {\"password\": \"dev.password2\"},\n",
    "    ],\n",
    "    \"prod\": [\n",
    "        {\"password\": \"prod.password1\"},\n",
    "    ]\n",
    "}\n",
    "merged = merge_key_value(config_data, secret_config_data)\n",
    "print(\"merged data:\")\n",
    "rprint(merged)"
   ]
  },
  {
   "cell_type": "markdown",
   "metadata": {},
   "source": [
    "In this example the number objects in ``config_data.dev`` and ``secret_config_data.dev`` doesn't match, **so it raises an error**:"
   ]
  },
  {
   "cell_type": "code",
   "execution_count": 4,
   "metadata": {
    "collapsed": false,
    "jupyter": {
     "outputs_hidden": false
    },
    "tags": []
   },
   "outputs": [
    {
     "ename": "ValueError",
     "evalue": "list length mismatch: path = '.dev'",
     "output_type": "error",
     "traceback": [
      "\u001b[0;31m---------------------------------------------------------------------------\u001b[0m",
      "\u001b[0;31mValueError\u001b[0m                                Traceback (most recent call last)",
      "Cell \u001b[0;32mIn[4], line 12\u001b[0m\n\u001b[1;32m      1\u001b[0m config_data \u001b[38;5;241m=\u001b[39m {\n\u001b[1;32m      2\u001b[0m     \u001b[38;5;124m\"\u001b[39m\u001b[38;5;124mdev\u001b[39m\u001b[38;5;124m\"\u001b[39m: [\n\u001b[1;32m      3\u001b[0m         {\u001b[38;5;124m\"\u001b[39m\u001b[38;5;124musername\u001b[39m\u001b[38;5;124m\"\u001b[39m: \u001b[38;5;124m\"\u001b[39m\u001b[38;5;124mdev.user1\u001b[39m\u001b[38;5;124m\"\u001b[39m},\n\u001b[1;32m      4\u001b[0m         {\u001b[38;5;124m\"\u001b[39m\u001b[38;5;124musername\u001b[39m\u001b[38;5;124m\"\u001b[39m: \u001b[38;5;124m\"\u001b[39m\u001b[38;5;124mdev.user2\u001b[39m\u001b[38;5;124m\"\u001b[39m},\n\u001b[1;32m      5\u001b[0m     ],\n\u001b[1;32m      6\u001b[0m }\n\u001b[1;32m      7\u001b[0m secret_config_data \u001b[38;5;241m=\u001b[39m {\n\u001b[1;32m      8\u001b[0m     \u001b[38;5;124m\"\u001b[39m\u001b[38;5;124mdev\u001b[39m\u001b[38;5;124m\"\u001b[39m: [\n\u001b[1;32m      9\u001b[0m         {\u001b[38;5;124m\"\u001b[39m\u001b[38;5;124mpassword\u001b[39m\u001b[38;5;124m\"\u001b[39m: \u001b[38;5;124m\"\u001b[39m\u001b[38;5;124mdev.password1\u001b[39m\u001b[38;5;124m\"\u001b[39m},\n\u001b[1;32m     10\u001b[0m     ],\n\u001b[1;32m     11\u001b[0m }\n\u001b[0;32m---> 12\u001b[0m merged \u001b[38;5;241m=\u001b[39m \u001b[43mmerge_key_value\u001b[49m\u001b[43m(\u001b[49m\u001b[43mconfig_data\u001b[49m\u001b[43m,\u001b[49m\u001b[43m \u001b[49m\u001b[43msecret_config_data\u001b[49m\u001b[43m)\u001b[49m\n\u001b[1;32m     13\u001b[0m \u001b[38;5;28mprint\u001b[39m(\u001b[38;5;124m\"\u001b[39m\u001b[38;5;124mmerged data:\u001b[39m\u001b[38;5;124m\"\u001b[39m)\n\u001b[1;32m     14\u001b[0m rprint(merged)\n",
      "File \u001b[0;32m~/Documents/GitHub/config_patterns-project/config_patterns/patterns/merge_key_value/impl.py:79\u001b[0m, in \u001b[0;36mmerge_key_value\u001b[0;34m(data1, data2, _fullpath)\u001b[0m\n\u001b[1;32m     77\u001b[0m \u001b[38;5;28;01melif\u001b[39;00m \u001b[38;5;28misinstance\u001b[39m(value1, \u001b[38;5;28mlist\u001b[39m) \u001b[38;5;129;01mand\u001b[39;00m \u001b[38;5;28misinstance\u001b[39m(value2, \u001b[38;5;28mlist\u001b[39m):\n\u001b[1;32m     78\u001b[0m     \u001b[38;5;28;01mif\u001b[39;00m \u001b[38;5;28mlen\u001b[39m(value1) \u001b[38;5;241m!=\u001b[39m \u001b[38;5;28mlen\u001b[39m(value2):\n\u001b[0;32m---> 79\u001b[0m         \u001b[38;5;28;01mraise\u001b[39;00m \u001b[38;5;167;01mValueError\u001b[39;00m(\u001b[38;5;124mf\u001b[39m\u001b[38;5;124m\"\u001b[39m\u001b[38;5;124mlist length mismatch: path = \u001b[39m\u001b[38;5;124m'\u001b[39m\u001b[38;5;132;01m{\u001b[39;00m_fullpath\u001b[38;5;132;01m}\u001b[39;00m\u001b[38;5;124m.\u001b[39m\u001b[38;5;132;01m{\u001b[39;00mkey\u001b[38;5;132;01m}\u001b[39;00m\u001b[38;5;124m'\u001b[39m\u001b[38;5;124m\"\u001b[39m)\n\u001b[1;32m     80\u001b[0m     value \u001b[38;5;241m=\u001b[39m \u001b[38;5;28mlist\u001b[39m()\n\u001b[1;32m     81\u001b[0m     \u001b[38;5;28;01mfor\u001b[39;00m item1, item2 \u001b[38;5;129;01min\u001b[39;00m \u001b[38;5;28mzip\u001b[39m(value1, value2):\n",
      "\u001b[0;31mValueError\u001b[0m: list length mismatch: path = '.dev'"
     ]
    }
   ],
   "source": [
    "config_data = {\n",
    "    \"dev\": [\n",
    "        {\"username\": \"dev.user1\"},\n",
    "        {\"username\": \"dev.user2\"},\n",
    "    ],\n",
    "}\n",
    "secret_config_data = {\n",
    "    \"dev\": [\n",
    "        {\"password\": \"dev.password1\"},\n",
    "    ],\n",
    "}\n",
    "merged = merge_key_value(config_data, secret_config_data)\n",
    "print(\"merged data:\")\n",
    "rprint(merged)"
   ]
  },
  {
   "cell_type": "markdown",
   "metadata": {},
   "source": [
    "In summary. You should store your non-sensitive and sensitive config data separately and use ``merge_key_value()`` function to merge them before using in your application code. To see an example using this pattern in real production-ready projects, please refer to:\n",
    "\n",
    "- [Multi Environment Config Management](https://github.com/MacHu-GWU/config_patterns-project/blob/main/example/multi_env_json/multi_environment_config.ipynb)"
   ]
  },
  {
   "cell_type": "code",
   "execution_count": null,
   "metadata": {},
   "outputs": [],
   "source": []
  }
 ],
 "metadata": {
  "kernelspec": {
   "display_name": "Python 3 (ipykernel)",
   "language": "python",
   "name": "python3"
  },
  "language_info": {
   "codemirror_mode": {
    "name": "ipython",
    "version": 3
   },
   "file_extension": ".py",
   "mimetype": "text/x-python",
   "name": "python",
   "nbconvert_exporter": "python",
   "pygments_lexer": "ipython3",
   "version": "3.8.11"
  }
 },
 "nbformat": 4,
 "nbformat_minor": 4
}
